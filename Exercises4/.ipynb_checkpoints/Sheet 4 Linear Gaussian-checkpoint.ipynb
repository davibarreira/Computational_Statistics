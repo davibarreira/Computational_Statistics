{
 "cells": [
  {
   "cell_type": "markdown",
   "metadata": {},
   "source": [
    "# Linear Gaussian"
   ]
  },
  {
   "cell_type": "code",
   "execution_count": 1,
   "metadata": {},
   "outputs": [
    {
     "data": {
      "text/plain": [
       "Plots.PyPlotBackend()"
      ]
     },
     "execution_count": 1,
     "metadata": {},
     "output_type": "execute_result"
    }
   ],
   "source": [
    "using Distributions, StatsPlots, Plots, StatsBase, LinearAlgebra\n",
    "using LaTeXStrings\n",
    "using SymPy\n",
    "using DataFrames\n",
    "pyplot()"
   ]
  },
  {
   "cell_type": "code",
   "execution_count": 20,
   "metadata": {},
   "outputs": [],
   "source": [
    "function LinearGaussian(t=100,ϕ=0.95)\n",
    "    X,Y,Vt,Wt    = zeros(t),zeros(t),zeros(t),zeros(t)\n",
    "    Xo   = rand(Normal(0,1)) # this represents X0\n",
    "    for i = 1:t\n",
    "        Vt[i] = rand(Normal(0,1))\n",
    "        Wt[i] = rand(Normal(0,1))\n",
    "        if i == 1\n",
    "            X[i] = Xo   * ϕ + Vt[i]\n",
    "            Y[i] = X[i] * ϕ + Wt[i]\n",
    "        else\n",
    "            X[i] = X[i-1] * ϕ + Vt[i]\n",
    "            Y[i] = X[i]   * ϕ + Wt[i]\n",
    "        end\n",
    "    end\n",
    "    return (X,Y,Vt,Wt)\n",
    "end\n",
    "sample = LinearGaussian();"
   ]
  },
  {
   "cell_type": "code",
   "execution_count": 19,
   "metadata": {},
   "outputs": [
    {
     "data": {
      "text/plain": [
       "100-element Array{Float64,1}:\n",
       "  1.5494654220029949   \n",
       "  0.1341141519611613   \n",
       "  1.5631356948050803   \n",
       "  0.44655604601878046  \n",
       " -0.24527281675490256  \n",
       "  0.18531656861829746  \n",
       " -0.36474079333298093  \n",
       " -1.384126891305503    \n",
       "  1.440737094234048    \n",
       " -0.7598820258485641   \n",
       "  0.3956318195360659   \n",
       "  0.9566287060081003   \n",
       "  0.3829519278195255   \n",
       "  ⋮                    \n",
       "  1.365479970751063    \n",
       " -2.1420558158756853   \n",
       " -0.7008166772578135   \n",
       "  1.7321355201711492   \n",
       " -1.6350051018992278   \n",
       "  0.5695195432494351   \n",
       " -0.26437531183893004  \n",
       "  0.0034558330015136557\n",
       " -1.7504933737226107   \n",
       "  1.0873746445131705   \n",
       "  0.7225074967936639   \n",
       "  0.18763697638733406  "
      ]
     },
     "execution_count": 19,
     "metadata": {},
     "output_type": "execute_result"
    }
   ],
   "source": []
  }
 ],
 "metadata": {
  "kernelspec": {
   "display_name": "Julia 1.0.5",
   "language": "julia",
   "name": "julia-1.0"
  },
  "language_info": {
   "file_extension": ".jl",
   "mimetype": "application/julia",
   "name": "julia",
   "version": "1.0.5"
  }
 },
 "nbformat": 4,
 "nbformat_minor": 4
}
