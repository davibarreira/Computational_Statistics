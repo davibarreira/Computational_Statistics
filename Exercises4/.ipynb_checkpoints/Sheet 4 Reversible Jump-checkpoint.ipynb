{
 "cells": [
  {
   "cell_type": "markdown",
   "metadata": {},
   "source": [
    "## Reversible Jump"
   ]
  },
  {
   "cell_type": "code",
   "execution_count": 3,
   "metadata": {},
   "outputs": [
    {
     "data": {
      "text/plain": [
       "Plots.PyPlotBackend()"
      ]
     },
     "execution_count": 3,
     "metadata": {},
     "output_type": "execute_result"
    }
   ],
   "source": [
    "using Distributions, StatsBase\n",
    "using Plots\n",
    "pyplot()"
   ]
  },
  {
   "cell_type": "code",
   "execution_count": 6,
   "metadata": {},
   "outputs": [],
   "source": [
    "y = randn(100);"
   ]
  },
  {
   "cell_type": "code",
   "execution_count": 27,
   "metadata": {},
   "outputs": [],
   "source": [
    "m     = 10_00\n",
    "beta  = 0.1\n",
    "K     = zeros(m)\n",
    "theta = zeros(m,2)\n",
    "k0    = 1\n",
    "theta0= rand(Cauchy(),2)\n",
    "\n",
    "for i = 1:m\n",
    "    b = rand()\n",
    "    if b<beta\n",
    "        if K[i] == 1\n",
    "            u = rand(Cauchy)\n",
    "            theta0 = theta[i,:]\n",
    "            log_alpha = -0.5*(theta0'*theta0) + 0.5 * theta0[1]^2 - log(pdf(Cauchy(),theta0[2]))\n",
    "            if log(rand()) < log_alpha\n",
    "                theta[i+1,:] = theta0\n",
    "                K[i+1]     = 2\n",
    "            else\n",
    "                print(log_alpha)\n",
    "                theta[i+1,1] = theta0[1]\n",
    "                K[i+1]     = 1\n",
    "            end\n",
    "        else\n",
    "            theta0[1] = theta[i,1]\n",
    "            u         = theta[i,2]\n",
    "            log_alpha = -0.5*theta0[1]^2 + 0.5 * theta[i,1]^2\n",
    "            if log(rand()) < log_alpha\n",
    "                theta[i+1,:] = theta0\n",
    "                K[i+1]     = K[i]\n",
    "            else\n",
    "                print(log_alpha)\n",
    "                theta[i+1,1] = theta0[1]\n",
    "                K[i+1]     = K[i]\n",
    "            end\n",
    "            \n",
    "        end\n",
    "    end\n",
    "end"
   ]
  },
  {
   "cell_type": "code",
   "execution_count": 22,
   "metadata": {},
   "outputs": [
    {
     "data": {
      "text/plain": [
       "1000-element Array{Float64,1}:\n",
       " 0.0\n",
       " 0.0\n",
       " 0.0\n",
       " 0.0\n",
       " 0.0\n",
       " 0.0\n",
       " 0.0\n",
       " 0.0\n",
       " 0.0\n",
       " 0.0\n",
       " 0.0\n",
       " 0.0\n",
       " 0.0\n",
       " ⋮  \n",
       " 0.0\n",
       " 0.0\n",
       " 0.0\n",
       " 0.0\n",
       " 0.0\n",
       " 0.0\n",
       " 0.0\n",
       " 0.0\n",
       " 0.0\n",
       " 0.0\n",
       " 0.0\n",
       " 0.0"
      ]
     },
     "execution_count": 22,
     "metadata": {},
     "output_type": "execute_result"
    }
   ],
   "source": [
    "K"
   ]
  }
 ],
 "metadata": {
  "kernelspec": {
   "display_name": "Julia 1.0.5",
   "language": "julia",
   "name": "julia-1.0"
  },
  "language_info": {
   "file_extension": ".jl",
   "mimetype": "application/julia",
   "name": "julia",
   "version": "1.0.5"
  }
 },
 "nbformat": 4,
 "nbformat_minor": 4
}
