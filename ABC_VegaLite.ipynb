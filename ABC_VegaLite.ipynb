{
 "cells": [
  {
   "cell_type": "markdown",
   "metadata": {},
   "source": [
    "# Approximate Bayesian Computation"
   ]
  },
  {
   "cell_type": "code",
   "execution_count": 4,
   "metadata": {},
   "outputs": [
    {
     "data": {
      "text/plain": [
       "Plots.PyPlotBackend()"
      ]
     },
     "execution_count": 4,
     "metadata": {},
     "output_type": "execute_result"
    }
   ],
   "source": [
    "using Distributions, StatsPlots, Plots, StatsBase, LinearAlgebra\n",
    "using LaTeXStrings\n",
    "using SymPy\n",
    "using VegaLite\n",
    "using DataFrames\n",
    "pyplot()"
   ]
  },
  {
   "cell_type": "code",
   "execution_count": 5,
   "metadata": {},
   "outputs": [],
   "source": [
    "n, x = 8, 6\n",
    "N = 1000\n",
    "\n",
    "# Sample θ' from prior π(θ)\n",
    "# Generate z from p(.|θ')\n",
    "theta_s = rand(Beta(1,1),N)\n",
    "z       = rand.(Binomial.(n,theta_s))\n",
    "theta_a = theta_s[z .== x];\n",
    "v = collect(range(0, stop=1, length=N));"
   ]
  },
  {
   "cell_type": "code",
   "execution_count": 1,
   "metadata": {},
   "outputs": [],
   "source": [
    "# k = collect(0:1:n)\n",
    "# beta_distributions = pdf.(Beta.(x.+k',n .- k' .+1),v);\n",
    "# plot(v,beta_distributions)"
   ]
  },
  {
   "cell_type": "code",
   "execution_count": 4,
   "metadata": {},
   "outputs": [
    {
     "data": {
      "image/png": "[encoded data removed]"
     },
     "execution_count": 4,
     "metadata": {},
     "output_type": "execute_result"
    }
   ],
   "source": [
    "histogram(theta_a,normalize=true,alpha=0.5)\n",
    "plot!(Beta(x+1,n-x+1),label=L\"p(\\theta \\mid x)\")\n",
    "plot!(Beta(1,1), label =L\"\\pi(\\theta)\")"
   ]
  },
  {
   "cell_type": "code",
   "execution_count": 5,
   "metadata": {},
   "outputs": [],
   "source": [
    "cm = countmap(z)\n",
    "counter = zeros(length(cm))\n",
    "hdots = zeros(N)\n",
    "for (i,v) in enumerate(z)\n",
    "    counter[v+1]+=1\n",
    "    hdots[i] = counter[v+1]\n",
    "end\n",
    "\n",
    "\n",
    "df = DataFrame([z,hdots,theta_s,collect(1:length(z))]);"
   ]
  },
  {
   "cell_type": "code",
   "execution_count": 10,
   "metadata": {},
   "outputs": [
    {
     "name": "stderr",
     "output_type": "stream",
     "text": [
      "WARN Can not resolve event source: window\n",
      "WARN Can not resolve event source: window\n",
      "WARN Can not resolve event source: window\n",
      "WARN Can not resolve event source: window\n"
     ]
    },
    {
     "data": {
      "application/vnd.vegalite.v3+json": {
       "data": {
        "values": [
         {
          "x1": 6,
          "x2": 1,
          "x3": 0.6001473289977791,
          "x4": 1
         },
         {
          "x1": 8,
          "x2": 1,
          "x3": 0.9833916630356139,
          "x4": 2
         },
         {
          "x1": 3,
          "x2": 1,
          "x3": 0.5534380000525873,
          "x4": 3
         },
         {
          "x1": 6,
          "x2": 2,
          "x3": 0.6295107372653295,
          "x4": 4
         },
         {
          "x1": 4,
          "x2": 1,
          "x3": 0.3654230203461885,
          "x4": 5
         },
         {
          "x1": 2,
          "x2": 1,
          "x3": 0.06334028678311032,
          "x4": 6
         },
         {
          "x1": 0,
          "x2": 1,
          "x3": 0.0919061016854198,
          "x4": 7
         },
         {
          "x1": 7,
          "x2": 1,
          "x3": 0.9544563483968174,
          "x4": 8
         },
         {
          "x1": 4,
          "x2": 2,
          "x3": 0.521121852623173,
          "x4": 9
         },
         {
          "x1": 1,
          "x2": 1,
          "x3": 0.04494421515311752,
          "x4": 10
         },
         {
          "x1": 7,
          "x2": 2,
          "x3": 0.9691168246542612,
          "x4": 11
         },
         {
          "x1": 0,
          "x2": 2,
          "x3": 0.07187406033971233,
          "x4": 12
         },
         {
          "x1": 0,
          "x2": 3,
          "x3": 0.0667336061772296,
          "x4": 13
         },
         {
          "x1": 8,
          "x2": 2,
          "x3": 0.9736315212781838,
          "x4": 14
         },
         {
          "x1": 8,
          "x2": 3,
          "x3": 0.9515492698293089,
          "x4": 15
         },
         {
          "x1": 5,
          "x2": 1,
          "x3": 0.44109070249677496,
          "x4": 16
         },
         {
          "x1": 3,
          "x2": 2,
          "x3": 0.08944394978492762,
          "x4": 17
         },
         {
          "x1": 7,
          "x2": 3,
          "x3": 0.7784021756068555,
          "x4": 18
         },
         {
          "x1": 4,
          "x2": 3,
          "x3": 0.5572559265974721,
          "x4": 19
         },
         {
          "x1": 2,
          "x2": 2,
          "x3": 0.5955744458274727,
          "x4": 20
         },
         {
          "x1": 6,
          "x2": 3,
          "x3": 0.7202684570125568,
          "x4": 21
         },
         {
          "x1": 7,
          "x2": 4,
          "x3": 0.6682241956352325,
          "x4": 22
         },
         {
          "x1": 8,
          "x2": 4,
          "x3": 0.8129813645762273,
          "x4": 23
         },
         {
          "x1": 5,
          "x2": 2,
          "x3": 0.9229351753027136,
          "x4": 24
         },
         {
          "x1": 7,
          "x2": 5,
          "x3": 0.8372641125952495,
          "x4": 25
         },
         {
          "x1": 7,
          "x2": 6,
          "x3": 0.9158781367976749,
          "x4": 26
         },
         {
          "x1": 2,
          "x2": 3,
          "x3": 0.2111927380805119,
          "x4": 27
         },
         {
          "x1": 5,
          "x2": 3,
          "x3": 0.8606292389070747,
          "x4": 28
         },
         {
          "x1": 6,
          "x2": 4,
          "x3": 0.4998042774325219,
          "x4": 29
         },
         {
          "x1": 3,
          "x2": 3,
          "x3": 0.4768151027052384,
          "x4": 30
         },
         {
          "x1": 2,
          "x2": 4,
          "x3": 0.37884550974600467,
          "x4": 31
         },
         {
          "x1": 3,
          "x2": 4,
          "x3": 0.5055311342284707,
          "x4": 32
         },
         {
          "x1": 4,
          "x2": 4,
          "x3": 0.6497798872471494,
          "x4": 33
         },
         {
          "x1": 5,
          "x2": 4,
          "x3": 0.4891211625375314,
          "x4": 34
         },
         {
          "x1": 8,
          "x2": 5,
          "x3": 0.8925462217606781,
          "x4": 35
         },
         {
          "x1": 6,
          "x2": 5,
          "x3": 0.28883820245860475,
          "x4": 36
         },
         {
          "x1": 4,
          "x2": 5,
          "x3": 0.3165211130818126,
          "x4": 37
         },
         {
          "x1": 4,
          "x2": 6,
          "x3": 0.40542479463537173,
          "x4": 38
         },
         {
          "x1": 6,
          "x2": 6,
          "x3": 0.8451455158807866,
          "x4": 39
         },
         {
          "x1": 1,
          "x2": 2,
          "x3": 0.30552270296390416,
          "x4": 40
         },
         {
          "x1": 8,
          "x2": 6,
          "x3": 0.9646719836033508,
          "x4": 41
         },
         {
          "x1": 6,
          "x2": 7,
          "x3": 0.8215027906396778,
          "x4": 42
         },
         {
          "x1": 2,
          "x2": 5,
          "x3": 0.3054198656384736,
          "x4": 43
         },
         {
          "x1": 2,
          "x2": 6,
          "x3": 0.17555048112488544,
          "x4": 44
         },
         {
          "x1": 5,
          "x2": 5,
          "x3": 0.7949114609539628,
          "x4": 45
         },
         {
          "x1": 7,
          "x2": 7,
          "x3": 0.7991479180513487,
          "x4": 46
         },
         {
          "x1": 3,
          "x2": 5,
          "x3": 0.2953931329061965,
          "x4": 47
         },
         {
          "x1": 8,
          "x2": 7,
          "x3": 0.9725803260627152,
          "x4": 48
         },
         {
          "x1": 0,
          "x2": 4,
          "x3": 0.008640369041678654,
          "x4": 49
         },
         {
          "x1": 4,
          "x2": 7,
          "x3": 0.36764735343853816,
          "x4": 50
         },
         {
          "x1": 0,
          "x2": 5,
          "x3": 0.0989544900452333,
          "x4": 51
         },
         {
          "x1": 6,
          "x2": 8,
          "x3": 0.5772059829083283,
          "x4": 52
         },
         {
          "x1": 4,
          "x2": 8,
          "x3": 0.4102123050324708,
          "x4": 53
         },
         {
          "x1": 1,
          "x2": 3,
          "x3": 0.20469206219056024,
          "x4": 54
         },
         {
          "x1": 5,
          "x2": 6,
          "x3": 0.31334576277995685,
          "x4": 55
         },
         {
          "x1": 0,
          "x2": 6,
          "x3": 0.0107132041036106,
          "x4": 56
         },
         {
          "x1": 4,
          "x2": 9,
          "x3": 0.44607530907492576,
          "x4": 57
         },
         {
          "x1": 1,
          "x2": 4,
          "x3": 0.27752749745950095,
          "x4": 58
         },
         {
          "x1": 1,
          "x2": 5,
          "x3": 0.10726663293845494,
          "x4": 59
         },
         {
          "x1": 1,
          "x2": 6,
          "x3": 0.14922495669829247,
          "x4": 60
         },
         {
          "x1": 7,
          "x2": 8,
          "x3": 0.9349679940858228,
          "x4": 61
         },
         {
          "x1": 5,
          "x2": 7,
          "x3": 0.6364223656890872,
          "x4": 62
         },
         {
          "x1": 7,
          "x2": 9,
          "x3": 0.8815989357507499,
          "x4": 63
         },
         {
          "x1": 4,
          "x2": 10,
          "x3": 0.4896902354573425,
          "x4": 64
         },
         {
          "x1": 1,
          "x2": 7,
          "x3": 0.009466004701201892,
          "x4": 65
         },
         {
          "x1": 0,
          "x2": 7,
          "x3": 0.05670167792014694,
          "x4": 66
         },
         {
          "x1": 6,
          "x2": 9,
          "x3": 0.6700840341464704,
          "x4": 67
         },
         {
          "x1": 5,
          "x2": 8,
          "x3": 0.30350374998778606,
          "x4": 68
         },
         {
          "x1": 4,
          "x2": 11,
          "x3": 0.7559769955293963,
          "x4": 69
         },
         {
          "x1": 3,
          "x2": 6,
          "x3": 0.31994851865697416,
          "x4": 70
         },
         {
          "x1": 2,
          "x2": 7,
          "x3": 0.3044580268705368,
          "x4": 71
         },
         {
          "x1": 4,
          "x2": 12,
          "x3": 0.5313224443692125,
          "x4": 72
         },
         {
          "x1": 4,
          "x2": 13,
          "x3": 0.30285686820009544,
          "x4": 73
         },
         {
          "x1": 0,
          "x2": 8,
          "x3": 0.010597583836599627,
          "x4": 74
         },
         {
          "x1": 0,
          "x2": 9,
          "x3": 0.0647032777823611,
          "x4": 75
         },
         {
          "x1": 8,
          "x2": 8,
          "x3": 0.9802990621242956,
          "x4": 76
         },
         {
          "x1": 8,
          "x2": 9,
          "x3": 0.8667591369422963,
          "x4": 77
         },
         {
          "x1": 3,
          "x2": 7,
          "x3": 0.29683620459046123,
          "x4": 78
         },
         {
          "x1": 7,
          "x2": 10,
          "x3": 0.9460399328411018,
          "x4": 79
         },
         {
          "x1": 6,
          "x2": 10,
          "x3": 0.8087241248253008,
          "x4": 80
         },
         {
          "x1": 1,
          "x2": 8,
          "x3": 0.15663353838942426,
          "x4": 81
         },
         {
          "x1": 7,
          "x2": 11,
          "x3": 0.7484787887586628,
          "x4": 82
         },
         {
          "x1": 0,
          "x2": 10,
          "x3": 0.017058624135656227,
          "x4": 83
         },
         {
          "x1": 0,
          "x2": 11,
          "x3": 0.05540495288578252,
          "x4": 84
         },
         {
          "x1": 8,
          "x2": 10,
          "x3": 0.9717643289667134,
          "x4": 85
         },
         {
          "x1": 4,
          "x2": 14,
          "x3": 0.4782888414282342,
          "x4": 86
         },
         {
          "x1": 8,
          "x2": 11,
          "x3": 0.9972334333264291,
          "x4": 87
         },
         {
          "x1": 7,
          "x2": 12,
          "x3": 0.9038229697180792,
          "x4": 88
         },
         {
          "x1": 1,
          "x2": 9,
          "x3": 0.17077225324103854,
          "x4": 89
         },
         {
          "x1": 8,
          "x2": 12,
          "x3": 0.8003078190848922,
          "x4": 90
         },
         {
          "x1": 2,
          "x2": 8,
          "x3": 0.5592816392510953,
          "x4": 91
         },
         {
          "x1": 6,
          "x2": 11,
          "x3": 0.8884537038053781,
          "x4": 92
         },
         {
          "x1": 1,
          "x2": 10,
          "x3": 0.31929022004880114,
          "x4": 93
         },
         {
          "x1": 8,
          "x2": 13,
          "x3": 0.9944467107704874,
          "x4": 94
         },
         {
          "x1": 1,
          "x2": 11,
          "x3": 0.11503942327650404,
          "x4": 95
         },
         {
          "x1": 7,
          "x2": 13,
          "x3": 0.9749625890557603,
          "x4": 96
         },
         {
          "x1": 6,
          "x2": 12,
          "x3": 0.36798728053527285,
          "x4": 97
         },
         {
          "x1": 1,
          "x2": 12,
          "x3": 0.2320906376364391,
          "x4": 98
         },
         {
          "x1": 5,
          "x2": 9,
          "x3": 0.2828629506092519,
          "x4": 99
         },
         {
          "x1": 7,
          "x2": 14,
          "x3": 0.9152281132264458,
          "x4": 100
         },
         {
          "x1": 8,
          "x2": 14,
          "x3": 0.9858601212750574,
          "x4": 101
         },
         {
          "x1": 2,
          "x2": 9,
          "x3": 0.14957538829723818,
          "x4": 102
         },
         {
          "x1": 4,
          "x2": 15,
          "x3": 0.44425835517577406,
          "x4": 103
         },
         {
          "x1": 7,
          "x2": 15,
          "x3": 0.8385824646287079,
          "x4": 104
         },
         {
          "x1": 8,
          "x2": 15,
          "x3": 0.9932263041552329,
          "x4": 105
         },
         {
          "x1": 5,
          "x2": 10,
          "x3": 0.857827108453697,
          "x4": 106
         },
         {
          "x1": 5,
          "x2": 11,
          "x3": 0.6322094894534701,
          "x4": 107
         },
         {
          "x1": 4,
          "x2": 16,
          "x3": 0.4393880225933725,
          "x4": 108
         },
         {
          "x1": 8,
          "x2": 16,
          "x3": 0.8052479374300427,
          "x4": 109
         },
         {
          "x1": 6,
          "x2": 13,
          "x3": 0.7154399372933297,
          "x4": 110
         },
         {
          "x1": 2,
          "x2": 10,
          "x3": 0.24133283220816912,
          "x4": 111
         },
         {
          "x1": 5,
          "x2": 12,
          "x3": 0.6063662962938479,
          "x4": 112
         },
         {
          "x1": 0,
          "x2": 12,
          "x3": 0.024980738390566946,
          "x4": 113
         },
         {
          "x1": 1,
          "x2": 13,
          "x3": 0.2172662347755375,
          "x4": 114
         },
         {
          "x1": 7,
          "x2": 16,
          "x3": 0.9008934150090879,
          "x4": 115
         },
         {
          "x1": 6,
          "x2": 14,
          "x3": 0.7216229374699057,
          "x4": 116
         },
         {
          "x1": 4,
          "x2": 17,
          "x3": 0.57635173309129,
          "x4": 117
         },
         {
          "x1": 3,
          "x2": 8,
          "x3": 0.33798613883219714,
          "x4": 118
         },
         {
          "x1": 3,
          "x2": 9,
          "x3": 0.28149473215762916,
          "x4": 119
         },
         {
          "x1": 2,
          "x2": 11,
          "x3": 0.20336586497216483,
          "x4": 120
         },
         {
          "x1": 0,
          "x2": 13,
          "x3": 0.04579870339433162,
          "x4": 121
         },
         {
          "x1": 2,
          "x2": 12,
          "x3": 0.21197372922296104,
          "x4": 122
         },
         {
          "x1": 5,
          "x2": 13,
          "x3": 0.6852153015160176,
          "x4": 123
         },
         {
          "x1": 0,
          "x2": 14,
          "x3": 0.009136926238675038,
          "x4": 124
         },
         {
          "x1": 3,
          "x2": 10,
          "x3": 0.16648095057145867,
          "x4": 125
         },
         {
          "x1": 3,
          "x2": 11,
          "x3": 0.5050334139293107,
          "x4": 126
         },
         {
          "x1": 0,
          "x2": 15,
          "x3": 0.03211935425143937,
          "x4": 127
         },
         {
          "x1": 8,
          "x2": 17,
          "x3": 0.9245717801906037,
          "x4": 128
         },
         {
          "x1": 1,
          "x2": 14,
          "x3": 0.1937376553606133,
          "x4": 129
         },
         {
          "x1": 6,
          "x2": 15,
          "x3": 0.9671952403326988,
          "x4": 130
         },
         {
          "x1": 1,
          "x2": 15,
          "x3": 0.23253408756030436,
          "x4": 131
         },
         {
          "x1": 5,
          "x2": 14,
          "x3": 0.6343932380951477,
          "x4": 132
         },
         {
          "x1": 5,
          "x2": 15,
          "x3": 0.7062598251944022,
          "x4": 133
         },
         {
          "x1": 2,
          "x2": 13,
          "x3": 0.18152827278125752,
          "x4": 134
         },
         {
          "x1": 6,
          "x2": 16,
          "x3": 0.6358662774359212,
          "x4": 135
         },
         {
          "x1": 6,
          "x2": 17,
          "x3": 0.9210702074818431,
          "x4": 136
         },
         {
          "x1": 3,
          "x2": 12,
          "x3": 0.10278303254485707,
          "x4": 137
         },
         {
          "x1": 6,
          "x2": 18,
          "x3": 0.7176233919766133,
          "x4": 138
         },
         {
          "x1": 3,
          "x2": 13,
          "x3": 0.3940228997378318,
          "x4": 139
         },
         {
          "x1": 4,
          "x2": 18,
          "x3": 0.5049836420647906,
          "x4": 140
         },
         {
          "x1": 4,
          "x2": 19,
          "x3": 0.5258957718554358,
          "x4": 141
         },
         {
          "x1": 2,
          "x2": 14,
          "x3": 0.23474646282259323,
          "x4": 142
         },
         {
          "x1": 0,
          "x2": 16,
          "x3": 0.1010871063128576,
          "x4": 143
         },
         {
          "x1": 5,
          "x2": 16,
          "x3": 0.5919883888771637,
          "x4": 144
         },
         {
          "x1": 0,
          "x2": 17,
          "x3": 0.024499485802877446,
          "x4": 145
         },
         {
          "x1": 5,
          "x2": 17,
          "x3": 0.8309961770299246,
          "x4": 146
         },
         {
          "x1": 6,
          "x2": 19,
          "x3": 0.7732295118620793,
          "x4": 147
         },
         {
          "x1": 5,
          "x2": 18,
          "x3": 0.5634186303878982,
          "x4": 148
         },
         {
          "x1": 8,
          "x2": 18,
          "x3": 0.797242332914711,
          "x4": 149
         },
         {
          "x1": 4,
          "x2": 20,
          "x3": 0.5350279147885596,
          "x4": 150
         },
         {
          "x1": 8,
          "x2": 19,
          "x3": 0.9181721407080022,
          "x4": 151
         },
         {
          "x1": 7,
          "x2": 17,
          "x3": 0.8596771068024696,
          "x4": 152
         },
         {
          "x1": 7,
          "x2": 18,
          "x3": 0.8123387597220559,
          "x4": 153
         },
         {
          "x1": 2,
          "x2": 15,
          "x3": 0.28687687209881313,
          "x4": 154
         },
         {
          "x1": 4,
          "x2": 21,
          "x3": 0.14530287390113045,
          "x4": 155
         },
         {
          "x1": 5,
          "x2": 19,
          "x3": 0.7300080515366901,
          "x4": 156
         },
         {
          "x1": 7,
          "x2": 19,
          "x3": 0.9032263825591905,
          "x4": 157
         },
         {
          "x1": 8,
          "x2": 20,
          "x3": 0.9773083464495835,
          "x4": 158
         },
         {
          "x1": 4,
          "x2": 22,
          "x3": 0.3993996579571331,
          "x4": 159
         },
         {
          "x1": 6,
          "x2": 20,
          "x3": 0.8059136914396862,
          "x4": 160
         },
         {
          "x1": 8,
          "x2": 21,
          "x3": 0.9714448679076247,
          "x4": 161
         },
         {
          "x1": 1,
          "x2": 16,
          "x3": 0.24472770905708607,
          "x4": 162
         },
         {
          "x1": 0,
          "x2": 18,
          "x3": 0.16978390273226449,
          "x4": 163
         },
         {
          "x1": 0,
          "x2": 19,
          "x3": 0.14179062074766205,
          "x4": 164
         },
         {
          "x1": 2,
          "x2": 16,
          "x3": 0.3139098550785576,
          "x4": 165
         },
         {
          "x1": 5,
          "x2": 20,
          "x3": 0.7291265122776999,
          "x4": 166
         },
         {
          "x1": 5,
          "x2": 21,
          "x3": 0.7703714730239895,
          "x4": 167
         },
         {
          "x1": 3,
          "x2": 14,
          "x3": 0.6029349219118696,
          "x4": 168
         },
         {
          "x1": 3,
          "x2": 15,
          "x3": 0.7646373882389491,
          "x4": 169
         },
         {
          "x1": 6,
          "x2": 21,
          "x3": 0.7854983212043256,
          "x4": 170
         },
         {
          "x1": 0,
          "x2": 20,
          "x3": 0.05517197962816177,
          "x4": 171
         },
         {
          "x1": 1,
          "x2": 17,
          "x3": 0.05223685441198859,
          "x4": 172
         },
         {
          "x1": 7,
          "x2": 20,
          "x3": 0.922882369499492,
          "x4": 173
         },
         {
          "x1": 8,
          "x2": 22,
          "x3": 0.9900993357915086,
          "x4": 174
         },
         {
          "x1": 4,
          "x2": 23,
          "x3": 0.40040339198821095,
          "x4": 175
         },
         {
          "x1": 5,
          "x2": 22,
          "x3": 0.5502210295938749,
          "x4": 176
         },
         {
          "x1": 4,
          "x2": 24,
          "x3": 0.30050411378562786,
          "x4": 177
         },
         {
          "x1": 5,
          "x2": 23,
          "x3": 0.5087085738004705,
          "x4": 178
         },
         {
          "x1": 2,
          "x2": 17,
          "x3": 0.3579810430657191,
          "x4": 179
         },
         {
          "x1": 8,
          "x2": 23,
          "x3": 0.9035499882383355,
          "x4": 180
         },
         {
          "x1": 2,
          "x2": 18,
          "x3": 0.27020712841233907,
          "x4": 181
         },
         {
          "x1": 3,
          "x2": 16,
          "x3": 0.43268634646571724,
          "x4": 182
         },
         {
          "x1": 6,
          "x2": 22,
          "x3": 0.7638167831633706,
          "x4": 183
         },
         {
          "x1": 6,
          "x2": 23,
          "x3": 0.7127161117363764,
          "x4": 184
         },
         {
          "x1": 6,
          "x2": 24,
          "x3": 0.6716150166231155,
          "x4": 185
         },
         {
          "x1": 0,
          "x2": 21,
          "x3": 0.009079536800863203,
          "x4": 186
         },
         {
          "x1": 8,
          "x2": 24,
          "x3": 0.9455587750814144,
          "x4": 187
         },
         {
          "x1": 7,
          "x2": 21,
          "x3": 0.635141910061371,
          "x4": 188
         },
         {
          "x1": 3,
          "x2": 17,
          "x3": 0.7545261522587795,
          "x4": 189
         },
         {
          "x1": 2,
          "x2": 19,
          "x3": 0.2316334131497493,
          "x4": 190
         },
         {
          "x1": 5,
          "x2": 24,
          "x3": 0.47895677439824824,
          "x4": 191
         },
         {
          "x1": 8,
          "x2": 25,
          "x3": 0.9566540649922614,
          "x4": 192
         },
         {
          "x1": 2,
          "x2": 20,
          "x3": 0.2102620602146446,
          "x4": 193
         },
         {
          "x1": 8,
          "x2": 26,
          "x3": 0.8552848797141017,
          "x4": 194
         },
         {
          "x1": 3,
          "x2": 18,
          "x3": 0.3954567030754972,
          "x4": 195
         },
         {
          "x1": 4,
          "x2": 25,
          "x3": 0.424818684215369,
          "x4": 196
         },
         {
          "x1": 4,
          "x2": 26,
          "x3": 0.2665585132157242,
          "x4": 197
         },
         {
          "x1": 7,
          "x2": 22,
          "x3": 0.9629903967160758,
          "x4": 198
         },
         {
          "x1": 0,
          "x2": 22,
          "x3": 0.0884970814966829,
          "x4": 199
         },
         {
          "x1": 1,
          "x2": 18,
          "x3": 0.12870263073608137,
          "x4": 200
         },
         {
          "x1": 3,
          "x2": 19,
          "x3": 0.3776103287637028,
          "x4": 201
         },
         {
          "x1": 5,
          "x2": 25,
          "x3": 0.7162984124285515,
          "x4": 202
         },
         {
          "x1": 0,
          "x2": 23,
          "x3": 0.0968831723444232,
          "x4": 203
         },
         {
          "x1": 5,
          "x2": 26,
          "x3": 0.7288273612638511,
          "x4": 204
         },
         {
          "x1": 3,
          "x2": 20,
          "x3": 0.4568713354682305,
          "x4": 205
         },
         {
          "x1": 4,
          "x2": 27,
          "x3": 0.5645629834877962,
          "x4": 206
         },
         {
          "x1": 4,
          "x2": 28,
          "x3": 0.5468190460330642,
          "x4": 207
         },
         {
          "x1": 7,
          "x2": 23,
          "x3": 0.7181071686702591,
          "x4": 208
         },
         {
          "x1": 8,
          "x2": 27,
          "x3": 0.9869469261454857,
          "x4": 209
         },
         {
          "x1": 3,
          "x2": 21,
          "x3": 0.3273274238612749,
          "x4": 210
         },
         {
          "x1": 1,
          "x2": 19,
          "x3": 0.10354020960669583,
          "x4": 211
         },
         {
          "x1": 4,
          "x2": 29,
          "x3": 0.6188530336976658,
          "x4": 212
         },
         {
          "x1": 1,
          "x2": 20,
          "x3": 0.4980998547084671,
          "x4": 213
         },
         {
          "x1": 7,
          "x2": 24,
          "x3": 0.9736132927594754,
          "x4": 214
         },
         {
          "x1": 3,
          "x2": 22,
          "x3": 0.6788518835977521,
          "x4": 215
         },
         {
          "x1": 1,
          "x2": 21,
          "x3": 0.08759935152079609,
          "x4": 216
         },
         {
          "x1": 2,
          "x2": 21,
          "x3": 0.38430703415885864,
          "x4": 217
         },
         {
          "x1": 6,
          "x2": 25,
          "x3": 0.766199861383963,
          "x4": 218
         },
         {
          "x1": 4,
          "x2": 30,
          "x3": 0.5783742101187584,
          "x4": 219
         },
         {
          "x1": 5,
          "x2": 27,
          "x3": 0.4771993739321485,
          "x4": 220
         },
         {
          "x1": 6,
          "x2": 26,
          "x3": 0.7348283801578902,
          "x4": 221
         },
         {
          "x1": 4,
          "x2": 31,
          "x3": 0.39122513258895686,
          "x4": 222
         },
         {
          "x1": 3,
          "x2": 23,
          "x3": 0.20034137785876704,
          "x4": 223
         },
         {
          "x1": 2,
          "x2": 22,
          "x3": 0.711253873169896,
          "x4": 224
         },
         {
          "x1": 2,
          "x2": 23,
          "x3": 0.2973463430886429,
          "x4": 225
         },
         {
          "x1": 5,
          "x2": 28,
          "x3": 0.6372262440307747,
          "x4": 226
         },
         {
          "x1": 4,
          "x2": 32,
          "x3": 0.21603834597383448,
          "x4": 227
         },
         {
          "x1": 6,
          "x2": 27,
          "x3": 0.6803645625635183,
          "x4": 228
         },
         {
          "x1": 6,
          "x2": 28,
          "x3": 0.5933164858712406,
          "x4": 229
         },
         {
          "x1": 0,
          "x2": 24,
          "x3": 0.049400098036345985,
          "x4": 230
         },
         {
          "x1": 1,
          "x2": 22,
          "x3": 0.10344954648341244,
          "x4": 231
         },
         {
          "x1": 4,
          "x2": 33,
          "x3": 0.34681755258031227,
          "x4": 232
         },
         {
          "x1": 3,
          "x2": 24,
          "x3": 0.48900182973951456,
          "x4": 233
         },
         {
          "x1": 7,
          "x2": 25,
          "x3": 0.6851270272074352,
          "x4": 234
         },
         {
          "x1": 3,
          "x2": 25,
          "x3": 0.6393384179701878,
          "x4": 235
         },
         {
          "x1": 8,
          "x2": 28,
          "x3": 0.9843844933311839,
          "x4": 236
         },
         {
          "x1": 8,
          "x2": 29,
          "x3": 0.9425165686338896,
          "x4": 237
         },
         {
          "x1": 5,
          "x2": 29,
          "x3": 0.3072856652465284,
          "x4": 238
         },
         {
          "x1": 0,
          "x2": 25,
          "x3": 0.35960582739468433,
          "x4": 239
         },
         {
          "x1": 8,
          "x2": 30,
          "x3": 0.9607557593136392,
          "x4": 240
         },
         {
          "x1": 1,
          "x2": 23,
          "x3": 0.107480221866888,
          "x4": 241
         },
         {
          "x1": 1,
          "x2": 24,
          "x3": 0.5794027398902988,
          "x4": 242
         },
         {
          "x1": 3,
          "x2": 26,
          "x3": 0.39394803359877795,
          "x4": 243
         },
         {
          "x1": 7,
          "x2": 26,
          "x3": 0.8589377417486506,
          "x4": 244
         },
         {
          "x1": 8,
          "x2": 31,
          "x3": 0.9586208510878435,
          "x4": 245
         },
         {
          "x1": 5,
          "x2": 30,
          "x3": 0.82276821025106,
          "x4": 246
         },
         {
          "x1": 7,
          "x2": 27,
          "x3": 0.8734925138339678,
          "x4": 247
         },
         {
          "x1": 3,
          "x2": 27,
          "x3": 0.5156125367577729,
          "x4": 248
         },
         {
          "x1": 6,
          "x2": 29,
          "x3": 0.7731814537090879,
          "x4": 249
         },
         {
          "x1": 6,
          "x2": 30,
          "x3": 0.9084999645946552,
          "x4": 250
         },
         {
          "x1": 0,
          "x2": 26,
          "x3": 0.150381610002133,
          "x4": 251
         },
         {
          "x1": 0,
          "x2": 27,
          "x3": 0.10353317508291593,
          "x4": 252
         },
         {
          "x1": 5,
          "x2": 31,
          "x3": 0.545353798520389,
          "x4": 253
         },
         {
          "x1": 2,
          "x2": 24,
          "x3": 0.32391688520146217,
          "x4": 254
         },
         {
          "x1": 2,
          "x2": 25,
          "x3": 0.41873444574913943,
          "x4": 255
         },
         {
          "x1": 3,
          "x2": 28,
          "x3": 0.2698944814376647,
          "x4": 256
         },
         {
          "x1": 0,
          "x2": 28,
          "x3": 0.006364817622105931,
          "x4": 257
         },
         {
          "x1": 7,
          "x2": 28,
          "x3": 0.8304937302970874,
          "x4": 258
         },
         {
          "x1": 6,
          "x2": 31,
          "x3": 0.4260002456977148,
          "x4": 259
         },
         {
          "x1": 6,
          "x2": 32,
          "x3": 0.718481104152264,
          "x4": 260
         },
         {
          "x1": 8,
          "x2": 32,
          "x3": 0.9085021837868987,
          "x4": 261
         },
         {
          "x1": 5,
          "x2": 32,
          "x3": 0.46961600532252273,
          "x4": 262
         },
         {
          "x1": 8,
          "x2": 33,
          "x3": 0.9952464105668145,
          "x4": 263
         },
         {
          "x1": 0,
          "x2": 29,
          "x3": 0.052693581354961744,
          "x4": 264
         },
         {
          "x1": 3,
          "x2": 29,
          "x3": 0.3199057118397111,
          "x4": 265
         },
         {
          "x1": 7,
          "x2": 29,
          "x3": 0.6903704643260958,
          "x4": 266
         },
         {
          "x1": 4,
          "x2": 34,
          "x3": 0.19350996764162487,
          "x4": 267
         },
         {
          "x1": 4,
          "x2": 35,
          "x3": 0.5466815729295581,
          "x4": 268
         },
         {
          "x1": 0,
          "x2": 30,
          "x3": 0.057908755331322254,
          "x4": 269
         },
         {
          "x1": 8,
          "x2": 34,
          "x3": 0.8239650767247436,
          "x4": 270
         },
         {
          "x1": 7,
          "x2": 30,
          "x3": 0.9043675159604336,
          "x4": 271
         },
         {
          "x1": 8,
          "x2": 35,
          "x3": 0.8311036431221854,
          "x4": 272
         },
         {
          "x1": 4,
          "x2": 36,
          "x3": 0.6520542897161121,
          "x4": 273
         },
         {
          "x1": 4,
          "x2": 37,
          "x3": 0.37173917189270295,
          "x4": 274
         },
         {
          "x1": 6,
          "x2": 33,
          "x3": 0.5242140114863054,
          "x4": 275
         },
         {
          "x1": 5,
          "x2": 33,
          "x3": 0.5385819884718676,
          "x4": 276
         },
         {
          "x1": 4,
          "x2": 38,
          "x3": 0.23576356802512433,
          "x4": 277
         },
         {
          "x1": 1,
          "x2": 25,
          "x3": 0.011674682763881184,
          "x4": 278
         },
         {
          "x1": 5,
          "x2": 34,
          "x3": 0.5551635133794609,
          "x4": 279
         },
         {
          "x1": 1,
          "x2": 26,
          "x3": 0.58033578781888,
          "x4": 280
         },
         {
          "x1": 3,
          "x2": 30,
          "x3": 0.4100148094459678,
          "x4": 281
         },
         {
          "x1": 3,
          "x2": 31,
          "x3": 0.4601991925784362,
          "x4": 282
         },
         {
          "x1": 1,
          "x2": 27,
          "x3": 0.148162424726737,
          "x4": 283
         },
         {
          "x1": 8,
          "x2": 36,
          "x3": 0.9976746571056628,
          "x4": 284
         },
         {
          "x1": 0,
          "x2": 31,
          "x3": 0.06543073893691626,
          "x4": 285
         },
         {
          "x1": 0,
          "x2": 32,
          "x3": 0.1272421813744063,
          "x4": 286
         },
         {
          "x1": 7,
          "x2": 31,
          "x3": 0.6051663909399593,
          "x4": 287
         },
         {
          "x1": 3,
          "x2": 32,
          "x3": 0.1829893929301199,
          "x4": 288
         },
         {
          "x1": 8,
          "x2": 37,
          "x3": 0.9870439327865981,
          "x4": 289
         },
         {
          "x1": 0,
          "x2": 33,
          "x3": 0.04065656926658497,
          "x4": 290
         },
         {
          "x1": 0,
          "x2": 34,
          "x3": 0.09086503713176172,
          "x4": 291
         },
         {
          "x1": 8,
          "x2": 38,
          "x3": 0.9955604529443052,
          "x4": 292
         },
         {
          "x1": 2,
          "x2": 26,
          "x3": 0.4331747796701479,
          "x4": 293
         },
         {
          "x1": 5,
          "x2": 35,
          "x3": 0.3459147689698432,
          "x4": 294
         },
         {
          "x1": 7,
          "x2": 32,
          "x3": 0.837615949375473,
          "x4": 295
         },
         {
          "x1": 2,
          "x2": 27,
          "x3": 0.18367431234571957,
          "x4": 296
         },
         {
          "x1": 3,
          "x2": 33,
          "x3": 0.4901787304640545,
          "x4": 297
         },
         {
          "x1": 2,
          "x2": 28,
          "x3": 0.1653196522624835,
          "x4": 298
         },
         {
          "x1": 1,
          "x2": 28,
          "x3": 0.38095450245301793,
          "x4": 299
         },
         {
          "x1": 5,
          "x2": 36,
          "x3": 0.16457645320705025,
          "x4": 300
         },
         {
          "x1": 2,
          "x2": 29,
          "x3": 0.24763497115533584,
          "x4": 301
         },
         {
          "x1": 3,
          "x2": 34,
          "x3": 0.17545489058693953,
          "x4": 302
         },
         {
          "x1": 1,
          "x2": 29,
          "x3": 0.1541967729740568,
          "x4": 303
         },
         {
          "x1": 3,
          "x2": 35,
          "x3": 0.38126959236590124,
          "x4": 304
         },
         {
          "x1": 7,
          "x2": 33,
          "x3": 0.811890840401364,
          "x4": 305
         },
         {
          "x1": 5,
          "x2": 37,
          "x3": 0.7049915994266401,
          "x4": 306
         },
         {
          "x1": 4,
          "x2": 39,
          "x3": 0.5268447448439262,
          "x4": 307
         },
         {
          "x1": 8,
          "x2": 39,
          "x3": 0.9754175280355604,
          "x4": 308
         },
         {
          "x1": 8,
          "x2": 40,
          "x3": 0.9506040832952218,
          "x4": 309
         },
         {
          "x1": 3,
          "x2": 36,
          "x3": 0.4297653581328218,
          "x4": 310
         },
         {
          "x1": 5,
          "x2": 38,
          "x3": 0.7802242336306723,
          "x4": 311
         },
         {
          "x1": 0,
          "x2": 35,
          "x3": 0.16630286742585174,
          "x4": 312
         },
         {
          "x1": 7,
          "x2": 34,
          "x3": 0.788003482089853,
          "x4": 313
         },
         {
          "x1": 2,
          "x2": 30,
          "x3": 0.6777753431808587,
          "x4": 314
         },
         {
          "x1": 8,
          "x2": 41,
          "x3": 0.9598342494525532,
          "x4": 315
         },
         {
          "x1": 5,
          "x2": 39,
          "x3": 0.871650115059479,
          "x4": 316
         },
         {
          "x1": 8,
          "x2": 42,
          "x3": 0.875457037990989,
          "x4": 317
         },
         {
          "x1": 4,
          "x2": 40,
          "x3": 0.6304776234675054,
          "x4": 318
         },
         {
          "x1": 8,
          "x2": 43,
          "x3": 0.8313004366524706,
          "x4": 319
         },
         {
          "x1": 8,
          "x2": 44,
          "x3": 0.9289124047188171,
          "x4": 320
         },
         {
          "x1": 8,
          "x2": 45,
          "x3": 0.9394386718578024,
          "x4": 321
         },
         {
          "x1": 0,
          "x2": 36,
          "x3": 0.0010222005195287714,
          "x4": 322
         },
         {
          "x1": 2,
          "x2": 31,
          "x3": 0.2839916687516793,
          "x4": 323
         },
         {
          "x1": 6,
          "x2": 34,
          "x3": 0.7548174649178166,
          "x4": 324
         },
         {
          "x1": 7,
          "x2": 35,
          "x3": 0.7374197260658897,
          "x4": 325
         },
         {
          "x1": 3,
          "x2": 37,
          "x3": 0.46000277375697735,
          "x4": 326
         },
         {
          "x1": 8,
          "x2": 46,
          "x3": 0.928516352659951,
          "x4": 327
         },
         {
          "x1": 7,
          "x2": 36,
          "x3": 0.9559546411939397,
          "x4": 328
         },
         {
          "x1": 8,
          "x2": 47,
          "x3": 0.6631887355595673,
          "x4": 329
         },
         {
          "x1": 3,
          "x2": 38,
          "x3": 0.2689679215478049,
          "x4": 330
         },
         {
          "x1": 0,
          "x2": 37,
          "x3": 0.06161199973999308,
          "x4": 331
         },
         {
          "x1": 3,
          "x2": 39,
          "x3": 0.2935052096055723,
          "x4": 332
         },
         {
          "x1": 4,
          "x2": 41,
          "x3": 0.35632459866798777,
          "x4": 333
         },
         {
          "x1": 4,
          "x2": 42,
          "x3": 0.6270499067950032,
          "x4": 334
         },
         {
          "x1": 7,
          "x2": 37,
          "x3": 0.8221185660166561,
          "x4": 335
         },
         {
          "x1": 3,
          "x2": 40,
          "x3": 0.2724625163715101,
          "x4": 336
         },
         {
          "x1": 2,
          "x2": 32,
          "x3": 0.5151758373021181,
          "x4": 337
         },
         {
          "x1": 6,
          "x2": 35,
          "x3": 0.6789918165330321,
          "x4": 338
         },
         {
          "x1": 3,
          "x2": 41,
          "x3": 0.43805827244034906,
          "x4": 339
         },
         {
          "x1": 2,
          "x2": 33,
          "x3": 0.2440312684377692,
          "x4": 340
         },
         {
          "x1": 4,
          "x2": 43,
          "x3": 0.7933143267245175,
          "x4": 341
         },
         {
          "x1": 4,
          "x2": 44,
          "x3": 0.7295831880059588,
          "x4": 342
         },
         {
          "x1": 6,
          "x2": 36,
          "x3": 0.6390651614504852,
          "x4": 343
         },
         {
          "x1": 2,
          "x2": 34,
          "x3": 0.6567702127289257,
          "x4": 344
         },
         {
          "x1": 2,
          "x2": 35,
          "x3": 0.3368592286210002,
          "x4": 345
         },
         {
          "x1": 6,
          "x2": 37,
          "x3": 0.7196633954408228,
          "x4": 346
         },
         {
          "x1": 4,
          "x2": 45,
          "x3": 0.3794609032668624,
          "x4": 347
         },
         {
          "x1": 3,
          "x2": 42,
          "x3": 0.4590352420904539,
          "x4": 348
         },
         {
          "x1": 6,
          "x2": 38,
          "x3": 0.5731426794387561,
          "x4": 349
         },
         {
          "x1": 7,
          "x2": 38,
          "x3": 0.7232752869263616,
          "x4": 350
         },
         {
          "x1": 7,
          "x2": 39,
          "x3": 0.9716266887932499,
          "x4": 351
         },
         {
          "x1": 5,
          "x2": 40,
          "x3": 0.4543349724879928,
          "x4": 352
         },
         {
          "x1": 7,
          "x2": 40,
          "x3": 0.8785836967234188,
          "x4": 353
         },
         {
          "x1": 1,
          "x2": 30,
          "x3": 0.11164494797337453,
          "x4": 354
         },
         {
          "x1": 0,
          "x2": 38,
          "x3": 0.029673462135541687,
          "x4": 355
         },
         {
          "x1": 5,
          "x2": 41,
          "x3": 0.7937369271842051,
          "x4": 356
         },
         {
          "x1": 3,
          "x2": 43,
          "x3": 0.0703284511128153,
          "x4": 357
         },
         {
          "x1": 7,
          "x2": 41,
          "x3": 0.8112721538871198,
          "x4": 358
         },
         {
          "x1": 4,
          "x2": 46,
          "x3": 0.28217038313701664,
          "x4": 359
         },
         {
          "x1": 6,
          "x2": 39,
          "x3": 0.8997689653733906,
          "x4": 360
         },
         {
          "x1": 3,
          "x2": 44,
          "x3": 0.2566371834674147,
          "x4": 361
         },
         {
          "x1": 8,
          "x2": 48,
          "x3": 0.785421362690356,
          "x4": 362
         },
         {
          "x1": 2,
          "x2": 36,
          "x3": 0.6740534085239007,
          "x4": 363
         },
         {
          "x1": 1,
          "x2": 31,
          "x3": 0.13242054514623364,
          "x4": 364
         },
         {
          "x1": 4,
          "x2": 47,
          "x3": 0.3903481320992934,
          "x4": 365
         },
         {
          "x1": 5,
          "x2": 42,
          "x3": 0.5562610040888195,
          "x4": 366
         },
         {
          "x1": 0,
          "x2": 39,
          "x3": 0.18218325284122264,
          "x4": 367
         },
         {
          "x1": 4,
          "x2": 48,
          "x3": 0.3655783793408622,
          "x4": 368
         },
         {
          "x1": 4,
          "x2": 49,
          "x3": 0.7664043218315114,
          "x4": 369
         },
         {
          "x1": 1,
          "x2": 32,
          "x3": 0.08826216521074838,
          "x4": 370
         },
         {
          "x1": 1,
          "x2": 33,
          "x3": 0.27918803109464907,
          "x4": 371
         },
         {
          "x1": 2,
          "x2": 37,
          "x3": 0.32982507664298877,
          "x4": 372
         },
         {
          "x1": 2,
          "x2": 38,
          "x3": 0.40977354526645793,
          "x4": 373
         },
         {
          "x1": 6,
          "x2": 40,
          "x3": 0.6723983908763195,
          "x4": 374
         },
         {
          "x1": 4,
          "x2": 50,
          "x3": 0.3098477924050057,
          "x4": 375
         },
         {
          "x1": 8,
          "x2": 49,
          "x3": 0.9404911821794824,
          "x4": 376
         },
         {
          "x1": 3,
          "x2": 45,
          "x3": 0.1799715655969491,
          "x4": 377
         },
         {
          "x1": 5,
          "x2": 43,
          "x3": 0.6437033085143481,
          "x4": 378
         },
         {
          "x1": 3,
          "x2": 46,
          "x3": 0.408380613592348,
          "x4": 379
         },
         {
          "x1": 5,
          "x2": 44,
          "x3": 0.3411837231093482,
          "x4": 380
         },
         {
          "x1": 1,
          "x2": 34,
          "x3": 0.038103662889283074,
          "x4": 381
         },
         {
          "x1": 6,
          "x2": 41,
          "x3": 0.8550191164518146,
          "x4": 382
         },
         {
          "x1": 4,
          "x2": 51,
          "x3": 0.40413627124504625,
          "x4": 383
         },
         {
          "x1": 1,
          "x2": 35,
          "x3": 0.15238556670014766,
          "x4": 384
         },
         {
          "x1": 2,
          "x2": 39,
          "x3": 0.6604453702806978,
          "x4": 385
         },
         {
          "x1": 4,
          "x2": 52,
          "x3": 0.4821605960291164,
          "x4": 386
         },
         {
          "x1": 1,
          "x2": 36,
          "x3": 0.03946848971652256,
          "x4": 387
         },
         {
          "x1": 4,
          "x2": 53,
          "x3": 0.6079788820127863,
          "x4": 388
         },
         {
          "x1": 6,
          "x2": 42,
          "x3": 0.5749061813504188,
          "x4": 389
         },
         {
          "x1": 0,
          "x2": 40,
          "x3": 1.2195464640966678e-06,
          "x4": 390
         },
         {
          "x1": 6,
          "x2": 43,
          "x3": 0.7581702374940806,
          "x4": 391
         },
         {
          "x1": 1,
          "x2": 37,
          "x3": 0.4453535125436887,
          "x4": 392
         },
         {
          "x1": 0,
          "x2": 41,
          "x3": 0.07871702920483979,
          "x4": 393
         },
         {
          "x1": 8,
          "x2": 50,
          "x3": 0.8285017329849093,
          "x4": 394
         },
         {
          "x1": 2,
          "x2": 40,
          "x3": 0.2718869946688459,
          "x4": 395
         },
         {
          "x1": 3,
          "x2": 47,
          "x3": 0.7700180343067277,
          "x4": 396
         },
         {
          "x1": 3,
          "x2": 48,
          "x3": 0.7415048008060351,
          "x4": 397
         },
         {
          "x1": 2,
          "x2": 41,
          "x3": 0.30207759516117044,
          "x4": 398
         },
         {
          "x1": 4,
          "x2": 54,
          "x3": 0.738782817301987,
          "x4": 399
         },
         {
          "x1": 6,
          "x2": 44,
          "x3": 0.6741200154962694,
          "x4": 400
         },
         {
          "x1": 7,
          "x2": 42,
          "x3": 0.6993651097777337,
          "x4": 401
         },
         {
          "x1": 2,
          "x2": 42,
          "x3": 0.38238129507383106,
          "x4": 402
         },
         {
          "x1": 5,
          "x2": 45,
          "x3": 0.536332943398377,
          "x4": 403
         },
         {
          "x1": 6,
          "x2": 45,
          "x3": 0.6732502802337093,
          "x4": 404
         },
         {
          "x1": 3,
          "x2": 49,
          "x3": 0.537143155092921,
          "x4": 405
         },
         {
          "x1": 2,
          "x2": 43,
          "x3": 0.43344636363858435,
          "x4": 406
         },
         {
          "x1": 2,
          "x2": 44,
          "x3": 0.2290284684774705,
          "x4": 407
         },
         {
          "x1": 2,
          "x2": 45,
          "x3": 0.07918907586116616,
          "x4": 408
         },
         {
          "x1": 4,
          "x2": 55,
          "x3": 0.419165308534832,
          "x4": 409
         },
         {
          "x1": 5,
          "x2": 46,
          "x3": 0.535858034821652,
          "x4": 410
         },
         {
          "x1": 6,
          "x2": 46,
          "x3": 0.5918189850095223,
          "x4": 411
         },
         {
          "x1": 1,
          "x2": 38,
          "x3": 0.05995578833015453,
          "x4": 412
         },
         {
          "x1": 4,
          "x2": 56,
          "x3": 0.6711749085233382,
          "x4": 413
         },
         {
          "x1": 7,
          "x2": 43,
          "x3": 0.8503792776685998,
          "x4": 414
         },
         {
          "x1": 4,
          "x2": 57,
          "x3": 0.7571624202253079,
          "x4": 415
         },
         {
          "x1": 2,
          "x2": 46,
          "x3": 0.5093164256686,
          "x4": 416
         },
         {
          "x1": 6,
          "x2": 47,
          "x3": 0.483121004540662,
          "x4": 417
         },
         {
          "x1": 2,
          "x2": 47,
          "x3": 0.38918460838083613,
          "x4": 418
         },
         {
          "x1": 3,
          "x2": 50,
          "x3": 0.5082434733409121,
          "x4": 419
         },
         {
          "x1": 6,
          "x2": 48,
          "x3": 0.5139434513356517,
          "x4": 420
         },
         {
          "x1": 8,
          "x2": 51,
          "x3": 0.7626575637364678,
          "x4": 421
         },
         {
          "x1": 2,
          "x2": 48,
          "x3": 0.09250783828265384,
          "x4": 422
         },
         {
          "x1": 3,
          "x2": 51,
          "x3": 0.29227592582973994,
          "x4": 423
         },
         {
          "x1": 0,
          "x2": 42,
          "x3": 0.09468840943145979,
          "x4": 424
         },
         {
          "x1": 0,
          "x2": 43,
          "x3": 0.14890134708798175,
          "x4": 425
         },
         {
          "x1": 0,
          "x2": 44,
          "x3": 0.11069666671122964,
          "x4": 426
         },
         {
          "x1": 4,
          "x2": 58,
          "x3": 0.7094036172318487,
          "x4": 427
         },
         {
          "x1": 7,
          "x2": 44,
          "x3": 0.9522264885034065,
          "x4": 428
         },
         {
          "x1": 6,
          "x2": 49,
          "x3": 0.8196052306244361,
          "x4": 429
         },
         {
          "x1": 2,
          "x2": 49,
          "x3": 0.34465859659628423,
          "x4": 430
         },
         {
          "x1": 3,
          "x2": 52,
          "x3": 0.35183526230062323,
          "x4": 431
         },
         {
          "x1": 3,
          "x2": 53,
          "x3": 0.6432202394230303,
          "x4": 432
         },
         {
          "x1": 7,
          "x2": 45,
          "x3": 0.9629045765252755,
          "x4": 433
         },
         {
          "x1": 1,
          "x2": 39,
          "x3": 0.19836530756907342,
          "x4": 434
         },
         {
          "x1": 8,
          "x2": 52,
          "x3": 0.8476273352005793,
          "x4": 435
         },
         {
          "x1": 1,
          "x2": 40,
          "x3": 0.24481288889313127,
          "x4": 436
         },
         {
          "x1": 4,
          "x2": 59,
          "x3": 0.32054458311320005,
          "x4": 437
         },
         {
          "x1": 6,
          "x2": 50,
          "x3": 0.6546410839501203,
          "x4": 438
         },
         {
          "x1": 7,
          "x2": 46,
          "x3": 0.9299814923796121,
          "x4": 439
         },
         {
          "x1": 1,
          "x2": 41,
          "x3": 0.1459379799584863,
          "x4": 440
         },
         {
          "x1": 2,
          "x2": 50,
          "x3": 0.11423272731083786,
          "x4": 441
         },
         {
          "x1": 7,
          "x2": 47,
          "x3": 0.8622148017800897,
          "x4": 442
         },
         {
          "x1": 2,
          "x2": 51,
          "x3": 0.2710894008080872,
          "x4": 443
         },
         {
          "x1": 0,
          "x2": 45,
          "x3": 0.018554533425042017,
          "x4": 444
         },
         {
          "x1": 4,
          "x2": 60,
          "x3": 0.45275283908204145,
          "x4": 445
         },
         {
          "x1": 6,
          "x2": 51,
          "x3": 0.7587283075775219,
          "x4": 446
         },
         {
          "x1": 5,
          "x2": 47,
          "x3": 0.4693927603511373,
          "x4": 447
         },
         {
          "x1": 6,
          "x2": 52,
          "x3": 0.7727747692044958,
          "x4": 448
         },
         {
          "x1": 3,
          "x2": 54,
          "x3": 0.24696841043545878,
          "x4": 449
         },
         {
          "x1": 0,
          "x2": 46,
          "x3": 0.2004679447392695,
          "x4": 450
         },
         {
          "x1": 5,
          "x2": 48,
          "x3": 0.3117008885331439,
          "x4": 451
         },
         {
          "x1": 7,
          "x2": 48,
          "x3": 0.8180929155493826,
          "x4": 452
         },
         {
          "x1": 7,
          "x2": 49,
          "x3": 0.7989216756428551,
          "x4": 453
         },
         {
          "x1": 8,
          "x2": 53,
          "x3": 0.9936176115588584,
          "x4": 454
         },
         {
          "x1": 7,
          "x2": 50,
          "x3": 0.8561442407642113,
          "x4": 455
         },
         {
          "x1": 4,
          "x2": 61,
          "x3": 0.5540310707787738,
          "x4": 456
         },
         {
          "x1": 2,
          "x2": 52,
          "x3": 0.4534622351269172,
          "x4": 457
         },
         {
          "x1": 8,
          "x2": 54,
          "x3": 0.9078529096715281,
          "x4": 458
         },
         {
          "x1": 3,
          "x2": 55,
          "x3": 0.26086478052169626,
          "x4": 459
         },
         {
          "x1": 3,
          "x2": 56,
          "x3": 0.30315389581025154,
          "x4": 460
         },
         {
          "x1": 1,
          "x2": 42,
          "x3": 0.21089299330507952,
          "x4": 461
         },
         {
          "x1": 0,
          "x2": 47,
          "x3": 0.043282461323296,
          "x4": 462
         },
         {
          "x1": 1,
          "x2": 43,
          "x3": 0.4029137085101827,
          "x4": 463
         },
         {
          "x1": 4,
          "x2": 62,
          "x3": 0.5392030361128973,
          "x4": 464
         },
         {
          "x1": 2,
          "x2": 53,
          "x3": 0.388455064522848,
          "x4": 465
         },
         {
          "x1": 6,
          "x2": 53,
          "x3": 0.43410869072383096,
          "x4": 466
         },
         {
          "x1": 6,
          "x2": 54,
          "x3": 0.6850991306004455,
          "x4": 467
         },
         {
          "x1": 7,
          "x2": 51,
          "x3": 0.782917726313063,
          "x4": 468
         },
         {
          "x1": 0,
          "x2": 48,
          "x3": 0.01258588179654261,
          "x4": 469
         },
         {
          "x1": 4,
          "x2": 63,
          "x3": 0.3554735478622607,
          "x4": 470
         },
         {
          "x1": 7,
          "x2": 52,
          "x3": 0.8221604792358954,
          "x4": 471
         },
         {
          "x1": 3,
          "x2": 57,
          "x3": 0.6662660415483046,
          "x4": 472
         },
         {
          "x1": 7,
          "x2": 53,
          "x3": 0.6660786535350969,
          "x4": 473
         },
         {
          "x1": 4,
          "x2": 64,
          "x3": 0.7907799271175109,
          "x4": 474
         },
         {
          "x1": 4,
          "x2": 65,
          "x3": 0.48304085503579136,
          "x4": 475
         },
         {
          "x1": 6,
          "x2": 55,
          "x3": 0.7929645552524134,
          "x4": 476
         },
         {
          "x1": 8,
          "x2": 55,
          "x3": 0.8717500576966322,
          "x4": 477
         },
         {
          "x1": 2,
          "x2": 54,
          "x3": 0.4319647522595492,
          "x4": 478
         },
         {
          "x1": 4,
          "x2": 66,
          "x3": 0.5396672535134776,
          "x4": 479
         },
         {
          "x1": 7,
          "x2": 54,
          "x3": 0.8142770088882082,
          "x4": 480
         },
         {
          "x1": 6,
          "x2": 56,
          "x3": 0.6852538225078167,
          "x4": 481
         },
         {
          "x1": 6,
          "x2": 57,
          "x3": 0.5709427576608455,
          "x4": 482
         },
         {
          "x1": 6,
          "x2": 58,
          "x3": 0.7443858421108885,
          "x4": 483
         },
         {
          "x1": 3,
          "x2": 58,
          "x3": 0.28522141116841027,
          "x4": 484
         },
         {
          "x1": 6,
          "x2": 59,
          "x3": 0.7595272071086617,
          "x4": 485
         },
         {
          "x1": 8,
          "x2": 56,
          "x3": 0.8545516701786608,
          "x4": 486
         },
         {
          "x1": 2,
          "x2": 55,
          "x3": 0.3708713864634399,
          "x4": 487
         },
         {
          "x1": 0,
          "x2": 49,
          "x3": 0.26752243676772497,
          "x4": 488
         },
         {
          "x1": 3,
          "x2": 59,
          "x3": 0.22371789006626702,
          "x4": 489
         },
         {
          "x1": 2,
          "x2": 56,
          "x3": 0.22871324275331423,
          "x4": 490
         },
         {
          "x1": 7,
          "x2": 55,
          "x3": 0.9393429269501551,
          "x4": 491
         },
         {
          "x1": 8,
          "x2": 57,
          "x3": 0.8633108205038793,
          "x4": 492
         },
         {
          "x1": 1,
          "x2": 44,
          "x3": 0.17421708459319038,
          "x4": 493
         },
         {
          "x1": 3,
          "x2": 60,
          "x3": 0.5414387845824518,
          "x4": 494
         },
         {
          "x1": 6,
          "x2": 60,
          "x3": 0.688249250628292,
          "x4": 495
         },
         {
          "x1": 2,
          "x2": 57,
          "x3": 0.15965301945199087,
          "x4": 496
         },
         {
          "x1": 8,
          "x2": 58,
          "x3": 0.8809510262371243,
          "x4": 497
         },
         {
          "x1": 0,
          "x2": 50,
          "x3": 0.11977421761738273,
          "x4": 498
         },
         {
          "x1": 1,
          "x2": 45,
          "x3": 0.20165696047962337,
          "x4": 499
         },
         {
          "x1": 3,
          "x2": 61,
          "x3": 0.427598754895671,
          "x4": 500
         },
         {
          "x1": 2,
          "x2": 58,
          "x3": 0.2546665178840061,
          "x4": 501
         },
         {
          "x1": 8,
          "x2": 59,
          "x3": 0.7807650357829178,
          "x4": 502
         },
         {
          "x1": 7,
          "x2": 56,
          "x3": 0.8020537907627937,
          "x4": 503
         },
         {
          "x1": 3,
          "x2": 62,
          "x3": 0.25644296746099,
          "x4": 504
         },
         {
          "x1": 2,
          "x2": 59,
          "x3": 0.38821583142793636,
          "x4": 505
         },
         {
          "x1": 5,
          "x2": 49,
          "x3": 0.4437819723688745,
          "x4": 506
         },
         {
          "x1": 0,
          "x2": 51,
          "x3": 0.04284785983337485,
          "x4": 507
         },
         {
          "x1": 7,
          "x2": 57,
          "x3": 0.9176702701172263,
          "x4": 508
         },
         {
          "x1": 6,
          "x2": 61,
          "x3": 0.7461666449734499,
          "x4": 509
         },
         {
          "x1": 6,
          "x2": 62,
          "x3": 0.8420879998817472,
          "x4": 510
         },
         {
          "x1": 6,
          "x2": 63,
          "x3": 0.8694297206929978,
          "x4": 511
         },
         {
          "x1": 1,
          "x2": 46,
          "x3": 0.5334459633903285,
          "x4": 512
         },
         {
          "x1": 3,
          "x2": 63,
          "x3": 0.5659917631849549,
          "x4": 513
         },
         {
          "x1": 6,
          "x2": 64,
          "x3": 0.7192785050219483,
          "x4": 514
         },
         {
          "x1": 4,
          "x2": 67,
          "x3": 0.6037086031333811,
          "x4": 515
         },
         {
          "x1": 3,
          "x2": 64,
          "x3": 0.21485082650602924,
          "x4": 516
         },
         {
          "x1": 4,
          "x2": 68,
          "x3": 0.3278975042977824,
          "x4": 517
         },
         {
          "x1": 7,
          "x2": 58,
          "x3": 0.5743083280788412,
          "x4": 518
         },
         {
          "x1": 2,
          "x2": 60,
          "x3": 0.560708851479211,
          "x4": 519
         },
         {
          "x1": 7,
          "x2": 59,
          "x3": 0.8477420274218446,
          "x4": 520
         },
         {
          "x1": 5,
          "x2": 50,
          "x3": 0.736480014024738,
          "x4": 521
         },
         {
          "x1": 3,
          "x2": 65,
          "x3": 0.30412798152227466,
          "x4": 522
         },
         {
          "x1": 2,
          "x2": 61,
          "x3": 0.20390412960868962,
          "x4": 523
         },
         {
          "x1": 5,
          "x2": 51,
          "x3": 0.639542819554284,
          "x4": 524
         },
         {
          "x1": 3,
          "x2": 66,
          "x3": 0.7167862709554463,
          "x4": 525
         },
         {
          "x1": 4,
          "x2": 69,
          "x3": 0.6446466753502705,
          "x4": 526
         },
         {
          "x1": 5,
          "x2": 52,
          "x3": 0.47440442804023614,
          "x4": 527
         },
         {
          "x1": 0,
          "x2": 52,
          "x3": 0.04670469944099172,
          "x4": 528
         },
         {
          "x1": 4,
          "x2": 70,
          "x3": 0.6072782147842996,
          "x4": 529
         },
         {
          "x1": 7,
          "x2": 60,
          "x3": 0.7544498771139462,
          "x4": 530
         },
         {
          "x1": 7,
          "x2": 61,
          "x3": 0.9383955863817208,
          "x4": 531
         },
         {
          "x1": 0,
          "x2": 53,
          "x3": 0.1546987546348538,
          "x4": 532
         },
         {
          "x1": 0,
          "x2": 54,
          "x3": 0.06124572209043952,
          "x4": 533
         },
         {
          "x1": 6,
          "x2": 65,
          "x3": 0.8196797344449206,
          "x4": 534
         },
         {
          "x1": 7,
          "x2": 62,
          "x3": 0.8478421724933267,
          "x4": 535
         },
         {
          "x1": 6,
          "x2": 66,
          "x3": 0.7270499653727363,
          "x4": 536
         },
         {
          "x1": 6,
          "x2": 67,
          "x3": 0.8925635944619519,
          "x4": 537
         },
         {
          "x1": 1,
          "x2": 47,
          "x3": 0.08880837857256743,
          "x4": 538
         },
         {
          "x1": 5,
          "x2": 53,
          "x3": 0.39079918817732273,
          "x4": 539
         },
         {
          "x1": 6,
          "x2": 68,
          "x3": 0.6548460895064011,
          "x4": 540
         },
         {
          "x1": 4,
          "x2": 71,
          "x3": 0.49013450669990066,
          "x4": 541
         },
         {
          "x1": 5,
          "x2": 54,
          "x3": 0.36670650948831857,
          "x4": 542
         },
         {
          "x1": 2,
          "x2": 62,
          "x3": 0.2541732479201401,
          "x4": 543
         },
         {
          "x1": 3,
          "x2": 67,
          "x3": 0.35209346063839975,
          "x4": 544
         },
         {
          "x1": 0,
          "x2": 55,
          "x3": 0.2779500613863584,
          "x4": 545
         },
         {
          "x1": 5,
          "x2": 55,
          "x3": 0.14654499625728337,
          "x4": 546
         },
         {
          "x1": 2,
          "x2": 63,
          "x3": 0.2073545266546376,
          "x4": 547
         },
         {
          "x1": 2,
          "x2": 64,
          "x3": 0.14369611647767253,
          "x4": 548
         },
         {
          "x1": 4,
          "x2": 72,
          "x3": 0.4729921170452281,
          "x4": 549
         },
         {
          "x1": 0,
          "x2": 56,
          "x3": 0.2664245637584576,
          "x4": 550
         },
         {
          "x1": 1,
          "x2": 48,
          "x3": 0.23869482026220476,
          "x4": 551
         },
         {
          "x1": 2,
          "x2": 65,
          "x3": 0.30058886806506296,
          "x4": 552
         },
         {
          "x1": 1,
          "x2": 49,
          "x3": 0.16722758894054365,
          "x4": 553
         },
         {
          "x1": 8,
          "x2": 60,
          "x3": 0.9868234867817741,
          "x4": 554
         },
         {
          "x1": 0,
          "x2": 57,
          "x3": 0.009350838653359894,
          "x4": 555
         },
         {
          "x1": 7,
          "x2": 63,
          "x3": 0.998078290229255,
          "x4": 556
         },
         {
          "x1": 6,
          "x2": 69,
          "x3": 0.6681712837904611,
          "x4": 557
         },
         {
          "x1": 3,
          "x2": 68,
          "x3": 0.46826874333544377,
          "x4": 558
         },
         {
          "x1": 3,
          "x2": 69,
          "x3": 0.23657009387625857,
          "x4": 559
         },
         {
          "x1": 8,
          "x2": 61,
          "x3": 0.9832153172061187,
          "x4": 560
         },
         {
          "x1": 5,
          "x2": 56,
          "x3": 0.7081551845031552,
          "x4": 561
         },
         {
          "x1": 3,
          "x2": 70,
          "x3": 0.24888107984497373,
          "x4": 562
         },
         {
          "x1": 8,
          "x2": 62,
          "x3": 0.8798254083738373,
          "x4": 563
         },
         {
          "x1": 4,
          "x2": 73,
          "x3": 0.6340703161574194,
          "x4": 564
         },
         {
          "x1": 3,
          "x2": 71,
          "x3": 0.2069757417004753,
          "x4": 565
         },
         {
          "x1": 5,
          "x2": 57,
          "x3": 0.7744367375523332,
          "x4": 566
         },
         {
          "x1": 7,
          "x2": 64,
          "x3": 0.9472772513249816,
          "x4": 567
         },
         {
          "x1": 4,
          "x2": 74,
          "x3": 0.2676435299165809,
          "x4": 568
         },
         {
          "x1": 8,
          "x2": 63,
          "x3": 0.8837158582919746,
          "x4": 569
         },
         {
          "x1": 8,
          "x2": 64,
          "x3": 0.8303777846706821,
          "x4": 570
         },
         {
          "x1": 2,
          "x2": 66,
          "x3": 0.6294184172503458,
          "x4": 571
         },
         {
          "x1": 5,
          "x2": 58,
          "x3": 0.6885821984416794,
          "x4": 572
         },
         {
          "x1": 2,
          "x2": 67,
          "x3": 0.31570190824989947,
          "x4": 573
         },
         {
          "x1": 4,
          "x2": 75,
          "x3": 0.3243421432518973,
          "x4": 574
         },
         {
          "x1": 8,
          "x2": 65,
          "x3": 0.9722178154832353,
          "x4": 575
         },
         {
          "x1": 7,
          "x2": 65,
          "x3": 0.7954981272040711,
          "x4": 576
         },
         {
          "x1": 4,
          "x2": 76,
          "x3": 0.3891009874821956,
          "x4": 577
         },
         {
          "x1": 6,
          "x2": 70,
          "x3": 0.9458884217520696,
          "x4": 578
         },
         {
          "x1": 2,
          "x2": 68,
          "x3": 0.32466721418921457,
          "x4": 579
         },
         {
          "x1": 4,
          "x2": 77,
          "x3": 0.6239847681061974,
          "x4": 580
         },
         {
          "x1": 2,
          "x2": 69,
          "x3": 0.4152378981383298,
          "x4": 581
         },
         {
          "x1": 5,
          "x2": 59,
          "x3": 0.47665979475711007,
          "x4": 582
         },
         {
          "x1": 4,
          "x2": 78,
          "x3": 0.5301477702724805,
          "x4": 583
         },
         {
          "x1": 6,
          "x2": 71,
          "x3": 0.9039785491797387,
          "x4": 584
         },
         {
          "x1": 0,
          "x2": 58,
          "x3": 0.053861151466017845,
          "x4": 585
         },
         {
          "x1": 4,
          "x2": 79,
          "x3": 0.6609050272485932,
          "x4": 586
         },
         {
          "x1": 1,
          "x2": 50,
          "x3": 0.05101348472375871,
          "x4": 587
         },
         {
          "x1": 4,
          "x2": 80,
          "x3": 0.3611613447328929,
          "x4": 588
         },
         {
          "x1": 7,
          "x2": 66,
          "x3": 0.9669627110585821,
          "x4": 589
         },
         {
          "x1": 2,
          "x2": 70,
          "x3": 0.47942468855343184,
          "x4": 590
         },
         {
          "x1": 5,
          "x2": 60,
          "x3": 0.6060545642746886,
          "x4": 591
         },
         {
          "x1": 7,
          "x2": 67,
          "x3": 0.9025392801179856,
          "x4": 592
         },
         {
          "x1": 3,
          "x2": 72,
          "x3": 0.6307147532259406,
          "x4": 593
         },
         {
          "x1": 7,
          "x2": 68,
          "x3": 0.8703884270741833,
          "x4": 594
         },
         {
          "x1": 1,
          "x2": 51,
          "x3": 0.09543479233298724,
          "x4": 595
         },
         {
          "x1": 3,
          "x2": 73,
          "x3": 0.3935699980378687,
          "x4": 596
         },
         {
          "x1": 3,
          "x2": 74,
          "x3": 0.5810305455253496,
          "x4": 597
         },
         {
          "x1": 0,
          "x2": 59,
          "x3": 0.016285961558698932,
          "x4": 598
         },
         {
          "x1": 2,
          "x2": 71,
          "x3": 0.5048789143958088,
          "x4": 599
         },
         {
          "x1": 8,
          "x2": 66,
          "x3": 0.8215426185482625,
          "x4": 600
         },
         {
          "x1": 0,
          "x2": 60,
          "x3": 0.010089707042866365,
          "x4": 601
         },
         {
          "x1": 6,
          "x2": 72,
          "x3": 0.8636784075906364,
          "x4": 602
         },
         {
          "x1": 7,
          "x2": 69,
          "x3": 0.5847129220506146,
          "x4": 603
         },
         {
          "x1": 5,
          "x2": 61,
          "x3": 0.3435369148347148,
          "x4": 604
         },
         {
          "x1": 4,
          "x2": 81,
          "x3": 0.5745221076039418,
          "x4": 605
         },
         {
          "x1": 8,
          "x2": 67,
          "x3": 0.8568303358090688,
          "x4": 606
         },
         {
          "x1": 8,
          "x2": 68,
          "x3": 0.9490296199948365,
          "x4": 607
         },
         {
          "x1": 3,
          "x2": 75,
          "x3": 0.27905608185557584,
          "x4": 608
         },
         {
          "x1": 0,
          "x2": 61,
          "x3": 0.04081584037237019,
          "x4": 609
         },
         {
          "x1": 1,
          "x2": 52,
          "x3": 0.42883251048627047,
          "x4": 610
         },
         {
          "x1": 3,
          "x2": 76,
          "x3": 0.5406269731396101,
          "x4": 611
         },
         {
          "x1": 1,
          "x2": 53,
          "x3": 0.06537010985317655,
          "x4": 612
         },
         {
          "x1": 2,
          "x2": 72,
          "x3": 0.34298157891921727,
          "x4": 613
         },
         {
          "x1": 6,
          "x2": 73,
          "x3": 0.5726770513015437,
          "x4": 614
         },
         {
          "x1": 7,
          "x2": 70,
          "x3": 0.852531855336446,
          "x4": 615
         },
         {
          "x1": 5,
          "x2": 62,
          "x3": 0.6130083522562092,
          "x4": 616
         },
         {
          "x1": 4,
          "x2": 82,
          "x3": 0.5839370104922061,
          "x4": 617
         },
         {
          "x1": 6,
          "x2": 74,
          "x3": 0.6724529770718009,
          "x4": 618
         },
         {
          "x1": 4,
          "x2": 83,
          "x3": 0.5741980525455669,
          "x4": 619
         },
         {
          "x1": 5,
          "x2": 63,
          "x3": 0.583608121118126,
          "x4": 620
         },
         {
          "x1": 2,
          "x2": 73,
          "x3": 0.27936783579089436,
          "x4": 621
         },
         {
          "x1": 7,
          "x2": 71,
          "x3": 0.8954744554976819,
          "x4": 622
         },
         {
          "x1": 5,
          "x2": 64,
          "x3": 0.6014831923648919,
          "x4": 623
         },
         {
          "x1": 8,
          "x2": 69,
          "x3": 0.9490195992476986,
          "x4": 624
         },
         {
          "x1": 8,
          "x2": 70,
          "x3": 0.9524324000828319,
          "x4": 625
         },
         {
          "x1": 0,
          "x2": 62,
          "x3": 0.006680500606376231,
          "x4": 626
         },
         {
          "x1": 3,
          "x2": 77,
          "x3": 0.4967693574942008,
          "x4": 627
         },
         {
          "x1": 2,
          "x2": 74,
          "x3": 0.4137710379055689,
          "x4": 628
         },
         {
          "x1": 1,
          "x2": 54,
          "x3": 0.2216280189327812,
          "x4": 629
         },
         {
          "x1": 3,
          "x2": 78,
          "x3": 0.407495762624794,
          "x4": 630
         },
         {
          "x1": 5,
          "x2": 65,
          "x3": 0.6295391983279292,
          "x4": 631
         },
         {
          "x1": 8,
          "x2": 71,
          "x3": 0.7871028901574814,
          "x4": 632
         },
         {
          "x1": 2,
          "x2": 75,
          "x3": 0.27030289276421937,
          "x4": 633
         },
         {
          "x1": 0,
          "x2": 63,
          "x3": 0.01739186512778018,
          "x4": 634
         },
         {
          "x1": 7,
          "x2": 72,
          "x3": 0.8478042981057811,
          "x4": 635
         },
         {
          "x1": 8,
          "x2": 72,
          "x3": 0.9328977440381525,
          "x4": 636
         },
         {
          "x1": 4,
          "x2": 84,
          "x3": 0.3690004300031286,
          "x4": 637
         },
         {
          "x1": 7,
          "x2": 73,
          "x3": 0.9441883072311972,
          "x4": 638
         },
         {
          "x1": 8,
          "x2": 73,
          "x3": 0.8841682511288881,
          "x4": 639
         },
         {
          "x1": 7,
          "x2": 74,
          "x3": 0.9529868639389183,
          "x4": 640
         },
         {
          "x1": 8,
          "x2": 74,
          "x3": 0.924450392349479,
          "x4": 641
         },
         {
          "x1": 0,
          "x2": 64,
          "x3": 0.20965200002401774,
          "x4": 642
         },
         {
          "x1": 7,
          "x2": 75,
          "x3": 0.7184406491889358,
          "x4": 643
         },
         {
          "x1": 6,
          "x2": 75,
          "x3": 0.7352122036808989,
          "x4": 644
         },
         {
          "x1": 7,
          "x2": 76,
          "x3": 0.7036431972729672,
          "x4": 645
         },
         {
          "x1": 4,
          "x2": 85,
          "x3": 0.4974115893368175,
          "x4": 646
         },
         {
          "x1": 5,
          "x2": 66,
          "x3": 0.526002421982651,
          "x4": 647
         },
         {
          "x1": 2,
          "x2": 76,
          "x3": 0.19466998535235433,
          "x4": 648
         },
         {
          "x1": 0,
          "x2": 65,
          "x3": 0.20420228456930134,
          "x4": 649
         },
         {
          "x1": 0,
          "x2": 66,
          "x3": 0.29582298741406976,
          "x4": 650
         },
         {
          "x1": 0,
          "x2": 67,
          "x3": 0.22237178492222315,
          "x4": 651
         },
         {
          "x1": 5,
          "x2": 67,
          "x3": 0.8275891558085753,
          "x4": 652
         },
         {
          "x1": 8,
          "x2": 75,
          "x3": 0.99918069146264,
          "x4": 653
         },
         {
          "x1": 5,
          "x2": 68,
          "x3": 0.48035862578479704,
          "x4": 654
         },
         {
          "x1": 3,
          "x2": 79,
          "x3": 0.4538369433319212,
          "x4": 655
         },
         {
          "x1": 6,
          "x2": 76,
          "x3": 0.7368872807789184,
          "x4": 656
         },
         {
          "x1": 1,
          "x2": 55,
          "x3": 0.2560378999519694,
          "x4": 657
         },
         {
          "x1": 1,
          "x2": 56,
          "x3": 0.1009250348986786,
          "x4": 658
         },
         {
          "x1": 7,
          "x2": 77,
          "x3": 0.8548677511474911,
          "x4": 659
         },
         {
          "x1": 3,
          "x2": 80,
          "x3": 0.34541874307876663,
          "x4": 660
         },
         {
          "x1": 8,
          "x2": 76,
          "x3": 0.9770659170911634,
          "x4": 661
         },
         {
          "x1": 1,
          "x2": 57,
          "x3": 0.10963126673569393,
          "x4": 662
         },
         {
          "x1": 0,
          "x2": 68,
          "x3": 0.13129012066573392,
          "x4": 663
         },
         {
          "x1": 7,
          "x2": 78,
          "x3": 0.7586153153590461,
          "x4": 664
         },
         {
          "x1": 3,
          "x2": 81,
          "x3": 0.22904951163122897,
          "x4": 665
         },
         {
          "x1": 0,
          "x2": 69,
          "x3": 0.07540799118869008,
          "x4": 666
         },
         {
          "x1": 8,
          "x2": 77,
          "x3": 0.9080417794761064,
          "x4": 667
         },
         {
          "x1": 2,
          "x2": 77,
          "x3": 0.17591077625647417,
          "x4": 668
         },
         {
          "x1": 8,
          "x2": 78,
          "x3": 0.9103995008186678,
          "x4": 669
         },
         {
          "x1": 2,
          "x2": 78,
          "x3": 0.1584676030509807,
          "x4": 670
         },
         {
          "x1": 0,
          "x2": 70,
          "x3": 0.22309412644837845,
          "x4": 671
         },
         {
          "x1": 8,
          "x2": 79,
          "x3": 0.9694661665643991,
          "x4": 672
         },
         {
          "x1": 1,
          "x2": 58,
          "x3": 0.2675766797925024,
          "x4": 673
         },
         {
          "x1": 2,
          "x2": 79,
          "x3": 0.17455502395888522,
          "x4": 674
         },
         {
          "x1": 7,
          "x2": 79,
          "x3": 0.8470622733093515,
          "x4": 675
         },
         {
          "x1": 6,
          "x2": 77,
          "x3": 0.7980953578792429,
          "x4": 676
         },
         {
          "x1": 2,
          "x2": 80,
          "x3": 0.16019728857628343,
          "x4": 677
         },
         {
          "x1": 1,
          "x2": 59,
          "x3": 0.1839777688364586,
          "x4": 678
         },
         {
          "x1": 2,
          "x2": 81,
          "x3": 0.46473189386926333,
          "x4": 679
         },
         {
          "x1": 4,
          "x2": 86,
          "x3": 0.45776884335505813,
          "x4": 680
         },
         {
          "x1": 0,
          "x2": 71,
          "x3": 0.003666171207446955,
          "x4": 681
         },
         {
          "x1": 2,
          "x2": 82,
          "x3": 0.5560888778631106,
          "x4": 682
         },
         {
          "x1": 6,
          "x2": 78,
          "x3": 0.6425963884216941,
          "x4": 683
         },
         {
          "x1": 6,
          "x2": 79,
          "x3": 0.7528009438221818,
          "x4": 684
         },
         {
          "x1": 4,
          "x2": 87,
          "x3": 0.5056229398881394,
          "x4": 685
         },
         {
          "x1": 0,
          "x2": 72,
          "x3": 0.08126459476198224,
          "x4": 686
         },
         {
          "x1": 1,
          "x2": 60,
          "x3": 0.08107686340041803,
          "x4": 687
         },
         {
          "x1": 7,
          "x2": 80,
          "x3": 0.4449971156468168,
          "x4": 688
         },
         {
          "x1": 6,
          "x2": 80,
          "x3": 0.6936213481763142,
          "x4": 689
         },
         {
          "x1": 1,
          "x2": 61,
          "x3": 0.18808227291653787,
          "x4": 690
         },
         {
          "x1": 3,
          "x2": 82,
          "x3": 0.6302328261479296,
          "x4": 691
         },
         {
          "x1": 1,
          "x2": 62,
          "x3": 0.6097748766211478,
          "x4": 692
         },
         {
          "x1": 1,
          "x2": 63,
          "x3": 0.24490048668305772,
          "x4": 693
         },
         {
          "x1": 7,
          "x2": 81,
          "x3": 0.7745638018337903,
          "x4": 694
         },
         {
          "x1": 2,
          "x2": 83,
          "x3": 0.18128806683802984,
          "x4": 695
         },
         {
          "x1": 4,
          "x2": 88,
          "x3": 0.4580663510785753,
          "x4": 696
         },
         {
          "x1": 7,
          "x2": 82,
          "x3": 0.8376625764412147,
          "x4": 697
         },
         {
          "x1": 2,
          "x2": 84,
          "x3": 0.3322966676319222,
          "x4": 698
         },
         {
          "x1": 3,
          "x2": 83,
          "x3": 0.36335889528603216,
          "x4": 699
         },
         {
          "x1": 5,
          "x2": 69,
          "x3": 0.7114595846833912,
          "x4": 700
         },
         {
          "x1": 3,
          "x2": 84,
          "x3": 0.39517844436164756,
          "x4": 701
         },
         {
          "x1": 5,
          "x2": 70,
          "x3": 0.4982372393361303,
          "x4": 702
         },
         {
          "x1": 8,
          "x2": 80,
          "x3": 0.8259796670217784,
          "x4": 703
         },
         {
          "x1": 4,
          "x2": 89,
          "x3": 0.7006779261138294,
          "x4": 704
         },
         {
          "x1": 5,
          "x2": 71,
          "x3": 0.8867602020777045,
          "x4": 705
         },
         {
          "x1": 8,
          "x2": 81,
          "x3": 0.9726155098431863,
          "x4": 706
         },
         {
          "x1": 8,
          "x2": 82,
          "x3": 0.965022662607754,
          "x4": 707
         },
         {
          "x1": 5,
          "x2": 72,
          "x3": 0.7031793196634731,
          "x4": 708
         },
         {
          "x1": 5,
          "x2": 73,
          "x3": 0.5355779222635645,
          "x4": 709
         },
         {
          "x1": 2,
          "x2": 85,
          "x3": 0.2736439526397122,
          "x4": 710
         },
         {
          "x1": 4,
          "x2": 90,
          "x3": 0.7367630694218037,
          "x4": 711
         },
         {
          "x1": 6,
          "x2": 81,
          "x3": 0.7922102296387008,
          "x4": 712
         },
         {
          "x1": 4,
          "x2": 91,
          "x3": 0.46490872318391796,
          "x4": 713
         },
         {
          "x1": 3,
          "x2": 85,
          "x3": 0.32714224259195684,
          "x4": 714
         },
         {
          "x1": 2,
          "x2": 86,
          "x3": 0.24450611103108305,
          "x4": 715
         },
         {
          "x1": 1,
          "x2": 64,
          "x3": 0.13198704311670117,
          "x4": 716
         },
         {
          "x1": 6,
          "x2": 82,
          "x3": 0.8305137606584561,
          "x4": 717
         },
         {
          "x1": 0,
          "x2": 73,
          "x3": 0.051907606232444246,
          "x4": 718
         },
         {
          "x1": 8,
          "x2": 83,
          "x3": 0.9468259703903756,
          "x4": 719
         },
         {
          "x1": 3,
          "x2": 86,
          "x3": 0.5636186919191322,
          "x4": 720
         },
         {
          "x1": 7,
          "x2": 83,
          "x3": 0.7175342753395887,
          "x4": 721
         },
         {
          "x1": 1,
          "x2": 65,
          "x3": 0.11729611987878148,
          "x4": 722
         },
         {
          "x1": 8,
          "x2": 84,
          "x3": 0.9608973820925955,
          "x4": 723
         },
         {
          "x1": 3,
          "x2": 87,
          "x3": 0.2708374635255664,
          "x4": 724
         },
         {
          "x1": 4,
          "x2": 92,
          "x3": 0.26850267372552006,
          "x4": 725
         },
         {
          "x1": 3,
          "x2": 88,
          "x3": 0.7251504781938217,
          "x4": 726
         },
         {
          "x1": 2,
          "x2": 87,
          "x3": 0.4574209499918563,
          "x4": 727
         },
         {
          "x1": 6,
          "x2": 83,
          "x3": 0.6126314778822088,
          "x4": 728
         },
         {
          "x1": 2,
          "x2": 88,
          "x3": 0.47575627529214026,
          "x4": 729
         },
         {
          "x1": 0,
          "x2": 74,
          "x3": 0.13939017000069004,
          "x4": 730
         },
         {
          "x1": 1,
          "x2": 66,
          "x3": 0.2697978308362259,
          "x4": 731
         },
         {
          "x1": 0,
          "x2": 75,
          "x3": 0.021285745779228923,
          "x4": 732
         },
         {
          "x1": 2,
          "x2": 89,
          "x3": 0.20722580340857244,
          "x4": 733
         },
         {
          "x1": 3,
          "x2": 89,
          "x3": 0.49888563182672907,
          "x4": 734
         },
         {
          "x1": 7,
          "x2": 84,
          "x3": 0.8613804985232859,
          "x4": 735
         },
         {
          "x1": 0,
          "x2": 76,
          "x3": 0.37592054261148,
          "x4": 736
         },
         {
          "x1": 3,
          "x2": 90,
          "x3": 0.594097805454579,
          "x4": 737
         },
         {
          "x1": 4,
          "x2": 93,
          "x3": 0.49011649585489075,
          "x4": 738
         },
         {
          "x1": 8,
          "x2": 85,
          "x3": 0.916238326673207,
          "x4": 739
         },
         {
          "x1": 1,
          "x2": 67,
          "x3": 0.021847503211069368,
          "x4": 740
         },
         {
          "x1": 5,
          "x2": 74,
          "x3": 0.4678553597115271,
          "x4": 741
         },
         {
          "x1": 8,
          "x2": 86,
          "x3": 0.9437153895636019,
          "x4": 742
         },
         {
          "x1": 3,
          "x2": 91,
          "x3": 0.23808521721905096,
          "x4": 743
         },
         {
          "x1": 0,
          "x2": 77,
          "x3": 0.23073482053404537,
          "x4": 744
         },
         {
          "x1": 6,
          "x2": 84,
          "x3": 0.8735468851458008,
          "x4": 745
         },
         {
          "x1": 3,
          "x2": 92,
          "x3": 0.33615783265047505,
          "x4": 746
         },
         {
          "x1": 0,
          "x2": 78,
          "x3": 0.20943400282842498,
          "x4": 747
         },
         {
          "x1": 1,
          "x2": 68,
          "x3": 0.2639493856294803,
          "x4": 748
         },
         {
          "x1": 1,
          "x2": 69,
          "x3": 0.3296892923902632,
          "x4": 749
         },
         {
          "x1": 2,
          "x2": 90,
          "x3": 0.1478588884957336,
          "x4": 750
         },
         {
          "x1": 2,
          "x2": 91,
          "x3": 0.15956787318437157,
          "x4": 751
         },
         {
          "x1": 2,
          "x2": 92,
          "x3": 0.34355280182308295,
          "x4": 752
         },
         {
          "x1": 0,
          "x2": 79,
          "x3": 0.06913886658916499,
          "x4": 753
         },
         {
          "x1": 6,
          "x2": 85,
          "x3": 0.6609902756590127,
          "x4": 754
         },
         {
          "x1": 4,
          "x2": 94,
          "x3": 0.7449966364318935,
          "x4": 755
         },
         {
          "x1": 4,
          "x2": 95,
          "x3": 0.5047426404171594,
          "x4": 756
         },
         {
          "x1": 7,
          "x2": 85,
          "x3": 0.9283025156121485,
          "x4": 757
         },
         {
          "x1": 0,
          "x2": 80,
          "x3": 0.02426127545442249,
          "x4": 758
         },
         {
          "x1": 2,
          "x2": 93,
          "x3": 0.1609138189057689,
          "x4": 759
         },
         {
          "x1": 2,
          "x2": 94,
          "x3": 0.27375987101894583,
          "x4": 760
         },
         {
          "x1": 6,
          "x2": 86,
          "x3": 0.8754284016917071,
          "x4": 761
         },
         {
          "x1": 7,
          "x2": 86,
          "x3": 0.9697822073008299,
          "x4": 762
         },
         {
          "x1": 2,
          "x2": 95,
          "x3": 0.48677644203517323,
          "x4": 763
         },
         {
          "x1": 8,
          "x2": 87,
          "x3": 0.9932460823846972,
          "x4": 764
         },
         {
          "x1": 7,
          "x2": 87,
          "x3": 0.5379372965224923,
          "x4": 765
         },
         {
          "x1": 8,
          "x2": 88,
          "x3": 0.9358902781033366,
          "x4": 766
         },
         {
          "x1": 1,
          "x2": 70,
          "x3": 0.3441746644102922,
          "x4": 767
         },
         {
          "x1": 5,
          "x2": 75,
          "x3": 0.3523579568464515,
          "x4": 768
         },
         {
          "x1": 3,
          "x2": 93,
          "x3": 0.17833387699503794,
          "x4": 769
         },
         {
          "x1": 0,
          "x2": 81,
          "x3": 0.23569524447066723,
          "x4": 770
         },
         {
          "x1": 3,
          "x2": 94,
          "x3": 0.5924971305654358,
          "x4": 771
         },
         {
          "x1": 0,
          "x2": 82,
          "x3": 0.003250730650031268,
          "x4": 772
         },
         {
          "x1": 1,
          "x2": 71,
          "x3": 0.22312720578042533,
          "x4": 773
         },
         {
          "x1": 4,
          "x2": 96,
          "x3": 0.3201510733550281,
          "x4": 774
         },
         {
          "x1": 2,
          "x2": 96,
          "x3": 0.39979400596104075,
          "x4": 775
         },
         {
          "x1": 3,
          "x2": 95,
          "x3": 0.3970782885963985,
          "x4": 776
         },
         {
          "x1": 7,
          "x2": 88,
          "x3": 0.6579529879498031,
          "x4": 777
         },
         {
          "x1": 1,
          "x2": 72,
          "x3": 0.07304554157990686,
          "x4": 778
         },
         {
          "x1": 3,
          "x2": 96,
          "x3": 0.19252781191102844,
          "x4": 779
         },
         {
          "x1": 5,
          "x2": 76,
          "x3": 0.23146300731094985,
          "x4": 780
         },
         {
          "x1": 2,
          "x2": 97,
          "x3": 0.4339694603376446,
          "x4": 781
         },
         {
          "x1": 5,
          "x2": 77,
          "x3": 0.5248959853374356,
          "x4": 782
         },
         {
          "x1": 7,
          "x2": 89,
          "x3": 0.7042577117896566,
          "x4": 783
         },
         {
          "x1": 8,
          "x2": 89,
          "x3": 0.9923698543680659,
          "x4": 784
         },
         {
          "x1": 8,
          "x2": 90,
          "x3": 0.9884559940504117,
          "x4": 785
         },
         {
          "x1": 2,
          "x2": 98,
          "x3": 0.2655165837669911,
          "x4": 786
         },
         {
          "x1": 8,
          "x2": 91,
          "x3": 0.9526790936793798,
          "x4": 787
         },
         {
          "x1": 2,
          "x2": 99,
          "x3": 0.09166554758198832,
          "x4": 788
         },
         {
          "x1": 2,
          "x2": 100,
          "x3": 0.20821758237857105,
          "x4": 789
         },
         {
          "x1": 0,
          "x2": 83,
          "x3": 0.09046872340399914,
          "x4": 790
         },
         {
          "x1": 8,
          "x2": 92,
          "x3": 0.7721293066911006,
          "x4": 791
         },
         {
          "x1": 7,
          "x2": 90,
          "x3": 0.8709887363447291,
          "x4": 792
         },
         {
          "x1": 6,
          "x2": 87,
          "x3": 0.6713685711963443,
          "x4": 793
         },
         {
          "x1": 6,
          "x2": 88,
          "x3": 0.7613200603811862,
          "x4": 794
         },
         {
          "x1": 7,
          "x2": 91,
          "x3": 0.6840595106758158,
          "x4": 795
         },
         {
          "x1": 4,
          "x2": 97,
          "x3": 0.4200515408965095,
          "x4": 796
         },
         {
          "x1": 6,
          "x2": 89,
          "x3": 0.6197551072492106,
          "x4": 797
         },
         {
          "x1": 7,
          "x2": 92,
          "x3": 0.749942143636121,
          "x4": 798
         },
         {
          "x1": 6,
          "x2": 90,
          "x3": 0.4212906273652169,
          "x4": 799
         },
         {
          "x1": 2,
          "x2": 101,
          "x3": 0.31750078543329513,
          "x4": 800
         },
         {
          "x1": 0,
          "x2": 84,
          "x3": 0.1311403943143922,
          "x4": 801
         },
         {
          "x1": 4,
          "x2": 98,
          "x3": 0.5277835021645327,
          "x4": 802
         },
         {
          "x1": 0,
          "x2": 85,
          "x3": 0.09888821664466309,
          "x4": 803
         },
         {
          "x1": 4,
          "x2": 99,
          "x3": 0.30470765401044453,
          "x4": 804
         },
         {
          "x1": 7,
          "x2": 93,
          "x3": 0.862420913701186,
          "x4": 805
         },
         {
          "x1": 0,
          "x2": 86,
          "x3": 0.03915572922865905,
          "x4": 806
         },
         {
          "x1": 0,
          "x2": 87,
          "x3": 0.03566225741192241,
          "x4": 807
         },
         {
          "x1": 6,
          "x2": 91,
          "x3": 0.4723790423093945,
          "x4": 808
         },
         {
          "x1": 8,
          "x2": 93,
          "x3": 0.8994828776443536,
          "x4": 809
         },
         {
          "x1": 7,
          "x2": 94,
          "x3": 0.6690582158660822,
          "x4": 810
         },
         {
          "x1": 2,
          "x2": 102,
          "x3": 0.5069844826032414,
          "x4": 811
         },
         {
          "x1": 7,
          "x2": 95,
          "x3": 0.9428344784047491,
          "x4": 812
         },
         {
          "x1": 8,
          "x2": 94,
          "x3": 0.866469625559358,
          "x4": 813
         },
         {
          "x1": 8,
          "x2": 95,
          "x3": 0.9819535107290501,
          "x4": 814
         },
         {
          "x1": 7,
          "x2": 96,
          "x3": 0.7062331162000922,
          "x4": 815
         },
         {
          "x1": 6,
          "x2": 92,
          "x3": 0.8090631809658038,
          "x4": 816
         },
         {
          "x1": 3,
          "x2": 97,
          "x3": 0.6226965007085852,
          "x4": 817
         },
         {
          "x1": 3,
          "x2": 98,
          "x3": 0.5469185586082682,
          "x4": 818
         },
         {
          "x1": 6,
          "x2": 93,
          "x3": 0.8429664818378392,
          "x4": 819
         },
         {
          "x1": 6,
          "x2": 94,
          "x3": 0.5768764826881825,
          "x4": 820
         },
         {
          "x1": 4,
          "x2": 100,
          "x3": 0.7328359685086119,
          "x4": 821
         },
         {
          "x1": 0,
          "x2": 88,
          "x3": 0.04194142594509272,
          "x4": 822
         },
         {
          "x1": 1,
          "x2": 73,
          "x3": 0.09576383722371351,
          "x4": 823
         },
         {
          "x1": 1,
          "x2": 74,
          "x3": 0.13437031535677005,
          "x4": 824
         },
         {
          "x1": 0,
          "x2": 89,
          "x3": 0.014667155664513572,
          "x4": 825
         },
         {
          "x1": 7,
          "x2": 97,
          "x3": 0.7989174319733103,
          "x4": 826
         },
         {
          "x1": 0,
          "x2": 90,
          "x3": 0.08401793867967075,
          "x4": 827
         },
         {
          "x1": 7,
          "x2": 98,
          "x3": 0.9185329793245525,
          "x4": 828
         },
         {
          "x1": 0,
          "x2": 91,
          "x3": 0.07621033985931065,
          "x4": 829
         },
         {
          "x1": 3,
          "x2": 99,
          "x3": 0.5347161657453324,
          "x4": 830
         },
         {
          "x1": 1,
          "x2": 75,
          "x3": 0.19983296886939106,
          "x4": 831
         },
         {
          "x1": 1,
          "x2": 76,
          "x3": 0.20898937291133982,
          "x4": 832
         },
         {
          "x1": 4,
          "x2": 101,
          "x3": 0.6008476361539118,
          "x4": 833
         },
         {
          "x1": 5,
          "x2": 78,
          "x3": 0.33111751179596116,
          "x4": 834
         },
         {
          "x1": 5,
          "x2": 79,
          "x3": 0.6283590104855898,
          "x4": 835
         },
         {
          "x1": 0,
          "x2": 92,
          "x3": 0.05319095061965309,
          "x4": 836
         },
         {
          "x1": 1,
          "x2": 77,
          "x3": 0.0938207839112449,
          "x4": 837
         },
         {
          "x1": 4,
          "x2": 102,
          "x3": 0.4943323401850433,
          "x4": 838
         },
         {
          "x1": 3,
          "x2": 100,
          "x3": 0.208963905413823,
          "x4": 839
         },
         {
          "x1": 8,
          "x2": 96,
          "x3": 0.9416944359523255,
          "x4": 840
         },
         {
          "x1": 1,
          "x2": 78,
          "x3": 0.21497218987992167,
          "x4": 841
         },
         {
          "x1": 0,
          "x2": 93,
          "x3": 0.133168034838223,
          "x4": 842
         },
         {
          "x1": 2,
          "x2": 103,
          "x3": 0.41122458570670795,
          "x4": 843
         },
         {
          "x1": 6,
          "x2": 95,
          "x3": 0.7023297862362307,
          "x4": 844
         },
         {
          "x1": 3,
          "x2": 101,
          "x3": 0.5764522002990161,
          "x4": 845
         },
         {
          "x1": 5,
          "x2": 80,
          "x3": 0.8261374023565291,
          "x4": 846
         },
         {
          "x1": 6,
          "x2": 96,
          "x3": 0.7947255961166806,
          "x4": 847
         },
         {
          "x1": 3,
          "x2": 102,
          "x3": 0.351060866382445,
          "x4": 848
         },
         {
          "x1": 6,
          "x2": 97,
          "x3": 0.7339189290066572,
          "x4": 849
         },
         {
          "x1": 0,
          "x2": 94,
          "x3": 0.2727107702244655,
          "x4": 850
         },
         {
          "x1": 8,
          "x2": 97,
          "x3": 0.8937019605122343,
          "x4": 851
         },
         {
          "x1": 1,
          "x2": 79,
          "x3": 0.34426082119684076,
          "x4": 852
         },
         {
          "x1": 4,
          "x2": 103,
          "x3": 0.3364270763022752,
          "x4": 853
         },
         {
          "x1": 1,
          "x2": 80,
          "x3": 0.11467471849152899,
          "x4": 854
         },
         {
          "x1": 2,
          "x2": 104,
          "x3": 0.3416435585073341,
          "x4": 855
         },
         {
          "x1": 5,
          "x2": 81,
          "x3": 0.49241863487512194,
          "x4": 856
         },
         {
          "x1": 0,
          "x2": 95,
          "x3": 0.08055449053229123,
          "x4": 857
         },
         {
          "x1": 1,
          "x2": 81,
          "x3": 0.25972072711180516,
          "x4": 858
         },
         {
          "x1": 6,
          "x2": 98,
          "x3": 0.7955580129487017,
          "x4": 859
         },
         {
          "x1": 0,
          "x2": 96,
          "x3": 0.22682542482118173,
          "x4": 860
         },
         {
          "x1": 7,
          "x2": 99,
          "x3": 0.8363589183464478,
          "x4": 861
         },
         {
          "x1": 7,
          "x2": 100,
          "x3": 0.5516734984335712,
          "x4": 862
         },
         {
          "x1": 0,
          "x2": 97,
          "x3": 0.02417741229066887,
          "x4": 863
         },
         {
          "x1": 4,
          "x2": 104,
          "x3": 0.623181876394821,
          "x4": 864
         },
         {
          "x1": 3,
          "x2": 103,
          "x3": 0.21720551827075718,
          "x4": 865
         },
         {
          "x1": 1,
          "x2": 82,
          "x3": 0.10101438597225615,
          "x4": 866
         },
         {
          "x1": 5,
          "x2": 82,
          "x3": 0.8215306652634069,
          "x4": 867
         },
         {
          "x1": 5,
          "x2": 83,
          "x3": 0.5891403313125331,
          "x4": 868
         },
         {
          "x1": 2,
          "x2": 105,
          "x3": 0.4917141273017863,
          "x4": 869
         },
         {
          "x1": 3,
          "x2": 104,
          "x3": 0.5454432803269202,
          "x4": 870
         },
         {
          "x1": 1,
          "x2": 83,
          "x3": 0.14458344923340297,
          "x4": 871
         },
         {
          "x1": 0,
          "x2": 98,
          "x3": 0.11054355413283581,
          "x4": 872
         },
         {
          "x1": 1,
          "x2": 84,
          "x3": 0.2678146155534593,
          "x4": 873
         },
         {
          "x1": 3,
          "x2": 105,
          "x3": 0.41262242749606787,
          "x4": 874
         },
         {
          "x1": 6,
          "x2": 99,
          "x3": 0.818682178912921,
          "x4": 875
         },
         {
          "x1": 4,
          "x2": 105,
          "x3": 0.512783480617776,
          "x4": 876
         },
         {
          "x1": 7,
          "x2": 101,
          "x3": 0.7473276366577588,
          "x4": 877
         },
         {
          "x1": 6,
          "x2": 100,
          "x3": 0.5088062139106425,
          "x4": 878
         },
         {
          "x1": 6,
          "x2": 101,
          "x3": 0.6954095469020842,
          "x4": 879
         },
         {
          "x1": 7,
          "x2": 102,
          "x3": 0.8532607872224265,
          "x4": 880
         },
         {
          "x1": 0,
          "x2": 99,
          "x3": 0.03780805157629562,
          "x4": 881
         },
         {
          "x1": 1,
          "x2": 85,
          "x3": 0.10637007978962586,
          "x4": 882
         },
         {
          "x1": 2,
          "x2": 106,
          "x3": 0.44924952493989334,
          "x4": 883
         },
         {
          "x1": 0,
          "x2": 100,
          "x3": 0.02690866375872443,
          "x4": 884
         },
         {
          "x1": 5,
          "x2": 84,
          "x3": 0.6337142984038923,
          "x4": 885
         },
         {
          "x1": 4,
          "x2": 106,
          "x3": 0.5532727999121855,
          "x4": 886
         },
         {
          "x1": 6,
          "x2": 102,
          "x3": 0.5505127311290549,
          "x4": 887
         },
         {
          "x1": 1,
          "x2": 86,
          "x3": 0.16521289760952793,
          "x4": 888
         },
         {
          "x1": 1,
          "x2": 87,
          "x3": 0.3633233501229144,
          "x4": 889
         },
         {
          "x1": 2,
          "x2": 107,
          "x3": 0.1801264736227178,
          "x4": 890
         },
         {
          "x1": 5,
          "x2": 85,
          "x3": 0.8944373946062951,
          "x4": 891
         },
         {
          "x1": 5,
          "x2": 86,
          "x3": 0.7865822463258082,
          "x4": 892
         },
         {
          "x1": 6,
          "x2": 103,
          "x3": 0.8379920953904566,
          "x4": 893
         },
         {
          "x1": 3,
          "x2": 106,
          "x3": 0.5489562690015337,
          "x4": 894
         },
         {
          "x1": 3,
          "x2": 107,
          "x3": 0.2153049447692422,
          "x4": 895
         },
         {
          "x1": 7,
          "x2": 103,
          "x3": 0.8198043148082165,
          "x4": 896
         },
         {
          "x1": 7,
          "x2": 104,
          "x3": 0.6864019606175039,
          "x4": 897
         },
         {
          "x1": 7,
          "x2": 105,
          "x3": 0.6292801969085209,
          "x4": 898
         },
         {
          "x1": 2,
          "x2": 108,
          "x3": 0.1801225177850445,
          "x4": 899
         },
         {
          "x1": 0,
          "x2": 101,
          "x3": 0.15332204414831818,
          "x4": 900
         },
         {
          "x1": 2,
          "x2": 109,
          "x3": 0.16399817676971512,
          "x4": 901
         },
         {
          "x1": 8,
          "x2": 98,
          "x3": 0.8439671260847668,
          "x4": 902
         },
         {
          "x1": 8,
          "x2": 99,
          "x3": 0.9960680568218613,
          "x4": 903
         },
         {
          "x1": 7,
          "x2": 106,
          "x3": 0.9566924370305018,
          "x4": 904
         },
         {
          "x1": 6,
          "x2": 104,
          "x3": 0.7638269268479425,
          "x4": 905
         },
         {
          "x1": 7,
          "x2": 107,
          "x3": 0.766838289694931,
          "x4": 906
         },
         {
          "x1": 3,
          "x2": 108,
          "x3": 0.1981705588482186,
          "x4": 907
         },
         {
          "x1": 3,
          "x2": 109,
          "x3": 0.443066822544776,
          "x4": 908
         },
         {
          "x1": 7,
          "x2": 108,
          "x3": 0.8582418908908794,
          "x4": 909
         },
         {
          "x1": 0,
          "x2": 102,
          "x3": 0.04929460002786739,
          "x4": 910
         },
         {
          "x1": 7,
          "x2": 109,
          "x3": 0.9580249231598432,
          "x4": 911
         },
         {
          "x1": 2,
          "x2": 110,
          "x3": 0.31643267765501104,
          "x4": 912
         },
         {
          "x1": 5,
          "x2": 87,
          "x3": 0.8127952726093775,
          "x4": 913
         },
         {
          "x1": 5,
          "x2": 88,
          "x3": 0.7026305441990315,
          "x4": 914
         },
         {
          "x1": 5,
          "x2": 89,
          "x3": 0.5972718720249752,
          "x4": 915
         },
         {
          "x1": 1,
          "x2": 88,
          "x3": 0.1116862989485277,
          "x4": 916
         },
         {
          "x1": 1,
          "x2": 89,
          "x3": 0.15522132918412979,
          "x4": 917
         },
         {
          "x1": 0,
          "x2": 103,
          "x3": 0.09991119679813659,
          "x4": 918
         },
         {
          "x1": 5,
          "x2": 90,
          "x3": 0.7288050620334579,
          "x4": 919
         },
         {
          "x1": 4,
          "x2": 107,
          "x3": 0.42474772183953696,
          "x4": 920
         },
         {
          "x1": 1,
          "x2": 90,
          "x3": 0.09113657502329496,
          "x4": 921
         },
         {
          "x1": 8,
          "x2": 100,
          "x3": 0.888861976409077,
          "x4": 922
         },
         {
          "x1": 6,
          "x2": 105,
          "x3": 0.6979841190235158,
          "x4": 923
         },
         {
          "x1": 5,
          "x2": 91,
          "x3": 0.26517723004970906,
          "x4": 924
         },
         {
          "x1": 4,
          "x2": 108,
          "x3": 0.6023169752729403,
          "x4": 925
         },
         {
          "x1": 5,
          "x2": 92,
          "x3": 0.6500971313487531,
          "x4": 926
         },
         {
          "x1": 7,
          "x2": 110,
          "x3": 0.7333410751971231,
          "x4": 927
         },
         {
          "x1": 3,
          "x2": 110,
          "x3": 0.34592301433175504,
          "x4": 928
         },
         {
          "x1": 3,
          "x2": 111,
          "x3": 0.6147436393200929,
          "x4": 929
         },
         {
          "x1": 3,
          "x2": 112,
          "x3": 0.4208533832964897,
          "x4": 930
         },
         {
          "x1": 6,
          "x2": 106,
          "x3": 0.7318563856520367,
          "x4": 931
         },
         {
          "x1": 5,
          "x2": 93,
          "x3": 0.494677831265385,
          "x4": 932
         },
         {
          "x1": 2,
          "x2": 111,
          "x3": 0.29850671578684645,
          "x4": 933
         },
         {
          "x1": 5,
          "x2": 94,
          "x3": 0.6389219876192925,
          "x4": 934
         },
         {
          "x1": 4,
          "x2": 109,
          "x3": 0.6261724907737225,
          "x4": 935
         },
         {
          "x1": 5,
          "x2": 95,
          "x3": 0.64328231292345,
          "x4": 936
         },
         {
          "x1": 8,
          "x2": 101,
          "x3": 0.9982271481984096,
          "x4": 937
         },
         {
          "x1": 3,
          "x2": 113,
          "x3": 0.286847118525207,
          "x4": 938
         },
         {
          "x1": 1,
          "x2": 91,
          "x3": 0.08211688120068349,
          "x4": 939
         },
         {
          "x1": 1,
          "x2": 92,
          "x3": 0.13158018663722282,
          "x4": 940
         },
         {
          "x1": 6,
          "x2": 107,
          "x3": 0.7532033486116868,
          "x4": 941
         },
         {
          "x1": 5,
          "x2": 96,
          "x3": 0.6916656855223536,
          "x4": 942
         },
         {
          "x1": 3,
          "x2": 114,
          "x3": 0.246791610014563,
          "x4": 943
         },
         {
          "x1": 0,
          "x2": 104,
          "x3": 0.08800757162204897,
          "x4": 944
         },
         {
          "x1": 0,
          "x2": 105,
          "x3": 0.08924064685400458,
          "x4": 945
         },
         {
          "x1": 6,
          "x2": 108,
          "x3": 0.4728677649686394,
          "x4": 946
         },
         {
          "x1": 0,
          "x2": 106,
          "x3": 0.029238469791100223,
          "x4": 947
         },
         {
          "x1": 8,
          "x2": 102,
          "x3": 0.9833380481158268,
          "x4": 948
         },
         {
          "x1": 6,
          "x2": 109,
          "x3": 0.6760435213520373,
          "x4": 949
         },
         {
          "x1": 0,
          "x2": 107,
          "x3": 0.024762140719133612,
          "x4": 950
         },
         {
          "x1": 6,
          "x2": 110,
          "x3": 0.2099304367923868,
          "x4": 951
         },
         {
          "x1": 6,
          "x2": 111,
          "x3": 0.6972893061643671,
          "x4": 952
         },
         {
          "x1": 4,
          "x2": 110,
          "x3": 0.47738306868618297,
          "x4": 953
         },
         {
          "x1": 0,
          "x2": 108,
          "x3": 0.21030926794180763,
          "x4": 954
         },
         {
          "x1": 4,
          "x2": 111,
          "x3": 0.35977707359110495,
          "x4": 955
         },
         {
          "x1": 8,
          "x2": 103,
          "x3": 0.9943626954077704,
          "x4": 956
         },
         {
          "x1": 4,
          "x2": 112,
          "x3": 0.31925533496315217,
          "x4": 957
         },
         {
          "x1": 4,
          "x2": 113,
          "x3": 0.6713271474077958,
          "x4": 958
         },
         {
          "x1": 2,
          "x2": 112,
          "x3": 0.25046432698758486,
          "x4": 959
         },
         {
          "x1": 4,
          "x2": 114,
          "x3": 0.706132556284361,
          "x4": 960
         },
         {
          "x1": 7,
          "x2": 111,
          "x3": 0.950342057869864,
          "x4": 961
         },
         {
          "x1": 0,
          "x2": 109,
          "x3": 0.09152823263623917,
          "x4": 962
         },
         {
          "x1": 7,
          "x2": 112,
          "x3": 0.8810683319349697,
          "x4": 963
         },
         {
          "x1": 4,
          "x2": 115,
          "x3": 0.6743795211586008,
          "x4": 964
         },
         {
          "x1": 3,
          "x2": 115,
          "x3": 0.44791021140043985,
          "x4": 965
         },
         {
          "x1": 0,
          "x2": 110,
          "x3": 0.058548223443510634,
          "x4": 966
         },
         {
          "x1": 1,
          "x2": 93,
          "x3": 0.2550421772424426,
          "x4": 967
         },
         {
          "x1": 3,
          "x2": 116,
          "x3": 0.20904526868400444,
          "x4": 968
         },
         {
          "x1": 7,
          "x2": 113,
          "x3": 0.9200263144036945,
          "x4": 969
         },
         {
          "x1": 3,
          "x2": 117,
          "x3": 0.24364388754640107,
          "x4": 970
         },
         {
          "x1": 2,
          "x2": 113,
          "x3": 0.4988687728616414,
          "x4": 971
         },
         {
          "x1": 7,
          "x2": 114,
          "x3": 0.9014362193548794,
          "x4": 972
         },
         {
          "x1": 0,
          "x2": 111,
          "x3": 0.4551087698404905,
          "x4": 973
         },
         {
          "x1": 8,
          "x2": 104,
          "x3": 0.7915209454153435,
          "x4": 974
         },
         {
          "x1": 2,
          "x2": 114,
          "x3": 0.09284702538358873,
          "x4": 975
         },
         {
          "x1": 3,
          "x2": 118,
          "x3": 0.319730040974935,
          "x4": 976
         },
         {
          "x1": 4,
          "x2": 116,
          "x3": 0.7824865955356849,
          "x4": 977
         },
         {
          "x1": 5,
          "x2": 97,
          "x3": 0.637740958510227,
          "x4": 978
         },
         {
          "x1": 0,
          "x2": 112,
          "x3": 0.4793009237858837,
          "x4": 979
         },
         {
          "x1": 8,
          "x2": 105,
          "x3": 0.8980135187180442,
          "x4": 980
         },
         {
          "x1": 8,
          "x2": 106,
          "x3": 0.9969896778497234,
          "x4": 981
         },
         {
          "x1": 2,
          "x2": 115,
          "x3": 0.2867585129870457,
          "x4": 982
         },
         {
          "x1": 7,
          "x2": 115,
          "x3": 0.9668110367091771,
          "x4": 983
         },
         {
          "x1": 6,
          "x2": 112,
          "x3": 0.6088099865889544,
          "x4": 984
         },
         {
          "x1": 0,
          "x2": 113,
          "x3": 0.13921249294774768,
          "x4": 985
         },
         {
          "x1": 7,
          "x2": 116,
          "x3": 0.8003627849726487,
          "x4": 986
         },
         {
          "x1": 3,
          "x2": 119,
          "x3": 0.45901489856214983,
          "x4": 987
         },
         {
          "x1": 1,
          "x2": 94,
          "x3": 0.09061294193826253,
          "x4": 988
         },
         {
          "x1": 7,
          "x2": 117,
          "x3": 0.7289954625209074,
          "x4": 989
         },
         {
          "x1": 0,
          "x2": 114,
          "x3": 0.10952879968202735,
          "x4": 990
         },
         {
          "x1": 5,
          "x2": 98,
          "x3": 0.4919047316670369,
          "x4": 991
         },
         {
          "x1": 8,
          "x2": 107,
          "x3": 0.9410728969136938,
          "x4": 992
         },
         {
          "x1": 0,
          "x2": 115,
          "x3": 0.04318499272961,
          "x4": 993
         },
         {
          "x1": 8,
          "x2": 108,
          "x3": 0.94768121181267,
          "x4": 994
         },
         {
          "x1": 6,
          "x2": 113,
          "x3": 0.5057369842944347,
          "x4": 995
         },
         {
          "x1": 8,
          "x2": 109,
          "x3": 0.9648310504055589,
          "x4": 996
         },
         {
          "x1": 1,
          "x2": 95,
          "x3": 0.18435988210204088,
          "x4": 997
         },
         {
          "x1": 4,
          "x2": 117,
          "x3": 0.22366015683717022,
          "x4": 998
         },
         {
          "x1": 2,
          "x2": 116,
          "x3": 0.4724323026171723,
          "x4": 999
         },
         {
          "x1": 1,
          "x2": 96,
          "x3": 0.2586799550887089,
          "x4": 1000
         }
        ]
       },
       "hconcat": [
        {
         "layer": [
          {
           "encoding": {
            "color": {
             "condition": {
              "field": "x3",
              "selection": "brush",
              "type": "quantitative"
             },
             "value": "grey"
            },
            "size": {
             "value": 100
            },
            "x": {
             "axis": {
              "grid": false,
              "title": "Samples"
             },
             "field": "x1",
             "type": "quantitative"
            },
            "y": {
             "axis": null,
             "field": "x2",
             "type": "quantitative"
            }
           },
           "height": 300,
           "mark": "square",
           "selection": {
            "brush": {
             "encodings": [
              "x"
             ],
             "init": {
              "x": [
               3.6,
               4.4
              ]
             },
             "type": "interval"
            }
           },
           "view": {
            "stroke": null
           },
           "width": 500
          }
         ],
         "view": {
          "stroke": null
         }
        },
        {
         "layer": [
          {
           "encoding": {
            "x": {
             "bin": {
              "maxbins": 20
             },
             "field": "x3",
             "type": "quantitative"
            },
            "y": {
             "aggregate": "count",
             "type": "quantitative"
            }
           },
           "height": 300,
           "mark": "bar",
           "transform": [
            {
             "filter": {
              "selection": "brush"
             }
            }
           ],
           "width": 500
          }
         ]
        }
       ]
      },
      "image/png": "[encoded data removed]",
      "image/svg+xml": [
       "<svg class=\"marks\" width=\"1128\" height=\"349\" viewBox=\"0 0 1128 349\" version=\"1.1\" xmlns=\"http://www.w3.org/2000/svg\" xmlns:xlink=\"http://www.w3.org/1999/xlink\"><defs><linearGradient id=\"gradient_0\" x1=\"0\" x2=\"0\" y1=\"1\" y2=\"0\"><stop offset=\"0\" stop-color=\"rgb(207, 225, 242)\"></stop><stop offset=\"0.05003983954719443\" stop-color=\"rgb(198, 220, 239)\"></stop><stop offset=\"0.10008089964234684\" stop-color=\"rgb(190, 216, 236)\"></stop><stop offset=\"0.15012195973749923\" stop-color=\"rgb(179, 211, 232)\"></stop><stop offset=\"0.20016301983265167\" stop-color=\"rgb(168, 206, 229)\"></stop><stop offset=\"0.2502040799278041\" stop-color=\"rgb(155, 199, 225)\"></stop><stop offset=\"0.30024514002295644\" stop-color=\"rgb(143, 193, 222)\"></stop><stop offset=\"0.35028620011810885\" stop-color=\"rgb(129, 185, 218)\"></stop><stop offset=\"0.4003272602132613\" stop-color=\"rgb(116, 178, 215)\"></stop><stop offset=\"0.45036832030841367\" stop-color=\"rgb(103, 170, 211)\"></stop><stop offset=\"0.5004093804035661\" stop-color=\"rgb(91, 163, 207)\"></stop><stop offset=\"0.5504504404987185\" stop-color=\"rgb(80, 154, 202)\"></stop><stop offset=\"0.6004915005938708\" stop-color=\"rgb(69, 146, 198)\"></stop><stop offset=\"0.6505325606890232\" stop-color=\"rgb(59, 137, 193)\"></stop><stop offset=\"0.7005736207841756\" stop-color=\"rgb(49, 129, 189)\"></stop><stop offset=\"0.750614680879328\" stop-color=\"rgb(40, 120, 183)\"></stop><stop offset=\"0.8006557409744804\" stop-color=\"rgb(32, 111, 178)\"></stop><stop offset=\"0.8506968010696329\" stop-color=\"rgb(25, 101, 171)\"></stop><stop offset=\"0.9007378611647853\" stop-color=\"rgb(18, 92, 164)\"></stop><stop offset=\"0.9507789212599376\" stop-color=\"rgb(14, 83, 154)\"></stop><stop offset=\"1\" stop-color=\"rgb(10, 74, 144)\"></stop></linearGradient><clipPath id=\"clip1\"><rect x=\"0\" y=\"0\" width=\"500\" height=\"300\"></rect></clipPath><clipPath id=\"clip2\"><rect x=\"0\" y=\"0\" width=\"500\" height=\"300\"></rect></clipPath></defs><g transform=\"translate(10,11)\"><g class=\"mark-group role-frame root\"><g transform=\"translate(0,0)\"><path class=\"background\" d=\"M0,0h0v300h0Z\" style=\"fill: none;\"></path><g><g class=\"mark-group role-scope concat_0_group\"><g transform=\"translate(0,0)\"><path class=\"background\" d=\"M0,0h500v300h-500Z\" style=\"fill: none;\"></path><g><g class=\"mark-rect role-mark brush_brush_bg\" clip-path=\"url(#clip1)\"><path d=\"M225,0h50v300h-50Z\" style=\"fill: #333; fill-opacity: 0.125;\"></path></g><g class=\"mark-symbol role-mark concat_0_layer_0_marks\"><path transform=\"translate(375,297.5)\" d=\"M-5,-5h10v10h-10Z\" style=\"fill: grey; stroke-width: 2; opacity: 0.7;\"></path><path transform=\"translate(500,297.5)\" d=\"M-5,-5h10v10h-10Z\" style=\"fill: grey; stroke-width: 2; opacity: 0.7;\"></path><path transform=\"translate(187.5,297.5)\" d=\"M-5,-5h10v10h-10Z\" style=\"fill: grey; stroke-width: 2; opacity: 0.7;\"></path><path transform=\"translate(375,295)\" d=\"M-5,-5h10v10h-10Z\" style=\"fill: grey; stroke-width: 2; opacity: 0.7;\"></path><path transform=\"translate(250,297.5)\" d=\"M-5,-5h10v10h-10Z\" style=\"fill: rgb(125, 183, 217); stroke-width: 2; opacity: 0.7;\"></path><path transform=\"translate(125,297.5)\" d=\"M-5,-5h10v10h-10Z\" style=\"fill: grey; stroke-width: 2; opacity: 0.7;\"></path><path transform=\"translate(0,297.5)\" d=\"M-5,-5h10v10h-10Z\" style=\"fill: grey; stroke-width: 2; opacity: 0.7;\"></path><path transform=\"translate(437.5,297.5)\" d=\"M-5,-5h10v10h-10Z\" style=\"fill: grey; stroke-width: 2; opacity: 0.7;\"></path><path transform=\"translate(250,295)\" d=\"M-5,-5h10v10h-10Z\" style=\"fill: rgb(86, 159, 205); stroke-width: 2; opacity: 0.7;\"></path><path transform=\"translate(62.5,297.5)\" d=\"M-5,-5h10v10h-10Z\" style=\"fill: grey; stroke-width: 2; opacity: 0.7;\"></path><path transform=\"translate(437.5,295)\" d=\"M-5,-5h10v10h-10Z\" style=\"fill: grey; stroke-width: 2; opacity: 0.7;\"></path><path transform=\"translate(0,295)\" d=\"M-5,-5h10v10h-10Z\" style=\"fill: grey; stroke-width: 2; opacity: 0.7;\"></path><path transform=\"translate(0,292.5)\" d=\"M-5,-5h10v10h-10Z\" style=\"fill: grey; stroke-width: 2; opacity: 0.7;\"></path><path transform=\"translate(500,295)\" d=\"M-5,-5h10v10h-10Z\" style=\"fill: grey; stroke-width: 2; opacity: 0.7;\"></path><path transform=\"translate(500,292.5)\" d=\"M-5,-5h10v10h-10Z\" style=\"fill: grey; stroke-width: 2; opacity: 0.7;\"></path><path transform=\"translate(312.5,297.5)\" d=\"M-5,-5h10v10h-10Z\" style=\"fill: grey; stroke-width: 2; opacity: 0.7;\"></path><path transform=\"translate(187.5,295)\" d=\"M-5,-5h10v10h-10Z\" style=\"fill: grey; stroke-width: 2; opacity: 0.7;\"></path><path transform=\"translate(437.5,292.5)\" d=\"M-5,-5h10v10h-10Z\" style=\"fill: grey; stroke-width: 2; opacity: 0.7;\"></path><path transform=\"translate(250,292.5)\" d=\"M-5,-5h10v10h-10Z\" style=\"fill: rgb(78, 153, 202); stroke-width: 2; opacity: 0.7;\"></path><path transform=\"translate(125,295)\" d=\"M-5,-5h10v10h-10Z\" style=\"fill: grey; stroke-width: 2; opacity: 0.7;\"></path><path transform=\"translate(375,292.5)\" d=\"M-5,-5h10v10h-10Z\" style=\"fill: grey; stroke-width: 2; opacity: 0.7;\"></path><path transform=\"translate(437.5,290)\" d=\"M-5,-5h10v10h-10Z\" style=\"fill: grey; stroke-width: 2; opacity: 0.7;\"></path><path transform=\"translate(500,290)\" d=\"M-5,-5h10v10h-10Z\" style=\"fill: grey; stroke-width: 2; opacity: 0.7;\"></path><path transform=\"translate(312.5,295)\" d=\"M-5,-5h10v10h-10Z\" style=\"fill: grey; stroke-width: 2; opacity: 0.7;\"></path><path transform=\"translate(437.5,287.5)\" d=\"M-5,-5h10v10h-10Z\" style=\"fill: grey; stroke-width: 2; opacity: 0.7;\"></path><path transform=\"translate(437.5,285)\" d=\"M-5,-5h10v10h-10Z\" style=\"fill: grey; stroke-width: 2; opacity: 0.7;\"></path><path transform=\"translate(125,292.5)\" d=\"M-5,-5h10v10h-10Z\" style=\"fill: grey; stroke-width: 2; opacity: 0.7;\"></path><path transform=\"translate(312.5,292.5)\" d=\"M-5,-5h10v10h-10Z\" style=\"fill: grey; stroke-width: 2; opacity: 0.7;\"></path><path transform=\"translate(375,290)\" d=\"M-5,-5h10v10h-10Z\" style=\"fill: grey; stroke-width: 2; opacity: 0.7;\"></path><path transform=\"translate(187.5,292.5)\" d=\"M-5,-5h10v10h-10Z\" style=\"fill: grey; stroke-width: 2; opacity: 0.7;\"></path><path transform=\"translate(125,290)\" d=\"M-5,-5h10v10h-10Z\" style=\"fill: grey; stroke-width: 2; opacity: 0.7;\"></path><path transform=\"translate(187.5,290)\" d=\"M-5,-5h10v10h-10Z\" style=\"fill: grey; stroke-width: 2; opacity: 0.7;\"></path><path transform=\"translate(250,290)\" d=\"M-5,-5h10v10h-10Z\" style=\"fill: rgb(59, 137, 193); stroke-width: 2; opacity: 0.7;\"></path><path transform=\"translate(312.5,290)\" d=\"M-5,-5h10v10h-10Z\" style=\"fill: grey; stroke-width: 2; opacity: 0.7;\"></path><path transform=\"translate(500,287.5)\" d=\"M-5,-5h10v10h-10Z\" style=\"fill: grey; stroke-width: 2; opacity: 0.7;\"></path><path transform=\"translate(375,287.5)\" d=\"M-5,-5h10v10h-10Z\" style=\"fill: grey; stroke-width: 2; opacity: 0.7;\"></path><path transform=\"translate(250,287.5)\" d=\"M-5,-5h10v10h-10Z\" style=\"fill: rgb(138, 190, 221); stroke-width: 2; opacity: 0.7;\"></path><path transform=\"translate(250,285)\" d=\"M-5,-5h10v10h-10Z\" style=\"fill: rgb(115, 177, 215); stroke-width: 2; opacity: 0.7;\"></path><path transform=\"translate(375,285)\" d=\"M-5,-5h10v10h-10Z\" style=\"fill: grey; stroke-width: 2; opacity: 0.7;\"></path><path transform=\"translate(62.5,295)\" d=\"M-5,-5h10v10h-10Z\" style=\"fill: grey; stroke-width: 2; opacity: 0.7;\"></path><path transform=\"translate(500,285)\" d=\"M-5,-5h10v10h-10Z\" style=\"fill: grey; stroke-width: 2; opacity: 0.7;\"></path><path transform=\"translate(375,282.5)\" d=\"M-5,-5h10v10h-10Z\" style=\"fill: grey; stroke-width: 2; opacity: 0.7;\"></path><path transform=\"translate(125,287.5)\" d=\"M-5,-5h10v10h-10Z\" style=\"fill: grey; stroke-width: 2; opacity: 0.7;\"></path><path transform=\"translate(125,285)\" d=\"M-5,-5h10v10h-10Z\" style=\"fill: grey; stroke-width: 2; opacity: 0.7;\"></path><path transform=\"translate(312.5,287.5)\" d=\"M-5,-5h10v10h-10Z\" style=\"fill: grey; stroke-width: 2; opacity: 0.7;\"></path><path transform=\"translate(437.5,282.5)\" d=\"M-5,-5h10v10h-10Z\" style=\"fill: grey; stroke-width: 2; opacity: 0.7;\"></path><path transform=\"translate(187.5,287.5)\" d=\"M-5,-5h10v10h-10Z\" style=\"fill: grey; stroke-width: 2; opacity: 0.7;\"></path><path transform=\"translate(500,282.5)\" d=\"M-5,-5h10v10h-10Z\" style=\"fill: grey; stroke-width: 2; opacity: 0.7;\"></path><path transform=\"translate(0,290)\" d=\"M-5,-5h10v10h-10Z\" style=\"fill: grey; stroke-width: 2; opacity: 0.7;\"></path><path transform=\"translate(250,282.5)\" d=\"M-5,-5h10v10h-10Z\" style=\"fill: rgb(125, 183, 217); stroke-width: 2; opacity: 0.7;\"></path><path transform=\"translate(0,287.5)\" d=\"M-5,-5h10v10h-10Z\" style=\"fill: grey; stroke-width: 2; opacity: 0.7;\"></path><path transform=\"translate(375,280)\" d=\"M-5,-5h10v10h-10Z\" style=\"fill: grey; stroke-width: 2; opacity: 0.7;\"></path><path transform=\"translate(250,280)\" d=\"M-5,-5h10v10h-10Z\" style=\"fill: rgb(113, 176, 214); stroke-width: 2; opacity: 0.7;\"></path><path transform=\"translate(62.5,292.5)\" d=\"M-5,-5h10v10h-10Z\" style=\"fill: grey; stroke-width: 2; opacity: 0.7;\"></path><path transform=\"translate(312.5,285)\" d=\"M-5,-5h10v10h-10Z\" style=\"fill: grey; stroke-width: 2; opacity: 0.7;\"></path><path transform=\"translate(0,285)\" d=\"M-5,-5h10v10h-10Z\" style=\"fill: grey; stroke-width: 2; opacity: 0.7;\"></path><path transform=\"translate(250,277.5)\" d=\"M-5,-5h10v10h-10Z\" style=\"fill: rgb(104, 171, 211); stroke-width: 2; opacity: 0.7;\"></path><path transform=\"translate(62.5,290)\" d=\"M-5,-5h10v10h-10Z\" style=\"fill: grey; stroke-width: 2; opacity: 0.7;\"></path><path transform=\"translate(62.5,287.5)\" d=\"M-5,-5h10v10h-10Z\" style=\"fill: grey; stroke-width: 2; opacity: 0.7;\"></path><path transform=\"translate(62.5,285)\" d=\"M-5,-5h10v10h-10Z\" style=\"fill: grey; stroke-width: 2; opacity: 0.7;\"></path><path transform=\"translate(437.5,280)\" d=\"M-5,-5h10v10h-10Z\" style=\"fill: grey; stroke-width: 2; opacity: 0.7;\"></path><path transform=\"translate(312.5,282.5)\" d=\"M-5,-5h10v10h-10Z\" style=\"fill: grey; stroke-width: 2; opacity: 0.7;\"></path><path transform=\"translate(437.5,277.5)\" d=\"M-5,-5h10v10h-10Z\" style=\"fill: grey; stroke-width: 2; opacity: 0.7;\"></path><path transform=\"translate(250,275)\" d=\"M-5,-5h10v10h-10Z\" style=\"fill: rgb(93, 164, 208); stroke-width: 2; opacity: 0.7;\"></path><path transform=\"translate(62.5,282.5)\" d=\"M-5,-5h10v10h-10Z\" style=\"fill: grey; stroke-width: 2; opacity: 0.7;\"></path><path transform=\"translate(0,282.5)\" d=\"M-5,-5h10v10h-10Z\" style=\"fill: grey; stroke-width: 2; opacity: 0.7;\"></path><path transform=\"translate(375,277.5)\" d=\"M-5,-5h10v10h-10Z\" style=\"fill: grey; stroke-width: 2; opacity: 0.7;\"></path><path transform=\"translate(312.5,280)\" d=\"M-5,-5h10v10h-10Z\" style=\"fill: grey; stroke-width: 2; opacity: 0.7;\"></path><path transform=\"translate(250,272.5)\" d=\"M-5,-5h10v10h-10Z\" style=\"fill: rgb(39, 119, 183); stroke-width: 2; opacity: 0.7;\"></path><path transform=\"translate(187.5,285)\" d=\"M-5,-5h10v10h-10Z\" style=\"fill: grey; stroke-width: 2; opacity: 0.7;\"></path><path transform=\"translate(125,282.5)\" d=\"M-5,-5h10v10h-10Z\" style=\"fill: grey; stroke-width: 2; opacity: 0.7;\"></path><path transform=\"translate(250,270)\" d=\"M-5,-5h10v10h-10Z\" style=\"fill: rgb(84, 158, 204); stroke-width: 2; opacity: 0.7;\"></path><path transform=\"translate(250,267.5)\" d=\"M-5,-5h10v10h-10Z\" style=\"fill: rgb(142, 193, 222); stroke-width: 2; opacity: 0.7;\"></path><path transform=\"translate(0,280)\" d=\"M-5,-5h10v10h-10Z\" style=\"fill: grey; stroke-width: 2; opacity: 0.7;\"></path><path transform=\"translate(0,277.5)\" d=\"M-5,-5h10v10h-10Z\" style=\"fill: grey; stroke-width: 2; opacity: 0.7;\"></path><path transform=\"translate(500,280)\" d=\"M-5,-5h10v10h-10Z\" style=\"fill: grey; stroke-width: 2; opacity: 0.7;\"></path><path transform=\"translate(500,277.5)\" d=\"M-5,-5h10v10h-10Z\" style=\"fill: grey; stroke-width: 2; opacity: 0.7;\"></path><path transform=\"translate(187.5,282.5)\" d=\"M-5,-5h10v10h-10Z\" style=\"fill: grey; stroke-width: 2; opacity: 0.7;\"></path><path transform=\"translate(437.5,275)\" d=\"M-5,-5h10v10h-10Z\" style=\"fill: grey; stroke-width: 2; opacity: 0.7;\"></path><path transform=\"translate(375,275)\" d=\"M-5,-5h10v10h-10Z\" style=\"fill: grey; stroke-width: 2; opacity: 0.7;\"></path><path transform=\"translate(62.5,280)\" d=\"M-5,-5h10v10h-10Z\" style=\"fill: grey; stroke-width: 2; opacity: 0.7;\"></path><path transform=\"translate(437.5,272.5)\" d=\"M-5,-5h10v10h-10Z\" style=\"fill: grey; stroke-width: 2; opacity: 0.7;\"></path><path transform=\"translate(0,275)\" d=\"M-5,-5h10v10h-10Z\" style=\"fill: grey; stroke-width: 2; opacity: 0.7;\"></path><path transform=\"translate(0,272.5)\" d=\"M-5,-5h10v10h-10Z\" style=\"fill: grey; stroke-width: 2; opacity: 0.7;\"></path><path transform=\"translate(500,275)\" d=\"M-5,-5h10v10h-10Z\" style=\"fill: grey; stroke-width: 2; opacity: 0.7;\"></path><path transform=\"translate(250,265)\" d=\"M-5,-5h10v10h-10Z\" style=\"fill: rgb(96, 166, 209); stroke-width: 2; opacity: 0.7;\"></path><path transform=\"translate(500,272.5)\" d=\"M-5,-5h10v10h-10Z\" style=\"fill: grey; stroke-width: 2; opacity: 0.7;\"></path><path transform=\"translate(437.5,270)\" d=\"M-5,-5h10v10h-10Z\" style=\"fill: grey; stroke-width: 2; opacity: 0.7;\"></path><path transform=\"translate(62.5,277.5)\" d=\"M-5,-5h10v10h-10Z\" style=\"fill: grey; stroke-width: 2; opacity: 0.7;\"></path><path transform=\"translate(500,270)\" d=\"M-5,-5h10v10h-10Z\" style=\"fill: grey; stroke-width: 2; opacity: 0.7;\"></path><path transform=\"translate(125,280)\" d=\"M-5,-5h10v10h-10Z\" style=\"fill: grey; stroke-width: 2; opacity: 0.7;\"></path><path transform=\"translate(375,272.5)\" d=\"M-5,-5h10v10h-10Z\" style=\"fill: grey; stroke-width: 2; opacity: 0.7;\"></path><path transform=\"translate(62.5,275)\" d=\"M-5,-5h10v10h-10Z\" style=\"fill: grey; stroke-width: 2; opacity: 0.7;\"></path><path transform=\"translate(500,267.5)\" d=\"M-5,-5h10v10h-10Z\" style=\"fill: grey; stroke-width: 2; opacity: 0.7;\"></path><path transform=\"translate(62.5,272.5)\" d=\"M-5,-5h10v10h-10Z\" style=\"fill: grey; stroke-width: 2; opacity: 0.7;\"></path><path transform=\"translate(437.5,267.5)\" d=\"M-5,-5h10v10h-10Z\" style=\"fill: grey; stroke-width: 2; opacity: 0.7;\"></path><path transform=\"translate(375,270)\" d=\"M-5,-5h10v10h-10Z\" style=\"fill: grey; stroke-width: 2; opacity: 0.7;\"></path><path transform=\"translate(62.5,270)\" d=\"M-5,-5h10v10h-10Z\" style=\"fill: grey; stroke-width: 2; opacity: 0.7;\"></path><path transform=\"translate(312.5,277.5)\" d=\"M-5,-5h10v10h-10Z\" style=\"fill: grey; stroke-width: 2; opacity: 0.7;\"></path><path transform=\"translate(437.5,265)\" d=\"M-5,-5h10v10h-10Z\" style=\"fill: grey; stroke-width: 2; opacity: 0.7;\"></path><path transform=\"translate(500,265)\" d=\"M-5,-5h10v10h-10Z\" style=\"fill: grey; stroke-width: 2; opacity: 0.7;\"></path><path transform=\"translate(125,277.5)\" d=\"M-5,-5h10v10h-10Z\" style=\"fill: grey; stroke-width: 2; opacity: 0.7;\"></path><path transform=\"translate(250,262.5)\" d=\"M-5,-5h10v10h-10Z\" style=\"fill: rgb(105, 171, 211); stroke-width: 2; opacity: 0.7;\"></path><path transform=\"translate(437.5,262.5)\" d=\"M-5,-5h10v10h-10Z\" style=\"fill: grey; stroke-width: 2; opacity: 0.7;\"></path><path transform=\"translate(500,262.5)\" d=\"M-5,-5h10v10h-10Z\" style=\"fill: grey; stroke-width: 2; opacity: 0.7;\"></path><path transform=\"translate(312.5,275)\" d=\"M-5,-5h10v10h-10Z\" style=\"fill: grey; stroke-width: 2; opacity: 0.7;\"></path><path transform=\"translate(312.5,272.5)\" d=\"M-5,-5h10v10h-10Z\" style=\"fill: grey; stroke-width: 2; opacity: 0.7;\"></path><path transform=\"translate(250,260)\" d=\"M-5,-5h10v10h-10Z\" style=\"fill: rgb(106, 172, 212); stroke-width: 2; opacity: 0.7;\"></path><path transform=\"translate(500,260)\" d=\"M-5,-5h10v10h-10Z\" style=\"fill: grey; stroke-width: 2; opacity: 0.7;\"></path><path transform=\"translate(375,267.5)\" d=\"M-5,-5h10v10h-10Z\" style=\"fill: grey; stroke-width: 2; opacity: 0.7;\"></path><path transform=\"translate(125,275)\" d=\"M-5,-5h10v10h-10Z\" style=\"fill: grey; stroke-width: 2; opacity: 0.7;\"></path><path transform=\"translate(312.5,270)\" d=\"M-5,-5h10v10h-10Z\" style=\"fill: grey; stroke-width: 2; opacity: 0.7;\"></path><path transform=\"translate(0,270)\" d=\"M-5,-5h10v10h-10Z\" style=\"fill: grey; stroke-width: 2; opacity: 0.7;\"></path><path transform=\"translate(62.5,267.5)\" d=\"M-5,-5h10v10h-10Z\" style=\"fill: grey; stroke-width: 2; opacity: 0.7;\"></path><path transform=\"translate(437.5,260)\" d=\"M-5,-5h10v10h-10Z\" style=\"fill: grey; stroke-width: 2; opacity: 0.7;\"></path><path transform=\"translate(375,265)\" d=\"M-5,-5h10v10h-10Z\" style=\"fill: grey; stroke-width: 2; opacity: 0.7;\"></path><path transform=\"translate(250,257.5)\" d=\"M-5,-5h10v10h-10Z\" style=\"fill: rgb(74, 150, 200); stroke-width: 2; opacity: 0.7;\"></path><path transform=\"translate(187.5,280)\" d=\"M-5,-5h10v10h-10Z\" style=\"fill: grey; stroke-width: 2; opacity: 0.7;\"></path><path transform=\"translate(187.5,277.5)\" d=\"M-5,-5h10v10h-10Z\" style=\"fill: grey; stroke-width: 2; opacity: 0.7;\"></path><path transform=\"translate(125,272.5)\" d=\"M-5,-5h10v10h-10Z\" style=\"fill: grey; stroke-width: 2; opacity: 0.7;\"></path><path transform=\"translate(0,267.5)\" d=\"M-5,-5h10v10h-10Z\" style=\"fill: grey; stroke-width: 2; opacity: 0.7;\"></path><path transform=\"translate(125,270)\" d=\"M-5,-5h10v10h-10Z\" style=\"fill: grey; stroke-width: 2; opacity: 0.7;\"></path><path transform=\"translate(312.5,267.5)\" d=\"M-5,-5h10v10h-10Z\" style=\"fill: grey; stroke-width: 2; opacity: 0.7;\"></path><path transform=\"translate(0,265)\" d=\"M-5,-5h10v10h-10Z\" style=\"fill: grey; stroke-width: 2; opacity: 0.7;\"></path><path transform=\"translate(187.5,275)\" d=\"M-5,-5h10v10h-10Z\" style=\"fill: grey; stroke-width: 2; opacity: 0.7;\"></path><path transform=\"translate(187.5,272.5)\" d=\"M-5,-5h10v10h-10Z\" style=\"fill: grey; stroke-width: 2; opacity: 0.7;\"></path><path transform=\"translate(0,262.5)\" d=\"M-5,-5h10v10h-10Z\" style=\"fill: grey; stroke-width: 2; opacity: 0.7;\"></path><path transform=\"translate(500,257.5)\" d=\"M-5,-5h10v10h-10Z\" style=\"fill: grey; stroke-width: 2; opacity: 0.7;\"></path><path transform=\"translate(62.5,265)\" d=\"M-5,-5h10v10h-10Z\" style=\"fill: grey; stroke-width: 2; opacity: 0.7;\"></path><path transform=\"translate(375,262.5)\" d=\"M-5,-5h10v10h-10Z\" style=\"fill: grey; stroke-width: 2; opacity: 0.7;\"></path><path transform=\"translate(62.5,262.5)\" d=\"M-5,-5h10v10h-10Z\" style=\"fill: grey; stroke-width: 2; opacity: 0.7;\"></path><path transform=\"translate(312.5,265)\" d=\"M-5,-5h10v10h-10Z\" style=\"fill: grey; stroke-width: 2; opacity: 0.7;\"></path><path transform=\"translate(312.5,262.5)\" d=\"M-5,-5h10v10h-10Z\" style=\"fill: grey; stroke-width: 2; opacity: 0.7;\"></path><path transform=\"translate(125,267.5)\" d=\"M-5,-5h10v10h-10Z\" style=\"fill: grey; stroke-width: 2; opacity: 0.7;\"></path><path transform=\"translate(375,260)\" d=\"M-5,-5h10v10h-10Z\" style=\"fill: grey; stroke-width: 2; opacity: 0.7;\"></path><path transform=\"translate(375,257.5)\" d=\"M-5,-5h10v10h-10Z\" style=\"fill: grey; stroke-width: 2; opacity: 0.7;\"></path><path transform=\"translate(187.5,270)\" d=\"M-5,-5h10v10h-10Z\" style=\"fill: grey; stroke-width: 2; opacity: 0.7;\"></path><path transform=\"translate(375,255)\" d=\"M-5,-5h10v10h-10Z\" style=\"fill: grey; stroke-width: 2; opacity: 0.7;\"></path><path transform=\"translate(187.5,267.5)\" d=\"M-5,-5h10v10h-10Z\" style=\"fill: grey; stroke-width: 2; opacity: 0.7;\"></path><path transform=\"translate(250,255)\" d=\"M-5,-5h10v10h-10Z\" style=\"fill: rgb(90, 162, 207); stroke-width: 2; opacity: 0.7;\"></path><path transform=\"translate(250,252.5)\" d=\"M-5,-5h10v10h-10Z\" style=\"fill: rgb(85, 159, 205); stroke-width: 2; opacity: 0.7;\"></path><path transform=\"translate(125,265)\" d=\"M-5,-5h10v10h-10Z\" style=\"fill: grey; stroke-width: 2; opacity: 0.7;\"></path><path transform=\"translate(0,260)\" d=\"M-5,-5h10v10h-10Z\" style=\"fill: grey; stroke-width: 2; opacity: 0.7;\"></path><path transform=\"translate(312.5,260)\" d=\"M-5,-5h10v10h-10Z\" style=\"fill: grey; stroke-width: 2; opacity: 0.7;\"></path><path transform=\"translate(0,257.5)\" d=\"M-5,-5h10v10h-10Z\" style=\"fill: grey; stroke-width: 2; opacity: 0.7;\"></path><path transform=\"translate(312.5,257.5)\" d=\"M-5,-5h10v10h-10Z\" style=\"fill: grey; stroke-width: 2; opacity: 0.7;\"></path><path transform=\"translate(375,252.5)\" d=\"M-5,-5h10v10h-10Z\" style=\"fill: grey; stroke-width: 2; opacity: 0.7;\"></path><path transform=\"translate(312.5,255)\" d=\"M-5,-5h10v10h-10Z\" style=\"fill: grey; stroke-width: 2; opacity: 0.7;\"></path><path transform=\"translate(500,255)\" d=\"M-5,-5h10v10h-10Z\" style=\"fill: grey; stroke-width: 2; opacity: 0.7;\"></path><path transform=\"translate(250,250)\" d=\"M-5,-5h10v10h-10Z\" style=\"fill: rgb(83, 157, 204); stroke-width: 2; opacity: 0.7;\"></path><path transform=\"translate(500,252.5)\" d=\"M-5,-5h10v10h-10Z\" style=\"fill: grey; stroke-width: 2; opacity: 0.7;\"></path><path transform=\"translate(437.5,257.5)\" d=\"M-5,-5h10v10h-10Z\" style=\"fill: grey; stroke-width: 2; opacity: 0.7;\"></path><path transform=\"translate(437.5,255)\" d=\"M-5,-5h10v10h-10Z\" style=\"fill: grey; stroke-width: 2; opacity: 0.7;\"></path><path transform=\"translate(125,262.5)\" d=\"M-5,-5h10v10h-10Z\" style=\"fill: grey; stroke-width: 2; opacity: 0.7;\"></path><path transform=\"translate(250,247.5)\" d=\"M-5,-5h10v10h-10Z\" style=\"fill: rgb(180, 211, 233); stroke-width: 2; opacity: 0.7;\"></path><path transform=\"translate(312.5,252.5)\" d=\"M-5,-5h10v10h-10Z\" style=\"fill: grey; stroke-width: 2; opacity: 0.7;\"></path><path transform=\"translate(437.5,252.5)\" d=\"M-5,-5h10v10h-10Z\" style=\"fill: grey; stroke-width: 2; opacity: 0.7;\"></path><path transform=\"translate(500,250)\" d=\"M-5,-5h10v10h-10Z\" style=\"fill: grey; stroke-width: 2; opacity: 0.7;\"></path><path transform=\"translate(250,245)\" d=\"M-5,-5h10v10h-10Z\" style=\"fill: rgb(116, 178, 215); stroke-width: 2; opacity: 0.7;\"></path><path transform=\"translate(375,250)\" d=\"M-5,-5h10v10h-10Z\" style=\"fill: grey; stroke-width: 2; opacity: 0.7;\"></path><path transform=\"translate(500,247.5)\" d=\"M-5,-5h10v10h-10Z\" style=\"fill: grey; stroke-width: 2; opacity: 0.7;\"></path><path transform=\"translate(62.5,260)\" d=\"M-5,-5h10v10h-10Z\" style=\"fill: grey; stroke-width: 2; opacity: 0.7;\"></path><path transform=\"translate(0,255)\" d=\"M-5,-5h10v10h-10Z\" style=\"fill: grey; stroke-width: 2; opacity: 0.7;\"></path><path transform=\"translate(0,252.5)\" d=\"M-5,-5h10v10h-10Z\" style=\"fill: grey; stroke-width: 2; opacity: 0.7;\"></path><path transform=\"translate(125,260)\" d=\"M-5,-5h10v10h-10Z\" style=\"fill: grey; stroke-width: 2; opacity: 0.7;\"></path><path transform=\"translate(312.5,250)\" d=\"M-5,-5h10v10h-10Z\" style=\"fill: grey; stroke-width: 2; opacity: 0.7;\"></path><path transform=\"translate(312.5,247.5)\" d=\"M-5,-5h10v10h-10Z\" style=\"fill: grey; stroke-width: 2; opacity: 0.7;\"></path><path transform=\"translate(187.5,265)\" d=\"M-5,-5h10v10h-10Z\" style=\"fill: grey; stroke-width: 2; opacity: 0.7;\"></path><path transform=\"translate(187.5,262.5)\" d=\"M-5,-5h10v10h-10Z\" style=\"fill: grey; stroke-width: 2; opacity: 0.7;\"></path><path transform=\"translate(375,247.5)\" d=\"M-5,-5h10v10h-10Z\" style=\"fill: grey; stroke-width: 2; opacity: 0.7;\"></path><path transform=\"translate(0,250)\" d=\"M-5,-5h10v10h-10Z\" style=\"fill: grey; stroke-width: 2; opacity: 0.7;\"></path><path transform=\"translate(62.5,257.5)\" d=\"M-5,-5h10v10h-10Z\" style=\"fill: grey; stroke-width: 2; opacity: 0.7;\"></path><path transform=\"translate(437.5,250)\" d=\"M-5,-5h10v10h-10Z\" style=\"fill: grey; stroke-width: 2; opacity: 0.7;\"></path><path transform=\"translate(500,245)\" d=\"M-5,-5h10v10h-10Z\" style=\"fill: grey; stroke-width: 2; opacity: 0.7;\"></path><path transform=\"translate(250,242.5)\" d=\"M-5,-5h10v10h-10Z\" style=\"fill: rgb(116, 178, 215); stroke-width: 2; opacity: 0.7;\"></path><path transform=\"translate(312.5,245)\" d=\"M-5,-5h10v10h-10Z\" style=\"fill: grey; stroke-width: 2; opacity: 0.7;\"></path><path transform=\"translate(250,240)\" d=\"M-5,-5h10v10h-10Z\" style=\"fill: rgb(143, 193, 222); stroke-width: 2; opacity: 0.7;\"></path><path transform=\"translate(312.5,242.5)\" d=\"M-5,-5h10v10h-10Z\" style=\"fill: grey; stroke-width: 2; opacity: 0.7;\"></path><path transform=\"translate(125,257.5)\" d=\"M-5,-5h10v10h-10Z\" style=\"fill: grey; stroke-width: 2; opacity: 0.7;\"></path><path transform=\"translate(500,242.5)\" d=\"M-5,-5h10v10h-10Z\" style=\"fill: grey; stroke-width: 2; opacity: 0.7;\"></path><path transform=\"translate(125,255)\" d=\"M-5,-5h10v10h-10Z\" style=\"fill: grey; stroke-width: 2; opacity: 0.7;\"></path><path transform=\"translate(187.5,260)\" d=\"M-5,-5h10v10h-10Z\" style=\"fill: grey; stroke-width: 2; opacity: 0.7;\"></path><path transform=\"translate(375,245)\" d=\"M-5,-5h10v10h-10Z\" style=\"fill: grey; stroke-width: 2; opacity: 0.7;\"></path><path transform=\"translate(375,242.5)\" d=\"M-5,-5h10v10h-10Z\" style=\"fill: grey; stroke-width: 2; opacity: 0.7;\"></path><path transform=\"translate(375,240)\" d=\"M-5,-5h10v10h-10Z\" style=\"fill: grey; stroke-width: 2; opacity: 0.7;\"></path><path transform=\"translate(0,247.5)\" d=\"M-5,-5h10v10h-10Z\" style=\"fill: grey; stroke-width: 2; opacity: 0.7;\"></path><path transform=\"translate(500,240)\" d=\"M-5,-5h10v10h-10Z\" style=\"fill: grey; stroke-width: 2; opacity: 0.7;\"></path><path transform=\"translate(437.5,247.5)\" d=\"M-5,-5h10v10h-10Z\" style=\"fill: grey; stroke-width: 2; opacity: 0.7;\"></path><path transform=\"translate(187.5,257.5)\" d=\"M-5,-5h10v10h-10Z\" style=\"fill: grey; stroke-width: 2; opacity: 0.7;\"></path><path transform=\"translate(125,252.5)\" d=\"M-5,-5h10v10h-10Z\" style=\"fill: grey; stroke-width: 2; opacity: 0.7;\"></path><path transform=\"translate(312.5,240)\" d=\"M-5,-5h10v10h-10Z\" style=\"fill: grey; stroke-width: 2; opacity: 0.7;\"></path><path transform=\"translate(500,237.5)\" d=\"M-5,-5h10v10h-10Z\" style=\"fill: grey; stroke-width: 2; opacity: 0.7;\"></path><path transform=\"translate(125,250)\" d=\"M-5,-5h10v10h-10Z\" style=\"fill: grey; stroke-width: 2; opacity: 0.7;\"></path><path transform=\"translate(500,235)\" d=\"M-5,-5h10v10h-10Z\" style=\"fill: grey; stroke-width: 2; opacity: 0.7;\"></path><path transform=\"translate(187.5,255)\" d=\"M-5,-5h10v10h-10Z\" style=\"fill: grey; stroke-width: 2; opacity: 0.7;\"></path><path transform=\"translate(250,237.5)\" d=\"M-5,-5h10v10h-10Z\" style=\"fill: rgb(110, 174, 213); stroke-width: 2; opacity: 0.7;\"></path><path transform=\"translate(250,235)\" d=\"M-5,-5h10v10h-10Z\" style=\"fill: rgb(151, 197, 224); stroke-width: 2; opacity: 0.7;\"></path><path transform=\"translate(437.5,245)\" d=\"M-5,-5h10v10h-10Z\" style=\"fill: grey; stroke-width: 2; opacity: 0.7;\"></path><path transform=\"translate(0,245)\" d=\"M-5,-5h10v10h-10Z\" style=\"fill: grey; stroke-width: 2; opacity: 0.7;\"></path><path transform=\"translate(62.5,255)\" d=\"M-5,-5h10v10h-10Z\" style=\"fill: grey; stroke-width: 2; opacity: 0.7;\"></path><path transform=\"translate(187.5,252.5)\" d=\"M-5,-5h10v10h-10Z\" style=\"fill: grey; stroke-width: 2; opacity: 0.7;\"></path><path transform=\"translate(312.5,237.5)\" d=\"M-5,-5h10v10h-10Z\" style=\"fill: grey; stroke-width: 2; opacity: 0.7;\"></path><path transform=\"translate(0,242.5)\" d=\"M-5,-5h10v10h-10Z\" style=\"fill: grey; stroke-width: 2; opacity: 0.7;\"></path><path transform=\"translate(312.5,235)\" d=\"M-5,-5h10v10h-10Z\" style=\"fill: grey; stroke-width: 2; opacity: 0.7;\"></path><path transform=\"translate(187.5,250)\" d=\"M-5,-5h10v10h-10Z\" style=\"fill: grey; stroke-width: 2; opacity: 0.7;\"></path><path transform=\"translate(250,232.5)\" d=\"M-5,-5h10v10h-10Z\" style=\"fill: rgb(77, 152, 201); stroke-width: 2; opacity: 0.7;\"></path><path transform=\"translate(250,230)\" d=\"M-5,-5h10v10h-10Z\" style=\"fill: rgb(81, 155, 203); stroke-width: 2; opacity: 0.7;\"></path><path transform=\"translate(437.5,242.5)\" d=\"M-5,-5h10v10h-10Z\" style=\"fill: grey; stroke-width: 2; opacity: 0.7;\"></path><path transform=\"translate(500,232.5)\" d=\"M-5,-5h10v10h-10Z\" style=\"fill: grey; stroke-width: 2; opacity: 0.7;\"></path><path transform=\"translate(187.5,247.5)\" d=\"M-5,-5h10v10h-10Z\" style=\"fill: grey; stroke-width: 2; opacity: 0.7;\"></path><path transform=\"translate(62.5,252.5)\" d=\"M-5,-5h10v10h-10Z\" style=\"fill: grey; stroke-width: 2; opacity: 0.7;\"></path><path transform=\"translate(250,227.5)\" d=\"M-5,-5h10v10h-10Z\" style=\"fill: rgb(65, 143, 196); stroke-width: 2; opacity: 0.7;\"></path><path transform=\"translate(62.5,250)\" d=\"M-5,-5h10v10h-10Z\" style=\"fill: grey; stroke-width: 2; opacity: 0.7;\"></path><path transform=\"translate(437.5,240)\" d=\"M-5,-5h10v10h-10Z\" style=\"fill: grey; stroke-width: 2; opacity: 0.7;\"></path><path transform=\"translate(187.5,245)\" d=\"M-5,-5h10v10h-10Z\" style=\"fill: grey; stroke-width: 2; opacity: 0.7;\"></path><path transform=\"translate(62.5,247.5)\" d=\"M-5,-5h10v10h-10Z\" style=\"fill: grey; stroke-width: 2; opacity: 0.7;\"></path><path transform=\"translate(125,247.5)\" d=\"M-5,-5h10v10h-10Z\" style=\"fill: grey; stroke-width: 2; opacity: 0.7;\"></path><path transform=\"translate(375,237.5)\" d=\"M-5,-5h10v10h-10Z\" style=\"fill: grey; stroke-width: 2; opacity: 0.7;\"></path><path transform=\"translate(250,225)\" d=\"M-5,-5h10v10h-10Z\" style=\"fill: rgb(74, 150, 200); stroke-width: 2; opacity: 0.7;\"></path><path transform=\"translate(312.5,232.5)\" d=\"M-5,-5h10v10h-10Z\" style=\"fill: grey; stroke-width: 2; opacity: 0.7;\"></path><path transform=\"translate(375,235)\" d=\"M-5,-5h10v10h-10Z\" style=\"fill: grey; stroke-width: 2; opacity: 0.7;\"></path><path transform=\"translate(250,222.5)\" d=\"M-5,-5h10v10h-10Z\" style=\"fill: rgb(118, 179, 216); stroke-width: 2; opacity: 0.7;\"></path><path transform=\"translate(187.5,242.5)\" d=\"M-5,-5h10v10h-10Z\" style=\"fill: grey; stroke-width: 2; opacity: 0.7;\"></path><path transform=\"translate(125,245)\" d=\"M-5,-5h10v10h-10Z\" style=\"fill: grey; stroke-width: 2; opacity: 0.7;\"></path><path transform=\"translate(125,242.5)\" d=\"M-5,-5h10v10h-10Z\" style=\"fill: grey; stroke-width: 2; opacity: 0.7;\"></path><path transform=\"translate(312.5,230)\" d=\"M-5,-5h10v10h-10Z\" style=\"fill: grey; stroke-width: 2; opacity: 0.7;\"></path><path transform=\"translate(250,220)\" d=\"M-5,-5h10v10h-10Z\" style=\"fill: rgb(164, 204, 228); stroke-width: 2; opacity: 0.7;\"></path><path transform=\"translate(375,232.5)\" d=\"M-5,-5h10v10h-10Z\" style=\"fill: grey; stroke-width: 2; opacity: 0.7;\"></path><path transform=\"translate(375,230)\" d=\"M-5,-5h10v10h-10Z\" style=\"fill: grey; stroke-width: 2; opacity: 0.7;\"></path><path transform=\"translate(0,240)\" d=\"M-5,-5h10v10h-10Z\" style=\"fill: grey; stroke-width: 2; opacity: 0.7;\"></path><path transform=\"translate(62.5,245)\" d=\"M-5,-5h10v10h-10Z\" style=\"fill: grey; stroke-width: 2; opacity: 0.7;\"></path><path transform=\"translate(250,217.5)\" d=\"M-5,-5h10v10h-10Z\" style=\"fill: rgb(130, 186, 219); stroke-width: 2; opacity: 0.7;\"></path><path transform=\"translate(187.5,240)\" d=\"M-5,-5h10v10h-10Z\" style=\"fill: grey; stroke-width: 2; opacity: 0.7;\"></path><path transform=\"translate(437.5,237.5)\" d=\"M-5,-5h10v10h-10Z\" style=\"fill: grey; stroke-width: 2; opacity: 0.7;\"></path><path transform=\"translate(187.5,237.5)\" d=\"M-5,-5h10v10h-10Z\" style=\"fill: grey; stroke-width: 2; opacity: 0.7;\"></path><path transform=\"translate(500,230)\" d=\"M-5,-5h10v10h-10Z\" style=\"fill: grey; stroke-width: 2; opacity: 0.7;\"></path><path transform=\"translate(500,227.5)\" d=\"M-5,-5h10v10h-10Z\" style=\"fill: grey; stroke-width: 2; opacity: 0.7;\"></path><path transform=\"translate(312.5,227.5)\" d=\"M-5,-5h10v10h-10Z\" style=\"fill: grey; stroke-width: 2; opacity: 0.7;\"></path><path transform=\"translate(0,237.5)\" d=\"M-5,-5h10v10h-10Z\" style=\"fill: grey; stroke-width: 2; opacity: 0.7;\"></path><path transform=\"translate(500,225)\" d=\"M-5,-5h10v10h-10Z\" style=\"fill: grey; stroke-width: 2; opacity: 0.7;\"></path><path transform=\"translate(62.5,242.5)\" d=\"M-5,-5h10v10h-10Z\" style=\"fill: grey; stroke-width: 2; opacity: 0.7;\"></path><path transform=\"translate(62.5,240)\" d=\"M-5,-5h10v10h-10Z\" style=\"fill: grey; stroke-width: 2; opacity: 0.7;\"></path><path transform=\"translate(187.5,235)\" d=\"M-5,-5h10v10h-10Z\" style=\"fill: grey; stroke-width: 2; opacity: 0.7;\"></path><path transform=\"translate(437.5,235)\" d=\"M-5,-5h10v10h-10Z\" style=\"fill: grey; stroke-width: 2; opacity: 0.7;\"></path><path transform=\"translate(500,222.5)\" d=\"M-5,-5h10v10h-10Z\" style=\"fill: grey; stroke-width: 2; opacity: 0.7;\"></path><path transform=\"translate(312.5,225)\" d=\"M-5,-5h10v10h-10Z\" style=\"fill: grey; stroke-width: 2; opacity: 0.7;\"></path><path transform=\"translate(437.5,232.5)\" d=\"M-5,-5h10v10h-10Z\" style=\"fill: grey; stroke-width: 2; opacity: 0.7;\"></path><path transform=\"translate(187.5,232.5)\" d=\"M-5,-5h10v10h-10Z\" style=\"fill: grey; stroke-width: 2; opacity: 0.7;\"></path><path transform=\"translate(375,227.5)\" d=\"M-5,-5h10v10h-10Z\" style=\"fill: grey; stroke-width: 2; opacity: 0.7;\"></path><path transform=\"translate(375,225)\" d=\"M-5,-5h10v10h-10Z\" style=\"fill: grey; stroke-width: 2; opacity: 0.7;\"></path><path transform=\"translate(0,235)\" d=\"M-5,-5h10v10h-10Z\" style=\"fill: grey; stroke-width: 2; opacity: 0.7;\"></path><path transform=\"translate(0,232.5)\" d=\"M-5,-5h10v10h-10Z\" style=\"fill: grey; stroke-width: 2; opacity: 0.7;\"></path><path transform=\"translate(312.5,222.5)\" d=\"M-5,-5h10v10h-10Z\" style=\"fill: grey; stroke-width: 2; opacity: 0.7;\"></path><path transform=\"translate(125,240)\" d=\"M-5,-5h10v10h-10Z\" style=\"fill: grey; stroke-width: 2; opacity: 0.7;\"></path><path transform=\"translate(125,237.5)\" d=\"M-5,-5h10v10h-10Z\" style=\"fill: grey; stroke-width: 2; opacity: 0.7;\"></path><path transform=\"translate(187.5,230)\" d=\"M-5,-5h10v10h-10Z\" style=\"fill: grey; stroke-width: 2; opacity: 0.7;\"></path><path transform=\"translate(0,230)\" d=\"M-5,-5h10v10h-10Z\" style=\"fill: grey; stroke-width: 2; opacity: 0.7;\"></path><path transform=\"translate(437.5,230)\" d=\"M-5,-5h10v10h-10Z\" style=\"fill: grey; stroke-width: 2; opacity: 0.7;\"></path><path transform=\"translate(375,222.5)\" d=\"M-5,-5h10v10h-10Z\" style=\"fill: grey; stroke-width: 2; opacity: 0.7;\"></path><path transform=\"translate(375,220)\" d=\"M-5,-5h10v10h-10Z\" style=\"fill: grey; stroke-width: 2; opacity: 0.7;\"></path><path transform=\"translate(500,220)\" d=\"M-5,-5h10v10h-10Z\" style=\"fill: grey; stroke-width: 2; opacity: 0.7;\"></path><path transform=\"translate(312.5,220)\" d=\"M-5,-5h10v10h-10Z\" style=\"fill: grey; stroke-width: 2; opacity: 0.7;\"></path><path transform=\"translate(500,217.5)\" d=\"M-5,-5h10v10h-10Z\" style=\"fill: grey; stroke-width: 2; opacity: 0.7;\"></path><path transform=\"translate(0,227.5)\" d=\"M-5,-5h10v10h-10Z\" style=\"fill: grey; stroke-width: 2; opacity: 0.7;\"></path><path transform=\"translate(187.5,227.5)\" d=\"M-5,-5h10v10h-10Z\" style=\"fill: grey; stroke-width: 2; opacity: 0.7;\"></path><path transform=\"translate(437.5,227.5)\" d=\"M-5,-5h10v10h-10Z\" style=\"fill: grey; stroke-width: 2; opacity: 0.7;\"></path><path transform=\"translate(250,215)\" d=\"M-5,-5h10v10h-10Z\" style=\"fill: rgb(169, 207, 229); stroke-width: 2; opacity: 0.7;\"></path><path transform=\"translate(250,212.5)\" d=\"M-5,-5h10v10h-10Z\" style=\"fill: rgb(81, 155, 203); stroke-width: 2; opacity: 0.7;\"></path><path transform=\"translate(0,225)\" d=\"M-5,-5h10v10h-10Z\" style=\"fill: grey; stroke-width: 2; opacity: 0.7;\"></path><path transform=\"translate(500,215)\" d=\"M-5,-5h10v10h-10Z\" style=\"fill: grey; stroke-width: 2; opacity: 0.7;\"></path><path transform=\"translate(437.5,225)\" d=\"M-5,-5h10v10h-10Z\" style=\"fill: grey; stroke-width: 2; opacity: 0.7;\"></path><path transform=\"translate(500,212.5)\" d=\"M-5,-5h10v10h-10Z\" style=\"fill: grey; stroke-width: 2; opacity: 0.7;\"></path><path transform=\"translate(250,210)\" d=\"M-5,-5h10v10h-10Z\" style=\"fill: rgb(58, 137, 193); stroke-width: 2; opacity: 0.7;\"></path><path transform=\"translate(250,207.5)\" d=\"M-5,-5h10v10h-10Z\" style=\"fill: rgb(124, 182, 217); stroke-width: 2; opacity: 0.7;\"></path><path transform=\"translate(375,217.5)\" d=\"M-5,-5h10v10h-10Z\" style=\"fill: grey; stroke-width: 2; opacity: 0.7;\"></path><path transform=\"translate(312.5,217.5)\" d=\"M-5,-5h10v10h-10Z\" style=\"fill: grey; stroke-width: 2; opacity: 0.7;\"></path><path transform=\"translate(250,205)\" d=\"M-5,-5h10v10h-10Z\" style=\"fill: rgb(159, 201, 226); stroke-width: 2; opacity: 0.7;\"></path><path transform=\"translate(62.5,237.5)\" d=\"M-5,-5h10v10h-10Z\" style=\"fill: grey; stroke-width: 2; opacity: 0.7;\"></path><path transform=\"translate(312.5,215)\" d=\"M-5,-5h10v10h-10Z\" style=\"fill: grey; stroke-width: 2; opacity: 0.7;\"></path><path transform=\"translate(62.5,235)\" d=\"M-5,-5h10v10h-10Z\" style=\"fill: grey; stroke-width: 2; opacity: 0.7;\"></path><path transform=\"translate(187.5,225)\" d=\"M-5,-5h10v10h-10Z\" style=\"fill: grey; stroke-width: 2; opacity: 0.7;\"></path><path transform=\"translate(187.5,222.5)\" d=\"M-5,-5h10v10h-10Z\" style=\"fill: grey; stroke-width: 2; opacity: 0.7;\"></path><path transform=\"translate(62.5,232.5)\" d=\"M-5,-5h10v10h-10Z\" style=\"fill: grey; stroke-width: 2; opacity: 0.7;\"></path><path transform=\"translate(500,210)\" d=\"M-5,-5h10v10h-10Z\" style=\"fill: grey; stroke-width: 2; opacity: 0.7;\"></path><path transform=\"translate(0,222.5)\" d=\"M-5,-5h10v10h-10Z\" style=\"fill: grey; stroke-width: 2; opacity: 0.7;\"></path><path transform=\"translate(0,220)\" d=\"M-5,-5h10v10h-10Z\" style=\"fill: grey; stroke-width: 2; opacity: 0.7;\"></path><path transform=\"translate(437.5,222.5)\" d=\"M-5,-5h10v10h-10Z\" style=\"fill: grey; stroke-width: 2; opacity: 0.7;\"></path><path transform=\"translate(187.5,220)\" d=\"M-5,-5h10v10h-10Z\" style=\"fill: grey; stroke-width: 2; opacity: 0.7;\"></path><path transform=\"translate(500,207.5)\" d=\"M-5,-5h10v10h-10Z\" style=\"fill: grey; stroke-width: 2; opacity: 0.7;\"></path><path transform=\"translate(0,217.5)\" d=\"M-5,-5h10v10h-10Z\" style=\"fill: grey; stroke-width: 2; opacity: 0.7;\"></path><path transform=\"translate(0,215)\" d=\"M-5,-5h10v10h-10Z\" style=\"fill: grey; stroke-width: 2; opacity: 0.7;\"></path><path transform=\"translate(500,205)\" d=\"M-5,-5h10v10h-10Z\" style=\"fill: grey; stroke-width: 2; opacity: 0.7;\"></path><path transform=\"translate(125,235)\" d=\"M-5,-5h10v10h-10Z\" style=\"fill: grey; stroke-width: 2; opacity: 0.7;\"></path><path transform=\"translate(312.5,212.5)\" d=\"M-5,-5h10v10h-10Z\" style=\"fill: grey; stroke-width: 2; opacity: 0.7;\"></path><path transform=\"translate(437.5,220)\" d=\"M-5,-5h10v10h-10Z\" style=\"fill: grey; stroke-width: 2; opacity: 0.7;\"></path><path transform=\"translate(125,232.5)\" d=\"M-5,-5h10v10h-10Z\" style=\"fill: grey; stroke-width: 2; opacity: 0.7;\"></path><path transform=\"translate(187.5,217.5)\" d=\"M-5,-5h10v10h-10Z\" style=\"fill: grey; stroke-width: 2; opacity: 0.7;\"></path><path transform=\"translate(125,230)\" d=\"M-5,-5h10v10h-10Z\" style=\"fill: grey; stroke-width: 2; opacity: 0.7;\"></path><path transform=\"translate(62.5,230)\" d=\"M-5,-5h10v10h-10Z\" style=\"fill: grey; stroke-width: 2; opacity: 0.7;\"></path><path transform=\"translate(312.5,210)\" d=\"M-5,-5h10v10h-10Z\" style=\"fill: grey; stroke-width: 2; opacity: 0.7;\"></path><path transform=\"translate(125,227.5)\" d=\"M-5,-5h10v10h-10Z\" style=\"fill: grey; stroke-width: 2; opacity: 0.7;\"></path><path transform=\"translate(187.5,215)\" d=\"M-5,-5h10v10h-10Z\" style=\"fill: grey; stroke-width: 2; opacity: 0.7;\"></path><path transform=\"translate(62.5,227.5)\" d=\"M-5,-5h10v10h-10Z\" style=\"fill: grey; stroke-width: 2; opacity: 0.7;\"></path><path transform=\"translate(187.5,212.5)\" d=\"M-5,-5h10v10h-10Z\" style=\"fill: grey; stroke-width: 2; opacity: 0.7;\"></path><path transform=\"translate(437.5,217.5)\" d=\"M-5,-5h10v10h-10Z\" style=\"fill: grey; stroke-width: 2; opacity: 0.7;\"></path><path transform=\"translate(312.5,207.5)\" d=\"M-5,-5h10v10h-10Z\" style=\"fill: grey; stroke-width: 2; opacity: 0.7;\"></path><path transform=\"translate(250,202.5)\" d=\"M-5,-5h10v10h-10Z\" style=\"fill: rgb(85, 158, 205); stroke-width: 2; opacity: 0.7;\"></path><path transform=\"translate(500,202.5)\" d=\"M-5,-5h10v10h-10Z\" style=\"fill: grey; stroke-width: 2; opacity: 0.7;\"></path><path transform=\"translate(500,200)\" d=\"M-5,-5h10v10h-10Z\" style=\"fill: grey; stroke-width: 2; opacity: 0.7;\"></path><path transform=\"translate(187.5,210)\" d=\"M-5,-5h10v10h-10Z\" style=\"fill: grey; stroke-width: 2; opacity: 0.7;\"></path><path transform=\"translate(312.5,205)\" d=\"M-5,-5h10v10h-10Z\" style=\"fill: grey; stroke-width: 2; opacity: 0.7;\"></path><path transform=\"translate(0,212.5)\" d=\"M-5,-5h10v10h-10Z\" style=\"fill: grey; stroke-width: 2; opacity: 0.7;\"></path><path transform=\"translate(437.5,215)\" d=\"M-5,-5h10v10h-10Z\" style=\"fill: grey; stroke-width: 2; opacity: 0.7;\"></path><path transform=\"translate(125,225)\" d=\"M-5,-5h10v10h-10Z\" style=\"fill: grey; stroke-width: 2; opacity: 0.7;\"></path><path transform=\"translate(500,197.5)\" d=\"M-5,-5h10v10h-10Z\" style=\"fill: grey; stroke-width: 2; opacity: 0.7;\"></path><path transform=\"translate(312.5,202.5)\" d=\"M-5,-5h10v10h-10Z\" style=\"fill: grey; stroke-width: 2; opacity: 0.7;\"></path><path transform=\"translate(500,195)\" d=\"M-5,-5h10v10h-10Z\" style=\"fill: grey; stroke-width: 2; opacity: 0.7;\"></path><path transform=\"translate(250,200)\" d=\"M-5,-5h10v10h-10Z\" style=\"fill: rgb(63, 141, 195); stroke-width: 2; opacity: 0.7;\"></path><path transform=\"translate(500,192.5)\" d=\"M-5,-5h10v10h-10Z\" style=\"fill: grey; stroke-width: 2; opacity: 0.7;\"></path><path transform=\"translate(500,190)\" d=\"M-5,-5h10v10h-10Z\" style=\"fill: grey; stroke-width: 2; opacity: 0.7;\"></path><path transform=\"translate(500,187.5)\" d=\"M-5,-5h10v10h-10Z\" style=\"fill: grey; stroke-width: 2; opacity: 0.7;\"></path><path transform=\"translate(0,210)\" d=\"M-5,-5h10v10h-10Z\" style=\"fill: grey; stroke-width: 2; opacity: 0.7;\"></path><path transform=\"translate(125,222.5)\" d=\"M-5,-5h10v10h-10Z\" style=\"fill: grey; stroke-width: 2; opacity: 0.7;\"></path><path transform=\"translate(375,215)\" d=\"M-5,-5h10v10h-10Z\" style=\"fill: grey; stroke-width: 2; opacity: 0.7;\"></path><path transform=\"translate(437.5,212.5)\" d=\"M-5,-5h10v10h-10Z\" style=\"fill: grey; stroke-width: 2; opacity: 0.7;\"></path><path transform=\"translate(187.5,207.5)\" d=\"M-5,-5h10v10h-10Z\" style=\"fill: grey; stroke-width: 2; opacity: 0.7;\"></path><path transform=\"translate(500,185)\" d=\"M-5,-5h10v10h-10Z\" style=\"fill: grey; stroke-width: 2; opacity: 0.7;\"></path><path transform=\"translate(437.5,210)\" d=\"M-5,-5h10v10h-10Z\" style=\"fill: grey; stroke-width: 2; opacity: 0.7;\"></path><path transform=\"translate(500,182.5)\" d=\"M-5,-5h10v10h-10Z\" style=\"fill: grey; stroke-width: 2; opacity: 0.7;\"></path><path transform=\"translate(187.5,205)\" d=\"M-5,-5h10v10h-10Z\" style=\"fill: grey; stroke-width: 2; opacity: 0.7;\"></path><path transform=\"translate(0,207.5)\" d=\"M-5,-5h10v10h-10Z\" style=\"fill: grey; stroke-width: 2; opacity: 0.7;\"></path><path transform=\"translate(187.5,202.5)\" d=\"M-5,-5h10v10h-10Z\" style=\"fill: grey; stroke-width: 2; opacity: 0.7;\"></path><path transform=\"translate(250,197.5)\" d=\"M-5,-5h10v10h-10Z\" style=\"fill: rgb(128, 185, 218); stroke-width: 2; opacity: 0.7;\"></path><path transform=\"translate(250,195)\" d=\"M-5,-5h10v10h-10Z\" style=\"fill: rgb(63, 141, 196); stroke-width: 2; opacity: 0.7;\"></path><path transform=\"translate(437.5,207.5)\" d=\"M-5,-5h10v10h-10Z\" style=\"fill: grey; stroke-width: 2; opacity: 0.7;\"></path><path transform=\"translate(187.5,200)\" d=\"M-5,-5h10v10h-10Z\" style=\"fill: grey; stroke-width: 2; opacity: 0.7;\"></path><path transform=\"translate(125,220)\" d=\"M-5,-5h10v10h-10Z\" style=\"fill: grey; stroke-width: 2; opacity: 0.7;\"></path><path transform=\"translate(375,212.5)\" d=\"M-5,-5h10v10h-10Z\" style=\"fill: grey; stroke-width: 2; opacity: 0.7;\"></path><path transform=\"translate(187.5,197.5)\" d=\"M-5,-5h10v10h-10Z\" style=\"fill: grey; stroke-width: 2; opacity: 0.7;\"></path><path transform=\"translate(125,217.5)\" d=\"M-5,-5h10v10h-10Z\" style=\"fill: grey; stroke-width: 2; opacity: 0.7;\"></path><path transform=\"translate(250,192.5)\" d=\"M-5,-5h10v10h-10Z\" style=\"fill: rgb(33, 112, 179); stroke-width: 2; opacity: 0.7;\"></path><path transform=\"translate(250,190)\" d=\"M-5,-5h10v10h-10Z\" style=\"fill: rgb(44, 124, 186); stroke-width: 2; opacity: 0.7;\"></path><path transform=\"translate(375,210)\" d=\"M-5,-5h10v10h-10Z\" style=\"fill: grey; stroke-width: 2; opacity: 0.7;\"></path><path transform=\"translate(125,215)\" d=\"M-5,-5h10v10h-10Z\" style=\"fill: grey; stroke-width: 2; opacity: 0.7;\"></path><path transform=\"translate(125,212.5)\" d=\"M-5,-5h10v10h-10Z\" style=\"fill: grey; stroke-width: 2; opacity: 0.7;\"></path><path transform=\"translate(375,207.5)\" d=\"M-5,-5h10v10h-10Z\" style=\"fill: grey; stroke-width: 2; opacity: 0.7;\"></path><path transform=\"translate(250,187.5)\" d=\"M-5,-5h10v10h-10Z\" style=\"fill: rgb(121, 181, 216); stroke-width: 2; opacity: 0.7;\"></path><path transform=\"translate(187.5,195)\" d=\"M-5,-5h10v10h-10Z\" style=\"fill: grey; stroke-width: 2; opacity: 0.7;\"></path><path transform=\"translate(375,205)\" d=\"M-5,-5h10v10h-10Z\" style=\"fill: grey; stroke-width: 2; opacity: 0.7;\"></path><path transform=\"translate(437.5,205)\" d=\"M-5,-5h10v10h-10Z\" style=\"fill: grey; stroke-width: 2; opacity: 0.7;\"></path><path transform=\"translate(437.5,202.5)\" d=\"M-5,-5h10v10h-10Z\" style=\"fill: grey; stroke-width: 2; opacity: 0.7;\"></path><path transform=\"translate(312.5,200)\" d=\"M-5,-5h10v10h-10Z\" style=\"fill: grey; stroke-width: 2; opacity: 0.7;\"></path><path transform=\"translate(437.5,200)\" d=\"M-5,-5h10v10h-10Z\" style=\"fill: grey; stroke-width: 2; opacity: 0.7;\"></path><path transform=\"translate(62.5,225)\" d=\"M-5,-5h10v10h-10Z\" style=\"fill: grey; stroke-width: 2; opacity: 0.7;\"></path><path transform=\"translate(0,205)\" d=\"M-5,-5h10v10h-10Z\" style=\"fill: grey; stroke-width: 2; opacity: 0.7;\"></path><path transform=\"translate(312.5,197.5)\" d=\"M-5,-5h10v10h-10Z\" style=\"fill: grey; stroke-width: 2; opacity: 0.7;\"></path><path transform=\"translate(187.5,192.5)\" d=\"M-5,-5h10v10h-10Z\" style=\"fill: grey; stroke-width: 2; opacity: 0.7;\"></path><path transform=\"translate(437.5,197.5)\" d=\"M-5,-5h10v10h-10Z\" style=\"fill: grey; stroke-width: 2; opacity: 0.7;\"></path><path transform=\"translate(250,185)\" d=\"M-5,-5h10v10h-10Z\" style=\"fill: rgb(147, 195, 223); stroke-width: 2; opacity: 0.7;\"></path><path transform=\"translate(375,202.5)\" d=\"M-5,-5h10v10h-10Z\" style=\"fill: grey; stroke-width: 2; opacity: 0.7;\"></path><path transform=\"translate(187.5,190)\" d=\"M-5,-5h10v10h-10Z\" style=\"fill: grey; stroke-width: 2; opacity: 0.7;\"></path><path transform=\"translate(500,180)\" d=\"M-5,-5h10v10h-10Z\" style=\"fill: grey; stroke-width: 2; opacity: 0.7;\"></path><path transform=\"translate(125,210)\" d=\"M-5,-5h10v10h-10Z\" style=\"fill: grey; stroke-width: 2; opacity: 0.7;\"></path><path transform=\"translate(62.5,222.5)\" d=\"M-5,-5h10v10h-10Z\" style=\"fill: grey; stroke-width: 2; opacity: 0.7;\"></path><path transform=\"translate(250,182.5)\" d=\"M-5,-5h10v10h-10Z\" style=\"fill: rgb(119, 179, 216); stroke-width: 2; opacity: 0.7;\"></path><path transform=\"translate(312.5,195)\" d=\"M-5,-5h10v10h-10Z\" style=\"fill: grey; stroke-width: 2; opacity: 0.7;\"></path><path transform=\"translate(0,202.5)\" d=\"M-5,-5h10v10h-10Z\" style=\"fill: grey; stroke-width: 2; opacity: 0.7;\"></path><path transform=\"translate(250,180)\" d=\"M-5,-5h10v10h-10Z\" style=\"fill: rgb(125, 183, 217); stroke-width: 2; opacity: 0.7;\"></path><path transform=\"translate(250,177.5)\" d=\"M-5,-5h10v10h-10Z\" style=\"fill: rgb(38, 117, 182); stroke-width: 2; opacity: 0.7;\"></path><path transform=\"translate(62.5,220)\" d=\"M-5,-5h10v10h-10Z\" style=\"fill: grey; stroke-width: 2; opacity: 0.7;\"></path><path transform=\"translate(62.5,217.5)\" d=\"M-5,-5h10v10h-10Z\" style=\"fill: grey; stroke-width: 2; opacity: 0.7;\"></path><path transform=\"translate(125,207.5)\" d=\"M-5,-5h10v10h-10Z\" style=\"fill: grey; stroke-width: 2; opacity: 0.7;\"></path><path transform=\"translate(125,205)\" d=\"M-5,-5h10v10h-10Z\" style=\"fill: grey; stroke-width: 2; opacity: 0.7;\"></path><path transform=\"translate(375,200)\" d=\"M-5,-5h10v10h-10Z\" style=\"fill: grey; stroke-width: 2; opacity: 0.7;\"></path><path transform=\"translate(250,175)\" d=\"M-5,-5h10v10h-10Z\" style=\"fill: rgb(140, 191, 221); stroke-width: 2; opacity: 0.7;\"></path><path transform=\"translate(500,177.5)\" d=\"M-5,-5h10v10h-10Z\" style=\"fill: grey; stroke-width: 2; opacity: 0.7;\"></path><path transform=\"translate(187.5,187.5)\" d=\"M-5,-5h10v10h-10Z\" style=\"fill: grey; stroke-width: 2; opacity: 0.7;\"></path><path transform=\"translate(312.5,192.5)\" d=\"M-5,-5h10v10h-10Z\" style=\"fill: grey; stroke-width: 2; opacity: 0.7;\"></path><path transform=\"translate(187.5,185)\" d=\"M-5,-5h10v10h-10Z\" style=\"fill: grey; stroke-width: 2; opacity: 0.7;\"></path><path transform=\"translate(312.5,190)\" d=\"M-5,-5h10v10h-10Z\" style=\"fill: grey; stroke-width: 2; opacity: 0.7;\"></path><path transform=\"translate(62.5,215)\" d=\"M-5,-5h10v10h-10Z\" style=\"fill: grey; stroke-width: 2; opacity: 0.7;\"></path><path transform=\"translate(375,197.5)\" d=\"M-5,-5h10v10h-10Z\" style=\"fill: grey; stroke-width: 2; opacity: 0.7;\"></path><path transform=\"translate(250,172.5)\" d=\"M-5,-5h10v10h-10Z\" style=\"fill: rgb(115, 177, 215); stroke-width: 2; opacity: 0.7;\"></path><path transform=\"translate(62.5,212.5)\" d=\"M-5,-5h10v10h-10Z\" style=\"fill: grey; stroke-width: 2; opacity: 0.7;\"></path><path transform=\"translate(125,202.5)\" d=\"M-5,-5h10v10h-10Z\" style=\"fill: grey; stroke-width: 2; opacity: 0.7;\"></path><path transform=\"translate(250,170)\" d=\"M-5,-5h10v10h-10Z\" style=\"fill: rgb(95, 166, 208); stroke-width: 2; opacity: 0.7;\"></path><path transform=\"translate(62.5,210)\" d=\"M-5,-5h10v10h-10Z\" style=\"fill: grey; stroke-width: 2; opacity: 0.7;\"></path><path transform=\"translate(250,167.5)\" d=\"M-5,-5h10v10h-10Z\" style=\"fill: rgb(67, 145, 197); stroke-width: 2; opacity: 0.7;\"></path><path transform=\"translate(375,195)\" d=\"M-5,-5h10v10h-10Z\" style=\"fill: grey; stroke-width: 2; opacity: 0.7;\"></path><path transform=\"translate(0,200)\" d=\"M-5,-5h10v10h-10Z\" style=\"fill: grey; stroke-width: 2; opacity: 0.7;\"></path><path transform=\"translate(375,192.5)\" d=\"M-5,-5h10v10h-10Z\" style=\"fill: grey; stroke-width: 2; opacity: 0.7;\"></path><path transform=\"translate(62.5,207.5)\" d=\"M-5,-5h10v10h-10Z\" style=\"fill: grey; stroke-width: 2; opacity: 0.7;\"></path><path transform=\"translate(0,197.5)\" d=\"M-5,-5h10v10h-10Z\" style=\"fill: grey; stroke-width: 2; opacity: 0.7;\"></path><path transform=\"translate(500,175)\" d=\"M-5,-5h10v10h-10Z\" style=\"fill: grey; stroke-width: 2; opacity: 0.7;\"></path><path transform=\"translate(125,200)\" d=\"M-5,-5h10v10h-10Z\" style=\"fill: grey; stroke-width: 2; opacity: 0.7;\"></path><path transform=\"translate(187.5,182.5)\" d=\"M-5,-5h10v10h-10Z\" style=\"fill: grey; stroke-width: 2; opacity: 0.7;\"></path><path transform=\"translate(187.5,180)\" d=\"M-5,-5h10v10h-10Z\" style=\"fill: grey; stroke-width: 2; opacity: 0.7;\"></path><path transform=\"translate(125,197.5)\" d=\"M-5,-5h10v10h-10Z\" style=\"fill: grey; stroke-width: 2; opacity: 0.7;\"></path><path transform=\"translate(250,165)\" d=\"M-5,-5h10v10h-10Z\" style=\"fill: rgb(42, 122, 185); stroke-width: 2; opacity: 0.7;\"></path><path transform=\"translate(375,190)\" d=\"M-5,-5h10v10h-10Z\" style=\"fill: grey; stroke-width: 2; opacity: 0.7;\"></path><path transform=\"translate(437.5,195)\" d=\"M-5,-5h10v10h-10Z\" style=\"fill: grey; stroke-width: 2; opacity: 0.7;\"></path><path transform=\"translate(125,195)\" d=\"M-5,-5h10v10h-10Z\" style=\"fill: grey; stroke-width: 2; opacity: 0.7;\"></path><path transform=\"translate(312.5,187.5)\" d=\"M-5,-5h10v10h-10Z\" style=\"fill: grey; stroke-width: 2; opacity: 0.7;\"></path><path transform=\"translate(375,187.5)\" d=\"M-5,-5h10v10h-10Z\" style=\"fill: grey; stroke-width: 2; opacity: 0.7;\"></path><path transform=\"translate(187.5,177.5)\" d=\"M-5,-5h10v10h-10Z\" style=\"fill: grey; stroke-width: 2; opacity: 0.7;\"></path><path transform=\"translate(125,192.5)\" d=\"M-5,-5h10v10h-10Z\" style=\"fill: grey; stroke-width: 2; opacity: 0.7;\"></path><path transform=\"translate(125,190)\" d=\"M-5,-5h10v10h-10Z\" style=\"fill: grey; stroke-width: 2; opacity: 0.7;\"></path><path transform=\"translate(125,187.5)\" d=\"M-5,-5h10v10h-10Z\" style=\"fill: grey; stroke-width: 2; opacity: 0.7;\"></path><path transform=\"translate(250,162.5)\" d=\"M-5,-5h10v10h-10Z\" style=\"fill: rgb(111, 175, 213); stroke-width: 2; opacity: 0.7;\"></path><path transform=\"translate(312.5,185)\" d=\"M-5,-5h10v10h-10Z\" style=\"fill: grey; stroke-width: 2; opacity: 0.7;\"></path><path transform=\"translate(375,185)\" d=\"M-5,-5h10v10h-10Z\" style=\"fill: grey; stroke-width: 2; opacity: 0.7;\"></path><path transform=\"translate(62.5,205)\" d=\"M-5,-5h10v10h-10Z\" style=\"fill: grey; stroke-width: 2; opacity: 0.7;\"></path><path transform=\"translate(250,160)\" d=\"M-5,-5h10v10h-10Z\" style=\"fill: rgb(55, 134, 192); stroke-width: 2; opacity: 0.7;\"></path><path transform=\"translate(437.5,192.5)\" d=\"M-5,-5h10v10h-10Z\" style=\"fill: grey; stroke-width: 2; opacity: 0.7;\"></path><path transform=\"translate(250,157.5)\" d=\"M-5,-5h10v10h-10Z\" style=\"fill: rgb(39, 119, 183); stroke-width: 2; opacity: 0.7;\"></path><path transform=\"translate(125,185)\" d=\"M-5,-5h10v10h-10Z\" style=\"fill: grey; stroke-width: 2; opacity: 0.7;\"></path><path transform=\"translate(375,182.5)\" d=\"M-5,-5h10v10h-10Z\" style=\"fill: grey; stroke-width: 2; opacity: 0.7;\"></path><path transform=\"translate(125,182.5)\" d=\"M-5,-5h10v10h-10Z\" style=\"fill: grey; stroke-width: 2; opacity: 0.7;\"></path><path transform=\"translate(187.5,175)\" d=\"M-5,-5h10v10h-10Z\" style=\"fill: grey; stroke-width: 2; opacity: 0.7;\"></path><path transform=\"translate(375,180)\" d=\"M-5,-5h10v10h-10Z\" style=\"fill: grey; stroke-width: 2; opacity: 0.7;\"></path><path transform=\"translate(500,172.5)\" d=\"M-5,-5h10v10h-10Z\" style=\"fill: grey; stroke-width: 2; opacity: 0.7;\"></path><path transform=\"translate(125,180)\" d=\"M-5,-5h10v10h-10Z\" style=\"fill: grey; stroke-width: 2; opacity: 0.7;\"></path><path transform=\"translate(187.5,172.5)\" d=\"M-5,-5h10v10h-10Z\" style=\"fill: grey; stroke-width: 2; opacity: 0.7;\"></path><path transform=\"translate(0,195)\" d=\"M-5,-5h10v10h-10Z\" style=\"fill: grey; stroke-width: 2; opacity: 0.7;\"></path><path transform=\"translate(0,192.5)\" d=\"M-5,-5h10v10h-10Z\" style=\"fill: grey; stroke-width: 2; opacity: 0.7;\"></path><path transform=\"translate(0,190)\" d=\"M-5,-5h10v10h-10Z\" style=\"fill: grey; stroke-width: 2; opacity: 0.7;\"></path><path transform=\"translate(250,155)\" d=\"M-5,-5h10v10h-10Z\" style=\"fill: rgb(47, 127, 188); stroke-width: 2; opacity: 0.7;\"></path><path transform=\"translate(437.5,190)\" d=\"M-5,-5h10v10h-10Z\" style=\"fill: grey; stroke-width: 2; opacity: 0.7;\"></path><path transform=\"translate(375,177.5)\" d=\"M-5,-5h10v10h-10Z\" style=\"fill: grey; stroke-width: 2; opacity: 0.7;\"></path><path transform=\"translate(125,177.5)\" d=\"M-5,-5h10v10h-10Z\" style=\"fill: grey; stroke-width: 2; opacity: 0.7;\"></path><path transform=\"translate(187.5,170)\" d=\"M-5,-5h10v10h-10Z\" style=\"fill: grey; stroke-width: 2; opacity: 0.7;\"></path><path transform=\"translate(187.5,167.5)\" d=\"M-5,-5h10v10h-10Z\" style=\"fill: grey; stroke-width: 2; opacity: 0.7;\"></path><path transform=\"translate(437.5,187.5)\" d=\"M-5,-5h10v10h-10Z\" style=\"fill: grey; stroke-width: 2; opacity: 0.7;\"></path><path transform=\"translate(62.5,202.5)\" d=\"M-5,-5h10v10h-10Z\" style=\"fill: grey; stroke-width: 2; opacity: 0.7;\"></path><path transform=\"translate(500,170)\" d=\"M-5,-5h10v10h-10Z\" style=\"fill: grey; stroke-width: 2; opacity: 0.7;\"></path><path transform=\"translate(62.5,200)\" d=\"M-5,-5h10v10h-10Z\" style=\"fill: grey; stroke-width: 2; opacity: 0.7;\"></path><path transform=\"translate(250,152.5)\" d=\"M-5,-5h10v10h-10Z\" style=\"fill: rgb(137, 190, 221); stroke-width: 2; opacity: 0.7;\"></path><path transform=\"translate(375,175)\" d=\"M-5,-5h10v10h-10Z\" style=\"fill: grey; stroke-width: 2; opacity: 0.7;\"></path><path transform=\"translate(437.5,185)\" d=\"M-5,-5h10v10h-10Z\" style=\"fill: grey; stroke-width: 2; opacity: 0.7;\"></path><path transform=\"translate(62.5,197.5)\" d=\"M-5,-5h10v10h-10Z\" style=\"fill: grey; stroke-width: 2; opacity: 0.7;\"></path><path transform=\"translate(125,175)\" d=\"M-5,-5h10v10h-10Z\" style=\"fill: grey; stroke-width: 2; opacity: 0.7;\"></path><path transform=\"translate(437.5,182.5)\" d=\"M-5,-5h10v10h-10Z\" style=\"fill: grey; stroke-width: 2; opacity: 0.7;\"></path><path transform=\"translate(125,172.5)\" d=\"M-5,-5h10v10h-10Z\" style=\"fill: grey; stroke-width: 2; opacity: 0.7;\"></path><path transform=\"translate(0,187.5)\" d=\"M-5,-5h10v10h-10Z\" style=\"fill: grey; stroke-width: 2; opacity: 0.7;\"></path><path transform=\"translate(250,150)\" d=\"M-5,-5h10v10h-10Z\" style=\"fill: rgb(103, 170, 211); stroke-width: 2; opacity: 0.7;\"></path><path transform=\"translate(375,172.5)\" d=\"M-5,-5h10v10h-10Z\" style=\"fill: grey; stroke-width: 2; opacity: 0.7;\"></path><path transform=\"translate(312.5,182.5)\" d=\"M-5,-5h10v10h-10Z\" style=\"fill: grey; stroke-width: 2; opacity: 0.7;\"></path><path transform=\"translate(375,170)\" d=\"M-5,-5h10v10h-10Z\" style=\"fill: grey; stroke-width: 2; opacity: 0.7;\"></path><path transform=\"translate(187.5,165)\" d=\"M-5,-5h10v10h-10Z\" style=\"fill: grey; stroke-width: 2; opacity: 0.7;\"></path><path transform=\"translate(0,185)\" d=\"M-5,-5h10v10h-10Z\" style=\"fill: grey; stroke-width: 2; opacity: 0.7;\"></path><path transform=\"translate(312.5,180)\" d=\"M-5,-5h10v10h-10Z\" style=\"fill: grey; stroke-width: 2; opacity: 0.7;\"></path><path transform=\"translate(437.5,180)\" d=\"M-5,-5h10v10h-10Z\" style=\"fill: grey; stroke-width: 2; opacity: 0.7;\"></path><path transform=\"translate(437.5,177.5)\" d=\"M-5,-5h10v10h-10Z\" style=\"fill: grey; stroke-width: 2; opacity: 0.7;\"></path><path transform=\"translate(500,167.5)\" d=\"M-5,-5h10v10h-10Z\" style=\"fill: grey; stroke-width: 2; opacity: 0.7;\"></path><path transform=\"translate(437.5,175)\" d=\"M-5,-5h10v10h-10Z\" style=\"fill: grey; stroke-width: 2; opacity: 0.7;\"></path><path transform=\"translate(250,147.5)\" d=\"M-5,-5h10v10h-10Z\" style=\"fill: rgb(79, 154, 202); stroke-width: 2; opacity: 0.7;\"></path><path transform=\"translate(125,170)\" d=\"M-5,-5h10v10h-10Z\" style=\"fill: grey; stroke-width: 2; opacity: 0.7;\"></path><path transform=\"translate(500,165)\" d=\"M-5,-5h10v10h-10Z\" style=\"fill: grey; stroke-width: 2; opacity: 0.7;\"></path><path transform=\"translate(187.5,162.5)\" d=\"M-5,-5h10v10h-10Z\" style=\"fill: grey; stroke-width: 2; opacity: 0.7;\"></path><path transform=\"translate(187.5,160)\" d=\"M-5,-5h10v10h-10Z\" style=\"fill: grey; stroke-width: 2; opacity: 0.7;\"></path><path transform=\"translate(62.5,195)\" d=\"M-5,-5h10v10h-10Z\" style=\"fill: grey; stroke-width: 2; opacity: 0.7;\"></path><path transform=\"translate(0,182.5)\" d=\"M-5,-5h10v10h-10Z\" style=\"fill: grey; stroke-width: 2; opacity: 0.7;\"></path><path transform=\"translate(62.5,192.5)\" d=\"M-5,-5h10v10h-10Z\" style=\"fill: grey; stroke-width: 2; opacity: 0.7;\"></path><path transform=\"translate(250,144.99999999999997)\" d=\"M-5,-5h10v10h-10Z\" style=\"fill: rgb(82, 156, 203); stroke-width: 2; opacity: 0.7;\"></path><path transform=\"translate(125,167.5)\" d=\"M-5,-5h10v10h-10Z\" style=\"fill: grey; stroke-width: 2; opacity: 0.7;\"></path><path transform=\"translate(375,167.5)\" d=\"M-5,-5h10v10h-10Z\" style=\"fill: grey; stroke-width: 2; opacity: 0.7;\"></path><path transform=\"translate(375,165)\" d=\"M-5,-5h10v10h-10Z\" style=\"fill: grey; stroke-width: 2; opacity: 0.7;\"></path><path transform=\"translate(437.5,172.5)\" d=\"M-5,-5h10v10h-10Z\" style=\"fill: grey; stroke-width: 2; opacity: 0.7;\"></path><path transform=\"translate(0,180)\" d=\"M-5,-5h10v10h-10Z\" style=\"fill: grey; stroke-width: 2; opacity: 0.7;\"></path><path transform=\"translate(250,142.5)\" d=\"M-5,-5h10v10h-10Z\" style=\"fill: rgb(128, 185, 218); stroke-width: 2; opacity: 0.7;\"></path><path transform=\"translate(437.5,170)\" d=\"M-5,-5h10v10h-10Z\" style=\"fill: grey; stroke-width: 2; opacity: 0.7;\"></path><path transform=\"translate(187.5,157.5)\" d=\"M-5,-5h10v10h-10Z\" style=\"fill: grey; stroke-width: 2; opacity: 0.7;\"></path><path transform=\"translate(437.5,167.5)\" d=\"M-5,-5h10v10h-10Z\" style=\"fill: grey; stroke-width: 2; opacity: 0.7;\"></path><path transform=\"translate(250,140)\" d=\"M-5,-5h10v10h-10Z\" style=\"fill: rgb(33, 113, 179); stroke-width: 2; opacity: 0.7;\"></path><path transform=\"translate(250,137.5)\" d=\"M-5,-5h10v10h-10Z\" style=\"fill: rgb(95, 165, 208); stroke-width: 2; opacity: 0.7;\"></path><path transform=\"translate(375,162.5)\" d=\"M-5,-5h10v10h-10Z\" style=\"fill: grey; stroke-width: 2; opacity: 0.7;\"></path><path transform=\"translate(500,162.5)\" d=\"M-5,-5h10v10h-10Z\" style=\"fill: grey; stroke-width: 2; opacity: 0.7;\"></path><path transform=\"translate(125,165)\" d=\"M-5,-5h10v10h-10Z\" style=\"fill: grey; stroke-width: 2; opacity: 0.7;\"></path><path transform=\"translate(250,135)\" d=\"M-5,-5h10v10h-10Z\" style=\"fill: rgb(82, 156, 203); stroke-width: 2; opacity: 0.7;\"></path><path transform=\"translate(437.5,165)\" d=\"M-5,-5h10v10h-10Z\" style=\"fill: grey; stroke-width: 2; opacity: 0.7;\"></path><path transform=\"translate(375,160)\" d=\"M-5,-5h10v10h-10Z\" style=\"fill: grey; stroke-width: 2; opacity: 0.7;\"></path><path transform=\"translate(375,157.5)\" d=\"M-5,-5h10v10h-10Z\" style=\"fill: grey; stroke-width: 2; opacity: 0.7;\"></path><path transform=\"translate(375,155)\" d=\"M-5,-5h10v10h-10Z\" style=\"fill: grey; stroke-width: 2; opacity: 0.7;\"></path><path transform=\"translate(187.5,155)\" d=\"M-5,-5h10v10h-10Z\" style=\"fill: grey; stroke-width: 2; opacity: 0.7;\"></path><path transform=\"translate(375,152.5)\" d=\"M-5,-5h10v10h-10Z\" style=\"fill: grey; stroke-width: 2; opacity: 0.7;\"></path><path transform=\"translate(500,160)\" d=\"M-5,-5h10v10h-10Z\" style=\"fill: grey; stroke-width: 2; opacity: 0.7;\"></path><path transform=\"translate(125,162.5)\" d=\"M-5,-5h10v10h-10Z\" style=\"fill: grey; stroke-width: 2; opacity: 0.7;\"></path><path transform=\"translate(0,177.5)\" d=\"M-5,-5h10v10h-10Z\" style=\"fill: grey; stroke-width: 2; opacity: 0.7;\"></path><path transform=\"translate(187.5,152.5)\" d=\"M-5,-5h10v10h-10Z\" style=\"fill: grey; stroke-width: 2; opacity: 0.7;\"></path><path transform=\"translate(125,160)\" d=\"M-5,-5h10v10h-10Z\" style=\"fill: grey; stroke-width: 2; opacity: 0.7;\"></path><path transform=\"translate(437.5,162.5)\" d=\"M-5,-5h10v10h-10Z\" style=\"fill: grey; stroke-width: 2; opacity: 0.7;\"></path><path transform=\"translate(500,157.5)\" d=\"M-5,-5h10v10h-10Z\" style=\"fill: grey; stroke-width: 2; opacity: 0.7;\"></path><path transform=\"translate(62.5,190)\" d=\"M-5,-5h10v10h-10Z\" style=\"fill: grey; stroke-width: 2; opacity: 0.7;\"></path><path transform=\"translate(187.5,150)\" d=\"M-5,-5h10v10h-10Z\" style=\"fill: grey; stroke-width: 2; opacity: 0.7;\"></path><path transform=\"translate(375,150)\" d=\"M-5,-5h10v10h-10Z\" style=\"fill: grey; stroke-width: 2; opacity: 0.7;\"></path><path transform=\"translate(125,157.5)\" d=\"M-5,-5h10v10h-10Z\" style=\"fill: grey; stroke-width: 2; opacity: 0.7;\"></path><path transform=\"translate(500,155)\" d=\"M-5,-5h10v10h-10Z\" style=\"fill: grey; stroke-width: 2; opacity: 0.7;\"></path><path transform=\"translate(0,175)\" d=\"M-5,-5h10v10h-10Z\" style=\"fill: grey; stroke-width: 2; opacity: 0.7;\"></path><path transform=\"translate(62.5,187.5)\" d=\"M-5,-5h10v10h-10Z\" style=\"fill: grey; stroke-width: 2; opacity: 0.7;\"></path><path transform=\"translate(187.5,147.5)\" d=\"M-5,-5h10v10h-10Z\" style=\"fill: grey; stroke-width: 2; opacity: 0.7;\"></path><path transform=\"translate(125,155)\" d=\"M-5,-5h10v10h-10Z\" style=\"fill: grey; stroke-width: 2; opacity: 0.7;\"></path><path transform=\"translate(500,152.5)\" d=\"M-5,-5h10v10h-10Z\" style=\"fill: grey; stroke-width: 2; opacity: 0.7;\"></path><path transform=\"translate(437.5,160)\" d=\"M-5,-5h10v10h-10Z\" style=\"fill: grey; stroke-width: 2; opacity: 0.7;\"></path><path transform=\"translate(187.5,144.99999999999997)\" d=\"M-5,-5h10v10h-10Z\" style=\"fill: grey; stroke-width: 2; opacity: 0.7;\"></path><path transform=\"translate(125,152.5)\" d=\"M-5,-5h10v10h-10Z\" style=\"fill: grey; stroke-width: 2; opacity: 0.7;\"></path><path transform=\"translate(312.5,177.5)\" d=\"M-5,-5h10v10h-10Z\" style=\"fill: grey; stroke-width: 2; opacity: 0.7;\"></path><path transform=\"translate(0,172.5)\" d=\"M-5,-5h10v10h-10Z\" style=\"fill: grey; stroke-width: 2; opacity: 0.7;\"></path><path transform=\"translate(437.5,157.5)\" d=\"M-5,-5h10v10h-10Z\" style=\"fill: grey; stroke-width: 2; opacity: 0.7;\"></path><path transform=\"translate(375,147.5)\" d=\"M-5,-5h10v10h-10Z\" style=\"fill: grey; stroke-width: 2; opacity: 0.7;\"></path><path transform=\"translate(375,144.99999999999997)\" d=\"M-5,-5h10v10h-10Z\" style=\"fill: grey; stroke-width: 2; opacity: 0.7;\"></path><path transform=\"translate(375,142.5)\" d=\"M-5,-5h10v10h-10Z\" style=\"fill: grey; stroke-width: 2; opacity: 0.7;\"></path><path transform=\"translate(62.5,185)\" d=\"M-5,-5h10v10h-10Z\" style=\"fill: grey; stroke-width: 2; opacity: 0.7;\"></path><path transform=\"translate(187.5,142.5)\" d=\"M-5,-5h10v10h-10Z\" style=\"fill: grey; stroke-width: 2; opacity: 0.7;\"></path><path transform=\"translate(375,140)\" d=\"M-5,-5h10v10h-10Z\" style=\"fill: grey; stroke-width: 2; opacity: 0.7;\"></path><path transform=\"translate(250,132.5)\" d=\"M-5,-5h10v10h-10Z\" style=\"fill: rgb(68, 145, 198); stroke-width: 2; opacity: 0.7;\"></path><path transform=\"translate(187.5,140)\" d=\"M-5,-5h10v10h-10Z\" style=\"fill: grey; stroke-width: 2; opacity: 0.7;\"></path><path transform=\"translate(250,130)\" d=\"M-5,-5h10v10h-10Z\" style=\"fill: rgb(135, 189, 220); stroke-width: 2; opacity: 0.7;\"></path><path transform=\"translate(437.5,155)\" d=\"M-5,-5h10v10h-10Z\" style=\"fill: grey; stroke-width: 2; opacity: 0.7;\"></path><path transform=\"translate(125,150)\" d=\"M-5,-5h10v10h-10Z\" style=\"fill: grey; stroke-width: 2; opacity: 0.7;\"></path><path transform=\"translate(437.5,152.5)\" d=\"M-5,-5h10v10h-10Z\" style=\"fill: grey; stroke-width: 2; opacity: 0.7;\"></path><path transform=\"translate(312.5,175)\" d=\"M-5,-5h10v10h-10Z\" style=\"fill: grey; stroke-width: 2; opacity: 0.7;\"></path><path transform=\"translate(187.5,137.5)\" d=\"M-5,-5h10v10h-10Z\" style=\"fill: grey; stroke-width: 2; opacity: 0.7;\"></path><path transform=\"translate(125,147.5)\" d=\"M-5,-5h10v10h-10Z\" style=\"fill: grey; stroke-width: 2; opacity: 0.7;\"></path><path transform=\"translate(312.5,172.5)\" d=\"M-5,-5h10v10h-10Z\" style=\"fill: grey; stroke-width: 2; opacity: 0.7;\"></path><path transform=\"translate(187.5,135)\" d=\"M-5,-5h10v10h-10Z\" style=\"fill: grey; stroke-width: 2; opacity: 0.7;\"></path><path transform=\"translate(250,127.5)\" d=\"M-5,-5h10v10h-10Z\" style=\"fill: rgb(60, 138, 194); stroke-width: 2; opacity: 0.7;\"></path><path transform=\"translate(312.5,170)\" d=\"M-5,-5h10v10h-10Z\" style=\"fill: grey; stroke-width: 2; opacity: 0.7;\"></path><path transform=\"translate(0,170)\" d=\"M-5,-5h10v10h-10Z\" style=\"fill: grey; stroke-width: 2; opacity: 0.7;\"></path><path transform=\"translate(250,125)\" d=\"M-5,-5h10v10h-10Z\" style=\"fill: rgb(67, 145, 197); stroke-width: 2; opacity: 0.7;\"></path><path transform=\"translate(437.5,150)\" d=\"M-5,-5h10v10h-10Z\" style=\"fill: grey; stroke-width: 2; opacity: 0.7;\"></path><path transform=\"translate(437.5,147.5)\" d=\"M-5,-5h10v10h-10Z\" style=\"fill: grey; stroke-width: 2; opacity: 0.7;\"></path><path transform=\"translate(0,167.5)\" d=\"M-5,-5h10v10h-10Z\" style=\"fill: grey; stroke-width: 2; opacity: 0.7;\"></path><path transform=\"translate(0,165)\" d=\"M-5,-5h10v10h-10Z\" style=\"fill: grey; stroke-width: 2; opacity: 0.7;\"></path><path transform=\"translate(375,137.5)\" d=\"M-5,-5h10v10h-10Z\" style=\"fill: grey; stroke-width: 2; opacity: 0.7;\"></path><path transform=\"translate(437.5,144.99999999999997)\" d=\"M-5,-5h10v10h-10Z\" style=\"fill: grey; stroke-width: 2; opacity: 0.7;\"></path><path transform=\"translate(375,135)\" d=\"M-5,-5h10v10h-10Z\" style=\"fill: grey; stroke-width: 2; opacity: 0.7;\"></path><path transform=\"translate(375,132.5)\" d=\"M-5,-5h10v10h-10Z\" style=\"fill: grey; stroke-width: 2; opacity: 0.7;\"></path><path transform=\"translate(62.5,182.5)\" d=\"M-5,-5h10v10h-10Z\" style=\"fill: grey; stroke-width: 2; opacity: 0.7;\"></path><path transform=\"translate(312.5,167.5)\" d=\"M-5,-5h10v10h-10Z\" style=\"fill: grey; stroke-width: 2; opacity: 0.7;\"></path><path transform=\"translate(375,130)\" d=\"M-5,-5h10v10h-10Z\" style=\"fill: grey; stroke-width: 2; opacity: 0.7;\"></path><path transform=\"translate(250,122.5)\" d=\"M-5,-5h10v10h-10Z\" style=\"fill: rgb(93, 164, 208); stroke-width: 2; opacity: 0.7;\"></path><path transform=\"translate(312.5,165)\" d=\"M-5,-5h10v10h-10Z\" style=\"fill: grey; stroke-width: 2; opacity: 0.7;\"></path><path transform=\"translate(125,144.99999999999997)\" d=\"M-5,-5h10v10h-10Z\" style=\"fill: grey; stroke-width: 2; opacity: 0.7;\"></path><path transform=\"translate(187.5,132.5)\" d=\"M-5,-5h10v10h-10Z\" style=\"fill: grey; stroke-width: 2; opacity: 0.7;\"></path><path transform=\"translate(0,162.5)\" d=\"M-5,-5h10v10h-10Z\" style=\"fill: grey; stroke-width: 2; opacity: 0.7;\"></path><path transform=\"translate(312.5,162.5)\" d=\"M-5,-5h10v10h-10Z\" style=\"fill: grey; stroke-width: 2; opacity: 0.7;\"></path><path transform=\"translate(125,142.5)\" d=\"M-5,-5h10v10h-10Z\" style=\"fill: grey; stroke-width: 2; opacity: 0.7;\"></path><path transform=\"translate(125,140)\" d=\"M-5,-5h10v10h-10Z\" style=\"fill: grey; stroke-width: 2; opacity: 0.7;\"></path><path transform=\"translate(250,120)\" d=\"M-5,-5h10v10h-10Z\" style=\"fill: rgb(98, 167, 209); stroke-width: 2; opacity: 0.7;\"></path><path transform=\"translate(0,160)\" d=\"M-5,-5h10v10h-10Z\" style=\"fill: grey; stroke-width: 2; opacity: 0.7;\"></path><path transform=\"translate(62.5,180)\" d=\"M-5,-5h10v10h-10Z\" style=\"fill: grey; stroke-width: 2; opacity: 0.7;\"></path><path transform=\"translate(125,137.5)\" d=\"M-5,-5h10v10h-10Z\" style=\"fill: grey; stroke-width: 2; opacity: 0.7;\"></path><path transform=\"translate(62.5,177.5)\" d=\"M-5,-5h10v10h-10Z\" style=\"fill: grey; stroke-width: 2; opacity: 0.7;\"></path><path transform=\"translate(500,150)\" d=\"M-5,-5h10v10h-10Z\" style=\"fill: grey; stroke-width: 2; opacity: 0.7;\"></path><path transform=\"translate(0,157.5)\" d=\"M-5,-5h10v10h-10Z\" style=\"fill: grey; stroke-width: 2; opacity: 0.7;\"></path><path transform=\"translate(437.5,142.5)\" d=\"M-5,-5h10v10h-10Z\" style=\"fill: grey; stroke-width: 2; opacity: 0.7;\"></path><path transform=\"translate(375,127.5)\" d=\"M-5,-5h10v10h-10Z\" style=\"fill: grey; stroke-width: 2; opacity: 0.7;\"></path><path transform=\"translate(187.5,130)\" d=\"M-5,-5h10v10h-10Z\" style=\"fill: grey; stroke-width: 2; opacity: 0.7;\"></path><path transform=\"translate(187.5,127.5)\" d=\"M-5,-5h10v10h-10Z\" style=\"fill: grey; stroke-width: 2; opacity: 0.7;\"></path><path transform=\"translate(500,147.5)\" d=\"M-5,-5h10v10h-10Z\" style=\"fill: grey; stroke-width: 2; opacity: 0.7;\"></path><path transform=\"translate(312.5,160)\" d=\"M-5,-5h10v10h-10Z\" style=\"fill: grey; stroke-width: 2; opacity: 0.7;\"></path><path transform=\"translate(187.5,125)\" d=\"M-5,-5h10v10h-10Z\" style=\"fill: grey; stroke-width: 2; opacity: 0.7;\"></path><path transform=\"translate(500,144.99999999999997)\" d=\"M-5,-5h10v10h-10Z\" style=\"fill: grey; stroke-width: 2; opacity: 0.7;\"></path><path transform=\"translate(250,117.50000000000003)\" d=\"M-5,-5h10v10h-10Z\" style=\"fill: rgb(62, 140, 195); stroke-width: 2; opacity: 0.7;\"></path><path transform=\"translate(187.5,122.5)\" d=\"M-5,-5h10v10h-10Z\" style=\"fill: grey; stroke-width: 2; opacity: 0.7;\"></path><path transform=\"translate(312.5,157.5)\" d=\"M-5,-5h10v10h-10Z\" style=\"fill: grey; stroke-width: 2; opacity: 0.7;\"></path><path transform=\"translate(437.5,140)\" d=\"M-5,-5h10v10h-10Z\" style=\"fill: grey; stroke-width: 2; opacity: 0.7;\"></path><path transform=\"translate(250,115)\" d=\"M-5,-5h10v10h-10Z\" style=\"fill: rgb(151, 197, 224); stroke-width: 2; opacity: 0.7;\"></path><path transform=\"translate(500,142.5)\" d=\"M-5,-5h10v10h-10Z\" style=\"fill: grey; stroke-width: 2; opacity: 0.7;\"></path><path transform=\"translate(500,140)\" d=\"M-5,-5h10v10h-10Z\" style=\"fill: grey; stroke-width: 2; opacity: 0.7;\"></path><path transform=\"translate(125,135)\" d=\"M-5,-5h10v10h-10Z\" style=\"fill: grey; stroke-width: 2; opacity: 0.7;\"></path><path transform=\"translate(312.5,155)\" d=\"M-5,-5h10v10h-10Z\" style=\"fill: grey; stroke-width: 2; opacity: 0.7;\"></path><path transform=\"translate(125,132.5)\" d=\"M-5,-5h10v10h-10Z\" style=\"fill: grey; stroke-width: 2; opacity: 0.7;\"></path><path transform=\"translate(250,112.5)\" d=\"M-5,-5h10v10h-10Z\" style=\"fill: rgb(136, 189, 220); stroke-width: 2; opacity: 0.7;\"></path><path transform=\"translate(500,137.5)\" d=\"M-5,-5h10v10h-10Z\" style=\"fill: grey; stroke-width: 2; opacity: 0.7;\"></path><path transform=\"translate(437.5,137.5)\" d=\"M-5,-5h10v10h-10Z\" style=\"fill: grey; stroke-width: 2; opacity: 0.7;\"></path><path transform=\"translate(250,110)\" d=\"M-5,-5h10v10h-10Z\" style=\"fill: rgb(119, 180, 216); stroke-width: 2; opacity: 0.7;\"></path><path transform=\"translate(375,125)\" d=\"M-5,-5h10v10h-10Z\" style=\"fill: grey; stroke-width: 2; opacity: 0.7;\"></path><path transform=\"translate(125,130)\" d=\"M-5,-5h10v10h-10Z\" style=\"fill: grey; stroke-width: 2; opacity: 0.7;\"></path><path transform=\"translate(250,107.49999999999997)\" d=\"M-5,-5h10v10h-10Z\" style=\"fill: rgb(64, 142, 196); stroke-width: 2; opacity: 0.7;\"></path><path transform=\"translate(125,127.5)\" d=\"M-5,-5h10v10h-10Z\" style=\"fill: grey; stroke-width: 2; opacity: 0.7;\"></path><path transform=\"translate(312.5,152.5)\" d=\"M-5,-5h10v10h-10Z\" style=\"fill: grey; stroke-width: 2; opacity: 0.7;\"></path><path transform=\"translate(250,105)\" d=\"M-5,-5h10v10h-10Z\" style=\"fill: rgb(84, 158, 204); stroke-width: 2; opacity: 0.7;\"></path><path transform=\"translate(375,122.5)\" d=\"M-5,-5h10v10h-10Z\" style=\"fill: grey; stroke-width: 2; opacity: 0.7;\"></path><path transform=\"translate(0,155)\" d=\"M-5,-5h10v10h-10Z\" style=\"fill: grey; stroke-width: 2; opacity: 0.7;\"></path><path transform=\"translate(250,102.5)\" d=\"M-5,-5h10v10h-10Z\" style=\"fill: rgb(57, 136, 192); stroke-width: 2; opacity: 0.7;\"></path><path transform=\"translate(62.5,175)\" d=\"M-5,-5h10v10h-10Z\" style=\"fill: grey; stroke-width: 2; opacity: 0.7;\"></path><path transform=\"translate(250,100)\" d=\"M-5,-5h10v10h-10Z\" style=\"fill: rgb(126, 184, 218); stroke-width: 2; opacity: 0.7;\"></path><path transform=\"translate(437.5,135)\" d=\"M-5,-5h10v10h-10Z\" style=\"fill: grey; stroke-width: 2; opacity: 0.7;\"></path><path transform=\"translate(125,125)\" d=\"M-5,-5h10v10h-10Z\" style=\"fill: grey; stroke-width: 2; opacity: 0.7;\"></path><path transform=\"translate(312.5,150)\" d=\"M-5,-5h10v10h-10Z\" style=\"fill: grey; stroke-width: 2; opacity: 0.7;\"></path><path transform=\"translate(437.5,132.5)\" d=\"M-5,-5h10v10h-10Z\" style=\"fill: grey; stroke-width: 2; opacity: 0.7;\"></path><path transform=\"translate(187.5,120)\" d=\"M-5,-5h10v10h-10Z\" style=\"fill: grey; stroke-width: 2; opacity: 0.7;\"></path><path transform=\"translate(437.5,130)\" d=\"M-5,-5h10v10h-10Z\" style=\"fill: grey; stroke-width: 2; opacity: 0.7;\"></path><path transform=\"translate(62.5,172.5)\" d=\"M-5,-5h10v10h-10Z\" style=\"fill: grey; stroke-width: 2; opacity: 0.7;\"></path><path transform=\"translate(187.5,117.50000000000003)\" d=\"M-5,-5h10v10h-10Z\" style=\"fill: grey; stroke-width: 2; opacity: 0.7;\"></path><path transform=\"translate(187.5,115)\" d=\"M-5,-5h10v10h-10Z\" style=\"fill: grey; stroke-width: 2; opacity: 0.7;\"></path><path transform=\"translate(0,152.5)\" d=\"M-5,-5h10v10h-10Z\" style=\"fill: grey; stroke-width: 2; opacity: 0.7;\"></path><path transform=\"translate(125,122.5)\" d=\"M-5,-5h10v10h-10Z\" style=\"fill: grey; stroke-width: 2; opacity: 0.7;\"></path><path transform=\"translate(500,135)\" d=\"M-5,-5h10v10h-10Z\" style=\"fill: grey; stroke-width: 2; opacity: 0.7;\"></path><path transform=\"translate(0,150)\" d=\"M-5,-5h10v10h-10Z\" style=\"fill: grey; stroke-width: 2; opacity: 0.7;\"></path><path transform=\"translate(375,120)\" d=\"M-5,-5h10v10h-10Z\" style=\"fill: grey; stroke-width: 2; opacity: 0.7;\"></path><path transform=\"translate(437.5,127.5)\" d=\"M-5,-5h10v10h-10Z\" style=\"fill: grey; stroke-width: 2; opacity: 0.7;\"></path><path transform=\"translate(312.5,147.5)\" d=\"M-5,-5h10v10h-10Z\" style=\"fill: grey; stroke-width: 2; opacity: 0.7;\"></path><path transform=\"translate(250,97.5)\" d=\"M-5,-5h10v10h-10Z\" style=\"fill: rgb(75, 150, 200); stroke-width: 2; opacity: 0.7;\"></path><path transform=\"translate(500,132.5)\" d=\"M-5,-5h10v10h-10Z\" style=\"fill: grey; stroke-width: 2; opacity: 0.7;\"></path><path transform=\"translate(500,130)\" d=\"M-5,-5h10v10h-10Z\" style=\"fill: grey; stroke-width: 2; opacity: 0.7;\"></path><path transform=\"translate(187.5,112.5)\" d=\"M-5,-5h10v10h-10Z\" style=\"fill: grey; stroke-width: 2; opacity: 0.7;\"></path><path transform=\"translate(0,147.5)\" d=\"M-5,-5h10v10h-10Z\" style=\"fill: grey; stroke-width: 2; opacity: 0.7;\"></path><path transform=\"translate(62.5,170)\" d=\"M-5,-5h10v10h-10Z\" style=\"fill: grey; stroke-width: 2; opacity: 0.7;\"></path><path transform=\"translate(187.5,110)\" d=\"M-5,-5h10v10h-10Z\" style=\"fill: grey; stroke-width: 2; opacity: 0.7;\"></path><path transform=\"translate(62.5,167.5)\" d=\"M-5,-5h10v10h-10Z\" style=\"fill: grey; stroke-width: 2; opacity: 0.7;\"></path><path transform=\"translate(125,120)\" d=\"M-5,-5h10v10h-10Z\" style=\"fill: grey; stroke-width: 2; opacity: 0.7;\"></path><path transform=\"translate(375,117.50000000000003)\" d=\"M-5,-5h10v10h-10Z\" style=\"fill: grey; stroke-width: 2; opacity: 0.7;\"></path><path transform=\"translate(437.5,125)\" d=\"M-5,-5h10v10h-10Z\" style=\"fill: grey; stroke-width: 2; opacity: 0.7;\"></path><path transform=\"translate(312.5,144.99999999999997)\" d=\"M-5,-5h10v10h-10Z\" style=\"fill: grey; stroke-width: 2; opacity: 0.7;\"></path><path transform=\"translate(250,95)\" d=\"M-5,-5h10v10h-10Z\" style=\"fill: rgb(72, 149, 199); stroke-width: 2; opacity: 0.7;\"></path><path transform=\"translate(375,115)\" d=\"M-5,-5h10v10h-10Z\" style=\"fill: grey; stroke-width: 2; opacity: 0.7;\"></path><path transform=\"translate(250,92.5)\" d=\"M-5,-5h10v10h-10Z\" style=\"fill: rgb(75, 150, 200); stroke-width: 2; opacity: 0.7;\"></path><path transform=\"translate(312.5,142.5)\" d=\"M-5,-5h10v10h-10Z\" style=\"fill: grey; stroke-width: 2; opacity: 0.7;\"></path><path transform=\"translate(125,117.50000000000003)\" d=\"M-5,-5h10v10h-10Z\" style=\"fill: grey; stroke-width: 2; opacity: 0.7;\"></path><path transform=\"translate(437.5,122.5)\" d=\"M-5,-5h10v10h-10Z\" style=\"fill: grey; stroke-width: 2; opacity: 0.7;\"></path><path transform=\"translate(312.5,140)\" d=\"M-5,-5h10v10h-10Z\" style=\"fill: grey; stroke-width: 2; opacity: 0.7;\"></path><path transform=\"translate(500,127.5)\" d=\"M-5,-5h10v10h-10Z\" style=\"fill: grey; stroke-width: 2; opacity: 0.7;\"></path><path transform=\"translate(500,125)\" d=\"M-5,-5h10v10h-10Z\" style=\"fill: grey; stroke-width: 2; opacity: 0.7;\"></path><path transform=\"translate(0,144.99999999999997)\" d=\"M-5,-5h10v10h-10Z\" style=\"fill: grey; stroke-width: 2; opacity: 0.7;\"></path><path transform=\"translate(187.5,107.49999999999997)\" d=\"M-5,-5h10v10h-10Z\" style=\"fill: grey; stroke-width: 2; opacity: 0.7;\"></path><path transform=\"translate(125,115)\" d=\"M-5,-5h10v10h-10Z\" style=\"fill: grey; stroke-width: 2; opacity: 0.7;\"></path><path transform=\"translate(62.5,165)\" d=\"M-5,-5h10v10h-10Z\" style=\"fill: grey; stroke-width: 2; opacity: 0.7;\"></path><path transform=\"translate(187.5,105)\" d=\"M-5,-5h10v10h-10Z\" style=\"fill: grey; stroke-width: 2; opacity: 0.7;\"></path><path transform=\"translate(312.5,137.5)\" d=\"M-5,-5h10v10h-10Z\" style=\"fill: grey; stroke-width: 2; opacity: 0.7;\"></path><path transform=\"translate(500,122.5)\" d=\"M-5,-5h10v10h-10Z\" style=\"fill: grey; stroke-width: 2; opacity: 0.7;\"></path><path transform=\"translate(125,112.5)\" d=\"M-5,-5h10v10h-10Z\" style=\"fill: grey; stroke-width: 2; opacity: 0.7;\"></path><path transform=\"translate(0,142.5)\" d=\"M-5,-5h10v10h-10Z\" style=\"fill: grey; stroke-width: 2; opacity: 0.7;\"></path><path transform=\"translate(437.5,120)\" d=\"M-5,-5h10v10h-10Z\" style=\"fill: grey; stroke-width: 2; opacity: 0.7;\"></path><path transform=\"translate(500,120)\" d=\"M-5,-5h10v10h-10Z\" style=\"fill: grey; stroke-width: 2; opacity: 0.7;\"></path><path transform=\"translate(250,90)\" d=\"M-5,-5h10v10h-10Z\" style=\"fill: rgb(124, 183, 217); stroke-width: 2; opacity: 0.7;\"></path><path transform=\"translate(437.5,117.50000000000003)\" d=\"M-5,-5h10v10h-10Z\" style=\"fill: grey; stroke-width: 2; opacity: 0.7;\"></path><path transform=\"translate(500,117.50000000000003)\" d=\"M-5,-5h10v10h-10Z\" style=\"fill: grey; stroke-width: 2; opacity: 0.7;\"></path><path transform=\"translate(437.5,115)\" d=\"M-5,-5h10v10h-10Z\" style=\"fill: grey; stroke-width: 2; opacity: 0.7;\"></path><path transform=\"translate(500,115)\" d=\"M-5,-5h10v10h-10Z\" style=\"fill: grey; stroke-width: 2; opacity: 0.7;\"></path><path transform=\"translate(0,140)\" d=\"M-5,-5h10v10h-10Z\" style=\"fill: grey; stroke-width: 2; opacity: 0.7;\"></path><path transform=\"translate(437.5,112.5)\" d=\"M-5,-5h10v10h-10Z\" style=\"fill: grey; stroke-width: 2; opacity: 0.7;\"></path><path transform=\"translate(375,112.5)\" d=\"M-5,-5h10v10h-10Z\" style=\"fill: grey; stroke-width: 2; opacity: 0.7;\"></path><path transform=\"translate(437.5,110)\" d=\"M-5,-5h10v10h-10Z\" style=\"fill: grey; stroke-width: 2; opacity: 0.7;\"></path><path transform=\"translate(250,87.5)\" d=\"M-5,-5h10v10h-10Z\" style=\"fill: rgb(92, 163, 207); stroke-width: 2; opacity: 0.7;\"></path><path transform=\"translate(312.5,135)\" d=\"M-5,-5h10v10h-10Z\" style=\"fill: grey; stroke-width: 2; opacity: 0.7;\"></path><path transform=\"translate(125,110)\" d=\"M-5,-5h10v10h-10Z\" style=\"fill: grey; stroke-width: 2; opacity: 0.7;\"></path><path transform=\"translate(0,137.5)\" d=\"M-5,-5h10v10h-10Z\" style=\"fill: grey; stroke-width: 2; opacity: 0.7;\"></path><path transform=\"translate(0,135)\" d=\"M-5,-5h10v10h-10Z\" style=\"fill: grey; stroke-width: 2; opacity: 0.7;\"></path><path transform=\"translate(0,132.5)\" d=\"M-5,-5h10v10h-10Z\" style=\"fill: grey; stroke-width: 2; opacity: 0.7;\"></path><path transform=\"translate(312.5,132.5)\" d=\"M-5,-5h10v10h-10Z\" style=\"fill: grey; stroke-width: 2; opacity: 0.7;\"></path><path transform=\"translate(500,112.5)\" d=\"M-5,-5h10v10h-10Z\" style=\"fill: grey; stroke-width: 2; opacity: 0.7;\"></path><path transform=\"translate(312.5,130)\" d=\"M-5,-5h10v10h-10Z\" style=\"fill: grey; stroke-width: 2; opacity: 0.7;\"></path><path transform=\"translate(187.5,102.5)\" d=\"M-5,-5h10v10h-10Z\" style=\"fill: grey; stroke-width: 2; opacity: 0.7;\"></path><path transform=\"translate(375,110)\" d=\"M-5,-5h10v10h-10Z\" style=\"fill: grey; stroke-width: 2; opacity: 0.7;\"></path><path transform=\"translate(62.5,162.5)\" d=\"M-5,-5h10v10h-10Z\" style=\"fill: grey; stroke-width: 2; opacity: 0.7;\"></path><path transform=\"translate(62.5,160)\" d=\"M-5,-5h10v10h-10Z\" style=\"fill: grey; stroke-width: 2; opacity: 0.7;\"></path><path transform=\"translate(437.5,107.49999999999997)\" d=\"M-5,-5h10v10h-10Z\" style=\"fill: grey; stroke-width: 2; opacity: 0.7;\"></path><path transform=\"translate(187.5,100)\" d=\"M-5,-5h10v10h-10Z\" style=\"fill: grey; stroke-width: 2; opacity: 0.7;\"></path><path transform=\"translate(500,110)\" d=\"M-5,-5h10v10h-10Z\" style=\"fill: grey; stroke-width: 2; opacity: 0.7;\"></path><path transform=\"translate(62.5,157.5)\" d=\"M-5,-5h10v10h-10Z\" style=\"fill: grey; stroke-width: 2; opacity: 0.7;\"></path><path transform=\"translate(0,130)\" d=\"M-5,-5h10v10h-10Z\" style=\"fill: grey; stroke-width: 2; opacity: 0.7;\"></path><path transform=\"translate(437.5,105)\" d=\"M-5,-5h10v10h-10Z\" style=\"fill: grey; stroke-width: 2; opacity: 0.7;\"></path><path transform=\"translate(187.5,97.5)\" d=\"M-5,-5h10v10h-10Z\" style=\"fill: grey; stroke-width: 2; opacity: 0.7;\"></path><path transform=\"translate(0,127.5)\" d=\"M-5,-5h10v10h-10Z\" style=\"fill: grey; stroke-width: 2; opacity: 0.7;\"></path><path transform=\"translate(500,107.49999999999997)\" d=\"M-5,-5h10v10h-10Z\" style=\"fill: grey; stroke-width: 2; opacity: 0.7;\"></path><path transform=\"translate(125,107.49999999999997)\" d=\"M-5,-5h10v10h-10Z\" style=\"fill: grey; stroke-width: 2; opacity: 0.7;\"></path><path transform=\"translate(500,105)\" d=\"M-5,-5h10v10h-10Z\" style=\"fill: grey; stroke-width: 2; opacity: 0.7;\"></path><path transform=\"translate(125,105)\" d=\"M-5,-5h10v10h-10Z\" style=\"fill: grey; stroke-width: 2; opacity: 0.7;\"></path><path transform=\"translate(0,125)\" d=\"M-5,-5h10v10h-10Z\" style=\"fill: grey; stroke-width: 2; opacity: 0.7;\"></path><path transform=\"translate(500,102.5)\" d=\"M-5,-5h10v10h-10Z\" style=\"fill: grey; stroke-width: 2; opacity: 0.7;\"></path><path transform=\"translate(62.5,155)\" d=\"M-5,-5h10v10h-10Z\" style=\"fill: grey; stroke-width: 2; opacity: 0.7;\"></path><path transform=\"translate(125,102.5)\" d=\"M-5,-5h10v10h-10Z\" style=\"fill: grey; stroke-width: 2; opacity: 0.7;\"></path><path transform=\"translate(437.5,102.5)\" d=\"M-5,-5h10v10h-10Z\" style=\"fill: grey; stroke-width: 2; opacity: 0.7;\"></path><path transform=\"translate(375,107.49999999999997)\" d=\"M-5,-5h10v10h-10Z\" style=\"fill: grey; stroke-width: 2; opacity: 0.7;\"></path><path transform=\"translate(125,100)\" d=\"M-5,-5h10v10h-10Z\" style=\"fill: grey; stroke-width: 2; opacity: 0.7;\"></path><path transform=\"translate(62.5,152.5)\" d=\"M-5,-5h10v10h-10Z\" style=\"fill: grey; stroke-width: 2; opacity: 0.7;\"></path><path transform=\"translate(125,97.5)\" d=\"M-5,-5h10v10h-10Z\" style=\"fill: grey; stroke-width: 2; opacity: 0.7;\"></path><path transform=\"translate(250,85)\" d=\"M-5,-5h10v10h-10Z\" style=\"fill: rgb(101, 169, 210); stroke-width: 2; opacity: 0.7;\"></path><path transform=\"translate(0,122.5)\" d=\"M-5,-5h10v10h-10Z\" style=\"fill: grey; stroke-width: 2; opacity: 0.7;\"></path><path transform=\"translate(125,95)\" d=\"M-5,-5h10v10h-10Z\" style=\"fill: grey; stroke-width: 2; opacity: 0.7;\"></path><path transform=\"translate(375,105)\" d=\"M-5,-5h10v10h-10Z\" style=\"fill: grey; stroke-width: 2; opacity: 0.7;\"></path><path transform=\"translate(375,102.5)\" d=\"M-5,-5h10v10h-10Z\" style=\"fill: grey; stroke-width: 2; opacity: 0.7;\"></path><path transform=\"translate(250,82.5)\" d=\"M-5,-5h10v10h-10Z\" style=\"fill: rgb(90, 162, 206); stroke-width: 2; opacity: 0.7;\"></path><path transform=\"translate(0,120)\" d=\"M-5,-5h10v10h-10Z\" style=\"fill: grey; stroke-width: 2; opacity: 0.7;\"></path><path transform=\"translate(62.5,150)\" d=\"M-5,-5h10v10h-10Z\" style=\"fill: grey; stroke-width: 2; opacity: 0.7;\"></path><path transform=\"translate(437.5,100)\" d=\"M-5,-5h10v10h-10Z\" style=\"fill: grey; stroke-width: 2; opacity: 0.7;\"></path><path transform=\"translate(375,100)\" d=\"M-5,-5h10v10h-10Z\" style=\"fill: grey; stroke-width: 2; opacity: 0.7;\"></path><path transform=\"translate(62.5,147.5)\" d=\"M-5,-5h10v10h-10Z\" style=\"fill: grey; stroke-width: 2; opacity: 0.7;\"></path><path transform=\"translate(187.5,95)\" d=\"M-5,-5h10v10h-10Z\" style=\"fill: grey; stroke-width: 2; opacity: 0.7;\"></path><path transform=\"translate(62.5,144.99999999999997)\" d=\"M-5,-5h10v10h-10Z\" style=\"fill: grey; stroke-width: 2; opacity: 0.7;\"></path><path transform=\"translate(62.5,142.5)\" d=\"M-5,-5h10v10h-10Z\" style=\"fill: grey; stroke-width: 2; opacity: 0.7;\"></path><path transform=\"translate(437.5,97.5)\" d=\"M-5,-5h10v10h-10Z\" style=\"fill: grey; stroke-width: 2; opacity: 0.7;\"></path><path transform=\"translate(125,92.5)\" d=\"M-5,-5h10v10h-10Z\" style=\"fill: grey; stroke-width: 2; opacity: 0.7;\"></path><path transform=\"translate(250,80.00000000000003)\" d=\"M-5,-5h10v10h-10Z\" style=\"fill: rgb(101, 169, 210); stroke-width: 2; opacity: 0.7;\"></path><path transform=\"translate(437.5,95)\" d=\"M-5,-5h10v10h-10Z\" style=\"fill: grey; stroke-width: 2; opacity: 0.7;\"></path><path transform=\"translate(125,90)\" d=\"M-5,-5h10v10h-10Z\" style=\"fill: grey; stroke-width: 2; opacity: 0.7;\"></path><path transform=\"translate(187.5,92.5)\" d=\"M-5,-5h10v10h-10Z\" style=\"fill: grey; stroke-width: 2; opacity: 0.7;\"></path><path transform=\"translate(312.5,127.5)\" d=\"M-5,-5h10v10h-10Z\" style=\"fill: grey; stroke-width: 2; opacity: 0.7;\"></path><path transform=\"translate(187.5,90)\" d=\"M-5,-5h10v10h-10Z\" style=\"fill: grey; stroke-width: 2; opacity: 0.7;\"></path><path transform=\"translate(312.5,125)\" d=\"M-5,-5h10v10h-10Z\" style=\"fill: grey; stroke-width: 2; opacity: 0.7;\"></path><path transform=\"translate(500,100)\" d=\"M-5,-5h10v10h-10Z\" style=\"fill: grey; stroke-width: 2; opacity: 0.7;\"></path><path transform=\"translate(250,77.5)\" d=\"M-5,-5h10v10h-10Z\" style=\"fill: rgb(49, 129, 189); stroke-width: 2; opacity: 0.7;\"></path><path transform=\"translate(312.5,122.5)\" d=\"M-5,-5h10v10h-10Z\" style=\"fill: grey; stroke-width: 2; opacity: 0.7;\"></path><path transform=\"translate(500,97.5)\" d=\"M-5,-5h10v10h-10Z\" style=\"fill: grey; stroke-width: 2; opacity: 0.7;\"></path><path transform=\"translate(500,95)\" d=\"M-5,-5h10v10h-10Z\" style=\"fill: grey; stroke-width: 2; opacity: 0.7;\"></path><path transform=\"translate(312.5,120)\" d=\"M-5,-5h10v10h-10Z\" style=\"fill: grey; stroke-width: 2; opacity: 0.7;\"></path><path transform=\"translate(312.5,117.50000000000003)\" d=\"M-5,-5h10v10h-10Z\" style=\"fill: grey; stroke-width: 2; opacity: 0.7;\"></path><path transform=\"translate(125,87.5)\" d=\"M-5,-5h10v10h-10Z\" style=\"fill: grey; stroke-width: 2; opacity: 0.7;\"></path><path transform=\"translate(250,75)\" d=\"M-5,-5h10v10h-10Z\" style=\"fill: rgb(43, 122, 185); stroke-width: 2; opacity: 0.7;\"></path><path transform=\"translate(375,97.5)\" d=\"M-5,-5h10v10h-10Z\" style=\"fill: grey; stroke-width: 2; opacity: 0.7;\"></path><path transform=\"translate(250,72.5)\" d=\"M-5,-5h10v10h-10Z\" style=\"fill: rgb(100, 168, 210); stroke-width: 2; opacity: 0.7;\"></path><path transform=\"translate(187.5,87.5)\" d=\"M-5,-5h10v10h-10Z\" style=\"fill: grey; stroke-width: 2; opacity: 0.7;\"></path><path transform=\"translate(125,85)\" d=\"M-5,-5h10v10h-10Z\" style=\"fill: grey; stroke-width: 2; opacity: 0.7;\"></path><path transform=\"translate(62.5,140)\" d=\"M-5,-5h10v10h-10Z\" style=\"fill: grey; stroke-width: 2; opacity: 0.7;\"></path><path transform=\"translate(375,95)\" d=\"M-5,-5h10v10h-10Z\" style=\"fill: grey; stroke-width: 2; opacity: 0.7;\"></path><path transform=\"translate(0,117.50000000000003)\" d=\"M-5,-5h10v10h-10Z\" style=\"fill: grey; stroke-width: 2; opacity: 0.7;\"></path><path transform=\"translate(500,92.5)\" d=\"M-5,-5h10v10h-10Z\" style=\"fill: grey; stroke-width: 2; opacity: 0.7;\"></path><path transform=\"translate(187.5,85)\" d=\"M-5,-5h10v10h-10Z\" style=\"fill: grey; stroke-width: 2; opacity: 0.7;\"></path><path transform=\"translate(437.5,92.5)\" d=\"M-5,-5h10v10h-10Z\" style=\"fill: grey; stroke-width: 2; opacity: 0.7;\"></path><path transform=\"translate(62.5,137.5)\" d=\"M-5,-5h10v10h-10Z\" style=\"fill: grey; stroke-width: 2; opacity: 0.7;\"></path><path transform=\"translate(500,90)\" d=\"M-5,-5h10v10h-10Z\" style=\"fill: grey; stroke-width: 2; opacity: 0.7;\"></path><path transform=\"translate(187.5,82.5)\" d=\"M-5,-5h10v10h-10Z\" style=\"fill: grey; stroke-width: 2; opacity: 0.7;\"></path><path transform=\"translate(250,69.99999999999997)\" d=\"M-5,-5h10v10h-10Z\" style=\"fill: rgb(151, 197, 224); stroke-width: 2; opacity: 0.7;\"></path><path transform=\"translate(187.5,80.00000000000003)\" d=\"M-5,-5h10v10h-10Z\" style=\"fill: grey; stroke-width: 2; opacity: 0.7;\"></path><path transform=\"translate(125,82.5)\" d=\"M-5,-5h10v10h-10Z\" style=\"fill: grey; stroke-width: 2; opacity: 0.7;\"></path><path transform=\"translate(375,92.5)\" d=\"M-5,-5h10v10h-10Z\" style=\"fill: grey; stroke-width: 2; opacity: 0.7;\"></path><path transform=\"translate(125,80.00000000000003)\" d=\"M-5,-5h10v10h-10Z\" style=\"fill: grey; stroke-width: 2; opacity: 0.7;\"></path><path transform=\"translate(0,115)\" d=\"M-5,-5h10v10h-10Z\" style=\"fill: grey; stroke-width: 2; opacity: 0.7;\"></path><path transform=\"translate(62.5,135)\" d=\"M-5,-5h10v10h-10Z\" style=\"fill: grey; stroke-width: 2; opacity: 0.7;\"></path><path transform=\"translate(0,112.5)\" d=\"M-5,-5h10v10h-10Z\" style=\"fill: grey; stroke-width: 2; opacity: 0.7;\"></path><path transform=\"translate(125,77.5)\" d=\"M-5,-5h10v10h-10Z\" style=\"fill: grey; stroke-width: 2; opacity: 0.7;\"></path><path transform=\"translate(187.5,77.5)\" d=\"M-5,-5h10v10h-10Z\" style=\"fill: grey; stroke-width: 2; opacity: 0.7;\"></path><path transform=\"translate(437.5,90)\" d=\"M-5,-5h10v10h-10Z\" style=\"fill: grey; stroke-width: 2; opacity: 0.7;\"></path><path transform=\"translate(0,110)\" d=\"M-5,-5h10v10h-10Z\" style=\"fill: grey; stroke-width: 2; opacity: 0.7;\"></path><path transform=\"translate(187.5,75)\" d=\"M-5,-5h10v10h-10Z\" style=\"fill: grey; stroke-width: 2; opacity: 0.7;\"></path><path transform=\"translate(250,67.5)\" d=\"M-5,-5h10v10h-10Z\" style=\"fill: rgb(93, 164, 208); stroke-width: 2; opacity: 0.7;\"></path><path transform=\"translate(500,87.5)\" d=\"M-5,-5h10v10h-10Z\" style=\"fill: grey; stroke-width: 2; opacity: 0.7;\"></path><path transform=\"translate(62.5,132.5)\" d=\"M-5,-5h10v10h-10Z\" style=\"fill: grey; stroke-width: 2; opacity: 0.7;\"></path><path transform=\"translate(312.5,115)\" d=\"M-5,-5h10v10h-10Z\" style=\"fill: grey; stroke-width: 2; opacity: 0.7;\"></path><path transform=\"translate(500,85)\" d=\"M-5,-5h10v10h-10Z\" style=\"fill: grey; stroke-width: 2; opacity: 0.7;\"></path><path transform=\"translate(187.5,72.5)\" d=\"M-5,-5h10v10h-10Z\" style=\"fill: grey; stroke-width: 2; opacity: 0.7;\"></path><path transform=\"translate(0,107.49999999999997)\" d=\"M-5,-5h10v10h-10Z\" style=\"fill: grey; stroke-width: 2; opacity: 0.7;\"></path><path transform=\"translate(375,90)\" d=\"M-5,-5h10v10h-10Z\" style=\"fill: grey; stroke-width: 2; opacity: 0.7;\"></path><path transform=\"translate(187.5,69.99999999999997)\" d=\"M-5,-5h10v10h-10Z\" style=\"fill: grey; stroke-width: 2; opacity: 0.7;\"></path><path transform=\"translate(0,105)\" d=\"M-5,-5h10v10h-10Z\" style=\"fill: grey; stroke-width: 2; opacity: 0.7;\"></path><path transform=\"translate(62.5,130)\" d=\"M-5,-5h10v10h-10Z\" style=\"fill: grey; stroke-width: 2; opacity: 0.7;\"></path><path transform=\"translate(62.5,127.5)\" d=\"M-5,-5h10v10h-10Z\" style=\"fill: grey; stroke-width: 2; opacity: 0.7;\"></path><path transform=\"translate(125,75)\" d=\"M-5,-5h10v10h-10Z\" style=\"fill: grey; stroke-width: 2; opacity: 0.7;\"></path><path transform=\"translate(125,72.5)\" d=\"M-5,-5h10v10h-10Z\" style=\"fill: grey; stroke-width: 2; opacity: 0.7;\"></path><path transform=\"translate(125,69.99999999999997)\" d=\"M-5,-5h10v10h-10Z\" style=\"fill: grey; stroke-width: 2; opacity: 0.7;\"></path><path transform=\"translate(0,102.5)\" d=\"M-5,-5h10v10h-10Z\" style=\"fill: grey; stroke-width: 2; opacity: 0.7;\"></path><path transform=\"translate(375,87.5)\" d=\"M-5,-5h10v10h-10Z\" style=\"fill: grey; stroke-width: 2; opacity: 0.7;\"></path><path transform=\"translate(250,65)\" d=\"M-5,-5h10v10h-10Z\" style=\"fill: rgb(41, 121, 184); stroke-width: 2; opacity: 0.7;\"></path><path transform=\"translate(250,62.5)\" d=\"M-5,-5h10v10h-10Z\" style=\"fill: rgb(90, 162, 207); stroke-width: 2; opacity: 0.7;\"></path><path transform=\"translate(437.5,87.5)\" d=\"M-5,-5h10v10h-10Z\" style=\"fill: grey; stroke-width: 2; opacity: 0.7;\"></path><path transform=\"translate(0,100)\" d=\"M-5,-5h10v10h-10Z\" style=\"fill: grey; stroke-width: 2; opacity: 0.7;\"></path><path transform=\"translate(125,67.5)\" d=\"M-5,-5h10v10h-10Z\" style=\"fill: grey; stroke-width: 2; opacity: 0.7;\"></path><path transform=\"translate(125,65)\" d=\"M-5,-5h10v10h-10Z\" style=\"fill: grey; stroke-width: 2; opacity: 0.7;\"></path><path transform=\"translate(375,85)\" d=\"M-5,-5h10v10h-10Z\" style=\"fill: grey; stroke-width: 2; opacity: 0.7;\"></path><path transform=\"translate(437.5,85)\" d=\"M-5,-5h10v10h-10Z\" style=\"fill: grey; stroke-width: 2; opacity: 0.7;\"></path><path transform=\"translate(125,62.5)\" d=\"M-5,-5h10v10h-10Z\" style=\"fill: grey; stroke-width: 2; opacity: 0.7;\"></path><path transform=\"translate(500,82.5)\" d=\"M-5,-5h10v10h-10Z\" style=\"fill: grey; stroke-width: 2; opacity: 0.7;\"></path><path transform=\"translate(437.5,82.5)\" d=\"M-5,-5h10v10h-10Z\" style=\"fill: grey; stroke-width: 2; opacity: 0.7;\"></path><path transform=\"translate(500,80.00000000000003)\" d=\"M-5,-5h10v10h-10Z\" style=\"fill: grey; stroke-width: 2; opacity: 0.7;\"></path><path transform=\"translate(62.5,125)\" d=\"M-5,-5h10v10h-10Z\" style=\"fill: grey; stroke-width: 2; opacity: 0.7;\"></path><path transform=\"translate(312.5,112.5)\" d=\"M-5,-5h10v10h-10Z\" style=\"fill: grey; stroke-width: 2; opacity: 0.7;\"></path><path transform=\"translate(187.5,67.5)\" d=\"M-5,-5h10v10h-10Z\" style=\"fill: grey; stroke-width: 2; opacity: 0.7;\"></path><path transform=\"translate(0,97.5)\" d=\"M-5,-5h10v10h-10Z\" style=\"fill: grey; stroke-width: 2; opacity: 0.7;\"></path><path transform=\"translate(187.5,65)\" d=\"M-5,-5h10v10h-10Z\" style=\"fill: grey; stroke-width: 2; opacity: 0.7;\"></path><path transform=\"translate(0,95)\" d=\"M-5,-5h10v10h-10Z\" style=\"fill: grey; stroke-width: 2; opacity: 0.7;\"></path><path transform=\"translate(62.5,122.5)\" d=\"M-5,-5h10v10h-10Z\" style=\"fill: grey; stroke-width: 2; opacity: 0.7;\"></path><path transform=\"translate(250,60)\" d=\"M-5,-5h10v10h-10Z\" style=\"fill: rgb(137, 190, 221); stroke-width: 2; opacity: 0.7;\"></path><path transform=\"translate(125,60)\" d=\"M-5,-5h10v10h-10Z\" style=\"fill: grey; stroke-width: 2; opacity: 0.7;\"></path><path transform=\"translate(187.5,62.5)\" d=\"M-5,-5h10v10h-10Z\" style=\"fill: grey; stroke-width: 2; opacity: 0.7;\"></path><path transform=\"translate(437.5,80.00000000000003)\" d=\"M-5,-5h10v10h-10Z\" style=\"fill: grey; stroke-width: 2; opacity: 0.7;\"></path><path transform=\"translate(62.5,120)\" d=\"M-5,-5h10v10h-10Z\" style=\"fill: grey; stroke-width: 2; opacity: 0.7;\"></path><path transform=\"translate(187.5,60)\" d=\"M-5,-5h10v10h-10Z\" style=\"fill: grey; stroke-width: 2; opacity: 0.7;\"></path><path transform=\"translate(312.5,110)\" d=\"M-5,-5h10v10h-10Z\" style=\"fill: grey; stroke-width: 2; opacity: 0.7;\"></path><path transform=\"translate(125,57.5)\" d=\"M-5,-5h10v10h-10Z\" style=\"fill: grey; stroke-width: 2; opacity: 0.7;\"></path><path transform=\"translate(312.5,107.49999999999997)\" d=\"M-5,-5h10v10h-10Z\" style=\"fill: grey; stroke-width: 2; opacity: 0.7;\"></path><path transform=\"translate(437.5,77.5)\" d=\"M-5,-5h10v10h-10Z\" style=\"fill: grey; stroke-width: 2; opacity: 0.7;\"></path><path transform=\"translate(500,77.5)\" d=\"M-5,-5h10v10h-10Z\" style=\"fill: grey; stroke-width: 2; opacity: 0.7;\"></path><path transform=\"translate(500,75)\" d=\"M-5,-5h10v10h-10Z\" style=\"fill: grey; stroke-width: 2; opacity: 0.7;\"></path><path transform=\"translate(125,55)\" d=\"M-5,-5h10v10h-10Z\" style=\"fill: grey; stroke-width: 2; opacity: 0.7;\"></path><path transform=\"translate(500,72.5)\" d=\"M-5,-5h10v10h-10Z\" style=\"fill: grey; stroke-width: 2; opacity: 0.7;\"></path><path transform=\"translate(125,52.5)\" d=\"M-5,-5h10v10h-10Z\" style=\"fill: grey; stroke-width: 2; opacity: 0.7;\"></path><path transform=\"translate(125,50)\" d=\"M-5,-5h10v10h-10Z\" style=\"fill: grey; stroke-width: 2; opacity: 0.7;\"></path><path transform=\"translate(0,92.5)\" d=\"M-5,-5h10v10h-10Z\" style=\"fill: grey; stroke-width: 2; opacity: 0.7;\"></path><path transform=\"translate(500,69.99999999999997)\" d=\"M-5,-5h10v10h-10Z\" style=\"fill: grey; stroke-width: 2; opacity: 0.7;\"></path><path transform=\"translate(437.5,75)\" d=\"M-5,-5h10v10h-10Z\" style=\"fill: grey; stroke-width: 2; opacity: 0.7;\"></path><path transform=\"translate(375,82.5)\" d=\"M-5,-5h10v10h-10Z\" style=\"fill: grey; stroke-width: 2; opacity: 0.7;\"></path><path transform=\"translate(375,80.00000000000003)\" d=\"M-5,-5h10v10h-10Z\" style=\"fill: grey; stroke-width: 2; opacity: 0.7;\"></path><path transform=\"translate(437.5,72.5)\" d=\"M-5,-5h10v10h-10Z\" style=\"fill: grey; stroke-width: 2; opacity: 0.7;\"></path><path transform=\"translate(250,57.5)\" d=\"M-5,-5h10v10h-10Z\" style=\"fill: rgb(111, 175, 213); stroke-width: 2; opacity: 0.7;\"></path><path transform=\"translate(375,77.5)\" d=\"M-5,-5h10v10h-10Z\" style=\"fill: grey; stroke-width: 2; opacity: 0.7;\"></path><path transform=\"translate(437.5,69.99999999999997)\" d=\"M-5,-5h10v10h-10Z\" style=\"fill: grey; stroke-width: 2; opacity: 0.7;\"></path><path transform=\"translate(375,75)\" d=\"M-5,-5h10v10h-10Z\" style=\"fill: grey; stroke-width: 2; opacity: 0.7;\"></path><path transform=\"translate(125,47.5)\" d=\"M-5,-5h10v10h-10Z\" style=\"fill: grey; stroke-width: 2; opacity: 0.7;\"></path><path transform=\"translate(0,90)\" d=\"M-5,-5h10v10h-10Z\" style=\"fill: grey; stroke-width: 2; opacity: 0.7;\"></path><path transform=\"translate(250,55)\" d=\"M-5,-5h10v10h-10Z\" style=\"fill: rgb(85, 158, 204); stroke-width: 2; opacity: 0.7;\"></path><path transform=\"translate(0,87.5)\" d=\"M-5,-5h10v10h-10Z\" style=\"fill: grey; stroke-width: 2; opacity: 0.7;\"></path><path transform=\"translate(250,52.5)\" d=\"M-5,-5h10v10h-10Z\" style=\"fill: rgb(142, 192, 222); stroke-width: 2; opacity: 0.7;\"></path><path transform=\"translate(437.5,67.5)\" d=\"M-5,-5h10v10h-10Z\" style=\"fill: grey; stroke-width: 2; opacity: 0.7;\"></path><path transform=\"translate(0,85)\" d=\"M-5,-5h10v10h-10Z\" style=\"fill: grey; stroke-width: 2; opacity: 0.7;\"></path><path transform=\"translate(0,82.5)\" d=\"M-5,-5h10v10h-10Z\" style=\"fill: grey; stroke-width: 2; opacity: 0.7;\"></path><path transform=\"translate(375,72.5)\" d=\"M-5,-5h10v10h-10Z\" style=\"fill: grey; stroke-width: 2; opacity: 0.7;\"></path><path transform=\"translate(500,67.5)\" d=\"M-5,-5h10v10h-10Z\" style=\"fill: grey; stroke-width: 2; opacity: 0.7;\"></path><path transform=\"translate(437.5,65)\" d=\"M-5,-5h10v10h-10Z\" style=\"fill: grey; stroke-width: 2; opacity: 0.7;\"></path><path transform=\"translate(125,45)\" d=\"M-5,-5h10v10h-10Z\" style=\"fill: grey; stroke-width: 2; opacity: 0.7;\"></path><path transform=\"translate(437.5,62.5)\" d=\"M-5,-5h10v10h-10Z\" style=\"fill: grey; stroke-width: 2; opacity: 0.7;\"></path><path transform=\"translate(500,65)\" d=\"M-5,-5h10v10h-10Z\" style=\"fill: grey; stroke-width: 2; opacity: 0.7;\"></path><path transform=\"translate(500,62.5)\" d=\"M-5,-5h10v10h-10Z\" style=\"fill: grey; stroke-width: 2; opacity: 0.7;\"></path><path transform=\"translate(437.5,60)\" d=\"M-5,-5h10v10h-10Z\" style=\"fill: grey; stroke-width: 2; opacity: 0.7;\"></path><path transform=\"translate(375,69.99999999999997)\" d=\"M-5,-5h10v10h-10Z\" style=\"fill: grey; stroke-width: 2; opacity: 0.7;\"></path><path transform=\"translate(187.5,57.5)\" d=\"M-5,-5h10v10h-10Z\" style=\"fill: grey; stroke-width: 2; opacity: 0.7;\"></path><path transform=\"translate(187.5,55)\" d=\"M-5,-5h10v10h-10Z\" style=\"fill: grey; stroke-width: 2; opacity: 0.7;\"></path><path transform=\"translate(375,67.5)\" d=\"M-5,-5h10v10h-10Z\" style=\"fill: grey; stroke-width: 2; opacity: 0.7;\"></path><path transform=\"translate(375,65)\" d=\"M-5,-5h10v10h-10Z\" style=\"fill: grey; stroke-width: 2; opacity: 0.7;\"></path><path transform=\"translate(250,50)\" d=\"M-5,-5h10v10h-10Z\" style=\"fill: rgb(43, 123, 185); stroke-width: 2; opacity: 0.7;\"></path><path transform=\"translate(0,80.00000000000003)\" d=\"M-5,-5h10v10h-10Z\" style=\"fill: grey; stroke-width: 2; opacity: 0.7;\"></path><path transform=\"translate(62.5,117.50000000000003)\" d=\"M-5,-5h10v10h-10Z\" style=\"fill: grey; stroke-width: 2; opacity: 0.7;\"></path><path transform=\"translate(62.5,115)\" d=\"M-5,-5h10v10h-10Z\" style=\"fill: grey; stroke-width: 2; opacity: 0.7;\"></path><path transform=\"translate(0,77.5)\" d=\"M-5,-5h10v10h-10Z\" style=\"fill: grey; stroke-width: 2; opacity: 0.7;\"></path><path transform=\"translate(437.5,57.5)\" d=\"M-5,-5h10v10h-10Z\" style=\"fill: grey; stroke-width: 2; opacity: 0.7;\"></path><path transform=\"translate(0,75)\" d=\"M-5,-5h10v10h-10Z\" style=\"fill: grey; stroke-width: 2; opacity: 0.7;\"></path><path transform=\"translate(437.5,55)\" d=\"M-5,-5h10v10h-10Z\" style=\"fill: grey; stroke-width: 2; opacity: 0.7;\"></path><path transform=\"translate(0,72.5)\" d=\"M-5,-5h10v10h-10Z\" style=\"fill: grey; stroke-width: 2; opacity: 0.7;\"></path><path transform=\"translate(187.5,52.5)\" d=\"M-5,-5h10v10h-10Z\" style=\"fill: grey; stroke-width: 2; opacity: 0.7;\"></path><path transform=\"translate(62.5,112.5)\" d=\"M-5,-5h10v10h-10Z\" style=\"fill: grey; stroke-width: 2; opacity: 0.7;\"></path><path transform=\"translate(62.5,110)\" d=\"M-5,-5h10v10h-10Z\" style=\"fill: grey; stroke-width: 2; opacity: 0.7;\"></path><path transform=\"translate(250,47.5)\" d=\"M-5,-5h10v10h-10Z\" style=\"fill: rgb(69, 146, 198); stroke-width: 2; opacity: 0.7;\"></path><path transform=\"translate(312.5,105)\" d=\"M-5,-5h10v10h-10Z\" style=\"fill: grey; stroke-width: 2; opacity: 0.7;\"></path><path transform=\"translate(312.5,102.5)\" d=\"M-5,-5h10v10h-10Z\" style=\"fill: grey; stroke-width: 2; opacity: 0.7;\"></path><path transform=\"translate(0,69.99999999999997)\" d=\"M-5,-5h10v10h-10Z\" style=\"fill: grey; stroke-width: 2; opacity: 0.7;\"></path><path transform=\"translate(62.5,107.49999999999997)\" d=\"M-5,-5h10v10h-10Z\" style=\"fill: grey; stroke-width: 2; opacity: 0.7;\"></path><path transform=\"translate(250,45)\" d=\"M-5,-5h10v10h-10Z\" style=\"fill: rgb(92, 164, 207); stroke-width: 2; opacity: 0.7;\"></path><path transform=\"translate(187.5,50)\" d=\"M-5,-5h10v10h-10Z\" style=\"fill: grey; stroke-width: 2; opacity: 0.7;\"></path><path transform=\"translate(500,60)\" d=\"M-5,-5h10v10h-10Z\" style=\"fill: grey; stroke-width: 2; opacity: 0.7;\"></path><path transform=\"translate(62.5,105)\" d=\"M-5,-5h10v10h-10Z\" style=\"fill: grey; stroke-width: 2; opacity: 0.7;\"></path><path transform=\"translate(0,67.5)\" d=\"M-5,-5h10v10h-10Z\" style=\"fill: grey; stroke-width: 2; opacity: 0.7;\"></path><path transform=\"translate(125,42.5)\" d=\"M-5,-5h10v10h-10Z\" style=\"fill: grey; stroke-width: 2; opacity: 0.7;\"></path><path transform=\"translate(375,62.5)\" d=\"M-5,-5h10v10h-10Z\" style=\"fill: grey; stroke-width: 2; opacity: 0.7;\"></path><path transform=\"translate(187.5,47.5)\" d=\"M-5,-5h10v10h-10Z\" style=\"fill: grey; stroke-width: 2; opacity: 0.7;\"></path><path transform=\"translate(312.5,100)\" d=\"M-5,-5h10v10h-10Z\" style=\"fill: grey; stroke-width: 2; opacity: 0.7;\"></path><path transform=\"translate(375,60)\" d=\"M-5,-5h10v10h-10Z\" style=\"fill: grey; stroke-width: 2; opacity: 0.7;\"></path><path transform=\"translate(187.5,45)\" d=\"M-5,-5h10v10h-10Z\" style=\"fill: grey; stroke-width: 2; opacity: 0.7;\"></path><path transform=\"translate(375,57.5)\" d=\"M-5,-5h10v10h-10Z\" style=\"fill: grey; stroke-width: 2; opacity: 0.7;\"></path><path transform=\"translate(0,65)\" d=\"M-5,-5h10v10h-10Z\" style=\"fill: grey; stroke-width: 2; opacity: 0.7;\"></path><path transform=\"translate(500,57.5)\" d=\"M-5,-5h10v10h-10Z\" style=\"fill: grey; stroke-width: 2; opacity: 0.7;\"></path><path transform=\"translate(62.5,102.5)\" d=\"M-5,-5h10v10h-10Z\" style=\"fill: grey; stroke-width: 2; opacity: 0.7;\"></path><path transform=\"translate(250,42.5)\" d=\"M-5,-5h10v10h-10Z\" style=\"fill: rgb(133, 187, 219); stroke-width: 2; opacity: 0.7;\"></path><path transform=\"translate(62.5,100)\" d=\"M-5,-5h10v10h-10Z\" style=\"fill: grey; stroke-width: 2; opacity: 0.7;\"></path><path transform=\"translate(125,40)\" d=\"M-5,-5h10v10h-10Z\" style=\"fill: grey; stroke-width: 2; opacity: 0.7;\"></path><path transform=\"translate(312.5,97.5)\" d=\"M-5,-5h10v10h-10Z\" style=\"fill: grey; stroke-width: 2; opacity: 0.7;\"></path><path transform=\"translate(0,62.5)\" d=\"M-5,-5h10v10h-10Z\" style=\"fill: grey; stroke-width: 2; opacity: 0.7;\"></path><path transform=\"translate(62.5,97.5)\" d=\"M-5,-5h10v10h-10Z\" style=\"fill: grey; stroke-width: 2; opacity: 0.7;\"></path><path transform=\"translate(375,55)\" d=\"M-5,-5h10v10h-10Z\" style=\"fill: grey; stroke-width: 2; opacity: 0.7;\"></path><path transform=\"translate(0,60)\" d=\"M-5,-5h10v10h-10Z\" style=\"fill: grey; stroke-width: 2; opacity: 0.7;\"></path><path transform=\"translate(437.5,52.5)\" d=\"M-5,-5h10v10h-10Z\" style=\"fill: grey; stroke-width: 2; opacity: 0.7;\"></path><path transform=\"translate(437.5,50)\" d=\"M-5,-5h10v10h-10Z\" style=\"fill: grey; stroke-width: 2; opacity: 0.7;\"></path><path transform=\"translate(0,57.5)\" d=\"M-5,-5h10v10h-10Z\" style=\"fill: grey; stroke-width: 2; opacity: 0.7;\"></path><path transform=\"translate(250,40)\" d=\"M-5,-5h10v10h-10Z\" style=\"fill: rgb(64, 142, 196); stroke-width: 2; opacity: 0.7;\"></path><path transform=\"translate(187.5,42.5)\" d=\"M-5,-5h10v10h-10Z\" style=\"fill: grey; stroke-width: 2; opacity: 0.7;\"></path><path transform=\"translate(62.5,95)\" d=\"M-5,-5h10v10h-10Z\" style=\"fill: grey; stroke-width: 2; opacity: 0.7;\"></path><path transform=\"translate(312.5,95)\" d=\"M-5,-5h10v10h-10Z\" style=\"fill: grey; stroke-width: 2; opacity: 0.7;\"></path><path transform=\"translate(312.5,92.5)\" d=\"M-5,-5h10v10h-10Z\" style=\"fill: grey; stroke-width: 2; opacity: 0.7;\"></path><path transform=\"translate(125,37.5)\" d=\"M-5,-5h10v10h-10Z\" style=\"fill: grey; stroke-width: 2; opacity: 0.7;\"></path><path transform=\"translate(187.5,40)\" d=\"M-5,-5h10v10h-10Z\" style=\"fill: grey; stroke-width: 2; opacity: 0.7;\"></path><path transform=\"translate(62.5,92.5)\" d=\"M-5,-5h10v10h-10Z\" style=\"fill: grey; stroke-width: 2; opacity: 0.7;\"></path><path transform=\"translate(0,55)\" d=\"M-5,-5h10v10h-10Z\" style=\"fill: grey; stroke-width: 2; opacity: 0.7;\"></path><path transform=\"translate(62.5,90)\" d=\"M-5,-5h10v10h-10Z\" style=\"fill: grey; stroke-width: 2; opacity: 0.7;\"></path><path transform=\"translate(187.5,37.5)\" d=\"M-5,-5h10v10h-10Z\" style=\"fill: grey; stroke-width: 2; opacity: 0.7;\"></path><path transform=\"translate(375,52.5)\" d=\"M-5,-5h10v10h-10Z\" style=\"fill: grey; stroke-width: 2; opacity: 0.7;\"></path><path transform=\"translate(250,37.5)\" d=\"M-5,-5h10v10h-10Z\" style=\"fill: rgb(88, 161, 206); stroke-width: 2; opacity: 0.7;\"></path><path transform=\"translate(437.5,47.5)\" d=\"M-5,-5h10v10h-10Z\" style=\"fill: grey; stroke-width: 2; opacity: 0.7;\"></path><path transform=\"translate(375,50)\" d=\"M-5,-5h10v10h-10Z\" style=\"fill: grey; stroke-width: 2; opacity: 0.7;\"></path><path transform=\"translate(375,47.5)\" d=\"M-5,-5h10v10h-10Z\" style=\"fill: grey; stroke-width: 2; opacity: 0.7;\"></path><path transform=\"translate(437.5,45)\" d=\"M-5,-5h10v10h-10Z\" style=\"fill: grey; stroke-width: 2; opacity: 0.7;\"></path><path transform=\"translate(0,52.5)\" d=\"M-5,-5h10v10h-10Z\" style=\"fill: grey; stroke-width: 2; opacity: 0.7;\"></path><path transform=\"translate(62.5,87.5)\" d=\"M-5,-5h10v10h-10Z\" style=\"fill: grey; stroke-width: 2; opacity: 0.7;\"></path><path transform=\"translate(125,35)\" d=\"M-5,-5h10v10h-10Z\" style=\"fill: grey; stroke-width: 2; opacity: 0.7;\"></path><path transform=\"translate(0,50)\" d=\"M-5,-5h10v10h-10Z\" style=\"fill: grey; stroke-width: 2; opacity: 0.7;\"></path><path transform=\"translate(312.5,90)\" d=\"M-5,-5h10v10h-10Z\" style=\"fill: grey; stroke-width: 2; opacity: 0.7;\"></path><path transform=\"translate(250,35)\" d=\"M-5,-5h10v10h-10Z\" style=\"fill: rgb(79, 154, 202); stroke-width: 2; opacity: 0.7;\"></path><path transform=\"translate(375,45)\" d=\"M-5,-5h10v10h-10Z\" style=\"fill: grey; stroke-width: 2; opacity: 0.7;\"></path><path transform=\"translate(62.5,85)\" d=\"M-5,-5h10v10h-10Z\" style=\"fill: grey; stroke-width: 2; opacity: 0.7;\"></path><path transform=\"translate(62.5,82.5)\" d=\"M-5,-5h10v10h-10Z\" style=\"fill: grey; stroke-width: 2; opacity: 0.7;\"></path><path transform=\"translate(125,32.5)\" d=\"M-5,-5h10v10h-10Z\" style=\"fill: grey; stroke-width: 2; opacity: 0.7;\"></path><path transform=\"translate(312.5,87.5)\" d=\"M-5,-5h10v10h-10Z\" style=\"fill: grey; stroke-width: 2; opacity: 0.7;\"></path><path transform=\"translate(312.5,85)\" d=\"M-5,-5h10v10h-10Z\" style=\"fill: grey; stroke-width: 2; opacity: 0.7;\"></path><path transform=\"translate(375,42.5)\" d=\"M-5,-5h10v10h-10Z\" style=\"fill: grey; stroke-width: 2; opacity: 0.7;\"></path><path transform=\"translate(187.5,35)\" d=\"M-5,-5h10v10h-10Z\" style=\"fill: grey; stroke-width: 2; opacity: 0.7;\"></path><path transform=\"translate(187.5,32.5)\" d=\"M-5,-5h10v10h-10Z\" style=\"fill: grey; stroke-width: 2; opacity: 0.7;\"></path><path transform=\"translate(437.5,42.5)\" d=\"M-5,-5h10v10h-10Z\" style=\"fill: grey; stroke-width: 2; opacity: 0.7;\"></path><path transform=\"translate(437.5,40)\" d=\"M-5,-5h10v10h-10Z\" style=\"fill: grey; stroke-width: 2; opacity: 0.7;\"></path><path transform=\"translate(437.5,37.5)\" d=\"M-5,-5h10v10h-10Z\" style=\"fill: grey; stroke-width: 2; opacity: 0.7;\"></path><path transform=\"translate(125,30)\" d=\"M-5,-5h10v10h-10Z\" style=\"fill: grey; stroke-width: 2; opacity: 0.7;\"></path><path transform=\"translate(0,47.5)\" d=\"M-5,-5h10v10h-10Z\" style=\"fill: grey; stroke-width: 2; opacity: 0.7;\"></path><path transform=\"translate(125,27.5)\" d=\"M-5,-5h10v10h-10Z\" style=\"fill: grey; stroke-width: 2; opacity: 0.7;\"></path><path transform=\"translate(500,55)\" d=\"M-5,-5h10v10h-10Z\" style=\"fill: grey; stroke-width: 2; opacity: 0.7;\"></path><path transform=\"translate(500,52.5)\" d=\"M-5,-5h10v10h-10Z\" style=\"fill: grey; stroke-width: 2; opacity: 0.7;\"></path><path transform=\"translate(437.5,35)\" d=\"M-5,-5h10v10h-10Z\" style=\"fill: grey; stroke-width: 2; opacity: 0.7;\"></path><path transform=\"translate(375,40)\" d=\"M-5,-5h10v10h-10Z\" style=\"fill: grey; stroke-width: 2; opacity: 0.7;\"></path><path transform=\"translate(437.5,32.5)\" d=\"M-5,-5h10v10h-10Z\" style=\"fill: grey; stroke-width: 2; opacity: 0.7;\"></path><path transform=\"translate(187.5,30)\" d=\"M-5,-5h10v10h-10Z\" style=\"fill: grey; stroke-width: 2; opacity: 0.7;\"></path><path transform=\"translate(187.5,27.5)\" d=\"M-5,-5h10v10h-10Z\" style=\"fill: grey; stroke-width: 2; opacity: 0.7;\"></path><path transform=\"translate(437.5,30)\" d=\"M-5,-5h10v10h-10Z\" style=\"fill: grey; stroke-width: 2; opacity: 0.7;\"></path><path transform=\"translate(0,45)\" d=\"M-5,-5h10v10h-10Z\" style=\"fill: grey; stroke-width: 2; opacity: 0.7;\"></path><path transform=\"translate(437.5,27.5)\" d=\"M-5,-5h10v10h-10Z\" style=\"fill: grey; stroke-width: 2; opacity: 0.7;\"></path><path transform=\"translate(125,25)\" d=\"M-5,-5h10v10h-10Z\" style=\"fill: grey; stroke-width: 2; opacity: 0.7;\"></path><path transform=\"translate(312.5,82.5)\" d=\"M-5,-5h10v10h-10Z\" style=\"fill: grey; stroke-width: 2; opacity: 0.7;\"></path><path transform=\"translate(312.5,80.00000000000003)\" d=\"M-5,-5h10v10h-10Z\" style=\"fill: grey; stroke-width: 2; opacity: 0.7;\"></path><path transform=\"translate(312.5,77.5)\" d=\"M-5,-5h10v10h-10Z\" style=\"fill: grey; stroke-width: 2; opacity: 0.7;\"></path><path transform=\"translate(62.5,80.00000000000003)\" d=\"M-5,-5h10v10h-10Z\" style=\"fill: grey; stroke-width: 2; opacity: 0.7;\"></path><path transform=\"translate(62.5,77.5)\" d=\"M-5,-5h10v10h-10Z\" style=\"fill: grey; stroke-width: 2; opacity: 0.7;\"></path><path transform=\"translate(0,42.5)\" d=\"M-5,-5h10v10h-10Z\" style=\"fill: grey; stroke-width: 2; opacity: 0.7;\"></path><path transform=\"translate(312.5,75)\" d=\"M-5,-5h10v10h-10Z\" style=\"fill: grey; stroke-width: 2; opacity: 0.7;\"></path><path transform=\"translate(250,32.5)\" d=\"M-5,-5h10v10h-10Z\" style=\"fill: rgb(110, 174, 213); stroke-width: 2; opacity: 0.7;\"></path><path transform=\"translate(62.5,75)\" d=\"M-5,-5h10v10h-10Z\" style=\"fill: grey; stroke-width: 2; opacity: 0.7;\"></path><path transform=\"translate(500,50)\" d=\"M-5,-5h10v10h-10Z\" style=\"fill: grey; stroke-width: 2; opacity: 0.7;\"></path><path transform=\"translate(375,37.5)\" d=\"M-5,-5h10v10h-10Z\" style=\"fill: grey; stroke-width: 2; opacity: 0.7;\"></path><path transform=\"translate(312.5,72.5)\" d=\"M-5,-5h10v10h-10Z\" style=\"fill: grey; stroke-width: 2; opacity: 0.7;\"></path><path transform=\"translate(250,30)\" d=\"M-5,-5h10v10h-10Z\" style=\"fill: rgb(68, 146, 198); stroke-width: 2; opacity: 0.7;\"></path><path transform=\"translate(312.5,69.99999999999997)\" d=\"M-5,-5h10v10h-10Z\" style=\"fill: grey; stroke-width: 2; opacity: 0.7;\"></path><path transform=\"translate(437.5,25)\" d=\"M-5,-5h10v10h-10Z\" style=\"fill: grey; stroke-width: 2; opacity: 0.7;\"></path><path transform=\"translate(187.5,25)\" d=\"M-5,-5h10v10h-10Z\" style=\"fill: grey; stroke-width: 2; opacity: 0.7;\"></path><path transform=\"translate(187.5,22.5)\" d=\"M-5,-5h10v10h-10Z\" style=\"fill: grey; stroke-width: 2; opacity: 0.7;\"></path><path transform=\"translate(187.5,20)\" d=\"M-5,-5h10v10h-10Z\" style=\"fill: grey; stroke-width: 2; opacity: 0.7;\"></path><path transform=\"translate(375,35)\" d=\"M-5,-5h10v10h-10Z\" style=\"fill: grey; stroke-width: 2; opacity: 0.7;\"></path><path transform=\"translate(312.5,67.5)\" d=\"M-5,-5h10v10h-10Z\" style=\"fill: grey; stroke-width: 2; opacity: 0.7;\"></path><path transform=\"translate(125,22.5)\" d=\"M-5,-5h10v10h-10Z\" style=\"fill: grey; stroke-width: 2; opacity: 0.7;\"></path><path transform=\"translate(312.5,65)\" d=\"M-5,-5h10v10h-10Z\" style=\"fill: grey; stroke-width: 2; opacity: 0.7;\"></path><path transform=\"translate(250,27.5)\" d=\"M-5,-5h10v10h-10Z\" style=\"fill: rgb(64, 141, 196); stroke-width: 2; opacity: 0.7;\"></path><path transform=\"translate(312.5,62.5)\" d=\"M-5,-5h10v10h-10Z\" style=\"fill: grey; stroke-width: 2; opacity: 0.7;\"></path><path transform=\"translate(500,47.5)\" d=\"M-5,-5h10v10h-10Z\" style=\"fill: grey; stroke-width: 2; opacity: 0.7;\"></path><path transform=\"translate(187.5,17.5)\" d=\"M-5,-5h10v10h-10Z\" style=\"fill: grey; stroke-width: 2; opacity: 0.7;\"></path><path transform=\"translate(62.5,72.5)\" d=\"M-5,-5h10v10h-10Z\" style=\"fill: grey; stroke-width: 2; opacity: 0.7;\"></path><path transform=\"translate(62.5,69.99999999999997)\" d=\"M-5,-5h10v10h-10Z\" style=\"fill: grey; stroke-width: 2; opacity: 0.7;\"></path><path transform=\"translate(375,32.5)\" d=\"M-5,-5h10v10h-10Z\" style=\"fill: grey; stroke-width: 2; opacity: 0.7;\"></path><path transform=\"translate(312.5,60)\" d=\"M-5,-5h10v10h-10Z\" style=\"fill: grey; stroke-width: 2; opacity: 0.7;\"></path><path transform=\"translate(187.5,15)\" d=\"M-5,-5h10v10h-10Z\" style=\"fill: grey; stroke-width: 2; opacity: 0.7;\"></path><path transform=\"translate(0,40)\" d=\"M-5,-5h10v10h-10Z\" style=\"fill: grey; stroke-width: 2; opacity: 0.7;\"></path><path transform=\"translate(0,37.5)\" d=\"M-5,-5h10v10h-10Z\" style=\"fill: grey; stroke-width: 2; opacity: 0.7;\"></path><path transform=\"translate(375,30)\" d=\"M-5,-5h10v10h-10Z\" style=\"fill: grey; stroke-width: 2; opacity: 0.7;\"></path><path transform=\"translate(0,35)\" d=\"M-5,-5h10v10h-10Z\" style=\"fill: grey; stroke-width: 2; opacity: 0.7;\"></path><path transform=\"translate(500,45)\" d=\"M-5,-5h10v10h-10Z\" style=\"fill: grey; stroke-width: 2; opacity: 0.7;\"></path><path transform=\"translate(375,27.5)\" d=\"M-5,-5h10v10h-10Z\" style=\"fill: grey; stroke-width: 2; opacity: 0.7;\"></path><path transform=\"translate(0,32.5)\" d=\"M-5,-5h10v10h-10Z\" style=\"fill: grey; stroke-width: 2; opacity: 0.7;\"></path><path transform=\"translate(375,25)\" d=\"M-5,-5h10v10h-10Z\" style=\"fill: grey; stroke-width: 2; opacity: 0.7;\"></path><path transform=\"translate(375,22.5)\" d=\"M-5,-5h10v10h-10Z\" style=\"fill: grey; stroke-width: 2; opacity: 0.7;\"></path><path transform=\"translate(250,25)\" d=\"M-5,-5h10v10h-10Z\" style=\"fill: rgb(97, 166, 209); stroke-width: 2; opacity: 0.7;\"></path><path transform=\"translate(0,30)\" d=\"M-5,-5h10v10h-10Z\" style=\"fill: grey; stroke-width: 2; opacity: 0.7;\"></path><path transform=\"translate(250,22.5)\" d=\"M-5,-5h10v10h-10Z\" style=\"fill: rgb(127, 184, 218); stroke-width: 2; opacity: 0.7;\"></path><path transform=\"translate(500,42.5)\" d=\"M-5,-5h10v10h-10Z\" style=\"fill: grey; stroke-width: 2; opacity: 0.7;\"></path><path transform=\"translate(250,20)\" d=\"M-5,-5h10v10h-10Z\" style=\"fill: rgb(138, 190, 221); stroke-width: 2; opacity: 0.7;\"></path><path transform=\"translate(250,17.5)\" d=\"M-5,-5h10v10h-10Z\" style=\"fill: rgb(55, 134, 192); stroke-width: 2; opacity: 0.7;\"></path><path transform=\"translate(125,20)\" d=\"M-5,-5h10v10h-10Z\" style=\"fill: grey; stroke-width: 2; opacity: 0.7;\"></path><path transform=\"translate(250,15)\" d=\"M-5,-5h10v10h-10Z\" style=\"fill: rgb(48, 128, 188); stroke-width: 2; opacity: 0.7;\"></path><path transform=\"translate(437.5,22.5)\" d=\"M-5,-5h10v10h-10Z\" style=\"fill: grey; stroke-width: 2; opacity: 0.7;\"></path><path transform=\"translate(0,27.5)\" d=\"M-5,-5h10v10h-10Z\" style=\"fill: grey; stroke-width: 2; opacity: 0.7;\"></path><path transform=\"translate(437.5,20)\" d=\"M-5,-5h10v10h-10Z\" style=\"fill: grey; stroke-width: 2; opacity: 0.7;\"></path><path transform=\"translate(250,12.5)\" d=\"M-5,-5h10v10h-10Z\" style=\"fill: rgb(54, 133, 191); stroke-width: 2; opacity: 0.7;\"></path><path transform=\"translate(187.5,12.5)\" d=\"M-5,-5h10v10h-10Z\" style=\"fill: grey; stroke-width: 2; opacity: 0.7;\"></path><path transform=\"translate(0,25)\" d=\"M-5,-5h10v10h-10Z\" style=\"fill: grey; stroke-width: 2; opacity: 0.7;\"></path><path transform=\"translate(62.5,67.5)\" d=\"M-5,-5h10v10h-10Z\" style=\"fill: grey; stroke-width: 2; opacity: 0.7;\"></path><path transform=\"translate(187.5,10)\" d=\"M-5,-5h10v10h-10Z\" style=\"fill: grey; stroke-width: 2; opacity: 0.7;\"></path><path transform=\"translate(437.5,17.5)\" d=\"M-5,-5h10v10h-10Z\" style=\"fill: grey; stroke-width: 2; opacity: 0.7;\"></path><path transform=\"translate(187.5,7.5)\" d=\"M-5,-5h10v10h-10Z\" style=\"fill: grey; stroke-width: 2; opacity: 0.7;\"></path><path transform=\"translate(125,17.5)\" d=\"M-5,-5h10v10h-10Z\" style=\"fill: grey; stroke-width: 2; opacity: 0.7;\"></path><path transform=\"translate(437.5,15)\" d=\"M-5,-5h10v10h-10Z\" style=\"fill: grey; stroke-width: 2; opacity: 0.7;\"></path><path transform=\"translate(0,22.5)\" d=\"M-5,-5h10v10h-10Z\" style=\"fill: grey; stroke-width: 2; opacity: 0.7;\"></path><path transform=\"translate(500,40)\" d=\"M-5,-5h10v10h-10Z\" style=\"fill: grey; stroke-width: 2; opacity: 0.7;\"></path><path transform=\"translate(125,15)\" d=\"M-5,-5h10v10h-10Z\" style=\"fill: grey; stroke-width: 2; opacity: 0.7;\"></path><path transform=\"translate(187.5,5)\" d=\"M-5,-5h10v10h-10Z\" style=\"fill: grey; stroke-width: 2; opacity: 0.7;\"></path><path transform=\"translate(250,10)\" d=\"M-5,-5h10v10h-10Z\" style=\"fill: rgb(35, 114, 180); stroke-width: 2; opacity: 0.7;\"></path><path transform=\"translate(312.5,57.5)\" d=\"M-5,-5h10v10h-10Z\" style=\"fill: grey; stroke-width: 2; opacity: 0.7;\"></path><path transform=\"translate(0,20)\" d=\"M-5,-5h10v10h-10Z\" style=\"fill: grey; stroke-width: 2; opacity: 0.7;\"></path><path transform=\"translate(500,37.5)\" d=\"M-5,-5h10v10h-10Z\" style=\"fill: grey; stroke-width: 2; opacity: 0.7;\"></path><path transform=\"translate(500,35)\" d=\"M-5,-5h10v10h-10Z\" style=\"fill: grey; stroke-width: 2; opacity: 0.7;\"></path><path transform=\"translate(125,12.5)\" d=\"M-5,-5h10v10h-10Z\" style=\"fill: grey; stroke-width: 2; opacity: 0.7;\"></path><path transform=\"translate(437.5,12.5)\" d=\"M-5,-5h10v10h-10Z\" style=\"fill: grey; stroke-width: 2; opacity: 0.7;\"></path><path transform=\"translate(375,20)\" d=\"M-5,-5h10v10h-10Z\" style=\"fill: grey; stroke-width: 2; opacity: 0.7;\"></path><path transform=\"translate(0,17.5)\" d=\"M-5,-5h10v10h-10Z\" style=\"fill: grey; stroke-width: 2; opacity: 0.7;\"></path><path transform=\"translate(437.5,10)\" d=\"M-5,-5h10v10h-10Z\" style=\"fill: grey; stroke-width: 2; opacity: 0.7;\"></path><path transform=\"translate(187.5,2.5)\" d=\"M-5,-5h10v10h-10Z\" style=\"fill: grey; stroke-width: 2; opacity: 0.7;\"></path><path transform=\"translate(62.5,65)\" d=\"M-5,-5h10v10h-10Z\" style=\"fill: grey; stroke-width: 2; opacity: 0.7;\"></path><path transform=\"translate(437.5,7.5)\" d=\"M-5,-5h10v10h-10Z\" style=\"fill: grey; stroke-width: 2; opacity: 0.7;\"></path><path transform=\"translate(0,15)\" d=\"M-5,-5h10v10h-10Z\" style=\"fill: grey; stroke-width: 2; opacity: 0.7;\"></path><path transform=\"translate(312.5,55)\" d=\"M-5,-5h10v10h-10Z\" style=\"fill: grey; stroke-width: 2; opacity: 0.7;\"></path><path transform=\"translate(500,32.5)\" d=\"M-5,-5h10v10h-10Z\" style=\"fill: grey; stroke-width: 2; opacity: 0.7;\"></path><path transform=\"translate(0,12.5)\" d=\"M-5,-5h10v10h-10Z\" style=\"fill: grey; stroke-width: 2; opacity: 0.7;\"></path><path transform=\"translate(500,30)\" d=\"M-5,-5h10v10h-10Z\" style=\"fill: grey; stroke-width: 2; opacity: 0.7;\"></path><path transform=\"translate(375,17.5)\" d=\"M-5,-5h10v10h-10Z\" style=\"fill: grey; stroke-width: 2; opacity: 0.7;\"></path><path transform=\"translate(500,27.5)\" d=\"M-5,-5h10v10h-10Z\" style=\"fill: grey; stroke-width: 2; opacity: 0.7;\"></path><path transform=\"translate(62.5,62.5)\" d=\"M-5,-5h10v10h-10Z\" style=\"fill: grey; stroke-width: 2; opacity: 0.7;\"></path><path transform=\"translate(250,7.5)\" d=\"M-5,-5h10v10h-10Z\" style=\"fill: rgb(162, 203, 227); stroke-width: 2; opacity: 0.7;\"></path><path transform=\"translate(125,10)\" d=\"M-5,-5h10v10h-10Z\" style=\"fill: grey; stroke-width: 2; opacity: 0.7;\"></path><path transform=\"translate(62.5,60)\" d=\"M-5,-5h10v10h-10Z\" style=\"fill: grey; stroke-width: 2; opacity: 0.7;\"></path></g><g class=\"mark-rect role-mark brush_brush\" clip-path=\"url(#clip2)\"><path d=\"M225,0h50v300h-50Z\" style=\"fill: none; stroke: white;\"></path></g><g class=\"mark-group role-axis\"><g transform=\"translate(0.5,300.5)\"><path class=\"background\" d=\"M0,0h0v0h0Z\" style=\"pointer-events: none; fill: none;\"></path><g><g class=\"mark-rule role-axis-tick\" style=\"pointer-events: none;\"><line transform=\"translate(0,0)\" x2=\"0\" y2=\"5\" style=\"fill: none; stroke: #888; stroke-width: 1; opacity: 1;\"></line><line transform=\"translate(31,0)\" x2=\"0\" y2=\"5\" style=\"fill: none; stroke: #888; stroke-width: 1; opacity: 1;\"></line><line transform=\"translate(63,0)\" x2=\"0\" y2=\"5\" style=\"fill: none; stroke: #888; stroke-width: 1; opacity: 1;\"></line><line transform=\"translate(94,0)\" x2=\"0\" y2=\"5\" style=\"fill: none; stroke: #888; stroke-width: 1; opacity: 1;\"></line><line transform=\"translate(125,0)\" x2=\"0\" y2=\"5\" style=\"fill: none; stroke: #888; stroke-width: 1; opacity: 1;\"></line><line transform=\"translate(156,0)\" x2=\"0\" y2=\"5\" style=\"fill: none; stroke: #888; stroke-width: 1; opacity: 1;\"></line><line transform=\"translate(188,0)\" x2=\"0\" y2=\"5\" style=\"fill: none; stroke: #888; stroke-width: 1; opacity: 1;\"></line><line transform=\"translate(219,0)\" x2=\"0\" y2=\"5\" style=\"fill: none; stroke: #888; stroke-width: 1; opacity: 1;\"></line><line transform=\"translate(250,0)\" x2=\"0\" y2=\"5\" style=\"fill: none; stroke: #888; stroke-width: 1; opacity: 1;\"></line><line transform=\"translate(281,0)\" x2=\"0\" y2=\"5\" style=\"fill: none; stroke: #888; stroke-width: 1; opacity: 1;\"></line><line transform=\"translate(313,0)\" x2=\"0\" y2=\"5\" style=\"fill: none; stroke: #888; stroke-width: 1; opacity: 1;\"></line><line transform=\"translate(344,0)\" x2=\"0\" y2=\"5\" style=\"fill: none; stroke: #888; stroke-width: 1; opacity: 1;\"></line><line transform=\"translate(375,0)\" x2=\"0\" y2=\"5\" style=\"fill: none; stroke: #888; stroke-width: 1; opacity: 1;\"></line><line transform=\"translate(406,0)\" x2=\"0\" y2=\"5\" style=\"fill: none; stroke: #888; stroke-width: 1; opacity: 1;\"></line><line transform=\"translate(438,0)\" x2=\"0\" y2=\"5\" style=\"fill: none; stroke: #888; stroke-width: 1; opacity: 1;\"></line><line transform=\"translate(469,0)\" x2=\"0\" y2=\"5\" style=\"fill: none; stroke: #888; stroke-width: 1; opacity: 1;\"></line><line transform=\"translate(500,0)\" x2=\"0\" y2=\"5\" style=\"fill: none; stroke: #888; stroke-width: 1; opacity: 1;\"></line></g><g class=\"mark-text role-axis-label\" style=\"pointer-events: none;\"><text text-anchor=\"start\" transform=\"translate(0,15)\" style=\"font-family: sans-serif; font-size: 10px; fill: #000; opacity: 1;\">0.0</text><text text-anchor=\"middle\" transform=\"translate(31.25,15)\" style=\"font-family: sans-serif; font-size: 10px; fill: #000; opacity: 1;\">0.5</text><text text-anchor=\"middle\" transform=\"translate(62.5,15)\" style=\"font-family: sans-serif; font-size: 10px; fill: #000; opacity: 1;\">1.0</text><text text-anchor=\"middle\" transform=\"translate(93.75,15)\" style=\"font-family: sans-serif; font-size: 10px; fill: #000; opacity: 1;\">1.5</text><text text-anchor=\"middle\" transform=\"translate(125,15)\" style=\"font-family: sans-serif; font-size: 10px; fill: #000; opacity: 1;\">2.0</text><text text-anchor=\"middle\" transform=\"translate(156.25,15)\" style=\"font-family: sans-serif; font-size: 10px; fill: #000; opacity: 1;\">2.5</text><text text-anchor=\"middle\" transform=\"translate(187.5,15)\" style=\"font-family: sans-serif; font-size: 10px; fill: #000; opacity: 1;\">3.0</text><text text-anchor=\"middle\" transform=\"translate(218.75,15)\" style=\"font-family: sans-serif; font-size: 10px; fill: #000; opacity: 1;\">3.5</text><text text-anchor=\"middle\" transform=\"translate(250,15)\" style=\"font-family: sans-serif; font-size: 10px; fill: #000; opacity: 1;\">4.0</text><text text-anchor=\"middle\" transform=\"translate(281.25,15)\" style=\"font-family: sans-serif; font-size: 10px; fill: #000; opacity: 1;\">4.5</text><text text-anchor=\"middle\" transform=\"translate(312.5,15)\" style=\"font-family: sans-serif; font-size: 10px; fill: #000; opacity: 1;\">5.0</text><text text-anchor=\"middle\" transform=\"translate(343.75,15)\" style=\"font-family: sans-serif; font-size: 10px; fill: #000; opacity: 1;\">5.5</text><text text-anchor=\"middle\" transform=\"translate(375,15)\" style=\"font-family: sans-serif; font-size: 10px; fill: #000; opacity: 1;\">6.0</text><text text-anchor=\"middle\" transform=\"translate(406.25,15)\" style=\"font-family: sans-serif; font-size: 10px; fill: #000; opacity: 1;\">6.5</text><text text-anchor=\"middle\" transform=\"translate(437.5,15)\" style=\"font-family: sans-serif; font-size: 10px; fill: #000; opacity: 1;\">7.0</text><text text-anchor=\"middle\" transform=\"translate(468.75,15)\" style=\"font-family: sans-serif; font-size: 10px; fill: #000; opacity: 1;\">7.5</text><text text-anchor=\"end\" transform=\"translate(500,15)\" style=\"font-family: sans-serif; font-size: 10px; fill: #000; opacity: 1;\">8.0</text></g><g class=\"mark-rule role-axis-domain\" style=\"pointer-events: none;\"><line transform=\"translate(0,0)\" x2=\"500\" y2=\"0\" style=\"fill: none; stroke: #888; stroke-width: 1; opacity: 1;\"></line></g><g class=\"mark-text role-axis-title\" style=\"pointer-events: none;\"><text text-anchor=\"middle\" transform=\"translate(250,30)\" style=\"font-family: sans-serif; font-size: 11px; font-weight: bold; fill: #000; opacity: 1;\">Samples</text></g></g></g></g></g></g></g><g class=\"mark-group role-scope concat_1_group\"><g transform=\"translate(560,0)\"><path class=\"background\" d=\"M0.5,0.5h500v300h-500Z\" style=\"fill: none; stroke: #ddd;\"></path><g><g class=\"mark-group role-axis\"><g transform=\"translate(0.5,0.5)\"><path class=\"background\" d=\"M0,0h0v0h0Z\" style=\"pointer-events: none; fill: none;\"></path><g><g class=\"mark-rule role-axis-grid\" style=\"pointer-events: none;\"><line transform=\"translate(0,300)\" x2=\"500\" y2=\"0\" style=\"fill: none; stroke: #ddd; stroke-width: 1; opacity: 1;\"></line><line transform=\"translate(0,113)\" x2=\"500\" y2=\"0\" style=\"fill: none; stroke: #ddd; stroke-width: 1; opacity: 1;\"></line><line transform=\"translate(0,263)\" x2=\"500\" y2=\"0\" style=\"fill: none; stroke: #ddd; stroke-width: 1; opacity: 1;\"></line><line transform=\"translate(0,225)\" x2=\"500\" y2=\"0\" style=\"fill: none; stroke: #ddd; stroke-width: 1; opacity: 1;\"></line><line transform=\"translate(0,188)\" x2=\"500\" y2=\"0\" style=\"fill: none; stroke: #ddd; stroke-width: 1; opacity: 1;\"></line><line transform=\"translate(0,150)\" x2=\"500\" y2=\"0\" style=\"fill: none; stroke: #ddd; stroke-width: 1; opacity: 1;\"></line><line transform=\"translate(0,75)\" x2=\"500\" y2=\"0\" style=\"fill: none; stroke: #ddd; stroke-width: 1; opacity: 1;\"></line><line transform=\"translate(0,38)\" x2=\"500\" y2=\"0\" style=\"fill: none; stroke: #ddd; stroke-width: 1; opacity: 1;\"></line><line transform=\"translate(0,0)\" x2=\"500\" y2=\"0\" style=\"fill: none; stroke: #ddd; stroke-width: 1; opacity: 1;\"></line></g></g></g></g><g class=\"mark-rect role-mark concat_1_layer_0_marks\"><path d=\"M301.00000000000006,37.5h24v262.5h-24Z\" style=\"fill: #4c78a8;\"></path><path d=\"M276,131.25h24.000000000000057v168.75h-24.000000000000057Z\" style=\"fill: #4c78a8;\"></path><path d=\"M176.00000000000003,37.5h23.99999999999997v262.5h-23.99999999999997Z\" style=\"fill: #4c78a8;\"></path><path d=\"M251,18.75h24v281.25h-24Z\" style=\"fill: #4c78a8;\"></path><path d=\"M201,93.75h24v206.25h-24Z\" style=\"fill: #4c78a8;\"></path><path d=\"M376,187.5h24v112.5h-24Z\" style=\"fill: #4c78a8;\"></path><path d=\"M351.00000000000006,150h23.999999999999943v150h-23.999999999999943Z\" style=\"fill: #4c78a8;\"></path><path d=\"M326,206.25h24.000000000000057v93.75h-24.000000000000057Z\" style=\"fill: #4c78a8;\"></path><path d=\"M101,243.75h24v56.25h-24Z\" style=\"fill: #4c78a8;\"></path><path d=\"M226,37.5h24v262.5h-24Z\" style=\"fill: #4c78a8;\"></path><path d=\"M126,225h24.00000000000003v75h-24.00000000000003Z\" style=\"fill: #4c78a8;\"></path><path d=\"M151.00000000000003,75h24.00000000000003v225h-24.00000000000003Z\" style=\"fill: #4c78a8;\"></path><path d=\"M76.00000000000001,281.25h23.999999999999986v18.75h-23.999999999999986Z\" style=\"fill: #4c78a8;\"></path><path d=\"M51,281.25h24.000000000000014v18.75h-24.000000000000014Z\" style=\"fill: #4c78a8;\"></path></g><g class=\"mark-group role-axis\"><g transform=\"translate(0.5,300.5)\"><path class=\"background\" d=\"M0,0h0v0h0Z\" style=\"pointer-events: none; fill: none;\"></path><g><g class=\"mark-rule role-axis-tick\" style=\"pointer-events: none;\"><line transform=\"translate(0,0)\" x2=\"0\" y2=\"5\" style=\"fill: none; stroke: #888; stroke-width: 1; opacity: 1;\"></line><line transform=\"translate(25,0)\" x2=\"0\" y2=\"5\" style=\"fill: none; stroke: #888; stroke-width: 1; opacity: 1;\"></line><line transform=\"translate(50,0)\" x2=\"0\" y2=\"5\" style=\"fill: none; stroke: #888; stroke-width: 1; opacity: 1;\"></line><line transform=\"translate(75,0)\" x2=\"0\" y2=\"5\" style=\"fill: none; stroke: #888; stroke-width: 1; opacity: 1;\"></line><line transform=\"translate(100,0)\" x2=\"0\" y2=\"5\" style=\"fill: none; stroke: #888; stroke-width: 1; opacity: 1;\"></line><line transform=\"translate(125,0)\" x2=\"0\" y2=\"5\" style=\"fill: none; stroke: #888; stroke-width: 1; opacity: 1;\"></line><line transform=\"translate(150,0)\" x2=\"0\" y2=\"5\" style=\"fill: none; stroke: #888; stroke-width: 1; opacity: 1;\"></line><line transform=\"translate(175,0)\" x2=\"0\" y2=\"5\" style=\"fill: none; stroke: #888; stroke-width: 1; opacity: 1;\"></line><line transform=\"translate(200,0)\" x2=\"0\" y2=\"5\" style=\"fill: none; stroke: #888; stroke-width: 1; opacity: 1;\"></line><line transform=\"translate(225,0)\" x2=\"0\" y2=\"5\" style=\"fill: none; stroke: #888; stroke-width: 1; opacity: 1;\"></line><line transform=\"translate(250,0)\" x2=\"0\" y2=\"5\" style=\"fill: none; stroke: #888; stroke-width: 1; opacity: 1;\"></line><line transform=\"translate(275,0)\" x2=\"0\" y2=\"5\" style=\"fill: none; stroke: #888; stroke-width: 1; opacity: 1;\"></line><line transform=\"translate(300,0)\" x2=\"0\" y2=\"5\" style=\"fill: none; stroke: #888; stroke-width: 1; opacity: 1;\"></line><line transform=\"translate(325,0)\" x2=\"0\" y2=\"5\" style=\"fill: none; stroke: #888; stroke-width: 1; opacity: 1;\"></line><line transform=\"translate(350,0)\" x2=\"0\" y2=\"5\" style=\"fill: none; stroke: #888; stroke-width: 1; opacity: 1;\"></line><line transform=\"translate(375,0)\" x2=\"0\" y2=\"5\" style=\"fill: none; stroke: #888; stroke-width: 1; opacity: 1;\"></line><line transform=\"translate(400,0)\" x2=\"0\" y2=\"5\" style=\"fill: none; stroke: #888; stroke-width: 1; opacity: 1;\"></line><line transform=\"translate(425,0)\" x2=\"0\" y2=\"5\" style=\"fill: none; stroke: #888; stroke-width: 1; opacity: 1;\"></line><line transform=\"translate(450,0)\" x2=\"0\" y2=\"5\" style=\"fill: none; stroke: #888; stroke-width: 1; opacity: 1;\"></line><line transform=\"translate(475,0)\" x2=\"0\" y2=\"5\" style=\"fill: none; stroke: #888; stroke-width: 1; opacity: 1;\"></line><line transform=\"translate(500,0)\" x2=\"0\" y2=\"5\" style=\"fill: none; stroke: #888; stroke-width: 1; opacity: 1;\"></line></g><g class=\"mark-text role-axis-label\" style=\"pointer-events: none;\"><text text-anchor=\"start\" transform=\"translate(0,15)\" style=\"font-family: sans-serif; font-size: 10px; fill: #000; opacity: 1;\">0.00</text><text text-anchor=\"middle\" transform=\"translate(25,15)\" style=\"font-family: sans-serif; font-size: 10px; fill: #000; opacity: 0;\">0.05</text><text text-anchor=\"middle\" transform=\"translate(50,15)\" style=\"font-family: sans-serif; font-size: 10px; fill: #000; opacity: 1;\">0.10</text><text text-anchor=\"middle\" transform=\"translate(75.00000000000001,15)\" style=\"font-family: sans-serif; font-size: 10px; fill: #000; opacity: 0;\">0.15</text><text text-anchor=\"middle\" transform=\"translate(100,15)\" style=\"font-family: sans-serif; font-size: 10px; fill: #000; opacity: 1;\">0.20</text><text text-anchor=\"middle\" transform=\"translate(125,15)\" style=\"font-family: sans-serif; font-size: 10px; fill: #000; opacity: 0;\">0.25</text><text text-anchor=\"middle\" transform=\"translate(150.00000000000003,15)\" style=\"font-family: sans-serif; font-size: 10px; fill: #000; opacity: 1;\">0.30</text><text text-anchor=\"middle\" transform=\"translate(175.00000000000003,15)\" style=\"font-family: sans-serif; font-size: 10px; fill: #000; opacity: 0;\">0.35</text><text text-anchor=\"middle\" transform=\"translate(200,15)\" style=\"font-family: sans-serif; font-size: 10px; fill: #000; opacity: 1;\">0.40</text><text text-anchor=\"middle\" transform=\"translate(225,15)\" style=\"font-family: sans-serif; font-size: 10px; fill: #000; opacity: 0;\">0.45</text><text text-anchor=\"middle\" transform=\"translate(250,15)\" style=\"font-family: sans-serif; font-size: 10px; fill: #000; opacity: 1;\">0.50</text><text text-anchor=\"middle\" transform=\"translate(275,15)\" style=\"font-family: sans-serif; font-size: 10px; fill: #000; opacity: 0;\">0.55</text><text text-anchor=\"middle\" transform=\"translate(300.00000000000006,15)\" style=\"font-family: sans-serif; font-size: 10px; fill: #000; opacity: 1;\">0.60</text><text text-anchor=\"middle\" transform=\"translate(325,15)\" style=\"font-family: sans-serif; font-size: 10px; fill: #000; opacity: 0;\">0.65</text><text text-anchor=\"middle\" transform=\"translate(350.00000000000006,15)\" style=\"font-family: sans-serif; font-size: 10px; fill: #000; opacity: 1;\">0.70</text><text text-anchor=\"middle\" transform=\"translate(375,15)\" style=\"font-family: sans-serif; font-size: 10px; fill: #000; opacity: 0;\">0.75</text><text text-anchor=\"middle\" transform=\"translate(400,15)\" style=\"font-family: sans-serif; font-size: 10px; fill: #000; opacity: 1;\">0.80</text><text text-anchor=\"middle\" transform=\"translate(425.00000000000006,15)\" style=\"font-family: sans-serif; font-size: 10px; fill: #000; opacity: 0;\">0.85</text><text text-anchor=\"middle\" transform=\"translate(450,15)\" style=\"font-family: sans-serif; font-size: 10px; fill: #000; opacity: 1;\">0.90</text><text text-anchor=\"middle\" transform=\"translate(475.00000000000006,15)\" style=\"font-family: sans-serif; font-size: 10px; fill: #000; opacity: 0;\">0.95</text><text text-anchor=\"end\" transform=\"translate(500,15)\" style=\"font-family: sans-serif; font-size: 10px; fill: #000; opacity: 1;\">1.00</text></g><g class=\"mark-rule role-axis-domain\" style=\"pointer-events: none;\"><line transform=\"translate(0,0)\" x2=\"500\" y2=\"0\" style=\"fill: none; stroke: #888; stroke-width: 1; opacity: 1;\"></line></g><g class=\"mark-text role-axis-title\" style=\"pointer-events: none;\"><text text-anchor=\"middle\" transform=\"translate(250,30)\" style=\"font-family: sans-serif; font-size: 11px; font-weight: bold; fill: #000; opacity: 1;\">x3 (binned)</text></g></g></g></g><g class=\"mark-group role-axis\"><g transform=\"translate(0.5,0.5)\"><path class=\"background\" d=\"M0,0h0v0h0Z\" style=\"pointer-events: none; fill: none;\"></path><g><g class=\"mark-rule role-axis-tick\" style=\"pointer-events: none;\"><line transform=\"translate(0,300)\" x2=\"-5\" y2=\"0\" style=\"fill: none; stroke: #888; stroke-width: 1; opacity: 1;\"></line><line transform=\"translate(0,113)\" x2=\"-5\" y2=\"0\" style=\"fill: none; stroke: #888; stroke-width: 1; opacity: 1;\"></line><line transform=\"translate(0,263)\" x2=\"-5\" y2=\"0\" style=\"fill: none; stroke: #888; stroke-width: 1; opacity: 1;\"></line><line transform=\"translate(0,225)\" x2=\"-5\" y2=\"0\" style=\"fill: none; stroke: #888; stroke-width: 1; opacity: 1;\"></line><line transform=\"translate(0,188)\" x2=\"-5\" y2=\"0\" style=\"fill: none; stroke: #888; stroke-width: 1; opacity: 1;\"></line><line transform=\"translate(0,150)\" x2=\"-5\" y2=\"0\" style=\"fill: none; stroke: #888; stroke-width: 1; opacity: 1;\"></line><line transform=\"translate(0,75)\" x2=\"-5\" y2=\"0\" style=\"fill: none; stroke: #888; stroke-width: 1; opacity: 1;\"></line><line transform=\"translate(0,38)\" x2=\"-5\" y2=\"0\" style=\"fill: none; stroke: #888; stroke-width: 1; opacity: 1;\"></line><line transform=\"translate(0,0)\" x2=\"-5\" y2=\"0\" style=\"fill: none; stroke: #888; stroke-width: 1; opacity: 1;\"></line></g><g class=\"mark-text role-axis-label\" style=\"pointer-events: none;\"><text text-anchor=\"end\" transform=\"translate(-7,303)\" style=\"font-family: sans-serif; font-size: 10px; fill: #000; opacity: 1;\">0</text><text text-anchor=\"end\" transform=\"translate(-7,115.5)\" style=\"font-family: sans-serif; font-size: 10px; fill: #000; opacity: 1;\">10</text><text text-anchor=\"end\" transform=\"translate(-7,265.5)\" style=\"font-family: sans-serif; font-size: 10px; fill: #000; opacity: 1;\">2</text><text text-anchor=\"end\" transform=\"translate(-7,228)\" style=\"font-family: sans-serif; font-size: 10px; fill: #000; opacity: 1;\">4</text><text text-anchor=\"end\" transform=\"translate(-7,190.5)\" style=\"font-family: sans-serif; font-size: 10px; fill: #000; opacity: 1;\">6</text><text text-anchor=\"end\" transform=\"translate(-7,153)\" style=\"font-family: sans-serif; font-size: 10px; fill: #000; opacity: 1;\">8</text><text text-anchor=\"end\" transform=\"translate(-7,78)\" style=\"font-family: sans-serif; font-size: 10px; fill: #000; opacity: 1;\">12</text><text text-anchor=\"end\" transform=\"translate(-7,40.5)\" style=\"font-family: sans-serif; font-size: 10px; fill: #000; opacity: 1;\">14</text><text text-anchor=\"end\" transform=\"translate(-7,3)\" style=\"font-family: sans-serif; font-size: 10px; fill: #000; opacity: 1;\">16</text></g><g class=\"mark-rule role-axis-domain\" style=\"pointer-events: none;\"><line transform=\"translate(0,300)\" x2=\"0\" y2=\"-300\" style=\"fill: none; stroke: #888; stroke-width: 1; opacity: 1;\"></line></g><g class=\"mark-text role-axis-title\" style=\"pointer-events: none;\"><text text-anchor=\"middle\" transform=\"translate(-23,150) rotate(-90) translate(0,-2)\" style=\"font-family: sans-serif; font-size: 11px; font-weight: bold; fill: #000; opacity: 1;\">Count of Records</text></g></g></g></g></g></g></g><g class=\"mark-group role-legend\"><g transform=\"translate(1080,0)\"><path class=\"background\" d=\"M0,0h33v216h-33Z\" style=\"pointer-events: none; fill: none;\"></path><g><g class=\"mark-group role-legend-entry\"><g transform=\"translate(0,16)\"><path class=\"background\" d=\"M0,0h0v0h0Z\" style=\"pointer-events: none; fill: none;\"></path><g><g class=\"mark-rect role-legend-gradient\" style=\"pointer-events: none;\"><path d=\"M0,0h16v200h-16Z\" style=\"fill: url(#gradient_0); stroke: #ddd; stroke-width: 0; opacity: 0.7;\"></path></g><g class=\"mark-text role-legend-label\" style=\"pointer-events: none;\"><text text-anchor=\"start\" transform=\"translate(18,162.96739603346967)\" style=\"font-family: sans-serif; font-size: 10px; fill: #000; opacity: 1;\">0.2</text><text text-anchor=\"start\" transform=\"translate(18,122.93454795734775)\" style=\"font-family: sans-serif; font-size: 10px; fill: #000; opacity: 1;\">0.4</text><text text-anchor=\"start\" transform=\"translate(18,82.90169988122584)\" style=\"font-family: sans-serif; font-size: 10px; fill: #000; opacity: 1;\">0.6</text><text text-anchor=\"start\" transform=\"translate(18,42.86885180510391)\" style=\"font-family: sans-serif; font-size: 10px; fill: #000; opacity: 1;\">0.8</text></g></g></g></g><g class=\"mark-text role-legend-title\" style=\"pointer-events: none;\"><text text-anchor=\"start\" transform=\"translate(0,9)\" style=\"font-family: sans-serif; font-size: 11px; font-weight: bold; fill: #000; opacity: 1;\">x3</text></g></g></g></g></g></g></g></g></svg>"
      ],
      "text/plain": [
       "VegaLite.VLSpec{:plot}"
      ]
     },
     "execution_count": 10,
     "metadata": {},
     "output_type": "execute_result"
    }
   ],
   "source": [
    "points = df |> vl\"\"\"\n",
    "{\n",
    "\"hconcat\" : [\n",
    "  {\n",
    "    \"view\":{\"stroke\" : null},\n",
    "    \"layer\": [{\n",
    "\n",
    "    \n",
    "    \"selection\": {\n",
    "      \"brush\": {\"type\": \"interval\",\"encodings\": [\"x\"],\"init\":{\"x\": [3.6, 4.4]}}\n",
    "    },\n",
    "    \"view\":{\"stroke\" : null},\n",
    "    \"width\": 500,\n",
    "    \"height\": 300,\n",
    "    \"mark\": \"square\",\n",
    "    \"encoding\": {\n",
    "        \"x\": {\"field\": \"x1\", \"type\": \"quantitative\",\"axis\": {\"grid\":false, \"title\":\"Samples\"}},\n",
    "        \"y\": {\"field\": \"x2\", \"type\": \"quantitative\", \"axis\": null},\n",
    "        \"size\":{\"value\":100},\n",
    "        \"color\": {\n",
    "              \"condition\": {\"selection\": \"brush\", \"field\": \"x3\", \"type\": \"quantitative\"},\n",
    "              \"value\": \"grey\"\n",
    "            }\n",
    "        }\n",
    "}]},\n",
    "  {\n",
    "    \"layer\":[{\n",
    "    \"transform\": [\n",
    "      {\"filter\": {\"selection\": \"brush\"}}\n",
    "    ],\n",
    "    \"width\": 500,\n",
    "    \"height\": 300,\n",
    "    \"mark\": \"bar\",\n",
    "    \"encoding\": {\n",
    "    \"x\": {\n",
    "        \"bin\":{\"maxbins\":20},\n",
    "        \"field\": \"x3\",\n",
    "        \"type\": \"quantitative\"\n",
    "    },\n",
    "    \"y\": {\n",
    "        \"aggregate\": \"count\",\n",
    "        \"type\": \"quantitative\"\n",
    "      }\n",
    "    }}\n",
    "    ]\n",
    "}]\n",
    "}\n",
    "\"\"\""
   ]
  },
  {
   "cell_type": "code",
   "execution_count": 7,
   "metadata": {},
   "outputs": [],
   "source": [
    "hist = df |> vl\"\"\"{\n",
    "  \"mark\": \"bar\",\n",
    "  \"encoding\": {\n",
    "    \"x\": {\n",
    "      \"bin\": true,\n",
    "      \"field\": \"x3\",\n",
    "      \"type\": \"quantitative\"\n",
    "    },\n",
    "    \"y\": {\n",
    "      \"aggregate\": \"count\",\n",
    "      \"type\": \"quantitative\"\n",
    "    }\n",
    "  }\n",
    "}\"\"\"\n",
    "points = df |> vl\"\"\"\n",
    "{\n",
    "  \"mark\": \"circle\",\n",
    "  \"encoding\": {\n",
    "    \"x\": {\"field\": \"x1\", \"type\": \"quantitative\"},\n",
    "    \"y\": {\"field\": \"x2\", \"type\": \"quantitative\"}\n",
    "  }\n",
    "}\"\"\";"
   ]
  },
  {
   "cell_type": "code",
   "execution_count": null,
   "metadata": {},
   "outputs": [],
   "source": []
  }
 ],
 "metadata": {
  "kernelspec": {
   "display_name": "Julia 1.0.5",
   "language": "julia",
   "name": "julia-1.0"
  },
  "language_info": {
   "file_extension": ".jl",
   "mimetype": "application/julia",
   "name": "julia",
   "version": "1.0.5"
  }
 },
 "nbformat": 4,
 "nbformat_minor": 4
}
