{
 "cells": [
  {
   "cell_type": "markdown",
   "metadata": {},
   "source": [
    "# Sheet 3 - Simulation Exercise (Probit Model - Gibbs and M-H)"
   ]
  },
  {
   "cell_type": "code",
   "execution_count": 202,
   "metadata": {},
   "outputs": [
    {
     "name": "stderr",
     "output_type": "stream",
     "text": [
      "┌ Info: Precompiling GraphRecipes [bd48cda9-67a9-57be-86fa-5b3c104eda73]\n",
      "└ @ Base loading.jl:1192\n"
     ]
    },
    {
     "data": {
      "text/plain": [
       "Plots.PyPlotBackend()"
      ]
     },
     "execution_count": 202,
     "metadata": {},
     "output_type": "execute_result"
    }
   ],
   "source": [
    "using Distributions, StatsPlots, Plots, StatsBase, LinearAlgebra, GraphRecipes\n",
    "using GaussianMixtures\n",
    "using LaTeXStrings\n",
    "pyplot()"
   ]
  },
  {
   "cell_type": "markdown",
   "metadata": {},
   "source": [
    "In the probit model we have the similar situation that we have for the linear regression,\n",
    "hence:\n",
    "$$\n",
    "Y = \\beta_0 + \\beta_1 x_1 + ... + \\beta_n x_n\n",
    "$$\n",
    "But $Y = 0$ or $1$, so we have to transform the linear equation to fall between 0 and 1.\n",
    "To do that, we use the cdf for the normal distribution.\n",
    "$$\n",
    "Y = \\phi(\\beta_0 + \\beta_1 x_1 + ... + \\beta_n x_n)\n",
    "$$\n",
    "Note that the cdf will guarantee a value between 0 and 1."
   ]
  },
  {
   "cell_type": "markdown",
   "metadata": {},
   "source": [
    "1. Generate a synthetic dataset Y from the probit model for an arbitrary value of β and a matrix X."
   ]
  },
  {
   "cell_type": "code",
   "execution_count": 358,
   "metadata": {},
   "outputs": [
    {
     "data": {
      "text/plain": [
       "Dict{Int64,Int64} with 2 entries:\n",
       "  0 => 21\n",
       "  1 => 29"
      ]
     },
     "execution_count": 358,
     "metadata": {},
     "output_type": "execute_result"
    }
   ],
   "source": [
    "n    = 50\n",
    "beta = [1.0 5.0]\n",
    "X    = randn(n,2)\n",
    "# cdf.(Normal(0,1),X)\n",
    "# X' * beta\n",
    "Y = (cdf.(Normal(0,1),X*beta') .>= 0.5).*1;\n",
    "C = countmap(Y[:])"
   ]
  },
  {
   "cell_type": "markdown",
   "metadata": {},
   "source": [
    "2. Introduce the prior distribution on β:\n",
    "$$\\pi(\\beta) = N (0, B)$$\n",
    "for a p × p covariance matrix B. Write a function taking a vector β as argument and returning the log\n",
    "posterior density function evaluated at β.\n",
    "\n",
    "Note that\n",
    "$$\n",
    "p(\\beta \\mid Y) \\propto \\pi(\\beta)\\prod^n_{i=1}\\phi(X_i^T\\beta)^{y_i}(1-\\phi X_i^T \\beta)^{1-y_i}\n",
    "$$\n"
   ]
  },
  {
   "cell_type": "code",
   "execution_count": 359,
   "metadata": {},
   "outputs": [
    {
     "data": {
      "text/plain": [
       "-2.7810242469692907"
      ]
     },
     "execution_count": 359,
     "metadata": {},
     "output_type": "execute_result"
    }
   ],
   "source": [
    "B = [2.0 0;\n",
    "     0 2.0]\n",
    "logpdf(MvNormal(B),[1.0,0]) #Note that Julia requires B to be of real numbers, not integers"
   ]
  },
  {
   "cell_type": "code",
   "execution_count": 362,
   "metadata": {},
   "outputs": [
    {
     "data": {
      "text/plain": [
       "1×1 Array{Float64,2}:\n",
       " -8.10150743664019"
      ]
     },
     "execution_count": 362,
     "metadata": {},
     "output_type": "execute_result"
    }
   ],
   "source": [
    "fu\n",
    "Y'*logcdf.(Normal(0,1),X*beta') + (1 .- Y)'* logcdf.(Normal(0,1),-X*beta') .+ logpdf(MvNormal(B),beta)\n",
    "# (1 .- Y)'* log.(1 .- cdf.(Normal(0,1),X*beta')) # Problems with summation, going to infinity\n",
    "\n",
    "# function LogPosterior(beta)\n",
    "#     logpdf(Normal(0,1),)\n",
    "# end"
   ]
  },
  {
   "cell_type": "code",
   "execution_count": 320,
   "metadata": {},
   "outputs": [
    {
     "data": {
      "image/png": "[encoded data removed]"
     },
     "execution_count": 320,
     "metadata": {},
     "output_type": "execute_result"
    }
   ],
   "source": [
    "# plot(v[1,:],v[2,:],seriestype=:scatter,markerstrokewidth=0,alpha=0.1,)\n",
    "marginalhist(v[1,:],v[2,:],seriescolor=:plasma)#seriescolor=:blues,"
   ]
  },
  {
   "cell_type": "code",
   "execution_count": 165,
   "metadata": {},
   "outputs": [
    {
     "data": {
      "text/plain": [
       "2-element Array{Float64,1}:\n",
       " -0.9431135860999073\n",
       "  1.5616872729334161"
      ]
     },
     "execution_count": 165,
     "metadata": {},
     "output_type": "execute_result"
    }
   ],
   "source": [
    "v[1]"
   ]
  }
 ],
 "metadata": {
  "kernelspec": {
   "display_name": "Julia 1.0.5",
   "language": "julia",
   "name": "julia-1.0"
  },
  "language_info": {
   "file_extension": ".jl",
   "mimetype": "application/julia",
   "name": "julia",
   "version": "1.0.5"
  }
 },
 "nbformat": 4,
 "nbformat_minor": 4
}
