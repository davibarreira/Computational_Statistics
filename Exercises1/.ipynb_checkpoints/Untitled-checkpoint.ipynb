{
 "cells": [
  {
   "cell_type": "code",
   "execution_count": 38,
   "metadata": {},
   "outputs": [],
   "source": [
    "import numpy as np\n",
    "from matplotlib import pyplot as plt\n",
    "import statsmodels as stm\n",
    "import scipy.stats as ss\n",
    "import seaborn as sns"
   ]
  },
  {
   "cell_type": "code",
   "execution_count": 13,
   "metadata": {},
   "outputs": [],
   "source": [
    "mu    = [-2,2]\n",
    "sigma2= [1,1]\n",
    "p     = [0.7,0.3]\n",
    "M = 100\n",
    "y = []\n",
    "for i in range(M):\n",
    "    u = np.random.choice([0,1],p=p)\n",
    "    if u == 0:\n",
    "        y.append(np.random.normal(mu[0],sigma2[0]**2))\n",
    "    else:\n",
    "        y.append(np.random.normal(mu[1],sigma2[1]**2))"
   ]
  },
  {
   "cell_type": "code",
   "execution_count": 14,
   "metadata": {},
   "outputs": [
    {
     "data": {
      "text/plain": [
       "<matplotlib.axes._subplots.AxesSubplot at 0x7f7cfa0f6860>"
      ]
     },
     "execution_count": 14,
     "metadata": {},
     "output_type": "execute_result"
    },
    {
     "data": {
      "image/png": "[encoded data removed]",
      "text/plain": [
       "<Figure size 432x288 with 1 Axes>"
      ]
     },
     "metadata": {
      "needs_background": "light"
     },
     "output_type": "display_data"
    }
   ],
   "source": [
    "sns.distplot(y)"
   ]
  },
  {
   "cell_type": "code",
   "execution_count": 136,
   "metadata": {},
   "outputs": [],
   "source": [
    "k = 2\n",
    "gamma, m, tau, alpha, beta = [1,1],0,1,2,1\n",
    "steps = 1000\n",
    "posterior = []\n",
    "\n",
    "p   = np.random.dirichlet(gamma)\n",
    "mu  = np.random.normal(m, tau,k)\n",
    "sig = 1/np.random.gamma(alpha, beta, k)\n",
    "\n",
    "z = []\n",
    "for i in range(M):\n",
    "    w1 = p[0]*ss.norm.pdf(y[i],loc=mu[0],scale=sig[0]**0.5)\n",
    "    w2 = p[1]*ss.norm.pdf(y[i],loc=mu[1],scale=sig[1]**0.5)\n",
    "    pw1 = w1/(w1+w2)\n",
    "    z.append(np.random.choice([1,2],p=[pw1,1-pw1]))\n",
    "n1 = sum(z == np.ones(M))\n",
    "n2 = M - n1\n",
    "p = np.random.dirichlet(np.array(gamma) + np.array([n1,n2]))\n",
    "\n",
    "mu_1 = (tau**(-2) * m + )\n",
    "# (tau^(-2) * m + sum_y_by_cluster * sigma2^(-1))/(tau^(-2) + \n",
    "#         n_by_cluster * sigma2^(-1))"
   ]
  },
  {
   "cell_type": "code",
   "execution_count": 137,
   "metadata": {},
   "outputs": [
    {
     "data": {
      "text/plain": [
       "array([0.21272832, 0.78727168])"
      ]
     },
     "execution_count": 137,
     "metadata": {},
     "output_type": "execute_result"
    }
   ],
   "source": [
    "p"
   ]
  },
  {
   "cell_type": "code",
   "execution_count": null,
   "metadata": {},
   "outputs": [],
   "source": [
    "'''\n",
    "M = length(y)\n",
    "k = 2\n",
    "gamma, m, tau, alpha, beta = [1,1],0,1,0.01,0.01\n",
    "steps = 1000\n",
    "posterior = zeros(steps,k*3)\n",
    "\n",
    "p   = rand(Dirichlet(gamma))\n",
    "mu  = rand(Normal(m,sqrt(tau)),k)\n",
    "sig = rand(InverseGamma(alpha,beta^(-1)),k)\n",
    "\n",
    "\n",
    "for s=1:steps\n",
    "    z = zeros(M)\n",
    "    for i = 1:M\n",
    "        w1 = p[1] * pdf(Normal(mu[1],sqrt(sig[1])),y[i])\n",
    "        w2 = p[2] * pdf(Normal(mu[2],sqrt(sig[2])),y[i])\n",
    "        pw1= w1/(w1+w2)\n",
    "        pw2= w2/(w1+w2)\n",
    "        z[i] += sample(1:k, Weights([pw1,pw2]))\n",
    "    end\n",
    "    n1 = sum(z .== 1)\n",
    "    n2 = sum(z .== 2)\n",
    "\n",
    "    p  = rand(Dirichlet(gamma + [n1,n2]))\n",
    "\n",
    "    m_p1   = (1/(1/tau + n1/sig[1])) * (m/tau + n1/sig[1])\n",
    "    m_p2   = (1/(1/tau + n2/sig[2])) * (m/tau + n2/sig[2])\n",
    "    tau_p1 = (1/tau + n1/sig[1])^(-1)\n",
    "    tau_p2 = (1/tau + n2/sig[2])^(-1)\n",
    "\n",
    "    mu[1] = rand(Normal(m_p1,sqrt(tau_p1)))\n",
    "    mu[2] = rand(Normal(m_p2,sqrt(tau_p2)))\n",
    "\n",
    "    sumsq1= sum((y[z .== 1] .- mu[1]).^2)\n",
    "    sumsq2= sum((y[z .== 2] .- mu[2]).^2)\n",
    "\n",
    "    alpha1= alpha + 0.5*n1\n",
    "    alpha2= alpha + 0.5*n2\n",
    "    beta1 = beta  + 0.5*sumsq1\n",
    "    beta2 = beta  + 0.5*sumsq2\n",
    "    sig[1]= 1/(rand(Distributions.Gamma(alpha1, beta1)))\n",
    "    sig[2]= 1/(rand(Distributions.Gamma(alpha2, beta2)))\n",
    "\n",
    "    posterior[s,:] = posterior[s,:] + vcat(p,mu,sig)\n",
    "    \n",
    "end\n",
    "'''"
   ]
  }
 ],
 "metadata": {
  "kernelspec": {
   "display_name": "Python3(datascience)",
   "language": "python",
   "name": "datascience"
  },
  "language_info": {
   "codemirror_mode": {
    "name": "ipython",
    "version": 3
   },
   "file_extension": ".py",
   "mimetype": "text/x-python",
   "name": "python",
   "nbconvert_exporter": "python",
   "pygments_lexer": "ipython3",
   "version": "3.6.8"
  }
 },
 "nbformat": 4,
 "nbformat_minor": 4
}
