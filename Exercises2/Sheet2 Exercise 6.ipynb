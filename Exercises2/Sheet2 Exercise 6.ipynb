{
 "cells": [
  {
   "cell_type": "markdown",
   "metadata": {},
   "source": [
    "# Sheet 2 - Simulation exercise (Gaussian mixture model - Gibbs sampling) "
   ]
  },
  {
   "cell_type": "code",
   "execution_count": 42,
   "metadata": {},
   "outputs": [
    {
     "data": {
      "text/plain": [
       "Plots.PyPlotBackend()"
      ]
     },
     "execution_count": 42,
     "metadata": {},
     "output_type": "execute_result"
    }
   ],
   "source": [
    "using Distributions, StatsPlots, Plots, StatsBase\n",
    "pyplot()"
   ]
  },
  {
   "cell_type": "markdown",
   "metadata": {},
   "source": [
    "## Sample synthetic dataset from mixture model."
   ]
  },
  {
   "cell_type": "code",
   "execution_count": 217,
   "metadata": {},
   "outputs": [
    {
     "data": {
      "image/png": "[encoded data removed]",
      "text/plain": [
       "PyPlot.Figure(PyObject <Figure size 600x400 with 1 Axes>)"
      ]
     },
     "metadata": {},
     "output_type": "display_data"
    }
   ],
   "source": [
    "mu    = [-5,0,5]\n",
    "sigma2= [1,2,3]\n",
    "p     = [0.5,0.2,0.3]\n",
    "w = Weights(p)\n",
    "M = 30\n",
    "X = zeros(M)\n",
    "s = sample(1:3, w,M)\n",
    "for i = 1:M\n",
    "    j = s[i]\n",
    "    X[i]+= rand(Normal(mu[j],sigma2[j]))\n",
    "end\n",
    "\n",
    "p = histogram(X,xlabel=\"Y\",ylabel=\"Frequency\",normalize=true,legend=false,nbins=M)\n",
    "savefig(p,\"./images/Ex6.png\")"
   ]
  },
  {
   "cell_type": "markdown",
   "metadata": {},
   "source": [
    "### Initial step:\n",
    "* Sample from prior p      ~ Dirichlet\n",
    "* Sample from prior μk     ~ N(m, tau^2)\n",
    "* Sample from prior sig2_k ~ IG(alpha, beta)\n",
    "\n",
    "### After that, sample from the full conditionals:\n",
    "* Sample Z | p, mu, sig2 , Y ~ P(Z_i = k | p) = p_k\n",
    "* Sample p1,...,pk | Z, mu, sig2, Y ~ Dirichlet (gamma1 + n1,...,gammak + nk)\n",
    "* Sample sig2_1,...,sig2_k | Z, mu, p, Y $\\sim\n",
    "\\text{Inverse Gamma}\\left(\n",
    "\\alpha + \\frac{n_k}{2}, \\beta +\n",
    "\\frac{\\sum_{i=1}^{n_k}(x_i - \\mu_k)^2}{2}\n",
    "\\right)\n",
    "$\n",
    "* Sample mu_1, ... , mu_k | Z, sig2, p, Y$ \\sim\n",
    "N\\left(\n",
    "\\frac{n_k \\sigma_k ^{-2}\\bar{x_k} + \\tau^{-2}m}\n",
    "{n_k\\sigma^2_k}\n",
    ", [n_k\\sigma_k^{-2} + \\tau^{-2}]^{-1}\n",
    "\\right)$"
   ]
  },
  {
   "cell_type": "code",
   "execution_count": 303,
   "metadata": {},
   "outputs": [
    {
     "ename": "LoadError",
     "evalue": "syntax: unexpected \"catch\"",
     "output_type": "error",
     "traceback": [
      "syntax: unexpected \"catch\"",
      ""
     ]
    }
   ],
   "source": [
    "k = 3\n",
    "gamma, m, tau, alpha, beta = [1,1,1],0,1,3,1\n",
    "p   = rand(Dirichlet(gamma))\n",
    "mu  =rand(Normal(m,tau),k)\n",
    "sig = rand(InverseGamma(alpha,beta^-1),k)\n",
    "\n",
    "function SamplePosterior_Z(p,M)\n",
    "    z = sample(1:3, Weights(p),M);\n",
    "    return z\n",
    "end\n",
    "\n",
    "function SamplePosterior_p(z, gamma)\n",
    "    n = countmap(z)\n",
    "    for i = 1:k\n",
    "        try\n",
    "            gamma[i] += n[i]\n",
    "        catch\n",
    "        end\n",
    "    end\n",
    "    p = rand(Dirichlet(gamma))\n",
    "    return p\n",
    "end\n",
    "\n",
    "function SamplePosterior_sigma(z,mu,alpha,beta,y)\n",
    "    sig = zeros(k)\n",
    "    n = countmap(z)\n",
    "    for i = 1:k\n",
    "        try\n",
    "            m_p = \n",
    "        catch\n",
    "            alpha_p = alpha\n",
    "        end\n",
    "        beta_p  = beta + sum((y[z .== 1].-mu[i]).^2)/2\n",
    "        sig[i] = rand(InverseGamma(alpha_p,beta_p^-1))\n",
    "    end\n",
    "    return sig\n",
    "end\n",
    "\n",
    "# function SamplePosterior_mu(z,m,tau,sig)\n",
    "#     mu = zeros(k)\n",
    "#     n = countmap(z)\n",
    "#     for i = 1:k\n",
    "#         try\n",
    "#             m_p = n[i]*((sig[i])^(-1))*(sum(X[]))\n",
    "#         catch\n",
    "#             alpha_p = alpha\n",
    "#         end\n",
    "#         beta_p  = beta + sum((X[z .== 1].-mu[i]).^2)/2\n",
    "#         mu[i]  =rand(Normal(m,tau),k)\n",
    "#     end\n",
    "#     return sig\n",
    "# end\n",
    "\n",
    "\n",
    "\n",
    "z = SamplePosterior_Z(p,M);\n",
    "p = SamplePosterior_p(z,gamma)\n",
    "sig = SamplePosterior_sigma(z,mu,alpha,beta,X)"
   ]
  },
  {
   "cell_type": "code",
   "execution_count": 301,
   "metadata": {},
   "outputs": [
    {
     "data": {
      "text/plain": [
       "3-element Array{Float64,1}:\n",
       " 0.0028600438180668175\n",
       " 0.003530862776809258 \n",
       " 0.002513693053577119 "
      ]
     },
     "execution_count": 301,
     "metadata": {},
     "output_type": "execute_result"
    }
   ],
   "source": [
    "sig"
   ]
  },
  {
   "cell_type": "code",
   "execution_count": 205,
   "metadata": {},
   "outputs": [
    {
     "data": {
      "text/plain": [
       "Posterior_p (generic function with 1 method)"
      ]
     },
     "execution_count": 205,
     "metadata": {},
     "output_type": "execute_result"
    }
   ],
   "source": [
    "k = 3\n",
    "gamma, m, tau, alpha, beta = [1,1,1],0,1,3,1\n",
    "# function Priors(gamma,m,tau,alpha,beta)\n",
    "#     rand(Dirichlet())\n",
    "# end\n",
    "\n",
    "function Posterior_p(Z,mu,sig2,Y)\n",
    "    \n",
    "end"
   ]
  },
  {
   "cell_type": "code",
   "execution_count": 129,
   "metadata": {},
   "outputs": [
    {
     "data": {
      "image/png": "[encoded data removed]"
     },
     "execution_count": 129,
     "metadata": {},
     "output_type": "execute_result"
    }
   ],
   "source": [
    "plot(InverseGamma(alpha,beta^-1),xlims=(0,10))"
   ]
  },
  {
   "cell_type": "code",
   "execution_count": null,
   "metadata": {},
   "outputs": [],
   "source": []
  }
 ],
 "metadata": {
  "kernelspec": {
   "display_name": "Julia 1.0.5",
   "language": "julia",
   "name": "julia-1.0"
  },
  "language_info": {
   "file_extension": ".jl",
   "mimetype": "application/julia",
   "name": "julia",
   "version": "1.0.5"
  }
 },
 "nbformat": 4,
 "nbformat_minor": 4
}
