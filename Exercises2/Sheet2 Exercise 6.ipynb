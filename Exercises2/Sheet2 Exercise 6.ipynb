{
 "cells": [
  {
   "cell_type": "markdown",
   "metadata": {},
   "source": [
    "# Sheet 2 - Simulation exercise (Gaussian mixture model - Gibbs sampling) "
   ]
  },
  {
   "cell_type": "code",
   "execution_count": 1,
   "metadata": {},
   "outputs": [
    {
     "data": {
      "text/plain": [
       "Plots.PyPlotBackend()"
      ]
     },
     "execution_count": 1,
     "metadata": {},
     "output_type": "execute_result"
    }
   ],
   "source": [
    "using Distributions, StatsPlots, Plots, StatsBase\n",
    "pyplot()"
   ]
  },
  {
   "cell_type": "markdown",
   "metadata": {},
   "source": [
    "## Sample synthetic dataset from mixture model."
   ]
  },
  {
   "cell_type": "code",
   "execution_count": 955,
   "metadata": {},
   "outputs": [
    {
     "data": {
      "image/png": "[encoded data removed]"
     },
     "execution_count": 955,
     "metadata": {},
     "output_type": "execute_result"
    }
   ],
   "source": [
    "mu    = [-1,1]\n",
    "sigma2= [1,1]\n",
    "p     = [0.7,0.3]\n",
    "w = Weights(p)\n",
    "M = 100\n",
    "X = zeros(M)\n",
    "s = sample(1:2, w,M)\n",
    "for i = 1:M\n",
    "    j = s[i]\n",
    "    X[i]+= rand(Normal(mu[j],sigma2[j]))\n",
    "end\n",
    "\n",
    "p = histogram(X,xlabel=\"Y\",ylabel=\"Frequency\",normalize=true,legend=false,nbins=M)\n",
    "# savefig(p,\"./images/Ex6.png\")"
   ]
  },
  {
   "cell_type": "markdown",
   "metadata": {},
   "source": [
    "### Initial step:\n",
    "* Sample from prior p      ~ Dirichlet\n",
    "* Sample from prior μk     ~ N(m, tau^2)\n",
    "* Sample from prior sig2_k ~ IG(alpha, beta)\n",
    "\n",
    "### After that, sample from the full conditionals:\n",
    "* Sample Z | p, mu, sig2 , Y ~ P(Z_i = k | p,y,mu,sig2) = p_k*pdf(Normal(mu,sig),y)\n",
    "* Sample p1,...,pk | Z, mu, sig2, Y ~ Dirichlet (gamma1 + n1,...,gammak + nk)\n",
    "* Sample sig2_1,...,sig2_k | Z, mu, p, Y $\\sim\n",
    "\\text{Inverse Gamma}\\left(\n",
    "\\alpha + \\frac{n_k}{2}, \\beta +\n",
    "\\frac{\\sum_{i=1}^{n_k}(x_i - \\mu_k)^2}{2}\n",
    "\\right)\n",
    "$\n",
    "* Sample mu_1, ... , mu_k | Z, sig2, p, Y$ \\sim\n",
    "N\\left(\n",
    "\\frac{n_k \\sigma_k ^{-2}\\bar{x_k} + \\tau^{-2}m}\n",
    "{n_k\\sigma^2_k}\n",
    ", [n_k\\sigma_k^{-2} + \\tau^{-2}]^{-1}\n",
    "\\right)$"
   ]
  },
  {
   "cell_type": "code",
   "execution_count": 956,
   "metadata": {},
   "outputs": [
    {
     "data": {
      "text/plain": [
       "10"
      ]
     },
     "execution_count": 956,
     "metadata": {},
     "output_type": "execute_result"
    }
   ],
   "source": [
    "y     = X\n",
    "M = length(y)\n",
    "k = 2\n",
    "gamma, m, tau, alpha, beta = [1,1],0,10,0.1,0.1\n",
    "p   = rand(Dirichlet(gamma))\n",
    "mu  = rand(Normal(m,sqrt(tau)),k)\n",
    "sig = rand(InverseGamma(alpha,beta^(-1)),k)\n",
    "steps = 10"
   ]
  },
  {
   "cell_type": "code",
   "execution_count": 978,
   "metadata": {},
   "outputs": [],
   "source": [
    "y     = X\n",
    "M = length(y)\n",
    "k = 2\n",
    "gamma, m, tau, alpha, beta = [1,1],0,1,0.01,0.01\n",
    "steps = 1000\n",
    "posterior = zeros(steps,k*3)\n",
    "\n",
    "p   = rand(Dirichlet(gamma))\n",
    "mu  = rand(Normal(m,sqrt(tau)),k)\n",
    "sig = rand(InverseGamma(alpha,beta^(-1)),k)\n",
    "\n",
    "\n",
    "for s=1:steps\n",
    "    z = zeros(M)\n",
    "    for i = 1:M\n",
    "        w1 = p[1] * pdf(Normal(mu[1],sqrt(sig[1])),y[i])\n",
    "        w2 = p[2] * pdf(Normal(mu[2],sqrt(sig[2])),y[i])\n",
    "        pw1= w1/(w1+w2)\n",
    "        pw2= w2/(w1+w2)\n",
    "        z[i] += sample(1:k, Weights([pw1,pw2]))\n",
    "    end\n",
    "    n1 = sum(z .== 1)\n",
    "    n2 = sum(z .== 2)\n",
    "\n",
    "    p  = rand(Dirichlet(gamma + [n1,n2]))\n",
    "\n",
    "    m_p1   = (1/(1/tau + n1/sig[1])) * (m/tau + n1/sig[1])\n",
    "    m_p2   = (1/(1/tau + n2/sig[2])) * (m/tau + n2/sig[2])\n",
    "    tau_p1 = (1/tau + n1/sig[1])^(-1)\n",
    "    tau_p2 = (1/tau + n2/sig[2])^(-1)\n",
    "\n",
    "    mu[1] = rand(Normal(m_p1,sqrt(tau_p1)))\n",
    "    mu[2] = rand(Normal(m_p2,sqrt(tau_p2)))\n",
    "\n",
    "    sumsq1= sum((y[z .== 1] .- mu[1]).^2)\n",
    "    sumsq2= sum((y[z .== 2] .- mu[2]).^2)\n",
    "\n",
    "    alpha1= alpha + 0.5*n1\n",
    "    alpha2= alpha + 0.5*n2\n",
    "    beta1 = beta  + 0.5*sumsq1\n",
    "    beta2 = beta  + 0.5*sumsq2\n",
    "    sig[1]= 1/(rand(Distributions.Gamma(alpha1, beta1)))\n",
    "    sig[2]= 1/(rand(Distributions.Gamma(alpha2, beta2)))\n",
    "\n",
    "    posterior[s,:] = posterior[s,:] + vcat(p,mu,sig)\n",
    "    \n",
    "end"
   ]
  },
  {
   "cell_type": "code",
   "execution_count": 979,
   "metadata": {},
   "outputs": [
    {
     "data": {
      "text/plain": [
       "1000×6 Array{Float64,2}:\n",
       " 0.00845069  0.991549    -1.76311    0.253751     3.57665e63      0.000169251\n",
       " 0.89463     0.10537      0.334686   1.00307      0.000183816     0.0604498  \n",
       " 0.0290791   0.970921     1.00103    1.00247      0.513162        0.000119795\n",
       " 0.978993    0.0210073    1.05779    0.990567     0.000130553  1420.94       \n",
       " 0.0341628   0.965837     0.996085  -0.303269    50.4225          0.000207542\n",
       " 0.961064    0.0389363    0.622424   0.996767     8.4713e-5       0.141152   \n",
       " 0.00727437  0.992726     1.00674    1.01524      9.53525         0.000102814\n",
       " 0.973432    0.0265676    1.61491    1.00812      7.27779e-5   6832.55       \n",
       " 0.0644662   0.935534     0.991275  -1.11524      2.10079         0.000131349\n",
       " 0.980488    0.0195118    0.911807   0.995945     0.000133261    11.9219     \n",
       " 0.0311247   0.968875     0.995451   1.06575     19.6886          9.67715e-5 \n",
       " 0.960574    0.0394258    1.03481    1.01046      0.000120676   207.728      \n",
       " 0.0309975   0.969002     1.00267   -0.383028    54.1837          0.000240971\n",
       " ⋮                                                                ⋮          \n",
       " 0.0138008   0.986199     0.98875    0.798529     9.68253         0.000119577\n",
       " 0.985207    0.0147933    0.900629   1.00497      0.000113354    13.508      \n",
       " 0.016274    0.983726     1.00799    0.990911    30.6355          0.000115016\n",
       " 0.949509    0.0504913    0.834672   1.00335      0.000142763    36.5161     \n",
       " 0.0646213   0.935379     0.997641   0.335681    15.3364          0.000126314\n",
       " 0.94083     0.0591702    0.860849   1.00235      0.000123678     1.81884    \n",
       " 0.0242085   0.975792     1.00636    1.00156     33.6649          0.000106723\n",
       " 0.939909    0.0600911    1.32088    0.999193     9.41477e-5    186.876      \n",
       " 0.0104683   0.989532     0.981668  -0.0742864   10.6116          0.000227691\n",
       " 0.995159    0.00484083   1.00285    1.00335      8.31705e-5      3.24597    \n",
       " 0.00735887  0.992641     0.996823   1.02275    424.056           8.24592e-5 \n",
       " 0.988789    0.0112114    0.80544    0.997952     0.000123087  2633.12       "
      ]
     },
     "execution_count": 979,
     "metadata": {},
     "output_type": "execute_result"
    }
   ],
   "source": [
    "posterior"
   ]
  },
  {
   "cell_type": "code",
   "execution_count": null,
   "metadata": {},
   "outputs": [],
   "source": []
  },
  {
   "cell_type": "code",
   "execution_count": 774,
   "metadata": {},
   "outputs": [
    {
     "data": {
      "text/plain": [
       "-0.8680048610157832"
      ]
     },
     "execution_count": 774,
     "metadata": {},
     "output_type": "execute_result"
    }
   ],
   "source": []
  },
  {
   "cell_type": "code",
   "execution_count": null,
   "metadata": {},
   "outputs": [],
   "source": []
  },
  {
   "cell_type": "code",
   "execution_count": 841,
   "metadata": {},
   "outputs": [
    {
     "data": {
      "text/plain": [
       "10×6 Array{Float64,2}:\n",
       " 0.783682   0.216318      2.51038    …  2526.91         3075.23       \n",
       " 0.764415   0.235585    -29.9214           7.13518e-7      9.3693e-6  \n",
       " 0.987477   0.0125229    -0.44113          0.000218065     1.43189e7  \n",
       " 0.0138816  0.986118     -0.459955        21.1784          8.50892e-9 \n",
       " 0.957541   0.0424586    -0.449858         0.000336931     3.91565e13 \n",
       " 0.0448316  0.955168     -0.429123   …     3.12599         8.8174e-8  \n",
       " 0.996579   0.00342072   -0.471398         0.000231141  4993.16       \n",
       " 0.0421153  0.957885     -0.460206        37.331           2.45624e-6 \n",
       " 0.99698    0.00301964    0.101666         0.000241223   161.236      \n",
       " 0.0552323  0.944768      0.0507418        1.66415         0.000223905"
      ]
     },
     "execution_count": 841,
     "metadata": {},
     "output_type": "execute_result"
    }
   ],
   "source": [
    "\n",
    "function SamplePosterior_Z(p,M,mu,sig,y)\n",
    "    z = zeros(M)\n",
    "    for n =1:M\n",
    "        w = zeros(k)\n",
    "        for i=1:k\n",
    "            w[i] = p[i] * exp((-(y[n]-mu[i])^2)/(2*sig[i]))/(sqrt(2*3.14*sig[i]))\n",
    "        end\n",
    "#         println(w)\n",
    "        z[n] = sample(1:k, Weights(w))\n",
    "    end\n",
    "    return z\n",
    "end\n",
    "\n",
    "\n",
    "function SamplePosterior_p(z, gamma)\n",
    "    gamma_p = zeros(k)\n",
    "    for i = 1:k\n",
    "        n   = sum(z.==i)\n",
    "#         println(n)\n",
    "        gamma_p[i] = gamma[i] + n\n",
    "    end\n",
    "    p = rand(Dirichlet(gamma_p))\n",
    "    return p\n",
    "end\n",
    "\n",
    "function SamplePosterior_sigma(z,mu,alpha,beta,y)\n",
    "    sig = zeros(k)\n",
    "    for i = 1:k\n",
    "        n   = sum(z.==i)\n",
    "        alpha_p = alpha + n/2\n",
    "        beta_p  = beta + sum((y[z .== i].-mu[i]).^2)/2\n",
    "        sig[i]  = 1/(rand(Gamma(alpha_p,beta_p)))\n",
    "#         sig[i] = rand(InverseGamma(alpha_p,beta_p^(-1)))\n",
    "    end\n",
    "    return sig\n",
    "end\n",
    "\n",
    "function SamplePosterior_mu(z,m,tau,sig)\n",
    "    mu = zeros(k)\n",
    "    for i = 1:k\n",
    "        n   = sum(z.==i)\n",
    "        m_p = ( (sig[i]^(-1))*(sum(y[z .== i])) + (tau^(-1))*m ) / ( n*sig[i]^(-1) + (tau^(-1)))\n",
    "        tau_p = 1/((n*sig[i]^(-1))+tau^(-2))\n",
    "        mu[i]   = rand(Normal(m_p,sqrt(tau_p)))\n",
    "    end\n",
    "    return mu\n",
    "end\n",
    "\n",
    "\n",
    "function Gibbs_Sampler_Mixture(steps,y,k,gamma,m,tau,alpha,beta)\n",
    "    #Initilialize by sampling from the priors\n",
    "    p   = rand(Dirichlet(gamma))\n",
    "    mu  = rand(Normal(m,tau),k)\n",
    "    sig = rand(InverseGamma(alpha,beta^(-1)),k)\n",
    "    \n",
    "    # Start the updating\n",
    "    posterior = zeros(steps,k*3)\n",
    "    for i = 1:steps\n",
    "        posterior[i,:] = posterior[i,:] + vcat(p,mu,sig)\n",
    "        z = SamplePosterior_Z(p,M,mu,sig,y)\n",
    "        p = SamplePosterior_p(z,gamma)\n",
    "        mu  = SamplePosterior_mu(z,m,tau,sig)\n",
    "        sig = SamplePosterior_sigma(z,mu,alpha,beta,y)\n",
    "    end\n",
    "    return posterior\n",
    "end\n",
    "\n",
    "steps = 10\n",
    "y     = X\n",
    "k = 2\n",
    "# gamma, m, tau, alpha, beta = [1,1,1],0,1,3,3\n",
    "gamma, m, tau, alpha, beta = [1,1],0,10,0.1,0.1\n",
    "simulation = Gibbs_Sampler_Mixture(steps,y,k,gamma,m,tau,alpha,beta);\n",
    "\n",
    "simulation"
   ]
  },
  {
   "cell_type": "code",
   "execution_count": 491,
   "metadata": {},
   "outputs": [
    {
     "data": {
      "text/plain": [
       "3.929491796962375e-8"
      ]
     },
     "execution_count": 491,
     "metadata": {},
     "output_type": "execute_result"
    }
   ],
   "source": [
    "simulation\n",
    "pdf(Normal(simulation[10,3],sqrt(simulation[10,5])),y[1])\n",
    "# plot(simulation[:,3])\n",
    "# plot!(simulation[:,4])\n",
    "# histogram(y,nbins=100)\n"
   ]
  },
  {
   "cell_type": "code",
   "execution_count": 843,
   "metadata": {},
   "outputs": [
    {
     "data": {
      "image/png": "[encoded data removed]"
     },
     "execution_count": 843,
     "metadata": {},
     "output_type": "execute_result"
    }
   ],
   "source": [
    "histogram(simulation[:,3])\n",
    "# histogram!(simulation[:,5])\n",
    "# histogram!(simulation[:,6])\n",
    "# matr= zeros(1,9)\n",
    "# matr[1,:] + vcat(rand(3),rand(3),rand(3))"
   ]
  },
  {
   "cell_type": "code",
   "execution_count": 205,
   "metadata": {},
   "outputs": [
    {
     "data": {
      "text/plain": [
       "Posterior_p (generic function with 1 method)"
      ]
     },
     "execution_count": 205,
     "metadata": {},
     "output_type": "execute_result"
    }
   ],
   "source": [
    "k = 3\n",
    "gamma, m, tau, alpha, beta = [1,1,1],0,1,3,1\n",
    "# function Priors(gamma,m,tau,alpha,beta)\n",
    "#     rand(Dirichlet())\n",
    "# end\n",
    "\n",
    "function Posterior_p(Z,mu,sig2,Y)\n",
    "    \n",
    "end"
   ]
  },
  {
   "cell_type": "code",
   "execution_count": 129,
   "metadata": {},
   "outputs": [
    {
     "data": {
      "image/png": "[encoded data removed]"
     },
     "execution_count": 129,
     "metadata": {},
     "output_type": "execute_result"
    }
   ],
   "source": [
    "plot(InverseGamma(alpha,beta^-1),xlims=(0,10))"
   ]
  },
  {
   "cell_type": "code",
   "execution_count": null,
   "metadata": {},
   "outputs": [],
   "source": []
  }
 ],
 "metadata": {
  "kernelspec": {
   "display_name": "Julia 1.0.5",
   "language": "julia",
   "name": "julia-1.0"
  },
  "language_info": {
   "file_extension": ".jl",
   "mimetype": "application/julia",
   "name": "julia",
   "version": "1.0.5"
  }
 },
 "nbformat": 4,
 "nbformat_minor": 4
}
