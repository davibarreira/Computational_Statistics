{
 "cells": [
  {
   "cell_type": "markdown",
   "metadata": {},
   "source": [
    "# Sheet 2 - Simulation exercise (Gaussian mixture model - Gibbs sampling) "
   ]
  },
  {
   "cell_type": "code",
   "execution_count": 1,
   "metadata": {},
   "outputs": [
    {
     "data": {
      "text/plain": [
       "Plots.PyPlotBackend()"
      ]
     },
     "execution_count": 1,
     "metadata": {},
     "output_type": "execute_result"
    }
   ],
   "source": [
    "using Distributions, StatsPlots, Plots, StatsBase\n",
    "pyplot()"
   ]
  },
  {
   "cell_type": "markdown",
   "metadata": {},
   "source": [
    "## Sample synthetic dataset from mixture model."
   ]
  },
  {
   "cell_type": "code",
   "execution_count": 492,
   "metadata": {},
   "outputs": [
    {
     "data": {
      "image/png": "[encoded data removed]"
     },
     "execution_count": 492,
     "metadata": {},
     "output_type": "execute_result"
    }
   ],
   "source": [
    "mu    = [-1,1]\n",
    "sigma2= [1,1]\n",
    "p     = [0.7,0.3]\n",
    "w = Weights(p)\n",
    "M = 100\n",
    "X = zeros(M)\n",
    "s = sample(1:2, w,M)\n",
    "for i = 1:M\n",
    "    j = s[i]\n",
    "    X[i]+= rand(Normal(mu[j],sigma2[j]))\n",
    "end\n",
    "\n",
    "p = histogram(X,xlabel=\"Y\",ylabel=\"Frequency\",normalize=true,legend=false,nbins=M)\n",
    "# savefig(p,\"./images/Ex6.png\")"
   ]
  },
  {
   "cell_type": "markdown",
   "metadata": {},
   "source": [
    "### Initial step:\n",
    "* Sample from prior p      ~ Dirichlet\n",
    "* Sample from prior μk     ~ N(m, tau^2)\n",
    "* Sample from prior sig2_k ~ IG(alpha, beta)\n",
    "\n",
    "### After that, sample from the full conditionals:\n",
    "* Sample Z | p, mu, sig2 , Y ~ P(Z_i = k | p,y,mu,sig2) = p_k*pdf(Normal(mu,sig),y)\n",
    "* Sample p1,...,pk | Z, mu, sig2, Y ~ Dirichlet (gamma1 + n1,...,gammak + nk)\n",
    "* Sample sig2_1,...,sig2_k | Z, mu, p, Y $\\sim\n",
    "\\text{Inverse Gamma}\\left(\n",
    "\\alpha + \\frac{n_k}{2}, \\beta +\n",
    "\\frac{\\sum_{i=1}^{n_k}(x_i - \\mu_k)^2}{2}\n",
    "\\right)\n",
    "$\n",
    "* Sample mu_1, ... , mu_k | Z, sig2, p, Y$ \\sim\n",
    "N\\left(\n",
    "\\frac{n_k \\sigma_k ^{-2}\\bar{x_k} + \\tau^{-2}m}\n",
    "{n_k\\sigma^2_k}\n",
    ", [n_k\\sigma_k^{-2} + \\tau^{-2}]^{-1}\n",
    "\\right)$"
   ]
  },
  {
   "cell_type": "code",
   "execution_count": 493,
   "metadata": {},
   "outputs": [],
   "source": [
    "\n",
    "function SamplePosterior_Z(p,M,mu,sig,y)\n",
    "    z = zeros(M)\n",
    "    for n =1:M\n",
    "        w = zeros(k)\n",
    "        for i=1:k\n",
    "            w[i] = p[i]*pdf(Normal(mu[i],sqrt(sig[i])),y[n])\n",
    "        end\n",
    "        z[n] = sample(1:k, Weights(w))\n",
    "    end\n",
    "#     print(countmap(z))\n",
    "    return z\n",
    "end\n",
    "\n",
    "\n",
    "function SamplePosterior_p(z, gamma)\n",
    "    n = countmap(z)\n",
    "    gamma_p = zeros(k)\n",
    "    for i = 1:k\n",
    "        try\n",
    "            gamma_p[i] = gamma[i] + n[i]\n",
    "        catch\n",
    "            gamma_p[i] = gamma[i]\n",
    "        end\n",
    "    end\n",
    "    p = rand(Dirichlet(gamma_p))\n",
    "    return p\n",
    "end\n",
    "\n",
    "function SamplePosterior_sigma(z,mu,alpha,beta,y)\n",
    "    sig = zeros(k)\n",
    "    n = countmap(z)\n",
    "    for i = 1:k\n",
    "        alpha_p = alpha\n",
    "        try\n",
    "            alpha_p = alpha + n[i]/2\n",
    "        catch\n",
    "            alpha_p = alpha\n",
    "        end\n",
    "        beta_p  = beta + sum((y[z .== i].-mu[i]).^2)/2\n",
    "        sig[i] = rand(InverseGamma(alpha_p,beta_p^(-1)))\n",
    "    end\n",
    "    return sig\n",
    "end\n",
    "\n",
    "function SamplePosterior_mu(z,m,tau,sig)\n",
    "    mu = zeros(k)\n",
    "    n = countmap(z)\n",
    "    for i = 1:k\n",
    "        m_p = m\n",
    "        tau_p = tau\n",
    "        try\n",
    "            m_p = ( (sig[i]^(-1))*(sum(y[z .== i])) + (tau^(-1))*m ) / ( n[i]*(sig[i]^(-1) + (tau^(-1))) )\n",
    "            tau_p = 1/((n[i]*sig[i]^(-1))+tau^(-2))\n",
    "        catch\n",
    "            m_p = m\n",
    "            tau_p = tau\n",
    "        end\n",
    "#         println(m_p,\"\\t\", tau_p)\n",
    "        mu[i]   = rand(Normal(m_p,tau_p))\n",
    "    end\n",
    "    return mu\n",
    "end\n",
    "\n",
    "\n",
    "function Gibbs_Sampler_Mixture(steps,y,k,gamma,m,tau,alpha,beta)\n",
    "    #Initilialize by sampling from the priors\n",
    "    p   = rand(Dirichlet(gamma))\n",
    "    mu  = rand(Normal(m,tau),k)\n",
    "    sig = rand(InverseGamma(alpha,beta^(-1)),k)\n",
    "    \n",
    "    # Start the updating\n",
    "    posterior = zeros(steps,k*3)\n",
    "    for i = 1:steps\n",
    "        z = SamplePosterior_Z(p,M,mu,sig,y)\n",
    "        p = SamplePosterior_p(z,gamma)\n",
    "        mu  = SamplePosterior_mu(z,m,tau,sig)\n",
    "        sig = SamplePosterior_sigma(z,mu,alpha,beta,y)\n",
    "        posterior[i,:] = posterior[i,:] + vcat(p,mu,sig)\n",
    "#         println(posterior[i,:])\n",
    "    end\n",
    "    return posterior\n",
    "end\n",
    "\n",
    "steps = 1000\n",
    "y     = X\n",
    "k = 2\n",
    "# gamma, m, tau, alpha, beta = [1,1,1],0,1,3,3\n",
    "gamma, m, tau, alpha, beta = [1,1],0,1,2,2\n",
    "simulation = Gibbs_Sampler_Mixture(steps,y,k,gamma,m,tau,alpha,beta);\n"
   ]
  },
  {
   "cell_type": "code",
   "execution_count": 494,
   "metadata": {},
   "outputs": [
    {
     "data": {
      "text/plain": [
       "1000×6 Array{Float64,2}:\n",
       " 0.122875   0.877125     1.24354   -0.602162  0.0349047    0.000304921\n",
       " 0.804018   0.195982    -0.438614  -0.647915  0.000287895  0.0298277  \n",
       " 0.0401665  0.959833    -0.443653  -0.47197   0.124223     0.000225355\n",
       " 0.970148   0.0298517   -0.432741  -0.473524  0.000242164  0.142443   \n",
       " 0.0193079  0.980692    -0.420719  -0.427353  0.1981       0.000155589\n",
       " 0.949463   0.0505371   -0.403324  -0.420759  0.000250786  0.244467   \n",
       " 0.0306393  0.969361    -0.420585  -0.388909  0.24052      0.000192653\n",
       " 0.938806   0.0611942   -0.388775  -0.420563  0.00017404   0.108683   \n",
       " 0.0471425  0.952858    -0.42081   -0.437189  0.074642     0.000171602\n",
       " 0.97252    0.0274798   -0.451649  -0.409063  0.000175717  0.147562   \n",
       " 0.0603805  0.939619    -0.457449  -0.423575  0.0902782    0.000220728\n",
       " 0.990457   0.00954293  -0.44592   -0.420652  0.000204104  0.219078   \n",
       " 0.0729153  0.927085    -0.457389  -0.396487  0.0591259    0.000185682\n",
       " ⋮                                                         ⋮          \n",
       " 0.0360827  0.963917    -0.361422  -0.347387  0.172188     0.00019002 \n",
       " 0.985045   0.0149552   -0.415609  -0.31392   0.000207771  0.16601    \n",
       " 0.0305533  0.969447    -0.420826  -0.418001  0.0787102    0.000233536\n",
       " 0.982672   0.0173282   -0.451241  -0.420668  0.000238862  0.245272   \n",
       " 0.0435843  0.956416    -0.457358  -0.387149  0.0776071    0.000202027\n",
       " 0.972437   0.0275629   -0.451867  -0.420542  0.000222717  0.139205   \n",
       " 0.0243292  0.975671    -0.44354   -0.42742   0.136252     0.000219581\n",
       " 0.947116   0.0528837   -0.430645  -0.420698  0.000159704  0.253913   \n",
       " 0.0313824  0.968618    -0.420727  -0.38794   0.595165     0.0001506  \n",
       " 0.986969   0.0130315   -0.307349  -0.40891   0.000223094  0.214333   \n",
       " 0.0189942  0.981006    -0.314347  -0.403835  0.138954     0.000181141\n",
       " 0.981234   0.018766    -0.423499  -0.420489  0.000228182  0.10689    "
      ]
     },
     "execution_count": 494,
     "metadata": {},
     "output_type": "execute_result"
    }
   ],
   "source": [
    "simulation"
   ]
  },
  {
   "cell_type": "code",
   "execution_count": 491,
   "metadata": {},
   "outputs": [
    {
     "data": {
      "text/plain": [
       "3.929491796962375e-8"
      ]
     },
     "execution_count": 491,
     "metadata": {},
     "output_type": "execute_result"
    }
   ],
   "source": [
    "simulation\n",
    "pdf(Normal(simulation[10,3],sqrt(simulation[10,5])),y[1])\n",
    "# plot(simulation[:,3])\n",
    "# plot!(simulation[:,4])\n",
    "# histogram(y,nbins=100)\n"
   ]
  },
  {
   "cell_type": "code",
   "execution_count": 495,
   "metadata": {},
   "outputs": [
    {
     "data": {
      "image/png": "[encoded data removed]"
     },
     "execution_count": 495,
     "metadata": {},
     "output_type": "execute_result"
    }
   ],
   "source": [
    "histogram(simulation[:,4])\n",
    "# histogram!(simulation[:,5])\n",
    "# histogram!(simulation[:,6])\n",
    "# matr= zeros(1,9)\n",
    "# matr[1,:] + vcat(rand(3),rand(3),rand(3))"
   ]
  },
  {
   "cell_type": "code",
   "execution_count": 205,
   "metadata": {},
   "outputs": [
    {
     "data": {
      "text/plain": [
       "Posterior_p (generic function with 1 method)"
      ]
     },
     "execution_count": 205,
     "metadata": {},
     "output_type": "execute_result"
    }
   ],
   "source": [
    "k = 3\n",
    "gamma, m, tau, alpha, beta = [1,1,1],0,1,3,1\n",
    "# function Priors(gamma,m,tau,alpha,beta)\n",
    "#     rand(Dirichlet())\n",
    "# end\n",
    "\n",
    "function Posterior_p(Z,mu,sig2,Y)\n",
    "    \n",
    "end"
   ]
  },
  {
   "cell_type": "code",
   "execution_count": 129,
   "metadata": {},
   "outputs": [
    {
     "data": {
      "image/png": "[encoded data removed]"
     },
     "execution_count": 129,
     "metadata": {},
     "output_type": "execute_result"
    }
   ],
   "source": [
    "plot(InverseGamma(alpha,beta^-1),xlims=(0,10))"
   ]
  },
  {
   "cell_type": "code",
   "execution_count": null,
   "metadata": {},
   "outputs": [],
   "source": []
  }
 ],
 "metadata": {
  "kernelspec": {
   "display_name": "Julia 1.0.5",
   "language": "julia",
   "name": "julia-1.0"
  },
  "language_info": {
   "file_extension": ".jl",
   "mimetype": "application/julia",
   "name": "julia",
   "version": "1.0.5"
  }
 },
 "nbformat": 4,
 "nbformat_minor": 4
}
