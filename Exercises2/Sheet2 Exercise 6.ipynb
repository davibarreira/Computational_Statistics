{
 "cells": [
  {
   "cell_type": "markdown",
   "metadata": {},
   "source": [
    "# Sheet 2 - Simulation exercise (Gaussian mixture model - Gibbs sampling) "
   ]
  },
  {
   "cell_type": "code",
   "execution_count": 1,
   "metadata": {},
   "outputs": [
    {
     "data": {
      "text/plain": [
       "Plots.PyPlotBackend()"
      ]
     },
     "execution_count": 1,
     "metadata": {},
     "output_type": "execute_result"
    }
   ],
   "source": [
    "using Distributions, StatsPlots, Plots, StatsBase\n",
    "pyplot()"
   ]
  },
  {
   "cell_type": "markdown",
   "metadata": {},
   "source": [
    "## Sample synthetic dataset from mixture model."
   ]
  },
  {
   "cell_type": "code",
   "execution_count": 511,
   "metadata": {},
   "outputs": [
    {
     "data": {
      "image/png": "[encoded data removed]"
     },
     "execution_count": 511,
     "metadata": {},
     "output_type": "execute_result"
    }
   ],
   "source": [
    "mu    = [-1,1]\n",
    "sigma2= [1,1]\n",
    "p     = [0.7,0.3]\n",
    "w = Weights(p)\n",
    "M = 100\n",
    "X = zeros(M)\n",
    "s = sample(1:2, w,M)\n",
    "for i = 1:M\n",
    "    j = s[i]\n",
    "    X[i]+= rand(Normal(mu[j],sigma2[j]))\n",
    "end\n",
    "\n",
    "p = histogram(X,xlabel=\"Y\",ylabel=\"Frequency\",normalize=true,legend=false,nbins=M)\n",
    "# savefig(p,\"./images/Ex6.png\")"
   ]
  },
  {
   "cell_type": "markdown",
   "metadata": {},
   "source": [
    "### Initial step:\n",
    "* Sample from prior p      ~ Dirichlet\n",
    "* Sample from prior μk     ~ N(m, tau^2)\n",
    "* Sample from prior sig2_k ~ IG(alpha, beta)\n",
    "\n",
    "### After that, sample from the full conditionals:\n",
    "* Sample Z | p, mu, sig2 , Y ~ P(Z_i = k | p,y,mu,sig2) = p_k*pdf(Normal(mu,sig),y)\n",
    "* Sample p1,...,pk | Z, mu, sig2, Y ~ Dirichlet (gamma1 + n1,...,gammak + nk)\n",
    "* Sample sig2_1,...,sig2_k | Z, mu, p, Y $\\sim\n",
    "\\text{Inverse Gamma}\\left(\n",
    "\\alpha + \\frac{n_k}{2}, \\beta +\n",
    "\\frac{\\sum_{i=1}^{n_k}(x_i - \\mu_k)^2}{2}\n",
    "\\right)\n",
    "$\n",
    "* Sample mu_1, ... , mu_k | Z, sig2, p, Y$ \\sim\n",
    "N\\left(\n",
    "\\frac{n_k \\sigma_k ^{-2}\\bar{x_k} + \\tau^{-2}m}\n",
    "{n_k\\sigma^2_k}\n",
    ", [n_k\\sigma_k^{-2} + \\tau^{-2}]^{-1}\n",
    "\\right)$"
   ]
  },
  {
   "cell_type": "code",
   "execution_count": 866,
   "metadata": {},
   "outputs": [
    {
     "data": {
      "text/plain": [
       "10"
      ]
     },
     "execution_count": 866,
     "metadata": {},
     "output_type": "execute_result"
    }
   ],
   "source": [
    "y     = X\n",
    "M = length(y)\n",
    "k = 2\n",
    "gamma, m, tau, alpha, beta = [1,1],0,10,0.1,0.1\n",
    "p   = rand(Dirichlet(gamma))\n",
    "mu  = rand(Normal(m,sqrt(tau)),k)\n",
    "sig = rand(InverseGamma(alpha,beta^(-1)),k)\n",
    "steps = 10"
   ]
  },
  {
   "cell_type": "code",
   "execution_count": 867,
   "metadata": {},
   "outputs": [
    {
     "name": "stdout",
     "output_type": "stream",
     "text": [
      "52"
     ]
    }
   ],
   "source": [
    "z = zeros(M)\n",
    "for i = 1:M\n",
    "    w1 = p[1] * pdf(Normal(mu[1],sqrt(sig[1])),y[i])\n",
    "    w2 = p[2] * pdf(Normal(mu[2],sqrt(sig[2])),y[i])\n",
    "    pw1= w1/(w1+w2)\n",
    "    pw2= w2/(w1+w2)\n",
    "    z[i] += sample(1:k, Weights([pw1,pw2]))\n",
    "end\n",
    "n1 = sum(z .== 1)\n",
    "n2 = sum(z .== 2)\n",
    "\n",
    "p  = rand(Dirichlet(gamma + [n1,n2]))\n",
    "\n",
    "m_p1   = (1/(1/tau + n1/sig[1])) * (m/tau + n1/sig[1])\n",
    "m_p2   = (1/(1/tau + n2/sig[2])) * (m/tau + n2/sig[2])\n",
    "tau_p1 = (1/tau + n1/sig[1])^(-1)\n",
    "tau_p2 = (1/tau + n2/sig[2])^(-1)\n",
    "\n",
    "mu[1] = rand(Normal(m_p1,sqrt(tau_p1)))\n",
    "mu[2] = rand(Normal(m_p2,sqrt(tau_p2)))\n",
    "\n",
    "sumsq1= sum((y .== 1)) \n",
    "# (1/tau2 + sk1/sigma2[[1]][it-1])^(-1)\n",
    "# media1 = (1/tau2 + sk1/sigma2[[1]][it-1])^(-1) * (m/tau2 + sk1x/sigma2[[1]][it-1])\n",
    "# (1/tau2 + sk2/sigma2[[2]][it-1])^(-1) * (m/tau2 + sk2x/sigma2[[2]][it-1])\n",
    "\n",
    "# m_p = ( (sig[i]^(-1))*(sum(y[z .== i])) + (tau^(-1))*m ) / ( n*sig[i]^(-1) + (tau^(-1))) )\n",
    "# tau_p = 1/((n*sig[i]^(-1))+tau^(-2))\n",
    "# mu[i]   = rand(Normal(m_p,tau_p))"
   ]
  },
  {
   "cell_type": "code",
   "execution_count": 876,
   "metadata": {},
   "outputs": [
    {
     "data": {
      "text/plain": [
       "52-element Array{Float64,1}:\n",
       " -0.5912802074318029 \n",
       " -3.1378012421454446 \n",
       " -2.406317358457266  \n",
       "  0.10304017330243087\n",
       " -0.711389832639497  \n",
       " -1.8692947506596085 \n",
       " -3.330304088579349  \n",
       " -1.2778836463847125 \n",
       " -2.7234301029222117 \n",
       "  0.473117804358407  \n",
       " -0.42999036473700714\n",
       " -1.940135074717867  \n",
       " -1.8574634093590814 \n",
       "  ⋮                  \n",
       " -2.9818511888030717 \n",
       " -1.5842171994832455 \n",
       " -1.913930052665892  \n",
       "  0.7167465484751485 \n",
       "  1.1855914225055182 \n",
       "  0.6896467166386497 \n",
       " -1.8172429711843996 \n",
       " -2.180675235807503  \n",
       " -1.7601787595350844 \n",
       "  1.0642289505491929 \n",
       "  1.275863730249241  \n",
       " -0.21821765925721348"
      ]
     },
     "execution_count": 876,
     "metadata": {},
     "output_type": "execute_result"
    }
   ],
   "source": [
    "(y[z .== 1] .- mu[1]).^\n",
    "# pdf(Normal(mu[1],sqrt(sig[1])),y[2])\n",
    "# # pdf(Normal(mu[2],sqrt(sig[2])),y[2])\n",
    "# plot(Normal(mu[1],sqrt(sig[1])))\n",
    "# plot!(Normal(mu[2],sqrt(sig[2])))"
   ]
  },
  {
   "cell_type": "code",
   "execution_count": null,
   "metadata": {},
   "outputs": [],
   "source": []
  },
  {
   "cell_type": "code",
   "execution_count": 774,
   "metadata": {},
   "outputs": [
    {
     "data": {
      "text/plain": [
       "-0.8680048610157832"
      ]
     },
     "execution_count": 774,
     "metadata": {},
     "output_type": "execute_result"
    }
   ],
   "source": [
    "mu[1]"
   ]
  },
  {
   "cell_type": "code",
   "execution_count": null,
   "metadata": {},
   "outputs": [],
   "source": []
  },
  {
   "cell_type": "code",
   "execution_count": 841,
   "metadata": {},
   "outputs": [
    {
     "data": {
      "text/plain": [
       "10×6 Array{Float64,2}:\n",
       " 0.783682   0.216318      2.51038    …  2526.91         3075.23       \n",
       " 0.764415   0.235585    -29.9214           7.13518e-7      9.3693e-6  \n",
       " 0.987477   0.0125229    -0.44113          0.000218065     1.43189e7  \n",
       " 0.0138816  0.986118     -0.459955        21.1784          8.50892e-9 \n",
       " 0.957541   0.0424586    -0.449858         0.000336931     3.91565e13 \n",
       " 0.0448316  0.955168     -0.429123   …     3.12599         8.8174e-8  \n",
       " 0.996579   0.00342072   -0.471398         0.000231141  4993.16       \n",
       " 0.0421153  0.957885     -0.460206        37.331           2.45624e-6 \n",
       " 0.99698    0.00301964    0.101666         0.000241223   161.236      \n",
       " 0.0552323  0.944768      0.0507418        1.66415         0.000223905"
      ]
     },
     "execution_count": 841,
     "metadata": {},
     "output_type": "execute_result"
    }
   ],
   "source": [
    "\n",
    "function SamplePosterior_Z(p,M,mu,sig,y)\n",
    "    z = zeros(M)\n",
    "    for n =1:M\n",
    "        w = zeros(k)\n",
    "        for i=1:k\n",
    "            w[i] = p[i] * exp((-(y[n]-mu[i])^2)/(2*sig[i]))/(sqrt(2*3.14*sig[i]))\n",
    "        end\n",
    "#         println(w)\n",
    "        z[n] = sample(1:k, Weights(w))\n",
    "    end\n",
    "    return z\n",
    "end\n",
    "\n",
    "\n",
    "function SamplePosterior_p(z, gamma)\n",
    "    gamma_p = zeros(k)\n",
    "    for i = 1:k\n",
    "        n   = sum(z.==i)\n",
    "#         println(n)\n",
    "        gamma_p[i] = gamma[i] + n\n",
    "    end\n",
    "    p = rand(Dirichlet(gamma_p))\n",
    "    return p\n",
    "end\n",
    "\n",
    "function SamplePosterior_sigma(z,mu,alpha,beta,y)\n",
    "    sig = zeros(k)\n",
    "    for i = 1:k\n",
    "        n   = sum(z.==i)\n",
    "        alpha_p = alpha + n/2\n",
    "        beta_p  = beta + sum((y[z .== i].-mu[i]).^2)/2\n",
    "        sig[i]  = 1/(rand(Gamma(alpha_p,beta_p)))\n",
    "#         sig[i] = rand(InverseGamma(alpha_p,beta_p^(-1)))\n",
    "    end\n",
    "    return sig\n",
    "end\n",
    "\n",
    "function SamplePosterior_mu(z,m,tau,sig)\n",
    "    mu = zeros(k)\n",
    "    for i = 1:k\n",
    "        n   = sum(z.==i)\n",
    "        m_p = ( (sig[i]^(-1))*(sum(y[z .== i])) + (tau^(-1))*m ) / ( n*sig[i]^(-1) + (tau^(-1)))\n",
    "        tau_p = 1/((n*sig[i]^(-1))+tau^(-2))\n",
    "        mu[i]   = rand(Normal(m_p,sqrt(tau_p)))\n",
    "    end\n",
    "    return mu\n",
    "end\n",
    "\n",
    "\n",
    "function Gibbs_Sampler_Mixture(steps,y,k,gamma,m,tau,alpha,beta)\n",
    "    #Initilialize by sampling from the priors\n",
    "    p   = rand(Dirichlet(gamma))\n",
    "    mu  = rand(Normal(m,tau),k)\n",
    "    sig = rand(InverseGamma(alpha,beta^(-1)),k)\n",
    "    \n",
    "    # Start the updating\n",
    "    posterior = zeros(steps,k*3)\n",
    "    for i = 1:steps\n",
    "        posterior[i,:] = posterior[i,:] + vcat(p,mu,sig)\n",
    "        z = SamplePosterior_Z(p,M,mu,sig,y)\n",
    "        p = SamplePosterior_p(z,gamma)\n",
    "        mu  = SamplePosterior_mu(z,m,tau,sig)\n",
    "        sig = SamplePosterior_sigma(z,mu,alpha,beta,y)\n",
    "    end\n",
    "    return posterior\n",
    "end\n",
    "\n",
    "steps = 10\n",
    "y     = X\n",
    "k = 2\n",
    "# gamma, m, tau, alpha, beta = [1,1,1],0,1,3,3\n",
    "gamma, m, tau, alpha, beta = [1,1],0,10,0.1,0.1\n",
    "simulation = Gibbs_Sampler_Mixture(steps,y,k,gamma,m,tau,alpha,beta);\n",
    "\n",
    "simulation"
   ]
  },
  {
   "cell_type": "code",
   "execution_count": 491,
   "metadata": {},
   "outputs": [
    {
     "data": {
      "text/plain": [
       "3.929491796962375e-8"
      ]
     },
     "execution_count": 491,
     "metadata": {},
     "output_type": "execute_result"
    }
   ],
   "source": [
    "simulation\n",
    "pdf(Normal(simulation[10,3],sqrt(simulation[10,5])),y[1])\n",
    "# plot(simulation[:,3])\n",
    "# plot!(simulation[:,4])\n",
    "# histogram(y,nbins=100)\n"
   ]
  },
  {
   "cell_type": "code",
   "execution_count": 843,
   "metadata": {},
   "outputs": [
    {
     "data": {
      "image/png": "[encoded data removed]"
     },
     "execution_count": 843,
     "metadata": {},
     "output_type": "execute_result"
    }
   ],
   "source": [
    "histogram(simulation[:,3])\n",
    "# histogram!(simulation[:,5])\n",
    "# histogram!(simulation[:,6])\n",
    "# matr= zeros(1,9)\n",
    "# matr[1,:] + vcat(rand(3),rand(3),rand(3))"
   ]
  },
  {
   "cell_type": "code",
   "execution_count": 205,
   "metadata": {},
   "outputs": [
    {
     "data": {
      "text/plain": [
       "Posterior_p (generic function with 1 method)"
      ]
     },
     "execution_count": 205,
     "metadata": {},
     "output_type": "execute_result"
    }
   ],
   "source": [
    "k = 3\n",
    "gamma, m, tau, alpha, beta = [1,1,1],0,1,3,1\n",
    "# function Priors(gamma,m,tau,alpha,beta)\n",
    "#     rand(Dirichlet())\n",
    "# end\n",
    "\n",
    "function Posterior_p(Z,mu,sig2,Y)\n",
    "    \n",
    "end"
   ]
  },
  {
   "cell_type": "code",
   "execution_count": 129,
   "metadata": {},
   "outputs": [
    {
     "data": {
      "image/png": "[encoded data removed]"
     },
     "execution_count": 129,
     "metadata": {},
     "output_type": "execute_result"
    }
   ],
   "source": [
    "plot(InverseGamma(alpha,beta^-1),xlims=(0,10))"
   ]
  },
  {
   "cell_type": "code",
   "execution_count": null,
   "metadata": {},
   "outputs": [],
   "source": []
  }
 ],
 "metadata": {
  "kernelspec": {
   "display_name": "Julia 1.0.5",
   "language": "julia",
   "name": "julia-1.0"
  },
  "language_info": {
   "file_extension": ".jl",
   "mimetype": "application/julia",
   "name": "julia",
   "version": "1.0.5"
  }
 },
 "nbformat": 4,
 "nbformat_minor": 4
}
