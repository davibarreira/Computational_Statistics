{
 "cells": [
  {
   "cell_type": "markdown",
   "metadata": {},
   "source": [
    "# Replication of paper \"Approximate Bayesian computational methods\" (2011)"
   ]
  },
  {
   "cell_type": "code",
   "execution_count": 1,
   "metadata": {},
   "outputs": [
    {
     "data": {
      "text/plain": [
       "Plots.PyPlotBackend()"
      ]
     },
     "execution_count": 1,
     "metadata": {},
     "output_type": "execute_result"
    }
   ],
   "source": [
    "using Distributions, StatsPlots, Plots, StatsBase, LinearAlgebra\n",
    "using LaTeXStrings\n",
    "using SymPy\n",
    "using VegaLite\n",
    "using DataFrames\n",
    "pyplot()"
   ]
  },
  {
   "cell_type": "markdown",
   "metadata": {},
   "source": [
    "### **Alorithm 1** - Likelihood-free rejection sampler 1\n",
    "Let's use sampling from Uniform with binomial likelihood function to illustrate this algorithm."
   ]
  },
  {
   "cell_type": "code",
   "execution_count": 3,
   "metadata": {},
   "outputs": [
    {
     "data": {
      "image/png": "[encoded data removed]"
     },
     "execution_count": 3,
     "metadata": {},
     "output_type": "execute_result"
    }
   ],
   "source": [
    "n, x = 8, 6\n",
    "N = 1000\n",
    "\n",
    "# Sample θ' from prior π(θ)\n",
    "# Generate z from p(.|θ')\n",
    "theta_s = rand(Beta(1,1),N)\n",
    "z       = rand.(Binomial.(n,theta_s))\n",
    "theta_a = theta_s[z .== x];\n",
    "v = collect(range(0, stop=1, length=N));\n",
    "\n",
    "histogram(theta_a,normalize=true,alpha=0.5)\n",
    "plot!(Beta(x+1,n-x+1),label=L\"p(\\theta \\mid x)\")\n",
    "plot!(Beta(1,1), label =L\"\\pi(\\theta)\")"
   ]
  },
  {
   "cell_type": "markdown",
   "metadata": {},
   "source": [
    "### **Alorithm 2** - Likelihood-free rejection sampler 2\n",
    "\n",
    "Let's write the functions for calculating the distances between the variables."
   ]
  },
  {
   "cell_type": "markdown",
   "metadata": {},
   "source": [
    "##### a) **Moving Average Model**"
   ]
  },
  {
   "cell_type": "code",
   "execution_count": 277,
   "metadata": {},
   "outputs": [
    {
     "data": {
      "text/plain": [
       "genMA (generic function with 2 methods)"
      ]
     },
     "execution_count": 277,
     "metadata": {},
     "output_type": "execute_result"
    }
   ],
   "source": [
    "MA(current, u,t) = u[current+2] + u[current + 1] * t[2] + u[current] * t[1]\n",
    "\n",
    "function genMA(u,t,n,N)\n",
    "    z = zeros(N,n)\n",
    "        for i=1:N\n",
    "            z[i,:] = MA.((1:n),Ref(u[i,:]),Ref(t[i,:]))\n",
    "        end\n",
    "    return z\n",
    "end"
   ]
  },
  {
   "cell_type": "markdown",
   "metadata": {},
   "source": [
    "##### b) **Synthetic Dataset**\n",
    "###### Moving Average model (MA)\n",
    "$y_k = u_k + \\sum_{i=1}^q \\theta_i u_{k-i}$\n",
    "\n",
    "$y \\sim MA(q)$\n",
    "\n",
    "$(\\theta_1,\\theta_2) =(0.6,0.2)$,sample size of 100."
   ]
  },
  {
   "cell_type": "code",
   "execution_count": 289,
   "metadata": {},
   "outputs": [],
   "source": [
    "using Random\n",
    "Random.seed!(1234)\n",
    "theta = [0.6;0.2]\n",
    "n     = 100\n",
    "u     = randn(n+2)\n",
    "y     = MA.((1:n),Ref(u),Ref(theta));\n",
    "# y     = genMA(u',theta',n,1)"
   ]
  },
  {
   "cell_type": "markdown",
   "metadata": {},
   "source": [
    "##### c) **Distance Functions and Suffient Statistics**"
   ]
  },
  {
   "cell_type": "code",
   "execution_count": 290,
   "metadata": {},
   "outputs": [
    {
     "data": {
      "text/plain": [
       "(1.1877820283726312, 0.17722769085447343, 0.026346706335622305)"
      ]
     },
     "execution_count": 290,
     "metadata": {},
     "output_type": "execute_result"
    }
   ],
   "source": [
    "raw_distance(y,z)         = sqrt(sum((y-z).^2))\n",
    "raw_distance_ordered(y,z) = sqrt(sum((sort(y)-sort(z)).^2))\n",
    "autocov_distance(q,y,z)   = sqrt((autocov(y,[q],demean=false)[1] - autocov(z,[q],demean=false)[1])^2)[1]\n",
    "\n",
    "# Example\n",
    "y = rand(10)\n",
    "z = rand(10)\n",
    "raw_distance(y,z),raw_distance_ordered(y,z), autocov_distance(2,y,z)"
   ]
  },
  {
   "cell_type": "markdown",
   "metadata": {},
   "source": [
    "##### d) **Running Algorithm 2**"
   ]
  },
  {
   "cell_type": "code",
   "execution_count": 282,
   "metadata": {},
   "outputs": [],
   "source": [
    "y = randn(10)\n",
    "N = 10        # number of trials\n",
    "n = length(y) # sample size\n",
    "theta_s = rand(N,2)\n",
    "u       = randn(N,n+2)\n",
    "z       = genMA(u,theta_s,n,N);"
   ]
  }
 ],
 "metadata": {
  "kernelspec": {
   "display_name": "Julia 1.0.5",
   "language": "julia",
   "name": "julia-1.0"
  },
  "language_info": {
   "file_extension": ".jl",
   "mimetype": "application/julia",
   "name": "julia",
   "version": "1.0.5"
  }
 },
 "nbformat": 4,
 "nbformat_minor": 4
}
