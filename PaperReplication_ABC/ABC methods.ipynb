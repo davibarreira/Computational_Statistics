{
 "cells": [
  {
   "cell_type": "markdown",
   "metadata": {},
   "source": [
    "# Replication of paper \"Approximate Bayesian computational methods\" (2011)"
   ]
  },
  {
   "cell_type": "code",
   "execution_count": null,
   "metadata": {},
   "outputs": [],
   "source": [
    "using Distributions, StatsPlots, Plots, StatsBase, LinearAlgebra, KernelDensity\n",
    "using LaTeXStrings\n",
    "using ProgressMeter\n",
    "pyplot()"
   ]
  },
  {
   "cell_type": "markdown",
   "metadata": {},
   "source": [
    "### **Alorithm 1** - Likelihood-free rejection sampler 1\n",
    "Let's use sampling from Uniform with binomial likelihood function to illustrate this algorithm."
   ]
  },
  {
   "cell_type": "code",
   "execution_count": null,
   "metadata": {},
   "outputs": [],
   "source": [
    "n, x = 5, 4\n",
    "N = 100_000\n",
    "\n",
    "# Sample θ' from prior π(θ)\n",
    "# Generate z from p(.|θ')\n",
    "theta_s = rand(Beta(1,1),N)\n",
    "z       = rand.(Binomial.(n,theta_s))\n",
    "theta_a = theta_s[z .== x];\n",
    "v = collect(range(0, stop=1, length=N));\n",
    "\n",
    "histogram(theta_a,normalize=true,alpha=0.5)\n",
    "plot!(Beta(x+1,n-x+1),label=L\"p(\\theta \\mid x)\")\n",
    "plot!(Beta(1,1), label =L\"\\pi(\\theta)\")"
   ]
  },
  {
   "cell_type": "markdown",
   "metadata": {},
   "source": [
    "### **Alorithm 2** - Likelihood-free rejection sampler 2\n",
    "\n",
    "Let's write the functions for calculating the distances between the variables."
   ]
  },
  {
   "cell_type": "markdown",
   "metadata": {},
   "source": [
    "##### a) **Moving Average Model** - MA(2)"
   ]
  },
  {
   "cell_type": "code",
   "execution_count": null,
   "metadata": {},
   "outputs": [],
   "source": [
    "MA(current, u,t) = u[current+2] + u[current + 1] * t[1] + u[current] * t[2]\n",
    "\n",
    "function genMA(u,t,n,N)\n",
    "    z = zeros(N,n)\n",
    "        for i=1:N\n",
    "            z[i,:] = MA.((1:n),Ref(u[i,:]),Ref(t[i,:]))\n",
    "        end\n",
    "    return z\n",
    "end"
   ]
  },
  {
   "cell_type": "markdown",
   "metadata": {},
   "source": [
    "##### b) **Synthetic Dataset**\n",
    "###### Moving Average model (MA)\n",
    "$y_k = u_k + \\sum_{i=1}^q \\theta_i u_{k-i}$\n",
    "\n",
    "$y \\sim MA(q)$\n",
    "\n",
    "$(\\theta_1,\\theta_2) =(0.6,0.2)$,sample size of 100."
   ]
  },
  {
   "cell_type": "code",
   "execution_count": null,
   "metadata": {},
   "outputs": [],
   "source": [
    "using Random\n",
    "Random.seed!(3)\n",
    "theta = [0.6;0.2]\n",
    "n     = 100\n",
    "u     = randn(n+2)\n",
    "y     = MA.((1:n),Ref(u),Ref(theta));"
   ]
  },
  {
   "cell_type": "markdown",
   "metadata": {},
   "source": [
    "##### c) **Distance Functions and Suffient Statistics**"
   ]
  },
  {
   "cell_type": "code",
   "execution_count": null,
   "metadata": {},
   "outputs": [],
   "source": [
    "raw_distance(y,z)         = sqrt(sum((y-z).^2))\n",
    "function abcautocov_distance(y,z)\n",
    "    ay = 0\n",
    "    az = 0\n",
    "    for i = 2:length(y)\n",
    "        ay +=y[i]*y[i-1]\n",
    "        az +=z[i]*z[i-1]\n",
    "    end\n",
    "    ay2 = 0\n",
    "    az2 = 0\n",
    "    for i = 3:length(y)\n",
    "        ay2 +=y[i]*y[i-2]\n",
    "        az2 +=z[i]*z[i-2]\n",
    "    end\n",
    "    rho = (ay - az)^2+(ay2 - az2)^2 +(sum(y.^2)- sum(z.^2))^2 # Codigo com lag = 0 apresentou melhor resultado aparentemente\n",
    "#     rho = (ay - az)^2+(ay2 - az2)^2\n",
    "    return rho\n",
    "end\n",
    "\n",
    "function autocov_dist2(y,z)\n",
    "    return sum((autocov(y)[2:3]-autocov(z)[2:3]).^2)*length(y)*length(z)\n",
    "end"
   ]
  },
  {
   "cell_type": "markdown",
   "metadata": {},
   "source": [
    "Utilizando covarianca com lags 0,"
   ]
  },
  {
   "cell_type": "markdown",
   "metadata": {},
   "source": [
    "##### d) **Triangular Sampling**\n",
    "Using rejection sampling to sample uniformly in a triangle"
   ]
  },
  {
   "cell_type": "code",
   "execution_count": null,
   "metadata": {},
   "outputs": [],
   "source": [
    "function rand_TriUniform(N=1)\n",
    "    trisample = zeros(N,2)\n",
    "    count = 0\n",
    "    while count < N\n",
    "        theta = [4*rand()-2;2*rand()-1]\n",
    "        if (theta[1]>-2 && theta[1]<2) && (sum(theta)>-1) && (theta[1]-theta[2] < 1)\n",
    "            count+=1\n",
    "            trisample[count,:] = theta\n",
    "        end\n",
    "    end\n",
    "    return trisample\n",
    "end"
   ]
  },
  {
   "cell_type": "markdown",
   "metadata": {},
   "source": [
    "##### e) **Running Algorithm 2**"
   ]
  },
  {
   "cell_type": "code",
   "execution_count": null,
   "metadata": {},
   "outputs": [],
   "source": [
    "# Random.seed!(1)\n",
    "N = 10^6        # number of trials\n",
    "n = length(y) # sample size\n",
    "theta_s = rand_TriUniform(N)\n",
    "u       = randn(N,n+2)\n",
    "z       = genMA(u,theta_s,n,N);"
   ]
  },
  {
   "cell_type": "code",
   "execution_count": null,
   "metadata": {},
   "outputs": [],
   "source": [
    "autocov_vectorize(z)    = abcautocov_distance(y,z)\n",
    "dist_vectorize(z)       = raw_distance(y,z)\n",
    "rho_autocov = mapslices(autocov_vectorize, z, dims =2)[:];\n",
    "rho_dist    = mapslices(dist_vectorize, z, dims =2)[:];\n",
    "\n",
    "epsilon10e4_autocov = quantile(rho_autocov,0.1/100)\n",
    "epsilon10e4_dist    = quantile(rho_dist,0.1/100)\n",
    "\n",
    "theta_ac_auto = theta_s[rho_autocov .< epsilon10e4_autocov,:];\n",
    "theta_ac_dist = theta_s[rho_dist    .< epsilon10e4_dist,:];\n",
    "\n",
    "z_ac_auto = z[rho_autocov .< epsilon10e4_autocov,:];\n",
    "epsilon10e4_autocov"
   ]
  },
  {
   "cell_type": "code",
   "execution_count": null,
   "metadata": {},
   "outputs": [],
   "source": [
    "function Ger_Simga(θ1,θ2, y)\n",
    "    Σ = zeros(100,100)\n",
    "    for i=1:length(y)\n",
    "        if i == 1\n",
    "            Σ[i,i]   = 1 + θ1^2 + θ2^2\n",
    "            Σ[i,i+1] = θ1 + θ1*θ2\n",
    "            Σ[i,i+2] = θ2\n",
    "        elseif i == 2\n",
    "            Σ[i,i-1] = θ1 + θ1*θ2\n",
    "            Σ[i,i]   = 1 + θ1^2 + θ2^2\n",
    "            Σ[i,i+1] = θ1 + θ1*θ2\n",
    "            Σ[i,i+2] = θ2\n",
    "        elseif i == 99\n",
    "            Σ[i,i-2] = θ2\n",
    "            Σ[i,i-1] = θ1 + θ1*θ2\n",
    "            Σ[i,i]   = 1 + θ1^2 + θ2^2\n",
    "            Σ[i,i+1] = θ1 + θ1*θ2\n",
    "        elseif i == 100\n",
    "            Σ[i,i-2] = θ2\n",
    "            Σ[i,i-1] = θ1 + θ1*θ2\n",
    "            Σ[i,i]   = 1 + θ1^2 + θ2^2\n",
    "        else\n",
    "            Σ[i,i-2] = θ2\n",
    "            Σ[i,i-1] = θ1 + θ1*θ2\n",
    "            Σ[i,i]   = 1 + θ1^2 + θ2^2\n",
    "            Σ[i,i+1] = θ1 + θ1*θ2\n",
    "            Σ[i,i+2] = θ2\n",
    "        end\n",
    "    end\n",
    "\n",
    "    return Σ\n",
    "end"
   ]
  },
  {
   "cell_type": "code",
   "execution_count": null,
   "metadata": {},
   "outputs": [],
   "source": [
    "plot(Plots.P2[(0,-1),(-2,1),(2,1),(0,-1)],fill=true,color=:orange,alpha=0.1,label=\"Prior\")\n",
    "scatter!(theta_ac_auto[:,1],theta_ac_auto[:,2],xlims=[-2,2],alpha=0.5,markerstrokewidth=0,\n",
    "    c=\"#3498db\", label=\"ABC samples\")\n",
    "\n",
    "\n",
    "# Contour Plot - True posterior\n",
    "gθ1      = -0:0.02:1\n",
    "gθ2      = -0.5:0.02:0.5\n",
    "gridθ1   = repeat(reshape(gθ1, 1, :), length(gθ2), 1)\n",
    "gridθ2   = repeat(gθ2, 1, length(gθ1))\n",
    "mamvn(θ1,θ2) = pdf(MvNormal(zeros(100),Ger_Simga(θ1,θ2,y)),y)\n",
    "Z = map(mamvn, gridθ1, gridθ2)\n",
    "p1 = contour!(gθ1,gθ2, mamvn, fill=false,c=:black,levels=8,\n",
    "    xlabel=L\"\\theta_1\", ylabel=L\"\\theta_2\",colorbar=false)\n",
    "\n",
    "s = scatter!([theta[1]],[theta[2]],markersize=5,c=\"#e74c3c\",size=(600,500),\n",
    "    framestyle=:box,grid=false, label=\"True Parameter\")\n",
    "savefig(s, \"./images/ABCmodel1.png\")"
   ]
  },
  {
   "cell_type": "markdown",
   "metadata": {},
   "source": [
    "### **Metropolis-Hasting Estimating Marginal**"
   ]
  },
  {
   "cell_type": "code",
   "execution_count": null,
   "metadata": {},
   "outputs": [],
   "source": [
    "# M-H\n",
    "x1 = rand()\n",
    "x2 = rand() - 0.5\n",
    "burnin = 1_000\n",
    "steps = 10_000\n",
    "C = zeros(steps,2)\n",
    "Xprevious   = [0;0]\n",
    "\n",
    "p = Progress(steps)\n",
    "for i=1:steps\n",
    "    Xnew        = Xprevious + randn(2)*0.1\n",
    "    alpha = minimum([1,exp(log(mamvn(Xnew[1],Xnew[2])) - log(mamvn(Xprevious[1],Xprevious[2])))])\n",
    "#     println(1 - alpha, Xnew)\n",
    "    if rand() < (1 - alpha) # Reject\n",
    "        Xnew = Xprevious\n",
    "    end\n",
    "    C[i,:] = Xnew\n",
    "    Xprevious = Xnew\n",
    "    next!(p)\n",
    "end"
   ]
  },
  {
   "cell_type": "code",
   "execution_count": null,
   "metadata": {},
   "outputs": [],
   "source": [
    "contour(gθ1,gθ2, mamvn, fill=false,c=:black,levels=8,\n",
    "    xlabel=L\"\\theta_1\", ylabel=L\"\\theta_2\",colorbar=false)\n",
    "plot!(C[:,1],C[:,2],alpha=0.2)"
   ]
  },
  {
   "cell_type": "code",
   "execution_count": null,
   "metadata": {},
   "outputs": [],
   "source": [
    "epsilon10e4_autocov = quantile(rho_autocov,0.1/100)\n",
    "epsilon10e4_dist    = quantile(rho_dist,0.1/100)\n",
    "theta_ac_auto = theta_s[rho_autocov .< epsilon10e4_autocov,:];\n",
    "theta_ac_dist = theta_s[rho_dist    .< epsilon10e4_dist,:];\n",
    "\n",
    "epsilon10e3_autocov = quantile(rho_autocov,1/100)\n",
    "epsilon10e3_dist    = quantile(rho_dist,1/100)\n",
    "theta_ac_auto10e3 = theta_s[rho_autocov .< epsilon10e3_autocov,:];\n",
    "theta_ac_dist10e3 = theta_s[rho_dist    .< epsilon10e3_dist,:];\n",
    "\n",
    "epsilon10e2_autocov = quantile(rho_autocov,10/100)\n",
    "epsilon10e2_dist    = quantile(rho_dist,10/100)\n",
    "theta_ac_auto10e2 = theta_s[rho_autocov .< epsilon10e2_autocov,:];\n",
    "theta_ac_dist10e2 = theta_s[rho_dist    .< epsilon10e2_dist,:];\n",
    "\n",
    "\n",
    "MH = C[1_000:end,:]\n",
    "\n",
    "θ1_marginal =  MH[:,1]\n",
    "θ2_marginal =  MH[:,2]\n",
    "h1 = density(theta_ac_auto[:,1],normalize=true,xlims=[-2,2],label=L\"\\epsilon=0.1\\%\")\n",
    "density!(theta_ac_auto10e3[:,1],normalize=true,xlims=[-2,2],label=L\"\\epsilon=1\\%\")\n",
    "density!(theta_ac_auto10e2[:,1],normalize=true,xlims=[-2,2],label=L\"\\epsilon=10\\%\")\n",
    "d1 = density!(θ1_marginal,label=\"True Posterior\",grid=false,framestyle=:box)\n",
    "h2 = density(theta_ac_auto[:,2],normalize=true,xlims=[-1,1],label=L\"\\epsilon=0.1\\%\")\n",
    "density!(theta_ac_auto10e3[:,2],normalize=true,xlims=[-1,1],label=L\"\\epsilon=1\\%\")\n",
    "density!(theta_ac_auto10e2[:,1],normalize=true,xlims=[-1,1],label=L\"\\epsilon=10\\%\")\n",
    "d2 = density!(θ2_marginal, label=\"True Posterior\",grid=false,framestyle=:box)\n",
    "s = plot(d1,d2,layout=2,size=(800,500))\n",
    "# savefig(s, \"./images/ABCmodel1_Marginal.png\")"
   ]
  },
  {
   "cell_type": "markdown",
   "metadata": {},
   "source": [
    "#### Comparing the Distance Metrics"
   ]
  },
  {
   "cell_type": "code",
   "execution_count": null,
   "metadata": {},
   "outputs": [],
   "source": [
    "plot(Plots.P2[(0,-1),(-2,1),(2,1),(0,-1)],fill=true,color=:orange,alpha=0.1,label=\"Prior\")\n",
    "scatter!(theta_ac_auto10e2[:,1],theta_ac_auto10e2[:,2],xlims=[-2,2],alpha=0.5,markerstrokewidth=0,\n",
    "    label=L\"\\epsilon = 10\\%\")\n",
    "scatter!(theta_ac_auto10e3[:,1],theta_ac_auto10e3[:,2],xlims=[-2,2],alpha=0.5,markerstrokewidth=0,\n",
    "    label=L\"\\epsilon = 1\\%\")\n",
    "scatter!(theta_ac_auto[:,1],theta_ac_auto[:,2],xlims=[-2,2],alpha=0.5,markerstrokewidth=0,\n",
    "    label=L\"\\epsilon = 0.1\\%\", grid=false, framestyle=:box)\n",
    "p1 = contour!(gθ1,gθ2, mamvn, fill=false,c=:black,levels=8,\n",
    "    xlabel=L\"\\theta_1\", ylabel=L\"\\theta_2\",colorbar=false)\n",
    "\n",
    "plot(Plots.P2[(0,-1),(-2,1),(2,1),(0,-1)],fill=true,color=:orange,alpha=0.1,label=\"Prior\")\n",
    "scatter!(theta_ac_dist10e2[:,1],theta_ac_dist10e2[:,2],xlims=[-2,2],alpha=0.5,markerstrokewidth=0,\n",
    "    label=L\"\\epsilon = 10\\%\")\n",
    "scatter!(theta_ac_dist10e3[:,1],theta_ac_dist10e3[:,2],xlims=[-2,2],alpha=0.5,markerstrokewidth=0,\n",
    "    label=L\"\\epsilon = 1\\%\")\n",
    "scatter!(theta_ac_dist[:,1],theta_ac_dist[:,2],xlims=[-2,2],alpha=0.5,markerstrokewidth=0,\n",
    "    label=L\"\\epsilon = 0.1\\%\",grid=false, framestyle=:box)\n",
    "p2 = contour!(gθ1,gθ2, mamvn, fill=false,c=:black,levels=8,\n",
    "    xlabel=L\"\\theta_1\", ylabel=L\"\\theta_2\",colorbar=false)\n",
    "s = plot(p1,p2,layout=2,size=(800,500))\n",
    "savefig(s,\"./images/ABCmodel1_Comparison.png\")"
   ]
  },
  {
   "cell_type": "markdown",
   "metadata": {},
   "source": [
    "### **Alorithm 3** - MCMC-ABC"
   ]
  },
  {
   "cell_type": "code",
   "execution_count": null,
   "metadata": {},
   "outputs": [],
   "source": [
    "# Step 1 - Initialisation of the MCMC sampler\n",
    "N = 10^3        # number of trials\n",
    "n = length(y) # sample size\n",
    "theta_s = rand_TriUniform(N)\n",
    "u       = randn(N,n+2)\n",
    "zmcmc       = genMA(u,theta_s,n,N);\n",
    "rho_autocov = mapslices(autocov_vectorize, zmcmc, dims =2)[:];\n",
    "epsilon10e4_autocov = quantile(rho_autocov,0.1/100)\n",
    "theta_init = theta_s[rho_autocov .< epsilon10e4_autocov,:][:];"
   ]
  },
  {
   "cell_type": "code",
   "execution_count": null,
   "metadata": {},
   "outputs": [],
   "source": [
    "epsilon10e4_autocov"
   ]
  },
  {
   "cell_type": "markdown",
   "metadata": {},
   "source": [
    "**ATTENTION**\n",
    "\n",
    "There was a mistake in the implementation of the ABC-MCMC, now it is correct."
   ]
  },
  {
   "cell_type": "code",
   "execution_count": null,
   "metadata": {},
   "outputs": [],
   "source": [
    "N     = (10^6)*2\n",
    "theta_mcmc = theta_init'\n",
    "theta_now  = theta_init\n",
    "epsilon = epsilon10e4_autocov*1\n",
    "# push!(theta_mcmc,theta_init)\n",
    "p = Progress(N)\n",
    "for i=1:N\n",
    "    theta_new = rand(MvNormal(theta_now,[1. 0.;0. 1.].*0.1))\n",
    "    u         = randn(n+2) \n",
    "    z_new     = MA.((1:n),Ref(u),Ref(theta_new))\n",
    "    if (theta_new[1]>-2 && theta_new[1]<2) && (sum(theta_new)>-1) && (theta_new[1]-theta_new[2] < 1) && (theta_new[2]<1)\n",
    "        alpha = 1\n",
    "    else\n",
    "        alpha = 0\n",
    "    end\n",
    "    if (rand() <= alpha) && (abcautocov_distance(y,z_new) <= epsilon)\n",
    "        theta_now = theta_new\n",
    "        theta_mcmc= vcat(theta_mcmc,theta_now')\n",
    "    end\n",
    "    next!(p)\n",
    "end\n",
    "# theta_mcmc = theta_mcmc'\n",
    "print(length(theta_mcmc[:,1]))"
   ]
  },
  {
   "cell_type": "code",
   "execution_count": null,
   "metadata": {},
   "outputs": [],
   "source": [
    "plot(Plots.P2[(0,-1),(-2,1),(2,1),(0,-1)],fill=true,color=:orange,alpha=0.1)\n",
    "scatter!(theta_mcmc[:,1],theta_mcmc[:,2],xlims=[-2,2],alpha=0.1,markerstrokewidth=0,c=\"#3498db\")\n",
    "contour!(gθ1,gθ2, mamvn, fill=false,c=:black,levels=8,\n",
    "    xlabel=L\"\\theta_1\", ylabel=L\"\\theta_2\",colorbar=false)"
   ]
  },
  {
   "cell_type": "code",
   "execution_count": null,
   "metadata": {},
   "outputs": [],
   "source": [
    "density(theta_mcmc[:,1],normalize=true,xlims=[-2,2],label=\"ABC-MCMC\")\n",
    "d1 = density!(θ1_marginal,label=\"True Posterior\",grid=false,framestyle=:box)\n",
    "density(theta_mcmc[:,2],normalize=true,xlims=[-2,2],label=\"ABC-MCMC\")\n",
    "d2 = density!(θ2_marginal,label=\"True Posterior\",grid=false, framestyle=:box)\n",
    "s = plot(d1,d2,layout=2,size=(800,500))\n",
    "savefig(s, \"./images/ABC-MCMC.png\")"
   ]
  },
  {
   "cell_type": "markdown",
   "metadata": {},
   "source": [
    "### **Alorithm 4** - ABC-PMC"
   ]
  },
  {
   "cell_type": "code",
   "execution_count": null,
   "metadata": {},
   "outputs": [],
   "source": [
    "Np = 10_000\n",
    "epsilons = epsilon10e4_autocov.*collect(10:-1:1);\n",
    "T = length(epsilons)\n",
    "\n",
    "θpmc = zeros(1,2)\n",
    "for i = 1:Np\n",
    "    θi = rand_TriUniform(1)\n",
    "    u         = randn(n+2) \n",
    "    z_new     = MA.((1:n),Ref(u),Ref(θi))\n",
    "    while abcautocov_distance(y,z_new) > epsilons[1]\n",
    "        θi = rand_TriUniform(1)\n",
    "        u         = randn(n+2) \n",
    "        z_new     = MA.((1:n),Ref(u),Ref(θi))\n",
    "    end\n",
    "    θpmc = vcat(θpmc, θi)\n",
    "end\n",
    "\n",
    "θpmc = [θpmc[2:end,:]]\n",
    "w   = [Weights(1/Np .* ones(Np))];\n",
    "for i = 2:T\n",
    "    w = vcat(w,[Weights(1/Np .* zeros(Np))])\n",
    "    θpmc = vcat(θpmc, [zeros(Np,2)])\n",
    "end\n",
    "\n",
    "Σemp = [var(θpmc[1][:,1],w[1],corrected=false),\n",
    "    var(θpmc[1][:,2],w[1],corrected=false)].*2\n",
    "\n",
    "ϕabcpmc(θ) = pdf(MvNormal(zeros(2),1),θ)\n",
    "for t = 2:T\n",
    "    p = Progress(Np)\n",
    "    for i= 1:Np\n",
    "        safe = 0\n",
    "        ρ = epsilons[t]+1\n",
    "        θnew = zeros(1,2)\n",
    "        θst  = zeros(1,2)\n",
    "        while (ρ > epsilons[t]) && (safe < 10000)\n",
    "            safe +=1\n",
    "            θst  = [sample(θpmc[t-1][:,1],w[t-1]),sample(θpmc[t-1][:,2],w[t-1])]\n",
    "            θnew = rand(MvNormal(θst,sqrt.(Σemp)))\n",
    "            if (θnew[1]>-2 && θnew[1]<2) && (sum(θnew)>-1) && (θnew[1]-θnew[2] < 1) && (θnew[2]<1)\n",
    "                u         = randn(n+2) \n",
    "                z_new     = MA.((1:n),Ref(u),Ref(θnew))\n",
    "                ρ    = abcautocov_distance(y,z_new)\n",
    "            else\n",
    "                ρ = epsilons[t]+1\n",
    "            end\n",
    "        end\n",
    "        if safe >= 10000\n",
    "            println(ρ,\" \",epsilons[t])\n",
    "            println(\"unsafe\")\n",
    "        end\n",
    "        θpmc[t][i,:] = θnew\n",
    "        if θnew[1]> 2\n",
    "            print(θnew)\n",
    "        end\n",
    "        δθ = θpmc[t][i,:]'.-θst\n",
    "        w[t][i] = (1/4.0) / sum(w[t-1].*ϕabcpmc(δθ[:,1:end]' * Σemp ))\n",
    "    next!(p)\n",
    "    end\n",
    "    Σemp = [var(θpmc[t][:,1],w[t],corrected=false),\n",
    "        var(θpmc[t][:,2],w[t],corrected=false)].*2\n",
    "end"
   ]
  },
  {
   "cell_type": "code",
   "execution_count": null,
   "metadata": {},
   "outputs": [],
   "source": [
    "plot(Plots.P2[(0,-1),(-2,1),(2,1),(0,-1)],fill=true,color=:orange,alpha=0.1)\n",
    "scatter!(θpmc[end][:,1],θpmc[end][:,2],alpha=0.3,markerstrokewidth=0,c=\"#3498db\")\n",
    "contour!(gθ1,gθ2, mamvn, fill=false,c=:black,levels=8,\n",
    "    xlabel=L\"\\theta_1\", ylabel=L\"\\theta_2\",colorbar=false)"
   ]
  },
  {
   "cell_type": "code",
   "execution_count": null,
   "metadata": {},
   "outputs": [],
   "source": [
    "density(θpmc[end][:,1],normalize=true,xlims=[-2,2],label=\"ABC-PMC\")\n",
    "d1 = density!(θ1_marginal,label=\"True Posterior\",grid=false,framestyle=:box)\n",
    "density(θpmc[end][:,2],normalize=true,xlims=[-2,2],label=\"ABC-PMC\")\n",
    "d2 = density!(θ2_marginal,label=\"True Posterior\",grid=false, framestyle=:box)\n",
    "s = plot(d1,d2,layout=2,size=(800,500))\n",
    "# savefig(s, \"./images/ABC-PMC.png\")"
   ]
  },
  {
   "cell_type": "markdown",
   "metadata": {},
   "source": [
    "## **Post-Processing ABC**"
   ]
  },
  {
   "cell_type": "code",
   "execution_count": null,
   "metadata": {},
   "outputs": [],
   "source": [
    "# Random.seed!(1)\n",
    "N = 10^6        # number of trials\n",
    "n = length(y) # sample size\n",
    "theta_s = rand_TriUniform(N)\n",
    "u       = randn(N,n+2)\n",
    "z       = genMA(u,theta_s,n,N);\n",
    "\n",
    "rho_autocov = mapslices(autocov_vectorize, z, dims =2)[:];\n",
    "epsilon10e4_autocov = quantile(rho_autocov,0.1/100)\n",
    "theta_ac_auto = theta_s[rho_autocov .< epsilon10e4_autocov,:];\n",
    "epsilon10e3_autocov = quantile(rho_autocov,1/100)\n",
    "theta_ac_auto10e3 = theta_s[rho_autocov .< epsilon10e3_autocov,:];\n",
    "epsilon10e2_autocov = quantile(rho_autocov,10/100)\n",
    "theta_ac_auto10e2 = theta_s[rho_autocov .< epsilon10e2_autocov,:];"
   ]
  },
  {
   "cell_type": "code",
   "execution_count": null,
   "metadata": {},
   "outputs": [],
   "source": [
    "function error_autocov(y,z)\n",
    "    ay = 0\n",
    "    az = 0\n",
    "    for i = 2:length(y)\n",
    "        ay +=y[i]*y[i-1]\n",
    "        az +=z[i]*z[i-1]\n",
    "    end\n",
    "    ay2 = 0\n",
    "    az2 = 0\n",
    "    for i = 3:length(y)\n",
    "        ay2 +=y[i]*y[i-2]\n",
    "        az2 +=z[i]*z[i-2]\n",
    "    end\n",
    "    rho = [(ay - az);(ay2 - az2)]\n",
    "    return rho\n",
    "end\n",
    "error_autocov_vectorize(z)    = error_autocov(y,z)\n",
    "e_autocov = mapslices(error_autocov_vectorize, z, dims =2);"
   ]
  },
  {
   "cell_type": "code",
   "execution_count": null,
   "metadata": {},
   "outputs": [],
   "source": [
    "theta_ac_auto10e2\n",
    "epsilon10e4_autocov\n",
    "rho_10e2 = rho_autocov[rho_autocov .< epsilon10e2_autocov,:];\n",
    "e_autocov10e2 = e_autocov[rho_autocov .< epsilon10e2_autocov,:];\n",
    "e_autocov10e4 = e_autocov[rho_autocov .< epsilon10e4_autocov,:];"
   ]
  },
  {
   "cell_type": "code",
   "execution_count": null,
   "metadata": {},
   "outputs": [],
   "source": [
    "p1 = scatter(e_autocov[1:20_000,1],theta_s[1:20_000,1],marker=:o)\n",
    "# p1 = scatter!(e_autocov[1:10_000,2],theta_s[1:10_000,1],marker=:o)\n",
    "p1 = vline!([0,2])\n",
    "p2 = scatter(e_autocov[1:20_000,1],theta_s[1:20_000,2],marker=:o)\n",
    "p2 = scatter!(e_autocov[1:20_000,2],theta_s[1:20_000,2],marker=:o)\n",
    "p2 = vline!([0,2])\n",
    "plot(p1,p2, layout=2)"
   ]
  },
  {
   "cell_type": "code",
   "execution_count": null,
   "metadata": {},
   "outputs": [],
   "source": [
    "p1 = scatter(e_autocov[1:20_000,1],theta_s[1:20_000,1],marker=:o,\n",
    "    grid=false, framestyle=:box,legend=false,xlabel=L\"\\eta(z) - \\eta(y)\",ylabel=L\"\\theta\")\n",
    "savefig(p1, \"./images/RegressionABC.png\")"
   ]
  },
  {
   "cell_type": "code",
   "execution_count": null,
   "metadata": {},
   "outputs": [],
   "source": [
    "p1 = scatter(e_autocov10e4[:,1],theta_ac_auto[:,1],)\n",
    "# p1 = scatter!(e_autocov10e4[:,2],theta_ac_auto[:,2],)\n",
    "p2 = scatter(e_autocov10e2[:,1],theta_ac_auto10e2[:,1],)\n",
    "# p2 = scatter!(e_autocov10e2[:,2],theta_ac_auto10e2[:,2],)\n",
    "plot(p1,p2,layout=2)"
   ]
  },
  {
   "cell_type": "markdown",
   "metadata": {},
   "source": [
    "### Ajustar o cálculo dos pesos. Deve-se usar o Epanechnikov em $||s_i - s||$"
   ]
  },
  {
   "cell_type": "code",
   "execution_count": null,
   "metadata": {},
   "outputs": [],
   "source": [
    "σ10e2 = maximum(sqrt.(e_autocov10e2.^2))\n",
    "plot(Epanechnikov(0,σ10e2))\n",
    "W10e2 = pdf.(Epanechnikov(0,σ10e2),sqrt.(rho_10e2)[:])\n",
    "W10e2s2 = pdf.(Epanechnikov(0,σ10e2),e_autocov10e2[:,2])\n",
    "# W10e4 = [pdf.(Epanechnikov(0,σ10e4),e_autocov10e2[:,1]) pdf.(Epanechnikov(0,σ10e4),e_autocov10e2[:,2])]; #Weights"
   ]
  },
  {
   "cell_type": "code",
   "execution_count": null,
   "metadata": {},
   "outputs": [],
   "source": [
    "using LsqFit, GLM"
   ]
  },
  {
   "cell_type": "code",
   "execution_count": null,
   "metadata": {},
   "outputs": [],
   "source": [
    "m(t, p) = p[1].*t[:,1].+p[2]\n",
    "model(t, p) = p[1].*t[:,1].+p[2].*t[:,2] .+ p[3]\n",
    "p0 = [0.5, 0.1]\n",
    "# fit = curve_fit(m, e_autocov10e2, theta_ac_auto10e2[:,1],W10e2,p0)\n",
    "# fit.param\n",
    "p1 = [0.5, 0.5, 0.1]\n",
    "# fit = curve_fit(model, e_autocov10e2, theta_ac_auto10e2[:,1],p1)\n",
    "fit_t1 = curve_fit(model, e_autocov10e2, theta_ac_auto10e2[:,1],W10e2,p1)\n",
    "fit_t2 = curve_fit(model, e_autocov10e2, theta_ac_auto10e2[:,2],W10e2,p1)\n",
    "# fit_s1 = curve_fit(model, e_autocov10e2, theta_ac_auto10e2[:,1],W10e2s2,p1)\n",
    "fit_t1.param, fit_t2.param"
   ]
  },
  {
   "cell_type": "code",
   "execution_count": null,
   "metadata": {},
   "outputs": [],
   "source": [
    "p1 = scatter(e_autocov[1:20_000,1],theta_s[1:20_000,1],marker=:o,size=(800,400),\n",
    "    grid=false, framestyle=:box,legend=false,xlabel=L\"\\eta(z) - \\eta(y)\",ylabel=L\"\\theta_1\")\n",
    "p2 = scatter(e_autocov10e2[:,1],theta_ac_auto10e2[:,1],\n",
    "    grid=false, framestyle=:box,legend=false,xlabel=L\"\\eta(z) - \\eta(y)\",ylabel=L\"\\theta_1\")\n",
    "p3 = plot!(e_autocov10e2[:,2],fit_t1.param[1].*e_autocov10e2[:,2].+fit_t1.param[3],label=\"Regression Line\",\n",
    "    size=(800,400))\n",
    "p  = plot(p1,p3, layout=2)\n",
    "savefig(p, \"./images/RegressionABC1.png\")"
   ]
  },
  {
   "cell_type": "code",
   "execution_count": null,
   "metadata": {},
   "outputs": [],
   "source": [
    "theta_r = hcat(theta_ac_auto10e2[:,1] - model(e_autocov10e2,fit_t1.param).+fit_t1.param[3],\n",
    "    theta_ac_auto10e2[:,2] - model(e_autocov10e2,fit_t2.param).+fit_t2.param[3]);"
   ]
  },
  {
   "cell_type": "code",
   "execution_count": null,
   "metadata": {},
   "outputs": [],
   "source": [
    "density(theta_ac_auto10e2[:,1],normalize=true,xlims=[-2,2],label=L\"\\epsilon=10\\%\")\n",
    "d1 = density!(θ1_marginal,label=\"True Marginal\")\n",
    "density!(theta_r[:,1],normalize=true, grid=false, framestyle=:box,label=\"ABC Correction\")\n",
    "density(theta_ac_auto10e2[:,1],normalize=true,xlims=[-1,1],label=L\"\\epsilon=10\\%\")\n",
    "d2 = density!(θ2_marginal, label=\"True Marginal\")\n",
    "density!(theta_r[:,2],normalize=true, grid=false, framestyle=:box,label=\"ABC Correction\")\n",
    "p = plot(d1,d2,layout=2,size=(800,500))\n",
    "savefig(p, \"./images/ABCRegression_Marginal.png\")"
   ]
  },
  {
   "cell_type": "code",
   "execution_count": null,
   "metadata": {},
   "outputs": [],
   "source": []
  }
 ],
 "metadata": {
  "kernelspec": {
   "display_name": "Julia 1.0.5",
   "language": "julia",
   "name": "julia-1.0"
  },
  "language_info": {
   "file_extension": ".jl",
   "mimetype": "application/julia",
   "name": "julia",
   "version": "1.0.5"
  }
 },
 "nbformat": 4,
 "nbformat_minor": 4
}
