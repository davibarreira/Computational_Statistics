{
 "cells": [
  {
   "cell_type": "markdown",
   "metadata": {},
   "source": [
    "# Model Selection - ABC"
   ]
  },
  {
   "cell_type": "code",
   "execution_count": 1,
   "metadata": {},
   "outputs": [
    {
     "data": {
      "text/plain": [
       "Plots.PyPlotBackend()"
      ]
     },
     "execution_count": 1,
     "metadata": {},
     "output_type": "execute_result"
    }
   ],
   "source": [
    "using Distributions, StatsPlots, Plots, StatsBase, LinearAlgebra, KernelDensity\n",
    "using LaTeXStrings\n",
    "pyplot()"
   ]
  },
  {
   "cell_type": "markdown",
   "metadata": {},
   "source": [
    "#### **Auxiliary Functions**"
   ]
  },
  {
   "cell_type": "markdown",
   "metadata": {},
   "source": [
    "Sample from Triangular Uniform "
   ]
  },
  {
   "cell_type": "code",
   "execution_count": 22,
   "metadata": {
    "jupyter": {
     "source_hidden": true
    }
   },
   "outputs": [],
   "source": [
    "function rand_TriUniform(N=1)\n",
    "    trisample = zeros(N,2)\n",
    "    count = 0\n",
    "    while count < N\n",
    "        theta = [4*rand()-2;2*rand()-1]\n",
    "        if (theta[1]>-2 && theta[1]<2) && (sum(theta)>-1) && (theta[1]-theta[2] < 1)\n",
    "            count+=1\n",
    "            trisample[count,:] = theta\n",
    "        end\n",
    "    end\n",
    "    return trisample\n",
    "end;"
   ]
  },
  {
   "cell_type": "markdown",
   "metadata": {},
   "source": [
    "Moving Averge Functions"
   ]
  },
  {
   "cell_type": "code",
   "execution_count": 155,
   "metadata": {},
   "outputs": [],
   "source": [
    "MA2(current, u,t) = u[current+2] + u[current + 1] * t[1] + u[current] * t[2]\n",
    "\n",
    "function genMA2(u,t,n,N)\n",
    "    z = zeros(N,n)\n",
    "        for i=1:N\n",
    "            z[i,:] = MA2.((1:n),Ref(u[i,:]),Ref(t[i,:]))\n",
    "        end\n",
    "    return z\n",
    "end\n",
    "\n",
    "MA1(current, u,t) = u[current+1] + u[current] * t[1]\n",
    "\n",
    "function genMA1(u,t,n,N)\n",
    "    z = zeros(N,n)\n",
    "        for i=1:N\n",
    "            z[i,:] = MA1.((1:n),Ref(u[i,:]),Ref(t[i,:]))\n",
    "        end\n",
    "    return z\n",
    "end;"
   ]
  },
  {
   "cell_type": "markdown",
   "metadata": {},
   "source": [
    "AutoCovariance"
   ]
  },
  {
   "cell_type": "code",
   "execution_count": 156,
   "metadata": {},
   "outputs": [],
   "source": [
    "function abcautocov_distance(y,z)\n",
    "    ay = 0\n",
    "    az = 0\n",
    "    for i = 2:length(y)\n",
    "        ay +=y[i]*y[i-1]\n",
    "        az +=z[i]*z[i-1]\n",
    "    end\n",
    "    ay2 = 0\n",
    "    az2 = 0\n",
    "    for i = 3:length(y)\n",
    "        ay2 +=y[i]*y[i-2]\n",
    "        az2 +=z[i]*z[i-2]\n",
    "    end\n",
    "    rho = (ay - az)^2+(ay2 - az2)^2\n",
    "    return rho\n",
    "end\n",
    "autocov_vectorize(z)    = abcautocov_distance(y,z);"
   ]
  },
  {
   "cell_type": "markdown",
   "metadata": {},
   "source": [
    "Likelihood for Moving Average "
   ]
  },
  {
   "cell_type": "code",
   "execution_count": 157,
   "metadata": {},
   "outputs": [],
   "source": [
    "function Ger_SimgaM2(θ1,θ2, y)\n",
    "    Σ = zeros(100,100)\n",
    "    for i=1:length(y)\n",
    "        if i == 1\n",
    "            Σ[i,i]   = 1 + θ1^2 + θ2^2\n",
    "            Σ[i,i+1] = θ1 + θ1*θ2\n",
    "            Σ[i,i+2] = θ2\n",
    "        elseif i == 2\n",
    "            Σ[i,i-1] = θ1 + θ1*θ2\n",
    "            Σ[i,i]   = 1 + θ1^2 + θ2^2\n",
    "            Σ[i,i+1] = θ1 + θ1*θ2\n",
    "            Σ[i,i+2] = θ2\n",
    "        elseif i == 99\n",
    "            Σ[i,i-2] = θ2\n",
    "            Σ[i,i-1] = θ1 + θ1*θ2\n",
    "            Σ[i,i]   = 1 + θ1^2 + θ2^2\n",
    "            Σ[i,i+1] = θ1 + θ1*θ2\n",
    "        elseif i == 100\n",
    "            Σ[i,i-2] = θ2\n",
    "            Σ[i,i-1] = θ1 + θ1*θ2\n",
    "            Σ[i,i]   = 1 + θ1^2 + θ2^2\n",
    "        else\n",
    "            Σ[i,i-2] = θ2\n",
    "            Σ[i,i-1] = θ1 + θ1*θ2\n",
    "            Σ[i,i]   = 1 + θ1^2 + θ2^2\n",
    "            Σ[i,i+1] = θ1 + θ1*θ2\n",
    "            Σ[i,i+2] = θ2\n",
    "        end\n",
    "    end\n",
    "\n",
    "    return Σ\n",
    "end\n",
    "\n",
    "function Ger_SimgaM1(θ1,θ2, y)\n",
    "    Σ = zeros(100,100)\n",
    "    for i=1:length(y)\n",
    "        if i == 1\n",
    "            Σ[i,i]   = 1 + θ1^2\n",
    "            Σ[i,i+1] = θ1\n",
    "        elseif i == 2\n",
    "            Σ[i,i-1] = θ1\n",
    "            Σ[i,i]   = 1 + θ1^2\n",
    "            Σ[i,i+1] = θ1\n",
    "        elseif i == 99\n",
    "            Σ[i,i-1] = θ1\n",
    "            Σ[i,i]   = 1 + θ1^2\n",
    "            Σ[i,i+1] = θ1\n",
    "        elseif i == 100\n",
    "            Σ[i,i-1] = θ1\n",
    "            Σ[i,i]   = 1 + θ1^2\n",
    "        else\n",
    "            Σ[i,i-1] = θ1\n",
    "            Σ[i,i]   = 1 + θ1^2\n",
    "            Σ[i,i+1] = θ1\n",
    "        end\n",
    "    end\n",
    "\n",
    "    return Σ\n",
    "    end;"
   ]
  },
  {
   "cell_type": "markdown",
   "metadata": {},
   "source": [
    "#### Synthetic Data"
   ]
  },
  {
   "cell_type": "code",
   "execution_count": 204,
   "metadata": {},
   "outputs": [],
   "source": [
    "using Random\n",
    "Random.seed!(3)\n",
    "theta = [0.6;0.38]\n",
    "n     = 100\n",
    "u     = randn(n+2)\n",
    "y     = MA2.((1:n),Ref(u),Ref(theta));"
   ]
  },
  {
   "cell_type": "markdown",
   "metadata": {},
   "source": [
    "#### Contour Plot"
   ]
  },
  {
   "cell_type": "code",
   "execution_count": 205,
   "metadata": {},
   "outputs": [],
   "source": [
    "# Contour Plot - True posterior\n",
    "gθ1      = 0:0.02:1\n",
    "gθ2      = -0.5:0.02:0.8\n",
    "gridθ1   = repeat(reshape(gθ1, 1, :), length(gθ2), 1)\n",
    "gridθ2   = repeat(gθ2, 1, length(gθ1))\n",
    "mamvnM2(θ1,θ2) = pdf(MvNormal(zeros(100),Ger_SimgaM2(θ1,θ2,y)),y)\n",
    "mamvnM1(θ1,θ2) = pdf(MvNormal(zeros(100),Ger_SimgaM1(θ1,θ2,y)),y);"
   ]
  },
  {
   "cell_type": "code",
   "execution_count": 206,
   "metadata": {},
   "outputs": [
    {
     "data": {
      "image/png": "[encoded data removed]"
     },
     "execution_count": 206,
     "metadata": {},
     "output_type": "execute_result"
    }
   ],
   "source": [
    "plot(Plots.P2[(0,-1),(-2,1),(2,1),(0,-1)],fill=true,color=:orange,alpha=0.1)\n",
    "p1 = contour!(gθ1,gθ2, mamvnM2, fill=false,c=:black,levels=8,\n",
    "    xlabel=L\"\\theta_1\", ylabel=L\"\\theta_2\",colorbar=false)"
   ]
  },
  {
   "cell_type": "code",
   "execution_count": 207,
   "metadata": {},
   "outputs": [
    {
     "data": {
      "text/plain": [
       "1.4049039649715063e-60"
      ]
     },
     "execution_count": 207,
     "metadata": {},
     "output_type": "execute_result"
    }
   ],
   "source": [
    "Ns = 20_000\n",
    "# Z = mamvnM2.(rand(Ns),rand(Ns) .- 0.5)\n",
    "Z = mamvnM2.(rand(Ns),rand(Ns))\n",
    "ZM2 = sum(Z)/Ns\n",
    "ZM1 = sum(mamvnM1.(rand(Ns),0))/Ns"
   ]
  },
  {
   "cell_type": "code",
   "execution_count": 208,
   "metadata": {},
   "outputs": [
    {
     "data": {
      "text/plain": [
       "(20.024637574860527, 0.9524367544296832, 0.04756324557031677)"
      ]
     },
     "execution_count": 208,
     "metadata": {},
     "output_type": "execute_result"
    }
   ],
   "source": [
    "BF = (ZM2/4)/(ZM1/2)\n",
    "PM2= (BF)/(1+BF)\n",
    "PM1= 1-(BF)/(1+BF)\n",
    "BF,PM2,PM1"
   ]
  },
  {
   "cell_type": "code",
   "execution_count": 210,
   "metadata": {},
   "outputs": [
    {
     "data": {
      "image/png": "[encoded data removed]"
     },
     "execution_count": 210,
     "metadata": {},
     "output_type": "execute_result"
    }
   ],
   "source": [
    "plot(gθ1,exp.(log.(mamvnM1.(gθ1,0)) .- log(ZM1)))"
   ]
  },
  {
   "cell_type": "markdown",
   "metadata": {},
   "source": [
    "### Bayes Factor - Real value?"
   ]
  },
  {
   "cell_type": "code",
   "execution_count": null,
   "metadata": {},
   "outputs": [],
   "source": []
  },
  {
   "cell_type": "markdown",
   "metadata": {},
   "source": [
    "## ABC Model Choice"
   ]
  },
  {
   "cell_type": "code",
   "execution_count": 211,
   "metadata": {},
   "outputs": [
    {
     "data": {
      "text/plain": [
       "16.69488584408776"
      ]
     },
     "execution_count": 211,
     "metadata": {},
     "output_type": "execute_result"
    }
   ],
   "source": [
    "N = 10^6        # number of trials\n",
    "n = length(y) # sample size\n",
    "theta_ms= rand_TriUniform(N)\n",
    "u       = randn(N,n+2)\n",
    "zm2     = genMA2(u,theta_ms,n,N);\n",
    "\n",
    "rho_M2 = mapslices(autocov_vectorize, zm2, dims =2)[:];\n",
    "epsilon10e4_M2 = quantile(rho_M2[:],0.1/100)"
   ]
  },
  {
   "cell_type": "code",
   "execution_count": 231,
   "metadata": {},
   "outputs": [],
   "source": [
    "Nm = 10_000\n",
    "mi = zeros(Nm)\n",
    "θM = zeros(Nm,2)\n",
    "for i = 1:Nm\n",
    "    M = 0\n",
    "    θm= [0.,0.]\n",
    "    ρ = epsilon10e4_M2*2\n",
    "    while ρ > epsilon10e4_M2\n",
    "        M  = rand(1:2)\n",
    "        u  = randn(n+2)\n",
    "        if M == 1\n",
    "            θm = rand(2).*2 .-1\n",
    "            zm = MA1.((1:n),Ref(u),Ref(θm));\n",
    "        else\n",
    "            θm = rand_TriUniform(1)\n",
    "            zm = MA2.((1:n),Ref(u),Ref(θm));\n",
    "        end\n",
    "        ρ = abcautocov_distance(y,zm)\n",
    "    end \n",
    "    mi[i]   = M\n",
    "    θM[i,:] = θm\n",
    "end"
   ]
  },
  {
   "cell_type": "code",
   "execution_count": 232,
   "metadata": {},
   "outputs": [
    {
     "data": {
      "text/plain": [
       "0.9143"
      ]
     },
     "execution_count": 232,
     "metadata": {},
     "output_type": "execute_result"
    }
   ],
   "source": [
    "sum(mi .== 2)/Nm"
   ]
  }
 ],
 "metadata": {
  "kernelspec": {
   "display_name": "Julia 1.0.5",
   "language": "julia",
   "name": "julia-1.0"
  },
  "language_info": {
   "file_extension": ".jl",
   "mimetype": "application/julia",
   "name": "julia",
   "version": "1.0.5"
  }
 },
 "nbformat": 4,
 "nbformat_minor": 4
}
