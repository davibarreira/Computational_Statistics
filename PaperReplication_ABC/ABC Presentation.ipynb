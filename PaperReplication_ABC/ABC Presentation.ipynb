{
 "cells": [
  {
   "cell_type": "markdown",
   "metadata": {},
   "source": [
    "# ABC Presentation"
   ]
  },
  {
   "cell_type": "code",
   "execution_count": 2,
   "metadata": {},
   "outputs": [
    {
     "data": {
      "text/plain": [
       "Plots.PyPlotBackend()"
      ]
     },
     "execution_count": 2,
     "metadata": {},
     "output_type": "execute_result"
    }
   ],
   "source": [
    "using Distributions, StatsPlots, Plots, StatsBase, LinearAlgebra, KernelDensity\n",
    "using LaTeXStrings\n",
    "using ProgressMeter\n",
    "using VegaLite\n",
    "using DataFrames\n",
    "pyplot()"
   ]
  },
  {
   "cell_type": "markdown",
   "metadata": {},
   "source": [
    "### **Alorithm 1** - Likelihood-free rejection sampler 1\n",
    "Let's use sampling from Uniform with binomial likelihood function to illustrate this algorithm.\n"
   ]
  },
  {
   "cell_type": "code",
   "execution_count": 3,
   "metadata": {},
   "outputs": [],
   "source": [
    "n, x = 8, 6 #Binomial experiment\n",
    "N = 1000    #sample\n",
    "\n",
    "# Sample θ' from prior π(θ)\n",
    "theta_s = rand(Beta(1,1),N)\n",
    "\n",
    "# Generate z from p(.|θ')\n",
    "z       = rand.(Binomial.(n,theta_s))\n",
    "theta_a = theta_s[z .== x];\n",
    "v = collect(range(0, stop=1, length=N));"
   ]
  },
  {
   "cell_type": "code",
   "execution_count": 4,
   "metadata": {},
   "outputs": [
    {
     "data": {
      "image/png": "[encoded data removed]"
     },
     "execution_count": 4,
     "metadata": {},
     "output_type": "execute_result"
    }
   ],
   "source": [
    "histogram(theta_a,normalize=true,alpha=0.5)\n",
    "plot!(Beta(x+1,n-x+1),label=L\"p(\\theta \\mid x)\")\n",
    "plot!(Beta(1,1), label =L\"\\pi(\\theta)\")"
   ]
  },
  {
   "cell_type": "code",
   "execution_count": 5,
   "metadata": {
    "jupyter": {
     "source_hidden": true
    }
   },
   "outputs": [
    {
     "name": "stderr",
     "output_type": "stream",
     "text": [
      "WARN Can not resolve event source: window\n",
      "WARN Can not resolve event source: window\n",
      "WARN Can not resolve event source: window\n",
      "WARN Can not resolve event source: window\n"
     ]
    },
    {
     "data": {
      "application/vnd.vegalite.v3+json": {
       "data": {
        "values": [
         {
          "x1": 8,
          "x2": 1,
          "x3": 0.904671424403876,
          "x4": 1
         },
         {
          "x1": 5,
          "x2": 1,
          "x3": 0.8839274642163673,
          "x4": 2
         },
         {
          "x1": 3,
          "x2": 1,
          "x3": 0.24871095164495854,
          "x4": 3
         },
         {
          "x1": 2,
          "x2": 1,
          "x3": 0.18467897969548872,
          "x4": 4
         },
         {
          "x1": 1,
          "x2": 1,
          "x3": 0.3747430683629014,
          "x4": 5
         },
         {
          "x1": 1,
          "x2": 2,
          "x3": 0.12945307754164875,
          "x4": 6
         },
         {
          "x1": 5,
          "x2": 2,
          "x3": 0.39251687931500656,
          "x4": 7
         },
         {
          "x1": 5,
          "x2": 3,
          "x3": 0.7565237853125562,
          "x4": 8
         },
         {
          "x1": 7,
          "x2": 1,
          "x3": 0.661765961600758,
          "x4": 9
         },
         {
          "x1": 8,
          "x2": 2,
          "x3": 0.8894610149242176,
          "x4": 10
         },
         {
          "x1": 4,
          "x2": 1,
          "x3": 0.24559654861509064,
          "x4": 11
         },
         {
          "x1": 0,
          "x2": 1,
          "x3": 0.026403142800155446,
          "x4": 12
         },
         {
          "x1": 3,
          "x2": 2,
          "x3": 0.8339654975326316,
          "x4": 13
         },
         {
          "x1": 5,
          "x2": 4,
          "x3": 0.5558738665727373,
          "x4": 14
         },
         {
          "x1": 0,
          "x2": 2,
          "x3": 0.021593904925884786,
          "x4": 15
         },
         {
          "x1": 7,
          "x2": 2,
          "x3": 0.6310247942058983,
          "x4": 16
         },
         {
          "x1": 0,
          "x2": 3,
          "x3": 0.019489901492377327,
          "x4": 17
         },
         {
          "x1": 0,
          "x2": 4,
          "x3": 0.4083285866078537,
          "x4": 18
         },
         {
          "x1": 4,
          "x2": 2,
          "x3": 0.6257978061155497,
          "x4": 19
         },
         {
          "x1": 3,
          "x2": 3,
          "x3": 0.3705275240460663,
          "x4": 20
         },
         {
          "x1": 6,
          "x2": 1,
          "x3": 0.5904732980499808,
          "x4": 21
         },
         {
          "x1": 2,
          "x2": 2,
          "x3": 0.2656635542649781,
          "x4": 22
         },
         {
          "x1": 4,
          "x2": 3,
          "x3": 0.45272742347830763,
          "x4": 23
         },
         {
          "x1": 0,
          "x2": 5,
          "x3": 0.017302854437495647,
          "x4": 24
         },
         {
          "x1": 5,
          "x2": 5,
          "x3": 0.24797795614519394,
          "x4": 25
         },
         {
          "x1": 5,
          "x2": 6,
          "x3": 0.5072223468987603,
          "x4": 26
         },
         {
          "x1": 7,
          "x2": 3,
          "x3": 0.57675585162302,
          "x4": 27
         },
         {
          "x1": 0,
          "x2": 6,
          "x3": 0.0518235237749644,
          "x4": 28
         },
         {
          "x1": 8,
          "x2": 3,
          "x3": 0.8090354846113879,
          "x4": 29
         },
         {
          "x1": 6,
          "x2": 2,
          "x3": 0.44980332309630816,
          "x4": 30
         },
         {
          "x1": 8,
          "x2": 4,
          "x3": 0.9715267224848773,
          "x4": 31
         },
         {
          "x1": 5,
          "x2": 7,
          "x3": 0.30495410640913545,
          "x4": 32
         },
         {
          "x1": 3,
          "x2": 4,
          "x3": 0.42925668122178173,
          "x4": 33
         },
         {
          "x1": 5,
          "x2": 8,
          "x3": 0.47274751636737233,
          "x4": 34
         },
         {
          "x1": 6,
          "x2": 3,
          "x3": 0.8011913745793904,
          "x4": 35
         },
         {
          "x1": 6,
          "x2": 4,
          "x3": 0.8049408047513041,
          "x4": 36
         },
         {
          "x1": 6,
          "x2": 5,
          "x3": 0.8449556142681885,
          "x4": 37
         },
         {
          "x1": 8,
          "x2": 5,
          "x3": 0.8996822468276817,
          "x4": 38
         },
         {
          "x1": 7,
          "x2": 4,
          "x3": 0.5145561887546675,
          "x4": 39
         },
         {
          "x1": 1,
          "x2": 3,
          "x3": 0.3384239140029235,
          "x4": 40
         },
         {
          "x1": 4,
          "x2": 4,
          "x3": 0.6392526230779457,
          "x4": 41
         },
         {
          "x1": 0,
          "x2": 7,
          "x3": 0.10922665652504224,
          "x4": 42
         },
         {
          "x1": 7,
          "x2": 5,
          "x3": 0.7264541770155701,
          "x4": 43
         },
         {
          "x1": 2,
          "x2": 3,
          "x3": 0.3129423717921583,
          "x4": 44
         },
         {
          "x1": 3,
          "x2": 5,
          "x3": 0.40580438809964586,
          "x4": 45
         },
         {
          "x1": 7,
          "x2": 6,
          "x3": 0.9301589503444841,
          "x4": 46
         },
         {
          "x1": 2,
          "x2": 4,
          "x3": 0.07406882537949284,
          "x4": 47
         },
         {
          "x1": 1,
          "x2": 4,
          "x3": 0.33991506050372766,
          "x4": 48
         },
         {
          "x1": 0,
          "x2": 8,
          "x3": 0.4611152127970003,
          "x4": 49
         },
         {
          "x1": 7,
          "x2": 7,
          "x3": 0.8114843534476183,
          "x4": 50
         },
         {
          "x1": 4,
          "x2": 5,
          "x3": 0.30093019756963035,
          "x4": 51
         },
         {
          "x1": 8,
          "x2": 6,
          "x3": 0.8931790602454408,
          "x4": 52
         },
         {
          "x1": 8,
          "x2": 7,
          "x3": 0.7452682228458464,
          "x4": 53
         },
         {
          "x1": 0,
          "x2": 9,
          "x3": 0.006946708140842285,
          "x4": 54
         },
         {
          "x1": 2,
          "x2": 5,
          "x3": 0.23095417776374325,
          "x4": 55
         },
         {
          "x1": 1,
          "x2": 5,
          "x3": 0.4167465793008133,
          "x4": 56
         },
         {
          "x1": 2,
          "x2": 6,
          "x3": 0.28530214638721174,
          "x4": 57
         },
         {
          "x1": 8,
          "x2": 8,
          "x3": 0.978029031049496,
          "x4": 58
         },
         {
          "x1": 7,
          "x2": 8,
          "x3": 0.8828071105692551,
          "x4": 59
         },
         {
          "x1": 7,
          "x2": 9,
          "x3": 0.6604318188168556,
          "x4": 60
         },
         {
          "x1": 6,
          "x2": 6,
          "x3": 0.9334596842581008,
          "x4": 61
         },
         {
          "x1": 5,
          "x2": 9,
          "x3": 0.697342747979369,
          "x4": 62
         },
         {
          "x1": 2,
          "x2": 7,
          "x3": 0.2853679583896644,
          "x4": 63
         },
         {
          "x1": 7,
          "x2": 10,
          "x3": 0.8662855860309914,
          "x4": 64
         },
         {
          "x1": 1,
          "x2": 6,
          "x3": 0.17965777836359825,
          "x4": 65
         },
         {
          "x1": 2,
          "x2": 8,
          "x3": 0.22589378879446428,
          "x4": 66
         },
         {
          "x1": 5,
          "x2": 10,
          "x3": 0.3947374142154507,
          "x4": 67
         },
         {
          "x1": 5,
          "x2": 11,
          "x3": 0.48648535749131444,
          "x4": 68
         },
         {
          "x1": 7,
          "x2": 11,
          "x3": 0.9198184272327853,
          "x4": 69
         },
         {
          "x1": 3,
          "x2": 6,
          "x3": 0.3338249468201004,
          "x4": 70
         },
         {
          "x1": 7,
          "x2": 12,
          "x3": 0.5089095623060989,
          "x4": 71
         },
         {
          "x1": 1,
          "x2": 7,
          "x3": 0.06942818455132704,
          "x4": 72
         },
         {
          "x1": 3,
          "x2": 7,
          "x3": 0.28446550004248294,
          "x4": 73
         },
         {
          "x1": 2,
          "x2": 9,
          "x3": 0.14741912018707992,
          "x4": 74
         },
         {
          "x1": 5,
          "x2": 12,
          "x3": 0.6782435218092374,
          "x4": 75
         },
         {
          "x1": 7,
          "x2": 13,
          "x3": 0.9127235590651533,
          "x4": 76
         },
         {
          "x1": 0,
          "x2": 10,
          "x3": 0.10956831742999387,
          "x4": 77
         },
         {
          "x1": 4,
          "x2": 6,
          "x3": 0.27237484999003114,
          "x4": 78
         },
         {
          "x1": 2,
          "x2": 10,
          "x3": 0.37787096890340965,
          "x4": 79
         },
         {
          "x1": 8,
          "x2": 9,
          "x3": 0.9991974686334727,
          "x4": 80
         },
         {
          "x1": 0,
          "x2": 11,
          "x3": 0.019116492117933738,
          "x4": 81
         },
         {
          "x1": 1,
          "x2": 8,
          "x3": 0.06276638564145448,
          "x4": 82
         },
         {
          "x1": 4,
          "x2": 7,
          "x3": 0.4355079287007202,
          "x4": 83
         },
         {
          "x1": 7,
          "x2": 14,
          "x3": 0.7057719373813615,
          "x4": 84
         },
         {
          "x1": 6,
          "x2": 7,
          "x3": 0.5589153968706679,
          "x4": 85
         },
         {
          "x1": 7,
          "x2": 15,
          "x3": 0.6013857892034852,
          "x4": 86
         },
         {
          "x1": 4,
          "x2": 8,
          "x3": 0.4892277940176854,
          "x4": 87
         },
         {
          "x1": 5,
          "x2": 13,
          "x3": 0.7604585623255163,
          "x4": 88
         },
         {
          "x1": 1,
          "x2": 9,
          "x3": 0.3035297724432397,
          "x4": 89
         },
         {
          "x1": 2,
          "x2": 11,
          "x3": 0.17835263450821878,
          "x4": 90
         },
         {
          "x1": 0,
          "x2": 12,
          "x3": 0.039979639753695284,
          "x4": 91
         },
         {
          "x1": 3,
          "x2": 8,
          "x3": 0.3911991921704202,
          "x4": 92
         },
         {
          "x1": 2,
          "x2": 12,
          "x3": 0.6133811053170604,
          "x4": 93
         },
         {
          "x1": 4,
          "x2": 9,
          "x3": 0.34123607340039847,
          "x4": 94
         },
         {
          "x1": 1,
          "x2": 10,
          "x3": 0.07898506857421961,
          "x4": 95
         },
         {
          "x1": 7,
          "x2": 16,
          "x3": 0.9854743917247881,
          "x4": 96
         },
         {
          "x1": 2,
          "x2": 13,
          "x3": 0.14779597737047512,
          "x4": 97
         },
         {
          "x1": 6,
          "x2": 8,
          "x3": 0.6284589874136663,
          "x4": 98
         },
         {
          "x1": 5,
          "x2": 14,
          "x3": 0.4815473258260833,
          "x4": 99
         },
         {
          "x1": 8,
          "x2": 10,
          "x3": 0.76856675398435,
          "x4": 100
         },
         {
          "x1": 1,
          "x2": 11,
          "x3": 0.49822826396241093,
          "x4": 101
         },
         {
          "x1": 5,
          "x2": 15,
          "x3": 0.8190665359760307,
          "x4": 102
         },
         {
          "x1": 6,
          "x2": 9,
          "x3": 0.5073930902001951,
          "x4": 103
         },
         {
          "x1": 0,
          "x2": 13,
          "x3": 0.1292493603650405,
          "x4": 104
         },
         {
          "x1": 1,
          "x2": 12,
          "x3": 0.11845875473660142,
          "x4": 105
         },
         {
          "x1": 7,
          "x2": 17,
          "x3": 0.8533925483038829,
          "x4": 106
         },
         {
          "x1": 8,
          "x2": 11,
          "x3": 0.8662153432355033,
          "x4": 107
         },
         {
          "x1": 1,
          "x2": 13,
          "x3": 0.1716467884743755,
          "x4": 108
         },
         {
          "x1": 6,
          "x2": 10,
          "x3": 0.7658539355296089,
          "x4": 109
         },
         {
          "x1": 7,
          "x2": 18,
          "x3": 0.7904579513855824,
          "x4": 110
         },
         {
          "x1": 1,
          "x2": 14,
          "x3": 0.2595595958527117,
          "x4": 111
         },
         {
          "x1": 3,
          "x2": 9,
          "x3": 0.4432849031390927,
          "x4": 112
         },
         {
          "x1": 8,
          "x2": 12,
          "x3": 0.9640851657594989,
          "x4": 113
         },
         {
          "x1": 6,
          "x2": 11,
          "x3": 0.7325749748460963,
          "x4": 114
         },
         {
          "x1": 2,
          "x2": 14,
          "x3": 0.2494130021673432,
          "x4": 115
         },
         {
          "x1": 3,
          "x2": 10,
          "x3": 0.3861915423237124,
          "x4": 116
         },
         {
          "x1": 4,
          "x2": 10,
          "x3": 0.5198343075390184,
          "x4": 117
         },
         {
          "x1": 3,
          "x2": 11,
          "x3": 0.39117209219315696,
          "x4": 118
         },
         {
          "x1": 7,
          "x2": 19,
          "x3": 0.936895534256229,
          "x4": 119
         },
         {
          "x1": 7,
          "x2": 20,
          "x3": 0.7363473854766933,
          "x4": 120
         },
         {
          "x1": 7,
          "x2": 21,
          "x3": 0.8209010343267439,
          "x4": 121
         },
         {
          "x1": 0,
          "x2": 14,
          "x3": 0.12519857237390095,
          "x4": 122
         },
         {
          "x1": 5,
          "x2": 16,
          "x3": 0.6474978218424234,
          "x4": 123
         },
         {
          "x1": 0,
          "x2": 15,
          "x3": 0.1653844108454157,
          "x4": 124
         },
         {
          "x1": 8,
          "x2": 13,
          "x3": 0.987920591367884,
          "x4": 125
         },
         {
          "x1": 2,
          "x2": 15,
          "x3": 0.1846019048511395,
          "x4": 126
         },
         {
          "x1": 6,
          "x2": 12,
          "x3": 0.7437795333890029,
          "x4": 127
         },
         {
          "x1": 4,
          "x2": 11,
          "x3": 0.38242932234778776,
          "x4": 128
         },
         {
          "x1": 4,
          "x2": 12,
          "x3": 0.7480742761581893,
          "x4": 129
         },
         {
          "x1": 1,
          "x2": 15,
          "x3": 0.2058820129337678,
          "x4": 130
         },
         {
          "x1": 6,
          "x2": 13,
          "x3": 0.31505786747044434,
          "x4": 131
         },
         {
          "x1": 1,
          "x2": 16,
          "x3": 0.07565471117358857,
          "x4": 132
         },
         {
          "x1": 5,
          "x2": 17,
          "x3": 0.41209355120783087,
          "x4": 133
         },
         {
          "x1": 5,
          "x2": 18,
          "x3": 0.9596902329201825,
          "x4": 134
         },
         {
          "x1": 1,
          "x2": 17,
          "x3": 0.29537113164296586,
          "x4": 135
         },
         {
          "x1": 6,
          "x2": 14,
          "x3": 0.876879441540381,
          "x4": 136
         },
         {
          "x1": 7,
          "x2": 22,
          "x3": 0.6856486621846207,
          "x4": 137
         },
         {
          "x1": 3,
          "x2": 12,
          "x3": 0.25851153806385374,
          "x4": 138
         },
         {
          "x1": 3,
          "x2": 13,
          "x3": 0.48174313698171184,
          "x4": 139
         },
         {
          "x1": 5,
          "x2": 19,
          "x3": 0.49144265149908783,
          "x4": 140
         },
         {
          "x1": 2,
          "x2": 16,
          "x3": 0.21302257562512236,
          "x4": 141
         },
         {
          "x1": 7,
          "x2": 23,
          "x3": 0.7309689147871928,
          "x4": 142
         },
         {
          "x1": 3,
          "x2": 14,
          "x3": 0.5899936324495061,
          "x4": 143
         },
         {
          "x1": 3,
          "x2": 15,
          "x3": 0.4513186561189542,
          "x4": 144
         },
         {
          "x1": 6,
          "x2": 15,
          "x3": 0.7174753480292391,
          "x4": 145
         },
         {
          "x1": 5,
          "x2": 20,
          "x3": 0.6016057830919826,
          "x4": 146
         },
         {
          "x1": 0,
          "x2": 16,
          "x3": 0.042824621368155,
          "x4": 147
         },
         {
          "x1": 4,
          "x2": 13,
          "x3": 0.45512959343394044,
          "x4": 148
         },
         {
          "x1": 1,
          "x2": 18,
          "x3": 0.12591904428625894,
          "x4": 149
         },
         {
          "x1": 4,
          "x2": 14,
          "x3": 0.5222993973811633,
          "x4": 150
         },
         {
          "x1": 2,
          "x2": 17,
          "x3": 0.15920421831673823,
          "x4": 151
         },
         {
          "x1": 6,
          "x2": 16,
          "x3": 0.8817518806205502,
          "x4": 152
         },
         {
          "x1": 6,
          "x2": 17,
          "x3": 0.6543302861509052,
          "x4": 153
         },
         {
          "x1": 6,
          "x2": 18,
          "x3": 0.6379543962738974,
          "x4": 154
         },
         {
          "x1": 2,
          "x2": 18,
          "x3": 0.1980115314971854,
          "x4": 155
         },
         {
          "x1": 8,
          "x2": 14,
          "x3": 0.9945380910556051,
          "x4": 156
         },
         {
          "x1": 2,
          "x2": 19,
          "x3": 0.3331116396572892,
          "x4": 157
         },
         {
          "x1": 6,
          "x2": 19,
          "x3": 0.6146615931164278,
          "x4": 158
         },
         {
          "x1": 1,
          "x2": 19,
          "x3": 0.21281721520746139,
          "x4": 159
         },
         {
          "x1": 6,
          "x2": 20,
          "x3": 0.5396235182419985,
          "x4": 160
         },
         {
          "x1": 5,
          "x2": 21,
          "x3": 0.4421415257437817,
          "x4": 161
         },
         {
          "x1": 8,
          "x2": 15,
          "x3": 0.9385478730939302,
          "x4": 162
         },
         {
          "x1": 7,
          "x2": 24,
          "x3": 0.8159328108126974,
          "x4": 163
         },
         {
          "x1": 0,
          "x2": 17,
          "x3": 0.08267759669067115,
          "x4": 164
         },
         {
          "x1": 3,
          "x2": 16,
          "x3": 0.5392131003651324,
          "x4": 165
         },
         {
          "x1": 5,
          "x2": 22,
          "x3": 0.7441788631504773,
          "x4": 166
         },
         {
          "x1": 1,
          "x2": 20,
          "x3": 0.20930230029374025,
          "x4": 167
         },
         {
          "x1": 6,
          "x2": 21,
          "x3": 0.7198835984374539,
          "x4": 168
         },
         {
          "x1": 0,
          "x2": 18,
          "x3": 0.004165490716305881,
          "x4": 169
         },
         {
          "x1": 3,
          "x2": 17,
          "x3": 0.5272024140876385,
          "x4": 170
         },
         {
          "x1": 8,
          "x2": 16,
          "x3": 0.7924025121341837,
          "x4": 171
         },
         {
          "x1": 3,
          "x2": 18,
          "x3": 0.3800487299360421,
          "x4": 172
         },
         {
          "x1": 6,
          "x2": 22,
          "x3": 0.594402200442221,
          "x4": 173
         },
         {
          "x1": 4,
          "x2": 15,
          "x3": 0.3715991001978066,
          "x4": 174
         },
         {
          "x1": 2,
          "x2": 20,
          "x3": 0.3398386722531704,
          "x4": 175
         },
         {
          "x1": 5,
          "x2": 23,
          "x3": 0.5884174241212581,
          "x4": 176
         },
         {
          "x1": 6,
          "x2": 23,
          "x3": 0.843873176879464,
          "x4": 177
         },
         {
          "x1": 5,
          "x2": 24,
          "x3": 0.7430435140082843,
          "x4": 178
         },
         {
          "x1": 8,
          "x2": 17,
          "x3": 0.9689695024157249,
          "x4": 179
         },
         {
          "x1": 6,
          "x2": 24,
          "x3": 0.8667127739940469,
          "x4": 180
         },
         {
          "x1": 4,
          "x2": 16,
          "x3": 0.23529548214281423,
          "x4": 181
         },
         {
          "x1": 2,
          "x2": 21,
          "x3": 0.40178737068408404,
          "x4": 182
         },
         {
          "x1": 0,
          "x2": 19,
          "x3": 0.07059416838513058,
          "x4": 183
         },
         {
          "x1": 3,
          "x2": 19,
          "x3": 0.4438824603571779,
          "x4": 184
         },
         {
          "x1": 2,
          "x2": 22,
          "x3": 0.4131535626973951,
          "x4": 185
         },
         {
          "x1": 2,
          "x2": 23,
          "x3": 0.13016902243427003,
          "x4": 186
         },
         {
          "x1": 5,
          "x2": 25,
          "x3": 0.6084288445769427,
          "x4": 187
         },
         {
          "x1": 8,
          "x2": 18,
          "x3": 0.8009226768261886,
          "x4": 188
         },
         {
          "x1": 8,
          "x2": 19,
          "x3": 0.8444536021003597,
          "x4": 189
         },
         {
          "x1": 4,
          "x2": 17,
          "x3": 0.6600198592319181,
          "x4": 190
         },
         {
          "x1": 7,
          "x2": 25,
          "x3": 0.8020396869630173,
          "x4": 191
         },
         {
          "x1": 5,
          "x2": 26,
          "x3": 0.7907505982562121,
          "x4": 192
         },
         {
          "x1": 7,
          "x2": 26,
          "x3": 0.7503877440448389,
          "x4": 193
         },
         {
          "x1": 4,
          "x2": 18,
          "x3": 0.46765353594387515,
          "x4": 194
         },
         {
          "x1": 4,
          "x2": 19,
          "x3": 0.40398186405855846,
          "x4": 195
         },
         {
          "x1": 6,
          "x2": 25,
          "x3": 0.629043591276326,
          "x4": 196
         },
         {
          "x1": 2,
          "x2": 24,
          "x3": 0.2722147111456336,
          "x4": 197
         },
         {
          "x1": 3,
          "x2": 20,
          "x3": 0.1679905074039322,
          "x4": 198
         },
         {
          "x1": 7,
          "x2": 27,
          "x3": 0.7963601060015099,
          "x4": 199
         },
         {
          "x1": 7,
          "x2": 28,
          "x3": 0.8542051545603603,
          "x4": 200
         },
         {
          "x1": 4,
          "x2": 20,
          "x3": 0.6810167275700808,
          "x4": 201
         },
         {
          "x1": 5,
          "x2": 27,
          "x3": 0.7444476519502118,
          "x4": 202
         },
         {
          "x1": 7,
          "x2": 29,
          "x3": 0.8260177569479605,
          "x4": 203
         },
         {
          "x1": 7,
          "x2": 30,
          "x3": 0.8701392530192964,
          "x4": 204
         },
         {
          "x1": 5,
          "x2": 28,
          "x3": 0.37033136927702404,
          "x4": 205
         },
         {
          "x1": 4,
          "x2": 21,
          "x3": 0.39311713881290955,
          "x4": 206
         },
         {
          "x1": 3,
          "x2": 21,
          "x3": 0.6552092683251722,
          "x4": 207
         },
         {
          "x1": 5,
          "x2": 29,
          "x3": 0.7340362137955391,
          "x4": 208
         },
         {
          "x1": 3,
          "x2": 22,
          "x3": 0.5070599920174458,
          "x4": 209
         },
         {
          "x1": 4,
          "x2": 22,
          "x3": 0.32575689753176207,
          "x4": 210
         },
         {
          "x1": 4,
          "x2": 23,
          "x3": 0.5424743051853113,
          "x4": 211
         },
         {
          "x1": 3,
          "x2": 23,
          "x3": 0.0824654608497897,
          "x4": 212
         },
         {
          "x1": 7,
          "x2": 31,
          "x3": 0.84204291188591,
          "x4": 213
         },
         {
          "x1": 6,
          "x2": 26,
          "x3": 0.8052814630010121,
          "x4": 214
         },
         {
          "x1": 6,
          "x2": 27,
          "x3": 0.818122049132394,
          "x4": 215
         },
         {
          "x1": 7,
          "x2": 32,
          "x3": 0.777345990389891,
          "x4": 216
         },
         {
          "x1": 5,
          "x2": 30,
          "x3": 0.43807522543958327,
          "x4": 217
         },
         {
          "x1": 4,
          "x2": 24,
          "x3": 0.43343845795548747,
          "x4": 218
         },
         {
          "x1": 1,
          "x2": 21,
          "x3": 0.3372022724245855,
          "x4": 219
         },
         {
          "x1": 4,
          "x2": 25,
          "x3": 0.8558025916406155,
          "x4": 220
         },
         {
          "x1": 3,
          "x2": 24,
          "x3": 0.2064790062702954,
          "x4": 221
         },
         {
          "x1": 1,
          "x2": 22,
          "x3": 0.07965572495549059,
          "x4": 222
         },
         {
          "x1": 5,
          "x2": 31,
          "x3": 0.4464548500322012,
          "x4": 223
         },
         {
          "x1": 2,
          "x2": 25,
          "x3": 0.5052676209920531,
          "x4": 224
         },
         {
          "x1": 4,
          "x2": 26,
          "x3": 0.41441940681114875,
          "x4": 225
         },
         {
          "x1": 8,
          "x2": 20,
          "x3": 0.8595518546819271,
          "x4": 226
         },
         {
          "x1": 1,
          "x2": 23,
          "x3": 0.05902034335618313,
          "x4": 227
         },
         {
          "x1": 4,
          "x2": 27,
          "x3": 0.577569822129906,
          "x4": 228
         },
         {
          "x1": 1,
          "x2": 24,
          "x3": 0.10660263981482761,
          "x4": 229
         },
         {
          "x1": 6,
          "x2": 28,
          "x3": 0.6891527779614247,
          "x4": 230
         },
         {
          "x1": 5,
          "x2": 32,
          "x3": 0.5512369726414448,
          "x4": 231
         },
         {
          "x1": 6,
          "x2": 29,
          "x3": 0.48025838561858203,
          "x4": 232
         },
         {
          "x1": 6,
          "x2": 30,
          "x3": 0.5649746907104595,
          "x4": 233
         },
         {
          "x1": 5,
          "x2": 33,
          "x3": 0.1695068606009666,
          "x4": 234
         },
         {
          "x1": 5,
          "x2": 34,
          "x3": 0.659914147849876,
          "x4": 235
         },
         {
          "x1": 8,
          "x2": 21,
          "x3": 0.9595744688827597,
          "x4": 236
         },
         {
          "x1": 3,
          "x2": 25,
          "x3": 0.21580828126752896,
          "x4": 237
         },
         {
          "x1": 8,
          "x2": 22,
          "x3": 0.5300208653544752,
          "x4": 238
         },
         {
          "x1": 3,
          "x2": 26,
          "x3": 0.3577433804850081,
          "x4": 239
         },
         {
          "x1": 7,
          "x2": 33,
          "x3": 0.7736691160589615,
          "x4": 240
         },
         {
          "x1": 1,
          "x2": 25,
          "x3": 0.05271260999661717,
          "x4": 241
         },
         {
          "x1": 3,
          "x2": 27,
          "x3": 0.20432169022029176,
          "x4": 242
         },
         {
          "x1": 8,
          "x2": 23,
          "x3": 0.9888221440800339,
          "x4": 243
         },
         {
          "x1": 3,
          "x2": 28,
          "x3": 0.4405583984054955,
          "x4": 244
         },
         {
          "x1": 6,
          "x2": 31,
          "x3": 0.6984732184851317,
          "x4": 245
         },
         {
          "x1": 8,
          "x2": 24,
          "x3": 0.983154988735513,
          "x4": 246
         },
         {
          "x1": 1,
          "x2": 26,
          "x3": 0.11385720072429284,
          "x4": 247
         },
         {
          "x1": 8,
          "x2": 25,
          "x3": 0.9321381586826465,
          "x4": 248
         },
         {
          "x1": 2,
          "x2": 26,
          "x3": 0.25268110685597595,
          "x4": 249
         },
         {
          "x1": 8,
          "x2": 26,
          "x3": 0.9549348297608901,
          "x4": 250
         },
         {
          "x1": 6,
          "x2": 32,
          "x3": 0.6491128835332804,
          "x4": 251
         },
         {
          "x1": 2,
          "x2": 27,
          "x3": 0.2683499892232064,
          "x4": 252
         },
         {
          "x1": 1,
          "x2": 27,
          "x3": 0.23070505349391626,
          "x4": 253
         },
         {
          "x1": 3,
          "x2": 29,
          "x3": 0.5166787584022428,
          "x4": 254
         },
         {
          "x1": 6,
          "x2": 33,
          "x3": 0.9029530627999401,
          "x4": 255
         },
         {
          "x1": 0,
          "x2": 20,
          "x3": 0.03639192639313306,
          "x4": 256
         },
         {
          "x1": 6,
          "x2": 34,
          "x3": 0.7168412401365468,
          "x4": 257
         },
         {
          "x1": 0,
          "x2": 21,
          "x3": 0.00886283608519847,
          "x4": 258
         },
         {
          "x1": 2,
          "x2": 28,
          "x3": 0.4663851851340007,
          "x4": 259
         },
         {
          "x1": 5,
          "x2": 35,
          "x3": 0.391626001978777,
          "x4": 260
         },
         {
          "x1": 0,
          "x2": 22,
          "x3": 0.28014241482379754,
          "x4": 261
         },
         {
          "x1": 1,
          "x2": 28,
          "x3": 0.0938030067247352,
          "x4": 262
         },
         {
          "x1": 4,
          "x2": 28,
          "x3": 0.6394945254124402,
          "x4": 263
         },
         {
          "x1": 5,
          "x2": 36,
          "x3": 0.8930061587130651,
          "x4": 264
         },
         {
          "x1": 7,
          "x2": 34,
          "x3": 0.8649449244513877,
          "x4": 265
         },
         {
          "x1": 2,
          "x2": 29,
          "x3": 0.3237089565956979,
          "x4": 266
         },
         {
          "x1": 1,
          "x2": 29,
          "x3": 0.17571179920276173,
          "x4": 267
         },
         {
          "x1": 8,
          "x2": 27,
          "x3": 0.7516217053939397,
          "x4": 268
         },
         {
          "x1": 0,
          "x2": 23,
          "x3": 0.18090799878303482,
          "x4": 269
         },
         {
          "x1": 8,
          "x2": 28,
          "x3": 0.6585581495402197,
          "x4": 270
         },
         {
          "x1": 4,
          "x2": 29,
          "x3": 0.42986114098440564,
          "x4": 271
         },
         {
          "x1": 2,
          "x2": 30,
          "x3": 0.09902712605776365,
          "x4": 272
         },
         {
          "x1": 0,
          "x2": 24,
          "x3": 0.07214713712736212,
          "x4": 273
         },
         {
          "x1": 5,
          "x2": 37,
          "x3": 0.5798494607217396,
          "x4": 274
         },
         {
          "x1": 6,
          "x2": 35,
          "x3": 0.731274306250476,
          "x4": 275
         },
         {
          "x1": 1,
          "x2": 30,
          "x3": 0.03918136169130761,
          "x4": 276
         },
         {
          "x1": 3,
          "x2": 30,
          "x3": 0.36426524528003873,
          "x4": 277
         },
         {
          "x1": 4,
          "x2": 30,
          "x3": 0.46769138646951475,
          "x4": 278
         },
         {
          "x1": 4,
          "x2": 31,
          "x3": 0.5131546003424213,
          "x4": 279
         },
         {
          "x1": 4,
          "x2": 32,
          "x3": 0.5407855859562318,
          "x4": 280
         },
         {
          "x1": 6,
          "x2": 36,
          "x3": 0.656224830397582,
          "x4": 281
         },
         {
          "x1": 1,
          "x2": 31,
          "x3": 0.5457298879198457,
          "x4": 282
         },
         {
          "x1": 8,
          "x2": 29,
          "x3": 0.890948134227812,
          "x4": 283
         },
         {
          "x1": 6,
          "x2": 37,
          "x3": 0.637089316736442,
          "x4": 284
         },
         {
          "x1": 5,
          "x2": 38,
          "x3": 0.8448852624708597,
          "x4": 285
         },
         {
          "x1": 6,
          "x2": 38,
          "x3": 0.6912578649112718,
          "x4": 286
         },
         {
          "x1": 5,
          "x2": 39,
          "x3": 0.5925460946412775,
          "x4": 287
         },
         {
          "x1": 5,
          "x2": 40,
          "x3": 0.5302674856142733,
          "x4": 288
         },
         {
          "x1": 5,
          "x2": 41,
          "x3": 0.8339294693335761,
          "x4": 289
         },
         {
          "x1": 4,
          "x2": 33,
          "x3": 0.7703014601683839,
          "x4": 290
         },
         {
          "x1": 4,
          "x2": 34,
          "x3": 0.3871494358918755,
          "x4": 291
         },
         {
          "x1": 3,
          "x2": 31,
          "x3": 0.33665771447555476,
          "x4": 292
         },
         {
          "x1": 6,
          "x2": 39,
          "x3": 0.5972072593924412,
          "x4": 293
         },
         {
          "x1": 2,
          "x2": 31,
          "x3": 0.5257322400560177,
          "x4": 294
         },
         {
          "x1": 5,
          "x2": 42,
          "x3": 0.30443209860552156,
          "x4": 295
         },
         {
          "x1": 4,
          "x2": 35,
          "x3": 0.4431559644446912,
          "x4": 296
         },
         {
          "x1": 5,
          "x2": 43,
          "x3": 0.5606319225119305,
          "x4": 297
         },
         {
          "x1": 5,
          "x2": 44,
          "x3": 0.4988575293086144,
          "x4": 298
         },
         {
          "x1": 4,
          "x2": 36,
          "x3": 0.18415782438173925,
          "x4": 299
         },
         {
          "x1": 7,
          "x2": 35,
          "x3": 0.9094533524077213,
          "x4": 300
         },
         {
          "x1": 8,
          "x2": 30,
          "x3": 0.9745797652016309,
          "x4": 301
         },
         {
          "x1": 5,
          "x2": 45,
          "x3": 0.4083837199669565,
          "x4": 302
         },
         {
          "x1": 3,
          "x2": 32,
          "x3": 0.6405720996193213,
          "x4": 303
         },
         {
          "x1": 2,
          "x2": 32,
          "x3": 0.17738983742599104,
          "x4": 304
         },
         {
          "x1": 7,
          "x2": 36,
          "x3": 0.943543657952087,
          "x4": 305
         },
         {
          "x1": 2,
          "x2": 33,
          "x3": 0.1984018718064539,
          "x4": 306
         },
         {
          "x1": 6,
          "x2": 40,
          "x3": 0.7210470628624588,
          "x4": 307
         },
         {
          "x1": 6,
          "x2": 41,
          "x3": 0.6621237139877036,
          "x4": 308
         },
         {
          "x1": 1,
          "x2": 32,
          "x3": 0.2222125925338643,
          "x4": 309
         },
         {
          "x1": 8,
          "x2": 31,
          "x3": 0.9473722018810472,
          "x4": 310
         },
         {
          "x1": 7,
          "x2": 37,
          "x3": 0.8394217111736261,
          "x4": 311
         },
         {
          "x1": 3,
          "x2": 33,
          "x3": 0.43976738133342136,
          "x4": 312
         },
         {
          "x1": 8,
          "x2": 32,
          "x3": 0.9876221683140679,
          "x4": 313
         },
         {
          "x1": 4,
          "x2": 37,
          "x3": 0.6224207965936635,
          "x4": 314
         },
         {
          "x1": 1,
          "x2": 33,
          "x3": 0.43672901123429875,
          "x4": 315
         },
         {
          "x1": 7,
          "x2": 38,
          "x3": 0.9523553619750551,
          "x4": 316
         },
         {
          "x1": 3,
          "x2": 34,
          "x3": 0.33955055149894975,
          "x4": 317
         },
         {
          "x1": 6,
          "x2": 42,
          "x3": 0.6290807918622477,
          "x4": 318
         },
         {
          "x1": 7,
          "x2": 39,
          "x3": 0.6787757583668961,
          "x4": 319
         },
         {
          "x1": 8,
          "x2": 33,
          "x3": 0.7710439971504107,
          "x4": 320
         },
         {
          "x1": 4,
          "x2": 38,
          "x3": 0.7542286950870787,
          "x4": 321
         },
         {
          "x1": 2,
          "x2": 34,
          "x3": 0.08445145623880974,
          "x4": 322
         },
         {
          "x1": 0,
          "x2": 25,
          "x3": 0.07205044125568365,
          "x4": 323
         },
         {
          "x1": 8,
          "x2": 34,
          "x3": 0.8345048237113356,
          "x4": 324
         },
         {
          "x1": 8,
          "x2": 35,
          "x3": 0.9181342110080223,
          "x4": 325
         },
         {
          "x1": 3,
          "x2": 35,
          "x3": 0.11724267808215454,
          "x4": 326
         },
         {
          "x1": 4,
          "x2": 39,
          "x3": 0.2589284412301041,
          "x4": 327
         },
         {
          "x1": 3,
          "x2": 36,
          "x3": 0.25472130078287797,
          "x4": 328
         },
         {
          "x1": 7,
          "x2": 40,
          "x3": 0.9163726317943706,
          "x4": 329
         },
         {
          "x1": 5,
          "x2": 46,
          "x3": 0.35283634774493,
          "x4": 330
         },
         {
          "x1": 1,
          "x2": 34,
          "x3": 0.20400410069320135,
          "x4": 331
         },
         {
          "x1": 8,
          "x2": 36,
          "x3": 0.9545958452737545,
          "x4": 332
         },
         {
          "x1": 5,
          "x2": 47,
          "x3": 0.6080641108697737,
          "x4": 333
         },
         {
          "x1": 4,
          "x2": 40,
          "x3": 0.42738523687642876,
          "x4": 334
         },
         {
          "x1": 5,
          "x2": 48,
          "x3": 0.7708044572192596,
          "x4": 335
         },
         {
          "x1": 6,
          "x2": 43,
          "x3": 0.6865826559226225,
          "x4": 336
         },
         {
          "x1": 0,
          "x2": 26,
          "x3": 0.07172845061237083,
          "x4": 337
         },
         {
          "x1": 0,
          "x2": 27,
          "x3": 0.04798448866965313,
          "x4": 338
         },
         {
          "x1": 6,
          "x2": 44,
          "x3": 0.6953929402209191,
          "x4": 339
         },
         {
          "x1": 6,
          "x2": 45,
          "x3": 0.7807487336685719,
          "x4": 340
         },
         {
          "x1": 1,
          "x2": 35,
          "x3": 0.20747860977150404,
          "x4": 341
         },
         {
          "x1": 6,
          "x2": 46,
          "x3": 0.7829483443652752,
          "x4": 342
         },
         {
          "x1": 5,
          "x2": 49,
          "x3": 0.7554612629124654,
          "x4": 343
         },
         {
          "x1": 2,
          "x2": 35,
          "x3": 0.49720080517399107,
          "x4": 344
         },
         {
          "x1": 7,
          "x2": 41,
          "x3": 0.8280636736372459,
          "x4": 345
         },
         {
          "x1": 6,
          "x2": 47,
          "x3": 0.8936987379395733,
          "x4": 346
         },
         {
          "x1": 7,
          "x2": 42,
          "x3": 0.6475458985569895,
          "x4": 347
         },
         {
          "x1": 8,
          "x2": 37,
          "x3": 0.8868964941792918,
          "x4": 348
         },
         {
          "x1": 3,
          "x2": 37,
          "x3": 0.4323543501336492,
          "x4": 349
         },
         {
          "x1": 5,
          "x2": 50,
          "x3": 0.4749316061620677,
          "x4": 350
         },
         {
          "x1": 6,
          "x2": 48,
          "x3": 0.829890875942594,
          "x4": 351
         },
         {
          "x1": 7,
          "x2": 43,
          "x3": 0.6876745462207436,
          "x4": 352
         },
         {
          "x1": 4,
          "x2": 41,
          "x3": 0.3615865053216141,
          "x4": 353
         },
         {
          "x1": 0,
          "x2": 28,
          "x3": 0.09824593810054282,
          "x4": 354
         },
         {
          "x1": 7,
          "x2": 44,
          "x3": 0.8669892977510114,
          "x4": 355
         },
         {
          "x1": 7,
          "x2": 45,
          "x3": 0.8512105239011918,
          "x4": 356
         },
         {
          "x1": 6,
          "x2": 49,
          "x3": 0.48607332142073173,
          "x4": 357
         },
         {
          "x1": 6,
          "x2": 50,
          "x3": 0.7371722697724141,
          "x4": 358
         },
         {
          "x1": 7,
          "x2": 46,
          "x3": 0.8639753737075417,
          "x4": 359
         },
         {
          "x1": 1,
          "x2": 36,
          "x3": 0.07858734331996023,
          "x4": 360
         },
         {
          "x1": 0,
          "x2": 29,
          "x3": 0.05757694377438318,
          "x4": 361
         },
         {
          "x1": 1,
          "x2": 37,
          "x3": 0.24666124225987132,
          "x4": 362
         },
         {
          "x1": 1,
          "x2": 38,
          "x3": 0.38101178409746633,
          "x4": 363
         },
         {
          "x1": 5,
          "x2": 51,
          "x3": 0.5073314105001597,
          "x4": 364
         },
         {
          "x1": 6,
          "x2": 51,
          "x3": 0.95506237290778,
          "x4": 365
         },
         {
          "x1": 5,
          "x2": 52,
          "x3": 0.5837785088370956,
          "x4": 366
         },
         {
          "x1": 4,
          "x2": 42,
          "x3": 0.6034027606423391,
          "x4": 367
         },
         {
          "x1": 3,
          "x2": 38,
          "x3": 0.5215492120881001,
          "x4": 368
         },
         {
          "x1": 1,
          "x2": 39,
          "x3": 0.09893830476909575,
          "x4": 369
         },
         {
          "x1": 4,
          "x2": 43,
          "x3": 0.5046215524594935,
          "x4": 370
         },
         {
          "x1": 5,
          "x2": 53,
          "x3": 0.4593369278042594,
          "x4": 371
         },
         {
          "x1": 8,
          "x2": 38,
          "x3": 0.6993457904478625,
          "x4": 372
         },
         {
          "x1": 1,
          "x2": 40,
          "x3": 0.09044314403989427,
          "x4": 373
         },
         {
          "x1": 3,
          "x2": 39,
          "x3": 0.27238283592825524,
          "x4": 374
         },
         {
          "x1": 4,
          "x2": 44,
          "x3": 0.678685797077211,
          "x4": 375
         },
         {
          "x1": 0,
          "x2": 30,
          "x3": 0.04687503180278562,
          "x4": 376
         },
         {
          "x1": 8,
          "x2": 39,
          "x3": 0.7799857882913213,
          "x4": 377
         },
         {
          "x1": 3,
          "x2": 40,
          "x3": 0.4870067220670628,
          "x4": 378
         },
         {
          "x1": 1,
          "x2": 41,
          "x3": 0.5429949210466084,
          "x4": 379
         },
         {
          "x1": 5,
          "x2": 54,
          "x3": 0.9179457911208039,
          "x4": 380
         },
         {
          "x1": 6,
          "x2": 52,
          "x3": 0.6596121302250825,
          "x4": 381
         },
         {
          "x1": 2,
          "x2": 36,
          "x3": 0.3704831713752866,
          "x4": 382
         },
         {
          "x1": 2,
          "x2": 37,
          "x3": 0.25815990487209467,
          "x4": 383
         },
         {
          "x1": 0,
          "x2": 31,
          "x3": 0.012113364452296906,
          "x4": 384
         },
         {
          "x1": 1,
          "x2": 42,
          "x3": 0.3922085903801173,
          "x4": 385
         },
         {
          "x1": 1,
          "x2": 43,
          "x3": 0.1853723999017446,
          "x4": 386
         },
         {
          "x1": 0,
          "x2": 32,
          "x3": 0.07623288240002259,
          "x4": 387
         },
         {
          "x1": 1,
          "x2": 44,
          "x3": 0.13109731333602379,
          "x4": 388
         },
         {
          "x1": 0,
          "x2": 33,
          "x3": 0.14784181798143461,
          "x4": 389
         },
         {
          "x1": 7,
          "x2": 47,
          "x3": 0.973919093559321,
          "x4": 390
         },
         {
          "x1": 7,
          "x2": 48,
          "x3": 0.9077768392094508,
          "x4": 391
         },
         {
          "x1": 7,
          "x2": 49,
          "x3": 0.7841312813294488,
          "x4": 392
         },
         {
          "x1": 2,
          "x2": 38,
          "x3": 0.24495686891588653,
          "x4": 393
         },
         {
          "x1": 3,
          "x2": 41,
          "x3": 0.4235823399210617,
          "x4": 394
         },
         {
          "x1": 7,
          "x2": 50,
          "x3": 0.7350821504488831,
          "x4": 395
         },
         {
          "x1": 0,
          "x2": 34,
          "x3": 0.012151065860008877,
          "x4": 396
         },
         {
          "x1": 5,
          "x2": 55,
          "x3": 0.8517889883676389,
          "x4": 397
         },
         {
          "x1": 1,
          "x2": 45,
          "x3": 0.13244393892695275,
          "x4": 398
         },
         {
          "x1": 4,
          "x2": 45,
          "x3": 0.5287834407665867,
          "x4": 399
         },
         {
          "x1": 1,
          "x2": 46,
          "x3": 0.3566679915809441,
          "x4": 400
         },
         {
          "x1": 1,
          "x2": 47,
          "x3": 0.018863558807566627,
          "x4": 401
         },
         {
          "x1": 1,
          "x2": 48,
          "x3": 0.09905020995587417,
          "x4": 402
         },
         {
          "x1": 7,
          "x2": 51,
          "x3": 0.8670437104946751,
          "x4": 403
         },
         {
          "x1": 4,
          "x2": 46,
          "x3": 0.5948786452084935,
          "x4": 404
         },
         {
          "x1": 8,
          "x2": 40,
          "x3": 0.9253349751980641,
          "x4": 405
         },
         {
          "x1": 4,
          "x2": 47,
          "x3": 0.5389955951695128,
          "x4": 406
         },
         {
          "x1": 8,
          "x2": 41,
          "x3": 0.8142212377731702,
          "x4": 407
         },
         {
          "x1": 2,
          "x2": 39,
          "x3": 0.25699655300042334,
          "x4": 408
         },
         {
          "x1": 7,
          "x2": 52,
          "x3": 0.9116782172840089,
          "x4": 409
         },
         {
          "x1": 4,
          "x2": 48,
          "x3": 0.5648397209686374,
          "x4": 410
         },
         {
          "x1": 0,
          "x2": 35,
          "x3": 0.0028144325333623716,
          "x4": 411
         },
         {
          "x1": 3,
          "x2": 42,
          "x3": 0.4780713229564256,
          "x4": 412
         },
         {
          "x1": 5,
          "x2": 56,
          "x3": 0.8925086312833668,
          "x4": 413
         },
         {
          "x1": 5,
          "x2": 57,
          "x3": 0.43839066669948856,
          "x4": 414
         },
         {
          "x1": 8,
          "x2": 42,
          "x3": 0.9697923319357157,
          "x4": 415
         },
         {
          "x1": 5,
          "x2": 58,
          "x3": 0.5698206724887268,
          "x4": 416
         },
         {
          "x1": 7,
          "x2": 53,
          "x3": 0.743917322024661,
          "x4": 417
         },
         {
          "x1": 3,
          "x2": 43,
          "x3": 0.3720527371964478,
          "x4": 418
         },
         {
          "x1": 3,
          "x2": 44,
          "x3": 0.48712721633725464,
          "x4": 419
         },
         {
          "x1": 7,
          "x2": 54,
          "x3": 0.8440252914202068,
          "x4": 420
         },
         {
          "x1": 1,
          "x2": 49,
          "x3": 0.18831435666623955,
          "x4": 421
         },
         {
          "x1": 0,
          "x2": 36,
          "x3": 0.03188506568932786,
          "x4": 422
         },
         {
          "x1": 8,
          "x2": 43,
          "x3": 0.9997994973405013,
          "x4": 423
         },
         {
          "x1": 2,
          "x2": 40,
          "x3": 0.44779592883879277,
          "x4": 424
         },
         {
          "x1": 5,
          "x2": 59,
          "x3": 0.7352752341486536,
          "x4": 425
         },
         {
          "x1": 1,
          "x2": 50,
          "x3": 0.17025293448898446,
          "x4": 426
         },
         {
          "x1": 0,
          "x2": 37,
          "x3": 0.05735547366001363,
          "x4": 427
         },
         {
          "x1": 5,
          "x2": 60,
          "x3": 0.5350188699965099,
          "x4": 428
         },
         {
          "x1": 6,
          "x2": 53,
          "x3": 0.9088242224745658,
          "x4": 429
         },
         {
          "x1": 4,
          "x2": 49,
          "x3": 0.6085830108033397,
          "x4": 430
         },
         {
          "x1": 4,
          "x2": 50,
          "x3": 0.4347795158355548,
          "x4": 431
         },
         {
          "x1": 0,
          "x2": 38,
          "x3": 0.04956026151409156,
          "x4": 432
         },
         {
          "x1": 5,
          "x2": 61,
          "x3": 0.7154780062851769,
          "x4": 433
         },
         {
          "x1": 0,
          "x2": 39,
          "x3": 0.02069040995941544,
          "x4": 434
         },
         {
          "x1": 8,
          "x2": 44,
          "x3": 0.867589279944625,
          "x4": 435
         },
         {
          "x1": 0,
          "x2": 40,
          "x3": 0.05692618708050867,
          "x4": 436
         },
         {
          "x1": 8,
          "x2": 45,
          "x3": 0.9485209512657998,
          "x4": 437
         },
         {
          "x1": 6,
          "x2": 54,
          "x3": 0.7575782524055634,
          "x4": 438
         },
         {
          "x1": 6,
          "x2": 55,
          "x3": 0.8410717129643128,
          "x4": 439
         },
         {
          "x1": 5,
          "x2": 62,
          "x3": 0.46486403366803086,
          "x4": 440
         },
         {
          "x1": 7,
          "x2": 55,
          "x3": 0.9427915718056568,
          "x4": 441
         },
         {
          "x1": 8,
          "x2": 46,
          "x3": 0.959045018834416,
          "x4": 442
         },
         {
          "x1": 6,
          "x2": 56,
          "x3": 0.5746494292332792,
          "x4": 443
         },
         {
          "x1": 0,
          "x2": 41,
          "x3": 0.03768406828468656,
          "x4": 444
         },
         {
          "x1": 2,
          "x2": 41,
          "x3": 0.5539539970215556,
          "x4": 445
         },
         {
          "x1": 8,
          "x2": 47,
          "x3": 0.8915872438368927,
          "x4": 446
         },
         {
          "x1": 4,
          "x2": 51,
          "x3": 0.532648652372259,
          "x4": 447
         },
         {
          "x1": 8,
          "x2": 48,
          "x3": 0.941079573384609,
          "x4": 448
         },
         {
          "x1": 4,
          "x2": 52,
          "x3": 0.4510631592877538,
          "x4": 449
         },
         {
          "x1": 3,
          "x2": 45,
          "x3": 0.515539684068217,
          "x4": 450
         },
         {
          "x1": 1,
          "x2": 51,
          "x3": 0.06958334090075861,
          "x4": 451
         },
         {
          "x1": 2,
          "x2": 42,
          "x3": 0.32889952829362645,
          "x4": 452
         },
         {
          "x1": 8,
          "x2": 49,
          "x3": 0.939761226849788,
          "x4": 453
         },
         {
          "x1": 5,
          "x2": 63,
          "x3": 0.32639773543852274,
          "x4": 454
         },
         {
          "x1": 6,
          "x2": 57,
          "x3": 0.8856656716522867,
          "x4": 455
         },
         {
          "x1": 2,
          "x2": 43,
          "x3": 0.3143547013834842,
          "x4": 456
         },
         {
          "x1": 5,
          "x2": 64,
          "x3": 0.6915392821583093,
          "x4": 457
         },
         {
          "x1": 5,
          "x2": 65,
          "x3": 0.4381068435061303,
          "x4": 458
         },
         {
          "x1": 0,
          "x2": 42,
          "x3": 0.04894945893350251,
          "x4": 459
         },
         {
          "x1": 4,
          "x2": 53,
          "x3": 0.451943220011835,
          "x4": 460
         },
         {
          "x1": 5,
          "x2": 66,
          "x3": 0.5552764492169662,
          "x4": 461
         },
         {
          "x1": 7,
          "x2": 56,
          "x3": 0.6911649387168686,
          "x4": 462
         },
         {
          "x1": 1,
          "x2": 52,
          "x3": 0.368353508738026,
          "x4": 463
         },
         {
          "x1": 4,
          "x2": 54,
          "x3": 0.6663488317525348,
          "x4": 464
         },
         {
          "x1": 8,
          "x2": 50,
          "x3": 0.9403309969150943,
          "x4": 465
         },
         {
          "x1": 0,
          "x2": 43,
          "x3": 0.14796554230012884,
          "x4": 466
         },
         {
          "x1": 4,
          "x2": 55,
          "x3": 0.6239144328345951,
          "x4": 467
         },
         {
          "x1": 1,
          "x2": 53,
          "x3": 0.32811876491941133,
          "x4": 468
         },
         {
          "x1": 7,
          "x2": 57,
          "x3": 0.5600694126614774,
          "x4": 469
         },
         {
          "x1": 0,
          "x2": 44,
          "x3": 0.13737328248080538,
          "x4": 470
         },
         {
          "x1": 7,
          "x2": 58,
          "x3": 0.6089459010989042,
          "x4": 471
         },
         {
          "x1": 3,
          "x2": 46,
          "x3": 0.31065921715061023,
          "x4": 472
         },
         {
          "x1": 3,
          "x2": 47,
          "x3": 0.4309597931505882,
          "x4": 473
         },
         {
          "x1": 3,
          "x2": 48,
          "x3": 0.3941605767629315,
          "x4": 474
         },
         {
          "x1": 6,
          "x2": 58,
          "x3": 0.5625471095307646,
          "x4": 475
         },
         {
          "x1": 0,
          "x2": 45,
          "x3": 0.05801465455601344,
          "x4": 476
         },
         {
          "x1": 8,
          "x2": 51,
          "x3": 0.8297068599785979,
          "x4": 477
         },
         {
          "x1": 7,
          "x2": 59,
          "x3": 0.8218659254630837,
          "x4": 478
         },
         {
          "x1": 6,
          "x2": 59,
          "x3": 0.8894142956355511,
          "x4": 479
         },
         {
          "x1": 4,
          "x2": 56,
          "x3": 0.539658997712492,
          "x4": 480
         },
         {
          "x1": 2,
          "x2": 44,
          "x3": 0.13019766208192957,
          "x4": 481
         },
         {
          "x1": 4,
          "x2": 57,
          "x3": 0.44270941035602285,
          "x4": 482
         },
         {
          "x1": 8,
          "x2": 52,
          "x3": 0.8133925897639116,
          "x4": 483
         },
         {
          "x1": 6,
          "x2": 60,
          "x3": 0.5559097062269008,
          "x4": 484
         },
         {
          "x1": 4,
          "x2": 58,
          "x3": 0.554461619400861,
          "x4": 485
         },
         {
          "x1": 5,
          "x2": 67,
          "x3": 0.5431742789303677,
          "x4": 486
         },
         {
          "x1": 1,
          "x2": 54,
          "x3": 0.2982355241164575,
          "x4": 487
         },
         {
          "x1": 3,
          "x2": 49,
          "x3": 0.4292111237630808,
          "x4": 488
         },
         {
          "x1": 7,
          "x2": 60,
          "x3": 0.9352213691948995,
          "x4": 489
         },
         {
          "x1": 2,
          "x2": 45,
          "x3": 0.07897185277986642,
          "x4": 490
         },
         {
          "x1": 2,
          "x2": 46,
          "x3": 0.2950651358395773,
          "x4": 491
         },
         {
          "x1": 7,
          "x2": 61,
          "x3": 0.7056706531904244,
          "x4": 492
         },
         {
          "x1": 7,
          "x2": 62,
          "x3": 0.8729875690066867,
          "x4": 493
         },
         {
          "x1": 2,
          "x2": 47,
          "x3": 0.36074310646614327,
          "x4": 494
         },
         {
          "x1": 1,
          "x2": 55,
          "x3": 0.2833719071368114,
          "x4": 495
         },
         {
          "x1": 7,
          "x2": 63,
          "x3": 0.9581381753849079,
          "x4": 496
         },
         {
          "x1": 1,
          "x2": 56,
          "x3": 0.1230811931389115,
          "x4": 497
         },
         {
          "x1": 4,
          "x2": 59,
          "x3": 0.6391986956880933,
          "x4": 498
         },
         {
          "x1": 3,
          "x2": 50,
          "x3": 0.25449206519880474,
          "x4": 499
         },
         {
          "x1": 3,
          "x2": 51,
          "x3": 0.4396516179441427,
          "x4": 500
         },
         {
          "x1": 2,
          "x2": 48,
          "x3": 0.1597083433420914,
          "x4": 501
         },
         {
          "x1": 4,
          "x2": 60,
          "x3": 0.4505966436327279,
          "x4": 502
         },
         {
          "x1": 6,
          "x2": 61,
          "x3": 0.6645270242767048,
          "x4": 503
         },
         {
          "x1": 7,
          "x2": 64,
          "x3": 0.6827256519545358,
          "x4": 504
         },
         {
          "x1": 8,
          "x2": 53,
          "x3": 0.9942543039623156,
          "x4": 505
         },
         {
          "x1": 0,
          "x2": 46,
          "x3": 0.21784870097655712,
          "x4": 506
         },
         {
          "x1": 5,
          "x2": 68,
          "x3": 0.6445410372180046,
          "x4": 507
         },
         {
          "x1": 3,
          "x2": 52,
          "x3": 0.3765616415751666,
          "x4": 508
         },
         {
          "x1": 1,
          "x2": 57,
          "x3": 0.15629488674342454,
          "x4": 509
         },
         {
          "x1": 7,
          "x2": 65,
          "x3": 0.8921361864391002,
          "x4": 510
         },
         {
          "x1": 2,
          "x2": 49,
          "x3": 0.20120471684785698,
          "x4": 511
         },
         {
          "x1": 8,
          "x2": 54,
          "x3": 0.935322956793286,
          "x4": 512
         },
         {
          "x1": 8,
          "x2": 55,
          "x3": 0.8712494860170003,
          "x4": 513
         },
         {
          "x1": 4,
          "x2": 61,
          "x3": 0.3451157719331952,
          "x4": 514
         },
         {
          "x1": 2,
          "x2": 50,
          "x3": 0.3803205954205264,
          "x4": 515
         },
         {
          "x1": 6,
          "x2": 62,
          "x3": 0.8785158419163941,
          "x4": 516
         },
         {
          "x1": 0,
          "x2": 47,
          "x3": 0.02858404020896547,
          "x4": 517
         },
         {
          "x1": 3,
          "x2": 53,
          "x3": 0.3396162086782706,
          "x4": 518
         },
         {
          "x1": 4,
          "x2": 62,
          "x3": 0.25301195405158405,
          "x4": 519
         },
         {
          "x1": 6,
          "x2": 63,
          "x3": 0.8255588453835186,
          "x4": 520
         },
         {
          "x1": 1,
          "x2": 58,
          "x3": 0.18505193703417674,
          "x4": 521
         },
         {
          "x1": 0,
          "x2": 48,
          "x3": 0.20132159289398796,
          "x4": 522
         },
         {
          "x1": 5,
          "x2": 69,
          "x3": 0.892744472091475,
          "x4": 523
         },
         {
          "x1": 3,
          "x2": 54,
          "x3": 0.3225109120245444,
          "x4": 524
         },
         {
          "x1": 2,
          "x2": 51,
          "x3": 0.4598831523150429,
          "x4": 525
         },
         {
          "x1": 1,
          "x2": 59,
          "x3": 0.43117834679426836,
          "x4": 526
         },
         {
          "x1": 7,
          "x2": 66,
          "x3": 0.8217330506819591,
          "x4": 527
         },
         {
          "x1": 3,
          "x2": 55,
          "x3": 0.2544619325244432,
          "x4": 528
         },
         {
          "x1": 5,
          "x2": 70,
          "x3": 0.6882510642854345,
          "x4": 529
         },
         {
          "x1": 5,
          "x2": 71,
          "x3": 0.8002832613729913,
          "x4": 530
         },
         {
          "x1": 1,
          "x2": 60,
          "x3": 0.19330781909356412,
          "x4": 531
         },
         {
          "x1": 4,
          "x2": 63,
          "x3": 0.7489211936249369,
          "x4": 532
         },
         {
          "x1": 6,
          "x2": 64,
          "x3": 0.6982939906276286,
          "x4": 533
         },
         {
          "x1": 8,
          "x2": 56,
          "x3": 0.7219306782077305,
          "x4": 534
         },
         {
          "x1": 6,
          "x2": 65,
          "x3": 0.8832192928135364,
          "x4": 535
         },
         {
          "x1": 4,
          "x2": 64,
          "x3": 0.38865250005679086,
          "x4": 536
         },
         {
          "x1": 8,
          "x2": 57,
          "x3": 0.9057291373192186,
          "x4": 537
         },
         {
          "x1": 3,
          "x2": 56,
          "x3": 0.14195020658901053,
          "x4": 538
         },
         {
          "x1": 4,
          "x2": 65,
          "x3": 0.7303696012694795,
          "x4": 539
         },
         {
          "x1": 5,
          "x2": 72,
          "x3": 0.6428102994573704,
          "x4": 540
         },
         {
          "x1": 6,
          "x2": 66,
          "x3": 0.5415265673045718,
          "x4": 541
         },
         {
          "x1": 8,
          "x2": 58,
          "x3": 0.691696489182646,
          "x4": 542
         },
         {
          "x1": 8,
          "x2": 59,
          "x3": 0.9337850519966197,
          "x4": 543
         },
         {
          "x1": 3,
          "x2": 57,
          "x3": 0.7893529079289652,
          "x4": 544
         },
         {
          "x1": 2,
          "x2": 52,
          "x3": 0.141577646986671,
          "x4": 545
         },
         {
          "x1": 8,
          "x2": 60,
          "x3": 0.926159285861823,
          "x4": 546
         },
         {
          "x1": 8,
          "x2": 61,
          "x3": 0.8389159803956596,
          "x4": 547
         },
         {
          "x1": 3,
          "x2": 58,
          "x3": 0.550707630286895,
          "x4": 548
         },
         {
          "x1": 1,
          "x2": 61,
          "x3": 0.45002291007490675,
          "x4": 549
         },
         {
          "x1": 2,
          "x2": 53,
          "x3": 0.23445391419604153,
          "x4": 550
         },
         {
          "x1": 0,
          "x2": 49,
          "x3": 0.07021235240967677,
          "x4": 551
         },
         {
          "x1": 4,
          "x2": 66,
          "x3": 0.7978594454100661,
          "x4": 552
         },
         {
          "x1": 6,
          "x2": 67,
          "x3": 0.5566603814062254,
          "x4": 553
         },
         {
          "x1": 5,
          "x2": 73,
          "x3": 0.626034866275234,
          "x4": 554
         },
         {
          "x1": 7,
          "x2": 67,
          "x3": 0.7393358718365481,
          "x4": 555
         },
         {
          "x1": 2,
          "x2": 54,
          "x3": 0.414266689288468,
          "x4": 556
         },
         {
          "x1": 0,
          "x2": 50,
          "x3": 0.024169001713610083,
          "x4": 557
         },
         {
          "x1": 5,
          "x2": 74,
          "x3": 0.4947889047798888,
          "x4": 558
         },
         {
          "x1": 0,
          "x2": 51,
          "x3": 0.31308454589613993,
          "x4": 559
         },
         {
          "x1": 0,
          "x2": 52,
          "x3": 0.07600066956738573,
          "x4": 560
         },
         {
          "x1": 2,
          "x2": 55,
          "x3": 0.40226397127175034,
          "x4": 561
         },
         {
          "x1": 7,
          "x2": 68,
          "x3": 0.6755344452205213,
          "x4": 562
         },
         {
          "x1": 0,
          "x2": 53,
          "x3": 0.0346188713099202,
          "x4": 563
         },
         {
          "x1": 8,
          "x2": 62,
          "x3": 0.8941196623060287,
          "x4": 564
         },
         {
          "x1": 5,
          "x2": 75,
          "x3": 0.7354122353092394,
          "x4": 565
         },
         {
          "x1": 7,
          "x2": 69,
          "x3": 0.7962602408656486,
          "x4": 566
         },
         {
          "x1": 3,
          "x2": 59,
          "x3": 0.42369794667651356,
          "x4": 567
         },
         {
          "x1": 2,
          "x2": 56,
          "x3": 0.6782200051381759,
          "x4": 568
         },
         {
          "x1": 8,
          "x2": 63,
          "x3": 0.8804640597073008,
          "x4": 569
         },
         {
          "x1": 4,
          "x2": 67,
          "x3": 0.37842485376360924,
          "x4": 570
         },
         {
          "x1": 7,
          "x2": 70,
          "x3": 0.8319768125357377,
          "x4": 571
         },
         {
          "x1": 2,
          "x2": 57,
          "x3": 0.11663845653023579,
          "x4": 572
         },
         {
          "x1": 8,
          "x2": 64,
          "x3": 0.8866365330777053,
          "x4": 573
         },
         {
          "x1": 6,
          "x2": 68,
          "x3": 0.6497577904539408,
          "x4": 574
         },
         {
          "x1": 6,
          "x2": 69,
          "x3": 0.3099234575355989,
          "x4": 575
         },
         {
          "x1": 5,
          "x2": 76,
          "x3": 0.5785832163559268,
          "x4": 576
         },
         {
          "x1": 6,
          "x2": 70,
          "x3": 0.7332262727099638,
          "x4": 577
         },
         {
          "x1": 6,
          "x2": 71,
          "x3": 0.6668944615593169,
          "x4": 578
         },
         {
          "x1": 0,
          "x2": 54,
          "x3": 0.1895251372232117,
          "x4": 579
         },
         {
          "x1": 4,
          "x2": 68,
          "x3": 0.5199637934387098,
          "x4": 580
         },
         {
          "x1": 7,
          "x2": 71,
          "x3": 0.8178305754554357,
          "x4": 581
         },
         {
          "x1": 3,
          "x2": 60,
          "x3": 0.4615168432400258,
          "x4": 582
         },
         {
          "x1": 0,
          "x2": 55,
          "x3": 0.08107716847099025,
          "x4": 583
         },
         {
          "x1": 2,
          "x2": 58,
          "x3": 0.2459338274338202,
          "x4": 584
         },
         {
          "x1": 6,
          "x2": 72,
          "x3": 0.6656197741241358,
          "x4": 585
         },
         {
          "x1": 2,
          "x2": 59,
          "x3": 0.308365929407603,
          "x4": 586
         },
         {
          "x1": 0,
          "x2": 56,
          "x3": 0.05573591982616201,
          "x4": 587
         },
         {
          "x1": 0,
          "x2": 57,
          "x3": 0.013589253470072529,
          "x4": 588
         },
         {
          "x1": 5,
          "x2": 77,
          "x3": 0.3945225969095079,
          "x4": 589
         },
         {
          "x1": 2,
          "x2": 60,
          "x3": 0.2462303407997982,
          "x4": 590
         },
         {
          "x1": 5,
          "x2": 78,
          "x3": 0.8430979645816779,
          "x4": 591
         },
         {
          "x1": 4,
          "x2": 69,
          "x3": 0.7081593976583589,
          "x4": 592
         },
         {
          "x1": 1,
          "x2": 62,
          "x3": 0.06296095857171563,
          "x4": 593
         },
         {
          "x1": 3,
          "x2": 61,
          "x3": 0.20863567834477226,
          "x4": 594
         },
         {
          "x1": 2,
          "x2": 61,
          "x3": 0.2900190708212856,
          "x4": 595
         },
         {
          "x1": 4,
          "x2": 70,
          "x3": 0.6173872433466304,
          "x4": 596
         },
         {
          "x1": 5,
          "x2": 79,
          "x3": 0.4620040832188655,
          "x4": 597
         },
         {
          "x1": 8,
          "x2": 65,
          "x3": 0.9280658018689327,
          "x4": 598
         },
         {
          "x1": 1,
          "x2": 63,
          "x3": 0.08889631116620589,
          "x4": 599
         },
         {
          "x1": 0,
          "x2": 58,
          "x3": 0.05792296492992868,
          "x4": 600
         },
         {
          "x1": 6,
          "x2": 73,
          "x3": 0.5452055968964069,
          "x4": 601
         },
         {
          "x1": 8,
          "x2": 66,
          "x3": 0.8254643824165457,
          "x4": 602
         },
         {
          "x1": 0,
          "x2": 59,
          "x3": 0.004849514141251205,
          "x4": 603
         },
         {
          "x1": 5,
          "x2": 80,
          "x3": 0.8267524462715939,
          "x4": 604
         },
         {
          "x1": 5,
          "x2": 81,
          "x3": 0.4707840619717713,
          "x4": 605
         },
         {
          "x1": 3,
          "x2": 62,
          "x3": 0.34133911359604213,
          "x4": 606
         },
         {
          "x1": 2,
          "x2": 62,
          "x3": 0.2644288282863014,
          "x4": 607
         },
         {
          "x1": 5,
          "x2": 82,
          "x3": 0.4877734838518909,
          "x4": 608
         },
         {
          "x1": 5,
          "x2": 83,
          "x3": 0.8001290391831826,
          "x4": 609
         },
         {
          "x1": 7,
          "x2": 72,
          "x3": 0.8415430016020103,
          "x4": 610
         },
         {
          "x1": 3,
          "x2": 63,
          "x3": 0.43487923715160903,
          "x4": 611
         },
         {
          "x1": 0,
          "x2": 60,
          "x3": 0.12028333432529806,
          "x4": 612
         },
         {
          "x1": 8,
          "x2": 67,
          "x3": 0.9900276989936344,
          "x4": 613
         },
         {
          "x1": 4,
          "x2": 71,
          "x3": 0.5298153434107985,
          "x4": 614
         },
         {
          "x1": 7,
          "x2": 73,
          "x3": 0.7771351854703521,
          "x4": 615
         },
         {
          "x1": 3,
          "x2": 64,
          "x3": 0.2770637427375238,
          "x4": 616
         },
         {
          "x1": 3,
          "x2": 65,
          "x3": 0.5081770410071713,
          "x4": 617
         },
         {
          "x1": 2,
          "x2": 63,
          "x3": 0.4877494805567249,
          "x4": 618
         },
         {
          "x1": 2,
          "x2": 64,
          "x3": 0.30862043804645534,
          "x4": 619
         },
         {
          "x1": 7,
          "x2": 74,
          "x3": 0.739430724383174,
          "x4": 620
         },
         {
          "x1": 0,
          "x2": 61,
          "x3": 0.037452175960622065,
          "x4": 621
         },
         {
          "x1": 1,
          "x2": 64,
          "x3": 0.03477041982000073,
          "x4": 622
         },
         {
          "x1": 1,
          "x2": 65,
          "x3": 0.056732288810507174,
          "x4": 623
         },
         {
          "x1": 0,
          "x2": 62,
          "x3": 0.21664109759660807,
          "x4": 624
         },
         {
          "x1": 5,
          "x2": 84,
          "x3": 0.3295437144147602,
          "x4": 625
         },
         {
          "x1": 3,
          "x2": 66,
          "x3": 0.4771237007471459,
          "x4": 626
         },
         {
          "x1": 2,
          "x2": 65,
          "x3": 0.33717211963483,
          "x4": 627
         },
         {
          "x1": 8,
          "x2": 68,
          "x3": 0.9671189675414671,
          "x4": 628
         },
         {
          "x1": 3,
          "x2": 67,
          "x3": 0.5173940509148661,
          "x4": 629
         },
         {
          "x1": 2,
          "x2": 66,
          "x3": 0.2592530933429379,
          "x4": 630
         },
         {
          "x1": 5,
          "x2": 85,
          "x3": 0.5562407577944699,
          "x4": 631
         },
         {
          "x1": 1,
          "x2": 66,
          "x3": 0.135633246620633,
          "x4": 632
         },
         {
          "x1": 6,
          "x2": 74,
          "x3": 0.7209014366862051,
          "x4": 633
         },
         {
          "x1": 2,
          "x2": 67,
          "x3": 0.32450552309744435,
          "x4": 634
         },
         {
          "x1": 8,
          "x2": 69,
          "x3": 0.924446316489114,
          "x4": 635
         },
         {
          "x1": 3,
          "x2": 68,
          "x3": 0.2854057313007392,
          "x4": 636
         },
         {
          "x1": 8,
          "x2": 70,
          "x3": 0.7226268888803414,
          "x4": 637
         },
         {
          "x1": 8,
          "x2": 71,
          "x3": 0.8969443946747088,
          "x4": 638
         },
         {
          "x1": 2,
          "x2": 68,
          "x3": 0.34345902789526817,
          "x4": 639
         },
         {
          "x1": 5,
          "x2": 86,
          "x3": 0.39768051735665405,
          "x4": 640
         },
         {
          "x1": 6,
          "x2": 75,
          "x3": 0.7239720980374161,
          "x4": 641
         },
         {
          "x1": 1,
          "x2": 67,
          "x3": 0.22425380207944903,
          "x4": 642
         },
         {
          "x1": 5,
          "x2": 87,
          "x3": 0.7722992632476294,
          "x4": 643
         },
         {
          "x1": 3,
          "x2": 69,
          "x3": 0.49828632284095803,
          "x4": 644
         },
         {
          "x1": 8,
          "x2": 72,
          "x3": 0.8951223659110799,
          "x4": 645
         },
         {
          "x1": 6,
          "x2": 76,
          "x3": 0.7877080074892947,
          "x4": 646
         },
         {
          "x1": 3,
          "x2": 70,
          "x3": 0.26846484794664843,
          "x4": 647
         },
         {
          "x1": 4,
          "x2": 72,
          "x3": 0.6060595761789523,
          "x4": 648
         },
         {
          "x1": 6,
          "x2": 77,
          "x3": 0.6016028472271263,
          "x4": 649
         },
         {
          "x1": 2,
          "x2": 69,
          "x3": 0.34282114339396935,
          "x4": 650
         },
         {
          "x1": 6,
          "x2": 78,
          "x3": 0.5537355201359445,
          "x4": 651
         },
         {
          "x1": 5,
          "x2": 88,
          "x3": 0.33029030852858005,
          "x4": 652
         },
         {
          "x1": 5,
          "x2": 89,
          "x3": 0.36545123865174456,
          "x4": 653
         },
         {
          "x1": 7,
          "x2": 75,
          "x3": 0.948373713311984,
          "x4": 654
         },
         {
          "x1": 3,
          "x2": 71,
          "x3": 0.3647337290233895,
          "x4": 655
         },
         {
          "x1": 4,
          "x2": 73,
          "x3": 0.41142538302202375,
          "x4": 656
         },
         {
          "x1": 5,
          "x2": 90,
          "x3": 0.5652814233256986,
          "x4": 657
         },
         {
          "x1": 8,
          "x2": 73,
          "x3": 0.9302263431996165,
          "x4": 658
         },
         {
          "x1": 1,
          "x2": 68,
          "x3": 0.0717087409612985,
          "x4": 659
         },
         {
          "x1": 2,
          "x2": 70,
          "x3": 0.3900509127002271,
          "x4": 660
         },
         {
          "x1": 2,
          "x2": 71,
          "x3": 0.1510355438602147,
          "x4": 661
         },
         {
          "x1": 4,
          "x2": 74,
          "x3": 0.42097908561758274,
          "x4": 662
         },
         {
          "x1": 2,
          "x2": 72,
          "x3": 0.12682002990362945,
          "x4": 663
         },
         {
          "x1": 1,
          "x2": 69,
          "x3": 0.13689513797268937,
          "x4": 664
         },
         {
          "x1": 4,
          "x2": 75,
          "x3": 0.527091307900257,
          "x4": 665
         },
         {
          "x1": 7,
          "x2": 76,
          "x3": 0.9153108439773753,
          "x4": 666
         },
         {
          "x1": 6,
          "x2": 79,
          "x3": 0.861680483858983,
          "x4": 667
         },
         {
          "x1": 8,
          "x2": 74,
          "x3": 0.9821550533038934,
          "x4": 668
         },
         {
          "x1": 3,
          "x2": 72,
          "x3": 0.5348408952147056,
          "x4": 669
         },
         {
          "x1": 7,
          "x2": 77,
          "x3": 0.8897124760415195,
          "x4": 670
         },
         {
          "x1": 5,
          "x2": 91,
          "x3": 0.6212027996448043,
          "x4": 671
         },
         {
          "x1": 8,
          "x2": 75,
          "x3": 0.8786390741424447,
          "x4": 672
         },
         {
          "x1": 6,
          "x2": 80,
          "x3": 0.5711114122005667,
          "x4": 673
         },
         {
          "x1": 4,
          "x2": 76,
          "x3": 0.3849700957024757,
          "x4": 674
         },
         {
          "x1": 3,
          "x2": 73,
          "x3": 0.6077967221075404,
          "x4": 675
         },
         {
          "x1": 7,
          "x2": 78,
          "x3": 0.6294618737537734,
          "x4": 676
         },
         {
          "x1": 5,
          "x2": 92,
          "x3": 0.8413501108808913,
          "x4": 677
         },
         {
          "x1": 4,
          "x2": 77,
          "x3": 0.8421179336335833,
          "x4": 678
         },
         {
          "x1": 1,
          "x2": 70,
          "x3": 0.2506298676499626,
          "x4": 679
         },
         {
          "x1": 7,
          "x2": 79,
          "x3": 0.8424315557216112,
          "x4": 680
         },
         {
          "x1": 1,
          "x2": 71,
          "x3": 0.09918121505012814,
          "x4": 681
         },
         {
          "x1": 3,
          "x2": 74,
          "x3": 0.43818820633959593,
          "x4": 682
         },
         {
          "x1": 2,
          "x2": 73,
          "x3": 0.15195742304128312,
          "x4": 683
         },
         {
          "x1": 2,
          "x2": 74,
          "x3": 0.177407956010699,
          "x4": 684
         },
         {
          "x1": 7,
          "x2": 80,
          "x3": 0.7739052787197627,
          "x4": 685
         },
         {
          "x1": 0,
          "x2": 63,
          "x3": 0.06723294218911752,
          "x4": 686
         },
         {
          "x1": 1,
          "x2": 72,
          "x3": 0.5120401958658924,
          "x4": 687
         },
         {
          "x1": 2,
          "x2": 75,
          "x3": 0.26088639132333624,
          "x4": 688
         },
         {
          "x1": 6,
          "x2": 81,
          "x3": 0.6401527774137329,
          "x4": 689
         },
         {
          "x1": 4,
          "x2": 78,
          "x3": 0.35055673777103263,
          "x4": 690
         },
         {
          "x1": 3,
          "x2": 75,
          "x3": 0.2545393931927029,
          "x4": 691
         },
         {
          "x1": 1,
          "x2": 73,
          "x3": 0.09039049243965949,
          "x4": 692
         },
         {
          "x1": 0,
          "x2": 64,
          "x3": 0.11159198627955222,
          "x4": 693
         },
         {
          "x1": 7,
          "x2": 81,
          "x3": 0.8834815467641814,
          "x4": 694
         },
         {
          "x1": 4,
          "x2": 79,
          "x3": 0.7046252232333914,
          "x4": 695
         },
         {
          "x1": 6,
          "x2": 82,
          "x3": 0.6925752514421948,
          "x4": 696
         },
         {
          "x1": 3,
          "x2": 76,
          "x3": 0.4779775642212395,
          "x4": 697
         },
         {
          "x1": 0,
          "x2": 65,
          "x3": 0.128532640068137,
          "x4": 698
         },
         {
          "x1": 7,
          "x2": 82,
          "x3": 0.8867994114159823,
          "x4": 699
         },
         {
          "x1": 2,
          "x2": 76,
          "x3": 0.43455782127147907,
          "x4": 700
         },
         {
          "x1": 4,
          "x2": 80,
          "x3": 0.6117403191529005,
          "x4": 701
         },
         {
          "x1": 2,
          "x2": 77,
          "x3": 0.4018570956769669,
          "x4": 702
         },
         {
          "x1": 4,
          "x2": 81,
          "x3": 0.26810102679311854,
          "x4": 703
         },
         {
          "x1": 1,
          "x2": 74,
          "x3": 0.17116429256201346,
          "x4": 704
         },
         {
          "x1": 2,
          "x2": 78,
          "x3": 0.29998733430911423,
          "x4": 705
         },
         {
          "x1": 4,
          "x2": 82,
          "x3": 0.6793088729762838,
          "x4": 706
         },
         {
          "x1": 4,
          "x2": 83,
          "x3": 0.4717035767030997,
          "x4": 707
         },
         {
          "x1": 2,
          "x2": 79,
          "x3": 0.46540986108376137,
          "x4": 708
         },
         {
          "x1": 3,
          "x2": 77,
          "x3": 0.3147637817910783,
          "x4": 709
         },
         {
          "x1": 5,
          "x2": 93,
          "x3": 0.5596793610484442,
          "x4": 710
         },
         {
          "x1": 3,
          "x2": 78,
          "x3": 0.3277212777156527,
          "x4": 711
         },
         {
          "x1": 1,
          "x2": 75,
          "x3": 0.05522049653006806,
          "x4": 712
         },
         {
          "x1": 0,
          "x2": 66,
          "x3": 0.07605375428855204,
          "x4": 713
         },
         {
          "x1": 3,
          "x2": 79,
          "x3": 0.5266240279061469,
          "x4": 714
         },
         {
          "x1": 7,
          "x2": 83,
          "x3": 0.9175116538599655,
          "x4": 715
         },
         {
          "x1": 3,
          "x2": 80,
          "x3": 0.3310131247600232,
          "x4": 716
         },
         {
          "x1": 6,
          "x2": 83,
          "x3": 0.7359762607160626,
          "x4": 717
         },
         {
          "x1": 0,
          "x2": 67,
          "x3": 0.01557840504091704,
          "x4": 718
         },
         {
          "x1": 6,
          "x2": 84,
          "x3": 0.5925930410985537,
          "x4": 719
         },
         {
          "x1": 1,
          "x2": 76,
          "x3": 0.06558413613600511,
          "x4": 720
         },
         {
          "x1": 5,
          "x2": 94,
          "x3": 0.3673693942237777,
          "x4": 721
         },
         {
          "x1": 3,
          "x2": 81,
          "x3": 0.5753552404703718,
          "x4": 722
         },
         {
          "x1": 6,
          "x2": 85,
          "x3": 0.9853827691390269,
          "x4": 723
         },
         {
          "x1": 0,
          "x2": 68,
          "x3": 0.20533830890060467,
          "x4": 724
         },
         {
          "x1": 3,
          "x2": 82,
          "x3": 0.23367484919493878,
          "x4": 725
         },
         {
          "x1": 2,
          "x2": 80,
          "x3": 0.575119387590307,
          "x4": 726
         },
         {
          "x1": 0,
          "x2": 69,
          "x3": 0.3331382195262838,
          "x4": 727
         },
         {
          "x1": 2,
          "x2": 81,
          "x3": 0.24509176560612528,
          "x4": 728
         },
         {
          "x1": 0,
          "x2": 70,
          "x3": 0.050425605677571476,
          "x4": 729
         },
         {
          "x1": 0,
          "x2": 71,
          "x3": 0.004099675229042469,
          "x4": 730
         },
         {
          "x1": 6,
          "x2": 86,
          "x3": 0.6171436695380301,
          "x4": 731
         },
         {
          "x1": 4,
          "x2": 84,
          "x3": 0.7122831939783107,
          "x4": 732
         },
         {
          "x1": 2,
          "x2": 82,
          "x3": 0.3320570233749123,
          "x4": 733
         },
         {
          "x1": 3,
          "x2": 83,
          "x3": 0.48407644878831557,
          "x4": 734
         },
         {
          "x1": 4,
          "x2": 85,
          "x3": 0.6696544439518686,
          "x4": 735
         },
         {
          "x1": 7,
          "x2": 84,
          "x3": 0.7253653754863897,
          "x4": 736
         },
         {
          "x1": 6,
          "x2": 87,
          "x3": 0.6266058453623135,
          "x4": 737
         },
         {
          "x1": 2,
          "x2": 83,
          "x3": 0.16723490494189805,
          "x4": 738
         },
         {
          "x1": 6,
          "x2": 88,
          "x3": 0.8170679982282014,
          "x4": 739
         },
         {
          "x1": 4,
          "x2": 86,
          "x3": 0.2802030947716021,
          "x4": 740
         },
         {
          "x1": 7,
          "x2": 85,
          "x3": 0.7947393312749965,
          "x4": 741
         },
         {
          "x1": 2,
          "x2": 84,
          "x3": 0.29488486882101433,
          "x4": 742
         },
         {
          "x1": 2,
          "x2": 85,
          "x3": 0.3114154362338606,
          "x4": 743
         },
         {
          "x1": 0,
          "x2": 72,
          "x3": 0.18675192969219792,
          "x4": 744
         },
         {
          "x1": 1,
          "x2": 77,
          "x3": 0.030118971632890394,
          "x4": 745
         },
         {
          "x1": 7,
          "x2": 86,
          "x3": 0.9217746570311114,
          "x4": 746
         },
         {
          "x1": 6,
          "x2": 89,
          "x3": 0.7549777045180268,
          "x4": 747
         },
         {
          "x1": 8,
          "x2": 76,
          "x3": 0.8349889064567716,
          "x4": 748
         },
         {
          "x1": 8,
          "x2": 77,
          "x3": 0.963536560232261,
          "x4": 749
         },
         {
          "x1": 1,
          "x2": 78,
          "x3": 0.3125806848150327,
          "x4": 750
         },
         {
          "x1": 7,
          "x2": 87,
          "x3": 0.7456534845418353,
          "x4": 751
         },
         {
          "x1": 3,
          "x2": 84,
          "x3": 0.6199037446503601,
          "x4": 752
         },
         {
          "x1": 1,
          "x2": 79,
          "x3": 0.17762622604784123,
          "x4": 753
         },
         {
          "x1": 6,
          "x2": 90,
          "x3": 0.8653410940849259,
          "x4": 754
         },
         {
          "x1": 8,
          "x2": 78,
          "x3": 0.6837710423654229,
          "x4": 755
         },
         {
          "x1": 8,
          "x2": 79,
          "x3": 0.9160690950801346,
          "x4": 756
         },
         {
          "x1": 6,
          "x2": 91,
          "x3": 0.7087779233627751,
          "x4": 757
         },
         {
          "x1": 0,
          "x2": 73,
          "x3": 0.03046936512580025,
          "x4": 758
         },
         {
          "x1": 0,
          "x2": 74,
          "x3": 0.16578757464892882,
          "x4": 759
         },
         {
          "x1": 4,
          "x2": 87,
          "x3": 0.5818923691973688,
          "x4": 760
         },
         {
          "x1": 7,
          "x2": 88,
          "x3": 0.6896272294818866,
          "x4": 761
         },
         {
          "x1": 8,
          "x2": 80,
          "x3": 0.9926865640647765,
          "x4": 762
         },
         {
          "x1": 0,
          "x2": 75,
          "x3": 0.14224054029983704,
          "x4": 763
         },
         {
          "x1": 6,
          "x2": 92,
          "x3": 0.7447120146434183,
          "x4": 764
         },
         {
          "x1": 3,
          "x2": 85,
          "x3": 0.4895105340178442,
          "x4": 765
         },
         {
          "x1": 8,
          "x2": 81,
          "x3": 0.8557933503576014,
          "x4": 766
         },
         {
          "x1": 3,
          "x2": 86,
          "x3": 0.3891451421554088,
          "x4": 767
         },
         {
          "x1": 2,
          "x2": 86,
          "x3": 0.3893708615931062,
          "x4": 768
         },
         {
          "x1": 5,
          "x2": 95,
          "x3": 0.6869621994937196,
          "x4": 769
         },
         {
          "x1": 7,
          "x2": 89,
          "x3": 0.8919419732130355,
          "x4": 770
         },
         {
          "x1": 7,
          "x2": 90,
          "x3": 0.855460894980199,
          "x4": 771
         },
         {
          "x1": 6,
          "x2": 93,
          "x3": 0.7295998274085141,
          "x4": 772
         },
         {
          "x1": 8,
          "x2": 82,
          "x3": 0.9837156206543035,
          "x4": 773
         },
         {
          "x1": 8,
          "x2": 83,
          "x3": 0.7700919486556889,
          "x4": 774
         },
         {
          "x1": 2,
          "x2": 87,
          "x3": 0.5242523823778366,
          "x4": 775
         },
         {
          "x1": 5,
          "x2": 96,
          "x3": 0.7475562395971599,
          "x4": 776
         },
         {
          "x1": 3,
          "x2": 87,
          "x3": 0.1803811539191805,
          "x4": 777
         },
         {
          "x1": 5,
          "x2": 97,
          "x3": 0.6255426857283849,
          "x4": 778
         },
         {
          "x1": 5,
          "x2": 98,
          "x3": 0.4963891373892127,
          "x4": 779
         },
         {
          "x1": 6,
          "x2": 94,
          "x3": 0.5722114693611664,
          "x4": 780
         },
         {
          "x1": 5,
          "x2": 99,
          "x3": 0.6945506476195001,
          "x4": 781
         },
         {
          "x1": 6,
          "x2": 95,
          "x3": 0.5683313468642902,
          "x4": 782
         },
         {
          "x1": 0,
          "x2": 76,
          "x3": 0.05248415634064106,
          "x4": 783
         },
         {
          "x1": 5,
          "x2": 100,
          "x3": 0.3849821475368703,
          "x4": 784
         },
         {
          "x1": 1,
          "x2": 80,
          "x3": 0.062173389727336534,
          "x4": 785
         },
         {
          "x1": 6,
          "x2": 96,
          "x3": 0.5173362659318117,
          "x4": 786
         },
         {
          "x1": 5,
          "x2": 101,
          "x3": 0.8645583485552795,
          "x4": 787
         },
         {
          "x1": 5,
          "x2": 102,
          "x3": 0.8175849876668886,
          "x4": 788
         },
         {
          "x1": 8,
          "x2": 84,
          "x3": 0.8390505540317186,
          "x4": 789
         },
         {
          "x1": 5,
          "x2": 103,
          "x3": 0.7224236073648035,
          "x4": 790
         },
         {
          "x1": 0,
          "x2": 77,
          "x3": 0.002115544879447973,
          "x4": 791
         },
         {
          "x1": 5,
          "x2": 104,
          "x3": 0.5549593107848171,
          "x4": 792
         },
         {
          "x1": 4,
          "x2": 88,
          "x3": 0.730158643049487,
          "x4": 793
         },
         {
          "x1": 5,
          "x2": 105,
          "x3": 0.7836945161958508,
          "x4": 794
         },
         {
          "x1": 5,
          "x2": 106,
          "x3": 0.622127260670951,
          "x4": 795
         },
         {
          "x1": 7,
          "x2": 91,
          "x3": 0.692303856277217,
          "x4": 796
         },
         {
          "x1": 0,
          "x2": 78,
          "x3": 0.014200102145181363,
          "x4": 797
         },
         {
          "x1": 5,
          "x2": 107,
          "x3": 0.48460475588502244,
          "x4": 798
         },
         {
          "x1": 1,
          "x2": 81,
          "x3": 0.305711935595332,
          "x4": 799
         },
         {
          "x1": 0,
          "x2": 79,
          "x3": 0.2899732521163884,
          "x4": 800
         },
         {
          "x1": 7,
          "x2": 92,
          "x3": 0.911836452044275,
          "x4": 801
         },
         {
          "x1": 1,
          "x2": 82,
          "x3": 0.15827012310563313,
          "x4": 802
         },
         {
          "x1": 1,
          "x2": 83,
          "x3": 0.28457076505003204,
          "x4": 803
         },
         {
          "x1": 2,
          "x2": 88,
          "x3": 0.5472257597484032,
          "x4": 804
         },
         {
          "x1": 4,
          "x2": 89,
          "x3": 0.6304299835457938,
          "x4": 805
         },
         {
          "x1": 1,
          "x2": 84,
          "x3": 0.1448511025847525,
          "x4": 806
         },
         {
          "x1": 4,
          "x2": 90,
          "x3": 0.2787497178792069,
          "x4": 807
         },
         {
          "x1": 4,
          "x2": 91,
          "x3": 0.6984704913562468,
          "x4": 808
         },
         {
          "x1": 2,
          "x2": 89,
          "x3": 0.2430091013149985,
          "x4": 809
         },
         {
          "x1": 4,
          "x2": 92,
          "x3": 0.30118397876426034,
          "x4": 810
         },
         {
          "x1": 0,
          "x2": 80,
          "x3": 0.07856708681635895,
          "x4": 811
         },
         {
          "x1": 8,
          "x2": 85,
          "x3": 0.9900186511332758,
          "x4": 812
         },
         {
          "x1": 8,
          "x2": 86,
          "x3": 0.6582379464373643,
          "x4": 813
         },
         {
          "x1": 4,
          "x2": 93,
          "x3": 0.4737362107354049,
          "x4": 814
         },
         {
          "x1": 3,
          "x2": 88,
          "x3": 0.6020299194966776,
          "x4": 815
         },
         {
          "x1": 1,
          "x2": 85,
          "x3": 0.03669846542102299,
          "x4": 816
         },
         {
          "x1": 5,
          "x2": 108,
          "x3": 0.6423070076658048,
          "x4": 817
         },
         {
          "x1": 6,
          "x2": 97,
          "x3": 0.43377174528256546,
          "x4": 818
         },
         {
          "x1": 8,
          "x2": 87,
          "x3": 0.9662246302810865,
          "x4": 819
         },
         {
          "x1": 3,
          "x2": 89,
          "x3": 0.37360379266337257,
          "x4": 820
         },
         {
          "x1": 3,
          "x2": 90,
          "x3": 0.48848989987658453,
          "x4": 821
         },
         {
          "x1": 6,
          "x2": 98,
          "x3": 0.9268175065782824,
          "x4": 822
         },
         {
          "x1": 1,
          "x2": 86,
          "x3": 0.13083736614085434,
          "x4": 823
         },
         {
          "x1": 3,
          "x2": 91,
          "x3": 0.3459729641824104,
          "x4": 824
         },
         {
          "x1": 6,
          "x2": 99,
          "x3": 0.6553757598724409,
          "x4": 825
         },
         {
          "x1": 5,
          "x2": 109,
          "x3": 0.49989694942700896,
          "x4": 826
         },
         {
          "x1": 1,
          "x2": 87,
          "x3": 0.038130782625575475,
          "x4": 827
         },
         {
          "x1": 7,
          "x2": 93,
          "x3": 0.8617985144563285,
          "x4": 828
         },
         {
          "x1": 4,
          "x2": 94,
          "x3": 0.5097248925463133,
          "x4": 829
         },
         {
          "x1": 3,
          "x2": 92,
          "x3": 0.497114918404572,
          "x4": 830
         },
         {
          "x1": 8,
          "x2": 88,
          "x3": 0.9077024380318482,
          "x4": 831
         },
         {
          "x1": 4,
          "x2": 95,
          "x3": 0.3871337834180788,
          "x4": 832
         },
         {
          "x1": 5,
          "x2": 110,
          "x3": 0.5581759630034298,
          "x4": 833
         },
         {
          "x1": 2,
          "x2": 90,
          "x3": 0.34219263011043505,
          "x4": 834
         },
         {
          "x1": 0,
          "x2": 81,
          "x3": 0.09857991227320277,
          "x4": 835
         },
         {
          "x1": 1,
          "x2": 88,
          "x3": 0.0795078800009926,
          "x4": 836
         },
         {
          "x1": 7,
          "x2": 94,
          "x3": 0.8903804874686326,
          "x4": 837
         },
         {
          "x1": 0,
          "x2": 82,
          "x3": 0.03981807889001085,
          "x4": 838
         },
         {
          "x1": 0,
          "x2": 83,
          "x3": 0.2465175385795672,
          "x4": 839
         },
         {
          "x1": 1,
          "x2": 89,
          "x3": 0.4090293006288848,
          "x4": 840
         },
         {
          "x1": 2,
          "x2": 91,
          "x3": 0.6937919532447082,
          "x4": 841
         },
         {
          "x1": 0,
          "x2": 84,
          "x3": 0.17582187498469068,
          "x4": 842
         },
         {
          "x1": 6,
          "x2": 100,
          "x3": 0.8995790252917819,
          "x4": 843
         },
         {
          "x1": 5,
          "x2": 111,
          "x3": 0.6146144886612913,
          "x4": 844
         },
         {
          "x1": 8,
          "x2": 89,
          "x3": 0.947036277878097,
          "x4": 845
         },
         {
          "x1": 1,
          "x2": 90,
          "x3": 0.06648235607102386,
          "x4": 846
         },
         {
          "x1": 7,
          "x2": 95,
          "x3": 0.8173480737230618,
          "x4": 847
         },
         {
          "x1": 6,
          "x2": 101,
          "x3": 0.3947601124613701,
          "x4": 848
         },
         {
          "x1": 7,
          "x2": 96,
          "x3": 0.8626823181100458,
          "x4": 849
         },
         {
          "x1": 0,
          "x2": 85,
          "x3": 0.14020599125758124,
          "x4": 850
         },
         {
          "x1": 4,
          "x2": 96,
          "x3": 0.423584970494037,
          "x4": 851
         },
         {
          "x1": 3,
          "x2": 93,
          "x3": 0.28968491986478395,
          "x4": 852
         },
         {
          "x1": 4,
          "x2": 97,
          "x3": 0.4712001068734329,
          "x4": 853
         },
         {
          "x1": 5,
          "x2": 112,
          "x3": 0.48064576948468946,
          "x4": 854
         },
         {
          "x1": 4,
          "x2": 98,
          "x3": 0.5751944459745302,
          "x4": 855
         },
         {
          "x1": 8,
          "x2": 90,
          "x3": 0.9860662710177776,
          "x4": 856
         },
         {
          "x1": 7,
          "x2": 97,
          "x3": 0.5098759165776866,
          "x4": 857
         },
         {
          "x1": 6,
          "x2": 102,
          "x3": 0.7014305479366625,
          "x4": 858
         },
         {
          "x1": 6,
          "x2": 103,
          "x3": 0.678833924932889,
          "x4": 859
         },
         {
          "x1": 8,
          "x2": 91,
          "x3": 0.9731755963166607,
          "x4": 860
         },
         {
          "x1": 3,
          "x2": 94,
          "x3": 0.3516247566428194,
          "x4": 861
         },
         {
          "x1": 1,
          "x2": 91,
          "x3": 0.21762180379650162,
          "x4": 862
         },
         {
          "x1": 0,
          "x2": 86,
          "x3": 0.031627475740694265,
          "x4": 863
         },
         {
          "x1": 1,
          "x2": 92,
          "x3": 0.2084458063654052,
          "x4": 864
         },
         {
          "x1": 0,
          "x2": 87,
          "x3": 0.1444128243846161,
          "x4": 865
         },
         {
          "x1": 5,
          "x2": 113,
          "x3": 0.6183963023038748,
          "x4": 866
         },
         {
          "x1": 1,
          "x2": 93,
          "x3": 0.2945512823087183,
          "x4": 867
         },
         {
          "x1": 2,
          "x2": 92,
          "x3": 0.13092065566024216,
          "x4": 868
         },
         {
          "x1": 8,
          "x2": 92,
          "x3": 0.8840237275803937,
          "x4": 869
         },
         {
          "x1": 1,
          "x2": 94,
          "x3": 0.17076307459920742,
          "x4": 870
         },
         {
          "x1": 8,
          "x2": 93,
          "x3": 0.881121121415323,
          "x4": 871
         },
         {
          "x1": 4,
          "x2": 99,
          "x3": 0.6037092166595307,
          "x4": 872
         },
         {
          "x1": 0,
          "x2": 88,
          "x3": 0.017568103908786156,
          "x4": 873
         },
         {
          "x1": 1,
          "x2": 95,
          "x3": 0.12436226599261348,
          "x4": 874
         },
         {
          "x1": 3,
          "x2": 95,
          "x3": 0.5165764426399101,
          "x4": 875
         },
         {
          "x1": 3,
          "x2": 96,
          "x3": 0.2714368131709698,
          "x4": 876
         },
         {
          "x1": 7,
          "x2": 98,
          "x3": 0.9162611766501731,
          "x4": 877
         },
         {
          "x1": 0,
          "x2": 89,
          "x3": 0.05623123457271975,
          "x4": 878
         },
         {
          "x1": 3,
          "x2": 97,
          "x3": 0.39705231899913307,
          "x4": 879
         },
         {
          "x1": 8,
          "x2": 94,
          "x3": 0.983332822065345,
          "x4": 880
         },
         {
          "x1": 1,
          "x2": 96,
          "x3": 0.16661201663509698,
          "x4": 881
         },
         {
          "x1": 4,
          "x2": 100,
          "x3": 0.5098487305220132,
          "x4": 882
         },
         {
          "x1": 4,
          "x2": 101,
          "x3": 0.6497393032929399,
          "x4": 883
         },
         {
          "x1": 8,
          "x2": 95,
          "x3": 0.8506253122155563,
          "x4": 884
         },
         {
          "x1": 1,
          "x2": 97,
          "x3": 0.39843191146382806,
          "x4": 885
         },
         {
          "x1": 8,
          "x2": 96,
          "x3": 0.9966397620597094,
          "x4": 886
         },
         {
          "x1": 1,
          "x2": 98,
          "x3": 0.10921124574503949,
          "x4": 887
         },
         {
          "x1": 7,
          "x2": 99,
          "x3": 0.8218992126953619,
          "x4": 888
         },
         {
          "x1": 5,
          "x2": 114,
          "x3": 0.5623596193315002,
          "x4": 889
         },
         {
          "x1": 0,
          "x2": 90,
          "x3": 0.05383740930275892,
          "x4": 890
         },
         {
          "x1": 5,
          "x2": 115,
          "x3": 0.9062559605873367,
          "x4": 891
         },
         {
          "x1": 5,
          "x2": 116,
          "x3": 0.5830183776697112,
          "x4": 892
         },
         {
          "x1": 0,
          "x2": 91,
          "x3": 0.02365063228607678,
          "x4": 893
         },
         {
          "x1": 6,
          "x2": 104,
          "x3": 0.7772685909624301,
          "x4": 894
         },
         {
          "x1": 6,
          "x2": 105,
          "x3": 0.6962700168125413,
          "x4": 895
         },
         {
          "x1": 1,
          "x2": 99,
          "x3": 0.15330647701961317,
          "x4": 896
         },
         {
          "x1": 6,
          "x2": 106,
          "x3": 0.8342957158020218,
          "x4": 897
         },
         {
          "x1": 4,
          "x2": 102,
          "x3": 0.7132170497039769,
          "x4": 898
         },
         {
          "x1": 0,
          "x2": 92,
          "x3": 0.003909290061735434,
          "x4": 899
         },
         {
          "x1": 6,
          "x2": 107,
          "x3": 0.7770162947973898,
          "x4": 900
         },
         {
          "x1": 3,
          "x2": 98,
          "x3": 0.4374629074636965,
          "x4": 901
         },
         {
          "x1": 1,
          "x2": 100,
          "x3": 0.042966353703941015,
          "x4": 902
         },
         {
          "x1": 0,
          "x2": 93,
          "x3": 0.19563744118889242,
          "x4": 903
         },
         {
          "x1": 4,
          "x2": 103,
          "x3": 0.2995393381326031,
          "x4": 904
         },
         {
          "x1": 5,
          "x2": 117,
          "x3": 0.6457190227254785,
          "x4": 905
         },
         {
          "x1": 7,
          "x2": 100,
          "x3": 0.5061110887258843,
          "x4": 906
         },
         {
          "x1": 5,
          "x2": 118,
          "x3": 0.4883419320119873,
          "x4": 907
         },
         {
          "x1": 8,
          "x2": 97,
          "x3": 0.9665287076803752,
          "x4": 908
         },
         {
          "x1": 0,
          "x2": 94,
          "x3": 0.0576416827913456,
          "x4": 909
         },
         {
          "x1": 0,
          "x2": 95,
          "x3": 0.049241307133781755,
          "x4": 910
         },
         {
          "x1": 6,
          "x2": 108,
          "x3": 0.705862390482153,
          "x4": 911
         },
         {
          "x1": 8,
          "x2": 98,
          "x3": 0.9212720012459084,
          "x4": 912
         },
         {
          "x1": 0,
          "x2": 96,
          "x3": 0.09658320477232611,
          "x4": 913
         },
         {
          "x1": 6,
          "x2": 109,
          "x3": 0.4954714705007616,
          "x4": 914
         },
         {
          "x1": 1,
          "x2": 101,
          "x3": 0.43066008947909734,
          "x4": 915
         },
         {
          "x1": 4,
          "x2": 104,
          "x3": 0.5289701112339291,
          "x4": 916
         },
         {
          "x1": 8,
          "x2": 99,
          "x3": 0.9809588931471027,
          "x4": 917
         },
         {
          "x1": 1,
          "x2": 102,
          "x3": 0.0667645705374001,
          "x4": 918
         },
         {
          "x1": 2,
          "x2": 93,
          "x3": 0.3071000404899666,
          "x4": 919
         },
         {
          "x1": 1,
          "x2": 103,
          "x3": 0.06891954756326703,
          "x4": 920
         },
         {
          "x1": 5,
          "x2": 119,
          "x3": 0.6514752303473016,
          "x4": 921
         },
         {
          "x1": 1,
          "x2": 104,
          "x3": 0.2707984071220408,
          "x4": 922
         },
         {
          "x1": 8,
          "x2": 100,
          "x3": 0.9070320087086389,
          "x4": 923
         },
         {
          "x1": 4,
          "x2": 105,
          "x3": 0.6934472346345509,
          "x4": 924
         },
         {
          "x1": 7,
          "x2": 101,
          "x3": 0.5903921988563847,
          "x4": 925
         },
         {
          "x1": 8,
          "x2": 101,
          "x3": 0.7675478302116959,
          "x4": 926
         },
         {
          "x1": 8,
          "x2": 102,
          "x3": 0.8874442582985191,
          "x4": 927
         },
         {
          "x1": 4,
          "x2": 106,
          "x3": 0.5218842360182477,
          "x4": 928
         },
         {
          "x1": 0,
          "x2": 97,
          "x3": 0.11332590040006656,
          "x4": 929
         },
         {
          "x1": 6,
          "x2": 110,
          "x3": 0.4779779702721934,
          "x4": 930
         },
         {
          "x1": 7,
          "x2": 102,
          "x3": 0.7792171153913428,
          "x4": 931
         },
         {
          "x1": 5,
          "x2": 120,
          "x3": 0.6167019686659381,
          "x4": 932
         },
         {
          "x1": 7,
          "x2": 103,
          "x3": 0.7109536226669129,
          "x4": 933
         },
         {
          "x1": 6,
          "x2": 111,
          "x3": 0.7476334370688257,
          "x4": 934
         },
         {
          "x1": 1,
          "x2": 105,
          "x3": 0.23929120738163975,
          "x4": 935
         },
         {
          "x1": 1,
          "x2": 106,
          "x3": 0.10960879494015449,
          "x4": 936
         },
         {
          "x1": 7,
          "x2": 104,
          "x3": 0.9417845580763017,
          "x4": 937
         },
         {
          "x1": 2,
          "x2": 94,
          "x3": 0.24894603679784086,
          "x4": 938
         },
         {
          "x1": 2,
          "x2": 95,
          "x3": 0.3579307257477796,
          "x4": 939
         },
         {
          "x1": 2,
          "x2": 96,
          "x3": 0.1339282602426388,
          "x4": 940
         },
         {
          "x1": 4,
          "x2": 107,
          "x3": 0.3942691793171568,
          "x4": 941
         },
         {
          "x1": 6,
          "x2": 112,
          "x3": 0.5897031682070398,
          "x4": 942
         },
         {
          "x1": 2,
          "x2": 97,
          "x3": 0.06760673405773436,
          "x4": 943
         },
         {
          "x1": 0,
          "x2": 98,
          "x3": 0.001448216106234514,
          "x4": 944
         },
         {
          "x1": 0,
          "x2": 99,
          "x3": 0.07484278312679318,
          "x4": 945
         },
         {
          "x1": 8,
          "x2": 103,
          "x3": 0.9351533525006104,
          "x4": 946
         },
         {
          "x1": 3,
          "x2": 99,
          "x3": 0.34698895450359296,
          "x4": 947
         },
         {
          "x1": 7,
          "x2": 105,
          "x3": 0.8276096972568857,
          "x4": 948
         },
         {
          "x1": 8,
          "x2": 104,
          "x3": 0.9010858245519883,
          "x4": 949
         },
         {
          "x1": 7,
          "x2": 106,
          "x3": 0.9105790839531713,
          "x4": 950
         },
         {
          "x1": 8,
          "x2": 105,
          "x3": 0.961293021563513,
          "x4": 951
         },
         {
          "x1": 8,
          "x2": 106,
          "x3": 0.9832300521624101,
          "x4": 952
         },
         {
          "x1": 0,
          "x2": 100,
          "x3": 0.05783173893860632,
          "x4": 953
         },
         {
          "x1": 3,
          "x2": 100,
          "x3": 0.4833177027721072,
          "x4": 954
         },
         {
          "x1": 3,
          "x2": 101,
          "x3": 0.42893439647458675,
          "x4": 955
         },
         {
          "x1": 2,
          "x2": 98,
          "x3": 0.3519672540701595,
          "x4": 956
         },
         {
          "x1": 5,
          "x2": 121,
          "x3": 0.5588427689557973,
          "x4": 957
         },
         {
          "x1": 5,
          "x2": 122,
          "x3": 0.6001949821628171,
          "x4": 958
         },
         {
          "x1": 5,
          "x2": 123,
          "x3": 0.6358012296202507,
          "x4": 959
         },
         {
          "x1": 4,
          "x2": 108,
          "x3": 0.4541833431123853,
          "x4": 960
         },
         {
          "x1": 7,
          "x2": 107,
          "x3": 0.8343366323712671,
          "x4": 961
         },
         {
          "x1": 2,
          "x2": 99,
          "x3": 0.25106012228641555,
          "x4": 962
         },
         {
          "x1": 7,
          "x2": 108,
          "x3": 0.6852195984481972,
          "x4": 963
         },
         {
          "x1": 3,
          "x2": 102,
          "x3": 0.29899956879881956,
          "x4": 964
         },
         {
          "x1": 8,
          "x2": 107,
          "x3": 0.939366444122898,
          "x4": 965
         },
         {
          "x1": 3,
          "x2": 103,
          "x3": 0.37077561024283545,
          "x4": 966
         },
         {
          "x1": 6,
          "x2": 113,
          "x3": 0.2809064266770001,
          "x4": 967
         },
         {
          "x1": 8,
          "x2": 108,
          "x3": 0.885544008702443,
          "x4": 968
         },
         {
          "x1": 8,
          "x2": 109,
          "x3": 0.9747157573118355,
          "x4": 969
         },
         {
          "x1": 1,
          "x2": 107,
          "x3": 0.15779424969829656,
          "x4": 970
         },
         {
          "x1": 0,
          "x2": 101,
          "x3": 0.15374123261370742,
          "x4": 971
         },
         {
          "x1": 1,
          "x2": 108,
          "x3": 0.098915470561854,
          "x4": 972
         },
         {
          "x1": 2,
          "x2": 100,
          "x3": 0.23921827064490636,
          "x4": 973
         },
         {
          "x1": 8,
          "x2": 110,
          "x3": 0.9500517588126214,
          "x4": 974
         },
         {
          "x1": 0,
          "x2": 102,
          "x3": 0.46728736266029103,
          "x4": 975
         },
         {
          "x1": 4,
          "x2": 109,
          "x3": 0.6333334621143997,
          "x4": 976
         },
         {
          "x1": 0,
          "x2": 103,
          "x3": 0.120016315512324,
          "x4": 977
         },
         {
          "x1": 8,
          "x2": 111,
          "x3": 0.9486551012749178,
          "x4": 978
         },
         {
          "x1": 2,
          "x2": 101,
          "x3": 0.2928755222876285,
          "x4": 979
         },
         {
          "x1": 2,
          "x2": 102,
          "x3": 0.36784698815334854,
          "x4": 980
         },
         {
          "x1": 0,
          "x2": 104,
          "x3": 0.047614888983480055,
          "x4": 981
         },
         {
          "x1": 4,
          "x2": 110,
          "x3": 0.41036290232399747,
          "x4": 982
         },
         {
          "x1": 2,
          "x2": 103,
          "x3": 0.23484941634545065,
          "x4": 983
         },
         {
          "x1": 1,
          "x2": 109,
          "x3": 0.3658074391704211,
          "x4": 984
         },
         {
          "x1": 7,
          "x2": 109,
          "x3": 0.6963388432677927,
          "x4": 985
         },
         {
          "x1": 0,
          "x2": 105,
          "x3": 0.07250142995835758,
          "x4": 986
         },
         {
          "x1": 4,
          "x2": 111,
          "x3": 0.6864349039965424,
          "x4": 987
         },
         {
          "x1": 1,
          "x2": 110,
          "x3": 0.30318639164577127,
          "x4": 988
         },
         {
          "x1": 3,
          "x2": 104,
          "x3": 0.4081849180609534,
          "x4": 989
         },
         {
          "x1": 8,
          "x2": 112,
          "x3": 0.9010614471153353,
          "x4": 990
         },
         {
          "x1": 5,
          "x2": 124,
          "x3": 0.5860668483709196,
          "x4": 991
         },
         {
          "x1": 6,
          "x2": 114,
          "x3": 0.7131221384330518,
          "x4": 992
         },
         {
          "x1": 7,
          "x2": 110,
          "x3": 0.9571974886436218,
          "x4": 993
         },
         {
          "x1": 8,
          "x2": 113,
          "x3": 0.921138619756686,
          "x4": 994
         },
         {
          "x1": 6,
          "x2": 115,
          "x3": 0.9130111251005503,
          "x4": 995
         },
         {
          "x1": 5,
          "x2": 125,
          "x3": 0.7781931063274513,
          "x4": 996
         },
         {
          "x1": 5,
          "x2": 126,
          "x3": 0.4997877662490194,
          "x4": 997
         },
         {
          "x1": 5,
          "x2": 127,
          "x3": 0.7798374393696121,
          "x4": 998
         },
         {
          "x1": 4,
          "x2": 112,
          "x3": 0.8617319946019865,
          "x4": 999
         },
         {
          "x1": 3,
          "x2": 105,
          "x3": 0.5736521979219108,
          "x4": 1000
         }
        ]
       },
       "hconcat": [
        {
         "layer": [
          {
           "encoding": {
            "color": {
             "condition": {
              "field": "x3",
              "selection": "brush",
              "type": "quantitative"
             },
             "value": "grey"
            },
            "size": {
             "value": 100
            },
            "x": {
             "axis": {
              "grid": false,
              "title": "Samples"
             },
             "field": "x1",
             "type": "quantitative"
            },
            "y": {
             "axis": null,
             "field": "x2",
             "type": "quantitative"
            }
           },
           "height": 300,
           "mark": "square",
           "selection": {
            "brush": {
             "encodings": [
              "x"
             ],
             "init": {
              "x": [
               3.6,
               4.4
              ]
             },
             "type": "interval"
            }
           },
           "view": {
            "stroke": null
           },
           "width": 500
          }
         ],
         "view": {
          "stroke": null
         }
        },
        {
         "layer": [
          {
           "encoding": {
            "x": {
             "bin": {
              "maxbins": 20
             },
             "field": "x3",
             "type": "quantitative"
            },
            "y": {
             "aggregate": "count",
             "type": "quantitative"
            }
           },
           "height": 300,
           "mark": "bar",
           "transform": [
            {
             "filter": {
              "selection": "brush"
             }
            }
           ],
           "width": 500
          }
         ]
        }
       ]
      },
      "image/png": "[encoded data removed]",
      "image/svg+xml": [
       "<svg class=\"marks\" width=\"1128\" height=\"344\" viewBox=\"0 0 1128 344\" version=\"1.1\" xmlns=\"http://www.w3.org/2000/svg\" xmlns:xlink=\"http://www.w3.org/1999/xlink\"><defs><linearGradient id=\"gradient_0\" x1=\"0\" x2=\"0\" y1=\"1\" y2=\"0\"><stop offset=\"0\" stop-color=\"rgb(207, 225, 242)\"></stop><stop offset=\"0.048631964325964165\" stop-color=\"rgb(199, 221, 239)\"></stop><stop offset=\"0.09871453640238276\" stop-color=\"rgb(190, 216, 236)\"></stop><stop offset=\"0.1487971084788013\" stop-color=\"rgb(179, 211, 233)\"></stop><stop offset=\"0.1988796805552199\" stop-color=\"rgb(168, 206, 229)\"></stop><stop offset=\"0.24896225263163846\" stop-color=\"rgb(156, 200, 226)\"></stop><stop offset=\"0.299044824708057\" stop-color=\"rgb(143, 193, 222)\"></stop><stop offset=\"0.3491273967844756\" stop-color=\"rgb(130, 186, 219)\"></stop><stop offset=\"0.3992099688608942\" stop-color=\"rgb(116, 178, 215)\"></stop><stop offset=\"0.44929254093731275\" stop-color=\"rgb(104, 171, 211)\"></stop><stop offset=\"0.49937511301373133\" stop-color=\"rgb(91, 163, 207)\"></stop><stop offset=\"0.54945768509015\" stop-color=\"rgb(80, 155, 203)\"></stop><stop offset=\"0.5995402571665686\" stop-color=\"rgb(69, 146, 198)\"></stop><stop offset=\"0.6496228292429871\" stop-color=\"rgb(59, 138, 194)\"></stop><stop offset=\"0.6997054013194056\" stop-color=\"rgb(49, 129, 189)\"></stop><stop offset=\"0.7497879733958243\" stop-color=\"rgb(41, 120, 184)\"></stop><stop offset=\"0.7998705454722429\" stop-color=\"rgb(32, 111, 178)\"></stop><stop offset=\"0.8499531175486613\" stop-color=\"rgb(25, 102, 171)\"></stop><stop offset=\"0.90003568962508\" stop-color=\"rgb(18, 92, 164)\"></stop><stop offset=\"0.9501182617014985\" stop-color=\"rgb(14, 83, 154)\"></stop><stop offset=\"1\" stop-color=\"rgb(10, 74, 144)\"></stop></linearGradient><clipPath id=\"clip1\"><rect x=\"0\" y=\"0\" width=\"500\" height=\"300\"></rect></clipPath><clipPath id=\"clip2\"><rect x=\"0\" y=\"0\" width=\"500\" height=\"300\"></rect></clipPath></defs><g transform=\"translate(10,6)\"><g class=\"mark-group role-frame root\"><g transform=\"translate(0,0)\"><path class=\"background\" d=\"M0,0h0v300h0Z\" style=\"fill: none;\"></path><g><g class=\"mark-group role-scope concat_0_group\"><g transform=\"translate(0,0)\"><path class=\"background\" d=\"M0,0h500v300h-500Z\" style=\"fill: none;\"></path><g><g class=\"mark-rect role-mark brush_brush_bg\" clip-path=\"url(#clip1)\"><path d=\"M225,0h50v300h-50Z\" style=\"fill: #333; fill-opacity: 0.125;\"></path></g><g class=\"mark-symbol role-mark concat_0_layer_0_marks\"><path transform=\"translate(500,297.6923076923077)\" d=\"M-5,-5h10v10h-10Z\" style=\"fill: grey; stroke-width: 2; opacity: 0.7;\"></path><path transform=\"translate(312.5,297.6923076923077)\" d=\"M-5,-5h10v10h-10Z\" style=\"fill: grey; stroke-width: 2; opacity: 0.7;\"></path><path transform=\"translate(187.5,297.6923076923077)\" d=\"M-5,-5h10v10h-10Z\" style=\"fill: grey; stroke-width: 2; opacity: 0.7;\"></path><path transform=\"translate(125,297.6923076923077)\" d=\"M-5,-5h10v10h-10Z\" style=\"fill: grey; stroke-width: 2; opacity: 0.7;\"></path><path transform=\"translate(62.5,297.6923076923077)\" d=\"M-5,-5h10v10h-10Z\" style=\"fill: grey; stroke-width: 2; opacity: 0.7;\"></path><path transform=\"translate(62.5,295.38461538461536)\" d=\"M-5,-5h10v10h-10Z\" style=\"fill: grey; stroke-width: 2; opacity: 0.7;\"></path><path transform=\"translate(312.5,295.38461538461536)\" d=\"M-5,-5h10v10h-10Z\" style=\"fill: grey; stroke-width: 2; opacity: 0.7;\"></path><path transform=\"translate(312.5,293.0769230769231)\" d=\"M-5,-5h10v10h-10Z\" style=\"fill: grey; stroke-width: 2; opacity: 0.7;\"></path><path transform=\"translate(437.5,297.6923076923077)\" d=\"M-5,-5h10v10h-10Z\" style=\"fill: grey; stroke-width: 2; opacity: 0.7;\"></path><path transform=\"translate(500,295.38461538461536)\" d=\"M-5,-5h10v10h-10Z\" style=\"fill: grey; stroke-width: 2; opacity: 0.7;\"></path><path transform=\"translate(250,297.6923076923077)\" d=\"M-5,-5h10v10h-10Z\" style=\"fill: rgb(157, 200, 226); stroke-width: 2; opacity: 0.7;\"></path><path transform=\"translate(0,297.6923076923077)\" d=\"M-5,-5h10v10h-10Z\" style=\"fill: grey; stroke-width: 2; opacity: 0.7;\"></path><path transform=\"translate(187.5,295.38461538461536)\" d=\"M-5,-5h10v10h-10Z\" style=\"fill: grey; stroke-width: 2; opacity: 0.7;\"></path><path transform=\"translate(312.5,290.7692307692308)\" d=\"M-5,-5h10v10h-10Z\" style=\"fill: grey; stroke-width: 2; opacity: 0.7;\"></path><path transform=\"translate(0,295.38461538461536)\" d=\"M-5,-5h10v10h-10Z\" style=\"fill: grey; stroke-width: 2; opacity: 0.7;\"></path><path transform=\"translate(437.5,295.38461538461536)\" d=\"M-5,-5h10v10h-10Z\" style=\"fill: grey; stroke-width: 2; opacity: 0.7;\"></path><path transform=\"translate(0,293.0769230769231)\" d=\"M-5,-5h10v10h-10Z\" style=\"fill: grey; stroke-width: 2; opacity: 0.7;\"></path><path transform=\"translate(0,290.7692307692308)\" d=\"M-5,-5h10v10h-10Z\" style=\"fill: grey; stroke-width: 2; opacity: 0.7;\"></path><path transform=\"translate(250,295.38461538461536)\" d=\"M-5,-5h10v10h-10Z\" style=\"fill: rgb(64, 142, 196); stroke-width: 2; opacity: 0.7;\"></path><path transform=\"translate(187.5,293.0769230769231)\" d=\"M-5,-5h10v10h-10Z\" style=\"fill: grey; stroke-width: 2; opacity: 0.7;\"></path><path transform=\"translate(375,297.6923076923077)\" d=\"M-5,-5h10v10h-10Z\" style=\"fill: grey; stroke-width: 2; opacity: 0.7;\"></path><path transform=\"translate(125,295.38461538461536)\" d=\"M-5,-5h10v10h-10Z\" style=\"fill: grey; stroke-width: 2; opacity: 0.7;\"></path><path transform=\"translate(250,293.0769230769231)\" d=\"M-5,-5h10v10h-10Z\" style=\"fill: rgb(103, 170, 211); stroke-width: 2; opacity: 0.7;\"></path><path transform=\"translate(0,288.46153846153845)\" d=\"M-5,-5h10v10h-10Z\" style=\"fill: grey; stroke-width: 2; opacity: 0.7;\"></path><path transform=\"translate(312.5,288.46153846153845)\" d=\"M-5,-5h10v10h-10Z\" style=\"fill: grey; stroke-width: 2; opacity: 0.7;\"></path><path transform=\"translate(312.5,286.15384615384613)\" d=\"M-5,-5h10v10h-10Z\" style=\"fill: grey; stroke-width: 2; opacity: 0.7;\"></path><path transform=\"translate(437.5,293.0769230769231)\" d=\"M-5,-5h10v10h-10Z\" style=\"fill: grey; stroke-width: 2; opacity: 0.7;\"></path><path transform=\"translate(0,286.15384615384613)\" d=\"M-5,-5h10v10h-10Z\" style=\"fill: grey; stroke-width: 2; opacity: 0.7;\"></path><path transform=\"translate(500,293.0769230769231)\" d=\"M-5,-5h10v10h-10Z\" style=\"fill: grey; stroke-width: 2; opacity: 0.7;\"></path><path transform=\"translate(375,295.38461538461536)\" d=\"M-5,-5h10v10h-10Z\" style=\"fill: grey; stroke-width: 2; opacity: 0.7;\"></path><path transform=\"translate(500,290.7692307692308)\" d=\"M-5,-5h10v10h-10Z\" style=\"fill: grey; stroke-width: 2; opacity: 0.7;\"></path><path transform=\"translate(312.5,283.84615384615387)\" d=\"M-5,-5h10v10h-10Z\" style=\"fill: grey; stroke-width: 2; opacity: 0.7;\"></path><path transform=\"translate(187.5,290.7692307692308)\" d=\"M-5,-5h10v10h-10Z\" style=\"fill: grey; stroke-width: 2; opacity: 0.7;\"></path><path transform=\"translate(312.5,281.53846153846155)\" d=\"M-5,-5h10v10h-10Z\" style=\"fill: grey; stroke-width: 2; opacity: 0.7;\"></path><path transform=\"translate(375,293.0769230769231)\" d=\"M-5,-5h10v10h-10Z\" style=\"fill: grey; stroke-width: 2; opacity: 0.7;\"></path><path transform=\"translate(375,290.7692307692308)\" d=\"M-5,-5h10v10h-10Z\" style=\"fill: grey; stroke-width: 2; opacity: 0.7;\"></path><path transform=\"translate(375,288.46153846153845)\" d=\"M-5,-5h10v10h-10Z\" style=\"fill: grey; stroke-width: 2; opacity: 0.7;\"></path><path transform=\"translate(500,288.46153846153845)\" d=\"M-5,-5h10v10h-10Z\" style=\"fill: grey; stroke-width: 2; opacity: 0.7;\"></path><path transform=\"translate(437.5,290.7692307692308)\" d=\"M-5,-5h10v10h-10Z\" style=\"fill: grey; stroke-width: 2; opacity: 0.7;\"></path><path transform=\"translate(62.5,293.0769230769231)\" d=\"M-5,-5h10v10h-10Z\" style=\"fill: grey; stroke-width: 2; opacity: 0.7;\"></path><path transform=\"translate(250,290.7692307692308)\" d=\"M-5,-5h10v10h-10Z\" style=\"fill: rgb(61, 139, 195); stroke-width: 2; opacity: 0.7;\"></path><path transform=\"translate(0,283.84615384615387)\" d=\"M-5,-5h10v10h-10Z\" style=\"fill: grey; stroke-width: 2; opacity: 0.7;\"></path><path transform=\"translate(437.5,288.46153846153845)\" d=\"M-5,-5h10v10h-10Z\" style=\"fill: grey; stroke-width: 2; opacity: 0.7;\"></path><path transform=\"translate(125,293.0769230769231)\" d=\"M-5,-5h10v10h-10Z\" style=\"fill: grey; stroke-width: 2; opacity: 0.7;\"></path><path transform=\"translate(187.5,288.46153846153845)\" d=\"M-5,-5h10v10h-10Z\" style=\"fill: grey; stroke-width: 2; opacity: 0.7;\"></path><path transform=\"translate(437.5,286.15384615384613)\" d=\"M-5,-5h10v10h-10Z\" style=\"fill: grey; stroke-width: 2; opacity: 0.7;\"></path><path transform=\"translate(125,290.7692307692308)\" d=\"M-5,-5h10v10h-10Z\" style=\"fill: grey; stroke-width: 2; opacity: 0.7;\"></path><path transform=\"translate(62.5,290.7692307692308)\" d=\"M-5,-5h10v10h-10Z\" style=\"fill: grey; stroke-width: 2; opacity: 0.7;\"></path><path transform=\"translate(0,281.53846153846155)\" d=\"M-5,-5h10v10h-10Z\" style=\"fill: grey; stroke-width: 2; opacity: 0.7;\"></path><path transform=\"translate(437.5,283.84615384615387)\" d=\"M-5,-5h10v10h-10Z\" style=\"fill: grey; stroke-width: 2; opacity: 0.7;\"></path><path transform=\"translate(250,288.46153846153845)\" d=\"M-5,-5h10v10h-10Z\" style=\"fill: rgb(143, 193, 222); stroke-width: 2; opacity: 0.7;\"></path><path transform=\"translate(500,286.15384615384613)\" d=\"M-5,-5h10v10h-10Z\" style=\"fill: grey; stroke-width: 2; opacity: 0.7;\"></path><path transform=\"translate(500,283.84615384615387)\" d=\"M-5,-5h10v10h-10Z\" style=\"fill: grey; stroke-width: 2; opacity: 0.7;\"></path><path transform=\"translate(0,279.2307692307692)\" d=\"M-5,-5h10v10h-10Z\" style=\"fill: grey; stroke-width: 2; opacity: 0.7;\"></path><path transform=\"translate(125,288.46153846153845)\" d=\"M-5,-5h10v10h-10Z\" style=\"fill: grey; stroke-width: 2; opacity: 0.7;\"></path><path transform=\"translate(62.5,288.46153846153845)\" d=\"M-5,-5h10v10h-10Z\" style=\"fill: grey; stroke-width: 2; opacity: 0.7;\"></path><path transform=\"translate(125,286.15384615384613)\" d=\"M-5,-5h10v10h-10Z\" style=\"fill: grey; stroke-width: 2; opacity: 0.7;\"></path><path transform=\"translate(500,281.53846153846155)\" d=\"M-5,-5h10v10h-10Z\" style=\"fill: grey; stroke-width: 2; opacity: 0.7;\"></path><path transform=\"translate(437.5,281.53846153846155)\" d=\"M-5,-5h10v10h-10Z\" style=\"fill: grey; stroke-width: 2; opacity: 0.7;\"></path><path transform=\"translate(437.5,279.2307692307692)\" d=\"M-5,-5h10v10h-10Z\" style=\"fill: grey; stroke-width: 2; opacity: 0.7;\"></path><path transform=\"translate(375,286.15384615384613)\" d=\"M-5,-5h10v10h-10Z\" style=\"fill: grey; stroke-width: 2; opacity: 0.7;\"></path><path transform=\"translate(312.5,279.2307692307692)\" d=\"M-5,-5h10v10h-10Z\" style=\"fill: grey; stroke-width: 2; opacity: 0.7;\"></path><path transform=\"translate(125,283.84615384615387)\" d=\"M-5,-5h10v10h-10Z\" style=\"fill: grey; stroke-width: 2; opacity: 0.7;\"></path><path transform=\"translate(437.5,276.9230769230769)\" d=\"M-5,-5h10v10h-10Z\" style=\"fill: grey; stroke-width: 2; opacity: 0.7;\"></path><path transform=\"translate(62.5,286.15384615384613)\" d=\"M-5,-5h10v10h-10Z\" style=\"fill: grey; stroke-width: 2; opacity: 0.7;\"></path><path transform=\"translate(125,281.53846153846155)\" d=\"M-5,-5h10v10h-10Z\" style=\"fill: grey; stroke-width: 2; opacity: 0.7;\"></path><path transform=\"translate(312.5,276.9230769230769)\" d=\"M-5,-5h10v10h-10Z\" style=\"fill: grey; stroke-width: 2; opacity: 0.7;\"></path><path transform=\"translate(312.5,274.61538461538464)\" d=\"M-5,-5h10v10h-10Z\" style=\"fill: grey; stroke-width: 2; opacity: 0.7;\"></path><path transform=\"translate(437.5,274.61538461538464)\" d=\"M-5,-5h10v10h-10Z\" style=\"fill: grey; stroke-width: 2; opacity: 0.7;\"></path><path transform=\"translate(187.5,286.15384615384613)\" d=\"M-5,-5h10v10h-10Z\" style=\"fill: grey; stroke-width: 2; opacity: 0.7;\"></path><path transform=\"translate(437.5,272.3076923076923)\" d=\"M-5,-5h10v10h-10Z\" style=\"fill: grey; stroke-width: 2; opacity: 0.7;\"></path><path transform=\"translate(62.5,283.84615384615387)\" d=\"M-5,-5h10v10h-10Z\" style=\"fill: grey; stroke-width: 2; opacity: 0.7;\"></path><path transform=\"translate(187.5,283.84615384615387)\" d=\"M-5,-5h10v10h-10Z\" style=\"fill: grey; stroke-width: 2; opacity: 0.7;\"></path><path transform=\"translate(125,279.2307692307692)\" d=\"M-5,-5h10v10h-10Z\" style=\"fill: grey; stroke-width: 2; opacity: 0.7;\"></path><path transform=\"translate(312.5,272.3076923076923)\" d=\"M-5,-5h10v10h-10Z\" style=\"fill: grey; stroke-width: 2; opacity: 0.7;\"></path><path transform=\"translate(437.5,270)\" d=\"M-5,-5h10v10h-10Z\" style=\"fill: grey; stroke-width: 2; opacity: 0.7;\"></path><path transform=\"translate(0,276.9230769230769)\" d=\"M-5,-5h10v10h-10Z\" style=\"fill: grey; stroke-width: 2; opacity: 0.7;\"></path><path transform=\"translate(250,286.15384615384613)\" d=\"M-5,-5h10v10h-10Z\" style=\"fill: rgb(150, 197, 224); stroke-width: 2; opacity: 0.7;\"></path><path transform=\"translate(125,276.9230769230769)\" d=\"M-5,-5h10v10h-10Z\" style=\"fill: grey; stroke-width: 2; opacity: 0.7;\"></path><path transform=\"translate(500,279.2307692307692)\" d=\"M-5,-5h10v10h-10Z\" style=\"fill: grey; stroke-width: 2; opacity: 0.7;\"></path><path transform=\"translate(0,274.61538461538464)\" d=\"M-5,-5h10v10h-10Z\" style=\"fill: grey; stroke-width: 2; opacity: 0.7;\"></path><path transform=\"translate(62.5,281.53846153846155)\" d=\"M-5,-5h10v10h-10Z\" style=\"fill: grey; stroke-width: 2; opacity: 0.7;\"></path><path transform=\"translate(250,283.84615384615387)\" d=\"M-5,-5h10v10h-10Z\" style=\"fill: rgb(107, 173, 212); stroke-width: 2; opacity: 0.7;\"></path><path transform=\"translate(437.5,267.6923076923077)\" d=\"M-5,-5h10v10h-10Z\" style=\"fill: grey; stroke-width: 2; opacity: 0.7;\"></path><path transform=\"translate(375,283.84615384615387)\" d=\"M-5,-5h10v10h-10Z\" style=\"fill: grey; stroke-width: 2; opacity: 0.7;\"></path><path transform=\"translate(437.5,265.38461538461536)\" d=\"M-5,-5h10v10h-10Z\" style=\"fill: grey; stroke-width: 2; opacity: 0.7;\"></path><path transform=\"translate(250,281.53846153846155)\" d=\"M-5,-5h10v10h-10Z\" style=\"fill: rgb(94, 165, 208); stroke-width: 2; opacity: 0.7;\"></path><path transform=\"translate(312.5,270)\" d=\"M-5,-5h10v10h-10Z\" style=\"fill: grey; stroke-width: 2; opacity: 0.7;\"></path><path transform=\"translate(62.5,279.2307692307692)\" d=\"M-5,-5h10v10h-10Z\" style=\"fill: grey; stroke-width: 2; opacity: 0.7;\"></path><path transform=\"translate(125,274.61538461538464)\" d=\"M-5,-5h10v10h-10Z\" style=\"fill: grey; stroke-width: 2; opacity: 0.7;\"></path><path transform=\"translate(0,272.3076923076923)\" d=\"M-5,-5h10v10h-10Z\" style=\"fill: grey; stroke-width: 2; opacity: 0.7;\"></path><path transform=\"translate(187.5,281.53846153846155)\" d=\"M-5,-5h10v10h-10Z\" style=\"fill: grey; stroke-width: 2; opacity: 0.7;\"></path><path transform=\"translate(125,272.3076923076923)\" d=\"M-5,-5h10v10h-10Z\" style=\"fill: grey; stroke-width: 2; opacity: 0.7;\"></path><path transform=\"translate(250,279.2307692307692)\" d=\"M-5,-5h10v10h-10Z\" style=\"fill: rgb(132, 187, 219); stroke-width: 2; opacity: 0.7;\"></path><path transform=\"translate(62.5,276.9230769230769)\" d=\"M-5,-5h10v10h-10Z\" style=\"fill: grey; stroke-width: 2; opacity: 0.7;\"></path><path transform=\"translate(437.5,263.0769230769231)\" d=\"M-5,-5h10v10h-10Z\" style=\"fill: grey; stroke-width: 2; opacity: 0.7;\"></path><path transform=\"translate(125,270)\" d=\"M-5,-5h10v10h-10Z\" style=\"fill: grey; stroke-width: 2; opacity: 0.7;\"></path><path transform=\"translate(375,281.53846153846155)\" d=\"M-5,-5h10v10h-10Z\" style=\"fill: grey; stroke-width: 2; opacity: 0.7;\"></path><path transform=\"translate(312.5,267.6923076923077)\" d=\"M-5,-5h10v10h-10Z\" style=\"fill: grey; stroke-width: 2; opacity: 0.7;\"></path><path transform=\"translate(500,276.9230769230769)\" d=\"M-5,-5h10v10h-10Z\" style=\"fill: grey; stroke-width: 2; opacity: 0.7;\"></path><path transform=\"translate(62.5,274.61538461538464)\" d=\"M-5,-5h10v10h-10Z\" style=\"fill: grey; stroke-width: 2; opacity: 0.7;\"></path><path transform=\"translate(312.5,265.38461538461536)\" d=\"M-5,-5h10v10h-10Z\" style=\"fill: grey; stroke-width: 2; opacity: 0.7;\"></path><path transform=\"translate(375,279.2307692307692)\" d=\"M-5,-5h10v10h-10Z\" style=\"fill: grey; stroke-width: 2; opacity: 0.7;\"></path><path transform=\"translate(0,270)\" d=\"M-5,-5h10v10h-10Z\" style=\"fill: grey; stroke-width: 2; opacity: 0.7;\"></path><path transform=\"translate(62.5,272.3076923076923)\" d=\"M-5,-5h10v10h-10Z\" style=\"fill: grey; stroke-width: 2; opacity: 0.7;\"></path><path transform=\"translate(437.5,260.7692307692308)\" d=\"M-5,-5h10v10h-10Z\" style=\"fill: grey; stroke-width: 2; opacity: 0.7;\"></path><path transform=\"translate(500,274.61538461538464)\" d=\"M-5,-5h10v10h-10Z\" style=\"fill: grey; stroke-width: 2; opacity: 0.7;\"></path><path transform=\"translate(62.5,270)\" d=\"M-5,-5h10v10h-10Z\" style=\"fill: grey; stroke-width: 2; opacity: 0.7;\"></path><path transform=\"translate(375,276.9230769230769)\" d=\"M-5,-5h10v10h-10Z\" style=\"fill: grey; stroke-width: 2; opacity: 0.7;\"></path><path transform=\"translate(437.5,258.46153846153845)\" d=\"M-5,-5h10v10h-10Z\" style=\"fill: grey; stroke-width: 2; opacity: 0.7;\"></path><path transform=\"translate(62.5,267.6923076923077)\" d=\"M-5,-5h10v10h-10Z\" style=\"fill: grey; stroke-width: 2; opacity: 0.7;\"></path><path transform=\"translate(187.5,279.2307692307692)\" d=\"M-5,-5h10v10h-10Z\" style=\"fill: grey; stroke-width: 2; opacity: 0.7;\"></path><path transform=\"translate(500,272.3076923076923)\" d=\"M-5,-5h10v10h-10Z\" style=\"fill: grey; stroke-width: 2; opacity: 0.7;\"></path><path transform=\"translate(375,274.61538461538464)\" d=\"M-5,-5h10v10h-10Z\" style=\"fill: grey; stroke-width: 2; opacity: 0.7;\"></path><path transform=\"translate(125,267.6923076923077)\" d=\"M-5,-5h10v10h-10Z\" style=\"fill: grey; stroke-width: 2; opacity: 0.7;\"></path><path transform=\"translate(187.5,276.9230769230769)\" d=\"M-5,-5h10v10h-10Z\" style=\"fill: grey; stroke-width: 2; opacity: 0.7;\"></path><path transform=\"translate(250,276.9230769230769)\" d=\"M-5,-5h10v10h-10Z\" style=\"fill: rgb(87, 160, 205); stroke-width: 2; opacity: 0.7;\"></path><path transform=\"translate(187.5,274.61538461538464)\" d=\"M-5,-5h10v10h-10Z\" style=\"fill: grey; stroke-width: 2; opacity: 0.7;\"></path><path transform=\"translate(437.5,256.15384615384613)\" d=\"M-5,-5h10v10h-10Z\" style=\"fill: grey; stroke-width: 2; opacity: 0.7;\"></path><path transform=\"translate(437.5,253.84615384615384)\" d=\"M-5,-5h10v10h-10Z\" style=\"fill: grey; stroke-width: 2; opacity: 0.7;\"></path><path transform=\"translate(437.5,251.53846153846155)\" d=\"M-5,-5h10v10h-10Z\" style=\"fill: grey; stroke-width: 2; opacity: 0.7;\"></path><path transform=\"translate(0,267.6923076923077)\" d=\"M-5,-5h10v10h-10Z\" style=\"fill: grey; stroke-width: 2; opacity: 0.7;\"></path><path transform=\"translate(312.5,263.0769230769231)\" d=\"M-5,-5h10v10h-10Z\" style=\"fill: grey; stroke-width: 2; opacity: 0.7;\"></path><path transform=\"translate(0,265.38461538461536)\" d=\"M-5,-5h10v10h-10Z\" style=\"fill: grey; stroke-width: 2; opacity: 0.7;\"></path><path transform=\"translate(500,270)\" d=\"M-5,-5h10v10h-10Z\" style=\"fill: grey; stroke-width: 2; opacity: 0.7;\"></path><path transform=\"translate(125,265.38461538461536)\" d=\"M-5,-5h10v10h-10Z\" style=\"fill: grey; stroke-width: 2; opacity: 0.7;\"></path><path transform=\"translate(375,272.3076923076923)\" d=\"M-5,-5h10v10h-10Z\" style=\"fill: grey; stroke-width: 2; opacity: 0.7;\"></path><path transform=\"translate(250,274.61538461538464)\" d=\"M-5,-5h10v10h-10Z\" style=\"fill: rgb(121, 181, 216); stroke-width: 2; opacity: 0.7;\"></path><path transform=\"translate(250,272.3076923076923)\" d=\"M-5,-5h10v10h-10Z\" style=\"fill: rgb(41, 120, 184); stroke-width: 2; opacity: 0.7;\"></path><path transform=\"translate(62.5,265.38461538461536)\" d=\"M-5,-5h10v10h-10Z\" style=\"fill: grey; stroke-width: 2; opacity: 0.7;\"></path><path transform=\"translate(375,270)\" d=\"M-5,-5h10v10h-10Z\" style=\"fill: grey; stroke-width: 2; opacity: 0.7;\"></path><path transform=\"translate(62.5,263.0769230769231)\" d=\"M-5,-5h10v10h-10Z\" style=\"fill: grey; stroke-width: 2; opacity: 0.7;\"></path><path transform=\"translate(312.5,260.7692307692308)\" d=\"M-5,-5h10v10h-10Z\" style=\"fill: grey; stroke-width: 2; opacity: 0.7;\"></path><path transform=\"translate(312.5,258.46153846153845)\" d=\"M-5,-5h10v10h-10Z\" style=\"fill: grey; stroke-width: 2; opacity: 0.7;\"></path><path transform=\"translate(62.5,260.7692307692308)\" d=\"M-5,-5h10v10h-10Z\" style=\"fill: grey; stroke-width: 2; opacity: 0.7;\"></path><path transform=\"translate(375,267.6923076923077)\" d=\"M-5,-5h10v10h-10Z\" style=\"fill: grey; stroke-width: 2; opacity: 0.7;\"></path><path transform=\"translate(437.5,249.23076923076923)\" d=\"M-5,-5h10v10h-10Z\" style=\"fill: grey; stroke-width: 2; opacity: 0.7;\"></path><path transform=\"translate(187.5,272.3076923076923)\" d=\"M-5,-5h10v10h-10Z\" style=\"fill: grey; stroke-width: 2; opacity: 0.7;\"></path><path transform=\"translate(187.5,270)\" d=\"M-5,-5h10v10h-10Z\" style=\"fill: grey; stroke-width: 2; opacity: 0.7;\"></path><path transform=\"translate(312.5,256.15384615384613)\" d=\"M-5,-5h10v10h-10Z\" style=\"fill: grey; stroke-width: 2; opacity: 0.7;\"></path><path transform=\"translate(125,263.0769230769231)\" d=\"M-5,-5h10v10h-10Z\" style=\"fill: grey; stroke-width: 2; opacity: 0.7;\"></path><path transform=\"translate(437.5,246.9230769230769)\" d=\"M-5,-5h10v10h-10Z\" style=\"fill: grey; stroke-width: 2; opacity: 0.7;\"></path><path transform=\"translate(187.5,267.6923076923077)\" d=\"M-5,-5h10v10h-10Z\" style=\"fill: grey; stroke-width: 2; opacity: 0.7;\"></path><path transform=\"translate(187.5,265.38461538461536)\" d=\"M-5,-5h10v10h-10Z\" style=\"fill: grey; stroke-width: 2; opacity: 0.7;\"></path><path transform=\"translate(375,265.38461538461536)\" d=\"M-5,-5h10v10h-10Z\" style=\"fill: grey; stroke-width: 2; opacity: 0.7;\"></path><path transform=\"translate(312.5,253.84615384615384)\" d=\"M-5,-5h10v10h-10Z\" style=\"fill: grey; stroke-width: 2; opacity: 0.7;\"></path><path transform=\"translate(0,263.0769230769231)\" d=\"M-5,-5h10v10h-10Z\" style=\"fill: grey; stroke-width: 2; opacity: 0.7;\"></path><path transform=\"translate(250,270)\" d=\"M-5,-5h10v10h-10Z\" style=\"fill: rgb(102, 170, 211); stroke-width: 2; opacity: 0.7;\"></path><path transform=\"translate(62.5,258.46153846153845)\" d=\"M-5,-5h10v10h-10Z\" style=\"fill: grey; stroke-width: 2; opacity: 0.7;\"></path><path transform=\"translate(250,267.6923076923077)\" d=\"M-5,-5h10v10h-10Z\" style=\"fill: rgb(86, 159, 205); stroke-width: 2; opacity: 0.7;\"></path><path transform=\"translate(125,260.7692307692308)\" d=\"M-5,-5h10v10h-10Z\" style=\"fill: grey; stroke-width: 2; opacity: 0.7;\"></path><path transform=\"translate(375,263.0769230769231)\" d=\"M-5,-5h10v10h-10Z\" style=\"fill: grey; stroke-width: 2; opacity: 0.7;\"></path><path transform=\"translate(375,260.7692307692308)\" d=\"M-5,-5h10v10h-10Z\" style=\"fill: grey; stroke-width: 2; opacity: 0.7;\"></path><path transform=\"translate(375,258.46153846153845)\" d=\"M-5,-5h10v10h-10Z\" style=\"fill: grey; stroke-width: 2; opacity: 0.7;\"></path><path transform=\"translate(125,258.46153846153845)\" d=\"M-5,-5h10v10h-10Z\" style=\"fill: grey; stroke-width: 2; opacity: 0.7;\"></path><path transform=\"translate(500,267.6923076923077)\" d=\"M-5,-5h10v10h-10Z\" style=\"fill: grey; stroke-width: 2; opacity: 0.7;\"></path><path transform=\"translate(125,256.15384615384613)\" d=\"M-5,-5h10v10h-10Z\" style=\"fill: grey; stroke-width: 2; opacity: 0.7;\"></path><path transform=\"translate(375,256.15384615384613)\" d=\"M-5,-5h10v10h-10Z\" style=\"fill: grey; stroke-width: 2; opacity: 0.7;\"></path><path transform=\"translate(62.5,256.15384615384613)\" d=\"M-5,-5h10v10h-10Z\" style=\"fill: grey; stroke-width: 2; opacity: 0.7;\"></path><path transform=\"translate(375,253.84615384615384)\" d=\"M-5,-5h10v10h-10Z\" style=\"fill: grey; stroke-width: 2; opacity: 0.7;\"></path><path transform=\"translate(312.5,251.53846153846155)\" d=\"M-5,-5h10v10h-10Z\" style=\"fill: grey; stroke-width: 2; opacity: 0.7;\"></path><path transform=\"translate(500,265.38461538461536)\" d=\"M-5,-5h10v10h-10Z\" style=\"fill: grey; stroke-width: 2; opacity: 0.7;\"></path><path transform=\"translate(437.5,244.6153846153846)\" d=\"M-5,-5h10v10h-10Z\" style=\"fill: grey; stroke-width: 2; opacity: 0.7;\"></path><path transform=\"translate(0,260.7692307692308)\" d=\"M-5,-5h10v10h-10Z\" style=\"fill: grey; stroke-width: 2; opacity: 0.7;\"></path><path transform=\"translate(187.5,263.0769230769231)\" d=\"M-5,-5h10v10h-10Z\" style=\"fill: grey; stroke-width: 2; opacity: 0.7;\"></path><path transform=\"translate(312.5,249.23076923076923)\" d=\"M-5,-5h10v10h-10Z\" style=\"fill: grey; stroke-width: 2; opacity: 0.7;\"></path><path transform=\"translate(62.5,253.84615384615384)\" d=\"M-5,-5h10v10h-10Z\" style=\"fill: grey; stroke-width: 2; opacity: 0.7;\"></path><path transform=\"translate(375,251.53846153846155)\" d=\"M-5,-5h10v10h-10Z\" style=\"fill: grey; stroke-width: 2; opacity: 0.7;\"></path><path transform=\"translate(0,258.46153846153845)\" d=\"M-5,-5h10v10h-10Z\" style=\"fill: grey; stroke-width: 2; opacity: 0.7;\"></path><path transform=\"translate(187.5,260.7692307692308)\" d=\"M-5,-5h10v10h-10Z\" style=\"fill: grey; stroke-width: 2; opacity: 0.7;\"></path><path transform=\"translate(500,263.0769230769231)\" d=\"M-5,-5h10v10h-10Z\" style=\"fill: grey; stroke-width: 2; opacity: 0.7;\"></path><path transform=\"translate(187.5,258.46153846153845)\" d=\"M-5,-5h10v10h-10Z\" style=\"fill: grey; stroke-width: 2; opacity: 0.7;\"></path><path transform=\"translate(375,249.23076923076923)\" d=\"M-5,-5h10v10h-10Z\" style=\"fill: grey; stroke-width: 2; opacity: 0.7;\"></path><path transform=\"translate(250,265.38461538461536)\" d=\"M-5,-5h10v10h-10Z\" style=\"fill: rgb(124, 182, 217); stroke-width: 2; opacity: 0.7;\"></path><path transform=\"translate(125,253.84615384615384)\" d=\"M-5,-5h10v10h-10Z\" style=\"fill: grey; stroke-width: 2; opacity: 0.7;\"></path><path transform=\"translate(312.5,246.9230769230769)\" d=\"M-5,-5h10v10h-10Z\" style=\"fill: grey; stroke-width: 2; opacity: 0.7;\"></path><path transform=\"translate(375,246.9230769230769)\" d=\"M-5,-5h10v10h-10Z\" style=\"fill: grey; stroke-width: 2; opacity: 0.7;\"></path><path transform=\"translate(312.5,244.6153846153846)\" d=\"M-5,-5h10v10h-10Z\" style=\"fill: grey; stroke-width: 2; opacity: 0.7;\"></path><path transform=\"translate(500,260.7692307692308)\" d=\"M-5,-5h10v10h-10Z\" style=\"fill: grey; stroke-width: 2; opacity: 0.7;\"></path><path transform=\"translate(375,244.6153846153846)\" d=\"M-5,-5h10v10h-10Z\" style=\"fill: grey; stroke-width: 2; opacity: 0.7;\"></path><path transform=\"translate(250,263.0769230769231)\" d=\"M-5,-5h10v10h-10Z\" style=\"fill: rgb(159, 202, 227); stroke-width: 2; opacity: 0.7;\"></path><path transform=\"translate(125,251.53846153846155)\" d=\"M-5,-5h10v10h-10Z\" style=\"fill: grey; stroke-width: 2; opacity: 0.7;\"></path><path transform=\"translate(0,256.15384615384613)\" d=\"M-5,-5h10v10h-10Z\" style=\"fill: grey; stroke-width: 2; opacity: 0.7;\"></path><path transform=\"translate(187.5,256.15384615384613)\" d=\"M-5,-5h10v10h-10Z\" style=\"fill: grey; stroke-width: 2; opacity: 0.7;\"></path><path transform=\"translate(125,249.23076923076923)\" d=\"M-5,-5h10v10h-10Z\" style=\"fill: grey; stroke-width: 2; opacity: 0.7;\"></path><path transform=\"translate(125,246.9230769230769)\" d=\"M-5,-5h10v10h-10Z\" style=\"fill: grey; stroke-width: 2; opacity: 0.7;\"></path><path transform=\"translate(312.5,242.30769230769232)\" d=\"M-5,-5h10v10h-10Z\" style=\"fill: grey; stroke-width: 2; opacity: 0.7;\"></path><path transform=\"translate(500,258.46153846153845)\" d=\"M-5,-5h10v10h-10Z\" style=\"fill: grey; stroke-width: 2; opacity: 0.7;\"></path><path transform=\"translate(500,256.15384615384613)\" d=\"M-5,-5h10v10h-10Z\" style=\"fill: grey; stroke-width: 2; opacity: 0.7;\"></path><path transform=\"translate(250,260.7692307692308)\" d=\"M-5,-5h10v10h-10Z\" style=\"fill: rgb(57, 136, 193); stroke-width: 2; opacity: 0.7;\"></path><path transform=\"translate(437.5,242.30769230769232)\" d=\"M-5,-5h10v10h-10Z\" style=\"fill: grey; stroke-width: 2; opacity: 0.7;\"></path><path transform=\"translate(312.5,240)\" d=\"M-5,-5h10v10h-10Z\" style=\"fill: grey; stroke-width: 2; opacity: 0.7;\"></path><path transform=\"translate(437.5,240)\" d=\"M-5,-5h10v10h-10Z\" style=\"fill: grey; stroke-width: 2; opacity: 0.7;\"></path><path transform=\"translate(250,258.46153846153845)\" d=\"M-5,-5h10v10h-10Z\" style=\"fill: rgb(99, 168, 210); stroke-width: 2; opacity: 0.7;\"></path><path transform=\"translate(250,256.15384615384613)\" d=\"M-5,-5h10v10h-10Z\" style=\"fill: rgb(115, 178, 215); stroke-width: 2; opacity: 0.7;\"></path><path transform=\"translate(375,242.30769230769232)\" d=\"M-5,-5h10v10h-10Z\" style=\"fill: grey; stroke-width: 2; opacity: 0.7;\"></path><path transform=\"translate(125,244.6153846153846)\" d=\"M-5,-5h10v10h-10Z\" style=\"fill: grey; stroke-width: 2; opacity: 0.7;\"></path><path transform=\"translate(187.5,253.84615384615384)\" d=\"M-5,-5h10v10h-10Z\" style=\"fill: grey; stroke-width: 2; opacity: 0.7;\"></path><path transform=\"translate(437.5,237.69230769230768)\" d=\"M-5,-5h10v10h-10Z\" style=\"fill: grey; stroke-width: 2; opacity: 0.7;\"></path><path transform=\"translate(437.5,235.3846153846154)\" d=\"M-5,-5h10v10h-10Z\" style=\"fill: grey; stroke-width: 2; opacity: 0.7;\"></path><path transform=\"translate(250,253.84615384615384)\" d=\"M-5,-5h10v10h-10Z\" style=\"fill: rgb(53, 132, 191); stroke-width: 2; opacity: 0.7;\"></path><path transform=\"translate(312.5,237.69230769230768)\" d=\"M-5,-5h10v10h-10Z\" style=\"fill: grey; stroke-width: 2; opacity: 0.7;\"></path><path transform=\"translate(437.5,233.0769230769231)\" d=\"M-5,-5h10v10h-10Z\" style=\"fill: grey; stroke-width: 2; opacity: 0.7;\"></path><path transform=\"translate(437.5,230.76923076923077)\" d=\"M-5,-5h10v10h-10Z\" style=\"fill: grey; stroke-width: 2; opacity: 0.7;\"></path><path transform=\"translate(312.5,235.3846153846154)\" d=\"M-5,-5h10v10h-10Z\" style=\"fill: grey; stroke-width: 2; opacity: 0.7;\"></path><path transform=\"translate(250,251.53846153846155)\" d=\"M-5,-5h10v10h-10Z\" style=\"fill: rgb(118, 179, 216); stroke-width: 2; opacity: 0.7;\"></path><path transform=\"translate(187.5,251.53846153846155)\" d=\"M-5,-5h10v10h-10Z\" style=\"fill: grey; stroke-width: 2; opacity: 0.7;\"></path><path transform=\"translate(312.5,233.0769230769231)\" d=\"M-5,-5h10v10h-10Z\" style=\"fill: grey; stroke-width: 2; opacity: 0.7;\"></path><path transform=\"translate(187.5,249.23076923076923)\" d=\"M-5,-5h10v10h-10Z\" style=\"fill: grey; stroke-width: 2; opacity: 0.7;\"></path><path transform=\"translate(250,249.23076923076923)\" d=\"M-5,-5h10v10h-10Z\" style=\"fill: rgb(136, 189, 220); stroke-width: 2; opacity: 0.7;\"></path><path transform=\"translate(250,246.9230769230769)\" d=\"M-5,-5h10v10h-10Z\" style=\"fill: rgb(82, 156, 203); stroke-width: 2; opacity: 0.7;\"></path><path transform=\"translate(187.5,246.9230769230769)\" d=\"M-5,-5h10v10h-10Z\" style=\"fill: grey; stroke-width: 2; opacity: 0.7;\"></path><path transform=\"translate(437.5,228.46153846153845)\" d=\"M-5,-5h10v10h-10Z\" style=\"fill: grey; stroke-width: 2; opacity: 0.7;\"></path><path transform=\"translate(375,240)\" d=\"M-5,-5h10v10h-10Z\" style=\"fill: grey; stroke-width: 2; opacity: 0.7;\"></path><path transform=\"translate(375,237.69230769230768)\" d=\"M-5,-5h10v10h-10Z\" style=\"fill: grey; stroke-width: 2; opacity: 0.7;\"></path><path transform=\"translate(437.5,226.15384615384613)\" d=\"M-5,-5h10v10h-10Z\" style=\"fill: grey; stroke-width: 2; opacity: 0.7;\"></path><path transform=\"translate(312.5,230.76923076923077)\" d=\"M-5,-5h10v10h-10Z\" style=\"fill: grey; stroke-width: 2; opacity: 0.7;\"></path><path transform=\"translate(250,244.6153846153846)\" d=\"M-5,-5h10v10h-10Z\" style=\"fill: rgb(108, 173, 212); stroke-width: 2; opacity: 0.7;\"></path><path transform=\"translate(62.5,251.53846153846155)\" d=\"M-5,-5h10v10h-10Z\" style=\"fill: grey; stroke-width: 2; opacity: 0.7;\"></path><path transform=\"translate(250,242.30769230769232)\" d=\"M-5,-5h10v10h-10Z\" style=\"fill: rgb(24, 100, 170); stroke-width: 2; opacity: 0.7;\"></path><path transform=\"translate(187.5,244.6153846153846)\" d=\"M-5,-5h10v10h-10Z\" style=\"fill: grey; stroke-width: 2; opacity: 0.7;\"></path><path transform=\"translate(62.5,249.23076923076923)\" d=\"M-5,-5h10v10h-10Z\" style=\"fill: grey; stroke-width: 2; opacity: 0.7;\"></path><path transform=\"translate(312.5,228.46153846153845)\" d=\"M-5,-5h10v10h-10Z\" style=\"fill: grey; stroke-width: 2; opacity: 0.7;\"></path><path transform=\"translate(125,242.30769230769232)\" d=\"M-5,-5h10v10h-10Z\" style=\"fill: grey; stroke-width: 2; opacity: 0.7;\"></path><path transform=\"translate(250,240)\" d=\"M-5,-5h10v10h-10Z\" style=\"fill: rgb(113, 176, 214); stroke-width: 2; opacity: 0.7;\"></path><path transform=\"translate(500,253.84615384615384)\" d=\"M-5,-5h10v10h-10Z\" style=\"fill: grey; stroke-width: 2; opacity: 0.7;\"></path><path transform=\"translate(62.5,246.9230769230769)\" d=\"M-5,-5h10v10h-10Z\" style=\"fill: grey; stroke-width: 2; opacity: 0.7;\"></path><path transform=\"translate(250,237.69230769230768)\" d=\"M-5,-5h10v10h-10Z\" style=\"fill: rgb(74, 150, 200); stroke-width: 2; opacity: 0.7;\"></path><path transform=\"translate(62.5,244.6153846153846)\" d=\"M-5,-5h10v10h-10Z\" style=\"fill: grey; stroke-width: 2; opacity: 0.7;\"></path><path transform=\"translate(375,235.3846153846154)\" d=\"M-5,-5h10v10h-10Z\" style=\"fill: grey; stroke-width: 2; opacity: 0.7;\"></path><path transform=\"translate(312.5,226.15384615384613)\" d=\"M-5,-5h10v10h-10Z\" style=\"fill: grey; stroke-width: 2; opacity: 0.7;\"></path><path transform=\"translate(375,233.0769230769231)\" d=\"M-5,-5h10v10h-10Z\" style=\"fill: grey; stroke-width: 2; opacity: 0.7;\"></path><path transform=\"translate(375,230.76923076923077)\" d=\"M-5,-5h10v10h-10Z\" style=\"fill: grey; stroke-width: 2; opacity: 0.7;\"></path><path transform=\"translate(312.5,223.84615384615387)\" d=\"M-5,-5h10v10h-10Z\" style=\"fill: grey; stroke-width: 2; opacity: 0.7;\"></path><path transform=\"translate(312.5,221.53846153846155)\" d=\"M-5,-5h10v10h-10Z\" style=\"fill: grey; stroke-width: 2; opacity: 0.7;\"></path><path transform=\"translate(500,251.53846153846155)\" d=\"M-5,-5h10v10h-10Z\" style=\"fill: grey; stroke-width: 2; opacity: 0.7;\"></path><path transform=\"translate(187.5,242.30769230769232)\" d=\"M-5,-5h10v10h-10Z\" style=\"fill: grey; stroke-width: 2; opacity: 0.7;\"></path><path transform=\"translate(500,249.23076923076923)\" d=\"M-5,-5h10v10h-10Z\" style=\"fill: grey; stroke-width: 2; opacity: 0.7;\"></path><path transform=\"translate(187.5,240)\" d=\"M-5,-5h10v10h-10Z\" style=\"fill: grey; stroke-width: 2; opacity: 0.7;\"></path><path transform=\"translate(437.5,223.84615384615387)\" d=\"M-5,-5h10v10h-10Z\" style=\"fill: grey; stroke-width: 2; opacity: 0.7;\"></path><path transform=\"translate(62.5,242.30769230769232)\" d=\"M-5,-5h10v10h-10Z\" style=\"fill: grey; stroke-width: 2; opacity: 0.7;\"></path><path transform=\"translate(187.5,237.69230769230768)\" d=\"M-5,-5h10v10h-10Z\" style=\"fill: grey; stroke-width: 2; opacity: 0.7;\"></path><path transform=\"translate(500,246.9230769230769)\" d=\"M-5,-5h10v10h-10Z\" style=\"fill: grey; stroke-width: 2; opacity: 0.7;\"></path><path transform=\"translate(187.5,235.3846153846154)\" d=\"M-5,-5h10v10h-10Z\" style=\"fill: grey; stroke-width: 2; opacity: 0.7;\"></path><path transform=\"translate(375,228.46153846153845)\" d=\"M-5,-5h10v10h-10Z\" style=\"fill: grey; stroke-width: 2; opacity: 0.7;\"></path><path transform=\"translate(500,244.6153846153846)\" d=\"M-5,-5h10v10h-10Z\" style=\"fill: grey; stroke-width: 2; opacity: 0.7;\"></path><path transform=\"translate(62.5,240)\" d=\"M-5,-5h10v10h-10Z\" style=\"fill: grey; stroke-width: 2; opacity: 0.7;\"></path><path transform=\"translate(500,242.30769230769232)\" d=\"M-5,-5h10v10h-10Z\" style=\"fill: grey; stroke-width: 2; opacity: 0.7;\"></path><path transform=\"translate(125,240)\" d=\"M-5,-5h10v10h-10Z\" style=\"fill: grey; stroke-width: 2; opacity: 0.7;\"></path><path transform=\"translate(500,240)\" d=\"M-5,-5h10v10h-10Z\" style=\"fill: grey; stroke-width: 2; opacity: 0.7;\"></path><path transform=\"translate(375,226.15384615384613)\" d=\"M-5,-5h10v10h-10Z\" style=\"fill: grey; stroke-width: 2; opacity: 0.7;\"></path><path transform=\"translate(125,237.69230769230768)\" d=\"M-5,-5h10v10h-10Z\" style=\"fill: grey; stroke-width: 2; opacity: 0.7;\"></path><path transform=\"translate(62.5,237.69230769230768)\" d=\"M-5,-5h10v10h-10Z\" style=\"fill: grey; stroke-width: 2; opacity: 0.7;\"></path><path transform=\"translate(187.5,233.0769230769231)\" d=\"M-5,-5h10v10h-10Z\" style=\"fill: grey; stroke-width: 2; opacity: 0.7;\"></path><path transform=\"translate(375,223.84615384615387)\" d=\"M-5,-5h10v10h-10Z\" style=\"fill: grey; stroke-width: 2; opacity: 0.7;\"></path><path transform=\"translate(0,253.84615384615384)\" d=\"M-5,-5h10v10h-10Z\" style=\"fill: grey; stroke-width: 2; opacity: 0.7;\"></path><path transform=\"translate(375,221.53846153846155)\" d=\"M-5,-5h10v10h-10Z\" style=\"fill: grey; stroke-width: 2; opacity: 0.7;\"></path><path transform=\"translate(0,251.53846153846155)\" d=\"M-5,-5h10v10h-10Z\" style=\"fill: grey; stroke-width: 2; opacity: 0.7;\"></path><path transform=\"translate(125,235.3846153846154)\" d=\"M-5,-5h10v10h-10Z\" style=\"fill: grey; stroke-width: 2; opacity: 0.7;\"></path><path transform=\"translate(312.5,219.23076923076923)\" d=\"M-5,-5h10v10h-10Z\" style=\"fill: grey; stroke-width: 2; opacity: 0.7;\"></path><path transform=\"translate(0,249.23076923076923)\" d=\"M-5,-5h10v10h-10Z\" style=\"fill: grey; stroke-width: 2; opacity: 0.7;\"></path><path transform=\"translate(62.5,235.3846153846154)\" d=\"M-5,-5h10v10h-10Z\" style=\"fill: grey; stroke-width: 2; opacity: 0.7;\"></path><path transform=\"translate(250,235.3846153846154)\" d=\"M-5,-5h10v10h-10Z\" style=\"fill: rgb(61, 139, 194); stroke-width: 2; opacity: 0.7;\"></path><path transform=\"translate(312.5,216.9230769230769)\" d=\"M-5,-5h10v10h-10Z\" style=\"fill: grey; stroke-width: 2; opacity: 0.7;\"></path><path transform=\"translate(437.5,221.53846153846155)\" d=\"M-5,-5h10v10h-10Z\" style=\"fill: grey; stroke-width: 2; opacity: 0.7;\"></path><path transform=\"translate(125,233.0769230769231)\" d=\"M-5,-5h10v10h-10Z\" style=\"fill: grey; stroke-width: 2; opacity: 0.7;\"></path><path transform=\"translate(62.5,233.0769230769231)\" d=\"M-5,-5h10v10h-10Z\" style=\"fill: grey; stroke-width: 2; opacity: 0.7;\"></path><path transform=\"translate(500,237.69230769230768)\" d=\"M-5,-5h10v10h-10Z\" style=\"fill: grey; stroke-width: 2; opacity: 0.7;\"></path><path transform=\"translate(0,246.9230769230769)\" d=\"M-5,-5h10v10h-10Z\" style=\"fill: grey; stroke-width: 2; opacity: 0.7;\"></path><path transform=\"translate(500,235.3846153846154)\" d=\"M-5,-5h10v10h-10Z\" style=\"fill: grey; stroke-width: 2; opacity: 0.7;\"></path><path transform=\"translate(250,233.0769230769231)\" d=\"M-5,-5h10v10h-10Z\" style=\"fill: rgb(109, 174, 213); stroke-width: 2; opacity: 0.7;\"></path><path transform=\"translate(125,230.76923076923077)\" d=\"M-5,-5h10v10h-10Z\" style=\"fill: grey; stroke-width: 2; opacity: 0.7;\"></path><path transform=\"translate(0,244.6153846153846)\" d=\"M-5,-5h10v10h-10Z\" style=\"fill: grey; stroke-width: 2; opacity: 0.7;\"></path><path transform=\"translate(312.5,214.6153846153846)\" d=\"M-5,-5h10v10h-10Z\" style=\"fill: grey; stroke-width: 2; opacity: 0.7;\"></path><path transform=\"translate(375,219.23076923076923)\" d=\"M-5,-5h10v10h-10Z\" style=\"fill: grey; stroke-width: 2; opacity: 0.7;\"></path><path transform=\"translate(62.5,230.76923076923077)\" d=\"M-5,-5h10v10h-10Z\" style=\"fill: grey; stroke-width: 2; opacity: 0.7;\"></path><path transform=\"translate(187.5,230.76923076923077)\" d=\"M-5,-5h10v10h-10Z\" style=\"fill: grey; stroke-width: 2; opacity: 0.7;\"></path><path transform=\"translate(250,230.76923076923077)\" d=\"M-5,-5h10v10h-10Z\" style=\"fill: rgb(99, 168, 210); stroke-width: 2; opacity: 0.7;\"></path><path transform=\"translate(250,228.46153846153845)\" d=\"M-5,-5h10v10h-10Z\" style=\"fill: rgb(88, 161, 206); stroke-width: 2; opacity: 0.7;\"></path><path transform=\"translate(250,226.15384615384613)\" d=\"M-5,-5h10v10h-10Z\" style=\"fill: rgb(82, 156, 203); stroke-width: 2; opacity: 0.7;\"></path><path transform=\"translate(375,216.9230769230769)\" d=\"M-5,-5h10v10h-10Z\" style=\"fill: grey; stroke-width: 2; opacity: 0.7;\"></path><path transform=\"translate(62.5,228.46153846153845)\" d=\"M-5,-5h10v10h-10Z\" style=\"fill: grey; stroke-width: 2; opacity: 0.7;\"></path><path transform=\"translate(500,233.0769230769231)\" d=\"M-5,-5h10v10h-10Z\" style=\"fill: grey; stroke-width: 2; opacity: 0.7;\"></path><path transform=\"translate(375,214.6153846153846)\" d=\"M-5,-5h10v10h-10Z\" style=\"fill: grey; stroke-width: 2; opacity: 0.7;\"></path><path transform=\"translate(312.5,212.30769230769232)\" d=\"M-5,-5h10v10h-10Z\" style=\"fill: grey; stroke-width: 2; opacity: 0.7;\"></path><path transform=\"translate(375,212.30769230769232)\" d=\"M-5,-5h10v10h-10Z\" style=\"fill: grey; stroke-width: 2; opacity: 0.7;\"></path><path transform=\"translate(312.5,210)\" d=\"M-5,-5h10v10h-10Z\" style=\"fill: grey; stroke-width: 2; opacity: 0.7;\"></path><path transform=\"translate(312.5,207.69230769230768)\" d=\"M-5,-5h10v10h-10Z\" style=\"fill: grey; stroke-width: 2; opacity: 0.7;\"></path><path transform=\"translate(312.5,205.3846153846154)\" d=\"M-5,-5h10v10h-10Z\" style=\"fill: grey; stroke-width: 2; opacity: 0.7;\"></path><path transform=\"translate(250,223.84615384615387)\" d=\"M-5,-5h10v10h-10Z\" style=\"fill: rgb(37, 116, 181); stroke-width: 2; opacity: 0.7;\"></path><path transform=\"translate(250,221.53846153846155)\" d=\"M-5,-5h10v10h-10Z\" style=\"fill: rgb(120, 180, 216); stroke-width: 2; opacity: 0.7;\"></path><path transform=\"translate(187.5,228.46153846153845)\" d=\"M-5,-5h10v10h-10Z\" style=\"fill: grey; stroke-width: 2; opacity: 0.7;\"></path><path transform=\"translate(375,210)\" d=\"M-5,-5h10v10h-10Z\" style=\"fill: grey; stroke-width: 2; opacity: 0.7;\"></path><path transform=\"translate(125,228.46153846153845)\" d=\"M-5,-5h10v10h-10Z\" style=\"fill: grey; stroke-width: 2; opacity: 0.7;\"></path><path transform=\"translate(312.5,203.07692307692307)\" d=\"M-5,-5h10v10h-10Z\" style=\"fill: grey; stroke-width: 2; opacity: 0.7;\"></path><path transform=\"translate(250,219.23076923076923)\" d=\"M-5,-5h10v10h-10Z\" style=\"fill: rgb(105, 172, 212); stroke-width: 2; opacity: 0.7;\"></path><path transform=\"translate(312.5,200.76923076923077)\" d=\"M-5,-5h10v10h-10Z\" style=\"fill: grey; stroke-width: 2; opacity: 0.7;\"></path><path transform=\"translate(312.5,198.46153846153845)\" d=\"M-5,-5h10v10h-10Z\" style=\"fill: grey; stroke-width: 2; opacity: 0.7;\"></path><path transform=\"translate(250,216.9230769230769)\" d=\"M-5,-5h10v10h-10Z\" style=\"fill: rgb(172, 208, 230); stroke-width: 2; opacity: 0.7;\"></path><path transform=\"translate(437.5,219.23076923076923)\" d=\"M-5,-5h10v10h-10Z\" style=\"fill: grey; stroke-width: 2; opacity: 0.7;\"></path><path transform=\"translate(500,230.76923076923077)\" d=\"M-5,-5h10v10h-10Z\" style=\"fill: grey; stroke-width: 2; opacity: 0.7;\"></path><path transform=\"translate(312.5,196.15384615384616)\" d=\"M-5,-5h10v10h-10Z\" style=\"fill: grey; stroke-width: 2; opacity: 0.7;\"></path><path transform=\"translate(187.5,226.15384615384613)\" d=\"M-5,-5h10v10h-10Z\" style=\"fill: grey; stroke-width: 2; opacity: 0.7;\"></path><path transform=\"translate(125,226.15384615384613)\" d=\"M-5,-5h10v10h-10Z\" style=\"fill: grey; stroke-width: 2; opacity: 0.7;\"></path><path transform=\"translate(437.5,216.9230769230769)\" d=\"M-5,-5h10v10h-10Z\" style=\"fill: grey; stroke-width: 2; opacity: 0.7;\"></path><path transform=\"translate(125,223.84615384615387)\" d=\"M-5,-5h10v10h-10Z\" style=\"fill: grey; stroke-width: 2; opacity: 0.7;\"></path><path transform=\"translate(375,207.69230769230768)\" d=\"M-5,-5h10v10h-10Z\" style=\"fill: grey; stroke-width: 2; opacity: 0.7;\"></path><path transform=\"translate(375,205.3846153846154)\" d=\"M-5,-5h10v10h-10Z\" style=\"fill: grey; stroke-width: 2; opacity: 0.7;\"></path><path transform=\"translate(62.5,226.15384615384613)\" d=\"M-5,-5h10v10h-10Z\" style=\"fill: grey; stroke-width: 2; opacity: 0.7;\"></path><path transform=\"translate(500,228.46153846153845)\" d=\"M-5,-5h10v10h-10Z\" style=\"fill: grey; stroke-width: 2; opacity: 0.7;\"></path><path transform=\"translate(437.5,214.6153846153846)\" d=\"M-5,-5h10v10h-10Z\" style=\"fill: grey; stroke-width: 2; opacity: 0.7;\"></path><path transform=\"translate(187.5,223.84615384615387)\" d=\"M-5,-5h10v10h-10Z\" style=\"fill: grey; stroke-width: 2; opacity: 0.7;\"></path><path transform=\"translate(500,226.15384615384613)\" d=\"M-5,-5h10v10h-10Z\" style=\"fill: grey; stroke-width: 2; opacity: 0.7;\"></path><path transform=\"translate(250,214.6153846153846)\" d=\"M-5,-5h10v10h-10Z\" style=\"fill: rgb(65, 142, 196); stroke-width: 2; opacity: 0.7;\"></path><path transform=\"translate(62.5,223.84615384615387)\" d=\"M-5,-5h10v10h-10Z\" style=\"fill: grey; stroke-width: 2; opacity: 0.7;\"></path><path transform=\"translate(437.5,212.30769230769232)\" d=\"M-5,-5h10v10h-10Z\" style=\"fill: grey; stroke-width: 2; opacity: 0.7;\"></path><path transform=\"translate(187.5,221.53846153846155)\" d=\"M-5,-5h10v10h-10Z\" style=\"fill: grey; stroke-width: 2; opacity: 0.7;\"></path><path transform=\"translate(375,203.07692307692307)\" d=\"M-5,-5h10v10h-10Z\" style=\"fill: grey; stroke-width: 2; opacity: 0.7;\"></path><path transform=\"translate(437.5,210)\" d=\"M-5,-5h10v10h-10Z\" style=\"fill: grey; stroke-width: 2; opacity: 0.7;\"></path><path transform=\"translate(500,223.84615384615387)\" d=\"M-5,-5h10v10h-10Z\" style=\"fill: grey; stroke-width: 2; opacity: 0.7;\"></path><path transform=\"translate(250,212.30769230769232)\" d=\"M-5,-5h10v10h-10Z\" style=\"fill: rgb(40, 119, 183); stroke-width: 2; opacity: 0.7;\"></path><path transform=\"translate(125,221.53846153846155)\" d=\"M-5,-5h10v10h-10Z\" style=\"fill: grey; stroke-width: 2; opacity: 0.7;\"></path><path transform=\"translate(0,242.30769230769232)\" d=\"M-5,-5h10v10h-10Z\" style=\"fill: grey; stroke-width: 2; opacity: 0.7;\"></path><path transform=\"translate(500,221.53846153846155)\" d=\"M-5,-5h10v10h-10Z\" style=\"fill: grey; stroke-width: 2; opacity: 0.7;\"></path><path transform=\"translate(500,219.23076923076923)\" d=\"M-5,-5h10v10h-10Z\" style=\"fill: grey; stroke-width: 2; opacity: 0.7;\"></path><path transform=\"translate(187.5,219.23076923076923)\" d=\"M-5,-5h10v10h-10Z\" style=\"fill: grey; stroke-width: 2; opacity: 0.7;\"></path><path transform=\"translate(250,210)\" d=\"M-5,-5h10v10h-10Z\" style=\"fill: rgb(154, 198, 225); stroke-width: 2; opacity: 0.7;\"></path><path transform=\"translate(187.5,216.9230769230769)\" d=\"M-5,-5h10v10h-10Z\" style=\"fill: grey; stroke-width: 2; opacity: 0.7;\"></path><path transform=\"translate(437.5,207.69230769230768)\" d=\"M-5,-5h10v10h-10Z\" style=\"fill: grey; stroke-width: 2; opacity: 0.7;\"></path><path transform=\"translate(312.5,193.84615384615384)\" d=\"M-5,-5h10v10h-10Z\" style=\"fill: grey; stroke-width: 2; opacity: 0.7;\"></path><path transform=\"translate(62.5,221.53846153846155)\" d=\"M-5,-5h10v10h-10Z\" style=\"fill: grey; stroke-width: 2; opacity: 0.7;\"></path><path transform=\"translate(500,216.9230769230769)\" d=\"M-5,-5h10v10h-10Z\" style=\"fill: grey; stroke-width: 2; opacity: 0.7;\"></path><path transform=\"translate(312.5,191.53846153846155)\" d=\"M-5,-5h10v10h-10Z\" style=\"fill: grey; stroke-width: 2; opacity: 0.7;\"></path><path transform=\"translate(250,207.69230769230768)\" d=\"M-5,-5h10v10h-10Z\" style=\"fill: rgb(109, 174, 213); stroke-width: 2; opacity: 0.7;\"></path><path transform=\"translate(312.5,189.23076923076923)\" d=\"M-5,-5h10v10h-10Z\" style=\"fill: grey; stroke-width: 2; opacity: 0.7;\"></path><path transform=\"translate(375,200.76923076923077)\" d=\"M-5,-5h10v10h-10Z\" style=\"fill: grey; stroke-width: 2; opacity: 0.7;\"></path><path transform=\"translate(0,240)\" d=\"M-5,-5h10v10h-10Z\" style=\"fill: grey; stroke-width: 2; opacity: 0.7;\"></path><path transform=\"translate(0,237.69230769230768)\" d=\"M-5,-5h10v10h-10Z\" style=\"fill: grey; stroke-width: 2; opacity: 0.7;\"></path><path transform=\"translate(375,198.46153846153845)\" d=\"M-5,-5h10v10h-10Z\" style=\"fill: grey; stroke-width: 2; opacity: 0.7;\"></path><path transform=\"translate(375,196.15384615384616)\" d=\"M-5,-5h10v10h-10Z\" style=\"fill: grey; stroke-width: 2; opacity: 0.7;\"></path><path transform=\"translate(62.5,219.23076923076923)\" d=\"M-5,-5h10v10h-10Z\" style=\"fill: grey; stroke-width: 2; opacity: 0.7;\"></path><path transform=\"translate(375,193.84615384615384)\" d=\"M-5,-5h10v10h-10Z\" style=\"fill: grey; stroke-width: 2; opacity: 0.7;\"></path><path transform=\"translate(312.5,186.9230769230769)\" d=\"M-5,-5h10v10h-10Z\" style=\"fill: grey; stroke-width: 2; opacity: 0.7;\"></path><path transform=\"translate(125,219.23076923076923)\" d=\"M-5,-5h10v10h-10Z\" style=\"fill: grey; stroke-width: 2; opacity: 0.7;\"></path><path transform=\"translate(437.5,205.3846153846154)\" d=\"M-5,-5h10v10h-10Z\" style=\"fill: grey; stroke-width: 2; opacity: 0.7;\"></path><path transform=\"translate(375,191.53846153846155)\" d=\"M-5,-5h10v10h-10Z\" style=\"fill: grey; stroke-width: 2; opacity: 0.7;\"></path><path transform=\"translate(437.5,203.07692307692307)\" d=\"M-5,-5h10v10h-10Z\" style=\"fill: grey; stroke-width: 2; opacity: 0.7;\"></path><path transform=\"translate(500,214.6153846153846)\" d=\"M-5,-5h10v10h-10Z\" style=\"fill: grey; stroke-width: 2; opacity: 0.7;\"></path><path transform=\"translate(187.5,214.6153846153846)\" d=\"M-5,-5h10v10h-10Z\" style=\"fill: grey; stroke-width: 2; opacity: 0.7;\"></path><path transform=\"translate(312.5,184.6153846153846)\" d=\"M-5,-5h10v10h-10Z\" style=\"fill: grey; stroke-width: 2; opacity: 0.7;\"></path><path transform=\"translate(375,189.23076923076923)\" d=\"M-5,-5h10v10h-10Z\" style=\"fill: grey; stroke-width: 2; opacity: 0.7;\"></path><path transform=\"translate(437.5,200.76923076923077)\" d=\"M-5,-5h10v10h-10Z\" style=\"fill: grey; stroke-width: 2; opacity: 0.7;\"></path><path transform=\"translate(250,205.3846153846154)\" d=\"M-5,-5h10v10h-10Z\" style=\"fill: rgb(127, 184, 218); stroke-width: 2; opacity: 0.7;\"></path><path transform=\"translate(0,235.3846153846154)\" d=\"M-5,-5h10v10h-10Z\" style=\"fill: grey; stroke-width: 2; opacity: 0.7;\"></path><path transform=\"translate(437.5,198.46153846153845)\" d=\"M-5,-5h10v10h-10Z\" style=\"fill: grey; stroke-width: 2; opacity: 0.7;\"></path><path transform=\"translate(437.5,196.15384615384616)\" d=\"M-5,-5h10v10h-10Z\" style=\"fill: grey; stroke-width: 2; opacity: 0.7;\"></path><path transform=\"translate(375,186.9230769230769)\" d=\"M-5,-5h10v10h-10Z\" style=\"fill: grey; stroke-width: 2; opacity: 0.7;\"></path><path transform=\"translate(375,184.6153846153846)\" d=\"M-5,-5h10v10h-10Z\" style=\"fill: grey; stroke-width: 2; opacity: 0.7;\"></path><path transform=\"translate(437.5,193.84615384615384)\" d=\"M-5,-5h10v10h-10Z\" style=\"fill: grey; stroke-width: 2; opacity: 0.7;\"></path><path transform=\"translate(62.5,216.9230769230769)\" d=\"M-5,-5h10v10h-10Z\" style=\"fill: grey; stroke-width: 2; opacity: 0.7;\"></path><path transform=\"translate(0,233.0769230769231)\" d=\"M-5,-5h10v10h-10Z\" style=\"fill: grey; stroke-width: 2; opacity: 0.7;\"></path><path transform=\"translate(62.5,214.6153846153846)\" d=\"M-5,-5h10v10h-10Z\" style=\"fill: grey; stroke-width: 2; opacity: 0.7;\"></path><path transform=\"translate(62.5,212.30769230769232)\" d=\"M-5,-5h10v10h-10Z\" style=\"fill: grey; stroke-width: 2; opacity: 0.7;\"></path><path transform=\"translate(312.5,182.30769230769232)\" d=\"M-5,-5h10v10h-10Z\" style=\"fill: grey; stroke-width: 2; opacity: 0.7;\"></path><path transform=\"translate(375,182.30769230769232)\" d=\"M-5,-5h10v10h-10Z\" style=\"fill: grey; stroke-width: 2; opacity: 0.7;\"></path><path transform=\"translate(312.5,180)\" d=\"M-5,-5h10v10h-10Z\" style=\"fill: grey; stroke-width: 2; opacity: 0.7;\"></path><path transform=\"translate(250,203.07692307692307)\" d=\"M-5,-5h10v10h-10Z\" style=\"fill: rgb(68, 145, 198); stroke-width: 2; opacity: 0.7;\"></path><path transform=\"translate(187.5,212.30769230769232)\" d=\"M-5,-5h10v10h-10Z\" style=\"fill: grey; stroke-width: 2; opacity: 0.7;\"></path><path transform=\"translate(62.5,210)\" d=\"M-5,-5h10v10h-10Z\" style=\"fill: grey; stroke-width: 2; opacity: 0.7;\"></path><path transform=\"translate(250,200.76923076923077)\" d=\"M-5,-5h10v10h-10Z\" style=\"fill: rgb(90, 162, 207); stroke-width: 2; opacity: 0.7;\"></path><path transform=\"translate(312.5,177.69230769230768)\" d=\"M-5,-5h10v10h-10Z\" style=\"fill: grey; stroke-width: 2; opacity: 0.7;\"></path><path transform=\"translate(500,212.30769230769232)\" d=\"M-5,-5h10v10h-10Z\" style=\"fill: grey; stroke-width: 2; opacity: 0.7;\"></path><path transform=\"translate(62.5,207.69230769230768)\" d=\"M-5,-5h10v10h-10Z\" style=\"fill: grey; stroke-width: 2; opacity: 0.7;\"></path><path transform=\"translate(187.5,210)\" d=\"M-5,-5h10v10h-10Z\" style=\"fill: grey; stroke-width: 2; opacity: 0.7;\"></path><path transform=\"translate(250,198.46153846153845)\" d=\"M-5,-5h10v10h-10Z\" style=\"fill: rgb(53, 133, 191); stroke-width: 2; opacity: 0.7;\"></path><path transform=\"translate(0,230.76923076923077)\" d=\"M-5,-5h10v10h-10Z\" style=\"fill: grey; stroke-width: 2; opacity: 0.7;\"></path><path transform=\"translate(500,210)\" d=\"M-5,-5h10v10h-10Z\" style=\"fill: grey; stroke-width: 2; opacity: 0.7;\"></path><path transform=\"translate(187.5,207.69230769230768)\" d=\"M-5,-5h10v10h-10Z\" style=\"fill: grey; stroke-width: 2; opacity: 0.7;\"></path><path transform=\"translate(62.5,205.3846153846154)\" d=\"M-5,-5h10v10h-10Z\" style=\"fill: grey; stroke-width: 2; opacity: 0.7;\"></path><path transform=\"translate(312.5,175.38461538461536)\" d=\"M-5,-5h10v10h-10Z\" style=\"fill: grey; stroke-width: 2; opacity: 0.7;\"></path><path transform=\"translate(375,180)\" d=\"M-5,-5h10v10h-10Z\" style=\"fill: grey; stroke-width: 2; opacity: 0.7;\"></path><path transform=\"translate(125,216.9230769230769)\" d=\"M-5,-5h10v10h-10Z\" style=\"fill: grey; stroke-width: 2; opacity: 0.7;\"></path><path transform=\"translate(125,214.6153846153846)\" d=\"M-5,-5h10v10h-10Z\" style=\"fill: grey; stroke-width: 2; opacity: 0.7;\"></path><path transform=\"translate(0,228.46153846153845)\" d=\"M-5,-5h10v10h-10Z\" style=\"fill: grey; stroke-width: 2; opacity: 0.7;\"></path><path transform=\"translate(62.5,203.07692307692307)\" d=\"M-5,-5h10v10h-10Z\" style=\"fill: grey; stroke-width: 2; opacity: 0.7;\"></path><path transform=\"translate(62.5,200.76923076923077)\" d=\"M-5,-5h10v10h-10Z\" style=\"fill: grey; stroke-width: 2; opacity: 0.7;\"></path><path transform=\"translate(0,226.15384615384613)\" d=\"M-5,-5h10v10h-10Z\" style=\"fill: grey; stroke-width: 2; opacity: 0.7;\"></path><path transform=\"translate(62.5,198.46153846153845)\" d=\"M-5,-5h10v10h-10Z\" style=\"fill: grey; stroke-width: 2; opacity: 0.7;\"></path><path transform=\"translate(0,223.84615384615387)\" d=\"M-5,-5h10v10h-10Z\" style=\"fill: grey; stroke-width: 2; opacity: 0.7;\"></path><path transform=\"translate(437.5,191.53846153846155)\" d=\"M-5,-5h10v10h-10Z\" style=\"fill: grey; stroke-width: 2; opacity: 0.7;\"></path><path transform=\"translate(437.5,189.23076923076923)\" d=\"M-5,-5h10v10h-10Z\" style=\"fill: grey; stroke-width: 2; opacity: 0.7;\"></path><path transform=\"translate(437.5,186.9230769230769)\" d=\"M-5,-5h10v10h-10Z\" style=\"fill: grey; stroke-width: 2; opacity: 0.7;\"></path><path transform=\"translate(125,212.30769230769232)\" d=\"M-5,-5h10v10h-10Z\" style=\"fill: grey; stroke-width: 2; opacity: 0.7;\"></path><path transform=\"translate(187.5,205.3846153846154)\" d=\"M-5,-5h10v10h-10Z\" style=\"fill: grey; stroke-width: 2; opacity: 0.7;\"></path><path transform=\"translate(437.5,184.6153846153846)\" d=\"M-5,-5h10v10h-10Z\" style=\"fill: grey; stroke-width: 2; opacity: 0.7;\"></path><path transform=\"translate(0,221.53846153846155)\" d=\"M-5,-5h10v10h-10Z\" style=\"fill: grey; stroke-width: 2; opacity: 0.7;\"></path><path transform=\"translate(312.5,173.0769230769231)\" d=\"M-5,-5h10v10h-10Z\" style=\"fill: grey; stroke-width: 2; opacity: 0.7;\"></path><path transform=\"translate(62.5,196.15384615384616)\" d=\"M-5,-5h10v10h-10Z\" style=\"fill: grey; stroke-width: 2; opacity: 0.7;\"></path><path transform=\"translate(250,196.15384615384616)\" d=\"M-5,-5h10v10h-10Z\" style=\"fill: rgb(85, 158, 204); stroke-width: 2; opacity: 0.7;\"></path><path transform=\"translate(62.5,193.84615384615384)\" d=\"M-5,-5h10v10h-10Z\" style=\"fill: grey; stroke-width: 2; opacity: 0.7;\"></path><path transform=\"translate(62.5,191.53846153846155)\" d=\"M-5,-5h10v10h-10Z\" style=\"fill: grey; stroke-width: 2; opacity: 0.7;\"></path><path transform=\"translate(62.5,189.23076923076923)\" d=\"M-5,-5h10v10h-10Z\" style=\"fill: grey; stroke-width: 2; opacity: 0.7;\"></path><path transform=\"translate(437.5,182.30769230769232)\" d=\"M-5,-5h10v10h-10Z\" style=\"fill: grey; stroke-width: 2; opacity: 0.7;\"></path><path transform=\"translate(250,193.84615384615384)\" d=\"M-5,-5h10v10h-10Z\" style=\"fill: rgb(70, 147, 199); stroke-width: 2; opacity: 0.7;\"></path><path transform=\"translate(500,207.69230769230768)\" d=\"M-5,-5h10v10h-10Z\" style=\"fill: grey; stroke-width: 2; opacity: 0.7;\"></path><path transform=\"translate(250,191.53846153846155)\" d=\"M-5,-5h10v10h-10Z\" style=\"fill: rgb(83, 156, 204); stroke-width: 2; opacity: 0.7;\"></path><path transform=\"translate(500,205.3846153846154)\" d=\"M-5,-5h10v10h-10Z\" style=\"fill: grey; stroke-width: 2; opacity: 0.7;\"></path><path transform=\"translate(125,210)\" d=\"M-5,-5h10v10h-10Z\" style=\"fill: grey; stroke-width: 2; opacity: 0.7;\"></path><path transform=\"translate(437.5,180)\" d=\"M-5,-5h10v10h-10Z\" style=\"fill: grey; stroke-width: 2; opacity: 0.7;\"></path><path transform=\"translate(250,189.23076923076923)\" d=\"M-5,-5h10v10h-10Z\" style=\"fill: rgb(77, 152, 201); stroke-width: 2; opacity: 0.7;\"></path><path transform=\"translate(0,219.23076923076923)\" d=\"M-5,-5h10v10h-10Z\" style=\"fill: grey; stroke-width: 2; opacity: 0.7;\"></path><path transform=\"translate(187.5,203.07692307692307)\" d=\"M-5,-5h10v10h-10Z\" style=\"fill: grey; stroke-width: 2; opacity: 0.7;\"></path><path transform=\"translate(312.5,170.76923076923077)\" d=\"M-5,-5h10v10h-10Z\" style=\"fill: grey; stroke-width: 2; opacity: 0.7;\"></path><path transform=\"translate(312.5,168.46153846153845)\" d=\"M-5,-5h10v10h-10Z\" style=\"fill: grey; stroke-width: 2; opacity: 0.7;\"></path><path transform=\"translate(500,203.07692307692307)\" d=\"M-5,-5h10v10h-10Z\" style=\"fill: grey; stroke-width: 2; opacity: 0.7;\"></path><path transform=\"translate(312.5,166.15384615384616)\" d=\"M-5,-5h10v10h-10Z\" style=\"fill: grey; stroke-width: 2; opacity: 0.7;\"></path><path transform=\"translate(437.5,177.69230769230768)\" d=\"M-5,-5h10v10h-10Z\" style=\"fill: grey; stroke-width: 2; opacity: 0.7;\"></path><path transform=\"translate(187.5,200.76923076923077)\" d=\"M-5,-5h10v10h-10Z\" style=\"fill: grey; stroke-width: 2; opacity: 0.7;\"></path><path transform=\"translate(187.5,198.46153846153845)\" d=\"M-5,-5h10v10h-10Z\" style=\"fill: grey; stroke-width: 2; opacity: 0.7;\"></path><path transform=\"translate(437.5,175.38461538461536)\" d=\"M-5,-5h10v10h-10Z\" style=\"fill: grey; stroke-width: 2; opacity: 0.7;\"></path><path transform=\"translate(62.5,186.9230769230769)\" d=\"M-5,-5h10v10h-10Z\" style=\"fill: grey; stroke-width: 2; opacity: 0.7;\"></path><path transform=\"translate(0,216.9230769230769)\" d=\"M-5,-5h10v10h-10Z\" style=\"fill: grey; stroke-width: 2; opacity: 0.7;\"></path><path transform=\"translate(500,200.76923076923077)\" d=\"M-5,-5h10v10h-10Z\" style=\"fill: grey; stroke-width: 2; opacity: 0.7;\"></path><path transform=\"translate(125,207.69230769230768)\" d=\"M-5,-5h10v10h-10Z\" style=\"fill: grey; stroke-width: 2; opacity: 0.7;\"></path><path transform=\"translate(312.5,163.84615384615384)\" d=\"M-5,-5h10v10h-10Z\" style=\"fill: grey; stroke-width: 2; opacity: 0.7;\"></path><path transform=\"translate(62.5,184.6153846153846)\" d=\"M-5,-5h10v10h-10Z\" style=\"fill: grey; stroke-width: 2; opacity: 0.7;\"></path><path transform=\"translate(0,214.6153846153846)\" d=\"M-5,-5h10v10h-10Z\" style=\"fill: grey; stroke-width: 2; opacity: 0.7;\"></path><path transform=\"translate(312.5,161.53846153846152)\" d=\"M-5,-5h10v10h-10Z\" style=\"fill: grey; stroke-width: 2; opacity: 0.7;\"></path><path transform=\"translate(375,177.69230769230768)\" d=\"M-5,-5h10v10h-10Z\" style=\"fill: grey; stroke-width: 2; opacity: 0.7;\"></path><path transform=\"translate(250,186.9230769230769)\" d=\"M-5,-5h10v10h-10Z\" style=\"fill: rgb(67, 145, 197); stroke-width: 2; opacity: 0.7;\"></path><path transform=\"translate(250,184.6153846153846)\" d=\"M-5,-5h10v10h-10Z\" style=\"fill: rgb(107, 173, 212); stroke-width: 2; opacity: 0.7;\"></path><path transform=\"translate(0,212.30769230769232)\" d=\"M-5,-5h10v10h-10Z\" style=\"fill: grey; stroke-width: 2; opacity: 0.7;\"></path><path transform=\"translate(312.5,159.23076923076923)\" d=\"M-5,-5h10v10h-10Z\" style=\"fill: grey; stroke-width: 2; opacity: 0.7;\"></path><path transform=\"translate(0,210)\" d=\"M-5,-5h10v10h-10Z\" style=\"fill: grey; stroke-width: 2; opacity: 0.7;\"></path><path transform=\"translate(500,198.46153846153845)\" d=\"M-5,-5h10v10h-10Z\" style=\"fill: grey; stroke-width: 2; opacity: 0.7;\"></path><path transform=\"translate(0,207.69230769230768)\" d=\"M-5,-5h10v10h-10Z\" style=\"fill: grey; stroke-width: 2; opacity: 0.7;\"></path><path transform=\"translate(500,196.15384615384616)\" d=\"M-5,-5h10v10h-10Z\" style=\"fill: grey; stroke-width: 2; opacity: 0.7;\"></path><path transform=\"translate(375,175.38461538461536)\" d=\"M-5,-5h10v10h-10Z\" style=\"fill: grey; stroke-width: 2; opacity: 0.7;\"></path><path transform=\"translate(375,173.0769230769231)\" d=\"M-5,-5h10v10h-10Z\" style=\"fill: grey; stroke-width: 2; opacity: 0.7;\"></path><path transform=\"translate(312.5,156.9230769230769)\" d=\"M-5,-5h10v10h-10Z\" style=\"fill: grey; stroke-width: 2; opacity: 0.7;\"></path><path transform=\"translate(437.5,173.0769230769231)\" d=\"M-5,-5h10v10h-10Z\" style=\"fill: grey; stroke-width: 2; opacity: 0.7;\"></path><path transform=\"translate(500,193.84615384615384)\" d=\"M-5,-5h10v10h-10Z\" style=\"fill: grey; stroke-width: 2; opacity: 0.7;\"></path><path transform=\"translate(375,170.76923076923077)\" d=\"M-5,-5h10v10h-10Z\" style=\"fill: grey; stroke-width: 2; opacity: 0.7;\"></path><path transform=\"translate(0,205.3846153846154)\" d=\"M-5,-5h10v10h-10Z\" style=\"fill: grey; stroke-width: 2; opacity: 0.7;\"></path><path transform=\"translate(125,205.3846153846154)\" d=\"M-5,-5h10v10h-10Z\" style=\"fill: grey; stroke-width: 2; opacity: 0.7;\"></path><path transform=\"translate(500,191.53846153846155)\" d=\"M-5,-5h10v10h-10Z\" style=\"fill: grey; stroke-width: 2; opacity: 0.7;\"></path><path transform=\"translate(250,182.30769230769232)\" d=\"M-5,-5h10v10h-10Z\" style=\"fill: rgb(84, 158, 204); stroke-width: 2; opacity: 0.7;\"></path><path transform=\"translate(500,189.23076923076923)\" d=\"M-5,-5h10v10h-10Z\" style=\"fill: grey; stroke-width: 2; opacity: 0.7;\"></path><path transform=\"translate(250,180)\" d=\"M-5,-5h10v10h-10Z\" style=\"fill: rgb(103, 170, 211); stroke-width: 2; opacity: 0.7;\"></path><path transform=\"translate(187.5,196.15384615384616)\" d=\"M-5,-5h10v10h-10Z\" style=\"fill: grey; stroke-width: 2; opacity: 0.7;\"></path><path transform=\"translate(62.5,182.30769230769232)\" d=\"M-5,-5h10v10h-10Z\" style=\"fill: grey; stroke-width: 2; opacity: 0.7;\"></path><path transform=\"translate(125,203.07692307692307)\" d=\"M-5,-5h10v10h-10Z\" style=\"fill: grey; stroke-width: 2; opacity: 0.7;\"></path><path transform=\"translate(500,186.9230769230769)\" d=\"M-5,-5h10v10h-10Z\" style=\"fill: grey; stroke-width: 2; opacity: 0.7;\"></path><path transform=\"translate(312.5,154.6153846153846)\" d=\"M-5,-5h10v10h-10Z\" style=\"fill: grey; stroke-width: 2; opacity: 0.7;\"></path><path transform=\"translate(375,168.46153846153845)\" d=\"M-5,-5h10v10h-10Z\" style=\"fill: grey; stroke-width: 2; opacity: 0.7;\"></path><path transform=\"translate(125,200.76923076923077)\" d=\"M-5,-5h10v10h-10Z\" style=\"fill: grey; stroke-width: 2; opacity: 0.7;\"></path><path transform=\"translate(312.5,152.3076923076923)\" d=\"M-5,-5h10v10h-10Z\" style=\"fill: grey; stroke-width: 2; opacity: 0.7;\"></path><path transform=\"translate(312.5,150)\" d=\"M-5,-5h10v10h-10Z\" style=\"fill: grey; stroke-width: 2; opacity: 0.7;\"></path><path transform=\"translate(0,203.07692307692307)\" d=\"M-5,-5h10v10h-10Z\" style=\"fill: grey; stroke-width: 2; opacity: 0.7;\"></path><path transform=\"translate(250,177.69230769230768)\" d=\"M-5,-5h10v10h-10Z\" style=\"fill: rgb(103, 170, 211); stroke-width: 2; opacity: 0.7;\"></path><path transform=\"translate(312.5,147.6923076923077)\" d=\"M-5,-5h10v10h-10Z\" style=\"fill: grey; stroke-width: 2; opacity: 0.7;\"></path><path transform=\"translate(437.5,170.76923076923077)\" d=\"M-5,-5h10v10h-10Z\" style=\"fill: grey; stroke-width: 2; opacity: 0.7;\"></path><path transform=\"translate(62.5,180)\" d=\"M-5,-5h10v10h-10Z\" style=\"fill: grey; stroke-width: 2; opacity: 0.7;\"></path><path transform=\"translate(250,175.38461538461536)\" d=\"M-5,-5h10v10h-10Z\" style=\"fill: rgb(56, 135, 192); stroke-width: 2; opacity: 0.7;\"></path><path transform=\"translate(500,184.6153846153846)\" d=\"M-5,-5h10v10h-10Z\" style=\"fill: grey; stroke-width: 2; opacity: 0.7;\"></path><path transform=\"translate(0,200.76923076923077)\" d=\"M-5,-5h10v10h-10Z\" style=\"fill: grey; stroke-width: 2; opacity: 0.7;\"></path><path transform=\"translate(250,173.0769230769231)\" d=\"M-5,-5h10v10h-10Z\" style=\"fill: rgb(64, 142, 196); stroke-width: 2; opacity: 0.7;\"></path><path transform=\"translate(62.5,177.69230769230768)\" d=\"M-5,-5h10v10h-10Z\" style=\"fill: grey; stroke-width: 2; opacity: 0.7;\"></path><path transform=\"translate(437.5,168.46153846153845)\" d=\"M-5,-5h10v10h-10Z\" style=\"fill: grey; stroke-width: 2; opacity: 0.7;\"></path><path transform=\"translate(0,198.46153846153845)\" d=\"M-5,-5h10v10h-10Z\" style=\"fill: grey; stroke-width: 2; opacity: 0.7;\"></path><path transform=\"translate(437.5,166.15384615384616)\" d=\"M-5,-5h10v10h-10Z\" style=\"fill: grey; stroke-width: 2; opacity: 0.7;\"></path><path transform=\"translate(187.5,193.84615384615384)\" d=\"M-5,-5h10v10h-10Z\" style=\"fill: grey; stroke-width: 2; opacity: 0.7;\"></path><path transform=\"translate(187.5,191.53846153846155)\" d=\"M-5,-5h10v10h-10Z\" style=\"fill: grey; stroke-width: 2; opacity: 0.7;\"></path><path transform=\"translate(187.5,189.23076923076923)\" d=\"M-5,-5h10v10h-10Z\" style=\"fill: grey; stroke-width: 2; opacity: 0.7;\"></path><path transform=\"translate(375,166.15384615384616)\" d=\"M-5,-5h10v10h-10Z\" style=\"fill: grey; stroke-width: 2; opacity: 0.7;\"></path><path transform=\"translate(0,196.15384615384616)\" d=\"M-5,-5h10v10h-10Z\" style=\"fill: grey; stroke-width: 2; opacity: 0.7;\"></path><path transform=\"translate(500,182.30769230769232)\" d=\"M-5,-5h10v10h-10Z\" style=\"fill: grey; stroke-width: 2; opacity: 0.7;\"></path><path transform=\"translate(437.5,163.84615384615384)\" d=\"M-5,-5h10v10h-10Z\" style=\"fill: grey; stroke-width: 2; opacity: 0.7;\"></path><path transform=\"translate(375,163.84615384615384)\" d=\"M-5,-5h10v10h-10Z\" style=\"fill: grey; stroke-width: 2; opacity: 0.7;\"></path><path transform=\"translate(250,170.76923076923077)\" d=\"M-5,-5h10v10h-10Z\" style=\"fill: rgb(82, 156, 203); stroke-width: 2; opacity: 0.7;\"></path><path transform=\"translate(125,198.46153846153845)\" d=\"M-5,-5h10v10h-10Z\" style=\"fill: grey; stroke-width: 2; opacity: 0.7;\"></path><path transform=\"translate(250,168.46153846153845)\" d=\"M-5,-5h10v10h-10Z\" style=\"fill: rgb(106, 172, 212); stroke-width: 2; opacity: 0.7;\"></path><path transform=\"translate(500,180)\" d=\"M-5,-5h10v10h-10Z\" style=\"fill: grey; stroke-width: 2; opacity: 0.7;\"></path><path transform=\"translate(375,161.53846153846152)\" d=\"M-5,-5h10v10h-10Z\" style=\"fill: grey; stroke-width: 2; opacity: 0.7;\"></path><path transform=\"translate(250,166.15384615384616)\" d=\"M-5,-5h10v10h-10Z\" style=\"fill: rgb(79, 154, 202); stroke-width: 2; opacity: 0.7;\"></path><path transform=\"translate(312.5,145.38461538461542)\" d=\"M-5,-5h10v10h-10Z\" style=\"fill: grey; stroke-width: 2; opacity: 0.7;\"></path><path transform=\"translate(62.5,175.38461538461536)\" d=\"M-5,-5h10v10h-10Z\" style=\"fill: grey; stroke-width: 2; opacity: 0.7;\"></path><path transform=\"translate(187.5,186.9230769230769)\" d=\"M-5,-5h10v10h-10Z\" style=\"fill: grey; stroke-width: 2; opacity: 0.7;\"></path><path transform=\"translate(437.5,161.53846153846152)\" d=\"M-5,-5h10v10h-10Z\" style=\"fill: grey; stroke-width: 2; opacity: 0.7;\"></path><path transform=\"translate(125,196.15384615384616)\" d=\"M-5,-5h10v10h-10Z\" style=\"fill: grey; stroke-width: 2; opacity: 0.7;\"></path><path transform=\"translate(125,193.84615384615384)\" d=\"M-5,-5h10v10h-10Z\" style=\"fill: grey; stroke-width: 2; opacity: 0.7;\"></path><path transform=\"translate(437.5,159.23076923076923)\" d=\"M-5,-5h10v10h-10Z\" style=\"fill: grey; stroke-width: 2; opacity: 0.7;\"></path><path transform=\"translate(437.5,156.9230769230769)\" d=\"M-5,-5h10v10h-10Z\" style=\"fill: grey; stroke-width: 2; opacity: 0.7;\"></path><path transform=\"translate(125,191.53846153846155)\" d=\"M-5,-5h10v10h-10Z\" style=\"fill: grey; stroke-width: 2; opacity: 0.7;\"></path><path transform=\"translate(62.5,173.0769230769231)\" d=\"M-5,-5h10v10h-10Z\" style=\"fill: grey; stroke-width: 2; opacity: 0.7;\"></path><path transform=\"translate(437.5,154.6153846153846)\" d=\"M-5,-5h10v10h-10Z\" style=\"fill: grey; stroke-width: 2; opacity: 0.7;\"></path><path transform=\"translate(62.5,170.76923076923077)\" d=\"M-5,-5h10v10h-10Z\" style=\"fill: grey; stroke-width: 2; opacity: 0.7;\"></path><path transform=\"translate(250,163.84615384615384)\" d=\"M-5,-5h10v10h-10Z\" style=\"fill: rgb(61, 139, 195); stroke-width: 2; opacity: 0.7;\"></path><path transform=\"translate(187.5,184.6153846153846)\" d=\"M-5,-5h10v10h-10Z\" style=\"fill: grey; stroke-width: 2; opacity: 0.7;\"></path><path transform=\"translate(187.5,182.30769230769232)\" d=\"M-5,-5h10v10h-10Z\" style=\"fill: grey; stroke-width: 2; opacity: 0.7;\"></path><path transform=\"translate(125,189.23076923076923)\" d=\"M-5,-5h10v10h-10Z\" style=\"fill: grey; stroke-width: 2; opacity: 0.7;\"></path><path transform=\"translate(250,161.53846153846152)\" d=\"M-5,-5h10v10h-10Z\" style=\"fill: rgb(104, 171, 211); stroke-width: 2; opacity: 0.7;\"></path><path transform=\"translate(375,159.23076923076923)\" d=\"M-5,-5h10v10h-10Z\" style=\"fill: grey; stroke-width: 2; opacity: 0.7;\"></path><path transform=\"translate(437.5,152.3076923076923)\" d=\"M-5,-5h10v10h-10Z\" style=\"fill: grey; stroke-width: 2; opacity: 0.7;\"></path><path transform=\"translate(500,177.69230769230768)\" d=\"M-5,-5h10v10h-10Z\" style=\"fill: grey; stroke-width: 2; opacity: 0.7;\"></path><path transform=\"translate(0,193.84615384615384)\" d=\"M-5,-5h10v10h-10Z\" style=\"fill: grey; stroke-width: 2; opacity: 0.7;\"></path><path transform=\"translate(312.5,143.07692307692307)\" d=\"M-5,-5h10v10h-10Z\" style=\"fill: grey; stroke-width: 2; opacity: 0.7;\"></path><path transform=\"translate(187.5,180)\" d=\"M-5,-5h10v10h-10Z\" style=\"fill: grey; stroke-width: 2; opacity: 0.7;\"></path><path transform=\"translate(62.5,168.46153846153845)\" d=\"M-5,-5h10v10h-10Z\" style=\"fill: grey; stroke-width: 2; opacity: 0.7;\"></path><path transform=\"translate(437.5,150)\" d=\"M-5,-5h10v10h-10Z\" style=\"fill: grey; stroke-width: 2; opacity: 0.7;\"></path><path transform=\"translate(125,186.9230769230769)\" d=\"M-5,-5h10v10h-10Z\" style=\"fill: grey; stroke-width: 2; opacity: 0.7;\"></path><path transform=\"translate(500,175.38461538461536)\" d=\"M-5,-5h10v10h-10Z\" style=\"fill: grey; stroke-width: 2; opacity: 0.7;\"></path><path transform=\"translate(500,173.0769230769231)\" d=\"M-5,-5h10v10h-10Z\" style=\"fill: grey; stroke-width: 2; opacity: 0.7;\"></path><path transform=\"translate(250,159.23076923076923)\" d=\"M-5,-5h10v10h-10Z\" style=\"fill: rgb(131, 186, 219); stroke-width: 2; opacity: 0.7;\"></path><path transform=\"translate(125,184.6153846153846)\" d=\"M-5,-5h10v10h-10Z\" style=\"fill: grey; stroke-width: 2; opacity: 0.7;\"></path><path transform=\"translate(375,156.9230769230769)\" d=\"M-5,-5h10v10h-10Z\" style=\"fill: grey; stroke-width: 2; opacity: 0.7;\"></path><path transform=\"translate(0,191.53846153846155)\" d=\"M-5,-5h10v10h-10Z\" style=\"fill: grey; stroke-width: 2; opacity: 0.7;\"></path><path transform=\"translate(187.5,177.69230769230768)\" d=\"M-5,-5h10v10h-10Z\" style=\"fill: grey; stroke-width: 2; opacity: 0.7;\"></path><path transform=\"translate(250,156.9230769230769)\" d=\"M-5,-5h10v10h-10Z\" style=\"fill: rgb(155, 199, 225); stroke-width: 2; opacity: 0.7;\"></path><path transform=\"translate(375,154.6153846153846)\" d=\"M-5,-5h10v10h-10Z\" style=\"fill: grey; stroke-width: 2; opacity: 0.7;\"></path><path transform=\"translate(62.5,166.15384615384616)\" d=\"M-5,-5h10v10h-10Z\" style=\"fill: grey; stroke-width: 2; opacity: 0.7;\"></path><path transform=\"translate(0,189.23076923076923)\" d=\"M-5,-5h10v10h-10Z\" style=\"fill: grey; stroke-width: 2; opacity: 0.7;\"></path><path transform=\"translate(312.5,140.76923076923077)\" d=\"M-5,-5h10v10h-10Z\" style=\"fill: grey; stroke-width: 2; opacity: 0.7;\"></path><path transform=\"translate(187.5,175.38461538461536)\" d=\"M-5,-5h10v10h-10Z\" style=\"fill: grey; stroke-width: 2; opacity: 0.7;\"></path><path transform=\"translate(125,182.30769230769232)\" d=\"M-5,-5h10v10h-10Z\" style=\"fill: grey; stroke-width: 2; opacity: 0.7;\"></path><path transform=\"translate(62.5,163.84615384615384)\" d=\"M-5,-5h10v10h-10Z\" style=\"fill: grey; stroke-width: 2; opacity: 0.7;\"></path><path transform=\"translate(437.5,147.6923076923077)\" d=\"M-5,-5h10v10h-10Z\" style=\"fill: grey; stroke-width: 2; opacity: 0.7;\"></path><path transform=\"translate(187.5,173.0769230769231)\" d=\"M-5,-5h10v10h-10Z\" style=\"fill: grey; stroke-width: 2; opacity: 0.7;\"></path><path transform=\"translate(312.5,138.46153846153848)\" d=\"M-5,-5h10v10h-10Z\" style=\"fill: grey; stroke-width: 2; opacity: 0.7;\"></path><path transform=\"translate(312.5,136.15384615384616)\" d=\"M-5,-5h10v10h-10Z\" style=\"fill: grey; stroke-width: 2; opacity: 0.7;\"></path><path transform=\"translate(62.5,161.53846153846152)\" d=\"M-5,-5h10v10h-10Z\" style=\"fill: grey; stroke-width: 2; opacity: 0.7;\"></path><path transform=\"translate(250,154.6153846153846)\" d=\"M-5,-5h10v10h-10Z\" style=\"fill: rgb(41, 120, 184); stroke-width: 2; opacity: 0.7;\"></path><path transform=\"translate(375,152.3076923076923)\" d=\"M-5,-5h10v10h-10Z\" style=\"fill: grey; stroke-width: 2; opacity: 0.7;\"></path><path transform=\"translate(500,170.76923076923077)\" d=\"M-5,-5h10v10h-10Z\" style=\"fill: grey; stroke-width: 2; opacity: 0.7;\"></path><path transform=\"translate(375,150)\" d=\"M-5,-5h10v10h-10Z\" style=\"fill: grey; stroke-width: 2; opacity: 0.7;\"></path><path transform=\"translate(250,152.3076923076923)\" d=\"M-5,-5h10v10h-10Z\" style=\"fill: rgb(119, 180, 216); stroke-width: 2; opacity: 0.7;\"></path><path transform=\"translate(500,168.46153846153845)\" d=\"M-5,-5h10v10h-10Z\" style=\"fill: grey; stroke-width: 2; opacity: 0.7;\"></path><path transform=\"translate(187.5,170.76923076923077)\" d=\"M-5,-5h10v10h-10Z\" style=\"fill: grey; stroke-width: 2; opacity: 0.7;\"></path><path transform=\"translate(250,150)\" d=\"M-5,-5h10v10h-10Z\" style=\"fill: rgb(44, 124, 186); stroke-width: 2; opacity: 0.7;\"></path><path transform=\"translate(312.5,133.84615384615384)\" d=\"M-5,-5h10v10h-10Z\" style=\"fill: grey; stroke-width: 2; opacity: 0.7;\"></path><path transform=\"translate(375,147.6923076923077)\" d=\"M-5,-5h10v10h-10Z\" style=\"fill: grey; stroke-width: 2; opacity: 0.7;\"></path><path transform=\"translate(500,166.15384615384616)\" d=\"M-5,-5h10v10h-10Z\" style=\"fill: grey; stroke-width: 2; opacity: 0.7;\"></path><path transform=\"translate(500,163.84615384615384)\" d=\"M-5,-5h10v10h-10Z\" style=\"fill: grey; stroke-width: 2; opacity: 0.7;\"></path><path transform=\"translate(187.5,168.46153846153845)\" d=\"M-5,-5h10v10h-10Z\" style=\"fill: grey; stroke-width: 2; opacity: 0.7;\"></path><path transform=\"translate(125,180)\" d=\"M-5,-5h10v10h-10Z\" style=\"fill: grey; stroke-width: 2; opacity: 0.7;\"></path><path transform=\"translate(500,161.53846153846152)\" d=\"M-5,-5h10v10h-10Z\" style=\"fill: grey; stroke-width: 2; opacity: 0.7;\"></path><path transform=\"translate(500,159.23076923076923)\" d=\"M-5,-5h10v10h-10Z\" style=\"fill: grey; stroke-width: 2; opacity: 0.7;\"></path><path transform=\"translate(187.5,166.15384615384616)\" d=\"M-5,-5h10v10h-10Z\" style=\"fill: grey; stroke-width: 2; opacity: 0.7;\"></path><path transform=\"translate(62.5,159.23076923076923)\" d=\"M-5,-5h10v10h-10Z\" style=\"fill: grey; stroke-width: 2; opacity: 0.7;\"></path><path transform=\"translate(125,177.69230769230768)\" d=\"M-5,-5h10v10h-10Z\" style=\"fill: grey; stroke-width: 2; opacity: 0.7;\"></path><path transform=\"translate(0,186.9230769230769)\" d=\"M-5,-5h10v10h-10Z\" style=\"fill: grey; stroke-width: 2; opacity: 0.7;\"></path><path transform=\"translate(250,147.6923076923077)\" d=\"M-5,-5h10v10h-10Z\" style=\"fill: rgb(32, 111, 178); stroke-width: 2; opacity: 0.7;\"></path><path transform=\"translate(375,145.38461538461542)\" d=\"M-5,-5h10v10h-10Z\" style=\"fill: grey; stroke-width: 2; opacity: 0.7;\"></path><path transform=\"translate(312.5,131.53846153846155)\" d=\"M-5,-5h10v10h-10Z\" style=\"fill: grey; stroke-width: 2; opacity: 0.7;\"></path><path transform=\"translate(437.5,145.38461538461542)\" d=\"M-5,-5h10v10h-10Z\" style=\"fill: grey; stroke-width: 2; opacity: 0.7;\"></path><path transform=\"translate(125,175.38461538461536)\" d=\"M-5,-5h10v10h-10Z\" style=\"fill: grey; stroke-width: 2; opacity: 0.7;\"></path><path transform=\"translate(0,184.6153846153846)\" d=\"M-5,-5h10v10h-10Z\" style=\"fill: grey; stroke-width: 2; opacity: 0.7;\"></path><path transform=\"translate(312.5,129.23076923076923)\" d=\"M-5,-5h10v10h-10Z\" style=\"fill: grey; stroke-width: 2; opacity: 0.7;\"></path><path transform=\"translate(0,182.30769230769232)\" d=\"M-5,-5h10v10h-10Z\" style=\"fill: grey; stroke-width: 2; opacity: 0.7;\"></path><path transform=\"translate(0,180)\" d=\"M-5,-5h10v10h-10Z\" style=\"fill: grey; stroke-width: 2; opacity: 0.7;\"></path><path transform=\"translate(125,173.0769230769231)\" d=\"M-5,-5h10v10h-10Z\" style=\"fill: grey; stroke-width: 2; opacity: 0.7;\"></path><path transform=\"translate(437.5,143.07692307692307)\" d=\"M-5,-5h10v10h-10Z\" style=\"fill: grey; stroke-width: 2; opacity: 0.7;\"></path><path transform=\"translate(0,177.69230769230768)\" d=\"M-5,-5h10v10h-10Z\" style=\"fill: grey; stroke-width: 2; opacity: 0.7;\"></path><path transform=\"translate(500,156.9230769230769)\" d=\"M-5,-5h10v10h-10Z\" style=\"fill: grey; stroke-width: 2; opacity: 0.7;\"></path><path transform=\"translate(312.5,126.92307692307693)\" d=\"M-5,-5h10v10h-10Z\" style=\"fill: grey; stroke-width: 2; opacity: 0.7;\"></path><path transform=\"translate(437.5,140.76923076923077)\" d=\"M-5,-5h10v10h-10Z\" style=\"fill: grey; stroke-width: 2; opacity: 0.7;\"></path><path transform=\"translate(187.5,163.84615384615384)\" d=\"M-5,-5h10v10h-10Z\" style=\"fill: grey; stroke-width: 2; opacity: 0.7;\"></path><path transform=\"translate(125,170.76923076923077)\" d=\"M-5,-5h10v10h-10Z\" style=\"fill: grey; stroke-width: 2; opacity: 0.7;\"></path><path transform=\"translate(500,154.6153846153846)\" d=\"M-5,-5h10v10h-10Z\" style=\"fill: grey; stroke-width: 2; opacity: 0.7;\"></path><path transform=\"translate(250,145.38461538461542)\" d=\"M-5,-5h10v10h-10Z\" style=\"fill: rgb(122, 181, 217); stroke-width: 2; opacity: 0.7;\"></path><path transform=\"translate(437.5,138.46153846153848)\" d=\"M-5,-5h10v10h-10Z\" style=\"fill: grey; stroke-width: 2; opacity: 0.7;\"></path><path transform=\"translate(125,168.46153846153845)\" d=\"M-5,-5h10v10h-10Z\" style=\"fill: grey; stroke-width: 2; opacity: 0.7;\"></path><path transform=\"translate(500,152.3076923076923)\" d=\"M-5,-5h10v10h-10Z\" style=\"fill: grey; stroke-width: 2; opacity: 0.7;\"></path><path transform=\"translate(375,143.07692307692307)\" d=\"M-5,-5h10v10h-10Z\" style=\"fill: grey; stroke-width: 2; opacity: 0.7;\"></path><path transform=\"translate(375,140.76923076923077)\" d=\"M-5,-5h10v10h-10Z\" style=\"fill: grey; stroke-width: 2; opacity: 0.7;\"></path><path transform=\"translate(312.5,124.61538461538461)\" d=\"M-5,-5h10v10h-10Z\" style=\"fill: grey; stroke-width: 2; opacity: 0.7;\"></path><path transform=\"translate(375,138.46153846153848)\" d=\"M-5,-5h10v10h-10Z\" style=\"fill: grey; stroke-width: 2; opacity: 0.7;\"></path><path transform=\"translate(375,136.15384615384616)\" d=\"M-5,-5h10v10h-10Z\" style=\"fill: grey; stroke-width: 2; opacity: 0.7;\"></path><path transform=\"translate(0,175.38461538461536)\" d=\"M-5,-5h10v10h-10Z\" style=\"fill: grey; stroke-width: 2; opacity: 0.7;\"></path><path transform=\"translate(250,143.07692307692307)\" d=\"M-5,-5h10v10h-10Z\" style=\"fill: rgb(87, 160, 205); stroke-width: 2; opacity: 0.7;\"></path><path transform=\"translate(437.5,136.15384615384616)\" d=\"M-5,-5h10v10h-10Z\" style=\"fill: grey; stroke-width: 2; opacity: 0.7;\"></path><path transform=\"translate(187.5,161.53846153846152)\" d=\"M-5,-5h10v10h-10Z\" style=\"fill: grey; stroke-width: 2; opacity: 0.7;\"></path><path transform=\"translate(0,173.0769230769231)\" d=\"M-5,-5h10v10h-10Z\" style=\"fill: grey; stroke-width: 2; opacity: 0.7;\"></path><path transform=\"translate(125,166.15384615384616)\" d=\"M-5,-5h10v10h-10Z\" style=\"fill: grey; stroke-width: 2; opacity: 0.7;\"></path><path transform=\"translate(375,133.84615384615384)\" d=\"M-5,-5h10v10h-10Z\" style=\"fill: grey; stroke-width: 2; opacity: 0.7;\"></path><path transform=\"translate(125,163.84615384615384)\" d=\"M-5,-5h10v10h-10Z\" style=\"fill: grey; stroke-width: 2; opacity: 0.7;\"></path><path transform=\"translate(0,170.76923076923077)\" d=\"M-5,-5h10v10h-10Z\" style=\"fill: grey; stroke-width: 2; opacity: 0.7;\"></path><path transform=\"translate(0,168.46153846153845)\" d=\"M-5,-5h10v10h-10Z\" style=\"fill: grey; stroke-width: 2; opacity: 0.7;\"></path><path transform=\"translate(312.5,122.30769230769229)\" d=\"M-5,-5h10v10h-10Z\" style=\"fill: grey; stroke-width: 2; opacity: 0.7;\"></path><path transform=\"translate(125,161.53846153846152)\" d=\"M-5,-5h10v10h-10Z\" style=\"fill: grey; stroke-width: 2; opacity: 0.7;\"></path><path transform=\"translate(312.5,120)\" d=\"M-5,-5h10v10h-10Z\" style=\"fill: grey; stroke-width: 2; opacity: 0.7;\"></path><path transform=\"translate(250,140.76923076923077)\" d=\"M-5,-5h10v10h-10Z\" style=\"fill: rgb(48, 128, 188); stroke-width: 2; opacity: 0.7;\"></path><path transform=\"translate(62.5,156.9230769230769)\" d=\"M-5,-5h10v10h-10Z\" style=\"fill: grey; stroke-width: 2; opacity: 0.7;\"></path><path transform=\"translate(187.5,159.23076923076923)\" d=\"M-5,-5h10v10h-10Z\" style=\"fill: grey; stroke-width: 2; opacity: 0.7;\"></path><path transform=\"translate(125,159.23076923076923)\" d=\"M-5,-5h10v10h-10Z\" style=\"fill: grey; stroke-width: 2; opacity: 0.7;\"></path><path transform=\"translate(250,138.46153846153848)\" d=\"M-5,-5h10v10h-10Z\" style=\"fill: rgb(66, 143, 196); stroke-width: 2; opacity: 0.7;\"></path><path transform=\"translate(312.5,117.69230769230771)\" d=\"M-5,-5h10v10h-10Z\" style=\"fill: grey; stroke-width: 2; opacity: 0.7;\"></path><path transform=\"translate(500,150)\" d=\"M-5,-5h10v10h-10Z\" style=\"fill: grey; stroke-width: 2; opacity: 0.7;\"></path><path transform=\"translate(62.5,154.6153846153846)\" d=\"M-5,-5h10v10h-10Z\" style=\"fill: grey; stroke-width: 2; opacity: 0.7;\"></path><path transform=\"translate(0,166.15384615384616)\" d=\"M-5,-5h10v10h-10Z\" style=\"fill: grey; stroke-width: 2; opacity: 0.7;\"></path><path transform=\"translate(375,131.53846153846155)\" d=\"M-5,-5h10v10h-10Z\" style=\"fill: grey; stroke-width: 2; opacity: 0.7;\"></path><path transform=\"translate(500,147.6923076923077)\" d=\"M-5,-5h10v10h-10Z\" style=\"fill: grey; stroke-width: 2; opacity: 0.7;\"></path><path transform=\"translate(0,163.84615384615384)\" d=\"M-5,-5h10v10h-10Z\" style=\"fill: grey; stroke-width: 2; opacity: 0.7;\"></path><path transform=\"translate(312.5,115.38461538461539)\" d=\"M-5,-5h10v10h-10Z\" style=\"fill: grey; stroke-width: 2; opacity: 0.7;\"></path><path transform=\"translate(312.5,113.07692307692307)\" d=\"M-5,-5h10v10h-10Z\" style=\"fill: grey; stroke-width: 2; opacity: 0.7;\"></path><path transform=\"translate(187.5,156.9230769230769)\" d=\"M-5,-5h10v10h-10Z\" style=\"fill: grey; stroke-width: 2; opacity: 0.7;\"></path><path transform=\"translate(125,156.9230769230769)\" d=\"M-5,-5h10v10h-10Z\" style=\"fill: grey; stroke-width: 2; opacity: 0.7;\"></path><path transform=\"translate(312.5,110.76923076923077)\" d=\"M-5,-5h10v10h-10Z\" style=\"fill: grey; stroke-width: 2; opacity: 0.7;\"></path><path transform=\"translate(312.5,108.46153846153848)\" d=\"M-5,-5h10v10h-10Z\" style=\"fill: grey; stroke-width: 2; opacity: 0.7;\"></path><path transform=\"translate(437.5,133.84615384615384)\" d=\"M-5,-5h10v10h-10Z\" style=\"fill: grey; stroke-width: 2; opacity: 0.7;\"></path><path transform=\"translate(187.5,154.6153846153846)\" d=\"M-5,-5h10v10h-10Z\" style=\"fill: grey; stroke-width: 2; opacity: 0.7;\"></path><path transform=\"translate(0,161.53846153846152)\" d=\"M-5,-5h10v10h-10Z\" style=\"fill: grey; stroke-width: 2; opacity: 0.7;\"></path><path transform=\"translate(500,145.38461538461542)\" d=\"M-5,-5h10v10h-10Z\" style=\"fill: grey; stroke-width: 2; opacity: 0.7;\"></path><path transform=\"translate(250,136.15384615384616)\" d=\"M-5,-5h10v10h-10Z\" style=\"fill: rgb(85, 158, 204); stroke-width: 2; opacity: 0.7;\"></path><path transform=\"translate(437.5,131.53846153846155)\" d=\"M-5,-5h10v10h-10Z\" style=\"fill: grey; stroke-width: 2; opacity: 0.7;\"></path><path transform=\"translate(187.5,152.3076923076923)\" d=\"M-5,-5h10v10h-10Z\" style=\"fill: grey; stroke-width: 2; opacity: 0.7;\"></path><path transform=\"translate(187.5,150)\" d=\"M-5,-5h10v10h-10Z\" style=\"fill: grey; stroke-width: 2; opacity: 0.7;\"></path><path transform=\"translate(125,154.6153846153846)\" d=\"M-5,-5h10v10h-10Z\" style=\"fill: grey; stroke-width: 2; opacity: 0.7;\"></path><path transform=\"translate(125,152.3076923076923)\" d=\"M-5,-5h10v10h-10Z\" style=\"fill: grey; stroke-width: 2; opacity: 0.7;\"></path><path transform=\"translate(437.5,129.23076923076923)\" d=\"M-5,-5h10v10h-10Z\" style=\"fill: grey; stroke-width: 2; opacity: 0.7;\"></path><path transform=\"translate(0,159.23076923076923)\" d=\"M-5,-5h10v10h-10Z\" style=\"fill: grey; stroke-width: 2; opacity: 0.7;\"></path><path transform=\"translate(62.5,152.3076923076923)\" d=\"M-5,-5h10v10h-10Z\" style=\"fill: grey; stroke-width: 2; opacity: 0.7;\"></path><path transform=\"translate(62.5,150)\" d=\"M-5,-5h10v10h-10Z\" style=\"fill: grey; stroke-width: 2; opacity: 0.7;\"></path><path transform=\"translate(0,156.9230769230769)\" d=\"M-5,-5h10v10h-10Z\" style=\"fill: grey; stroke-width: 2; opacity: 0.7;\"></path><path transform=\"translate(312.5,106.15384615384613)\" d=\"M-5,-5h10v10h-10Z\" style=\"fill: grey; stroke-width: 2; opacity: 0.7;\"></path><path transform=\"translate(187.5,147.6923076923077)\" d=\"M-5,-5h10v10h-10Z\" style=\"fill: grey; stroke-width: 2; opacity: 0.7;\"></path><path transform=\"translate(125,150)\" d=\"M-5,-5h10v10h-10Z\" style=\"fill: grey; stroke-width: 2; opacity: 0.7;\"></path><path transform=\"translate(500,143.07692307692307)\" d=\"M-5,-5h10v10h-10Z\" style=\"fill: grey; stroke-width: 2; opacity: 0.7;\"></path><path transform=\"translate(187.5,145.38461538461542)\" d=\"M-5,-5h10v10h-10Z\" style=\"fill: grey; stroke-width: 2; opacity: 0.7;\"></path><path transform=\"translate(125,147.6923076923077)\" d=\"M-5,-5h10v10h-10Z\" style=\"fill: grey; stroke-width: 2; opacity: 0.7;\"></path><path transform=\"translate(312.5,103.84615384615384)\" d=\"M-5,-5h10v10h-10Z\" style=\"fill: grey; stroke-width: 2; opacity: 0.7;\"></path><path transform=\"translate(62.5,147.6923076923077)\" d=\"M-5,-5h10v10h-10Z\" style=\"fill: grey; stroke-width: 2; opacity: 0.7;\"></path><path transform=\"translate(375,129.23076923076923)\" d=\"M-5,-5h10v10h-10Z\" style=\"fill: grey; stroke-width: 2; opacity: 0.7;\"></path><path transform=\"translate(125,145.38461538461542)\" d=\"M-5,-5h10v10h-10Z\" style=\"fill: grey; stroke-width: 2; opacity: 0.7;\"></path><path transform=\"translate(500,140.76923076923077)\" d=\"M-5,-5h10v10h-10Z\" style=\"fill: grey; stroke-width: 2; opacity: 0.7;\"></path><path transform=\"translate(187.5,143.07692307692307)\" d=\"M-5,-5h10v10h-10Z\" style=\"fill: grey; stroke-width: 2; opacity: 0.7;\"></path><path transform=\"translate(500,138.46153846153848)\" d=\"M-5,-5h10v10h-10Z\" style=\"fill: grey; stroke-width: 2; opacity: 0.7;\"></path><path transform=\"translate(500,136.15384615384616)\" d=\"M-5,-5h10v10h-10Z\" style=\"fill: grey; stroke-width: 2; opacity: 0.7;\"></path><path transform=\"translate(125,143.07692307692307)\" d=\"M-5,-5h10v10h-10Z\" style=\"fill: grey; stroke-width: 2; opacity: 0.7;\"></path><path transform=\"translate(312.5,101.53846153846155)\" d=\"M-5,-5h10v10h-10Z\" style=\"fill: grey; stroke-width: 2; opacity: 0.7;\"></path><path transform=\"translate(375,126.92307692307693)\" d=\"M-5,-5h10v10h-10Z\" style=\"fill: grey; stroke-width: 2; opacity: 0.7;\"></path><path transform=\"translate(62.5,145.38461538461542)\" d=\"M-5,-5h10v10h-10Z\" style=\"fill: grey; stroke-width: 2; opacity: 0.7;\"></path><path transform=\"translate(312.5,99.23076923076925)\" d=\"M-5,-5h10v10h-10Z\" style=\"fill: grey; stroke-width: 2; opacity: 0.7;\"></path><path transform=\"translate(187.5,140.76923076923077)\" d=\"M-5,-5h10v10h-10Z\" style=\"fill: grey; stroke-width: 2; opacity: 0.7;\"></path><path transform=\"translate(500,133.84615384615384)\" d=\"M-5,-5h10v10h-10Z\" style=\"fill: grey; stroke-width: 2; opacity: 0.7;\"></path><path transform=\"translate(375,124.61538461538461)\" d=\"M-5,-5h10v10h-10Z\" style=\"fill: grey; stroke-width: 2; opacity: 0.7;\"></path><path transform=\"translate(187.5,138.46153846153848)\" d=\"M-5,-5h10v10h-10Z\" style=\"fill: grey; stroke-width: 2; opacity: 0.7;\"></path><path transform=\"translate(250,133.84615384615384)\" d=\"M-5,-5h10v10h-10Z\" style=\"fill: rgb(68, 145, 197); stroke-width: 2; opacity: 0.7;\"></path><path transform=\"translate(375,122.30769230769229)\" d=\"M-5,-5h10v10h-10Z\" style=\"fill: grey; stroke-width: 2; opacity: 0.7;\"></path><path transform=\"translate(125,140.76923076923077)\" d=\"M-5,-5h10v10h-10Z\" style=\"fill: grey; stroke-width: 2; opacity: 0.7;\"></path><path transform=\"translate(375,120)\" d=\"M-5,-5h10v10h-10Z\" style=\"fill: grey; stroke-width: 2; opacity: 0.7;\"></path><path transform=\"translate(312.5,96.9230769230769)\" d=\"M-5,-5h10v10h-10Z\" style=\"fill: grey; stroke-width: 2; opacity: 0.7;\"></path><path transform=\"translate(312.5,94.61538461538461)\" d=\"M-5,-5h10v10h-10Z\" style=\"fill: grey; stroke-width: 2; opacity: 0.7;\"></path><path transform=\"translate(437.5,126.92307692307693)\" d=\"M-5,-5h10v10h-10Z\" style=\"fill: grey; stroke-width: 2; opacity: 0.7;\"></path><path transform=\"translate(187.5,136.15384615384616)\" d=\"M-5,-5h10v10h-10Z\" style=\"fill: grey; stroke-width: 2; opacity: 0.7;\"></path><path transform=\"translate(250,131.53846153846155)\" d=\"M-5,-5h10v10h-10Z\" style=\"fill: rgb(113, 176, 214); stroke-width: 2; opacity: 0.7;\"></path><path transform=\"translate(312.5,92.30769230769232)\" d=\"M-5,-5h10v10h-10Z\" style=\"fill: grey; stroke-width: 2; opacity: 0.7;\"></path><path transform=\"translate(500,131.53846153846155)\" d=\"M-5,-5h10v10h-10Z\" style=\"fill: grey; stroke-width: 2; opacity: 0.7;\"></path><path transform=\"translate(62.5,143.07692307692307)\" d=\"M-5,-5h10v10h-10Z\" style=\"fill: grey; stroke-width: 2; opacity: 0.7;\"></path><path transform=\"translate(125,138.46153846153848)\" d=\"M-5,-5h10v10h-10Z\" style=\"fill: grey; stroke-width: 2; opacity: 0.7;\"></path><path transform=\"translate(125,136.15384615384616)\" d=\"M-5,-5h10v10h-10Z\" style=\"fill: grey; stroke-width: 2; opacity: 0.7;\"></path><path transform=\"translate(250,129.23076923076923)\" d=\"M-5,-5h10v10h-10Z\" style=\"fill: rgb(111, 175, 213); stroke-width: 2; opacity: 0.7;\"></path><path transform=\"translate(125,133.84615384615384)\" d=\"M-5,-5h10v10h-10Z\" style=\"fill: grey; stroke-width: 2; opacity: 0.7;\"></path><path transform=\"translate(62.5,140.76923076923077)\" d=\"M-5,-5h10v10h-10Z\" style=\"fill: grey; stroke-width: 2; opacity: 0.7;\"></path><path transform=\"translate(250,126.92307692307693)\" d=\"M-5,-5h10v10h-10Z\" style=\"fill: rgb(85, 158, 205); stroke-width: 2; opacity: 0.7;\"></path><path transform=\"translate(437.5,124.61538461538461)\" d=\"M-5,-5h10v10h-10Z\" style=\"fill: grey; stroke-width: 2; opacity: 0.7;\"></path><path transform=\"translate(375,117.69230769230771)\" d=\"M-5,-5h10v10h-10Z\" style=\"fill: grey; stroke-width: 2; opacity: 0.7;\"></path><path transform=\"translate(500,129.23076923076923)\" d=\"M-5,-5h10v10h-10Z\" style=\"fill: grey; stroke-width: 2; opacity: 0.7;\"></path><path transform=\"translate(187.5,133.84615384615384)\" d=\"M-5,-5h10v10h-10Z\" style=\"fill: grey; stroke-width: 2; opacity: 0.7;\"></path><path transform=\"translate(437.5,122.30769230769229)\" d=\"M-5,-5h10v10h-10Z\" style=\"fill: grey; stroke-width: 2; opacity: 0.7;\"></path><path transform=\"translate(312.5,90)\" d=\"M-5,-5h10v10h-10Z\" style=\"fill: grey; stroke-width: 2; opacity: 0.7;\"></path><path transform=\"translate(500,126.92307692307693)\" d=\"M-5,-5h10v10h-10Z\" style=\"fill: grey; stroke-width: 2; opacity: 0.7;\"></path><path transform=\"translate(375,115.38461538461539)\" d=\"M-5,-5h10v10h-10Z\" style=\"fill: grey; stroke-width: 2; opacity: 0.7;\"></path><path transform=\"translate(250,124.61538461538461)\" d=\"M-5,-5h10v10h-10Z\" style=\"fill: rgb(120, 180, 216); stroke-width: 2; opacity: 0.7;\"></path><path transform=\"translate(187.5,131.53846153846155)\" d=\"M-5,-5h10v10h-10Z\" style=\"fill: grey; stroke-width: 2; opacity: 0.7;\"></path><path transform=\"translate(437.5,120)\" d=\"M-5,-5h10v10h-10Z\" style=\"fill: grey; stroke-width: 2; opacity: 0.7;\"></path><path transform=\"translate(312.5,87.69230769230768)\" d=\"M-5,-5h10v10h-10Z\" style=\"fill: grey; stroke-width: 2; opacity: 0.7;\"></path><path transform=\"translate(250,122.30769230769229)\" d=\"M-5,-5h10v10h-10Z\" style=\"fill: rgb(26, 103, 172); stroke-width: 2; opacity: 0.7;\"></path><path transform=\"translate(62.5,138.46153846153848)\" d=\"M-5,-5h10v10h-10Z\" style=\"fill: grey; stroke-width: 2; opacity: 0.7;\"></path><path transform=\"translate(437.5,117.69230769230771)\" d=\"M-5,-5h10v10h-10Z\" style=\"fill: grey; stroke-width: 2; opacity: 0.7;\"></path><path transform=\"translate(62.5,136.15384615384616)\" d=\"M-5,-5h10v10h-10Z\" style=\"fill: grey; stroke-width: 2; opacity: 0.7;\"></path><path transform=\"translate(187.5,129.23076923076923)\" d=\"M-5,-5h10v10h-10Z\" style=\"fill: grey; stroke-width: 2; opacity: 0.7;\"></path><path transform=\"translate(125,131.53846153846155)\" d=\"M-5,-5h10v10h-10Z\" style=\"fill: grey; stroke-width: 2; opacity: 0.7;\"></path><path transform=\"translate(125,129.23076923076923)\" d=\"M-5,-5h10v10h-10Z\" style=\"fill: grey; stroke-width: 2; opacity: 0.7;\"></path><path transform=\"translate(437.5,115.38461538461539)\" d=\"M-5,-5h10v10h-10Z\" style=\"fill: grey; stroke-width: 2; opacity: 0.7;\"></path><path transform=\"translate(0,154.6153846153846)\" d=\"M-5,-5h10v10h-10Z\" style=\"fill: grey; stroke-width: 2; opacity: 0.7;\"></path><path transform=\"translate(62.5,133.84615384615384)\" d=\"M-5,-5h10v10h-10Z\" style=\"fill: grey; stroke-width: 2; opacity: 0.7;\"></path><path transform=\"translate(125,126.92307692307693)\" d=\"M-5,-5h10v10h-10Z\" style=\"fill: grey; stroke-width: 2; opacity: 0.7;\"></path><path transform=\"translate(375,113.07692307692307)\" d=\"M-5,-5h10v10h-10Z\" style=\"fill: grey; stroke-width: 2; opacity: 0.7;\"></path><path transform=\"translate(250,120)\" d=\"M-5,-5h10v10h-10Z\" style=\"fill: rgb(130, 186, 219); stroke-width: 2; opacity: 0.7;\"></path><path transform=\"translate(187.5,126.92307692307693)\" d=\"M-5,-5h10v10h-10Z\" style=\"fill: grey; stroke-width: 2; opacity: 0.7;\"></path><path transform=\"translate(62.5,131.53846153846155)\" d=\"M-5,-5h10v10h-10Z\" style=\"fill: grey; stroke-width: 2; opacity: 0.7;\"></path><path transform=\"translate(0,152.3076923076923)\" d=\"M-5,-5h10v10h-10Z\" style=\"fill: grey; stroke-width: 2; opacity: 0.7;\"></path><path transform=\"translate(437.5,113.07692307692307)\" d=\"M-5,-5h10v10h-10Z\" style=\"fill: grey; stroke-width: 2; opacity: 0.7;\"></path><path transform=\"translate(250,117.69230769230771)\" d=\"M-5,-5h10v10h-10Z\" style=\"fill: rgb(48, 128, 189); stroke-width: 2; opacity: 0.7;\"></path><path transform=\"translate(375,110.76923076923077)\" d=\"M-5,-5h10v10h-10Z\" style=\"fill: grey; stroke-width: 2; opacity: 0.7;\"></path><path transform=\"translate(187.5,124.61538461538461)\" d=\"M-5,-5h10v10h-10Z\" style=\"fill: grey; stroke-width: 2; opacity: 0.7;\"></path><path transform=\"translate(0,150)\" d=\"M-5,-5h10v10h-10Z\" style=\"fill: grey; stroke-width: 2; opacity: 0.7;\"></path><path transform=\"translate(437.5,110.76923076923077)\" d=\"M-5,-5h10v10h-10Z\" style=\"fill: grey; stroke-width: 2; opacity: 0.7;\"></path><path transform=\"translate(125,124.61538461538461)\" d=\"M-5,-5h10v10h-10Z\" style=\"fill: grey; stroke-width: 2; opacity: 0.7;\"></path><path transform=\"translate(250,115.38461538461539)\" d=\"M-5,-5h10v10h-10Z\" style=\"fill: rgb(67, 144, 197); stroke-width: 2; opacity: 0.7;\"></path><path transform=\"translate(125,122.30769230769229)\" d=\"M-5,-5h10v10h-10Z\" style=\"fill: grey; stroke-width: 2; opacity: 0.7;\"></path><path transform=\"translate(250,113.07692307692307)\" d=\"M-5,-5h10v10h-10Z\" style=\"fill: rgb(151, 197, 224); stroke-width: 2; opacity: 0.7;\"></path><path transform=\"translate(62.5,129.23076923076923)\" d=\"M-5,-5h10v10h-10Z\" style=\"fill: grey; stroke-width: 2; opacity: 0.7;\"></path><path transform=\"translate(125,120)\" d=\"M-5,-5h10v10h-10Z\" style=\"fill: grey; stroke-width: 2; opacity: 0.7;\"></path><path transform=\"translate(250,110.76923076923077)\" d=\"M-5,-5h10v10h-10Z\" style=\"fill: rgb(53, 133, 191); stroke-width: 2; opacity: 0.7;\"></path><path transform=\"translate(250,108.46153846153848)\" d=\"M-5,-5h10v10h-10Z\" style=\"fill: rgb(98, 167, 209); stroke-width: 2; opacity: 0.7;\"></path><path transform=\"translate(125,117.69230769230771)\" d=\"M-5,-5h10v10h-10Z\" style=\"fill: grey; stroke-width: 2; opacity: 0.7;\"></path><path transform=\"translate(187.5,122.30769230769229)\" d=\"M-5,-5h10v10h-10Z\" style=\"fill: grey; stroke-width: 2; opacity: 0.7;\"></path><path transform=\"translate(312.5,85.38461538461539)\" d=\"M-5,-5h10v10h-10Z\" style=\"fill: grey; stroke-width: 2; opacity: 0.7;\"></path><path transform=\"translate(187.5,120)\" d=\"M-5,-5h10v10h-10Z\" style=\"fill: grey; stroke-width: 2; opacity: 0.7;\"></path><path transform=\"translate(62.5,126.92307692307693)\" d=\"M-5,-5h10v10h-10Z\" style=\"fill: grey; stroke-width: 2; opacity: 0.7;\"></path><path transform=\"translate(0,147.6923076923077)\" d=\"M-5,-5h10v10h-10Z\" style=\"fill: grey; stroke-width: 2; opacity: 0.7;\"></path><path transform=\"translate(187.5,117.69230769230771)\" d=\"M-5,-5h10v10h-10Z\" style=\"fill: grey; stroke-width: 2; opacity: 0.7;\"></path><path transform=\"translate(437.5,108.46153846153848)\" d=\"M-5,-5h10v10h-10Z\" style=\"fill: grey; stroke-width: 2; opacity: 0.7;\"></path><path transform=\"translate(187.5,115.38461538461539)\" d=\"M-5,-5h10v10h-10Z\" style=\"fill: grey; stroke-width: 2; opacity: 0.7;\"></path><path transform=\"translate(375,108.46153846153848)\" d=\"M-5,-5h10v10h-10Z\" style=\"fill: grey; stroke-width: 2; opacity: 0.7;\"></path><path transform=\"translate(0,145.38461538461542)\" d=\"M-5,-5h10v10h-10Z\" style=\"fill: grey; stroke-width: 2; opacity: 0.7;\"></path><path transform=\"translate(375,106.15384615384613)\" d=\"M-5,-5h10v10h-10Z\" style=\"fill: grey; stroke-width: 2; opacity: 0.7;\"></path><path transform=\"translate(62.5,124.61538461538461)\" d=\"M-5,-5h10v10h-10Z\" style=\"fill: grey; stroke-width: 2; opacity: 0.7;\"></path><path transform=\"translate(312.5,83.0769230769231)\" d=\"M-5,-5h10v10h-10Z\" style=\"fill: grey; stroke-width: 2; opacity: 0.7;\"></path><path transform=\"translate(187.5,113.07692307692307)\" d=\"M-5,-5h10v10h-10Z\" style=\"fill: grey; stroke-width: 2; opacity: 0.7;\"></path><path transform=\"translate(375,103.84615384615384)\" d=\"M-5,-5h10v10h-10Z\" style=\"fill: grey; stroke-width: 2; opacity: 0.7;\"></path><path transform=\"translate(0,143.07692307692307)\" d=\"M-5,-5h10v10h-10Z\" style=\"fill: grey; stroke-width: 2; opacity: 0.7;\"></path><path transform=\"translate(187.5,110.76923076923077)\" d=\"M-5,-5h10v10h-10Z\" style=\"fill: grey; stroke-width: 2; opacity: 0.7;\"></path><path transform=\"translate(125,115.38461538461539)\" d=\"M-5,-5h10v10h-10Z\" style=\"fill: grey; stroke-width: 2; opacity: 0.7;\"></path><path transform=\"translate(0,140.76923076923077)\" d=\"M-5,-5h10v10h-10Z\" style=\"fill: grey; stroke-width: 2; opacity: 0.7;\"></path><path transform=\"translate(125,113.07692307692307)\" d=\"M-5,-5h10v10h-10Z\" style=\"fill: grey; stroke-width: 2; opacity: 0.7;\"></path><path transform=\"translate(0,138.46153846153848)\" d=\"M-5,-5h10v10h-10Z\" style=\"fill: grey; stroke-width: 2; opacity: 0.7;\"></path><path transform=\"translate(0,136.15384615384616)\" d=\"M-5,-5h10v10h-10Z\" style=\"fill: grey; stroke-width: 2; opacity: 0.7;\"></path><path transform=\"translate(375,101.53846153846155)\" d=\"M-5,-5h10v10h-10Z\" style=\"fill: grey; stroke-width: 2; opacity: 0.7;\"></path><path transform=\"translate(250,106.15384615384613)\" d=\"M-5,-5h10v10h-10Z\" style=\"fill: rgb(47, 127, 188); stroke-width: 2; opacity: 0.7;\"></path><path transform=\"translate(125,110.76923076923077)\" d=\"M-5,-5h10v10h-10Z\" style=\"fill: grey; stroke-width: 2; opacity: 0.7;\"></path><path transform=\"translate(187.5,108.46153846153848)\" d=\"M-5,-5h10v10h-10Z\" style=\"fill: grey; stroke-width: 2; opacity: 0.7;\"></path><path transform=\"translate(250,103.84615384615384)\" d=\"M-5,-5h10v10h-10Z\" style=\"fill: rgb(55, 134, 192); stroke-width: 2; opacity: 0.7;\"></path><path transform=\"translate(437.5,106.15384615384613)\" d=\"M-5,-5h10v10h-10Z\" style=\"fill: grey; stroke-width: 2; opacity: 0.7;\"></path><path transform=\"translate(375,99.23076923076925)\" d=\"M-5,-5h10v10h-10Z\" style=\"fill: grey; stroke-width: 2; opacity: 0.7;\"></path><path transform=\"translate(125,108.46153846153848)\" d=\"M-5,-5h10v10h-10Z\" style=\"fill: grey; stroke-width: 2; opacity: 0.7;\"></path><path transform=\"translate(375,96.9230769230769)\" d=\"M-5,-5h10v10h-10Z\" style=\"fill: grey; stroke-width: 2; opacity: 0.7;\"></path><path transform=\"translate(250,101.53846153846155)\" d=\"M-5,-5h10v10h-10Z\" style=\"fill: rgb(148, 196, 223); stroke-width: 2; opacity: 0.7;\"></path><path transform=\"translate(437.5,103.84615384615384)\" d=\"M-5,-5h10v10h-10Z\" style=\"fill: grey; stroke-width: 2; opacity: 0.7;\"></path><path transform=\"translate(125,106.15384615384613)\" d=\"M-5,-5h10v10h-10Z\" style=\"fill: grey; stroke-width: 2; opacity: 0.7;\"></path><path transform=\"translate(125,103.84615384615384)\" d=\"M-5,-5h10v10h-10Z\" style=\"fill: grey; stroke-width: 2; opacity: 0.7;\"></path><path transform=\"translate(0,133.84615384615384)\" d=\"M-5,-5h10v10h-10Z\" style=\"fill: grey; stroke-width: 2; opacity: 0.7;\"></path><path transform=\"translate(62.5,122.30769230769229)\" d=\"M-5,-5h10v10h-10Z\" style=\"fill: grey; stroke-width: 2; opacity: 0.7;\"></path><path transform=\"translate(437.5,101.53846153846155)\" d=\"M-5,-5h10v10h-10Z\" style=\"fill: grey; stroke-width: 2; opacity: 0.7;\"></path><path transform=\"translate(375,94.61538461538461)\" d=\"M-5,-5h10v10h-10Z\" style=\"fill: grey; stroke-width: 2; opacity: 0.7;\"></path><path transform=\"translate(500,124.61538461538461)\" d=\"M-5,-5h10v10h-10Z\" style=\"fill: grey; stroke-width: 2; opacity: 0.7;\"></path><path transform=\"translate(500,122.30769230769229)\" d=\"M-5,-5h10v10h-10Z\" style=\"fill: grey; stroke-width: 2; opacity: 0.7;\"></path><path transform=\"translate(62.5,120)\" d=\"M-5,-5h10v10h-10Z\" style=\"fill: grey; stroke-width: 2; opacity: 0.7;\"></path><path transform=\"translate(437.5,99.23076923076925)\" d=\"M-5,-5h10v10h-10Z\" style=\"fill: grey; stroke-width: 2; opacity: 0.7;\"></path><path transform=\"translate(187.5,106.15384615384613)\" d=\"M-5,-5h10v10h-10Z\" style=\"fill: grey; stroke-width: 2; opacity: 0.7;\"></path><path transform=\"translate(62.5,117.69230769230771)\" d=\"M-5,-5h10v10h-10Z\" style=\"fill: grey; stroke-width: 2; opacity: 0.7;\"></path><path transform=\"translate(375,92.30769230769232)\" d=\"M-5,-5h10v10h-10Z\" style=\"fill: grey; stroke-width: 2; opacity: 0.7;\"></path><path transform=\"translate(500,120)\" d=\"M-5,-5h10v10h-10Z\" style=\"fill: grey; stroke-width: 2; opacity: 0.7;\"></path><path transform=\"translate(500,117.69230769230771)\" d=\"M-5,-5h10v10h-10Z\" style=\"fill: grey; stroke-width: 2; opacity: 0.7;\"></path><path transform=\"translate(375,90)\" d=\"M-5,-5h10v10h-10Z\" style=\"fill: grey; stroke-width: 2; opacity: 0.7;\"></path><path transform=\"translate(0,131.53846153846155)\" d=\"M-5,-5h10v10h-10Z\" style=\"fill: grey; stroke-width: 2; opacity: 0.7;\"></path><path transform=\"translate(0,129.23076923076923)\" d=\"M-5,-5h10v10h-10Z\" style=\"fill: grey; stroke-width: 2; opacity: 0.7;\"></path><path transform=\"translate(250,99.23076923076925)\" d=\"M-5,-5h10v10h-10Z\" style=\"fill: rgb(73, 149, 200); stroke-width: 2; opacity: 0.7;\"></path><path transform=\"translate(437.5,96.9230769230769)\" d=\"M-5,-5h10v10h-10Z\" style=\"fill: grey; stroke-width: 2; opacity: 0.7;\"></path><path transform=\"translate(500,115.38461538461539)\" d=\"M-5,-5h10v10h-10Z\" style=\"fill: grey; stroke-width: 2; opacity: 0.7;\"></path><path transform=\"translate(0,126.92307692307693)\" d=\"M-5,-5h10v10h-10Z\" style=\"fill: grey; stroke-width: 2; opacity: 0.7;\"></path><path transform=\"translate(375,87.69230769230768)\" d=\"M-5,-5h10v10h-10Z\" style=\"fill: grey; stroke-width: 2; opacity: 0.7;\"></path><path transform=\"translate(187.5,103.84615384615384)\" d=\"M-5,-5h10v10h-10Z\" style=\"fill: grey; stroke-width: 2; opacity: 0.7;\"></path><path transform=\"translate(500,113.07692307692307)\" d=\"M-5,-5h10v10h-10Z\" style=\"fill: grey; stroke-width: 2; opacity: 0.7;\"></path><path transform=\"translate(187.5,101.53846153846155)\" d=\"M-5,-5h10v10h-10Z\" style=\"fill: grey; stroke-width: 2; opacity: 0.7;\"></path><path transform=\"translate(125,101.53846153846155)\" d=\"M-5,-5h10v10h-10Z\" style=\"fill: grey; stroke-width: 2; opacity: 0.7;\"></path><path transform=\"translate(312.5,80.76923076923077)\" d=\"M-5,-5h10v10h-10Z\" style=\"fill: grey; stroke-width: 2; opacity: 0.7;\"></path><path transform=\"translate(437.5,94.61538461538461)\" d=\"M-5,-5h10v10h-10Z\" style=\"fill: grey; stroke-width: 2; opacity: 0.7;\"></path><path transform=\"translate(437.5,92.30769230769232)\" d=\"M-5,-5h10v10h-10Z\" style=\"fill: grey; stroke-width: 2; opacity: 0.7;\"></path><path transform=\"translate(375,85.38461538461539)\" d=\"M-5,-5h10v10h-10Z\" style=\"fill: grey; stroke-width: 2; opacity: 0.7;\"></path><path transform=\"translate(500,110.76923076923077)\" d=\"M-5,-5h10v10h-10Z\" style=\"fill: grey; stroke-width: 2; opacity: 0.7;\"></path><path transform=\"translate(500,108.46153846153848)\" d=\"M-5,-5h10v10h-10Z\" style=\"fill: grey; stroke-width: 2; opacity: 0.7;\"></path><path transform=\"translate(125,99.23076923076925)\" d=\"M-5,-5h10v10h-10Z\" style=\"fill: grey; stroke-width: 2; opacity: 0.7;\"></path><path transform=\"translate(312.5,78.46153846153845)\" d=\"M-5,-5h10v10h-10Z\" style=\"fill: grey; stroke-width: 2; opacity: 0.7;\"></path><path transform=\"translate(187.5,99.23076923076925)\" d=\"M-5,-5h10v10h-10Z\" style=\"fill: grey; stroke-width: 2; opacity: 0.7;\"></path><path transform=\"translate(312.5,76.15384615384616)\" d=\"M-5,-5h10v10h-10Z\" style=\"fill: grey; stroke-width: 2; opacity: 0.7;\"></path><path transform=\"translate(312.5,73.84615384615384)\" d=\"M-5,-5h10v10h-10Z\" style=\"fill: grey; stroke-width: 2; opacity: 0.7;\"></path><path transform=\"translate(375,83.0769230769231)\" d=\"M-5,-5h10v10h-10Z\" style=\"fill: grey; stroke-width: 2; opacity: 0.7;\"></path><path transform=\"translate(312.5,71.53846153846155)\" d=\"M-5,-5h10v10h-10Z\" style=\"fill: grey; stroke-width: 2; opacity: 0.7;\"></path><path transform=\"translate(375,80.76923076923077)\" d=\"M-5,-5h10v10h-10Z\" style=\"fill: grey; stroke-width: 2; opacity: 0.7;\"></path><path transform=\"translate(0,124.61538461538461)\" d=\"M-5,-5h10v10h-10Z\" style=\"fill: grey; stroke-width: 2; opacity: 0.7;\"></path><path transform=\"translate(312.5,69.23076923076923)\" d=\"M-5,-5h10v10h-10Z\" style=\"fill: grey; stroke-width: 2; opacity: 0.7;\"></path><path transform=\"translate(62.5,115.38461538461539)\" d=\"M-5,-5h10v10h-10Z\" style=\"fill: grey; stroke-width: 2; opacity: 0.7;\"></path><path transform=\"translate(375,78.46153846153845)\" d=\"M-5,-5h10v10h-10Z\" style=\"fill: grey; stroke-width: 2; opacity: 0.7;\"></path><path transform=\"translate(312.5,66.9230769230769)\" d=\"M-5,-5h10v10h-10Z\" style=\"fill: grey; stroke-width: 2; opacity: 0.7;\"></path><path transform=\"translate(312.5,64.61538461538461)\" d=\"M-5,-5h10v10h-10Z\" style=\"fill: grey; stroke-width: 2; opacity: 0.7;\"></path><path transform=\"translate(500,106.15384615384613)\" d=\"M-5,-5h10v10h-10Z\" style=\"fill: grey; stroke-width: 2; opacity: 0.7;\"></path><path transform=\"translate(312.5,62.30769230769232)\" d=\"M-5,-5h10v10h-10Z\" style=\"fill: grey; stroke-width: 2; opacity: 0.7;\"></path><path transform=\"translate(0,122.30769230769229)\" d=\"M-5,-5h10v10h-10Z\" style=\"fill: grey; stroke-width: 2; opacity: 0.7;\"></path><path transform=\"translate(312.5,60)\" d=\"M-5,-5h10v10h-10Z\" style=\"fill: grey; stroke-width: 2; opacity: 0.7;\"></path><path transform=\"translate(250,96.9230769230769)\" d=\"M-5,-5h10v10h-10Z\" style=\"fill: rgb(44, 124, 186); stroke-width: 2; opacity: 0.7;\"></path><path transform=\"translate(312.5,57.69230769230768)\" d=\"M-5,-5h10v10h-10Z\" style=\"fill: grey; stroke-width: 2; opacity: 0.7;\"></path><path transform=\"translate(312.5,55.38461538461539)\" d=\"M-5,-5h10v10h-10Z\" style=\"fill: grey; stroke-width: 2; opacity: 0.7;\"></path><path transform=\"translate(437.5,90)\" d=\"M-5,-5h10v10h-10Z\" style=\"fill: grey; stroke-width: 2; opacity: 0.7;\"></path><path transform=\"translate(0,120)\" d=\"M-5,-5h10v10h-10Z\" style=\"fill: grey; stroke-width: 2; opacity: 0.7;\"></path><path transform=\"translate(312.5,53.076923076923094)\" d=\"M-5,-5h10v10h-10Z\" style=\"fill: grey; stroke-width: 2; opacity: 0.7;\"></path><path transform=\"translate(62.5,113.07692307692307)\" d=\"M-5,-5h10v10h-10Z\" style=\"fill: grey; stroke-width: 2; opacity: 0.7;\"></path><path transform=\"translate(0,117.69230769230771)\" d=\"M-5,-5h10v10h-10Z\" style=\"fill: grey; stroke-width: 2; opacity: 0.7;\"></path><path transform=\"translate(437.5,87.69230769230768)\" d=\"M-5,-5h10v10h-10Z\" style=\"fill: grey; stroke-width: 2; opacity: 0.7;\"></path><path transform=\"translate(62.5,110.76923076923077)\" d=\"M-5,-5h10v10h-10Z\" style=\"fill: grey; stroke-width: 2; opacity: 0.7;\"></path><path transform=\"translate(62.5,108.46153846153848)\" d=\"M-5,-5h10v10h-10Z\" style=\"fill: grey; stroke-width: 2; opacity: 0.7;\"></path><path transform=\"translate(125,96.9230769230769)\" d=\"M-5,-5h10v10h-10Z\" style=\"fill: grey; stroke-width: 2; opacity: 0.7;\"></path><path transform=\"translate(250,94.61538461538461)\" d=\"M-5,-5h10v10h-10Z\" style=\"fill: rgb(63, 141, 195); stroke-width: 2; opacity: 0.7;\"></path><path transform=\"translate(62.5,106.15384615384613)\" d=\"M-5,-5h10v10h-10Z\" style=\"fill: grey; stroke-width: 2; opacity: 0.7;\"></path><path transform=\"translate(250,92.30769230769232)\" d=\"M-5,-5h10v10h-10Z\" style=\"fill: rgb(149, 196, 224); stroke-width: 2; opacity: 0.7;\"></path><path transform=\"translate(250,90)\" d=\"M-5,-5h10v10h-10Z\" style=\"fill: rgb(49, 129, 189); stroke-width: 2; opacity: 0.7;\"></path><path transform=\"translate(125,94.61538461538461)\" d=\"M-5,-5h10v10h-10Z\" style=\"fill: grey; stroke-width: 2; opacity: 0.7;\"></path><path transform=\"translate(250,87.69230769230768)\" d=\"M-5,-5h10v10h-10Z\" style=\"fill: rgb(143, 193, 222); stroke-width: 2; opacity: 0.7;\"></path><path transform=\"translate(0,115.38461538461539)\" d=\"M-5,-5h10v10h-10Z\" style=\"fill: grey; stroke-width: 2; opacity: 0.7;\"></path><path transform=\"translate(500,103.84615384615384)\" d=\"M-5,-5h10v10h-10Z\" style=\"fill: grey; stroke-width: 2; opacity: 0.7;\"></path><path transform=\"translate(500,101.53846153846155)\" d=\"M-5,-5h10v10h-10Z\" style=\"fill: grey; stroke-width: 2; opacity: 0.7;\"></path><path transform=\"translate(250,85.38461538461539)\" d=\"M-5,-5h10v10h-10Z\" style=\"fill: rgb(98, 167, 209); stroke-width: 2; opacity: 0.7;\"></path><path transform=\"translate(187.5,96.9230769230769)\" d=\"M-5,-5h10v10h-10Z\" style=\"fill: grey; stroke-width: 2; opacity: 0.7;\"></path><path transform=\"translate(62.5,103.84615384615384)\" d=\"M-5,-5h10v10h-10Z\" style=\"fill: grey; stroke-width: 2; opacity: 0.7;\"></path><path transform=\"translate(312.5,50.769230769230745)\" d=\"M-5,-5h10v10h-10Z\" style=\"fill: grey; stroke-width: 2; opacity: 0.7;\"></path><path transform=\"translate(375,76.15384615384616)\" d=\"M-5,-5h10v10h-10Z\" style=\"fill: grey; stroke-width: 2; opacity: 0.7;\"></path><path transform=\"translate(500,99.23076923076925)\" d=\"M-5,-5h10v10h-10Z\" style=\"fill: grey; stroke-width: 2; opacity: 0.7;\"></path><path transform=\"translate(187.5,94.61538461538461)\" d=\"M-5,-5h10v10h-10Z\" style=\"fill: grey; stroke-width: 2; opacity: 0.7;\"></path><path transform=\"translate(187.5,92.30769230769232)\" d=\"M-5,-5h10v10h-10Z\" style=\"fill: grey; stroke-width: 2; opacity: 0.7;\"></path><path transform=\"translate(375,73.84615384615384)\" d=\"M-5,-5h10v10h-10Z\" style=\"fill: grey; stroke-width: 2; opacity: 0.7;\"></path><path transform=\"translate(62.5,101.53846153846155)\" d=\"M-5,-5h10v10h-10Z\" style=\"fill: grey; stroke-width: 2; opacity: 0.7;\"></path><path transform=\"translate(187.5,90)\" d=\"M-5,-5h10v10h-10Z\" style=\"fill: grey; stroke-width: 2; opacity: 0.7;\"></path><path transform=\"translate(375,71.53846153846155)\" d=\"M-5,-5h10v10h-10Z\" style=\"fill: grey; stroke-width: 2; opacity: 0.7;\"></path><path transform=\"translate(312.5,48.46153846153845)\" d=\"M-5,-5h10v10h-10Z\" style=\"fill: grey; stroke-width: 2; opacity: 0.7;\"></path><path transform=\"translate(62.5,99.23076923076925)\" d=\"M-5,-5h10v10h-10Z\" style=\"fill: grey; stroke-width: 2; opacity: 0.7;\"></path><path transform=\"translate(437.5,85.38461538461539)\" d=\"M-5,-5h10v10h-10Z\" style=\"fill: grey; stroke-width: 2; opacity: 0.7;\"></path><path transform=\"translate(250,83.0769230769231)\" d=\"M-5,-5h10v10h-10Z\" style=\"fill: rgb(89, 161, 206); stroke-width: 2; opacity: 0.7;\"></path><path transform=\"translate(187.5,87.69230769230768)\" d=\"M-5,-5h10v10h-10Z\" style=\"fill: grey; stroke-width: 2; opacity: 0.7;\"></path><path transform=\"translate(500,96.9230769230769)\" d=\"M-5,-5h10v10h-10Z\" style=\"fill: grey; stroke-width: 2; opacity: 0.7;\"></path><path transform=\"translate(250,80.76923076923077)\" d=\"M-5,-5h10v10h-10Z\" style=\"fill: rgb(120, 180, 216); stroke-width: 2; opacity: 0.7;\"></path><path transform=\"translate(312.5,46.15384615384616)\" d=\"M-5,-5h10v10h-10Z\" style=\"fill: grey; stroke-width: 2; opacity: 0.7;\"></path><path transform=\"translate(125,92.30769230769232)\" d=\"M-5,-5h10v10h-10Z\" style=\"fill: grey; stroke-width: 2; opacity: 0.7;\"></path><path transform=\"translate(0,113.07692307692307)\" d=\"M-5,-5h10v10h-10Z\" style=\"fill: grey; stroke-width: 2; opacity: 0.7;\"></path><path transform=\"translate(62.5,96.9230769230769)\" d=\"M-5,-5h10v10h-10Z\" style=\"fill: grey; stroke-width: 2; opacity: 0.7;\"></path><path transform=\"translate(437.5,83.0769230769231)\" d=\"M-5,-5h10v10h-10Z\" style=\"fill: grey; stroke-width: 2; opacity: 0.7;\"></path><path transform=\"translate(0,110.76923076923077)\" d=\"M-5,-5h10v10h-10Z\" style=\"fill: grey; stroke-width: 2; opacity: 0.7;\"></path><path transform=\"translate(0,108.46153846153848)\" d=\"M-5,-5h10v10h-10Z\" style=\"fill: grey; stroke-width: 2; opacity: 0.7;\"></path><path transform=\"translate(62.5,94.61538461538461)\" d=\"M-5,-5h10v10h-10Z\" style=\"fill: grey; stroke-width: 2; opacity: 0.7;\"></path><path transform=\"translate(125,90)\" d=\"M-5,-5h10v10h-10Z\" style=\"fill: grey; stroke-width: 2; opacity: 0.7;\"></path><path transform=\"translate(0,106.15384615384613)\" d=\"M-5,-5h10v10h-10Z\" style=\"fill: grey; stroke-width: 2; opacity: 0.7;\"></path><path transform=\"translate(375,69.23076923076923)\" d=\"M-5,-5h10v10h-10Z\" style=\"fill: grey; stroke-width: 2; opacity: 0.7;\"></path><path transform=\"translate(312.5,43.84615384615387)\" d=\"M-5,-5h10v10h-10Z\" style=\"fill: grey; stroke-width: 2; opacity: 0.7;\"></path><path transform=\"translate(500,94.61538461538461)\" d=\"M-5,-5h10v10h-10Z\" style=\"fill: grey; stroke-width: 2; opacity: 0.7;\"></path><path transform=\"translate(62.5,92.30769230769232)\" d=\"M-5,-5h10v10h-10Z\" style=\"fill: grey; stroke-width: 2; opacity: 0.7;\"></path><path transform=\"translate(437.5,80.76923076923077)\" d=\"M-5,-5h10v10h-10Z\" style=\"fill: grey; stroke-width: 2; opacity: 0.7;\"></path><path transform=\"translate(375,66.9230769230769)\" d=\"M-5,-5h10v10h-10Z\" style=\"fill: grey; stroke-width: 2; opacity: 0.7;\"></path><path transform=\"translate(437.5,78.46153846153845)\" d=\"M-5,-5h10v10h-10Z\" style=\"fill: grey; stroke-width: 2; opacity: 0.7;\"></path><path transform=\"translate(0,103.84615384615384)\" d=\"M-5,-5h10v10h-10Z\" style=\"fill: grey; stroke-width: 2; opacity: 0.7;\"></path><path transform=\"translate(250,78.46153846153845)\" d=\"M-5,-5h10v10h-10Z\" style=\"fill: rgb(110, 175, 213); stroke-width: 2; opacity: 0.7;\"></path><path transform=\"translate(187.5,85.38461538461539)\" d=\"M-5,-5h10v10h-10Z\" style=\"fill: grey; stroke-width: 2; opacity: 0.7;\"></path><path transform=\"translate(250,76.15384615384616)\" d=\"M-5,-5h10v10h-10Z\" style=\"fill: rgb(98, 167, 209); stroke-width: 2; opacity: 0.7;\"></path><path transform=\"translate(312.5,41.53846153846155)\" d=\"M-5,-5h10v10h-10Z\" style=\"fill: grey; stroke-width: 2; opacity: 0.7;\"></path><path transform=\"translate(250,73.84615384615384)\" d=\"M-5,-5h10v10h-10Z\" style=\"fill: rgb(75, 150, 200); stroke-width: 2; opacity: 0.7;\"></path><path transform=\"translate(500,92.30769230769232)\" d=\"M-5,-5h10v10h-10Z\" style=\"fill: grey; stroke-width: 2; opacity: 0.7;\"></path><path transform=\"translate(437.5,76.15384615384616)\" d=\"M-5,-5h10v10h-10Z\" style=\"fill: grey; stroke-width: 2; opacity: 0.7;\"></path><path transform=\"translate(375,64.61538461538461)\" d=\"M-5,-5h10v10h-10Z\" style=\"fill: grey; stroke-width: 2; opacity: 0.7;\"></path><path transform=\"translate(375,62.30769230769232)\" d=\"M-5,-5h10v10h-10Z\" style=\"fill: grey; stroke-width: 2; opacity: 0.7;\"></path><path transform=\"translate(500,90)\" d=\"M-5,-5h10v10h-10Z\" style=\"fill: grey; stroke-width: 2; opacity: 0.7;\"></path><path transform=\"translate(187.5,83.0769230769231)\" d=\"M-5,-5h10v10h-10Z\" style=\"fill: grey; stroke-width: 2; opacity: 0.7;\"></path><path transform=\"translate(62.5,90)\" d=\"M-5,-5h10v10h-10Z\" style=\"fill: grey; stroke-width: 2; opacity: 0.7;\"></path><path transform=\"translate(0,101.53846153846155)\" d=\"M-5,-5h10v10h-10Z\" style=\"fill: grey; stroke-width: 2; opacity: 0.7;\"></path><path transform=\"translate(62.5,87.69230769230768)\" d=\"M-5,-5h10v10h-10Z\" style=\"fill: grey; stroke-width: 2; opacity: 0.7;\"></path><path transform=\"translate(0,99.23076923076925)\" d=\"M-5,-5h10v10h-10Z\" style=\"fill: grey; stroke-width: 2; opacity: 0.7;\"></path><path transform=\"translate(312.5,39.230769230769226)\" d=\"M-5,-5h10v10h-10Z\" style=\"fill: grey; stroke-width: 2; opacity: 0.7;\"></path><path transform=\"translate(62.5,85.38461538461539)\" d=\"M-5,-5h10v10h-10Z\" style=\"fill: grey; stroke-width: 2; opacity: 0.7;\"></path><path transform=\"translate(125,87.69230769230768)\" d=\"M-5,-5h10v10h-10Z\" style=\"fill: grey; stroke-width: 2; opacity: 0.7;\"></path><path transform=\"translate(500,87.69230769230768)\" d=\"M-5,-5h10v10h-10Z\" style=\"fill: grey; stroke-width: 2; opacity: 0.7;\"></path><path transform=\"translate(62.5,83.0769230769231)\" d=\"M-5,-5h10v10h-10Z\" style=\"fill: grey; stroke-width: 2; opacity: 0.7;\"></path><path transform=\"translate(500,85.38461538461539)\" d=\"M-5,-5h10v10h-10Z\" style=\"fill: grey; stroke-width: 2; opacity: 0.7;\"></path><path transform=\"translate(250,71.53846153846155)\" d=\"M-5,-5h10v10h-10Z\" style=\"fill: rgb(68, 145, 198); stroke-width: 2; opacity: 0.7;\"></path><path transform=\"translate(0,96.9230769230769)\" d=\"M-5,-5h10v10h-10Z\" style=\"fill: grey; stroke-width: 2; opacity: 0.7;\"></path><path transform=\"translate(62.5,80.76923076923077)\" d=\"M-5,-5h10v10h-10Z\" style=\"fill: grey; stroke-width: 2; opacity: 0.7;\"></path><path transform=\"translate(187.5,80.76923076923077)\" d=\"M-5,-5h10v10h-10Z\" style=\"fill: grey; stroke-width: 2; opacity: 0.7;\"></path><path transform=\"translate(187.5,78.46153846153845)\" d=\"M-5,-5h10v10h-10Z\" style=\"fill: grey; stroke-width: 2; opacity: 0.7;\"></path><path transform=\"translate(437.5,73.84615384615384)\" d=\"M-5,-5h10v10h-10Z\" style=\"fill: grey; stroke-width: 2; opacity: 0.7;\"></path><path transform=\"translate(0,94.61538461538461)\" d=\"M-5,-5h10v10h-10Z\" style=\"fill: grey; stroke-width: 2; opacity: 0.7;\"></path><path transform=\"translate(187.5,76.15384615384616)\" d=\"M-5,-5h10v10h-10Z\" style=\"fill: grey; stroke-width: 2; opacity: 0.7;\"></path><path transform=\"translate(500,83.0769230769231)\" d=\"M-5,-5h10v10h-10Z\" style=\"fill: grey; stroke-width: 2; opacity: 0.7;\"></path><path transform=\"translate(62.5,78.46153846153845)\" d=\"M-5,-5h10v10h-10Z\" style=\"fill: grey; stroke-width: 2; opacity: 0.7;\"></path><path transform=\"translate(250,69.23076923076923)\" d=\"M-5,-5h10v10h-10Z\" style=\"fill: rgb(89, 161, 206); stroke-width: 2; opacity: 0.7;\"></path><path transform=\"translate(250,66.9230769230769)\" d=\"M-5,-5h10v10h-10Z\" style=\"fill: rgb(59, 138, 194); stroke-width: 2; opacity: 0.7;\"></path><path transform=\"translate(500,80.76923076923077)\" d=\"M-5,-5h10v10h-10Z\" style=\"fill: grey; stroke-width: 2; opacity: 0.7;\"></path><path transform=\"translate(62.5,76.15384615384616)\" d=\"M-5,-5h10v10h-10Z\" style=\"fill: grey; stroke-width: 2; opacity: 0.7;\"></path><path transform=\"translate(500,78.46153846153845)\" d=\"M-5,-5h10v10h-10Z\" style=\"fill: grey; stroke-width: 2; opacity: 0.7;\"></path><path transform=\"translate(62.5,73.84615384615384)\" d=\"M-5,-5h10v10h-10Z\" style=\"fill: grey; stroke-width: 2; opacity: 0.7;\"></path><path transform=\"translate(437.5,71.53846153846155)\" d=\"M-5,-5h10v10h-10Z\" style=\"fill: grey; stroke-width: 2; opacity: 0.7;\"></path><path transform=\"translate(312.5,36.923076923076906)\" d=\"M-5,-5h10v10h-10Z\" style=\"fill: grey; stroke-width: 2; opacity: 0.7;\"></path><path transform=\"translate(0,92.30769230769232)\" d=\"M-5,-5h10v10h-10Z\" style=\"fill: grey; stroke-width: 2; opacity: 0.7;\"></path><path transform=\"translate(312.5,34.61538461538464)\" d=\"M-5,-5h10v10h-10Z\" style=\"fill: grey; stroke-width: 2; opacity: 0.7;\"></path><path transform=\"translate(312.5,32.30769230769232)\" d=\"M-5,-5h10v10h-10Z\" style=\"fill: grey; stroke-width: 2; opacity: 0.7;\"></path><path transform=\"translate(0,90)\" d=\"M-5,-5h10v10h-10Z\" style=\"fill: grey; stroke-width: 2; opacity: 0.7;\"></path><path transform=\"translate(375,60)\" d=\"M-5,-5h10v10h-10Z\" style=\"fill: grey; stroke-width: 2; opacity: 0.7;\"></path><path transform=\"translate(375,57.69230769230768)\" d=\"M-5,-5h10v10h-10Z\" style=\"fill: grey; stroke-width: 2; opacity: 0.7;\"></path><path transform=\"translate(62.5,71.53846153846155)\" d=\"M-5,-5h10v10h-10Z\" style=\"fill: grey; stroke-width: 2; opacity: 0.7;\"></path><path transform=\"translate(375,55.38461538461539)\" d=\"M-5,-5h10v10h-10Z\" style=\"fill: grey; stroke-width: 2; opacity: 0.7;\"></path><path transform=\"translate(250,64.61538461538461)\" d=\"M-5,-5h10v10h-10Z\" style=\"fill: rgb(47, 127, 188); stroke-width: 2; opacity: 0.7;\"></path><path transform=\"translate(0,87.69230769230768)\" d=\"M-5,-5h10v10h-10Z\" style=\"fill: grey; stroke-width: 2; opacity: 0.7;\"></path><path transform=\"translate(375,53.076923076923094)\" d=\"M-5,-5h10v10h-10Z\" style=\"fill: grey; stroke-width: 2; opacity: 0.7;\"></path><path transform=\"translate(187.5,73.84615384615384)\" d=\"M-5,-5h10v10h-10Z\" style=\"fill: grey; stroke-width: 2; opacity: 0.7;\"></path><path transform=\"translate(62.5,69.23076923076923)\" d=\"M-5,-5h10v10h-10Z\" style=\"fill: grey; stroke-width: 2; opacity: 0.7;\"></path><path transform=\"translate(0,85.38461538461539)\" d=\"M-5,-5h10v10h-10Z\" style=\"fill: grey; stroke-width: 2; opacity: 0.7;\"></path><path transform=\"translate(250,62.30769230769232)\" d=\"M-5,-5h10v10h-10Z\" style=\"fill: rgb(143, 193, 222); stroke-width: 2; opacity: 0.7;\"></path><path transform=\"translate(312.5,30)\" d=\"M-5,-5h10v10h-10Z\" style=\"fill: grey; stroke-width: 2; opacity: 0.7;\"></path><path transform=\"translate(437.5,69.23076923076923)\" d=\"M-5,-5h10v10h-10Z\" style=\"fill: grey; stroke-width: 2; opacity: 0.7;\"></path><path transform=\"translate(312.5,27.69230769230768)\" d=\"M-5,-5h10v10h-10Z\" style=\"fill: grey; stroke-width: 2; opacity: 0.7;\"></path><path transform=\"translate(500,76.15384615384616)\" d=\"M-5,-5h10v10h-10Z\" style=\"fill: grey; stroke-width: 2; opacity: 0.7;\"></path><path transform=\"translate(0,83.0769230769231)\" d=\"M-5,-5h10v10h-10Z\" style=\"fill: grey; stroke-width: 2; opacity: 0.7;\"></path><path transform=\"translate(0,80.76923076923077)\" d=\"M-5,-5h10v10h-10Z\" style=\"fill: grey; stroke-width: 2; opacity: 0.7;\"></path><path transform=\"translate(375,50.769230769230745)\" d=\"M-5,-5h10v10h-10Z\" style=\"fill: grey; stroke-width: 2; opacity: 0.7;\"></path><path transform=\"translate(500,73.84615384615384)\" d=\"M-5,-5h10v10h-10Z\" style=\"fill: grey; stroke-width: 2; opacity: 0.7;\"></path><path transform=\"translate(0,78.46153846153845)\" d=\"M-5,-5h10v10h-10Z\" style=\"fill: grey; stroke-width: 2; opacity: 0.7;\"></path><path transform=\"translate(375,48.46153846153845)\" d=\"M-5,-5h10v10h-10Z\" style=\"fill: grey; stroke-width: 2; opacity: 0.7;\"></path><path transform=\"translate(62.5,66.9230769230769)\" d=\"M-5,-5h10v10h-10Z\" style=\"fill: grey; stroke-width: 2; opacity: 0.7;\"></path><path transform=\"translate(250,60)\" d=\"M-5,-5h10v10h-10Z\" style=\"fill: rgb(85, 158, 204); stroke-width: 2; opacity: 0.7;\"></path><path transform=\"translate(500,71.53846153846155)\" d=\"M-5,-5h10v10h-10Z\" style=\"fill: grey; stroke-width: 2; opacity: 0.7;\"></path><path transform=\"translate(62.5,64.61538461538461)\" d=\"M-5,-5h10v10h-10Z\" style=\"fill: grey; stroke-width: 2; opacity: 0.7;\"></path><path transform=\"translate(125,85.38461538461539)\" d=\"M-5,-5h10v10h-10Z\" style=\"fill: grey; stroke-width: 2; opacity: 0.7;\"></path><path transform=\"translate(62.5,62.30769230769232)\" d=\"M-5,-5h10v10h-10Z\" style=\"fill: grey; stroke-width: 2; opacity: 0.7;\"></path><path transform=\"translate(312.5,25.384615384615415)\" d=\"M-5,-5h10v10h-10Z\" style=\"fill: grey; stroke-width: 2; opacity: 0.7;\"></path><path transform=\"translate(62.5,60)\" d=\"M-5,-5h10v10h-10Z\" style=\"fill: grey; stroke-width: 2; opacity: 0.7;\"></path><path transform=\"translate(500,69.23076923076923)\" d=\"M-5,-5h10v10h-10Z\" style=\"fill: grey; stroke-width: 2; opacity: 0.7;\"></path><path transform=\"translate(250,57.69230769230768)\" d=\"M-5,-5h10v10h-10Z\" style=\"fill: rgb(50, 130, 190); stroke-width: 2; opacity: 0.7;\"></path><path transform=\"translate(437.5,66.9230769230769)\" d=\"M-5,-5h10v10h-10Z\" style=\"fill: grey; stroke-width: 2; opacity: 0.7;\"></path><path transform=\"translate(500,66.9230769230769)\" d=\"M-5,-5h10v10h-10Z\" style=\"fill: grey; stroke-width: 2; opacity: 0.7;\"></path><path transform=\"translate(500,64.61538461538461)\" d=\"M-5,-5h10v10h-10Z\" style=\"fill: grey; stroke-width: 2; opacity: 0.7;\"></path><path transform=\"translate(250,55.38461538461539)\" d=\"M-5,-5h10v10h-10Z\" style=\"fill: rgb(86, 159, 205); stroke-width: 2; opacity: 0.7;\"></path><path transform=\"translate(0,76.15384615384616)\" d=\"M-5,-5h10v10h-10Z\" style=\"fill: grey; stroke-width: 2; opacity: 0.7;\"></path><path transform=\"translate(375,46.15384615384616)\" d=\"M-5,-5h10v10h-10Z\" style=\"fill: grey; stroke-width: 2; opacity: 0.7;\"></path><path transform=\"translate(437.5,64.61538461538461)\" d=\"M-5,-5h10v10h-10Z\" style=\"fill: grey; stroke-width: 2; opacity: 0.7;\"></path><path transform=\"translate(312.5,23.076923076923038)\" d=\"M-5,-5h10v10h-10Z\" style=\"fill: grey; stroke-width: 2; opacity: 0.7;\"></path><path transform=\"translate(437.5,62.30769230769232)\" d=\"M-5,-5h10v10h-10Z\" style=\"fill: grey; stroke-width: 2; opacity: 0.7;\"></path><path transform=\"translate(375,43.84615384615387)\" d=\"M-5,-5h10v10h-10Z\" style=\"fill: grey; stroke-width: 2; opacity: 0.7;\"></path><path transform=\"translate(62.5,57.69230769230768)\" d=\"M-5,-5h10v10h-10Z\" style=\"fill: grey; stroke-width: 2; opacity: 0.7;\"></path><path transform=\"translate(62.5,55.38461538461539)\" d=\"M-5,-5h10v10h-10Z\" style=\"fill: grey; stroke-width: 2; opacity: 0.7;\"></path><path transform=\"translate(437.5,60)\" d=\"M-5,-5h10v10h-10Z\" style=\"fill: grey; stroke-width: 2; opacity: 0.7;\"></path><path transform=\"translate(125,83.0769230769231)\" d=\"M-5,-5h10v10h-10Z\" style=\"fill: grey; stroke-width: 2; opacity: 0.7;\"></path><path transform=\"translate(125,80.76923076923077)\" d=\"M-5,-5h10v10h-10Z\" style=\"fill: grey; stroke-width: 2; opacity: 0.7;\"></path><path transform=\"translate(125,78.46153846153845)\" d=\"M-5,-5h10v10h-10Z\" style=\"fill: grey; stroke-width: 2; opacity: 0.7;\"></path><path transform=\"translate(250,53.076923076923094)\" d=\"M-5,-5h10v10h-10Z\" style=\"fill: rgb(118, 179, 215); stroke-width: 2; opacity: 0.7;\"></path><path transform=\"translate(375,41.53846153846155)\" d=\"M-5,-5h10v10h-10Z\" style=\"fill: grey; stroke-width: 2; opacity: 0.7;\"></path><path transform=\"translate(125,76.15384615384616)\" d=\"M-5,-5h10v10h-10Z\" style=\"fill: grey; stroke-width: 2; opacity: 0.7;\"></path><path transform=\"translate(0,73.84615384615384)\" d=\"M-5,-5h10v10h-10Z\" style=\"fill: grey; stroke-width: 2; opacity: 0.7;\"></path><path transform=\"translate(0,71.53846153846155)\" d=\"M-5,-5h10v10h-10Z\" style=\"fill: grey; stroke-width: 2; opacity: 0.7;\"></path><path transform=\"translate(500,62.30769230769232)\" d=\"M-5,-5h10v10h-10Z\" style=\"fill: grey; stroke-width: 2; opacity: 0.7;\"></path><path transform=\"translate(187.5,71.53846153846155)\" d=\"M-5,-5h10v10h-10Z\" style=\"fill: grey; stroke-width: 2; opacity: 0.7;\"></path><path transform=\"translate(437.5,57.69230769230768)\" d=\"M-5,-5h10v10h-10Z\" style=\"fill: grey; stroke-width: 2; opacity: 0.7;\"></path><path transform=\"translate(500,60)\" d=\"M-5,-5h10v10h-10Z\" style=\"fill: grey; stroke-width: 2; opacity: 0.7;\"></path><path transform=\"translate(437.5,55.38461538461539)\" d=\"M-5,-5h10v10h-10Z\" style=\"fill: grey; stroke-width: 2; opacity: 0.7;\"></path><path transform=\"translate(500,57.69230769230768)\" d=\"M-5,-5h10v10h-10Z\" style=\"fill: grey; stroke-width: 2; opacity: 0.7;\"></path><path transform=\"translate(500,55.38461538461539)\" d=\"M-5,-5h10v10h-10Z\" style=\"fill: grey; stroke-width: 2; opacity: 0.7;\"></path><path transform=\"translate(0,69.23076923076923)\" d=\"M-5,-5h10v10h-10Z\" style=\"fill: grey; stroke-width: 2; opacity: 0.7;\"></path><path transform=\"translate(187.5,69.23076923076923)\" d=\"M-5,-5h10v10h-10Z\" style=\"fill: grey; stroke-width: 2; opacity: 0.7;\"></path><path transform=\"translate(187.5,66.9230769230769)\" d=\"M-5,-5h10v10h-10Z\" style=\"fill: grey; stroke-width: 2; opacity: 0.7;\"></path><path transform=\"translate(125,73.84615384615384)\" d=\"M-5,-5h10v10h-10Z\" style=\"fill: grey; stroke-width: 2; opacity: 0.7;\"></path><path transform=\"translate(312.5,20.769230769230774)\" d=\"M-5,-5h10v10h-10Z\" style=\"fill: grey; stroke-width: 2; opacity: 0.7;\"></path><path transform=\"translate(312.5,18.461538461538453)\" d=\"M-5,-5h10v10h-10Z\" style=\"fill: grey; stroke-width: 2; opacity: 0.7;\"></path><path transform=\"translate(312.5,16.15384615384619)\" d=\"M-5,-5h10v10h-10Z\" style=\"fill: grey; stroke-width: 2; opacity: 0.7;\"></path><path transform=\"translate(250,50.769230769230745)\" d=\"M-5,-5h10v10h-10Z\" style=\"fill: rgb(103, 170, 211); stroke-width: 2; opacity: 0.7;\"></path><path transform=\"translate(437.5,53.076923076923094)\" d=\"M-5,-5h10v10h-10Z\" style=\"fill: grey; stroke-width: 2; opacity: 0.7;\"></path><path transform=\"translate(125,71.53846153846155)\" d=\"M-5,-5h10v10h-10Z\" style=\"fill: grey; stroke-width: 2; opacity: 0.7;\"></path><path transform=\"translate(437.5,50.769230769230745)\" d=\"M-5,-5h10v10h-10Z\" style=\"fill: grey; stroke-width: 2; opacity: 0.7;\"></path><path transform=\"translate(187.5,64.61538461538461)\" d=\"M-5,-5h10v10h-10Z\" style=\"fill: grey; stroke-width: 2; opacity: 0.7;\"></path><path transform=\"translate(500,53.076923076923094)\" d=\"M-5,-5h10v10h-10Z\" style=\"fill: grey; stroke-width: 2; opacity: 0.7;\"></path><path transform=\"translate(187.5,62.30769230769232)\" d=\"M-5,-5h10v10h-10Z\" style=\"fill: grey; stroke-width: 2; opacity: 0.7;\"></path><path transform=\"translate(375,39.230769230769226)\" d=\"M-5,-5h10v10h-10Z\" style=\"fill: grey; stroke-width: 2; opacity: 0.7;\"></path><path transform=\"translate(500,50.769230769230745)\" d=\"M-5,-5h10v10h-10Z\" style=\"fill: grey; stroke-width: 2; opacity: 0.7;\"></path><path transform=\"translate(500,48.46153846153845)\" d=\"M-5,-5h10v10h-10Z\" style=\"fill: grey; stroke-width: 2; opacity: 0.7;\"></path><path transform=\"translate(62.5,53.076923076923094)\" d=\"M-5,-5h10v10h-10Z\" style=\"fill: grey; stroke-width: 2; opacity: 0.7;\"></path><path transform=\"translate(0,66.9230769230769)\" d=\"M-5,-5h10v10h-10Z\" style=\"fill: grey; stroke-width: 2; opacity: 0.7;\"></path><path transform=\"translate(62.5,50.769230769230745)\" d=\"M-5,-5h10v10h-10Z\" style=\"fill: grey; stroke-width: 2; opacity: 0.7;\"></path><path transform=\"translate(125,69.23076923076923)\" d=\"M-5,-5h10v10h-10Z\" style=\"fill: grey; stroke-width: 2; opacity: 0.7;\"></path><path transform=\"translate(500,46.15384615384616)\" d=\"M-5,-5h10v10h-10Z\" style=\"fill: grey; stroke-width: 2; opacity: 0.7;\"></path><path transform=\"translate(0,64.61538461538461)\" d=\"M-5,-5h10v10h-10Z\" style=\"fill: grey; stroke-width: 2; opacity: 0.7;\"></path><path transform=\"translate(250,48.46153846153845)\" d=\"M-5,-5h10v10h-10Z\" style=\"fill: rgb(62, 140, 195); stroke-width: 2; opacity: 0.7;\"></path><path transform=\"translate(0,62.30769230769232)\" d=\"M-5,-5h10v10h-10Z\" style=\"fill: grey; stroke-width: 2; opacity: 0.7;\"></path><path transform=\"translate(500,43.84615384615387)\" d=\"M-5,-5h10v10h-10Z\" style=\"fill: grey; stroke-width: 2; opacity: 0.7;\"></path><path transform=\"translate(125,66.9230769230769)\" d=\"M-5,-5h10v10h-10Z\" style=\"fill: grey; stroke-width: 2; opacity: 0.7;\"></path><path transform=\"translate(125,64.61538461538461)\" d=\"M-5,-5h10v10h-10Z\" style=\"fill: grey; stroke-width: 2; opacity: 0.7;\"></path><path transform=\"translate(0,60)\" d=\"M-5,-5h10v10h-10Z\" style=\"fill: grey; stroke-width: 2; opacity: 0.7;\"></path><path transform=\"translate(250,46.15384615384616)\" d=\"M-5,-5h10v10h-10Z\" style=\"fill: rgb(114, 177, 214); stroke-width: 2; opacity: 0.7;\"></path><path transform=\"translate(125,62.30769230769232)\" d=\"M-5,-5h10v10h-10Z\" style=\"fill: grey; stroke-width: 2; opacity: 0.7;\"></path><path transform=\"translate(62.5,48.46153846153845)\" d=\"M-5,-5h10v10h-10Z\" style=\"fill: grey; stroke-width: 2; opacity: 0.7;\"></path><path transform=\"translate(437.5,48.46153846153845)\" d=\"M-5,-5h10v10h-10Z\" style=\"fill: grey; stroke-width: 2; opacity: 0.7;\"></path><path transform=\"translate(0,57.69230769230768)\" d=\"M-5,-5h10v10h-10Z\" style=\"fill: grey; stroke-width: 2; opacity: 0.7;\"></path><path transform=\"translate(250,43.84615384615387)\" d=\"M-5,-5h10v10h-10Z\" style=\"fill: rgb(52, 131, 190); stroke-width: 2; opacity: 0.7;\"></path><path transform=\"translate(62.5,46.15384615384616)\" d=\"M-5,-5h10v10h-10Z\" style=\"fill: grey; stroke-width: 2; opacity: 0.7;\"></path><path transform=\"translate(187.5,60)\" d=\"M-5,-5h10v10h-10Z\" style=\"fill: grey; stroke-width: 2; opacity: 0.7;\"></path><path transform=\"translate(500,41.53846153846155)\" d=\"M-5,-5h10v10h-10Z\" style=\"fill: grey; stroke-width: 2; opacity: 0.7;\"></path><path transform=\"translate(312.5,13.846153846153811)\" d=\"M-5,-5h10v10h-10Z\" style=\"fill: grey; stroke-width: 2; opacity: 0.7;\"></path><path transform=\"translate(375,36.923076923076906)\" d=\"M-5,-5h10v10h-10Z\" style=\"fill: grey; stroke-width: 2; opacity: 0.7;\"></path><path transform=\"translate(437.5,46.15384615384616)\" d=\"M-5,-5h10v10h-10Z\" style=\"fill: grey; stroke-width: 2; opacity: 0.7;\"></path><path transform=\"translate(500,39.230769230769226)\" d=\"M-5,-5h10v10h-10Z\" style=\"fill: grey; stroke-width: 2; opacity: 0.7;\"></path><path transform=\"translate(375,34.61538461538464)\" d=\"M-5,-5h10v10h-10Z\" style=\"fill: grey; stroke-width: 2; opacity: 0.7;\"></path><path transform=\"translate(312.5,11.538461538461547)\" d=\"M-5,-5h10v10h-10Z\" style=\"fill: grey; stroke-width: 2; opacity: 0.7;\"></path><path transform=\"translate(312.5,9.230769230769226)\" d=\"M-5,-5h10v10h-10Z\" style=\"fill: grey; stroke-width: 2; opacity: 0.7;\"></path><path transform=\"translate(312.5,6.923076923076906)\" d=\"M-5,-5h10v10h-10Z\" style=\"fill: grey; stroke-width: 2; opacity: 0.7;\"></path><path transform=\"translate(250,41.53846153846155)\" d=\"M-5,-5h10v10h-10Z\" style=\"fill: rgb(23, 99, 169); stroke-width: 2; opacity: 0.7;\"></path><path transform=\"translate(187.5,57.69230769230768)\" d=\"M-5,-5h10v10h-10Z\" style=\"fill: grey; stroke-width: 2; opacity: 0.7;\"></path></g><g class=\"mark-rect role-mark brush_brush\" clip-path=\"url(#clip2)\"><path d=\"M225,0h50v300h-50Z\" style=\"fill: none; stroke: white;\"></path></g><g class=\"mark-group role-axis\"><g transform=\"translate(0.5,300.5)\"><path class=\"background\" d=\"M0,0h0v0h0Z\" style=\"pointer-events: none; fill: none;\"></path><g><g class=\"mark-rule role-axis-tick\" style=\"pointer-events: none;\"><line transform=\"translate(0,0)\" x2=\"0\" y2=\"5\" style=\"fill: none; stroke: #888; stroke-width: 1; opacity: 1;\"></line><line transform=\"translate(31,0)\" x2=\"0\" y2=\"5\" style=\"fill: none; stroke: #888; stroke-width: 1; opacity: 1;\"></line><line transform=\"translate(63,0)\" x2=\"0\" y2=\"5\" style=\"fill: none; stroke: #888; stroke-width: 1; opacity: 1;\"></line><line transform=\"translate(94,0)\" x2=\"0\" y2=\"5\" style=\"fill: none; stroke: #888; stroke-width: 1; opacity: 1;\"></line><line transform=\"translate(125,0)\" x2=\"0\" y2=\"5\" style=\"fill: none; stroke: #888; stroke-width: 1; opacity: 1;\"></line><line transform=\"translate(156,0)\" x2=\"0\" y2=\"5\" style=\"fill: none; stroke: #888; stroke-width: 1; opacity: 1;\"></line><line transform=\"translate(188,0)\" x2=\"0\" y2=\"5\" style=\"fill: none; stroke: #888; stroke-width: 1; opacity: 1;\"></line><line transform=\"translate(219,0)\" x2=\"0\" y2=\"5\" style=\"fill: none; stroke: #888; stroke-width: 1; opacity: 1;\"></line><line transform=\"translate(250,0)\" x2=\"0\" y2=\"5\" style=\"fill: none; stroke: #888; stroke-width: 1; opacity: 1;\"></line><line transform=\"translate(281,0)\" x2=\"0\" y2=\"5\" style=\"fill: none; stroke: #888; stroke-width: 1; opacity: 1;\"></line><line transform=\"translate(313,0)\" x2=\"0\" y2=\"5\" style=\"fill: none; stroke: #888; stroke-width: 1; opacity: 1;\"></line><line transform=\"translate(344,0)\" x2=\"0\" y2=\"5\" style=\"fill: none; stroke: #888; stroke-width: 1; opacity: 1;\"></line><line transform=\"translate(375,0)\" x2=\"0\" y2=\"5\" style=\"fill: none; stroke: #888; stroke-width: 1; opacity: 1;\"></line><line transform=\"translate(406,0)\" x2=\"0\" y2=\"5\" style=\"fill: none; stroke: #888; stroke-width: 1; opacity: 1;\"></line><line transform=\"translate(438,0)\" x2=\"0\" y2=\"5\" style=\"fill: none; stroke: #888; stroke-width: 1; opacity: 1;\"></line><line transform=\"translate(469,0)\" x2=\"0\" y2=\"5\" style=\"fill: none; stroke: #888; stroke-width: 1; opacity: 1;\"></line><line transform=\"translate(500,0)\" x2=\"0\" y2=\"5\" style=\"fill: none; stroke: #888; stroke-width: 1; opacity: 1;\"></line></g><g class=\"mark-text role-axis-label\" style=\"pointer-events: none;\"><text text-anchor=\"start\" transform=\"translate(0,15)\" style=\"font-family: sans-serif; font-size: 10px; fill: #000; opacity: 1;\">0.0</text><text text-anchor=\"middle\" transform=\"translate(31.25,15)\" style=\"font-family: sans-serif; font-size: 10px; fill: #000; opacity: 1;\">0.5</text><text text-anchor=\"middle\" transform=\"translate(62.5,15)\" style=\"font-family: sans-serif; font-size: 10px; fill: #000; opacity: 1;\">1.0</text><text text-anchor=\"middle\" transform=\"translate(93.75,15)\" style=\"font-family: sans-serif; font-size: 10px; fill: #000; opacity: 1;\">1.5</text><text text-anchor=\"middle\" transform=\"translate(125,15)\" style=\"font-family: sans-serif; font-size: 10px; fill: #000; opacity: 1;\">2.0</text><text text-anchor=\"middle\" transform=\"translate(156.25,15)\" style=\"font-family: sans-serif; font-size: 10px; fill: #000; opacity: 1;\">2.5</text><text text-anchor=\"middle\" transform=\"translate(187.5,15)\" style=\"font-family: sans-serif; font-size: 10px; fill: #000; opacity: 1;\">3.0</text><text text-anchor=\"middle\" transform=\"translate(218.75,15)\" style=\"font-family: sans-serif; font-size: 10px; fill: #000; opacity: 1;\">3.5</text><text text-anchor=\"middle\" transform=\"translate(250,15)\" style=\"font-family: sans-serif; font-size: 10px; fill: #000; opacity: 1;\">4.0</text><text text-anchor=\"middle\" transform=\"translate(281.25,15)\" style=\"font-family: sans-serif; font-size: 10px; fill: #000; opacity: 1;\">4.5</text><text text-anchor=\"middle\" transform=\"translate(312.5,15)\" style=\"font-family: sans-serif; font-size: 10px; fill: #000; opacity: 1;\">5.0</text><text text-anchor=\"middle\" transform=\"translate(343.75,15)\" style=\"font-family: sans-serif; font-size: 10px; fill: #000; opacity: 1;\">5.5</text><text text-anchor=\"middle\" transform=\"translate(375,15)\" style=\"font-family: sans-serif; font-size: 10px; fill: #000; opacity: 1;\">6.0</text><text text-anchor=\"middle\" transform=\"translate(406.25,15)\" style=\"font-family: sans-serif; font-size: 10px; fill: #000; opacity: 1;\">6.5</text><text text-anchor=\"middle\" transform=\"translate(437.5,15)\" style=\"font-family: sans-serif; font-size: 10px; fill: #000; opacity: 1;\">7.0</text><text text-anchor=\"middle\" transform=\"translate(468.75,15)\" style=\"font-family: sans-serif; font-size: 10px; fill: #000; opacity: 1;\">7.5</text><text text-anchor=\"end\" transform=\"translate(500,15)\" style=\"font-family: sans-serif; font-size: 10px; fill: #000; opacity: 1;\">8.0</text></g><g class=\"mark-rule role-axis-domain\" style=\"pointer-events: none;\"><line transform=\"translate(0,0)\" x2=\"500\" y2=\"0\" style=\"fill: none; stroke: #888; stroke-width: 1; opacity: 1;\"></line></g><g class=\"mark-text role-axis-title\" style=\"pointer-events: none;\"><text text-anchor=\"middle\" transform=\"translate(250,30)\" style=\"font-family: sans-serif; font-size: 11px; font-weight: bold; fill: #000; opacity: 1;\">Samples</text></g></g></g></g></g></g></g><g class=\"mark-group role-scope concat_1_group\"><g transform=\"translate(560,0)\"><path class=\"background\" d=\"M0.5,0.5h500v300h-500Z\" style=\"fill: none; stroke: #ddd;\"></path><g><g class=\"mark-group role-axis\"><g transform=\"translate(0.5,0.5)\"><path class=\"background\" d=\"M0,0h0v0h0Z\" style=\"pointer-events: none; fill: none;\"></path><g><g class=\"mark-rule role-axis-grid\" style=\"pointer-events: none;\"><line transform=\"translate(0,300)\" x2=\"500\" y2=\"0\" style=\"fill: none; stroke: #ddd; stroke-width: 1; opacity: 1;\"></line><line transform=\"translate(0,133)\" x2=\"500\" y2=\"0\" style=\"fill: none; stroke: #ddd; stroke-width: 1; opacity: 1;\"></line><line transform=\"translate(0,267)\" x2=\"500\" y2=\"0\" style=\"fill: none; stroke: #ddd; stroke-width: 1; opacity: 1;\"></line><line transform=\"translate(0,233)\" x2=\"500\" y2=\"0\" style=\"fill: none; stroke: #ddd; stroke-width: 1; opacity: 1;\"></line><line transform=\"translate(0,200)\" x2=\"500\" y2=\"0\" style=\"fill: none; stroke: #ddd; stroke-width: 1; opacity: 1;\"></line><line transform=\"translate(0,167)\" x2=\"500\" y2=\"0\" style=\"fill: none; stroke: #ddd; stroke-width: 1; opacity: 1;\"></line><line transform=\"translate(0,100)\" x2=\"500\" y2=\"0\" style=\"fill: none; stroke: #ddd; stroke-width: 1; opacity: 1;\"></line><line transform=\"translate(0,67)\" x2=\"500\" y2=\"0\" style=\"fill: none; stroke: #ddd; stroke-width: 1; opacity: 1;\"></line><line transform=\"translate(0,33)\" x2=\"500\" y2=\"0\" style=\"fill: none; stroke: #ddd; stroke-width: 1; opacity: 1;\"></line><line transform=\"translate(0,0)\" x2=\"500\" y2=\"0\" style=\"fill: none; stroke: #ddd; stroke-width: 1; opacity: 1;\"></line></g></g></g></g><g class=\"mark-rect role-mark concat_1_layer_0_marks\"><path d=\"M426.00000000000006,266.6666666666667h23.999999999999943v33.333333333333314h-23.999999999999943Z\" style=\"fill: #4c78a8;\"></path><path d=\"M101,266.6666666666667h24v33.333333333333314h-24Z\" style=\"fill: #4c78a8;\"></path><path d=\"M76.00000000000001,283.3333333333333h23.999999999999986v16.666666666666686h-23.999999999999986Z\" style=\"fill: #4c78a8;\"></path><path d=\"M176.00000000000003,116.66666666666666h23.99999999999997v183.33333333333334h-23.99999999999997Z\" style=\"fill: #4c78a8;\"></path><path d=\"M376,250h24v50h-24Z\" style=\"fill: #4c78a8;\"></path><path d=\"M326,150h24.000000000000057v150h-24.000000000000057Z\" style=\"fill: #4c78a8;\"></path><path d=\"M401,283.3333333333333h24.000000000000057v16.666666666666686h-24.000000000000057Z\" style=\"fill: #4c78a8;\"></path><path d=\"M276,200h24.000000000000057v100h-24.000000000000057Z\" style=\"fill: #4c78a8;\"></path><path d=\"M301.00000000000006,50h24v250h-24Z\" style=\"fill: #4c78a8;\"></path><path d=\"M201,83.33333333333334h24v216.66666666666666h-24Z\" style=\"fill: #4c78a8;\"></path><path d=\"M126,183.33333333333331h24.00000000000003v116.66666666666669h-24.00000000000003Z\" style=\"fill: #4c78a8;\"></path><path d=\"M226,100h24v200h-24Z\" style=\"fill: #4c78a8;\"></path><path d=\"M251,16.666666666666686h24v283.3333333333333h-24Z\" style=\"fill: #4c78a8;\"></path><path d=\"M151.00000000000003,216.66666666666666h24.00000000000003v83.33333333333334h-24.00000000000003Z\" style=\"fill: #4c78a8;\"></path><path d=\"M351.00000000000006,166.66666666666669h23.999999999999943v133.33333333333331h-23.999999999999943Z\" style=\"fill: #4c78a8;\"></path></g><g class=\"mark-group role-axis\"><g transform=\"translate(0.5,300.5)\"><path class=\"background\" d=\"M0,0h0v0h0Z\" style=\"pointer-events: none; fill: none;\"></path><g><g class=\"mark-rule role-axis-tick\" style=\"pointer-events: none;\"><line transform=\"translate(0,0)\" x2=\"0\" y2=\"5\" style=\"fill: none; stroke: #888; stroke-width: 1; opacity: 1;\"></line><line transform=\"translate(25,0)\" x2=\"0\" y2=\"5\" style=\"fill: none; stroke: #888; stroke-width: 1; opacity: 1;\"></line><line transform=\"translate(50,0)\" x2=\"0\" y2=\"5\" style=\"fill: none; stroke: #888; stroke-width: 1; opacity: 1;\"></line><line transform=\"translate(75,0)\" x2=\"0\" y2=\"5\" style=\"fill: none; stroke: #888; stroke-width: 1; opacity: 1;\"></line><line transform=\"translate(100,0)\" x2=\"0\" y2=\"5\" style=\"fill: none; stroke: #888; stroke-width: 1; opacity: 1;\"></line><line transform=\"translate(125,0)\" x2=\"0\" y2=\"5\" style=\"fill: none; stroke: #888; stroke-width: 1; opacity: 1;\"></line><line transform=\"translate(150,0)\" x2=\"0\" y2=\"5\" style=\"fill: none; stroke: #888; stroke-width: 1; opacity: 1;\"></line><line transform=\"translate(175,0)\" x2=\"0\" y2=\"5\" style=\"fill: none; stroke: #888; stroke-width: 1; opacity: 1;\"></line><line transform=\"translate(200,0)\" x2=\"0\" y2=\"5\" style=\"fill: none; stroke: #888; stroke-width: 1; opacity: 1;\"></line><line transform=\"translate(225,0)\" x2=\"0\" y2=\"5\" style=\"fill: none; stroke: #888; stroke-width: 1; opacity: 1;\"></line><line transform=\"translate(250,0)\" x2=\"0\" y2=\"5\" style=\"fill: none; stroke: #888; stroke-width: 1; opacity: 1;\"></line><line transform=\"translate(275,0)\" x2=\"0\" y2=\"5\" style=\"fill: none; stroke: #888; stroke-width: 1; opacity: 1;\"></line><line transform=\"translate(300,0)\" x2=\"0\" y2=\"5\" style=\"fill: none; stroke: #888; stroke-width: 1; opacity: 1;\"></line><line transform=\"translate(325,0)\" x2=\"0\" y2=\"5\" style=\"fill: none; stroke: #888; stroke-width: 1; opacity: 1;\"></line><line transform=\"translate(350,0)\" x2=\"0\" y2=\"5\" style=\"fill: none; stroke: #888; stroke-width: 1; opacity: 1;\"></line><line transform=\"translate(375,0)\" x2=\"0\" y2=\"5\" style=\"fill: none; stroke: #888; stroke-width: 1; opacity: 1;\"></line><line transform=\"translate(400,0)\" x2=\"0\" y2=\"5\" style=\"fill: none; stroke: #888; stroke-width: 1; opacity: 1;\"></line><line transform=\"translate(425,0)\" x2=\"0\" y2=\"5\" style=\"fill: none; stroke: #888; stroke-width: 1; opacity: 1;\"></line><line transform=\"translate(450,0)\" x2=\"0\" y2=\"5\" style=\"fill: none; stroke: #888; stroke-width: 1; opacity: 1;\"></line><line transform=\"translate(475,0)\" x2=\"0\" y2=\"5\" style=\"fill: none; stroke: #888; stroke-width: 1; opacity: 1;\"></line><line transform=\"translate(500,0)\" x2=\"0\" y2=\"5\" style=\"fill: none; stroke: #888; stroke-width: 1; opacity: 1;\"></line></g><g class=\"mark-text role-axis-label\" style=\"pointer-events: none;\"><text text-anchor=\"start\" transform=\"translate(0,15)\" style=\"font-family: sans-serif; font-size: 10px; fill: #000; opacity: 1;\">0.00</text><text text-anchor=\"middle\" transform=\"translate(25,15)\" style=\"font-family: sans-serif; font-size: 10px; fill: #000; opacity: 0;\">0.05</text><text text-anchor=\"middle\" transform=\"translate(50,15)\" style=\"font-family: sans-serif; font-size: 10px; fill: #000; opacity: 1;\">0.10</text><text text-anchor=\"middle\" transform=\"translate(75.00000000000001,15)\" style=\"font-family: sans-serif; font-size: 10px; fill: #000; opacity: 0;\">0.15</text><text text-anchor=\"middle\" transform=\"translate(100,15)\" style=\"font-family: sans-serif; font-size: 10px; fill: #000; opacity: 1;\">0.20</text><text text-anchor=\"middle\" transform=\"translate(125,15)\" style=\"font-family: sans-serif; font-size: 10px; fill: #000; opacity: 0;\">0.25</text><text text-anchor=\"middle\" transform=\"translate(150.00000000000003,15)\" style=\"font-family: sans-serif; font-size: 10px; fill: #000; opacity: 1;\">0.30</text><text text-anchor=\"middle\" transform=\"translate(175.00000000000003,15)\" style=\"font-family: sans-serif; font-size: 10px; fill: #000; opacity: 0;\">0.35</text><text text-anchor=\"middle\" transform=\"translate(200,15)\" style=\"font-family: sans-serif; font-size: 10px; fill: #000; opacity: 1;\">0.40</text><text text-anchor=\"middle\" transform=\"translate(225,15)\" style=\"font-family: sans-serif; font-size: 10px; fill: #000; opacity: 0;\">0.45</text><text text-anchor=\"middle\" transform=\"translate(250,15)\" style=\"font-family: sans-serif; font-size: 10px; fill: #000; opacity: 1;\">0.50</text><text text-anchor=\"middle\" transform=\"translate(275,15)\" style=\"font-family: sans-serif; font-size: 10px; fill: #000; opacity: 0;\">0.55</text><text text-anchor=\"middle\" transform=\"translate(300.00000000000006,15)\" style=\"font-family: sans-serif; font-size: 10px; fill: #000; opacity: 1;\">0.60</text><text text-anchor=\"middle\" transform=\"translate(325,15)\" style=\"font-family: sans-serif; font-size: 10px; fill: #000; opacity: 0;\">0.65</text><text text-anchor=\"middle\" transform=\"translate(350.00000000000006,15)\" style=\"font-family: sans-serif; font-size: 10px; fill: #000; opacity: 1;\">0.70</text><text text-anchor=\"middle\" transform=\"translate(375,15)\" style=\"font-family: sans-serif; font-size: 10px; fill: #000; opacity: 0;\">0.75</text><text text-anchor=\"middle\" transform=\"translate(400,15)\" style=\"font-family: sans-serif; font-size: 10px; fill: #000; opacity: 1;\">0.80</text><text text-anchor=\"middle\" transform=\"translate(425.00000000000006,15)\" style=\"font-family: sans-serif; font-size: 10px; fill: #000; opacity: 0;\">0.85</text><text text-anchor=\"middle\" transform=\"translate(450,15)\" style=\"font-family: sans-serif; font-size: 10px; fill: #000; opacity: 1;\">0.90</text><text text-anchor=\"middle\" transform=\"translate(475.00000000000006,15)\" style=\"font-family: sans-serif; font-size: 10px; fill: #000; opacity: 0;\">0.95</text><text text-anchor=\"end\" transform=\"translate(500,15)\" style=\"font-family: sans-serif; font-size: 10px; fill: #000; opacity: 1;\">1.00</text></g><g class=\"mark-rule role-axis-domain\" style=\"pointer-events: none;\"><line transform=\"translate(0,0)\" x2=\"500\" y2=\"0\" style=\"fill: none; stroke: #888; stroke-width: 1; opacity: 1;\"></line></g><g class=\"mark-text role-axis-title\" style=\"pointer-events: none;\"><text text-anchor=\"middle\" transform=\"translate(250,30)\" style=\"font-family: sans-serif; font-size: 11px; font-weight: bold; fill: #000; opacity: 1;\">x3 (binned)</text></g></g></g></g><g class=\"mark-group role-axis\"><g transform=\"translate(0.5,0.5)\"><path class=\"background\" d=\"M0,0h0v0h0Z\" style=\"pointer-events: none; fill: none;\"></path><g><g class=\"mark-rule role-axis-tick\" style=\"pointer-events: none;\"><line transform=\"translate(0,300)\" x2=\"-5\" y2=\"0\" style=\"fill: none; stroke: #888; stroke-width: 1; opacity: 1;\"></line><line transform=\"translate(0,133)\" x2=\"-5\" y2=\"0\" style=\"fill: none; stroke: #888; stroke-width: 1; opacity: 1;\"></line><line transform=\"translate(0,267)\" x2=\"-5\" y2=\"0\" style=\"fill: none; stroke: #888; stroke-width: 1; opacity: 1;\"></line><line transform=\"translate(0,233)\" x2=\"-5\" y2=\"0\" style=\"fill: none; stroke: #888; stroke-width: 1; opacity: 1;\"></line><line transform=\"translate(0,200)\" x2=\"-5\" y2=\"0\" style=\"fill: none; stroke: #888; stroke-width: 1; opacity: 1;\"></line><line transform=\"translate(0,167)\" x2=\"-5\" y2=\"0\" style=\"fill: none; stroke: #888; stroke-width: 1; opacity: 1;\"></line><line transform=\"translate(0,100)\" x2=\"-5\" y2=\"0\" style=\"fill: none; stroke: #888; stroke-width: 1; opacity: 1;\"></line><line transform=\"translate(0,67)\" x2=\"-5\" y2=\"0\" style=\"fill: none; stroke: #888; stroke-width: 1; opacity: 1;\"></line><line transform=\"translate(0,33)\" x2=\"-5\" y2=\"0\" style=\"fill: none; stroke: #888; stroke-width: 1; opacity: 1;\"></line><line transform=\"translate(0,0)\" x2=\"-5\" y2=\"0\" style=\"fill: none; stroke: #888; stroke-width: 1; opacity: 1;\"></line></g><g class=\"mark-text role-axis-label\" style=\"pointer-events: none;\"><text text-anchor=\"end\" transform=\"translate(-7,303)\" style=\"font-family: sans-serif; font-size: 10px; fill: #000; opacity: 1;\">0</text><text text-anchor=\"end\" transform=\"translate(-7,136.33333333333331)\" style=\"font-family: sans-serif; font-size: 10px; fill: #000; opacity: 1;\">10</text><text text-anchor=\"end\" transform=\"translate(-7,269.6666666666667)\" style=\"font-family: sans-serif; font-size: 10px; fill: #000; opacity: 1;\">2</text><text text-anchor=\"end\" transform=\"translate(-7,236.33333333333334)\" style=\"font-family: sans-serif; font-size: 10px; fill: #000; opacity: 1;\">4</text><text text-anchor=\"end\" transform=\"translate(-7,203)\" style=\"font-family: sans-serif; font-size: 10px; fill: #000; opacity: 1;\">6</text><text text-anchor=\"end\" transform=\"translate(-7,169.66666666666669)\" style=\"font-family: sans-serif; font-size: 10px; fill: #000; opacity: 1;\">8</text><text text-anchor=\"end\" transform=\"translate(-7,103)\" style=\"font-family: sans-serif; font-size: 10px; fill: #000; opacity: 1;\">12</text><text text-anchor=\"end\" transform=\"translate(-7,69.66666666666666)\" style=\"font-family: sans-serif; font-size: 10px; fill: #000; opacity: 1;\">14</text><text text-anchor=\"end\" transform=\"translate(-7,36.33333333333337)\" style=\"font-family: sans-serif; font-size: 10px; fill: #000; opacity: 1;\">16</text><text text-anchor=\"end\" transform=\"translate(-7,3)\" style=\"font-family: sans-serif; font-size: 10px; fill: #000; opacity: 1;\">18</text></g><g class=\"mark-rule role-axis-domain\" style=\"pointer-events: none;\"><line transform=\"translate(0,300)\" x2=\"0\" y2=\"-300\" style=\"fill: none; stroke: #888; stroke-width: 1; opacity: 1;\"></line></g><g class=\"mark-text role-axis-title\" style=\"pointer-events: none;\"><text text-anchor=\"middle\" transform=\"translate(-23,150) rotate(-90) translate(0,-2)\" style=\"font-family: sans-serif; font-size: 11px; font-weight: bold; fill: #000; opacity: 1;\">Count of Records</text></g></g></g></g></g></g></g><g class=\"mark-group role-legend\"><g transform=\"translate(1080,0)\"><path class=\"background\" d=\"M0,0h33v216h-33Z\" style=\"pointer-events: none; fill: none;\"></path><g><g class=\"mark-group role-legend-entry\"><g transform=\"translate(0,16)\"><path class=\"background\" d=\"M0,0h0v0h0Z\" style=\"pointer-events: none; fill: none;\"></path><g><g class=\"mark-rect role-legend-gradient\" style=\"pointer-events: none;\"><path d=\"M0,0h16v200h-16Z\" style=\"fill: url(#gradient_0); stroke: #ddd; stroke-width: 0; opacity: 0.7;\"></path></g><g class=\"mark-text role-legend-label\" style=\"pointer-events: none;\"><text text-anchor=\"start\" transform=\"translate(18,163.22406388895604)\" style=\"font-family: sans-serif; font-size: 10px; fill: #000; opacity: 1;\">0.2</text><text text-anchor=\"start\" transform=\"translate(18,123.15800622782116)\" style=\"font-family: sans-serif; font-size: 10px; fill: #000; opacity: 1;\">0.4</text><text text-anchor=\"start\" transform=\"translate(18,83.09194856668628)\" style=\"font-family: sans-serif; font-size: 10px; fill: #000; opacity: 1;\">0.6</text><text text-anchor=\"start\" transform=\"translate(18,43.02589090555142)\" style=\"font-family: sans-serif; font-size: 10px; fill: #000; opacity: 1;\">0.8</text></g></g></g></g><g class=\"mark-text role-legend-title\" style=\"pointer-events: none;\"><text text-anchor=\"start\" transform=\"translate(0,9)\" style=\"font-family: sans-serif; font-size: 11px; font-weight: bold; fill: #000; opacity: 1;\">x3</text></g></g></g></g></g></g></g></g></svg>"
      ],
      "text/plain": [
       "VegaLite.VLSpec{:plot}"
      ]
     },
     "execution_count": 5,
     "metadata": {},
     "output_type": "execute_result"
    }
   ],
   "source": [
    "cm = countmap(z)\n",
    "counter = zeros(length(cm))\n",
    "hdots = zeros(N)\n",
    "for (i,v) in enumerate(z)\n",
    "    counter[v+1]+=1\n",
    "    hdots[i] = counter[v+1]\n",
    "end\n",
    "\n",
    "\n",
    "df = DataFrame([z,hdots,theta_s,collect(1:length(z))]);\n",
    "\n",
    "points = df |> vl\"\"\"\n",
    "{\n",
    "\"hconcat\" : [\n",
    "  {\n",
    "    \"view\":{\"stroke\" : null},\n",
    "    \"layer\": [{\n",
    "\n",
    "    \n",
    "    \"selection\": {\n",
    "      \"brush\": {\"type\": \"interval\",\"encodings\": [\"x\"],\"init\":{\"x\": [3.6, 4.4]}}\n",
    "    },\n",
    "    \"view\":{\"stroke\" : null},\n",
    "    \"width\": 500,\n",
    "    \"height\": 300,\n",
    "    \"mark\": \"square\",\n",
    "    \"encoding\": {\n",
    "        \"x\": {\"field\": \"x1\", \"type\": \"quantitative\",\"axis\": {\"grid\":false, \"title\":\"Samples\"}},\n",
    "        \"y\": {\"field\": \"x2\", \"type\": \"quantitative\", \"axis\": null},\n",
    "        \"size\":{\"value\":100},\n",
    "        \"color\": {\n",
    "              \"condition\": {\"selection\": \"brush\", \"field\": \"x3\", \"type\": \"quantitative\"},\n",
    "              \"value\": \"grey\"\n",
    "            }\n",
    "        }\n",
    "}]},\n",
    "  {\n",
    "    \"layer\":[{\n",
    "    \"transform\": [\n",
    "      {\"filter\": {\"selection\": \"brush\"}}\n",
    "    ],\n",
    "    \"width\": 500,\n",
    "    \"height\": 300,\n",
    "    \"mark\": \"bar\",\n",
    "    \"encoding\": {\n",
    "    \"x\": {\n",
    "        \"bin\":{\"maxbins\":20},\n",
    "        \"field\": \"x3\",\n",
    "        \"type\": \"quantitative\"\n",
    "    },\n",
    "    \"y\": {\n",
    "        \"aggregate\": \"count\",\n",
    "        \"type\": \"quantitative\"\n",
    "      }\n",
    "    }}\n",
    "    ]\n",
    "}]\n",
    "}\n",
    "\"\"\""
   ]
  },
  {
   "cell_type": "markdown",
   "metadata": {},
   "source": [
    "### **Alorithm 2** - Likelihood-free rejection sampler 2\n",
    "\n",
    "Let's write the functions for calculating the distances between the variables."
   ]
  },
  {
   "cell_type": "markdown",
   "metadata": {},
   "source": [
    "**Auxiliary Functions** "
   ]
  },
  {
   "cell_type": "code",
   "execution_count": 15,
   "metadata": {
    "jupyter": {
     "source_hidden": true
    }
   },
   "outputs": [
    {
     "data": {
      "text/plain": [
       "Ger_Simga (generic function with 1 method)"
      ]
     },
     "execution_count": 15,
     "metadata": {},
     "output_type": "execute_result"
    }
   ],
   "source": [
    "MA(current, u,t) = u[current+2] + u[current + 1] * t[1] + u[current] * t[2]\n",
    "\n",
    "function genMA(u,t,n,N)\n",
    "    z = zeros(N,n)\n",
    "        for i=1:N\n",
    "            z[i,:] = MA.((1:n),Ref(u[i,:]),Ref(t[i,:]))\n",
    "        end\n",
    "    return z\n",
    "end\n",
    "\n",
    "raw_distance(y,z)         = sqrt(sum((y-z).^2))\n",
    "function abcautocov_distance(y,z)\n",
    "    ay = 0\n",
    "    az = 0\n",
    "    for i = 2:length(y)\n",
    "        ay +=y[i]*y[i-1]\n",
    "        az +=z[i]*z[i-1]\n",
    "    end\n",
    "    ay2 = 0\n",
    "    az2 = 0\n",
    "    for i = 3:length(y)\n",
    "        ay2 +=y[i]*y[i-2]\n",
    "        az2 +=z[i]*z[i-2]\n",
    "    end\n",
    "    rho = (ay - az)^2+(ay2 - az2)^2 +(sum(y.^2)- sum(z.^2))^2 # Codigo com lag = 0 apresentou melhor resultado aparentemente\n",
    "#     rho = (ay - az)^2+(ay2 - az2)^2\n",
    "    return rho\n",
    "end\n",
    "\n",
    "function rand_TriUniform(N=1)\n",
    "    trisample = zeros(N,2)\n",
    "    count = 0\n",
    "    while count < N\n",
    "        theta = [4*rand()-2;2*rand()-1]\n",
    "        if (theta[1]>-2 && theta[1]<2) && (sum(theta)>-1) && (theta[1]-theta[2] < 1)\n",
    "            count+=1\n",
    "            trisample[count,:] = theta\n",
    "        end\n",
    "    end\n",
    "    return trisample\n",
    "end\n",
    "autocov_vectorize(z)    = abcautocov_distance(y,z)\n",
    "dist_vectorize(z)       = raw_distance(y,z)\n",
    "\n",
    "function Ger_Simga(θ1,θ2, y)\n",
    "    Σ = zeros(100,100)\n",
    "    for i=1:length(y)\n",
    "        if i == 1\n",
    "            Σ[i,i]   = 1 + θ1^2 + θ2^2\n",
    "            Σ[i,i+1] = θ1 + θ1*θ2\n",
    "            Σ[i,i+2] = θ2\n",
    "        elseif i == 2\n",
    "            Σ[i,i-1] = θ1 + θ1*θ2\n",
    "            Σ[i,i]   = 1 + θ1^2 + θ2^2\n",
    "            Σ[i,i+1] = θ1 + θ1*θ2\n",
    "            Σ[i,i+2] = θ2\n",
    "        elseif i == 99\n",
    "            Σ[i,i-2] = θ2\n",
    "            Σ[i,i-1] = θ1 + θ1*θ2\n",
    "            Σ[i,i]   = 1 + θ1^2 + θ2^2\n",
    "            Σ[i,i+1] = θ1 + θ1*θ2\n",
    "        elseif i == 100\n",
    "            Σ[i,i-2] = θ2\n",
    "            Σ[i,i-1] = θ1 + θ1*θ2\n",
    "            Σ[i,i]   = 1 + θ1^2 + θ2^2\n",
    "        else\n",
    "            Σ[i,i-2] = θ2\n",
    "            Σ[i,i-1] = θ1 + θ1*θ2\n",
    "            Σ[i,i]   = 1 + θ1^2 + θ2^2\n",
    "            Σ[i,i+1] = θ1 + θ1*θ2\n",
    "            Σ[i,i+2] = θ2\n",
    "        end\n",
    "    end\n",
    "\n",
    "    return Σ\n",
    "end"
   ]
  },
  {
   "cell_type": "markdown",
   "metadata": {},
   "source": [
    "##### **Synthetic Dataset**\n",
    "###### Moving Average model (MA)\n",
    "$y_k = u_k + \\sum_{i=1}^q \\theta_i u_{k-i}$\n",
    "\n",
    "$y \\sim MA(q)$\n",
    "\n",
    "$(\\theta_1,\\theta_2) =(0.6,0.2)$,sample size of 100."
   ]
  },
  {
   "cell_type": "code",
   "execution_count": 11,
   "metadata": {},
   "outputs": [],
   "source": [
    "using Random\n",
    "Random.seed!(3)\n",
    "theta = [0.6;0.2]\n",
    "n     = 100\n",
    "u     = randn(n+2)\n",
    "y     = MA.((1:n),Ref(u),Ref(theta));"
   ]
  },
  {
   "cell_type": "markdown",
   "metadata": {},
   "source": [
    "##### **Running ABC** "
   ]
  },
  {
   "cell_type": "code",
   "execution_count": 12,
   "metadata": {},
   "outputs": [],
   "source": [
    "# Random.seed!(1)\n",
    "N = 10^6        # number of trials\n",
    "n = length(y) # sample size\n",
    "theta_s = rand_TriUniform(N)\n",
    "u       = randn(N,n+2)\n",
    "z       = genMA(u,theta_s,n,N);"
   ]
  },
  {
   "cell_type": "code",
   "execution_count": 14,
   "metadata": {},
   "outputs": [],
   "source": [
    "rho_autocov = mapslices(autocov_vectorize, z, dims =2)[:];\n",
    "epsilon10e4_autocov = quantile(rho_autocov,0.1/100)\n",
    "theta_ac_auto = theta_s[rho_autocov .< epsilon10e4_autocov,:];"
   ]
  },
  {
   "cell_type": "code",
   "execution_count": 28,
   "metadata": {},
   "outputs": [
    {
     "data": {
      "image/png": "[encoded data removed]",
      "text/plain": [
       "PyPlot.Figure(PyObject <Figure size 600x500 with 1 Axes>)"
      ]
     },
     "metadata": {},
     "output_type": "display_data"
    }
   ],
   "source": [
    "plot(Plots.P2[(0,-1),(-2,1),(2,1),(0,-1)],fill=true,color=:orange,alpha=0.1,label=\"Prior\")\n",
    "scatter!(theta_ac_auto[:,1],theta_ac_auto[:,2],xlims=[-2,2],alpha=0.5,markerstrokewidth=0,\n",
    "    c=\"#3498db\", label=\"ABC samples\")\n",
    "\n",
    "\n",
    "# Contour Plot - True posterior\n",
    "gθ1      = -0:0.02:1\n",
    "gθ2      = -0.5:0.02:0.5\n",
    "gridθ1   = repeat(reshape(gθ1, 1, :), length(gθ2), 1)\n",
    "gridθ2   = repeat(gθ2, 1, length(gθ1))\n",
    "mamvn(θ1,θ2) = pdf(MvNormal(zeros(100),Ger_Simga(θ1,θ2,y)),y)\n",
    "Z = map(mamvn, gridθ1, gridθ2)\n",
    "p1 = contour!(gθ1,gθ2, mamvn, fill=false,c=:black,levels=8,\n",
    "    xlabel=L\"\\theta_1\", ylabel=L\"\\theta_2\",colorbar=false)\n",
    "\n",
    "s = scatter!([theta[1]],[theta[2]],markersize=5,c=\"#e74c3c\",size=(600,500),\n",
    "    framestyle=:box,grid=false, label=\"True Parameter\")\n",
    "savefig(s, \"./images/ABCmodel1.png\")"
   ]
  },
  {
   "cell_type": "code",
   "execution_count": null,
   "metadata": {},
   "outputs": [],
   "source": []
  }
 ],
 "metadata": {
  "kernelspec": {
   "display_name": "Julia 1.0.5",
   "language": "julia",
   "name": "julia-1.0"
  },
  "language_info": {
   "file_extension": ".jl",
   "mimetype": "application/julia",
   "name": "julia",
   "version": "1.0.5"
  }
 },
 "nbformat": 4,
 "nbformat_minor": 4
}
