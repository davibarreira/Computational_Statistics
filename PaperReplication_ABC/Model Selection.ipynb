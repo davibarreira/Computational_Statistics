{
 "cells": [
  {
   "cell_type": "markdown",
   "metadata": {},
   "source": [
    "# Model Selection - ABC"
   ]
  },
  {
   "cell_type": "code",
   "execution_count": 110,
   "metadata": {},
   "outputs": [
    {
     "data": {
      "text/plain": [
       "Plots.PyPlotBackend()"
      ]
     },
     "execution_count": 110,
     "metadata": {},
     "output_type": "execute_result"
    }
   ],
   "source": [
    "using Distributions, StatsPlots, Plots, StatsBase, LinearAlgebra, KernelDensity\n",
    "using LaTeXStrings, ProgressMeter\n",
    "pyplot()"
   ]
  },
  {
   "cell_type": "markdown",
   "metadata": {},
   "source": [
    "#### **Auxiliary Functions**"
   ]
  },
  {
   "cell_type": "markdown",
   "metadata": {},
   "source": [
    "Sample from Triangular Uniform "
   ]
  },
  {
   "cell_type": "code",
   "execution_count": 94,
   "metadata": {
    "jupyter": {
     "source_hidden": true
    }
   },
   "outputs": [],
   "source": [
    "function rand_TriUniform(N=1)\n",
    "    trisample = zeros(N,2)\n",
    "    count = 0\n",
    "    while count < N\n",
    "        theta = [4*rand()-2;2*rand()-1]\n",
    "        if (theta[1]>-2 && theta[1]<2) && (sum(theta)>-1) && (theta[1]-theta[2] < 1)\n",
    "            count+=1\n",
    "            trisample[count,:] = theta\n",
    "        end\n",
    "    end\n",
    "    return trisample\n",
    "end;"
   ]
  },
  {
   "cell_type": "markdown",
   "metadata": {},
   "source": [
    "Moving Averge Functions"
   ]
  },
  {
   "cell_type": "code",
   "execution_count": 95,
   "metadata": {
    "jupyter": {
     "source_hidden": true
    }
   },
   "outputs": [],
   "source": [
    "MA2(current, u,t) = u[current+2] + u[current + 1] * t[1] + u[current] * t[2]\n",
    "\n",
    "function genMA2(u,t,n,N)\n",
    "    z = zeros(N,n)\n",
    "        for i=1:N\n",
    "            z[i,:] = MA2.((1:n),Ref(u[i,:]),Ref(t[i,:]))\n",
    "        end\n",
    "    return z\n",
    "end\n",
    "\n",
    "MA1(current, u,t) = u[current+1] + u[current] * t[1]\n",
    "\n",
    "function genMA1(u,t,n,N)\n",
    "    z = zeros(N,n)\n",
    "        for i=1:N\n",
    "            z[i,:] = MA1.((1:n),Ref(u[i,:]),Ref(t[i,:]))\n",
    "        end\n",
    "    return z\n",
    "end;"
   ]
  },
  {
   "cell_type": "markdown",
   "metadata": {},
   "source": [
    "AutoCovariance"
   ]
  },
  {
   "cell_type": "code",
   "execution_count": 96,
   "metadata": {
    "jupyter": {
     "source_hidden": true
    }
   },
   "outputs": [],
   "source": [
    "function abcautocov_distance(y,z)\n",
    "    ay = 0\n",
    "    az = 0\n",
    "    for i = 2:length(y)\n",
    "        ay +=y[i]*y[i-1]\n",
    "        az +=z[i]*z[i-1]\n",
    "    end\n",
    "    ay2 = 0\n",
    "    az2 = 0\n",
    "    for i = 3:length(y)\n",
    "        ay2 +=y[i]*y[i-2]\n",
    "        az2 +=z[i]*z[i-2]\n",
    "    end\n",
    "    rho = (ay - az)^2+(ay2 - az2)^2\n",
    "    return rho\n",
    "end\n",
    "autocov_vectorize(z)    = abcautocov_distance(y,z);"
   ]
  },
  {
   "cell_type": "markdown",
   "metadata": {},
   "source": [
    "Likelihood for Moving Average "
   ]
  },
  {
   "cell_type": "code",
   "execution_count": 97,
   "metadata": {
    "jupyter": {
     "source_hidden": true
    }
   },
   "outputs": [],
   "source": [
    "function Ger_SimgaM2(θ1,θ2, y)\n",
    "    Σ = zeros(100,100)\n",
    "    for i=1:length(y)\n",
    "        if i == 1\n",
    "            Σ[i,i]   = 1 + θ1^2 + θ2^2\n",
    "            Σ[i,i+1] = θ1 + θ1*θ2\n",
    "            Σ[i,i+2] = θ2\n",
    "        elseif i == 2\n",
    "            Σ[i,i-1] = θ1 + θ1*θ2\n",
    "            Σ[i,i]   = 1 + θ1^2 + θ2^2\n",
    "            Σ[i,i+1] = θ1 + θ1*θ2\n",
    "            Σ[i,i+2] = θ2\n",
    "        elseif i == 99\n",
    "            Σ[i,i-2] = θ2\n",
    "            Σ[i,i-1] = θ1 + θ1*θ2\n",
    "            Σ[i,i]   = 1 + θ1^2 + θ2^2\n",
    "            Σ[i,i+1] = θ1 + θ1*θ2\n",
    "        elseif i == 100\n",
    "            Σ[i,i-2] = θ2\n",
    "            Σ[i,i-1] = θ1 + θ1*θ2\n",
    "            Σ[i,i]   = 1 + θ1^2 + θ2^2\n",
    "        else\n",
    "            Σ[i,i-2] = θ2\n",
    "            Σ[i,i-1] = θ1 + θ1*θ2\n",
    "            Σ[i,i]   = 1 + θ1^2 + θ2^2\n",
    "            Σ[i,i+1] = θ1 + θ1*θ2\n",
    "            Σ[i,i+2] = θ2\n",
    "        end\n",
    "    end\n",
    "\n",
    "    return Σ\n",
    "end\n",
    "\n",
    "function Ger_SimgaM1(θ1,θ2, y)\n",
    "    Σ = zeros(100,100)\n",
    "    for i=1:length(y)\n",
    "        if i == 1\n",
    "            Σ[i,i]   = 1 + θ1^2\n",
    "            Σ[i,i+1] = θ1\n",
    "        elseif i == 2\n",
    "            Σ[i,i-1] = θ1\n",
    "            Σ[i,i]   = 1 + θ1^2\n",
    "            Σ[i,i+1] = θ1\n",
    "        elseif i == 99\n",
    "            Σ[i,i-1] = θ1\n",
    "            Σ[i,i]   = 1 + θ1^2\n",
    "            Σ[i,i+1] = θ1\n",
    "        elseif i == 100\n",
    "            Σ[i,i-1] = θ1\n",
    "            Σ[i,i]   = 1 + θ1^2\n",
    "        else\n",
    "            Σ[i,i-1] = θ1\n",
    "            Σ[i,i]   = 1 + θ1^2\n",
    "            Σ[i,i+1] = θ1\n",
    "        end\n",
    "    end\n",
    "\n",
    "    return Σ\n",
    "    end;"
   ]
  },
  {
   "cell_type": "markdown",
   "metadata": {},
   "source": [
    "## **Model Choice for MA(2)**"
   ]
  },
  {
   "cell_type": "markdown",
   "metadata": {},
   "source": [
    "#### Synthetic Data"
   ]
  },
  {
   "cell_type": "code",
   "execution_count": 99,
   "metadata": {},
   "outputs": [],
   "source": [
    "using Random\n",
    "Random.seed!(3)\n",
    "theta = [0.6;0.38]\n",
    "n     = 100\n",
    "u     = randn(n+2)\n",
    "y     = MA2.((1:n),Ref(u),Ref(theta));"
   ]
  },
  {
   "cell_type": "markdown",
   "metadata": {},
   "source": [
    "#### Contour Plot"
   ]
  },
  {
   "cell_type": "code",
   "execution_count": 100,
   "metadata": {},
   "outputs": [],
   "source": [
    "# Contour Plot - True posterior\n",
    "gθ1      = 0:0.02:1\n",
    "gθ2      = -0.5:0.02:0.8\n",
    "gridθ1   = repeat(reshape(gθ1, 1, :), length(gθ2), 1)\n",
    "gridθ2   = repeat(gθ2, 1, length(gθ1))\n",
    "mamvnM2(θ1,θ2) = pdf(MvNormal(zeros(100),Ger_SimgaM2(θ1,θ2,y)),y)\n",
    "mamvnM1(θ1,θ2) = pdf(MvNormal(zeros(100),Ger_SimgaM1(θ1,θ2,y)),y);"
   ]
  },
  {
   "cell_type": "code",
   "execution_count": 101,
   "metadata": {},
   "outputs": [
    {
     "data": {
      "image/png": "[encoded data removed]"
     },
     "execution_count": 101,
     "metadata": {},
     "output_type": "execute_result"
    }
   ],
   "source": [
    "plot(Plots.P2[(0,-1),(-2,1),(2,1),(0,-1)],fill=true,color=:orange,alpha=0.1)\n",
    "p1 = contour!(gθ1,gθ2, mamvnM2, fill=false,c=:black,levels=8,\n",
    "    xlabel=L\"\\theta_1\", ylabel=L\"\\theta_2\",colorbar=false)"
   ]
  },
  {
   "cell_type": "markdown",
   "metadata": {},
   "source": [
    "#### Real Bayes Factor\n",
    "Let's consider that $P(M_1) = P(M_2) = 0.5$, then:\n",
    "$$\n",
    "\\frac{P(M_2 \\mid y)}{P(M_1 \\mid y)} = \\frac{P(y \\mid M_2)P(M_2)}{P(y \\mid M_1)P(M_1)} =\n",
    "\\frac{P(y \\mid M_2)}{P(y \\mid M_1)} =\n",
    "\\frac{\\int \\int P(y, \\theta_1, \\theta_2 \\mid M_2)d\\theta_1d\\theta_2}\n",
    "{\\int P(y, \\theta_1 \\mid M_1)d\\theta_1}=\n",
    "\\frac{\\int \\int P(y \\mid \\theta_1, \\theta_2, M_2)\\pi(\\theta_1,\\theta_2 \\mid M_2)d\\theta_1d\\theta_2}\n",
    "{\\int P(y \\mid \\theta_1, M_1)\\pi(\\theta_1 \\mid M_1)d\\theta_1}\n",
    "$$\n",
    "\n",
    "Since,\n",
    "$$\\pi(\\theta_1,\\theta_2 \\mid M_2) = \\frac{1}{4} \\unicode{x1D7D9}_{1+\\theta_1^2 + \\theta_2^2 \\leq 1}$$\n",
    "$$\\pi(\\theta_1 \\mid M_1) = \\frac{1}{2} \\unicode{x1D7D9}_{\\theta_1^2\\leq 1}$$\n"
   ]
  },
  {
   "cell_type": "code",
   "execution_count": 102,
   "metadata": {},
   "outputs": [
    {
     "data": {
      "text/plain": [
       "1.4049039649715063e-60"
      ]
     },
     "execution_count": 102,
     "metadata": {},
     "output_type": "execute_result"
    }
   ],
   "source": [
    "Ns = 20_000\n",
    "# Z = mamvnM2.(rand(Ns),rand(Ns) .- 0.5)\n",
    "Z = mamvnM2.(rand(Ns),rand(Ns))\n",
    "ZM2 = sum(Z)/Ns\n",
    "ZM1 = sum(mamvnM1.(rand(Ns),0))/Ns"
   ]
  },
  {
   "cell_type": "code",
   "execution_count": 103,
   "metadata": {},
   "outputs": [
    {
     "data": {
      "text/plain": [
       "(20.024637574860527, 0.9524367544296832, 0.04756324557031677)"
      ]
     },
     "execution_count": 103,
     "metadata": {},
     "output_type": "execute_result"
    }
   ],
   "source": [
    "BF = (ZM2/4)/(ZM1/2)\n",
    "PM2= (BF)/(1+BF)\n",
    "PM1= 1-(BF)/(1+BF)\n",
    "BF,PM2,PM1"
   ]
  },
  {
   "cell_type": "code",
   "execution_count": 104,
   "metadata": {},
   "outputs": [
    {
     "data": {
      "image/png": "[encoded data removed]"
     },
     "execution_count": 104,
     "metadata": {},
     "output_type": "execute_result"
    }
   ],
   "source": [
    "plot(gθ1,exp.(log.(mamvnM1.(gθ1,0)) .- log(ZM1)))"
   ]
  },
  {
   "cell_type": "markdown",
   "metadata": {},
   "source": [
    "## ABC Model Choice"
   ]
  },
  {
   "cell_type": "code",
   "execution_count": 105,
   "metadata": {},
   "outputs": [
    {
     "data": {
      "text/plain": [
       "4-element Array{Float64,1}:\n",
       " 1646.3143643043277   \n",
       "  159.60357868913658  \n",
       "   16.69488584408776  \n",
       "    1.5864534323687307"
      ]
     },
     "execution_count": 105,
     "metadata": {},
     "output_type": "execute_result"
    }
   ],
   "source": [
    "N = 10^6        # number of trials\n",
    "n = length(y) # sample size\n",
    "theta_ms= rand_TriUniform(N)\n",
    "u       = randn(N,n+2)\n",
    "zm2     = genMA2(u,theta_ms,n,N);\n",
    "\n",
    "rho_M2 = mapslices(autocov_vectorize, zm2, dims =2)[:];\n",
    "epsilon_M2 = quantile.(Ref(rho_M2[:]),[10,1,0.1,0.01]./100)"
   ]
  },
  {
   "cell_type": "code",
   "execution_count": 114,
   "metadata": {},
   "outputs": [
    {
     "data": {
      "text/plain": [
       "ModelChoiceABC (generic function with 2 methods)"
      ]
     },
     "execution_count": 114,
     "metadata": {},
     "output_type": "execute_result"
    }
   ],
   "source": [
    "function ModelChoiceABC(ϵ,Nm=100)\n",
    "    mi = zeros(Nm)\n",
    "    θM = zeros(Nm,2)\n",
    "    p = Progress(Nm)\n",
    "    for i = 1:Nm\n",
    "        M = 0\n",
    "        θm= [0.,0.]\n",
    "        ρ = ϵ*2\n",
    "        while ρ > ϵ\n",
    "            M  = rand(1:2)\n",
    "            u  = randn(n+2)\n",
    "            if M == 1\n",
    "                θm = rand(2).*2 .-1\n",
    "                zm = MA1.((1:n),Ref(u),Ref(θm));\n",
    "            else\n",
    "                θm = rand_TriUniform(1)\n",
    "                zm = MA2.((1:n),Ref(u),Ref(θm));\n",
    "            end\n",
    "            ρ = abcautocov_distance(y,zm)\n",
    "        end \n",
    "        mi[i]   = M\n",
    "        θM[i,:] = θm\n",
    "        next!(p)\n",
    "    end\n",
    "    return mi,θM\n",
    "end"
   ]
  },
  {
   "cell_type": "code",
   "execution_count": 115,
   "metadata": {},
   "outputs": [
    {
     "name": "stderr",
     "output_type": "stream",
     "text": [
      "\u001b[32mProgress: 100%|█████████████████████████████████████████| Time: 0:00:00\u001b[39m\n",
      "\u001b[32mProgress: 100%|█████████████████████████████████████████| Time: 0:00:05\u001b[39m\n",
      "\u001b[32mProgress: 100%|█████████████████████████████████████████| Time: 0:00:55\u001b[39m\n"
     ]
    },
    {
     "data": {
      "text/plain": [
       "4-element Array{Tuple{Array{Float64,1},Array{Float64,2}},1}:\n",
       " ([1.0, 2.0, 1.0, 1.0, 1.0, 1.0, 2.0, 1.0, 1.0, 2.0  …  2.0, 2.0, 2.0, 1.0, 2.0, 2.0, 1.0, 1.0, 1.0, 2.0], [0.486004 0.463041; 0.213116 0.604234; … ; 0.837499 0.686166; 0.207513 0.387548])\n",
       " ([1.0, 2.0, 2.0, 2.0, 2.0, 2.0, 2.0, 2.0, 2.0, 2.0  …  2.0, 2.0, 2.0, 1.0, 2.0, 2.0, 1.0, 2.0, 2.0, 2.0], [0.338457 -0.896507; 0.234195 0.710696; … ; 0.428964 0.47465; 0.531046 0.462202])\n",
       " ([2.0, 2.0, 2.0, 2.0, 2.0, 2.0, 2.0, 2.0, 1.0, 2.0  …  2.0, 2.0, 2.0, 2.0, 2.0, 2.0, 2.0, 1.0, 2.0, 2.0], [0.642788 0.717269; 0.510782 0.22728; … ; 0.563296 0.425618; 0.532758 0.651945]) \n",
       " ([2.0, 2.0, 2.0, 2.0, 2.0, 2.0, 2.0, 2.0, 2.0, 2.0  …  2.0, 2.0, 1.0, 1.0, 1.0, 2.0, 2.0, 2.0, 2.0, 2.0], [0.381189 0.27235; 0.409561 0.0255978; … ; 0.206598 0.398155; 0.552005 0.455601])"
      ]
     },
     "execution_count": 115,
     "metadata": {},
     "output_type": "execute_result"
    }
   ],
   "source": [
    "pM2= zeros(length(epsilon_M2),2)\n",
    "Nm = 10_00\n",
    "results = ModelChoiceABC.(epsilon_M2,Nm)"
   ]
  },
  {
   "cell_type": "code",
   "execution_count": 116,
   "metadata": {},
   "outputs": [
    {
     "data": {
      "image/png": "[encoded data removed]"
     },
     "execution_count": 116,
     "metadata": {},
     "output_type": "execute_result"
    }
   ],
   "source": [
    "for i = 1:length(epsilon_M2)\n",
    "    pM2[i,2] = sum(results[i][1] .== 2)/Nm\n",
    "    pM2[i,1] = 1-sum(results[i][1] .== 2)/Nm\n",
    "end\n",
    "xbar = [L\"M_1\",L\"M_2\"]\n",
    "colorsbar = [\"#FFAAAA\",\"#D46A6A\",\"#AA3939\",\"#801515\"]\n",
    "b = []\n",
    "for i = 1:4\n",
    "    push!(b,bar(xbar,pM2[i,:],fillcolor=colorsbar[i],ylims=[0,1],legend=false,grid=false))\n",
    "end \n",
    "plot(b[1],b[2],b[3],b[4],layout=(1,4),size=(1000,400))"
   ]
  },
  {
   "cell_type": "markdown",
   "metadata": {},
   "source": [
    "## **Model Choice for MA(1)**"
   ]
  },
  {
   "cell_type": "code",
   "execution_count": 47,
   "metadata": {},
   "outputs": [
    {
     "data": {
      "image/png": "[encoded data removed]"
     },
     "execution_count": 47,
     "metadata": {},
     "output_type": "execute_result"
    }
   ],
   "source": [
    "Random.seed!(3)\n",
    "theta = [0.6;0.0]\n",
    "n     = 100\n",
    "u     = randn(n+2)\n",
    "y     = MA1.((1:n),Ref(u),Ref(theta));\n",
    "\n",
    "# Contour Plot - True posterior\n",
    "gθ1      = 0:0.02:1\n",
    "gθ2      = -0.5:0.02:0.8\n",
    "gridθ1   = repeat(reshape(gθ1, 1, :), length(gθ2), 1)\n",
    "gridθ2   = repeat(gθ2, 1, length(gθ1))\n",
    "mamvnM2(θ1,θ2) = pdf(MvNormal(zeros(100),Ger_SimgaM2(θ1,θ2,y)),y)\n",
    "mamvnM1(θ1,θ2) = pdf(MvNormal(zeros(100),Ger_SimgaM1(θ1,θ2,y)),y);\n",
    "\n",
    "plot(Plots.P2[(0,-1),(-2,1),(2,1),(0,-1)],fill=true,color=:orange,alpha=0.1)\n",
    "p1 = contour!(gθ1,gθ2, mamvnM2, fill=false,c=:black,levels=8,\n",
    "    xlabel=L\"\\theta_1\", ylabel=L\"\\theta_2\",colorbar=false)"
   ]
  },
  {
   "cell_type": "markdown",
   "metadata": {},
   "source": [
    "#### Real Bayes Factor"
   ]
  },
  {
   "cell_type": "code",
   "execution_count": 48,
   "metadata": {},
   "outputs": [
    {
     "data": {
      "text/plain": [
       "(0.06018138911093881, 0.05676518162746332, 0.9432348183725366)"
      ]
     },
     "execution_count": 48,
     "metadata": {},
     "output_type": "execute_result"
    }
   ],
   "source": [
    "Ns = 20_000\n",
    "# Z = mamvnM2.(rand(Ns),rand(Ns) .- 0.5)\n",
    "Z = mamvnM2.(rand(Ns),rand(Ns))\n",
    "ZM2 = sum(Z)/Ns\n",
    "ZM1 = sum(mamvnM1.(rand(Ns),0))/Ns\n",
    "\n",
    "BF = (ZM2/4)/(ZM1/2)\n",
    "PM2= (BF)/(1+BF)\n",
    "PM1= 1-(BF)/(1+BF)\n",
    "BF,PM2,PM1"
   ]
  },
  {
   "cell_type": "markdown",
   "metadata": {},
   "source": [
    "#### ABC Model Choice"
   ]
  },
  {
   "cell_type": "code",
   "execution_count": 49,
   "metadata": {},
   "outputs": [],
   "source": [
    "N = 10^6        # number of trials\n",
    "n = length(y) # sample size\n",
    "theta_ms= rand_TriUniform(N)\n",
    "u       = randn(N,n+2)\n",
    "zm2     = genMA2(u,theta_ms,n,N);\n",
    "\n",
    "rho_M1 = mapslices(autocov_vectorize, zm2, dims =2)[:];\n",
    "epsilon_M2 = quantile.(Ref(rho_M2[:]),[10,1,0.1,0.01]./100);"
   ]
  },
  {
   "cell_type": "code",
   "execution_count": 53,
   "metadata": {},
   "outputs": [
    {
     "data": {
      "text/plain": [
       "4-element Array{Tuple{Array{Float64,1},Array{Float64,2}},1}:\n",
       " ([1.0, 1.0, 1.0, 2.0, 2.0, 1.0, 1.0, 1.0, 1.0, 1.0  …  1.0, 1.0, 1.0, 1.0, 2.0, 1.0, 1.0, 1.0, 1.0, 1.0], [0.198905 0.794907; 0.736012 0.51712; … ; 0.731954 0.444089; 0.91408 0.363856])      \n",
       " ([1.0, 1.0, 1.0, 2.0, 1.0, 1.0, 1.0, 1.0, 1.0, 1.0  …  1.0, 1.0, 1.0, 1.0, 1.0, 2.0, 1.0, 1.0, 1.0, 2.0], [0.401471 -0.409838; 0.484326 0.107593; … ; 0.584755 -0.637845; 0.693711 -0.0928768])\n",
       " ([1.0, 1.0, 1.0, 1.0, 1.0, 1.0, 1.0, 1.0, 1.0, 1.0  …  1.0, 2.0, 1.0, 1.0, 1.0, 1.0, 1.0, 1.0, 1.0, 2.0], [0.421837 -0.540495; 0.382257 0.910262; … ; 0.590289 0.49086; 0.360788 -0.0268669])  \n",
       " ([2.0, 1.0, 1.0, 2.0, 1.0, 2.0, 1.0, 1.0, 1.0, 1.0  …  1.0, 1.0, 1.0, 1.0, 1.0, 2.0, 2.0, 2.0, 1.0, 1.0], [0.550012 0.113906; 0.431069 -0.498046; … ; 0.23792 -0.403302; 0.29439 0.801665])    "
      ]
     },
     "execution_count": 53,
     "metadata": {},
     "output_type": "execute_result"
    }
   ],
   "source": [
    "pM1= zeros(length(epsilon_M2),2)\n",
    "Nm = 10_000\n",
    "results = ModelChoiceABC.(epsilon_M2,Nm)"
   ]
  },
  {
   "cell_type": "code",
   "execution_count": 81,
   "metadata": {},
   "outputs": [
    {
     "data": {
      "image/png": "[encoded data removed]"
     },
     "execution_count": 81,
     "metadata": {},
     "output_type": "execute_result"
    }
   ],
   "source": [
    "for i = 1:length(epsilon_M2)\n",
    "    pM1[i,2] = sum(results[i][1] .== 2)/Nm\n",
    "    pM1[i,1] = 1-sum(results[i][1] .== 2)/Nm\n",
    "end\n",
    "xbar = [L\"M_1\",L\"M_2\"]\n",
    "colorsbar = [\"#FFAAAA\",\"#D46A6A\",\"#AA3939\",\"#801515\"]\n",
    "b = []\n",
    "for i = 1:4\n",
    "#     h = hline([0.943],xlims=[1,4])\n",
    "#     annotate!([(1.5,0.97,\"Real\")])\n",
    "    push!(b,bar(xbar,pM1[i,:],fillcolor=colorsbar[i],ylims=[0,1],legend=false,grid=false))\n",
    "end \n",
    "plot(b[1],b[2],b[3],b[4],layout=(1,4),size=(1000,400))"
   ]
  },
  {
   "cell_type": "code",
   "execution_count": 55,
   "metadata": {},
   "outputs": [
    {
     "data": {
      "text/plain": [
       "4×2 Array{Float64,2}:\n",
       " 0.7695  0.2305\n",
       " 0.8146  0.1854\n",
       " 0.8302  0.1698\n",
       " 0.8307  0.1693"
      ]
     },
     "execution_count": 55,
     "metadata": {},
     "output_type": "execute_result"
    }
   ],
   "source": [
    "pM1"
   ]
  }
 ],
 "metadata": {
  "kernelspec": {
   "display_name": "Julia 1.0.5",
   "language": "julia",
   "name": "julia-1.0"
  },
  "language_info": {
   "file_extension": ".jl",
   "mimetype": "application/julia",
   "name": "julia",
   "version": "1.0.5"
  }
 },
 "nbformat": 4,
 "nbformat_minor": 4
}
