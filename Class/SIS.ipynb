{
 "cells": [
  {
   "cell_type": "code",
   "execution_count": 1,
   "metadata": {},
   "outputs": [],
   "source": [
    "import numpy as np\n",
    "import numpy.random as rng\n",
    "import scipy.stats as stats\n",
    "import matplotlib.pyplot as plt\n",
    "from statsmodels.graphics.tsaplots import plot_acf\n",
    "import seaborn as sns\n",
    "sns.set()"
   ]
  },
  {
   "cell_type": "code",
   "execution_count": 2,
   "metadata": {},
   "outputs": [],
   "source": [
    "# simulate Y(1:100)\n",
    "T = 100\n",
    "phi = .95\n",
    "sv = 1.0\n",
    "su = 1.0\n",
    "s0 = np.sqrt(su**2 / (1-phi**2))\n",
    "\n",
    "x = np.zeros(T)\n",
    "y = np.zeros(T)\n",
    "\n",
    "x[0] = s0 * rng.standard_normal()\n",
    "y[0] = x[0] + sv * rng.standard_normal()\n",
    "for i in range(1,T):\n",
    "  x[i] = phi * x[i-1] + su * rng.standard_normal()\n",
    "  y[i] = x[i] + sv * rng.standard_normal()\n"
   ]
  },
  {
   "cell_type": "code",
   "execution_count": 3,
   "metadata": {},
   "outputs": [],
   "source": [
    "# BOOTSTRAP SIS\n",
    "N = 1000\n",
    "XB = np.zeros(N*T).reshape(T,N)\n",
    "WB = np.zeros(N*T).reshape(T,N)\n",
    "\n",
    "# amostro aproximacao de p(x1|y1)\n",
    "XB[0] = s0 * rng.standard_normal(N) \n",
    "WB[0] = -(y[0]-XB[0])**2/(2*sv**2)\n",
    "# amostro condicionalmente aproximacao de p(x1:t|y1:t)\n",
    "for t in range(1,T):\n",
    "  XB[t] =  phi * XB[t-1] + su * rng.standard_normal(N)\n",
    "  WB[t] = WB[t-1] - (y[t]-XB[t])**2/(2*sv**2)"
   ]
  },
  {
   "cell_type": "code",
   "execution_count": 5,
   "metadata": {},
   "outputs": [],
   "source": [
    "# OPTIMAL SIS\n",
    "N = 1000\n",
    "XO = np.zeros(N*T).reshape(T,N)\n",
    "WO = np.zeros(N*T).reshape(T,N)\n",
    "\n",
    "so = np.sqrt(1/((1/sv**2)+(1/su**2)))\n",
    "mx = lambda x,y:(sv**2*y+su**2*phi*x)/(sv**2+su**2)\n",
    "so0 = np.sqrt(1/((1/s0**2)+(1/su**2)))\n",
    "\n",
    "# amostro aproximacao de p(x1|y1) de proposta otima\n",
    "XO[0] = mx(0,y[0]) + so0 * rng.standard_normal(N) \n",
    "WO[0] = y[0]**2/(sv**2+s0**2)*(-1/2)\n",
    "# amostro condicionalmente aproximacao de p(x1:t|y1:t)\n",
    "for t in range(1,T):\n",
    "  XO[t] =  mx(XO[t-1],y[t]) + so * rng.standard_normal(N) \n",
    "  WO[t] = WO[t-1] - (y[t]-phi*XO[t-1])**2/(2*(sv**2+su**2))"
   ]
  },
  {
   "cell_type": "code",
   "execution_count": 6,
   "metadata": {},
   "outputs": [],
   "source": [
    "def calc_weights(W,t):\n",
    "  w = W[t]\n",
    "  maxw = np.max(w)\n",
    "  sw = np.exp(w-maxw).sum()\n",
    "  return np.exp(w-maxw-np.log(sw))\n",
    "\n",
    "WBnorm = calc_weights(WB,-1)\n",
    "WOnorm = calc_weights(WO,-1)"
   ]
  },
  {
   "cell_type": "code",
   "execution_count": 9,
   "metadata": {},
   "outputs": [
    {
     "data": {
      "text/plain": [
       "[<matplotlib.lines.Line2D at 0x7f04e01a3860>]"
      ]
     },
     "execution_count": 9,
     "metadata": {},
     "output_type": "execute_result"
    },
    {
     "data": {
      "image/png": "[encoded data removed]",
      "text/plain": [
       "<Figure size 432x288 with 1 Axes>"
      ]
     },
     "metadata": {
      "needs_background": "light"
     },
     "output_type": "display_data"
    }
   ],
   "source": [
    "plt.plot(calc_weights(WB,20))"
   ]
  },
  {
   "cell_type": "code",
   "execution_count": null,
   "metadata": {},
   "outputs": [],
   "source": []
  }
 ],
 "metadata": {
  "kernelspec": {
   "display_name": "Python3(datascience)",
   "language": "python",
   "name": "datascience"
  },
  "language_info": {
   "codemirror_mode": {
    "name": "ipython",
    "version": 3
   },
   "file_extension": ".py",
   "mimetype": "text/x-python",
   "name": "python",
   "nbconvert_exporter": "python",
   "pygments_lexer": "ipython3",
   "version": "3.6.8"
  }
 },
 "nbformat": 4,
 "nbformat_minor": 4
}
