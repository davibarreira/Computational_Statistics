{
 "cells": [
  {
   "cell_type": "code",
   "execution_count": 12,
   "metadata": {},
   "outputs": [],
   "source": [
    "import numpy as np\n",
    "import numpy.random as rng\n",
    "import scipy.stats as stats\n",
    "import matplotlib.pyplot as plt\n",
    "from statsmodels.graphics.tsaplots import plot_acf\n",
    "import seaborn as sns\n",
    "sns.set()\n"
   ]
  },
  {
   "cell_type": "code",
   "execution_count": 15,
   "metadata": {},
   "outputs": [],
   "source": [
    "m = 10000\n",
    "x0 = np.zeros(2)\n",
    "x = np.empty((m,2))\n",
    "x[0] = x0"
   ]
  },
  {
   "cell_type": "code",
   "execution_count": 19,
   "metadata": {},
   "outputs": [
    {
     "data": {
      "text/plain": [
       "array([0.00000000e+000, 2.85267496e-316, 4.15911175e-312, ...,\n",
       "       2.67371470e-312, 2.65249474e-312, 2.63127478e-312])"
      ]
     },
     "execution_count": 19,
     "metadata": {},
     "output_type": "execute_result"
    }
   ],
   "source": [
    "plt.plot(x[:,0]\n",
    "sigma2"
   ]
  },
  {
   "cell_type": "code",
   "execution_count": 2,
   "metadata": {},
   "outputs": [
    {
     "name": "stdout",
     "output_type": "stream",
     "text": [
      "[[  5.     1.     5.    14.     3.    19.     1.     1.     4.    22.  ]\n",
      " [ 94.32  15.72  62.88 125.76   5.24  31.44   1.05   1.05   2.1   10.48]]\n"
     ]
    }
   ],
   "source": [
    "# Motivating example\n",
    "''' Pi|t_i,\\lambda_i \\sim Poisson(\\lambda_i, t_i'''\n",
    "data = np.array([5, 1, 5, 14, 3, 19, 1, 1, 4, 22, 94.32, 15.72, 62.88, 125.76, 5.24, 31.44, 1.05, 1.05, 2.10, 10.48]).reshape(2,10)\n",
    "print(data)"
   ]
  },
  {
   "cell_type": "code",
   "execution_count": 11,
   "metadata": {},
   "outputs": [
    {
     "data": {
      "text/plain": [
       "0.19692486375242307"
      ]
     },
     "execution_count": 11,
     "metadata": {},
     "output_type": "execute_result"
    }
   ],
   "source": [
    "beta[0] = rng.gamma(18.01,1/(1+lam[0].sum()))\n",
    "beta[0]"
   ]
  },
  {
   "cell_type": "code",
   "execution_count": 3,
   "metadata": {},
   "outputs": [],
   "source": [
    "# implementing gibbs sampling .. \n",
    "M = 10000\n",
    "lam = np.empty((M,10))\n",
    "beta = np.empty(M)\n",
    "\n",
    "# initial values\n",
    "lam[0] = data[1]/data[0]\n",
    "beta[0] = rng.gamma(18.01,1/(1+lam[0].sum()))\n",
    "\n",
    "# implement the Gibbs sampler\n",
    "for i in range(1,M):\n",
    "  # sample lambdas conditional on beta\n",
    "  for j in range(10):\n",
    "    lam[i][j] = rng.gamma(data[0][j]+1.8,1/(data[1][j]+beta[i-1]))\n",
    "    \n",
    "  beta[i] = rng.gamma(18.01, 1/(1+lam[i].sum()))"
   ]
  },
  {
   "cell_type": "code",
   "execution_count": 4,
   "metadata": {},
   "outputs": [
    {
     "data": {
      "text/plain": [
       "[<matplotlib.lines.Line2D at 0x7f193d46fc88>]"
      ]
     },
     "execution_count": 4,
     "metadata": {},
     "output_type": "execute_result"
    },
    {
     "data": {
      "image/png": "[encoded data removed]",
      "text/plain": [
       "<Figure size 432x288 with 1 Axes>"
      ]
     },
     "metadata": {
      "needs_background": "light"
     },
     "output_type": "display_data"
    }
   ],
   "source": [
    "# plotting samples\n",
    "burnin = 1000\n",
    "l = range(burnin,M)\n",
    "#plt.plot(beta[l])\n",
    "plt.plot(lam[l,2])"
   ]
  },
  {
   "cell_type": "code",
   "execution_count": null,
   "metadata": {},
   "outputs": [],
   "source": []
  }
 ],
 "metadata": {
  "kernelspec": {
   "display_name": "Python3(datascience)",
   "language": "python",
   "name": "datascience"
  },
  "language_info": {
   "codemirror_mode": {
    "name": "ipython",
    "version": 3
   },
   "file_extension": ".py",
   "mimetype": "text/x-python",
   "name": "python",
   "nbconvert_exporter": "python",
   "pygments_lexer": "ipython3",
   "version": "3.6.8"
  }
 },
 "nbformat": 4,
 "nbformat_minor": 4
}
